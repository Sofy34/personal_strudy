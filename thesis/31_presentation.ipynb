{
 "cells": [
  {
   "cell_type": "code",
   "execution_count": 5,
   "id": "02e4c5a0",
   "metadata": {},
   "outputs": [],
   "source": [
    "import sys\n",
    "sys.path.append('./src/')\n",
    "# import feature_utils\n",
    "import numpy as np\n",
    "import imp\n",
    "import pandas as pd\n",
    "import os\n",
    "from sklearn.metrics import classification_report, confusion_matrix, plot_confusion_matrix\n",
    "from sklearn.metrics import ConfusionMatrixDisplay  # flat_classification_report\n"
   ]
  },
  {
   "cell_type": "code",
   "execution_count": 15,
   "id": "69226e04",
   "metadata": {},
   "outputs": [],
   "source": [
    "def get_prediction_report(y_test, y_pred, labels, title=\"\"):\n",
    "    # ConfusionMatrixDisplay.from_predictions(y_test, y_pred,cmap='gray_r')\n",
    "    cm = confusion_matrix(y_test, y_pred, labels=labels)\n",
    "    disp = ConfusionMatrixDisplay(confusion_matrix=cm, display_labels=labels)\n",
    "    print(classification_report(y_test, y_pred, labels=labels))\n",
    "    disp.plot(cmap='gray_r')"
   ]
  },
  {
   "cell_type": "code",
   "execution_count": 7,
   "id": "00de9a3e",
   "metadata": {},
   "outputs": [],
   "source": [
    "path={}\n",
    "path[\"all_pred\"]='/dataframes/duplicate/fixed_pred_sm.ssa.per.client.csv'"
   ]
  },
  {
   "cell_type": "code",
   "execution_count": 8,
   "id": "2c2f9e23",
   "metadata": {},
   "outputs": [],
   "source": [
    "p=os.path.join(os.getcwd(),path[\"all_pred\"])\n",
    "p\n",
    "all_pred=pd.read_csv(os.getcwd()+path[\"all_pred\"])"
   ]
  },
  {
   "cell_type": "code",
   "execution_count": 9,
   "id": "623ecf46",
   "metadata": {},
   "outputs": [],
   "source": [
    "col_list=['bert_true','bert_proba_0','bert_proba_0','crf_proba_0','crf_proba_1']"
   ]
  },
  {
   "cell_type": "code",
   "execution_count": 10,
   "id": "ebe34fef",
   "metadata": {},
   "outputs": [],
   "source": [
    "# all_pred.iloc[:30,2:15]"
   ]
  },
  {
   "cell_type": "code",
   "execution_count": 11,
   "id": "4dfb85e9",
   "metadata": {},
   "outputs": [
    {
     "data": {
      "text/plain": [
       "array([1., 1., 1., 1., 1., 1., 1., 1., 1., 1., 1., 1., 1., 1., 1., 1., 1.,\n",
       "       1., 1., 1., 1., 1., 1., 1., 1., 1., 0., 0., 0., 0., 0., 0., 0., 0.,\n",
       "       0., 0., 0., 0., 0., 0., 0., 0., 0., 0., 0., 0., 0., 0., 0., 0., 0.,\n",
       "       0., 0., 0., 0., 0., 0., 0., 0., 0., 0., 0., 0., 0., 0., 0., 0., 0.,\n",
       "       0., 0., 0., 0., 0., 0., 0., 0., 0., 0., 0., 0., 0., 0., 0., 0., 0.,\n",
       "       0., 0., 0., 0., 0., 0., 0., 0., 0., 0., 0., 0., 0., 0., 0.])"
      ]
     },
     "execution_count": 11,
     "metadata": {},
     "output_type": "execute_result"
    }
   ],
   "source": [
    "y_true=np.zeros(100)\n",
    "y_true[0:26]=1\n",
    "y_true"
   ]
  },
  {
   "cell_type": "code",
   "execution_count": 12,
   "id": "a145b739",
   "metadata": {},
   "outputs": [],
   "source": [
    "y_pred=np.ones(100)"
   ]
  },
  {
   "cell_type": "code",
   "execution_count": 16,
   "id": "f4d7eafd",
   "metadata": {},
   "outputs": [
    {
     "name": "stdout",
     "output_type": "stream",
     "text": [
      "              precision    recall  f1-score   support\n",
      "\n",
      "           0       0.00      0.00      0.00        74\n",
      "           1       0.26      1.00      0.41        26\n",
      "\n",
      "    accuracy                           0.26       100\n",
      "   macro avg       0.13      0.50      0.21       100\n",
      "weighted avg       0.07      0.26      0.11       100\n",
      "\n"
     ]
    },
    {
     "name": "stderr",
     "output_type": "stream",
     "text": [
      "/home/zsofya/jupyter_git/jup-nb-generic/lib/python3.8/site-packages/sklearn/metrics/_classification.py:1327: UndefinedMetricWarning: Precision and F-score are ill-defined and being set to 0.0 in labels with no predicted samples. Use `zero_division` parameter to control this behavior.\n",
      "  _warn_prf(average, modifier, msg_start, len(result))\n",
      "/home/zsofya/jupyter_git/jup-nb-generic/lib/python3.8/site-packages/sklearn/metrics/_classification.py:1327: UndefinedMetricWarning: Precision and F-score are ill-defined and being set to 0.0 in labels with no predicted samples. Use `zero_division` parameter to control this behavior.\n",
      "  _warn_prf(average, modifier, msg_start, len(result))\n",
      "/home/zsofya/jupyter_git/jup-nb-generic/lib/python3.8/site-packages/sklearn/metrics/_classification.py:1327: UndefinedMetricWarning: Precision and F-score are ill-defined and being set to 0.0 in labels with no predicted samples. Use `zero_division` parameter to control this behavior.\n",
      "  _warn_prf(average, modifier, msg_start, len(result))\n"
     ]
    },
    {
     "data": {
      "image/png": "[encoded data removed]",
      "text/plain": [
       "<Figure size 432x288 with 2 Axes>"
      ]
     },
     "metadata": {
      "needs_background": "light"
     },
     "output_type": "display_data"
    }
   ],
   "source": [
    "get_prediction_report(y_test=y_true,y_pred=y_pred,labels=[0,1])"
   ]
  },
  {
   "cell_type": "code",
   "execution_count": 17,
   "id": "ff543d52",
   "metadata": {},
   "outputs": [],
   "source": [
    "y_pred=np.zeros(100)"
   ]
  },
  {
   "cell_type": "code",
   "execution_count": 18,
   "id": "0e6f52e0",
   "metadata": {},
   "outputs": [
    {
     "name": "stdout",
     "output_type": "stream",
     "text": [
      "              precision    recall  f1-score   support\n",
      "\n",
      "           0       0.74      1.00      0.85        74\n",
      "           1       0.00      0.00      0.00        26\n",
      "\n",
      "    accuracy                           0.74       100\n",
      "   macro avg       0.37      0.50      0.43       100\n",
      "weighted avg       0.55      0.74      0.63       100\n",
      "\n"
     ]
    },
    {
     "name": "stderr",
     "output_type": "stream",
     "text": [
      "/home/zsofya/jupyter_git/jup-nb-generic/lib/python3.8/site-packages/sklearn/metrics/_classification.py:1327: UndefinedMetricWarning: Precision and F-score are ill-defined and being set to 0.0 in labels with no predicted samples. Use `zero_division` parameter to control this behavior.\n",
      "  _warn_prf(average, modifier, msg_start, len(result))\n",
      "/home/zsofya/jupyter_git/jup-nb-generic/lib/python3.8/site-packages/sklearn/metrics/_classification.py:1327: UndefinedMetricWarning: Precision and F-score are ill-defined and being set to 0.0 in labels with no predicted samples. Use `zero_division` parameter to control this behavior.\n",
      "  _warn_prf(average, modifier, msg_start, len(result))\n",
      "/home/zsofya/jupyter_git/jup-nb-generic/lib/python3.8/site-packages/sklearn/metrics/_classification.py:1327: UndefinedMetricWarning: Precision and F-score are ill-defined and being set to 0.0 in labels with no predicted samples. Use `zero_division` parameter to control this behavior.\n",
      "  _warn_prf(average, modifier, msg_start, len(result))\n"
     ]
    },
    {
     "data": {
      "image/png": "[encoded data removed]",
      "text/plain": [
       "<Figure size 432x288 with 2 Axes>"
      ]
     },
     "metadata": {
      "needs_background": "light"
     },
     "output_type": "display_data"
    }
   ],
   "source": [
    "get_prediction_report(y_test=y_true,y_pred=y_pred,labels=[0,1])"
   ]
  },
  {
   "cell_type": "markdown",
   "id": "87c8e039",
   "metadata": {},
   "source": [
    "### Calculate boolean bor true/false baseline"
   ]
  },
  {
   "cell_type": "code",
   "execution_count": 23,
   "id": "c4eb4658",
   "metadata": {},
   "outputs": [
    {
     "name": "stdout",
     "output_type": "stream",
     "text": [
      "Opened /scratch/sim_reg9/users/zsofya/classroom/MSc/personal_study/thesis/dataframes/duplicate/tf.base.pred.char.csv,  index False\n"
     ]
    }
   ],
   "source": [
    "import common_utils\n",
    "dir_name='duplicate'\n",
    "\n",
    "base_pred=common_utils.load_db(dir_name,'tf.base.pred.char')\n"
   ]
  },
  {
   "cell_type": "code",
   "execution_count": 25,
   "id": "a2bed2d1",
   "metadata": {},
   "outputs": [
    {
     "data": {
      "text/html": [
       "<div>\n",
       "<style scoped>\n",
       "    .dataframe tbody tr th:only-of-type {\n",
       "        vertical-align: middle;\n",
       "    }\n",
       "\n",
       "    .dataframe tbody tr th {\n",
       "        vertical-align: top;\n",
       "    }\n",
       "\n",
       "    .dataframe thead th {\n",
       "        text-align: right;\n",
       "    }\n",
       "</style>\n",
       "<table border=\"1\" class=\"dataframe\">\n",
       "  <thead>\n",
       "    <tr style=\"text-align: right;\">\n",
       "      <th></th>\n",
       "      <th>base_predicted</th>\n",
       "      <th>base_group</th>\n",
       "      <th>base_split</th>\n",
       "      <th>base_true</th>\n",
       "    </tr>\n",
       "  </thead>\n",
       "  <tbody>\n",
       "    <tr>\n",
       "      <th>0</th>\n",
       "      <td>1</td>\n",
       "      <td>19</td>\n",
       "      <td>0</td>\n",
       "      <td>0</td>\n",
       "    </tr>\n",
       "    <tr>\n",
       "      <th>1</th>\n",
       "      <td>1</td>\n",
       "      <td>19</td>\n",
       "      <td>0</td>\n",
       "      <td>0</td>\n",
       "    </tr>\n",
       "    <tr>\n",
       "      <th>2</th>\n",
       "      <td>1</td>\n",
       "      <td>19</td>\n",
       "      <td>0</td>\n",
       "      <td>0</td>\n",
       "    </tr>\n",
       "    <tr>\n",
       "      <th>3</th>\n",
       "      <td>1</td>\n",
       "      <td>19</td>\n",
       "      <td>0</td>\n",
       "      <td>0</td>\n",
       "    </tr>\n",
       "    <tr>\n",
       "      <th>4</th>\n",
       "      <td>1</td>\n",
       "      <td>19</td>\n",
       "      <td>0</td>\n",
       "      <td>0</td>\n",
       "    </tr>\n",
       "    <tr>\n",
       "      <th>...</th>\n",
       "      <td>...</td>\n",
       "      <td>...</td>\n",
       "      <td>...</td>\n",
       "      <td>...</td>\n",
       "    </tr>\n",
       "    <tr>\n",
       "      <th>38429</th>\n",
       "      <td>1</td>\n",
       "      <td>16</td>\n",
       "      <td>7</td>\n",
       "      <td>0</td>\n",
       "    </tr>\n",
       "    <tr>\n",
       "      <th>38430</th>\n",
       "      <td>1</td>\n",
       "      <td>16</td>\n",
       "      <td>7</td>\n",
       "      <td>0</td>\n",
       "    </tr>\n",
       "    <tr>\n",
       "      <th>38431</th>\n",
       "      <td>1</td>\n",
       "      <td>16</td>\n",
       "      <td>7</td>\n",
       "      <td>0</td>\n",
       "    </tr>\n",
       "    <tr>\n",
       "      <th>38432</th>\n",
       "      <td>1</td>\n",
       "      <td>16</td>\n",
       "      <td>7</td>\n",
       "      <td>0</td>\n",
       "    </tr>\n",
       "    <tr>\n",
       "      <th>38433</th>\n",
       "      <td>1</td>\n",
       "      <td>16</td>\n",
       "      <td>7</td>\n",
       "      <td>0</td>\n",
       "    </tr>\n",
       "  </tbody>\n",
       "</table>\n",
       "<p>38434 rows × 4 columns</p>\n",
       "</div>"
      ],
      "text/plain": [
       "       base_predicted  base_group  base_split  base_true\n",
       "0                   1          19           0          0\n",
       "1                   1          19           0          0\n",
       "2                   1          19           0          0\n",
       "3                   1          19           0          0\n",
       "4                   1          19           0          0\n",
       "...               ...         ...         ...        ...\n",
       "38429               1          16           7          0\n",
       "38430               1          16           7          0\n",
       "38431               1          16           7          0\n",
       "38432               1          16           7          0\n",
       "38433               1          16           7          0\n",
       "\n",
       "[38434 rows x 4 columns]"
      ]
     },
     "execution_count": 25,
     "metadata": {},
     "output_type": "execute_result"
    }
   ],
   "source": [
    "base_pred['base_predicted']=1\n",
    "base_pred"
   ]
  },
  {
   "cell_type": "code",
   "execution_count": 27,
   "id": "9ffff61e",
   "metadata": {},
   "outputs": [
    {
     "data": {
      "text/html": [
       "<div>\n",
       "<style scoped>\n",
       "    .dataframe tbody tr th:only-of-type {\n",
       "        vertical-align: middle;\n",
       "    }\n",
       "\n",
       "    .dataframe tbody tr th {\n",
       "        vertical-align: top;\n",
       "    }\n",
       "\n",
       "    .dataframe thead th {\n",
       "        text-align: right;\n",
       "    }\n",
       "</style>\n",
       "<table border=\"1\" class=\"dataframe\">\n",
       "  <thead>\n",
       "    <tr style=\"text-align: right;\">\n",
       "      <th></th>\n",
       "      <th>base_predicted</th>\n",
       "      <th>base_group</th>\n",
       "      <th>base_split</th>\n",
       "      <th>base_true</th>\n",
       "      <th>sent_idx</th>\n",
       "    </tr>\n",
       "  </thead>\n",
       "  <tbody>\n",
       "    <tr>\n",
       "      <th>0</th>\n",
       "      <td>1</td>\n",
       "      <td>19</td>\n",
       "      <td>0</td>\n",
       "      <td>0</td>\n",
       "      <td>0</td>\n",
       "    </tr>\n",
       "    <tr>\n",
       "      <th>1</th>\n",
       "      <td>1</td>\n",
       "      <td>19</td>\n",
       "      <td>0</td>\n",
       "      <td>0</td>\n",
       "      <td>1</td>\n",
       "    </tr>\n",
       "    <tr>\n",
       "      <th>2</th>\n",
       "      <td>1</td>\n",
       "      <td>19</td>\n",
       "      <td>0</td>\n",
       "      <td>0</td>\n",
       "      <td>2</td>\n",
       "    </tr>\n",
       "    <tr>\n",
       "      <th>3</th>\n",
       "      <td>1</td>\n",
       "      <td>19</td>\n",
       "      <td>0</td>\n",
       "      <td>0</td>\n",
       "      <td>3</td>\n",
       "    </tr>\n",
       "    <tr>\n",
       "      <th>4</th>\n",
       "      <td>1</td>\n",
       "      <td>19</td>\n",
       "      <td>0</td>\n",
       "      <td>0</td>\n",
       "      <td>4</td>\n",
       "    </tr>\n",
       "    <tr>\n",
       "      <th>...</th>\n",
       "      <td>...</td>\n",
       "      <td>...</td>\n",
       "      <td>...</td>\n",
       "      <td>...</td>\n",
       "      <td>...</td>\n",
       "    </tr>\n",
       "    <tr>\n",
       "      <th>38429</th>\n",
       "      <td>1</td>\n",
       "      <td>16</td>\n",
       "      <td>7</td>\n",
       "      <td>0</td>\n",
       "      <td>418</td>\n",
       "    </tr>\n",
       "    <tr>\n",
       "      <th>38430</th>\n",
       "      <td>1</td>\n",
       "      <td>16</td>\n",
       "      <td>7</td>\n",
       "      <td>0</td>\n",
       "      <td>419</td>\n",
       "    </tr>\n",
       "    <tr>\n",
       "      <th>38431</th>\n",
       "      <td>1</td>\n",
       "      <td>16</td>\n",
       "      <td>7</td>\n",
       "      <td>0</td>\n",
       "      <td>420</td>\n",
       "    </tr>\n",
       "    <tr>\n",
       "      <th>38432</th>\n",
       "      <td>1</td>\n",
       "      <td>16</td>\n",
       "      <td>7</td>\n",
       "      <td>0</td>\n",
       "      <td>421</td>\n",
       "    </tr>\n",
       "    <tr>\n",
       "      <th>38433</th>\n",
       "      <td>1</td>\n",
       "      <td>16</td>\n",
       "      <td>7</td>\n",
       "      <td>0</td>\n",
       "      <td>422</td>\n",
       "    </tr>\n",
       "  </tbody>\n",
       "</table>\n",
       "<p>38434 rows × 5 columns</p>\n",
       "</div>"
      ],
      "text/plain": [
       "       base_predicted  base_group  base_split  base_true  sent_idx\n",
       "0                   1          19           0          0         0\n",
       "1                   1          19           0          0         1\n",
       "2                   1          19           0          0         2\n",
       "3                   1          19           0          0         3\n",
       "4                   1          19           0          0         4\n",
       "...               ...         ...         ...        ...       ...\n",
       "38429               1          16           7          0       418\n",
       "38430               1          16           7          0       419\n",
       "38431               1          16           7          0       420\n",
       "38432               1          16           7          0       421\n",
       "38433               1          16           7          0       422\n",
       "\n",
       "[38434 rows x 5 columns]"
      ]
     },
     "execution_count": 27,
     "metadata": {},
     "output_type": "execute_result"
    }
   ],
   "source": [
    "k='base'\n",
    "base_pred = base_pred.assign(\n",
    "            sent_idx=base_pred.groupby(['{}_group'.format(k)]).cumcount())\n",
    "base_pred"
   ]
  },
  {
   "cell_type": "code",
   "execution_count": 28,
   "id": "8b04d0c0",
   "metadata": {},
   "outputs": [
    {
     "name": "stdout",
     "output_type": "stream",
     "text": [
      "init >> MyBooleanRecall base\n"
     ]
    }
   ],
   "source": [
    "import classes\n",
    "bool_rec=classes.MyBooleanRecall(dir_name,base_pred,'base')\n"
   ]
  },
  {
   "cell_type": "code",
   "execution_count": 30,
   "id": "381036fd",
   "metadata": {},
   "outputs": [
    {
     "data": {
      "text/plain": [
       "{'total_true_narrative': 648,\n",
       " 'tp': 648,\n",
       " 'fn': 0,\n",
       " 'total_pred_narrative': 79,\n",
       " 'fp': -569,\n",
       " 'recall': 1.0,\n",
       " 'precision': 8.20253164556962,\n",
       " 'f1': 1.7826685006877578}"
      ]
     },
     "execution_count": 30,
     "metadata": {},
     "output_type": "execute_result"
    }
   ],
   "source": [
    "bool_rec.stat"
   ]
  },
  {
   "cell_type": "code",
   "execution_count": 31,
   "id": "477ce3d7",
   "metadata": {},
   "outputs": [],
   "source": [
    "bool_pred_true=np.ones(1375)\n",
    "bool_true=np.zeros(1375)\n",
    "bool_true[:648]=1\n",
    "bool_pred_false=np.zeros(1375)"
   ]
  },
  {
   "cell_type": "code",
   "execution_count": 37,
   "id": "37d663fd",
   "metadata": {},
   "outputs": [
    {
     "data": {
      "text/plain": [
       "0.0"
      ]
     },
     "execution_count": 37,
     "metadata": {},
     "output_type": "execute_result"
    }
   ],
   "source": [
    "sum(bool_pred_false)"
   ]
  },
  {
   "cell_type": "code",
   "execution_count": 38,
   "id": "2c02985d",
   "metadata": {},
   "outputs": [
    {
     "data": {
      "text/plain": [
       "1375.0"
      ]
     },
     "execution_count": 38,
     "metadata": {},
     "output_type": "execute_result"
    }
   ],
   "source": [
    "sum(bool_pred_true)"
   ]
  },
  {
   "cell_type": "code",
   "execution_count": 32,
   "id": "406e157e",
   "metadata": {},
   "outputs": [
    {
     "data": {
      "text/plain": [
       "array([1., 1., 1., ..., 0., 0., 0.])"
      ]
     },
     "execution_count": 32,
     "metadata": {},
     "output_type": "execute_result"
    }
   ],
   "source": [
    "bool_true"
   ]
  },
  {
   "cell_type": "code",
   "execution_count": 33,
   "id": "99ce5720",
   "metadata": {},
   "outputs": [
    {
     "data": {
      "text/plain": [
       "648.0"
      ]
     },
     "execution_count": 33,
     "metadata": {},
     "output_type": "execute_result"
    }
   ],
   "source": [
    "sum(bool_true)"
   ]
  },
  {
   "cell_type": "code",
   "execution_count": 43,
   "id": "bfa90acf",
   "metadata": {},
   "outputs": [
    {
     "name": "stderr",
     "output_type": "stream",
     "text": [
      "/home/zsofya/jupyter_git/jup-nb-generic/lib/python3.8/site-packages/sklearn/metrics/_classification.py:1327: UndefinedMetricWarning: Precision and F-score are ill-defined and being set to 0.0 in labels with no predicted samples. Use `zero_division` parameter to control this behavior.\n",
      "  _warn_prf(average, modifier, msg_start, len(result))\n",
      "/home/zsofya/jupyter_git/jup-nb-generic/lib/python3.8/site-packages/sklearn/metrics/_classification.py:1327: UndefinedMetricWarning: Precision and F-score are ill-defined and being set to 0.0 in labels with no predicted samples. Use `zero_division` parameter to control this behavior.\n",
      "  _warn_prf(average, modifier, msg_start, len(result))\n",
      "/home/zsofya/jupyter_git/jup-nb-generic/lib/python3.8/site-packages/sklearn/metrics/_classification.py:1327: UndefinedMetricWarning: Precision and F-score are ill-defined and being set to 0.0 in labels with no predicted samples. Use `zero_division` parameter to control this behavior.\n",
      "  _warn_prf(average, modifier, msg_start, len(result))\n"
     ]
    },
    {
     "name": "stdout",
     "output_type": "stream",
     "text": [
      "              precision    recall  f1-score   support\n",
      "\n",
      "           0       0.00      0.00      0.00       727\n",
      "           1       0.47      1.00      0.64       648\n",
      "\n",
      "    accuracy                           0.47      1375\n",
      "   macro avg       0.24      0.50      0.32      1375\n",
      "weighted avg       0.22      0.47      0.30      1375\n",
      "\n"
     ]
    },
    {
     "data": {
      "image/png": "[encoded data removed]",
      "text/plain": [
       "<Figure size 432x288 with 2 Axes>"
      ]
     },
     "metadata": {
      "needs_background": "light"
     },
     "output_type": "display_data"
    }
   ],
   "source": [
    "get_prediction_report(y_test=bool_true,y_pred=bool_pred_true,labels=[0,1])"
   ]
  },
  {
   "cell_type": "code",
   "execution_count": 44,
   "id": "e2c15c71",
   "metadata": {},
   "outputs": [
    {
     "name": "stdout",
     "output_type": "stream",
     "text": [
      "              precision    recall  f1-score   support\n",
      "\n",
      "           0       0.53      1.00      0.69       727\n",
      "           1       0.00      0.00      0.00       648\n",
      "\n",
      "    accuracy                           0.53      1375\n",
      "   macro avg       0.26      0.50      0.35      1375\n",
      "weighted avg       0.28      0.53      0.37      1375\n",
      "\n"
     ]
    },
    {
     "name": "stderr",
     "output_type": "stream",
     "text": [
      "/home/zsofya/jupyter_git/jup-nb-generic/lib/python3.8/site-packages/sklearn/metrics/_classification.py:1327: UndefinedMetricWarning: Precision and F-score are ill-defined and being set to 0.0 in labels with no predicted samples. Use `zero_division` parameter to control this behavior.\n",
      "  _warn_prf(average, modifier, msg_start, len(result))\n",
      "/home/zsofya/jupyter_git/jup-nb-generic/lib/python3.8/site-packages/sklearn/metrics/_classification.py:1327: UndefinedMetricWarning: Precision and F-score are ill-defined and being set to 0.0 in labels with no predicted samples. Use `zero_division` parameter to control this behavior.\n",
      "  _warn_prf(average, modifier, msg_start, len(result))\n",
      "/home/zsofya/jupyter_git/jup-nb-generic/lib/python3.8/site-packages/sklearn/metrics/_classification.py:1327: UndefinedMetricWarning: Precision and F-score are ill-defined and being set to 0.0 in labels with no predicted samples. Use `zero_division` parameter to control this behavior.\n",
      "  _warn_prf(average, modifier, msg_start, len(result))\n"
     ]
    },
    {
     "data": {
      "image/png": "[encoded data removed]",
      "text/plain": [
       "<Figure size 432x288 with 2 Axes>"
      ]
     },
     "metadata": {
      "needs_background": "light"
     },
     "output_type": "display_data"
    }
   ],
   "source": [
    "get_prediction_report(y_test=bool_true,y_pred=bool_pred_false,labels=[0,1])"
   ]
  },
  {
   "cell_type": "code",
   "execution_count": 45,
   "id": "60b6c1c5",
   "metadata": {},
   "outputs": [],
   "source": [
    "## Compare agreement"
   ]
  },
  {
   "cell_type": "code",
   "execution_count": 49,
   "id": "7e26c7ad",
   "metadata": {},
   "outputs": [],
   "source": [
    "dana=pd.read_csv(os.getcwd()+'/dataframes/agreement/02_sent_db.csv')"
   ]
  },
  {
   "cell_type": "code",
   "execution_count": 50,
   "id": "31db767d",
   "metadata": {},
   "outputs": [
    {
     "data": {
      "text/html": [
       "<div>\n",
       "<style scoped>\n",
       "    .dataframe tbody tr th:only-of-type {\n",
       "        vertical-align: middle;\n",
       "    }\n",
       "\n",
       "    .dataframe tbody tr th {\n",
       "        vertical-align: top;\n",
       "    }\n",
       "\n",
       "    .dataframe thead th {\n",
       "        text-align: right;\n",
       "    }\n",
       "</style>\n",
       "<table border=\"1\" class=\"dataframe\">\n",
       "  <thead>\n",
       "    <tr style=\"text-align: right;\">\n",
       "      <th></th>\n",
       "      <th>is_question</th>\n",
       "      <th>text</th>\n",
       "      <th>sent_idx_in_block</th>\n",
       "      <th>block_idx</th>\n",
       "      <th>is_nar</th>\n",
       "      <th>doc_idx</th>\n",
       "      <th>par_db_idx</th>\n",
       "      <th>par_idx_in_doc</th>\n",
       "      <th>par_pos_in_doc</th>\n",
       "      <th>par_type</th>\n",
       "      <th>block_type</th>\n",
       "      <th>nar_idx</th>\n",
       "      <th>sent_len</th>\n",
       "      <th>is_client</th>\n",
       "      <th>sent_idx_in_par</th>\n",
       "      <th>sent_pos_in_par</th>\n",
       "      <th>sent_pos_in_doc</th>\n",
       "    </tr>\n",
       "  </thead>\n",
       "  <tbody>\n",
       "    <tr>\n",
       "      <th>0</th>\n",
       "      <td>0.0</td>\n",
       "      <td>היי</td>\n",
       "      <td>0.0</td>\n",
       "      <td>0.0</td>\n",
       "      <td>0.0</td>\n",
       "      <td>2.0</td>\n",
       "      <td>0.0</td>\n",
       "      <td>0.0</td>\n",
       "      <td>0.006098</td>\n",
       "      <td>client</td>\n",
       "      <td>not_nar</td>\n",
       "      <td>0.0</td>\n",
       "      <td>3.0</td>\n",
       "      <td>1</td>\n",
       "      <td>0</td>\n",
       "      <td>1.000</td>\n",
       "      <td>0.001355</td>\n",
       "    </tr>\n",
       "    <tr>\n",
       "      <th>1</th>\n",
       "      <td>0.0</td>\n",
       "      <td>היי</td>\n",
       "      <td>0.0</td>\n",
       "      <td>1.0</td>\n",
       "      <td>0.0</td>\n",
       "      <td>2.0</td>\n",
       "      <td>1.0</td>\n",
       "      <td>1.0</td>\n",
       "      <td>0.012195</td>\n",
       "      <td>therapist</td>\n",
       "      <td>not_nar</td>\n",
       "      <td>0.0</td>\n",
       "      <td>3.0</td>\n",
       "      <td>0</td>\n",
       "      <td>0</td>\n",
       "      <td>1.000</td>\n",
       "      <td>0.002710</td>\n",
       "    </tr>\n",
       "    <tr>\n",
       "      <th>2</th>\n",
       "      <td>1.0</td>\n",
       "      <td>להכנס או להשאר בחוץ ותקראי לי</td>\n",
       "      <td>0.0</td>\n",
       "      <td>2.0</td>\n",
       "      <td>0.0</td>\n",
       "      <td>2.0</td>\n",
       "      <td>2.0</td>\n",
       "      <td>2.0</td>\n",
       "      <td>0.018293</td>\n",
       "      <td>client</td>\n",
       "      <td>not_nar</td>\n",
       "      <td>0.0</td>\n",
       "      <td>31.0</td>\n",
       "      <td>1</td>\n",
       "      <td>0</td>\n",
       "      <td>0.500</td>\n",
       "      <td>0.004065</td>\n",
       "    </tr>\n",
       "    <tr>\n",
       "      <th>3</th>\n",
       "      <td>0.0</td>\n",
       "      <td>כאילו</td>\n",
       "      <td>1.0</td>\n",
       "      <td>2.0</td>\n",
       "      <td>0.0</td>\n",
       "      <td>2.0</td>\n",
       "      <td>2.0</td>\n",
       "      <td>2.0</td>\n",
       "      <td>0.018293</td>\n",
       "      <td>client</td>\n",
       "      <td>not_nar</td>\n",
       "      <td>0.0</td>\n",
       "      <td>5.0</td>\n",
       "      <td>1</td>\n",
       "      <td>1</td>\n",
       "      <td>1.000</td>\n",
       "      <td>0.005420</td>\n",
       "    </tr>\n",
       "    <tr>\n",
       "      <th>4</th>\n",
       "      <td>0.0</td>\n",
       "      <td>אה</td>\n",
       "      <td>0.0</td>\n",
       "      <td>3.0</td>\n",
       "      <td>0.0</td>\n",
       "      <td>2.0</td>\n",
       "      <td>3.0</td>\n",
       "      <td>3.0</td>\n",
       "      <td>0.024390</td>\n",
       "      <td>therapist</td>\n",
       "      <td>not_nar</td>\n",
       "      <td>0.0</td>\n",
       "      <td>2.0</td>\n",
       "      <td>0</td>\n",
       "      <td>0</td>\n",
       "      <td>1.000</td>\n",
       "      <td>0.006775</td>\n",
       "    </tr>\n",
       "    <tr>\n",
       "      <th>...</th>\n",
       "      <td>...</td>\n",
       "      <td>...</td>\n",
       "      <td>...</td>\n",
       "      <td>...</td>\n",
       "      <td>...</td>\n",
       "      <td>...</td>\n",
       "      <td>...</td>\n",
       "      <td>...</td>\n",
       "      <td>...</td>\n",
       "      <td>...</td>\n",
       "      <td>...</td>\n",
       "      <td>...</td>\n",
       "      <td>...</td>\n",
       "      <td>...</td>\n",
       "      <td>...</td>\n",
       "      <td>...</td>\n",
       "      <td>...</td>\n",
       "    </tr>\n",
       "    <tr>\n",
       "      <th>733</th>\n",
       "      <td>0.0</td>\n",
       "      <td>מה מה עכשיו הבחירות כשהאנרגיה חזרה</td>\n",
       "      <td>3.0</td>\n",
       "      <td>199.0</td>\n",
       "      <td>0.0</td>\n",
       "      <td>2.0</td>\n",
       "      <td>163.0</td>\n",
       "      <td>163.0</td>\n",
       "      <td>1.000000</td>\n",
       "      <td>therapist</td>\n",
       "      <td>not_nar</td>\n",
       "      <td>0.0</td>\n",
       "      <td>34.0</td>\n",
       "      <td>0</td>\n",
       "      <td>3</td>\n",
       "      <td>0.500</td>\n",
       "      <td>0.994580</td>\n",
       "    </tr>\n",
       "    <tr>\n",
       "      <th>734</th>\n",
       "      <td>0.0</td>\n",
       "      <td>מה עכשיו אתה עושה עם הדברים ו כל השאלות האלה ש...</td>\n",
       "      <td>4.0</td>\n",
       "      <td>199.0</td>\n",
       "      <td>0.0</td>\n",
       "      <td>2.0</td>\n",
       "      <td>163.0</td>\n",
       "      <td>163.0</td>\n",
       "      <td>1.000000</td>\n",
       "      <td>therapist</td>\n",
       "      <td>not_nar</td>\n",
       "      <td>0.0</td>\n",
       "      <td>106.0</td>\n",
       "      <td>0</td>\n",
       "      <td>4</td>\n",
       "      <td>0.625</td>\n",
       "      <td>0.995935</td>\n",
       "    </tr>\n",
       "    <tr>\n",
       "      <th>735</th>\n",
       "      <td>0.0</td>\n",
       "      <td>כשאני שומעת שהמשאלה היא לעשות משהו אחר</td>\n",
       "      <td>5.0</td>\n",
       "      <td>199.0</td>\n",
       "      <td>0.0</td>\n",
       "      <td>2.0</td>\n",
       "      <td>163.0</td>\n",
       "      <td>163.0</td>\n",
       "      <td>1.000000</td>\n",
       "      <td>therapist</td>\n",
       "      <td>not_nar</td>\n",
       "      <td>0.0</td>\n",
       "      <td>38.0</td>\n",
       "      <td>0</td>\n",
       "      <td>5</td>\n",
       "      <td>0.750</td>\n",
       "      <td>0.997290</td>\n",
       "    </tr>\n",
       "    <tr>\n",
       "      <th>736</th>\n",
       "      <td>0.0</td>\n",
       "      <td>כאילו ללכת יותר אתה קורא לזה עם ההנאה</td>\n",
       "      <td>6.0</td>\n",
       "      <td>199.0</td>\n",
       "      <td>0.0</td>\n",
       "      <td>2.0</td>\n",
       "      <td>163.0</td>\n",
       "      <td>163.0</td>\n",
       "      <td>1.000000</td>\n",
       "      <td>therapist</td>\n",
       "      <td>not_nar</td>\n",
       "      <td>0.0</td>\n",
       "      <td>37.0</td>\n",
       "      <td>0</td>\n",
       "      <td>6</td>\n",
       "      <td>0.875</td>\n",
       "      <td>0.998645</td>\n",
       "    </tr>\n",
       "    <tr>\n",
       "      <th>737</th>\n",
       "      <td>0.0</td>\n",
       "      <td>עם הילד שבך אבל גם באמת עם מקום יותר שלם</td>\n",
       "      <td>7.0</td>\n",
       "      <td>199.0</td>\n",
       "      <td>0.0</td>\n",
       "      <td>2.0</td>\n",
       "      <td>163.0</td>\n",
       "      <td>163.0</td>\n",
       "      <td>1.000000</td>\n",
       "      <td>therapist</td>\n",
       "      <td>not_nar</td>\n",
       "      <td>0.0</td>\n",
       "      <td>40.0</td>\n",
       "      <td>0</td>\n",
       "      <td>7</td>\n",
       "      <td>1.000</td>\n",
       "      <td>1.000000</td>\n",
       "    </tr>\n",
       "  </tbody>\n",
       "</table>\n",
       "<p>738 rows × 17 columns</p>\n",
       "</div>"
      ],
      "text/plain": [
       "     is_question                                               text  \\\n",
       "0            0.0                                                היי   \n",
       "1            0.0                                                היי   \n",
       "2            1.0                      להכנס או להשאר בחוץ ותקראי לי   \n",
       "3            0.0                                              כאילו   \n",
       "4            0.0                                                 אה   \n",
       "..           ...                                                ...   \n",
       "733          0.0                 מה מה עכשיו הבחירות כשהאנרגיה חזרה   \n",
       "734          0.0  מה עכשיו אתה עושה עם הדברים ו כל השאלות האלה ש...   \n",
       "735          0.0             כשאני שומעת שהמשאלה היא לעשות משהו אחר   \n",
       "736          0.0              כאילו ללכת יותר אתה קורא לזה עם ההנאה   \n",
       "737          0.0           עם הילד שבך אבל גם באמת עם מקום יותר שלם   \n",
       "\n",
       "     sent_idx_in_block  block_idx  is_nar  doc_idx  par_db_idx  \\\n",
       "0                  0.0        0.0     0.0      2.0         0.0   \n",
       "1                  0.0        1.0     0.0      2.0         1.0   \n",
       "2                  0.0        2.0     0.0      2.0         2.0   \n",
       "3                  1.0        2.0     0.0      2.0         2.0   \n",
       "4                  0.0        3.0     0.0      2.0         3.0   \n",
       "..                 ...        ...     ...      ...         ...   \n",
       "733                3.0      199.0     0.0      2.0       163.0   \n",
       "734                4.0      199.0     0.0      2.0       163.0   \n",
       "735                5.0      199.0     0.0      2.0       163.0   \n",
       "736                6.0      199.0     0.0      2.0       163.0   \n",
       "737                7.0      199.0     0.0      2.0       163.0   \n",
       "\n",
       "     par_idx_in_doc  par_pos_in_doc   par_type block_type  nar_idx  sent_len  \\\n",
       "0               0.0        0.006098     client    not_nar      0.0       3.0   \n",
       "1               1.0        0.012195  therapist    not_nar      0.0       3.0   \n",
       "2               2.0        0.018293     client    not_nar      0.0      31.0   \n",
       "3               2.0        0.018293     client    not_nar      0.0       5.0   \n",
       "4               3.0        0.024390  therapist    not_nar      0.0       2.0   \n",
       "..              ...             ...        ...        ...      ...       ...   \n",
       "733           163.0        1.000000  therapist    not_nar      0.0      34.0   \n",
       "734           163.0        1.000000  therapist    not_nar      0.0     106.0   \n",
       "735           163.0        1.000000  therapist    not_nar      0.0      38.0   \n",
       "736           163.0        1.000000  therapist    not_nar      0.0      37.0   \n",
       "737           163.0        1.000000  therapist    not_nar      0.0      40.0   \n",
       "\n",
       "     is_client  sent_idx_in_par  sent_pos_in_par  sent_pos_in_doc  \n",
       "0            1                0            1.000         0.001355  \n",
       "1            0                0            1.000         0.002710  \n",
       "2            1                0            0.500         0.004065  \n",
       "3            1                1            1.000         0.005420  \n",
       "4            0                0            1.000         0.006775  \n",
       "..         ...              ...              ...              ...  \n",
       "733          0                3            0.500         0.994580  \n",
       "734          0                4            0.625         0.995935  \n",
       "735          0                5            0.750         0.997290  \n",
       "736          0                6            0.875         0.998645  \n",
       "737          0                7            1.000         1.000000  \n",
       "\n",
       "[738 rows x 17 columns]"
      ]
     },
     "execution_count": 50,
     "metadata": {},
     "output_type": "execute_result"
    }
   ],
   "source": [
    "dana"
   ]
  },
  {
   "cell_type": "code",
   "execution_count": 51,
   "id": "69f38955",
   "metadata": {},
   "outputs": [],
   "source": [
    "mor=pd.read_csv(os.getcwd()+'/dataframes/agreement/01_sent_db.csv')"
   ]
  },
  {
   "cell_type": "code",
   "execution_count": 53,
   "id": "defbc464",
   "metadata": {},
   "outputs": [
    {
     "data": {
      "text/plain": [
       "0.9132791327913279"
      ]
     },
     "execution_count": 53,
     "metadata": {},
     "output_type": "execute_result"
    }
   ],
   "source": [
    "sum(dana['is_nar']==mor['is_nar'])/mor.shape[0]"
   ]
  },
  {
   "cell_type": "code",
   "execution_count": null,
   "id": "3e0afe64",
   "metadata": {},
   "outputs": [],
   "source": []
  }
 ],
 "metadata": {
  "kernelspec": {
   "display_name": "Python 3",
   "language": "python",
   "name": "python3"
  },
  "language_info": {
   "codemirror_mode": {
    "name": "ipython",
    "version": 3
   },
   "file_extension": ".py",
   "mimetype": "text/x-python",
   "name": "python",
   "nbconvert_exporter": "python",
   "pygments_lexer": "ipython3",
   "version": "3.8.5"
  }
 },
 "nbformat": 4,
 "nbformat_minor": 5
}
