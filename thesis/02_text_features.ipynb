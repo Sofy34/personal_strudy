{
 "cells": [
  {
   "cell_type": "code",
   "execution_count": 1,
   "id": "c15b9c8b",
   "metadata": {},
   "outputs": [
    {
     "data": {
      "text/plain": [
       "<module 'feature_utils' from './src/feature_utils.py'>"
      ]
     },
     "execution_count": 1,
     "metadata": {},
     "output_type": "execute_result"
    }
   ],
   "source": [
    "import pandas as pd\n",
    "import sklearn\n",
    "import sys\n",
    "sys.path.append('./src/')\n",
    "import doc_utils\n",
    "import feature_utils\n",
    "import imp\n",
    "import numpy as np\n",
    "imp.reload(feature_utils)  "
   ]
  },
  {
   "cell_type": "code",
   "execution_count": 2,
   "id": "7243da6b",
   "metadata": {},
   "outputs": [],
   "source": [
    "from sklearn.feature_extraction.text import CountVectorizer , TfidfVectorizer, TfidfTransformer\n",
    "\n",
    "tdidf = TfidfVectorizer(min_df=4,norm='l1')"
   ]
  },
  {
   "cell_type": "code",
   "execution_count": 3,
   "id": "ed169562",
   "metadata": {},
   "outputs": [],
   "source": [
    "block_db = pd.read_csv(\"block_db.csv\")\n",
    "sent_db = pd.read_csv(\"sent_db.csv\")"
   ]
  },
  {
   "cell_type": "code",
   "execution_count": 4,
   "id": "dc0a0a6b",
   "metadata": {},
   "outputs": [],
   "source": [
    "cl_th_db = sent_db.query(\"par_type in ['client','therapist']\")"
   ]
  },
  {
   "cell_type": "code",
   "execution_count": 5,
   "id": "76a244f7",
   "metadata": {},
   "outputs": [
    {
     "name": "stdout",
     "output_type": "stream",
     "text": [
      "<class 'pandas.core.frame.DataFrame'>\n",
      "RangeIndex: 2943 entries, 0 to 2942\n",
      "Data columns (total 11 columns):\n",
      " #   Column             Non-Null Count  Dtype  \n",
      "---  ------             --------------  -----  \n",
      " 0   text               2943 non-null   object \n",
      " 1   sent_idx_in_block  2943 non-null   float64\n",
      " 2   block_idx          2943 non-null   float64\n",
      " 3   is_nar             2943 non-null   float64\n",
      " 4   doc_idx            2943 non-null   float64\n",
      " 5   par_db_idx         2943 non-null   float64\n",
      " 6   par_idx_in_doc     2943 non-null   float64\n",
      " 7   par_type           2943 non-null   object \n",
      " 8   block_type         2943 non-null   object \n",
      " 9   nar_idx            2943 non-null   float64\n",
      " 10  sent_len           2943 non-null   float64\n",
      "dtypes: float64(8), object(3)\n",
      "memory usage: 253.0+ KB\n"
     ]
    }
   ],
   "source": [
    "sent_db.info()"
   ]
  },
  {
   "cell_type": "markdown",
   "id": "ab438903",
   "metadata": {},
   "source": [
    "## Process with TFidf and run SGDClassifier"
   ]
  },
  {
   "cell_type": "code",
   "execution_count": 6,
   "id": "7ed3c5bd",
   "metadata": {},
   "outputs": [
    {
     "name": "stdout",
     "output_type": "stream",
     "text": [
      "Run model for par_type == 'client'\n",
      "total data len: 1947\n",
      "len train: 1460, len test: 487\n",
      "['10', '12', '14', 'l1a', 'l1r', 'xxx', 'אבא', 'אגיד', 'אה', 'אהה', 'אהיה', 'אומרים', 'אומרת', 'אונס', 'אוקיי', 'איזשהו', 'איזשהי', 'איכשהו', 'אישית', 'איתה']\n",
      "['יחסים', 'יחסית', 'יכולים', 'יכולתי', 'ילד', 'ילדה', 'יצא', 'יצאתי', 'ישבתי', 'ישירות', 'כאילו', 'כולה', 'כוננויות', 'כזאת', 'כיף', 'כלל', 'כשאני', 'לאו', 'לאיזה', 'לבוא']\n",
      "['10', 'אמרת', 'בנינו', 'החופש', 'וזהו', 'ישירות', 'לעתים', 'ממני', 'סיימתי', 'שאלתי', 'תראה']\n"
     ]
    },
    {
     "name": "stderr",
     "output_type": "stream",
     "text": [
      "/home/zsofya/jupyter_git/jup-nb-generic/lib/python3.8/site-packages/sklearn/utils/deprecation.py:87: FutureWarning: Function get_feature_names is deprecated; get_feature_names is deprecated in 1.0 and will be removed in 1.2. Please use get_feature_names_out instead.\n",
      "  warnings.warn(msg, category=FutureWarning)\n",
      "/home/zsofya/jupyter_git/jup-nb-generic/lib/python3.8/site-packages/sklearn/utils/deprecation.py:87: FutureWarning: Function get_feature_names is deprecated; get_feature_names is deprecated in 1.0 and will be removed in 1.2. Please use get_feature_names_out instead.\n",
      "  warnings.warn(msg, category=FutureWarning)\n"
     ]
    },
    {
     "data": {
      "image/png": "[encoded data removed]",
      "text/plain": [
       "<Figure size 1080x432 with 1 Axes>"
      ]
     },
     "metadata": {
      "needs_background": "light"
     },
     "output_type": "display_data"
    },
    {
     "name": "stderr",
     "output_type": "stream",
     "text": [
      "/home/zsofya/jupyter_git/jup-nb-generic/lib/python3.8/site-packages/sklearn/utils/deprecation.py:87: FutureWarning: Function plot_confusion_matrix is deprecated; Function `plot_confusion_matrix` is deprecated in 1.0 and will be removed in 1.2. Use one of the class methods: ConfusionMatrixDisplay.from_predictions or ConfusionMatrixDisplay.from_estimator.\n",
      "  warnings.warn(msg, category=FutureWarning)\n",
      "/home/zsofya/jupyter_git/jup-nb-generic/lib/python3.8/site-packages/sklearn/utils/deprecation.py:87: FutureWarning: Function get_feature_names is deprecated; get_feature_names is deprecated in 1.0 and will be removed in 1.2. Please use get_feature_names_out instead.\n",
      "  warnings.warn(msg, category=FutureWarning)\n",
      "/home/zsofya/jupyter_git/jup-nb-generic/lib/python3.8/site-packages/sklearn/utils/deprecation.py:87: FutureWarning: Function get_feature_names is deprecated; get_feature_names is deprecated in 1.0 and will be removed in 1.2. Please use get_feature_names_out instead.\n",
      "  warnings.warn(msg, category=FutureWarning)\n"
     ]
    },
    {
     "name": "stdout",
     "output_type": "stream",
     "text": [
      "              precision    recall  f1-score   support\n",
      "\n",
      "         0.0       0.48      0.13      0.21       165\n",
      "         1.0       0.68      0.93      0.78       322\n",
      "\n",
      "    accuracy                           0.66       487\n",
      "   macro avg       0.58      0.53      0.49       487\n",
      "weighted avg       0.61      0.66      0.59       487\n",
      "\n",
      "Run model for par_type in ['client','therapist']\n",
      "total data len: 2839\n",
      "len train: 2129, len test: 710\n",
      "['10', '12', '14', 'xxx', 'אבא', 'אגיד', 'אה', 'אהה', 'אהיה', 'אוי', 'אומרים', 'אומרת', 'אונס', 'אוקי', 'אוקיי', 'אחוז', 'אחותי', 'אחי', 'איזשהו', 'איזשהי']\n",
      "['כזאת', 'ככ', 'כלומר', 'כלל', 'כללי', 'כמטפל', 'כשאני', 'כשאתה', 'כשהוא', 'לאו', 'לאחרונה', 'לאט', 'לאיזה', 'לאמא', 'לאנשים', 'לבדוק', 'לבוא', 'לבמט', 'לבנק', 'לבקל']\n",
      "['10', 'באיזה', 'בתל', 'הקטע', 'חודשיים', 'לאיזה', 'לרצות', 'מסוים', 'עבר', 'שאף']\n"
     ]
    },
    {
     "data": {
      "image/png": "[encoded data removed]",
      "text/plain": [
       "<Figure size 432x288 with 2 Axes>"
      ]
     },
     "metadata": {
      "needs_background": "light"
     },
     "output_type": "display_data"
    },
    {
     "data": {
      "image/png": "[encoded data removed]",
      "text/plain": [
       "<Figure size 1080x432 with 1 Axes>"
      ]
     },
     "metadata": {
      "needs_background": "light"
     },
     "output_type": "display_data"
    },
    {
     "name": "stdout",
     "output_type": "stream",
     "text": [
      "              precision    recall  f1-score   support\n",
      "\n",
      "         0.0       0.54      0.24      0.33       285\n",
      "         1.0       0.63      0.86      0.73       425\n",
      "\n",
      "    accuracy                           0.61       710\n",
      "   macro avg       0.58      0.55      0.53       710\n",
      "weighted avg       0.59      0.61      0.57       710\n",
      "\n"
     ]
    },
    {
     "name": "stderr",
     "output_type": "stream",
     "text": [
      "/home/zsofya/jupyter_git/jup-nb-generic/lib/python3.8/site-packages/sklearn/utils/deprecation.py:87: FutureWarning: Function plot_confusion_matrix is deprecated; Function `plot_confusion_matrix` is deprecated in 1.0 and will be removed in 1.2. Use one of the class methods: ConfusionMatrixDisplay.from_predictions or ConfusionMatrixDisplay.from_estimator.\n",
      "  warnings.warn(msg, category=FutureWarning)\n"
     ]
    },
    {
     "data": {
      "image/png": "[encoded data removed]",
      "text/plain": [
       "<Figure size 432x288 with 2 Axes>"
      ]
     },
     "metadata": {
      "needs_background": "light"
     },
     "output_type": "display_data"
    }
   ],
   "source": [
    "queries = [\"par_type == 'client'\",\n",
    "            \"par_type in ['client','therapist']\"]\n",
    "for q in queries:\n",
    "    print(\"Run model for {}\".format(q))\n",
    "    feature_utils.run_model(sent_db.query(q))"
   ]
  },
  {
   "cell_type": "markdown",
   "id": "6edc41eb",
   "metadata": {},
   "source": [
    "## Embedded - fasttext for Hebrew"
   ]
  },
  {
   "cell_type": "code",
   "execution_count": 7,
   "id": "6d3264d2",
   "metadata": {},
   "outputs": [],
   "source": [
    "import fasttext.util\n",
    "ft = fasttext.load_model('./external_src/cc.he.300.bin')"
   ]
  },
  {
   "cell_type": "code",
   "execution_count": 8,
   "id": "ad955563",
   "metadata": {},
   "outputs": [
    {
     "data": {
      "text/html": [
       "<div>\n",
       "<style scoped>\n",
       "    .dataframe tbody tr th:only-of-type {\n",
       "        vertical-align: middle;\n",
       "    }\n",
       "\n",
       "    .dataframe tbody tr th {\n",
       "        vertical-align: top;\n",
       "    }\n",
       "\n",
       "    .dataframe thead th {\n",
       "        text-align: right;\n",
       "    }\n",
       "</style>\n",
       "<table border=\"1\" class=\"dataframe\">\n",
       "  <thead>\n",
       "    <tr style=\"text-align: right;\">\n",
       "      <th></th>\n",
       "      <th>text</th>\n",
       "      <th>sent_idx_in_block</th>\n",
       "      <th>block_idx</th>\n",
       "      <th>is_nar</th>\n",
       "      <th>doc_idx</th>\n",
       "      <th>par_db_idx</th>\n",
       "      <th>par_idx_in_doc</th>\n",
       "      <th>par_type</th>\n",
       "      <th>block_type</th>\n",
       "      <th>nar_idx</th>\n",
       "      <th>sent_len</th>\n",
       "    </tr>\n",
       "  </thead>\n",
       "  <tbody>\n",
       "    <tr>\n",
       "      <th>0</th>\n",
       "      <td>CLIENT</td>\n",
       "      <td>0.000000</td>\n",
       "      <td>0.000000</td>\n",
       "      <td>0.000000</td>\n",
       "      <td>0.000000</td>\n",
       "      <td>0.000000</td>\n",
       "      <td>0.000000</td>\n",
       "      <td>no_mark</td>\n",
       "      <td>not_nar</td>\n",
       "      <td>0.000000</td>\n",
       "      <td>8.000000</td>\n",
       "    </tr>\n",
       "    <tr>\n",
       "      <th>1</th>\n",
       "      <td>THERAPIST</td>\n",
       "      <td>0.000000</td>\n",
       "      <td>1.000000</td>\n",
       "      <td>0.000000</td>\n",
       "      <td>0.000000</td>\n",
       "      <td>1.000000</td>\n",
       "      <td>1.000000</td>\n",
       "      <td>no_mark</td>\n",
       "      <td>not_nar</td>\n",
       "      <td>0.000000</td>\n",
       "      <td>10.000000</td>\n",
       "    </tr>\n",
       "    <tr>\n",
       "      <th>2</th>\n",
       "      <td>התחל</td>\n",
       "      <td>0.000000</td>\n",
       "      <td>2.000000</td>\n",
       "      <td>0.000000</td>\n",
       "      <td>0.000000</td>\n",
       "      <td>2.000000</td>\n",
       "      <td>2.000000</td>\n",
       "      <td>no_mark</td>\n",
       "      <td>not_nar</td>\n",
       "      <td>0.000000</td>\n",
       "      <td>5.000000</td>\n",
       "    </tr>\n",
       "    <tr>\n",
       "      <th>3</th>\n",
       "      <td>שפהעב</td>\n",
       "      <td>0.000000</td>\n",
       "      <td>3.000000</td>\n",
       "      <td>0.000000</td>\n",
       "      <td>0.000000</td>\n",
       "      <td>3.000000</td>\n",
       "      <td>3.000000</td>\n",
       "      <td>no_mark</td>\n",
       "      <td>not_nar</td>\n",
       "      <td>0.000000</td>\n",
       "      <td>6.000000</td>\n",
       "    </tr>\n",
       "    <tr>\n",
       "      <th>4</th>\n",
       "      <td>משתתפים</td>\n",
       "      <td>0.000000</td>\n",
       "      <td>4.000000</td>\n",
       "      <td>0.000000</td>\n",
       "      <td>0.000000</td>\n",
       "      <td>4.000000</td>\n",
       "      <td>4.000000</td>\n",
       "      <td>no_mark</td>\n",
       "      <td>not_nar</td>\n",
       "      <td>0.000000</td>\n",
       "      <td>8.000000</td>\n",
       "    </tr>\n",
       "    <tr>\n",
       "      <th>...</th>\n",
       "      <td>...</td>\n",
       "      <td>...</td>\n",
       "      <td>...</td>\n",
       "      <td>...</td>\n",
       "      <td>...</td>\n",
       "      <td>...</td>\n",
       "      <td>...</td>\n",
       "      <td>...</td>\n",
       "      <td>...</td>\n",
       "      <td>...</td>\n",
       "      <td>...</td>\n",
       "    </tr>\n",
       "    <tr>\n",
       "      <th>2938</th>\n",
       "      <td>ככה כמה דקות אה לא לא לא בסדר</td>\n",
       "      <td>0.000000</td>\n",
       "      <td>1355.000000</td>\n",
       "      <td>0.000000</td>\n",
       "      <td>5.000000</td>\n",
       "      <td>1294.000000</td>\n",
       "      <td>269.000000</td>\n",
       "      <td>therapist</td>\n",
       "      <td>not_nar</td>\n",
       "      <td>0.000000</td>\n",
       "      <td>30.000000</td>\n",
       "    </tr>\n",
       "    <tr>\n",
       "      <th>2939</th>\n",
       "      <td>לא לא לא בסדר יש לך את הדקות בשביל ה</td>\n",
       "      <td>0.000000</td>\n",
       "      <td>1356.000000</td>\n",
       "      <td>0.000000</td>\n",
       "      <td>5.000000</td>\n",
       "      <td>1295.000000</td>\n",
       "      <td>270.000000</td>\n",
       "      <td>client</td>\n",
       "      <td>not_nar</td>\n",
       "      <td>0.000000</td>\n",
       "      <td>37.000000</td>\n",
       "    </tr>\n",
       "    <tr>\n",
       "      <th>2940</th>\n",
       "      <td>יש לך את הדקות בשביל ה</td>\n",
       "      <td>0.000000</td>\n",
       "      <td>1357.000000</td>\n",
       "      <td>0.000000</td>\n",
       "      <td>5.000000</td>\n",
       "      <td>1296.000000</td>\n",
       "      <td>271.000000</td>\n",
       "      <td>therapist</td>\n",
       "      <td>not_nar</td>\n",
       "      <td>0.000000</td>\n",
       "      <td>23.000000</td>\n",
       "    </tr>\n",
       "    <tr>\n",
       "      <th>2941</th>\n",
       "      <td>את הזה השאלון</td>\n",
       "      <td>0.000000</td>\n",
       "      <td>1358.000000</td>\n",
       "      <td>0.000000</td>\n",
       "      <td>5.000000</td>\n",
       "      <td>1297.000000</td>\n",
       "      <td>272.000000</td>\n",
       "      <td>client</td>\n",
       "      <td>not_nar</td>\n",
       "      <td>0.000000</td>\n",
       "      <td>15.000000</td>\n",
       "    </tr>\n",
       "    <tr>\n",
       "      <th>2942</th>\n",
       "      <td>סיום</td>\n",
       "      <td>0.000000</td>\n",
       "      <td>1359.000000</td>\n",
       "      <td>0.000000</td>\n",
       "      <td>5.000000</td>\n",
       "      <td>1298.000000</td>\n",
       "      <td>273.000000</td>\n",
       "      <td>no_mark</td>\n",
       "      <td>not_nar</td>\n",
       "      <td>0.000000</td>\n",
       "      <td>5.000000</td>\n",
       "    </tr>\n",
       "  </tbody>\n",
       "</table>\n",
       "<p>2943 rows × 11 columns</p>\n",
       "</div>"
      ],
      "text/plain": [
       "                                       text  sent_idx_in_block   block_idx  \\\n",
       "0                                    CLIENT           0.000000    0.000000   \n",
       "1                                 THERAPIST           0.000000    1.000000   \n",
       "2                                      התחל           0.000000    2.000000   \n",
       "3                                     שפהעב           0.000000    3.000000   \n",
       "4                                   משתתפים           0.000000    4.000000   \n",
       "...                                     ...                ...         ...   \n",
       "2938          ככה כמה דקות אה לא לא לא בסדר           0.000000 1355.000000   \n",
       "2939   לא לא לא בסדר יש לך את הדקות בשביל ה           0.000000 1356.000000   \n",
       "2940                 יש לך את הדקות בשביל ה           0.000000 1357.000000   \n",
       "2941                          את הזה השאלון           0.000000 1358.000000   \n",
       "2942                                   סיום           0.000000 1359.000000   \n",
       "\n",
       "       is_nar  doc_idx  par_db_idx  par_idx_in_doc   par_type block_type  \\\n",
       "0    0.000000 0.000000    0.000000        0.000000    no_mark    not_nar   \n",
       "1    0.000000 0.000000    1.000000        1.000000    no_mark    not_nar   \n",
       "2    0.000000 0.000000    2.000000        2.000000    no_mark    not_nar   \n",
       "3    0.000000 0.000000    3.000000        3.000000    no_mark    not_nar   \n",
       "4    0.000000 0.000000    4.000000        4.000000    no_mark    not_nar   \n",
       "...       ...      ...         ...             ...        ...        ...   \n",
       "2938 0.000000 5.000000 1294.000000      269.000000  therapist    not_nar   \n",
       "2939 0.000000 5.000000 1295.000000      270.000000     client    not_nar   \n",
       "2940 0.000000 5.000000 1296.000000      271.000000  therapist    not_nar   \n",
       "2941 0.000000 5.000000 1297.000000      272.000000     client    not_nar   \n",
       "2942 0.000000 5.000000 1298.000000      273.000000    no_mark    not_nar   \n",
       "\n",
       "      nar_idx  sent_len  \n",
       "0    0.000000  8.000000  \n",
       "1    0.000000 10.000000  \n",
       "2    0.000000  5.000000  \n",
       "3    0.000000  6.000000  \n",
       "4    0.000000  8.000000  \n",
       "...       ...       ...  \n",
       "2938 0.000000 30.000000  \n",
       "2939 0.000000 37.000000  \n",
       "2940 0.000000 23.000000  \n",
       "2941 0.000000 15.000000  \n",
       "2942 0.000000  5.000000  \n",
       "\n",
       "[2943 rows x 11 columns]"
      ]
     },
     "execution_count": 8,
     "metadata": {},
     "output_type": "execute_result"
    }
   ],
   "source": [
    "sent_db"
   ]
  },
  {
   "cell_type": "code",
   "execution_count": 9,
   "id": "eda9ad31",
   "metadata": {},
   "outputs": [],
   "source": [
    "#ft.get_sentence_vector(sent_db.loc[2939,'text'])"
   ]
  },
  {
   "cell_type": "code",
   "execution_count": 26,
   "id": "882ed647",
   "metadata": {},
   "outputs": [],
   "source": [
    "cl_th_sent_db = sent_db.query(\"par_type in ['client','therapist']\")"
   ]
  },
  {
   "cell_type": "code",
   "execution_count": 27,
   "id": "8f088da6",
   "metadata": {},
   "outputs": [
    {
     "name": "stdout",
     "output_type": "stream",
     "text": [
      "total data len: 2839\n",
      "len train: 2129, len test: 710\n"
     ]
    }
   ],
   "source": [
    "X,y = feature_utils.get_label_and_drop(cl_th_sent_db)\n",
    "text_train,text_test,y_train, y_test = feature_utils.get_train_test_text(X,y)"
   ]
  },
  {
   "cell_type": "code",
   "execution_count": 28,
   "id": "eb9bd680",
   "metadata": {},
   "outputs": [
    {
     "data": {
      "text/plain": [
       "(2129, 300)"
      ]
     },
     "execution_count": 28,
     "metadata": {},
     "output_type": "execute_result"
    }
   ],
   "source": [
    "train_vectors = [ft.get_sentence_vector(sent) for sent in text_train]\n",
    "X_train = np.vstack(train_vectors)\n",
    "X_train.shape"
   ]
  },
  {
   "cell_type": "code",
   "execution_count": 29,
   "id": "e6caea26",
   "metadata": {},
   "outputs": [
    {
     "data": {
      "text/plain": [
       "(2129,)"
      ]
     },
     "execution_count": 29,
     "metadata": {},
     "output_type": "execute_result"
    }
   ],
   "source": [
    "y_train.shape"
   ]
  },
  {
   "cell_type": "code",
   "execution_count": 30,
   "id": "2928ef61",
   "metadata": {},
   "outputs": [
    {
     "data": {
      "text/plain": [
       "(710, 300)"
      ]
     },
     "execution_count": 30,
     "metadata": {},
     "output_type": "execute_result"
    }
   ],
   "source": [
    "test_vectors = [ft.get_sentence_vector(sent) for sent in text_test]\n",
    "X_test = np.vstack(test_vectors)\n",
    "X_test.shape"
   ]
  },
  {
   "cell_type": "code",
   "execution_count": 31,
   "id": "6157c68a",
   "metadata": {},
   "outputs": [
    {
     "data": {
      "text/plain": [
       "(710,)"
      ]
     },
     "execution_count": 31,
     "metadata": {},
     "output_type": "execute_result"
    }
   ],
   "source": [
    "y_test.shape"
   ]
  },
  {
   "cell_type": "code",
   "execution_count": 32,
   "id": "127b4855",
   "metadata": {},
   "outputs": [
    {
     "name": "stdout",
     "output_type": "stream",
     "text": [
      "TEST: 0.746359793330202\n",
      "TRAIN: 0.6309859154929578\n"
     ]
    },
    {
     "name": "stderr",
     "output_type": "stream",
     "text": [
      "/home/zsofya/jupyter_git/jup-nb-generic/lib/python3.8/site-packages/sklearn/linear_model/_logistic.py:814: ConvergenceWarning: lbfgs failed to converge (status=1):\n",
      "STOP: TOTAL NO. of ITERATIONS REACHED LIMIT.\n",
      "\n",
      "Increase the number of iterations (max_iter) or scale the data as shown in:\n",
      "    https://scikit-learn.org/stable/modules/preprocessing.html\n",
      "Please also refer to the documentation for alternative solver options:\n",
      "    https://scikit-learn.org/stable/modules/linear_model.html#logistic-regression\n",
      "  n_iter_i = _check_optimize_result(\n"
     ]
    }
   ],
   "source": [
    "from sklearn.linear_model import LogisticRegression\n",
    "lr = LogisticRegression(C=100).fit(X_train, y_train)\n",
    "y_pred = lr.predict(X_test)\n",
    "\n",
    "print(\"TEST: {}\".format(lr.score(X_train, y_train)))\n",
    "print(\"TRAIN: {}\".format(lr.score(X_test, y_test)))"
   ]
  },
  {
   "cell_type": "code",
   "execution_count": 34,
   "id": "2b67aad4",
   "metadata": {},
   "outputs": [
    {
     "name": "stdout",
     "output_type": "stream",
     "text": [
      "*********LogisticRegression *********\n",
      "*********LogisticRegressionCV *********\n",
      "*********PassiveAggressiveClassifier *********\n",
      "*********Perceptron *********\n",
      "*********RidgeClassifier *********\n",
      "*********RidgeClassifierCV *********\n",
      "*********SGDClassifier *********\n",
      "*********SVC *********\n",
      "*********DecisionTreeClassifier *********\n"
     ]
    }
   ],
   "source": [
    "imp.reload(feature_utils)\n",
    "feature_utils.run_on_all_regerssors(X_train,y_train,\"fasttex\")"
   ]
  },
  {
   "cell_type": "code",
   "execution_count": 36,
   "id": "e6bdf43d",
   "metadata": {},
   "outputs": [
    {
     "data": {
      "text/html": [
       "<div>\n",
       "<style scoped>\n",
       "    .dataframe tbody tr th:only-of-type {\n",
       "        vertical-align: middle;\n",
       "    }\n",
       "\n",
       "    .dataframe tbody tr th {\n",
       "        vertical-align: top;\n",
       "    }\n",
       "\n",
       "    .dataframe thead th {\n",
       "        text-align: right;\n",
       "    }\n",
       "</style>\n",
       "<table border=\"1\" class=\"dataframe\">\n",
       "  <thead>\n",
       "    <tr style=\"text-align: right;\">\n",
       "      <th></th>\n",
       "      <th>f1</th>\n",
       "      <th>roc_auc</th>\n",
       "      <th>recall</th>\n",
       "      <th>average_precision</th>\n",
       "    </tr>\n",
       "  </thead>\n",
       "  <tbody>\n",
       "    <tr>\n",
       "      <th>LogisticRegression_fasttex</th>\n",
       "      <td>0.747314</td>\n",
       "      <td>0.638393</td>\n",
       "      <td>0.918387</td>\n",
       "      <td>0.705755</td>\n",
       "    </tr>\n",
       "    <tr>\n",
       "      <th>SGDClassifier_fasttex</th>\n",
       "      <td>0.743460</td>\n",
       "      <td>0.653990</td>\n",
       "      <td>0.882277</td>\n",
       "      <td>0.711689</td>\n",
       "    </tr>\n",
       "    <tr>\n",
       "      <th>SVC_fasttex</th>\n",
       "      <td>0.741872</td>\n",
       "      <td>0.684143</td>\n",
       "      <td>0.875990</td>\n",
       "      <td>0.766127</td>\n",
       "    </tr>\n",
       "    <tr>\n",
       "      <th>RidgeClassifier_fasttex</th>\n",
       "      <td>0.740725</td>\n",
       "      <td>0.650122</td>\n",
       "      <td>0.862623</td>\n",
       "      <td>0.712695</td>\n",
       "    </tr>\n",
       "    <tr>\n",
       "      <th>RidgeClassifierCV_fasttex</th>\n",
       "      <td>0.740725</td>\n",
       "      <td>0.650150</td>\n",
       "      <td>0.862623</td>\n",
       "      <td>0.712702</td>\n",
       "    </tr>\n",
       "    <tr>\n",
       "      <th>LogisticRegressionCV_fasttex</th>\n",
       "      <td>0.731486</td>\n",
       "      <td>0.659019</td>\n",
       "      <td>0.795952</td>\n",
       "      <td>0.716559</td>\n",
       "    </tr>\n",
       "    <tr>\n",
       "      <th>PassiveAggressiveClassifier_fasttex</th>\n",
       "      <td>0.621397</td>\n",
       "      <td>0.658757</td>\n",
       "      <td>0.678426</td>\n",
       "      <td>0.714095</td>\n",
       "    </tr>\n",
       "    <tr>\n",
       "      <th>DecisionTreeClassifier_fasttex</th>\n",
       "      <td>0.617582</td>\n",
       "      <td>0.544665</td>\n",
       "      <td>0.592618</td>\n",
       "      <td>0.630322</td>\n",
       "    </tr>\n",
       "    <tr>\n",
       "      <th>Perceptron_fasttex</th>\n",
       "      <td>0.477243</td>\n",
       "      <td>0.619129</td>\n",
       "      <td>0.475683</td>\n",
       "      <td>0.689951</td>\n",
       "    </tr>\n",
       "  </tbody>\n",
       "</table>\n",
       "</div>"
      ],
      "text/plain": [
       "                                          f1  roc_auc   recall  \\\n",
       "LogisticRegression_fasttex          0.747314 0.638393 0.918387   \n",
       "SGDClassifier_fasttex               0.743460 0.653990 0.882277   \n",
       "SVC_fasttex                         0.741872 0.684143 0.875990   \n",
       "RidgeClassifier_fasttex             0.740725 0.650122 0.862623   \n",
       "RidgeClassifierCV_fasttex           0.740725 0.650150 0.862623   \n",
       "LogisticRegressionCV_fasttex        0.731486 0.659019 0.795952   \n",
       "PassiveAggressiveClassifier_fasttex 0.621397 0.658757 0.678426   \n",
       "DecisionTreeClassifier_fasttex      0.617582 0.544665 0.592618   \n",
       "Perceptron_fasttex                  0.477243 0.619129 0.475683   \n",
       "\n",
       "                                     average_precision  \n",
       "LogisticRegression_fasttex                    0.705755  \n",
       "SGDClassifier_fasttex                         0.711689  \n",
       "SVC_fasttex                                   0.766127  \n",
       "RidgeClassifier_fasttex                       0.712695  \n",
       "RidgeClassifierCV_fasttex                     0.712702  \n",
       "LogisticRegressionCV_fasttex                  0.716559  \n",
       "PassiveAggressiveClassifier_fasttex           0.714095  \n",
       "DecisionTreeClassifier_fasttex                0.630322  \n",
       "Perceptron_fasttex                            0.689951  "
      ]
     },
     "metadata": {},
     "output_type": "display_data"
    }
   ],
   "source": [
    "display(feature_utils.scores_df.sort_values(by='f1',ascending = False))"
   ]
  },
  {
   "cell_type": "markdown",
   "id": "59364267",
   "metadata": {},
   "source": [
    "## Combine sentence vectors + numeric features"
   ]
  },
  {
   "cell_type": "code",
   "execution_count": null,
   "id": "b69ebcb5",
   "metadata": {},
   "outputs": [],
   "source": []
  }
 ],
 "metadata": {
  "kernelspec": {
   "display_name": "Python 3",
   "language": "python",
   "name": "python3"
  },
  "language_info": {
   "codemirror_mode": {
    "name": "ipython",
    "version": 3
   },
   "file_extension": ".py",
   "mimetype": "text/x-python",
   "name": "python",
   "nbconvert_exporter": "python",
   "pygments_lexer": "ipython3",
   "version": "3.8.5"
  }
 },
 "nbformat": 4,
 "nbformat_minor": 5
}
