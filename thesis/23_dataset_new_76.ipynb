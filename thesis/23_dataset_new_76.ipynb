{
 "cells": [
  {
   "cell_type": "code",
   "execution_count": null,
   "id": "1cbf8ce7",
   "metadata": {},
   "outputs": [],
   "source": [
    "#ensembling\n",
    "from mlxtend.classifier import StackingCVClassifier\n",
    "import numpy as np\n",
    "import pandas as pd\n",
    "import sys, os, glob\n",
    "import imp\n",
    "import seaborn as sns\n",
    "sys.path.append('./src/')\n",
    "import common_utils,my_ensembler, feature_utils, defines, model_utils, my_bert\n",
    "from sklearn.neighbors import KNeighborsClassifier\n",
    "from sklearn_crfsuite import scorers, CRF\n",
    "from sklearn.pipeline import Pipeline\n",
    "import json\n",
    "from operator import itemgetter\n",
    "from sklearn_crfsuite.utils import flatten\n",
    "from sklearn_crfsuite.metrics import sequence_accuracy_score\n",
    "from sklearn.linear_model import LogisticRegression\n",
    "import scipy\n",
    "import sklearn\n",
    "import scipy.stats\n",
    "from sklearn.metrics import make_scorer\n",
    "from sklearn.model_selection import RandomizedSearchCV,GridSearchCV\n",
    "from sklearn_crfsuite import scorers\n",
    "from sklearn_crfsuite import metrics\n",
    "import classes\n",
    "import pickle"
   ]
  },
  {
   "cell_type": "code",
   "execution_count": null,
   "id": "93615af1",
   "metadata": {},
   "outputs": [],
   "source": [
    "dir_name='reparse'\n",
    "seq_len=15\n",
    "step=15\n",
    "cv_split_name='cv_splits_10'\n",
    "merged_str='scaled.binary0.50_merged'\n",
    "doc_indices=np.arange(1,81)\n",
    "doc_indices\n",
    "test_doc_num=8\n",
    "seed=42"
   ]
  },
  {
   "cell_type": "markdown",
   "id": "c7d49d8d",
   "metadata": {},
   "source": [
    "### Dataset without 76 document"
   ]
  },
  {
   "cell_type": "code",
   "execution_count": null,
   "id": "2fe6d407",
   "metadata": {
    "scrolled": true
   },
   "outputs": [],
   "source": [
    "imp.reload(classes)\n",
    "imp.reload(feature_utils)\n",
    "dataset=classes.Dataset(dir_name=dir_name,doc_indices=doc_indices,merged_str=merged_str)\n",
    "dataset.set_tf_params('lemma')\n",
    "dataset.set_tf_params('word')\n",
    "dataset.set_tf_params('char_wb')\n",
    "dataset.pack_dataset()\n",
    "dataset.pack_sent_per_paragraph()\n",
    "dataset.reshape(seq_len,step)\n",
    "dataset.dump_to_file(\"new.76\")"
   ]
  },
  {
   "cell_type": "markdown",
   "id": "5269838d",
   "metadata": {},
   "source": [
    "### Check retrieving the paragraph for cross-validation"
   ]
  },
  {
   "cell_type": "code",
   "execution_count": null,
   "id": "cccdfd16",
   "metadata": {},
   "outputs": [],
   "source": [
    "imp.reload(model_utils)\n",
    "paragraph_column=dataset.get_paragraph([1], '15_15')\n",
    "paragraph_column"
   ]
  },
  {
   "cell_type": "code",
   "execution_count": null,
   "id": "46eddda3",
   "metadata": {},
   "outputs": [],
   "source": [
    "len(flatten(paragraph_column))"
   ]
  },
  {
   "cell_type": "code",
   "execution_count": null,
   "id": "cdcf4d6f",
   "metadata": {},
   "outputs": [],
   "source": [
    "demo_dataset.reshape(seq_len,step)\n"
   ]
  },
  {
   "cell_type": "code",
   "execution_count": null,
   "id": "f1dba4f8",
   "metadata": {},
   "outputs": [],
   "source": [
    "demo_dataset.dump_to_file(\"no.76\")"
   ]
  },
  {
   "cell_type": "markdown",
   "id": "78ca5333",
   "metadata": {},
   "source": [
    "### Load splits of documents as were used for BERT"
   ]
  },
  {
   "cell_type": "code",
   "execution_count": 11,
   "id": "d0121de5",
   "metadata": {},
   "outputs": [
    {
     "name": "stdout",
     "output_type": "stream",
     "text": [
      "Opened /scratch/sim_reg6/users/zsofya/classroom/MSc/personal_study/thesis/dataframes/reparse/cv_splits_10.json\n"
     ]
    },
    {
     "data": {
      "text/plain": [
       "{'0': {'test': [4, 14, 15, 18, 29, 32, 36, 70],\n",
       "  'train': [1,\n",
       "   2,\n",
       "   3,\n",
       "   5,\n",
       "   6,\n",
       "   7,\n",
       "   8,\n",
       "   9,\n",
       "   10,\n",
       "   11,\n",
       "   12,\n",
       "   13,\n",
       "   16,\n",
       "   17,\n",
       "   19,\n",
       "   20,\n",
       "   21,\n",
       "   22,\n",
       "   23,\n",
       "   24,\n",
       "   25,\n",
       "   26,\n",
       "   27,\n",
       "   28,\n",
       "   30,\n",
       "   31,\n",
       "   33,\n",
       "   34,\n",
       "   35,\n",
       "   37,\n",
       "   38,\n",
       "   39,\n",
       "   40,\n",
       "   41,\n",
       "   42,\n",
       "   43,\n",
       "   44,\n",
       "   45,\n",
       "   46,\n",
       "   47,\n",
       "   48,\n",
       "   49,\n",
       "   50,\n",
       "   51,\n",
       "   52,\n",
       "   53,\n",
       "   54,\n",
       "   55,\n",
       "   56,\n",
       "   57,\n",
       "   58,\n",
       "   59,\n",
       "   60,\n",
       "   61,\n",
       "   62,\n",
       "   63,\n",
       "   64,\n",
       "   65,\n",
       "   66,\n",
       "   67,\n",
       "   68,\n",
       "   69,\n",
       "   71,\n",
       "   72,\n",
       "   73,\n",
       "   74,\n",
       "   75,\n",
       "   76,\n",
       "   77,\n",
       "   78,\n",
       "   79,\n",
       "   80]},\n",
       " '1': {'test': [5, 6, 13, 34, 37, 62, 73, 80],\n",
       "  'train': [1,\n",
       "   2,\n",
       "   3,\n",
       "   4,\n",
       "   7,\n",
       "   8,\n",
       "   9,\n",
       "   10,\n",
       "   11,\n",
       "   12,\n",
       "   14,\n",
       "   15,\n",
       "   16,\n",
       "   17,\n",
       "   18,\n",
       "   19,\n",
       "   20,\n",
       "   21,\n",
       "   22,\n",
       "   23,\n",
       "   24,\n",
       "   25,\n",
       "   26,\n",
       "   27,\n",
       "   28,\n",
       "   29,\n",
       "   30,\n",
       "   31,\n",
       "   32,\n",
       "   33,\n",
       "   35,\n",
       "   36,\n",
       "   38,\n",
       "   39,\n",
       "   40,\n",
       "   41,\n",
       "   42,\n",
       "   43,\n",
       "   44,\n",
       "   45,\n",
       "   46,\n",
       "   47,\n",
       "   48,\n",
       "   49,\n",
       "   50,\n",
       "   51,\n",
       "   52,\n",
       "   53,\n",
       "   54,\n",
       "   55,\n",
       "   56,\n",
       "   57,\n",
       "   58,\n",
       "   59,\n",
       "   60,\n",
       "   61,\n",
       "   63,\n",
       "   64,\n",
       "   65,\n",
       "   66,\n",
       "   67,\n",
       "   68,\n",
       "   69,\n",
       "   70,\n",
       "   71,\n",
       "   72,\n",
       "   74,\n",
       "   75,\n",
       "   76,\n",
       "   77,\n",
       "   78,\n",
       "   79]},\n",
       " '2': {'test': [7, 20, 39, 47, 48, 54, 57, 58],\n",
       "  'train': [1,\n",
       "   2,\n",
       "   3,\n",
       "   4,\n",
       "   5,\n",
       "   6,\n",
       "   8,\n",
       "   9,\n",
       "   10,\n",
       "   11,\n",
       "   12,\n",
       "   13,\n",
       "   14,\n",
       "   15,\n",
       "   16,\n",
       "   17,\n",
       "   18,\n",
       "   19,\n",
       "   21,\n",
       "   22,\n",
       "   23,\n",
       "   24,\n",
       "   25,\n",
       "   26,\n",
       "   27,\n",
       "   28,\n",
       "   29,\n",
       "   30,\n",
       "   31,\n",
       "   32,\n",
       "   33,\n",
       "   34,\n",
       "   35,\n",
       "   36,\n",
       "   37,\n",
       "   38,\n",
       "   40,\n",
       "   41,\n",
       "   42,\n",
       "   43,\n",
       "   44,\n",
       "   45,\n",
       "   46,\n",
       "   49,\n",
       "   50,\n",
       "   51,\n",
       "   52,\n",
       "   53,\n",
       "   55,\n",
       "   56,\n",
       "   59,\n",
       "   60,\n",
       "   61,\n",
       "   62,\n",
       "   63,\n",
       "   64,\n",
       "   65,\n",
       "   66,\n",
       "   67,\n",
       "   68,\n",
       "   69,\n",
       "   70,\n",
       "   71,\n",
       "   72,\n",
       "   73,\n",
       "   74,\n",
       "   75,\n",
       "   76,\n",
       "   77,\n",
       "   78,\n",
       "   79,\n",
       "   80]},\n",
       " '3': {'test': [1, 19, 24, 27, 44, 56, 71, 75],\n",
       "  'train': [2,\n",
       "   3,\n",
       "   4,\n",
       "   5,\n",
       "   6,\n",
       "   7,\n",
       "   8,\n",
       "   9,\n",
       "   10,\n",
       "   11,\n",
       "   12,\n",
       "   13,\n",
       "   14,\n",
       "   15,\n",
       "   16,\n",
       "   17,\n",
       "   18,\n",
       "   20,\n",
       "   21,\n",
       "   22,\n",
       "   23,\n",
       "   25,\n",
       "   26,\n",
       "   28,\n",
       "   29,\n",
       "   30,\n",
       "   31,\n",
       "   32,\n",
       "   33,\n",
       "   34,\n",
       "   35,\n",
       "   36,\n",
       "   37,\n",
       "   38,\n",
       "   39,\n",
       "   40,\n",
       "   41,\n",
       "   42,\n",
       "   43,\n",
       "   45,\n",
       "   46,\n",
       "   47,\n",
       "   48,\n",
       "   49,\n",
       "   50,\n",
       "   51,\n",
       "   52,\n",
       "   53,\n",
       "   54,\n",
       "   55,\n",
       "   57,\n",
       "   58,\n",
       "   59,\n",
       "   60,\n",
       "   61,\n",
       "   62,\n",
       "   63,\n",
       "   64,\n",
       "   65,\n",
       "   66,\n",
       "   67,\n",
       "   68,\n",
       "   69,\n",
       "   70,\n",
       "   72,\n",
       "   73,\n",
       "   74,\n",
       "   76,\n",
       "   77,\n",
       "   78,\n",
       "   79,\n",
       "   80]},\n",
       " '4': {'test': [12, 21, 26, 33, 41, 50, 76, 77],\n",
       "  'train': [1,\n",
       "   2,\n",
       "   3,\n",
       "   4,\n",
       "   5,\n",
       "   6,\n",
       "   7,\n",
       "   8,\n",
       "   9,\n",
       "   10,\n",
       "   11,\n",
       "   13,\n",
       "   14,\n",
       "   15,\n",
       "   16,\n",
       "   17,\n",
       "   18,\n",
       "   19,\n",
       "   20,\n",
       "   22,\n",
       "   23,\n",
       "   24,\n",
       "   25,\n",
       "   27,\n",
       "   28,\n",
       "   29,\n",
       "   30,\n",
       "   31,\n",
       "   32,\n",
       "   34,\n",
       "   35,\n",
       "   36,\n",
       "   37,\n",
       "   38,\n",
       "   39,\n",
       "   40,\n",
       "   42,\n",
       "   43,\n",
       "   44,\n",
       "   45,\n",
       "   46,\n",
       "   47,\n",
       "   48,\n",
       "   49,\n",
       "   51,\n",
       "   52,\n",
       "   53,\n",
       "   54,\n",
       "   55,\n",
       "   56,\n",
       "   57,\n",
       "   58,\n",
       "   59,\n",
       "   60,\n",
       "   61,\n",
       "   62,\n",
       "   63,\n",
       "   64,\n",
       "   65,\n",
       "   66,\n",
       "   67,\n",
       "   68,\n",
       "   69,\n",
       "   70,\n",
       "   71,\n",
       "   72,\n",
       "   73,\n",
       "   74,\n",
       "   75,\n",
       "   78,\n",
       "   79,\n",
       "   80]},\n",
       " '5': {'test': [8, 11, 16, 40, 51, 53, 63, 72],\n",
       "  'train': [1,\n",
       "   2,\n",
       "   3,\n",
       "   4,\n",
       "   5,\n",
       "   6,\n",
       "   7,\n",
       "   9,\n",
       "   10,\n",
       "   12,\n",
       "   13,\n",
       "   14,\n",
       "   15,\n",
       "   17,\n",
       "   18,\n",
       "   19,\n",
       "   20,\n",
       "   21,\n",
       "   22,\n",
       "   23,\n",
       "   24,\n",
       "   25,\n",
       "   26,\n",
       "   27,\n",
       "   28,\n",
       "   29,\n",
       "   30,\n",
       "   31,\n",
       "   32,\n",
       "   33,\n",
       "   34,\n",
       "   35,\n",
       "   36,\n",
       "   37,\n",
       "   38,\n",
       "   39,\n",
       "   41,\n",
       "   42,\n",
       "   43,\n",
       "   44,\n",
       "   45,\n",
       "   46,\n",
       "   47,\n",
       "   48,\n",
       "   49,\n",
       "   50,\n",
       "   52,\n",
       "   54,\n",
       "   55,\n",
       "   56,\n",
       "   57,\n",
       "   58,\n",
       "   59,\n",
       "   60,\n",
       "   61,\n",
       "   62,\n",
       "   64,\n",
       "   65,\n",
       "   66,\n",
       "   67,\n",
       "   68,\n",
       "   69,\n",
       "   70,\n",
       "   71,\n",
       "   73,\n",
       "   74,\n",
       "   75,\n",
       "   76,\n",
       "   77,\n",
       "   78,\n",
       "   79,\n",
       "   80]},\n",
       " '6': {'test': [9, 25, 30, 38, 49, 55, 59, 74],\n",
       "  'train': [1,\n",
       "   2,\n",
       "   3,\n",
       "   4,\n",
       "   5,\n",
       "   6,\n",
       "   7,\n",
       "   8,\n",
       "   10,\n",
       "   11,\n",
       "   12,\n",
       "   13,\n",
       "   14,\n",
       "   15,\n",
       "   16,\n",
       "   17,\n",
       "   18,\n",
       "   19,\n",
       "   20,\n",
       "   21,\n",
       "   22,\n",
       "   23,\n",
       "   24,\n",
       "   26,\n",
       "   27,\n",
       "   28,\n",
       "   29,\n",
       "   31,\n",
       "   32,\n",
       "   33,\n",
       "   34,\n",
       "   35,\n",
       "   36,\n",
       "   37,\n",
       "   39,\n",
       "   40,\n",
       "   41,\n",
       "   42,\n",
       "   43,\n",
       "   44,\n",
       "   45,\n",
       "   46,\n",
       "   47,\n",
       "   48,\n",
       "   50,\n",
       "   51,\n",
       "   52,\n",
       "   53,\n",
       "   54,\n",
       "   56,\n",
       "   57,\n",
       "   58,\n",
       "   60,\n",
       "   61,\n",
       "   62,\n",
       "   63,\n",
       "   64,\n",
       "   65,\n",
       "   66,\n",
       "   67,\n",
       "   68,\n",
       "   69,\n",
       "   70,\n",
       "   71,\n",
       "   72,\n",
       "   73,\n",
       "   75,\n",
       "   76,\n",
       "   77,\n",
       "   78,\n",
       "   79,\n",
       "   80]},\n",
       " '7': {'test': [3, 10, 28, 31, 42, 45, 66, 68],\n",
       "  'train': [1,\n",
       "   2,\n",
       "   4,\n",
       "   5,\n",
       "   6,\n",
       "   7,\n",
       "   8,\n",
       "   9,\n",
       "   11,\n",
       "   12,\n",
       "   13,\n",
       "   14,\n",
       "   15,\n",
       "   16,\n",
       "   17,\n",
       "   18,\n",
       "   19,\n",
       "   20,\n",
       "   21,\n",
       "   22,\n",
       "   23,\n",
       "   24,\n",
       "   25,\n",
       "   26,\n",
       "   27,\n",
       "   29,\n",
       "   30,\n",
       "   32,\n",
       "   33,\n",
       "   34,\n",
       "   35,\n",
       "   36,\n",
       "   37,\n",
       "   38,\n",
       "   39,\n",
       "   40,\n",
       "   41,\n",
       "   43,\n",
       "   44,\n",
       "   46,\n",
       "   47,\n",
       "   48,\n",
       "   49,\n",
       "   50,\n",
       "   51,\n",
       "   52,\n",
       "   53,\n",
       "   54,\n",
       "   55,\n",
       "   56,\n",
       "   57,\n",
       "   58,\n",
       "   59,\n",
       "   60,\n",
       "   61,\n",
       "   62,\n",
       "   63,\n",
       "   64,\n",
       "   65,\n",
       "   67,\n",
       "   69,\n",
       "   70,\n",
       "   71,\n",
       "   72,\n",
       "   73,\n",
       "   74,\n",
       "   75,\n",
       "   76,\n",
       "   77,\n",
       "   78,\n",
       "   79,\n",
       "   80]},\n",
       " '8': {'test': [2, 23, 43, 46, 61, 65, 67, 69],\n",
       "  'train': [1,\n",
       "   3,\n",
       "   4,\n",
       "   5,\n",
       "   6,\n",
       "   7,\n",
       "   8,\n",
       "   9,\n",
       "   10,\n",
       "   11,\n",
       "   12,\n",
       "   13,\n",
       "   14,\n",
       "   15,\n",
       "   16,\n",
       "   17,\n",
       "   18,\n",
       "   19,\n",
       "   20,\n",
       "   21,\n",
       "   22,\n",
       "   24,\n",
       "   25,\n",
       "   26,\n",
       "   27,\n",
       "   28,\n",
       "   29,\n",
       "   30,\n",
       "   31,\n",
       "   32,\n",
       "   33,\n",
       "   34,\n",
       "   35,\n",
       "   36,\n",
       "   37,\n",
       "   38,\n",
       "   39,\n",
       "   40,\n",
       "   41,\n",
       "   42,\n",
       "   44,\n",
       "   45,\n",
       "   47,\n",
       "   48,\n",
       "   49,\n",
       "   50,\n",
       "   51,\n",
       "   52,\n",
       "   53,\n",
       "   54,\n",
       "   55,\n",
       "   56,\n",
       "   57,\n",
       "   58,\n",
       "   59,\n",
       "   60,\n",
       "   62,\n",
       "   63,\n",
       "   64,\n",
       "   66,\n",
       "   68,\n",
       "   70,\n",
       "   71,\n",
       "   72,\n",
       "   73,\n",
       "   74,\n",
       "   75,\n",
       "   76,\n",
       "   77,\n",
       "   78,\n",
       "   79,\n",
       "   80]},\n",
       " '9': {'test': [17, 22, 35, 52, 60, 64, 78, 79],\n",
       "  'train': [1,\n",
       "   2,\n",
       "   3,\n",
       "   4,\n",
       "   5,\n",
       "   6,\n",
       "   7,\n",
       "   8,\n",
       "   9,\n",
       "   10,\n",
       "   11,\n",
       "   12,\n",
       "   13,\n",
       "   14,\n",
       "   15,\n",
       "   16,\n",
       "   18,\n",
       "   19,\n",
       "   20,\n",
       "   21,\n",
       "   23,\n",
       "   24,\n",
       "   25,\n",
       "   26,\n",
       "   27,\n",
       "   28,\n",
       "   29,\n",
       "   30,\n",
       "   31,\n",
       "   32,\n",
       "   33,\n",
       "   34,\n",
       "   36,\n",
       "   37,\n",
       "   38,\n",
       "   39,\n",
       "   40,\n",
       "   41,\n",
       "   42,\n",
       "   43,\n",
       "   44,\n",
       "   45,\n",
       "   46,\n",
       "   47,\n",
       "   48,\n",
       "   49,\n",
       "   50,\n",
       "   51,\n",
       "   53,\n",
       "   54,\n",
       "   55,\n",
       "   56,\n",
       "   57,\n",
       "   58,\n",
       "   59,\n",
       "   61,\n",
       "   62,\n",
       "   63,\n",
       "   65,\n",
       "   66,\n",
       "   67,\n",
       "   68,\n",
       "   69,\n",
       "   70,\n",
       "   71,\n",
       "   72,\n",
       "   73,\n",
       "   74,\n",
       "   75,\n",
       "   76,\n",
       "   77,\n",
       "   80]}}"
      ]
     },
     "execution_count": 11,
     "metadata": {},
     "output_type": "execute_result"
    }
   ],
   "source": [
    "cv_splits_loaded=common_utils.load_json(dir_name,cv_split_name)\n",
    "cv_splits_loaded"
   ]
  },
  {
   "cell_type": "code",
   "execution_count": 18,
   "id": "6adc9a91",
   "metadata": {},
   "outputs": [],
   "source": [
    "tmp_split={'0':{'test':[1],'train':[2]}, '1': {'test':[3],'train':[4]}}"
   ]
  },
  {
   "cell_type": "markdown",
   "id": "e8e37132",
   "metadata": {},
   "source": [
    "### Run cross-validation"
   ]
  },
  {
   "cell_type": "code",
   "execution_count": 32,
   "id": "cf138d76",
   "metadata": {
    "scrolled": false
   },
   "outputs": [
    {
     "name": "stdout",
     "output_type": "stream",
     "text": [
      "crf_params not passed\n",
      "0 split started for 72 train sequences...\n",
      "0 split fit of 229 samples took 00:00:27\n",
      "0 split predict took 00:00:00\n",
      "1 split started for 72 train sequences...\n",
      "1 split fit of 267 samples took 00:00:26\n",
      "1 split predict took 00:00:00\n",
      "2 split started for 72 train sequences...\n",
      "2 split fit of 231 samples took 00:00:27\n",
      "2 split predict took 00:00:00\n",
      "3 split started for 72 train sequences...\n",
      "3 split fit of 280 samples took 00:00:26\n",
      "3 split predict took 00:00:00\n",
      "4 split started for 72 train sequences...\n",
      "4 split fit of 258 samples took 00:00:27\n",
      "4 split predict took 00:00:00\n",
      "5 split started for 72 train sequences...\n",
      "5 split fit of 280 samples took 00:00:25\n",
      "5 split predict took 00:00:00\n",
      "6 split started for 72 train sequences...\n",
      "6 split fit of 227 samples took 00:00:26\n",
      "6 split predict took 00:00:00\n",
      "7 split started for 72 train sequences...\n",
      "7 split fit of 284 samples took 00:00:27\n",
      "7 split predict took 00:00:00\n",
      "8 split started for 72 train sequences...\n",
      "8 split fit of 310 samples took 00:00:25\n",
      "8 split predict took 00:00:00\n",
      "9 split started for 72 train sequences...\n",
      "9 split fit of 256 samples took 00:00:25\n",
      "9 split predict took 00:00:00\n"
     ]
    }
   ],
   "source": [
    "imp.reload(model_utils)\n",
    "cv_db_crf=model_utils.prepared_cross_validate_crf(dataset, cv_splits_loaded, seq_len=seq_len, step=step)"
   ]
  },
  {
   "cell_type": "code",
   "execution_count": 33,
   "id": "f7ef378b",
   "metadata": {},
   "outputs": [
    {
     "data": {
      "text/html": [
       "<div>\n",
       "<style scoped>\n",
       "    .dataframe tbody tr th:only-of-type {\n",
       "        vertical-align: middle;\n",
       "    }\n",
       "\n",
       "    .dataframe tbody tr th {\n",
       "        vertical-align: top;\n",
       "    }\n",
       "\n",
       "    .dataframe thead th {\n",
       "        text-align: right;\n",
       "    }\n",
       "</style>\n",
       "<table border=\"1\" class=\"dataframe\">\n",
       "  <thead>\n",
       "    <tr style=\"text-align: right;\">\n",
       "      <th></th>\n",
       "      <th>crf_group</th>\n",
       "      <th>crf_par</th>\n",
       "      <th>crf_split</th>\n",
       "      <th>crf_predicted</th>\n",
       "      <th>crf_true</th>\n",
       "      <th>crf_proba_0</th>\n",
       "      <th>crf_proba_1</th>\n",
       "      <th>crf_sent_idx</th>\n",
       "    </tr>\n",
       "  </thead>\n",
       "  <tbody>\n",
       "    <tr>\n",
       "      <th>0</th>\n",
       "      <td>4</td>\n",
       "      <td>0</td>\n",
       "      <td>0</td>\n",
       "      <td>not_nar</td>\n",
       "      <td>not_nar</td>\n",
       "      <td>0.977135</td>\n",
       "      <td>0.022865</td>\n",
       "      <td>0</td>\n",
       "    </tr>\n",
       "    <tr>\n",
       "      <th>1</th>\n",
       "      <td>4</td>\n",
       "      <td>1</td>\n",
       "      <td>0</td>\n",
       "      <td>not_nar</td>\n",
       "      <td>not_nar</td>\n",
       "      <td>0.976613</td>\n",
       "      <td>0.023387</td>\n",
       "      <td>1</td>\n",
       "    </tr>\n",
       "    <tr>\n",
       "      <th>2</th>\n",
       "      <td>4</td>\n",
       "      <td>2</td>\n",
       "      <td>0</td>\n",
       "      <td>not_nar</td>\n",
       "      <td>not_nar</td>\n",
       "      <td>0.986431</td>\n",
       "      <td>0.013569</td>\n",
       "      <td>2</td>\n",
       "    </tr>\n",
       "    <tr>\n",
       "      <th>3</th>\n",
       "      <td>4</td>\n",
       "      <td>3</td>\n",
       "      <td>0</td>\n",
       "      <td>not_nar</td>\n",
       "      <td>not_nar</td>\n",
       "      <td>0.976959</td>\n",
       "      <td>0.023041</td>\n",
       "      <td>3</td>\n",
       "    </tr>\n",
       "    <tr>\n",
       "      <th>4</th>\n",
       "      <td>4</td>\n",
       "      <td>3</td>\n",
       "      <td>0</td>\n",
       "      <td>not_nar</td>\n",
       "      <td>not_nar</td>\n",
       "      <td>0.948269</td>\n",
       "      <td>0.051731</td>\n",
       "      <td>4</td>\n",
       "    </tr>\n",
       "    <tr>\n",
       "      <th>...</th>\n",
       "      <td>...</td>\n",
       "      <td>...</td>\n",
       "      <td>...</td>\n",
       "      <td>...</td>\n",
       "      <td>...</td>\n",
       "      <td>...</td>\n",
       "      <td>...</td>\n",
       "      <td>...</td>\n",
       "    </tr>\n",
       "    <tr>\n",
       "      <th>38776</th>\n",
       "      <td>79</td>\n",
       "      <td>171</td>\n",
       "      <td>9</td>\n",
       "      <td>not_nar</td>\n",
       "      <td>not_nar</td>\n",
       "      <td>0.888592</td>\n",
       "      <td>0.111408</td>\n",
       "      <td>3773</td>\n",
       "    </tr>\n",
       "    <tr>\n",
       "      <th>38777</th>\n",
       "      <td>79</td>\n",
       "      <td>172</td>\n",
       "      <td>9</td>\n",
       "      <td>not_nar</td>\n",
       "      <td>not_nar</td>\n",
       "      <td>0.996061</td>\n",
       "      <td>0.003939</td>\n",
       "      <td>3774</td>\n",
       "    </tr>\n",
       "    <tr>\n",
       "      <th>38778</th>\n",
       "      <td>79</td>\n",
       "      <td>172</td>\n",
       "      <td>9</td>\n",
       "      <td>not_nar</td>\n",
       "      <td>not_nar</td>\n",
       "      <td>0.999550</td>\n",
       "      <td>0.000450</td>\n",
       "      <td>3775</td>\n",
       "    </tr>\n",
       "    <tr>\n",
       "      <th>38779</th>\n",
       "      <td>79</td>\n",
       "      <td>172</td>\n",
       "      <td>9</td>\n",
       "      <td>not_nar</td>\n",
       "      <td>not_nar</td>\n",
       "      <td>0.999665</td>\n",
       "      <td>0.000335</td>\n",
       "      <td>3776</td>\n",
       "    </tr>\n",
       "    <tr>\n",
       "      <th>38780</th>\n",
       "      <td>79</td>\n",
       "      <td>172</td>\n",
       "      <td>9</td>\n",
       "      <td>not_nar</td>\n",
       "      <td>not_nar</td>\n",
       "      <td>0.998258</td>\n",
       "      <td>0.001742</td>\n",
       "      <td>3777</td>\n",
       "    </tr>\n",
       "  </tbody>\n",
       "</table>\n",
       "<p>38781 rows × 8 columns</p>\n",
       "</div>"
      ],
      "text/plain": [
       "       crf_group  crf_par crf_split crf_predicted crf_true  crf_proba_0  \\\n",
       "0              4        0         0       not_nar  not_nar     0.977135   \n",
       "1              4        1         0       not_nar  not_nar     0.976613   \n",
       "2              4        2         0       not_nar  not_nar     0.986431   \n",
       "3              4        3         0       not_nar  not_nar     0.976959   \n",
       "4              4        3         0       not_nar  not_nar     0.948269   \n",
       "...          ...      ...       ...           ...      ...          ...   \n",
       "38776         79      171         9       not_nar  not_nar     0.888592   \n",
       "38777         79      172         9       not_nar  not_nar     0.996061   \n",
       "38778         79      172         9       not_nar  not_nar     0.999550   \n",
       "38779         79      172         9       not_nar  not_nar     0.999665   \n",
       "38780         79      172         9       not_nar  not_nar     0.998258   \n",
       "\n",
       "       crf_proba_1  crf_sent_idx  \n",
       "0         0.022865             0  \n",
       "1         0.023387             1  \n",
       "2         0.013569             2  \n",
       "3         0.023041             3  \n",
       "4         0.051731             4  \n",
       "...            ...           ...  \n",
       "38776     0.111408          3773  \n",
       "38777     0.003939          3774  \n",
       "38778     0.000450          3775  \n",
       "38779     0.000335          3776  \n",
       "38780     0.001742          3777  \n",
       "\n",
       "[38781 rows x 8 columns]"
      ]
     },
     "execution_count": 33,
     "metadata": {},
     "output_type": "execute_result"
    }
   ],
   "source": [
    "cv_db_crf"
   ]
  },
  {
   "cell_type": "code",
   "execution_count": null,
   "id": "2db6fccf",
   "metadata": {
    "scrolled": false
   },
   "outputs": [],
   "source": [
    "crf_scores, crf_dict = model_utils.get_report_from_splits(cv_db_crf,\"crf\")"
   ]
  },
  {
   "cell_type": "code",
   "execution_count": null,
   "id": "80eed800",
   "metadata": {},
   "outputs": [],
   "source": [
    "crf_dict\n"
   ]
  },
  {
   "cell_type": "code",
   "execution_count": null,
   "id": "6f3512d3",
   "metadata": {},
   "outputs": [],
   "source": [
    "crf_scores,np.mean(crf_scores)"
   ]
  },
  {
   "cell_type": "code",
   "execution_count": null,
   "id": "a0c11afb",
   "metadata": {},
   "outputs": [],
   "source": [
    "worst_split=np.argmin(crf_scores)\n",
    "worst_split"
   ]
  },
  {
   "cell_type": "code",
   "execution_count": null,
   "id": "556bef07",
   "metadata": {},
   "outputs": [],
   "source": [
    "f1={}\n",
    "f1['is_nar']=[]\n",
    "f1['not_nar']=[]\n",
    "for label in f1.keys():\n",
    "    for key,val in crf_dict.items():\n",
    "        f1[label].append(val[label]['f1-score'])"
   ]
  },
  {
   "cell_type": "code",
   "execution_count": null,
   "id": "0d2ad12f",
   "metadata": {},
   "outputs": [],
   "source": [
    "for k,v in f1.items():\n",
    "    print(k,np.mean(v))"
   ]
  },
  {
   "cell_type": "code",
   "execution_count": null,
   "id": "9035fe00",
   "metadata": {},
   "outputs": [],
   "source": [
    "colors=['r','b']\n",
    "linestyle=['dashed','solid']"
   ]
  },
  {
   "cell_type": "code",
   "execution_count": null,
   "id": "61d34886",
   "metadata": {},
   "outputs": [],
   "source": [
    "from matplotlib import pyplot as plt\n",
    "for y, c, st in zip(f1.keys(), colors,linestyle):\n",
    "    data=f1[y]\n",
    "    min_x = np.argmin(data)\n",
    "    min_y = np.min(data)\n",
    "    plt.plot(data,marker='o',color=c,linestyle=st,label=y)#, color='magenta', marker='o',mfc='pink' ) #plot the data\n",
    "#     plt.scatter(min_x, min_y,c='r', label='minimum',zorder =1)\n",
    "plt.xticks(range(0,len(data), 1)) #set the tick frequency on x-axis\n",
    "plt.legend()\n",
    "plt.ylabel('f-1 score') #set the label for y axis\n",
    "plt.xlabel('fold index') #set the label for x-axis\n",
    "plt.title('f-1 score per label') #set the title of the graph\n",
    "plt.show() #display the graph"
   ]
  },
  {
   "cell_type": "code",
   "execution_count": null,
   "id": "5861be2b",
   "metadata": {},
   "outputs": [],
   "source": [
    "f1"
   ]
  },
  {
   "cell_type": "markdown",
   "id": "ed59d1ad",
   "metadata": {},
   "source": [
    "### Try single example"
   ]
  },
  {
   "cell_type": "markdown",
   "id": "5b4a829c",
   "metadata": {},
   "source": [
    "### Search parameters on prepared dataset with prepared splits (same as for BERT)"
   ]
  },
  {
   "cell_type": "code",
   "execution_count": null,
   "id": "e31478fa",
   "metadata": {},
   "outputs": [],
   "source": [
    "dataset  = classes.Dataset(dir_name=dir_name,doc_indices=doc_indices,merged_str=merged_str)\n",
    "dataset_loaded=pickle.load( open( os.path.join(dataset.path,\"dataset_full.p\"), \"rb\" ) )"
   ]
  },
  {
   "cell_type": "code",
   "execution_count": null,
   "id": "b0b16545",
   "metadata": {},
   "outputs": [],
   "source": [
    "imp.reload(model_utils)\n",
    "imp.reload(classes)\n",
    "\n",
    "X,y,g,_ =  model_utils.get_X_y_by_doc_indices(dataset, doc_indices, seq_len, step)"
   ]
  },
  {
   "cell_type": "code",
   "execution_count": null,
   "id": "2df101fd",
   "metadata": {},
   "outputs": [],
   "source": [
    "X[0]"
   ]
  },
  {
   "cell_type": "code",
   "execution_count": null,
   "id": "b47235e1",
   "metadata": {},
   "outputs": [],
   "source": [
    "doc_indices"
   ]
  },
  {
   "cell_type": "code",
   "execution_count": null,
   "id": "764d651c",
   "metadata": {},
   "outputs": [],
   "source": [
    "cv_splits_loaded['0'].keys()"
   ]
  },
  {
   "cell_type": "code",
   "execution_count": null,
   "id": "866d81e9",
   "metadata": {},
   "outputs": [],
   "source": [
    "type(cv_splits_loaded)"
   ]
  },
  {
   "cell_type": "code",
   "execution_count": null,
   "id": "b9605d56",
   "metadata": {},
   "outputs": [],
   "source": [
    "imp.reload(classes)\n",
    "cv_split_classes = []\n",
    "for key,val in cv_splits_loaded.items():\n",
    "    cv_split_classes.append(classes.Split(val['train'],val['test']))\n",
    "cv_split_classes"
   ]
  },
  {
   "cell_type": "code",
   "execution_count": null,
   "id": "a2755c72",
   "metadata": {},
   "outputs": [],
   "source": [
    "imp.reload(model_utils)\n",
    "gsf = model_utils.GroupSplitFold(n_splits=len(cv_split_classes),prepared_splits=cv_split_classes)\n",
    "\n",
    "for tr,ts in gsf.split():\n",
    "    print(ts)"
   ]
  },
  {
   "cell_type": "code",
   "execution_count": null,
   "id": "d32b03c6",
   "metadata": {},
   "outputs": [],
   "source": [
    "imp.reload(model_utils)\n",
    "my_crf = model_utils.CrfClassifier(crf_model=CRF(\n",
    "                max_iterations=100,\n",
    "                all_possible_transitions=True))"
   ]
  },
  {
   "cell_type": "code",
   "execution_count": null,
   "id": "03eb23f9",
   "metadata": {},
   "outputs": [],
   "source": [
    "my_crf.find_best_params(X=X,y=y,groups=g,cv=gsf,random_state=seed)"
   ]
  },
  {
   "cell_type": "markdown",
   "id": "a3002e4e",
   "metadata": {},
   "source": [
    "### First interation of best params"
   ]
  },
  {
   "cell_type": "code",
   "execution_count": null,
   "id": "0d6742d4",
   "metadata": {},
   "outputs": [],
   "source": [
    "params={}"
   ]
  },
  {
   "cell_type": "code",
   "execution_count": null,
   "id": "0c10fc32",
   "metadata": {},
   "outputs": [],
   "source": [
    "params[0]= {'algorithm': ['lbfgs'],\n",
    "        'c1': scipy.stats.expon(scale=0.5),\n",
    "        'c2': scipy.stats.expon(scale=0.05),\n",
    "        'min_freq': np.arange(1, 8, 2)}\n"
   ]
  },
  {
   "cell_type": "code",
   "execution_count": null,
   "id": "889f97ee",
   "metadata": {},
   "outputs": [],
   "source": [
    "my_crf.find_best_params(X=X,y=y,groups=g,cv=gsf,random_state=seed,**params[0])"
   ]
  },
  {
   "cell_type": "code",
   "execution_count": null,
   "id": "4771ac1a",
   "metadata": {},
   "outputs": [],
   "source": [
    "vars(my_crf)"
   ]
  },
  {
   "cell_type": "markdown",
   "id": "90d867bd",
   "metadata": {},
   "source": [
    "### Use f1_score + WinPR for parameters search"
   ]
  },
  {
   "cell_type": "code",
   "execution_count": null,
   "id": "6f71bbb0",
   "metadata": {},
   "outputs": [],
   "source": [
    "imp.reload(classes)\n",
    "mixed_scorer = classes.MyScorer(window_size=40)"
   ]
  },
  {
   "cell_type": "code",
   "execution_count": null,
   "id": "f9bdd548",
   "metadata": {},
   "outputs": [],
   "source": [
    "def score_func(y_true,y_pred):\n",
    "    win_score = win_f1.score_func(y_true,y_pred)\n",
    "    label_score = metrics.flat_f1_score(y_true,y_pred)\n",
    "    print(\"winPR {} label {}\".format(win_score,label_score))\n",
    "    mixed_score = np.average(a=[win_score,label_score],weights=[0.5,0.5])\n",
    "    return mixed_score"
   ]
  },
  {
   "cell_type": "code",
   "execution_count": null,
   "id": "90d381a7",
   "metadata": {},
   "outputs": [],
   "source": [
    "y=[[1,1],[0,0]]\n",
    "y_p=[[1,0],[0,0]]\n",
    "score_func(y,y_p)"
   ]
  },
  {
   "cell_type": "code",
   "execution_count": null,
   "id": "e58a0e7b",
   "metadata": {},
   "outputs": [],
   "source": [
    "crf_mixed_score=model_utils.CrfClassifier(\n",
    "                crf_model=CRF(\n",
    "                max_iterations=100,\n",
    "                all_possible_transitions=True),\n",
    "#                 scorer=score_func)\n",
    "    scorer= mixed_scorer.score_func)"
   ]
  },
  {
   "cell_type": "code",
   "execution_count": null,
   "id": "6a7e306d",
   "metadata": {},
   "outputs": [],
   "source": [
    "vars(crf_mixed_score)"
   ]
  },
  {
   "cell_type": "code",
   "execution_count": null,
   "id": "9a6803b1",
   "metadata": {},
   "outputs": [],
   "source": [
    "X_demo,y_demo,g_demo,_ =  model_utils.get_X_y_by_doc_indices(demo_reloaded_dataset, [1,2], seq_len, step)"
   ]
  },
  {
   "cell_type": "code",
   "execution_count": null,
   "id": "664345c2",
   "metadata": {},
   "outputs": [],
   "source": [
    "imp.reload(model_utils)\n",
    "imp.reload(feature_utils)\n",
    "imp.reload(classes)\n",
    "gsf_demo=model_utils.GroupSplitFold(n_splits=2, n_groups=1)\n",
    "for tr,ts in gsf_demo.split(X=[1,2],groups=[1,2]):\n",
    "    print(ts,tr)"
   ]
  },
  {
   "cell_type": "code",
   "execution_count": null,
   "id": "cc700e3a",
   "metadata": {},
   "outputs": [],
   "source": [
    "crf_mixed_score.find_best_params(X=X_demo,y=y_demo,groups=g_demo,cv=gsf_demo,random_state=seed,**params[0])"
   ]
  },
  {
   "cell_type": "markdown",
   "id": "e2f4f4b3",
   "metadata": {},
   "source": [
    "<b>put aside mixed measure</b>"
   ]
  },
  {
   "cell_type": "code",
   "execution_count": null,
   "id": "aa103410",
   "metadata": {},
   "outputs": [],
   "source": [
    "params[1]= {'algorithm': ['lbfgs'],\n",
    "        'c1': np.arange(0.45,0.49,0.01),\n",
    "        'c2': np.arange(0.008,0.01,0.001),\n",
    "        'min_freq': np.arange(4, 7, 1)}"
   ]
  },
  {
   "cell_type": "code",
   "execution_count": null,
   "id": "690af87b",
   "metadata": {
    "scrolled": true
   },
   "outputs": [],
   "source": [
    "my_crf.find_best_params(X=X,y=y,groups=g,cv=gsf,random_state=seed,**params[1])"
   ]
  },
  {
   "cell_type": "code",
   "execution_count": null,
   "id": "916c9be7",
   "metadata": {},
   "outputs": [],
   "source": [
    "params[4]= {'algorithm': ['lbfgs'],\n",
    "        'c1': np.arange(0.459,0.461,0.001),\n",
    "        'c2': np.arange(0.0069,0.0072,0.0001),\n",
    "        'min_freq': [5]}"
   ]
  },
  {
   "cell_type": "code",
   "execution_count": null,
   "id": "38746802",
   "metadata": {},
   "outputs": [],
   "source": [
    "my_crf.find_best_params(X=X,y=y,groups=g,cv=gsf,random_state=seed,**params[4])"
   ]
  },
  {
   "cell_type": "code",
   "execution_count": null,
   "id": "bc588a80",
   "metadata": {},
   "outputs": [],
   "source": [
    "params[5]= {'algorithm': ['lbfgs'],\n",
    "        'c1': scipy.stats.expon(scale=0.459),\n",
    "        'c2': scipy.stats.expon(scale=0.0071),\n",
    "        'min_freq': [5]}"
   ]
  },
  {
   "cell_type": "code",
   "execution_count": null,
   "id": "5f358015",
   "metadata": {},
   "outputs": [],
   "source": []
  },
  {
   "cell_type": "code",
   "execution_count": null,
   "id": "1d97530a",
   "metadata": {},
   "outputs": [],
   "source": [
    "my_crf.rs[4].best_score_"
   ]
  },
  {
   "cell_type": "code",
   "execution_count": null,
   "id": "13ce2893",
   "metadata": {},
   "outputs": [],
   "source": [
    "my_crf.find_best_params(X=X,y=y,groups=g,cv=gsf,random_state=seed,**params[5])"
   ]
  },
  {
   "cell_type": "code",
   "execution_count": null,
   "id": "27724aad",
   "metadata": {},
   "outputs": [],
   "source": [
    "common_utils.dump_to_file(my_crf.rs[4].best_params_,\"crf.rs.params.793\")"
   ]
  },
  {
   "cell_type": "markdown",
   "id": "4da0e8bf",
   "metadata": {},
   "source": [
    "### Cross-validate CRF on found best parameters"
   ]
  },
  {
   "cell_type": "code",
   "execution_count": null,
   "id": "1f427c8f",
   "metadata": {},
   "outputs": [],
   "source": [
    "imp.reload(model_utils)\n",
    "cv_db_best_params = pd.DataFrame()\n",
    "cv_db=pd.DataFrame()\n",
    "cv_db_best_params=model_utils.prepared_cross_validate_crf(cv_db,dataset, cv_splits_loaded, seq_len, step,**my_crf.rs[4].best_params_)"
   ]
  },
  {
   "cell_type": "code",
   "execution_count": null,
   "id": "2856a5ab",
   "metadata": {},
   "outputs": [],
   "source": [
    "crf_scores_best, crf_dict_best = model_utils.get_report_from_splits(cv_db_best_params,\"crf\")"
   ]
  },
  {
   "cell_type": "code",
   "execution_count": null,
   "id": "b897b195",
   "metadata": {},
   "outputs": [],
   "source": [
    "crf_scores_best,np.mean(crf_scores_best)"
   ]
  },
  {
   "cell_type": "code",
   "execution_count": null,
   "id": "db68f40a",
   "metadata": {},
   "outputs": [],
   "source": [
    "common_utils.save_db(cv_db_best_params,dir_name,\"cv_crf_best_params.78\")"
   ]
  },
  {
   "cell_type": "markdown",
   "id": "2cb01c92",
   "metadata": {},
   "source": [
    "### Try WinPR score"
   ]
  },
  {
   "cell_type": "code",
   "execution_count": null,
   "id": "41bca03d",
   "metadata": {},
   "outputs": [],
   "source": [
    "imp.reload(classes)\n",
    "wd=classes.WinPR(40)\n",
    "\n",
    "def score_func(x):\n",
    "    return wd.score_func(x['crf_true'].tolist(),x['crf_predicted'].tolist())\n",
    "\n",
    "cv_db_crf.groupby('crf_group').apply(score_func)"
   ]
  },
  {
   "cell_type": "code",
   "execution_count": null,
   "id": "481cf44b",
   "metadata": {},
   "outputs": [],
   "source": [
    "imp.reload(model_utils)\n",
    "imp.reload(classes)\n",
    "my_crf = model_utils.CrfClassifier(crf_model=CRF(\n",
    "                max_iterations=100,\n",
    "                all_possible_transitions=True),\n",
    "                scorer=wd.score_func)"
   ]
  },
  {
   "cell_type": "code",
   "execution_count": null,
   "id": "57f6e0ca",
   "metadata": {},
   "outputs": [],
   "source": [
    "params_winpr= {'algorithm': ['lbfgs'],\n",
    "        'c1': scipy.stats.expon(scale=0.5),\n",
    "        'c2': scipy.stats.expon(scale=0.05),\n",
    "        'min_freq': np.arange(1, 8, 2)}"
   ]
  },
  {
   "cell_type": "code",
   "execution_count": null,
   "id": "c697ab7b",
   "metadata": {},
   "outputs": [],
   "source": [
    "my_crf.find_best_params(X=X,y=y,groups=g,cv=gsf,random_state=seed,**params_winpr)"
   ]
  },
  {
   "cell_type": "markdown",
   "id": "50e7c9d8",
   "metadata": {},
   "source": [
    "## Calculate F1 for paragraphs"
   ]
  },
  {
   "cell_type": "code",
   "execution_count": null,
   "id": "ab02ec0f",
   "metadata": {},
   "outputs": [],
   "source": [
    "imp.reload(classes)\n",
    "dataset_par  = classes.Dataset(dir_name=dir_name,doc_indices=doc_indices,merged_str=merged_str)"
   ]
  },
  {
   "cell_type": "markdown",
   "id": "973c0936",
   "metadata": {},
   "source": [
    "### Copy docs map from old dataset to a new one that has implemented get_paragpraph()"
   ]
  },
  {
   "cell_type": "code",
   "execution_count": null,
   "id": "e16894e5",
   "metadata": {},
   "outputs": [],
   "source": [
    "dataset_par.doc_map = dataset.doc_map.copy()"
   ]
  },
  {
   "cell_type": "code",
   "execution_count": null,
   "id": "e76c0ad7",
   "metadata": {
    "scrolled": true
   },
   "outputs": [],
   "source": [
    "vars(dataset_par)"
   ]
  },
  {
   "cell_type": "markdown",
   "id": "a83180ea",
   "metadata": {},
   "source": [
    "### Add paragraph index to result database"
   ]
  },
  {
   "cell_type": "code",
   "execution_count": null,
   "id": "0742532e",
   "metadata": {},
   "outputs": [],
   "source": [
    "def add_paragraph(x):\n",
    "    doc_idx=x['crf_group'].unique()\n",
    "    dataset_par.get_paragraph([doc_idx],'')"
   ]
  },
  {
   "cell_type": "code",
   "execution_count": null,
   "id": "cf76c3f2",
   "metadata": {},
   "outputs": [],
   "source": [
    "cv_db_crf.groupby('crf_group').apply(add_paragraph)"
   ]
  },
  {
   "cell_type": "code",
   "execution_count": null,
   "id": "f9ef95ba",
   "metadata": {},
   "outputs": [],
   "source": [
    "dataset"
   ]
  },
  {
   "cell_type": "code",
   "execution_count": null,
   "id": "84fa6436",
   "metadata": {},
   "outputs": [],
   "source": []
  },
  {
   "cell_type": "code",
   "execution_count": null,
   "id": "e2dc6f76",
   "metadata": {},
   "outputs": [],
   "source": []
  },
  {
   "cell_type": "code",
   "execution_count": null,
   "id": "7d90d014",
   "metadata": {},
   "outputs": [],
   "source": []
  },
  {
   "cell_type": "code",
   "execution_count": null,
   "id": "6621e808",
   "metadata": {},
   "outputs": [],
   "source": [
    "crf_try = CRF(\n",
    "            max_iterations=100,\n",
    "            all_possible_transitions=True,\n",
    "            algorithm='lbfgs'\n",
    "        ).fit(X_train, y_train)"
   ]
  },
  {
   "cell_type": "code",
   "execution_count": null,
   "id": "0b0e313c",
   "metadata": {},
   "outputs": [],
   "source": [
    "y_pred=crf_try.predict(X_test)"
   ]
  },
  {
   "cell_type": "code",
   "execution_count": null,
   "id": "d31cc964",
   "metadata": {},
   "outputs": [],
   "source": [
    "feature_utils.get_prediction_report(flatten(y_test), flatten(\n",
    "                y_pred), crf.classes_)"
   ]
  },
  {
   "cell_type": "markdown",
   "id": "c851d6f0",
   "metadata": {},
   "source": [
    "### Define static parameters for data"
   ]
  },
  {
   "cell_type": "code",
   "execution_count": null,
   "id": "c10ec86c",
   "metadata": {},
   "outputs": [],
   "source": [
    "dir_name='reparse'\n",
    "docs_map_name = 'scaled.binary.5_stop_docs_map.json'\n",
    "crf_params_name='.802_21.07_07:26_best_params.json'\n",
    "ens_crf_db_name   = 'ensemble_crf_cv_db_all'\n",
    "ens_lg_db_name = 'ensemble_lg_cv_db_all'\n",
    "cv_crf_bert_name = 'cv_crf_bert_all'\n",
    "cv_split_name='cv_splits_10'\n",
    "per_par=True\n",
    "seq_len=3\n",
    "step=3\n",
    "test_doc_num=8\n",
    "n_splits=10\n",
    "seed=42"
   ]
  },
  {
   "cell_type": "code",
   "execution_count": null,
   "id": "86dba3a4",
   "metadata": {},
   "outputs": [],
   "source": []
  },
  {
   "cell_type": "markdown",
   "id": "66624cb5",
   "metadata": {},
   "source": [
    "### Load docs map"
   ]
  },
  {
   "cell_type": "code",
   "execution_count": null,
   "id": "b2124a30",
   "metadata": {},
   "outputs": [],
   "source": [
    "imp.reload(common_utils)\n",
    "docs_map=common_utils.get_docs_map(dir_name,docs_map_name,per_par,seq_len,step)"
   ]
  },
  {
   "cell_type": "code",
   "execution_count": null,
   "id": "9e582c45",
   "metadata": {},
   "outputs": [],
   "source": [
    "imp.reload(model_utils)\n",
    "my_crf=model_utils.CrfClassifier(crf)\n",
    "# my_crf.find_best_params(X=x_tr,y=y_tr,groups=g_tr)"
   ]
  },
  {
   "cell_type": "code",
   "execution_count": null,
   "id": "5e23eee9",
   "metadata": {},
   "outputs": [],
   "source": [
    "my_crf.predict_on_best_params(0,X=x_ts,y=y_ts)"
   ]
  },
  {
   "cell_type": "markdown",
   "id": "af54e19c",
   "metadata": {},
   "source": [
    "### Use same splits as for CRF & BERT (10 x 10)"
   ]
  },
  {
   "cell_type": "code",
   "execution_count": null,
   "id": "a1495d11",
   "metadata": {},
   "outputs": [],
   "source": [
    "x=np.arange(1,81)\n",
    "cv_splits_10=model_utils.get_test_train_splits(x,test_doc_num,n_splits,seed)\n",
    "cv_splits_10"
   ]
  },
  {
   "cell_type": "code",
   "execution_count": null,
   "id": "3af47e80",
   "metadata": {},
   "outputs": [],
   "source": [
    "imp.reload(model_utils)\n",
    "cv_splits=model_utils.get_test_train_splits(doc_indices=doc_indices,test_doc_num=2,n_splits=2,seed=42)\n",
    "cv_splits"
   ]
  },
  {
   "cell_type": "code",
   "execution_count": null,
   "id": "2d3b8469",
   "metadata": {},
   "outputs": [],
   "source": [
    "n_splits=10\n",
    "gsf = model_utils.GroupSplitFold(n_splits=n_splits, n_groups=test_doc_num)\n",
    "\n",
    "for tr,ts in gsf.split(X=x, groups=x, seed=seed):\n",
    "    print(ts)"
   ]
  },
  {
   "cell_type": "code",
   "execution_count": null,
   "id": "bba79710",
   "metadata": {},
   "outputs": [],
   "source": [
    "imp.reload(classes)\n",
    "dataset.get_x([1,3],'15_15')"
   ]
  },
  {
   "cell_type": "code",
   "execution_count": null,
   "id": "25a35e08",
   "metadata": {},
   "outputs": [],
   "source": [
    "X,y,groups=model_utils.get_X_y_by_doc_indices(docs_map,list(docs_map.keys()),seq_len,step)"
   ]
  },
  {
   "cell_type": "code",
   "execution_count": null,
   "id": "c6782b2e",
   "metadata": {},
   "outputs": [],
   "source": [
    "tot_len=0\n",
    "check=X\n",
    "for l in check:\n",
    "    if isinstance(l,list):\n",
    "        tot_len+=len(check)\n",
    "tot_len"
   ]
  },
  {
   "cell_type": "code",
   "execution_count": null,
   "id": "78e0a038",
   "metadata": {},
   "outputs": [],
   "source": [
    "rs = {}"
   ]
  },
  {
   "cell_type": "code",
   "execution_count": null,
   "id": "f647e82e",
   "metadata": {},
   "outputs": [],
   "source": [
    "vars(dataset.doc_map[1])"
   ]
  },
  {
   "cell_type": "code",
   "execution_count": null,
   "id": "02f32e88",
   "metadata": {},
   "outputs": [],
   "source": [
    "global iterr"
   ]
  },
  {
   "cell_type": "code",
   "execution_count": null,
   "id": "8d88f75f",
   "metadata": {},
   "outputs": [],
   "source": [
    "def increment_iter():\n",
    "    global iterr\n",
    "    iterr+=1\n",
    "    print('шtter {}'.format(iterr))"
   ]
  },
  {
   "cell_type": "code",
   "execution_count": null,
   "id": "eae0fade",
   "metadata": {},
   "outputs": [],
   "source": [
    "%%time\n",
    "# define fixed parameters and parameters to search\n",
    "increment_iter()\n",
    "crf = CRF(\n",
    "    max_iterations=100,\n",
    "    all_possible_transitions=True,\n",
    "    algorithm='lbfgs'\n",
    ")\n",
    "c1_param_range = np.arange(0.798,0.802,0.001)\n",
    "c2_param_range = np.arange(0.0078,0.0082,0.0001)\n",
    "\n",
    "params_space = {\n",
    "    'c1': c1_param_range,\n",
    "    'c2': c2_param_range,\n",
    "    'min_freq': np.arange(1,4,1),\n",
    "#      'epsilon':scipy.stats.expon(scale=0.00005),\n",
    "#      'delta':scipy.stats.expon(scale=0.00005)\n",
    "}\n",
    "\n",
    "labels = ['not_nar','is_nar']\n",
    "# use the same metric for evaluation\n",
    "f1_scorer = make_scorer(metrics.flat_f1_score,\n",
    "                        average='weighted', labels=labels)\n",
    "\n",
    "# search\n",
    "\n",
    "rs[iterr] = GridSearchCV(crf, params_space,\n",
    "                        cv=gsf,\n",
    "                        verbose=3,\n",
    "                        n_jobs=-1,\n",
    "                        scoring=f1_scorer)\n",
    "\n",
    "rs[iterr].fit(X=X, y=y,groups=groups)"
   ]
  },
  {
   "cell_type": "code",
   "execution_count": null,
   "id": "6c428888",
   "metadata": {},
   "outputs": [],
   "source": [
    "# grid search\n",
    "print('best params:', rs[iterr].best_params_)\n",
    "print('best CV score:', rs[iterr].best_score_)\n",
    "print('model size: {:0.2f}M'.format(rs[iterr].best_estimator_.size_ / 1000000))"
   ]
  },
  {
   "cell_type": "code",
   "execution_count": null,
   "id": "edf47899",
   "metadata": {},
   "outputs": [],
   "source": [
    "rs[0].best_params_,rs[0].best_score_"
   ]
  },
  {
   "cell_type": "code",
   "execution_count": null,
   "id": "df675669",
   "metadata": {},
   "outputs": [],
   "source": [
    "imp.reload(common_utils)\n",
    "common_utils.save_best_params(rs[iterr].best_params_, rs[iterr].best_score_,dir_name)"
   ]
  },
  {
   "cell_type": "code",
   "execution_count": null,
   "id": "9b4848c0",
   "metadata": {},
   "outputs": [],
   "source": [
    "print('best params:', rs.best_params_)\n",
    "print('best CV score:', rs.best_score_)\n",
    "print('model size: {:0.2f}M'.format(rs.best_estimator_.size_ / 1000000))"
   ]
  },
  {
   "cell_type": "code",
   "execution_count": null,
   "id": "3f84e804",
   "metadata": {},
   "outputs": [],
   "source": [
    "print('best params:', rs.best_params_)\n",
    "print('best CV score:', rs.best_score_)\n",
    "print('model size: {:0.2f}M'.format(rs.best_estimator_.size_ / 1000000))"
   ]
  },
  {
   "cell_type": "code",
   "execution_count": null,
   "id": "8957f5d2",
   "metadata": {},
   "outputs": [],
   "source": [
    "print('best params:', rs.best_params_)\n",
    "print('best CV score:', rs.best_score_)\n",
    "print('model size: {:0.2f}M'.format(rs.best_estimator_.size_ / 1000000))"
   ]
  },
  {
   "cell_type": "code",
   "execution_count": null,
   "id": "4e0dc23c",
   "metadata": {},
   "outputs": [],
   "source": [
    "import json\n",
    "from datetime import datetime\n",
    "\n",
    "# datetime object containing current date and time\n",
    "now = datetime.now()\n",
    "dt_string = now.strftime(\"%d.%m_%H:%M\")\n",
    "print(\"date and time =\", dt_string)\n",
    "score=\"{:.3f}\".format(rs.best_score_).lstrip('0')\n",
    "score\n",
    "json_path = os.path.join(os.getcwd(),defines.PATH_TO_DFS,dir_name,\"{}_{}_best_params.json\".format(score,dt_string))\n",
    "\n",
    "best_params_pyth = common_utils.convert_to_python_types(rs.best_params_)\n",
    "json_path\n",
    "with open(json_path, 'w') as fp:\n",
    "    json.dump(best_params_pyth, fp)"
   ]
  },
  {
   "cell_type": "code",
   "execution_count": null,
   "id": "cc3efdda",
   "metadata": {},
   "outputs": [],
   "source": [
    "json_path"
   ]
  },
  {
   "cell_type": "code",
   "execution_count": null,
   "id": "e62417cb",
   "metadata": {},
   "outputs": [],
   "source": []
  }
 ],
 "metadata": {
  "kernelspec": {
   "display_name": "Python 3",
   "language": "python",
   "name": "python3"
  },
  "language_info": {
   "codemirror_mode": {
    "name": "ipython",
    "version": 3
   },
   "file_extension": ".py",
   "mimetype": "text/x-python",
   "name": "python",
   "nbconvert_exporter": "python",
   "pygments_lexer": "ipython3",
   "version": "3.8.5"
  }
 },
 "nbformat": 4,
 "nbformat_minor": 5
}
