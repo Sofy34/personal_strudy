{
 "cells": [
  {
   "cell_type": "code",
   "execution_count": 175,
   "id": "58f6c45e",
   "metadata": {},
   "outputs": [],
   "source": [
    "import ipywidgets as widgets\n",
    "from ipywidgets import interact, interact_manual\n",
    "import sys\n",
    "sys.path.append('./src/')\n",
    "import common_utils,my_ensembler, feature_utils, defines, model_utils, my_bert, classes\n",
    "import numpy as np\n",
    "import imp\n",
    "import pandas as pd\n",
    "import seaborn as sns\n",
    "from sklearn_crfsuite import CRF\n",
    "import matplotlib.pyplot as plt\n",
    "import os"
   ]
  },
  {
   "cell_type": "code",
   "execution_count": 176,
   "id": "62c0869a",
   "metadata": {},
   "outputs": [
    {
     "data": {
      "text/plain": [
       "'/scratch/sim_reg9/users/zsofya/classroom/MSc/personal_study/thesis'"
      ]
     },
     "execution_count": 176,
     "metadata": {},
     "output_type": "execute_result"
    }
   ],
   "source": [
    "os.getcwd()"
   ]
  },
  {
   "cell_type": "code",
   "execution_count": 13,
   "id": "2133bced",
   "metadata": {},
   "outputs": [],
   "source": [
    "dir_name='duplicate'\n",
    "final_pred_name='merged.crf.bert.ens.c.w.l'\n",
    "final_feature_name='local.plot.tfidf.30'\n",
    "dataset_name='dataset_tf.word.char.lemma.full_splits'\n",
    "cv_split_name='cv_splits_per_client'\n",
    "seq_len=15\n",
    "step=15\n",
    "file_prefix='usampl'"
   ]
  },
  {
   "cell_type": "code",
   "execution_count": 173,
   "id": "e41d8065",
   "metadata": {},
   "outputs": [
    {
     "name": "stdout",
     "output_type": "stream",
     "text": [
      "Opened /scratch/sim_reg6/users/zsofya/classroom/MSc/personal_study/thesis/dataframes/duplicate/merged.crf.bert.ens.c.w.l.csv,  index False\n"
     ]
    }
   ],
   "source": [
    "all_pred_crf01=common_utils.load_db(dir_name,final_pred_name)"
   ]
  },
  {
   "cell_type": "code",
   "execution_count": 187,
   "id": "9f9d8cbd",
   "metadata": {},
   "outputs": [
    {
     "name": "stdout",
     "output_type": "stream",
     "text": [
      "Saving /scratch/sim_reg6/users/zsofya/classroom/MSc/personal_study/thesis/dataframes/duplicate/99_selected_indices.json\n"
     ]
    }
   ],
   "source": [
    "imp.reload(classes)\n",
    "imp.reload(common_utils)\n",
    "dummy_doc=classes.DummyDoc()\n",
    "us=classes.MyUndersamplerDoc(dummy_doc)\n",
    "us.undersample(ratio='majority')"
   ]
  },
  {
   "cell_type": "code",
   "execution_count": 188,
   "id": "a54155c3",
   "metadata": {},
   "outputs": [
    {
     "data": {
      "text/plain": [
       "{'doc': <classes.DummyDoc at 0x2b26b265eaf0>,\n",
       " 'ratio': 'majority',\n",
       " 'reshaped_y': array([[0],\n",
       "        [0],\n",
       "        [0],\n",
       "        [1],\n",
       "        [1],\n",
       "        [1],\n",
       "        [0],\n",
       "        [0],\n",
       "        [0],\n",
       "        [0]]),\n",
       " 'rus': RandomUnderSampler(random_state=42, sampling_strategy='majority'),\n",
       " 'selected_y': array([0, 0, 0, 1, 1, 1]),\n",
       " 'selected_indices': array([0, 1, 3, 4, 5, 8])}"
      ]
     },
     "execution_count": 188,
     "metadata": {},
     "output_type": "execute_result"
    }
   ],
   "source": [
    "vars(us)"
   ]
  },
  {
   "cell_type": "code",
   "execution_count": 189,
   "id": "b3eb22ad",
   "metadata": {},
   "outputs": [
    {
     "data": {
      "text/plain": [
       "'duplicate'"
      ]
     },
     "execution_count": 189,
     "metadata": {},
     "output_type": "execute_result"
    }
   ],
   "source": [
    "import os\n",
    "os.path.basename(dataset.path)"
   ]
  },
  {
   "cell_type": "code",
   "execution_count": 193,
   "id": "5268bf2d",
   "metadata": {},
   "outputs": [],
   "source": [
    "dataset=common_utils.load_pickle(dir_name,dataset_name)"
   ]
  },
  {
   "cell_type": "code",
   "execution_count": 194,
   "id": "5669f203",
   "metadata": {},
   "outputs": [
    {
     "data": {
      "text/plain": [
       "613"
      ]
     },
     "execution_count": 194,
     "metadata": {},
     "output_type": "execute_result"
    }
   ],
   "source": [
    "len(dataset.doc_map[1].sent_list)"
   ]
  },
  {
   "cell_type": "code",
   "execution_count": 198,
   "id": "959bb04a",
   "metadata": {},
   "outputs": [
    {
     "data": {
      "text/plain": [
       "512"
      ]
     },
     "execution_count": 198,
     "metadata": {},
     "output_type": "execute_result"
    }
   ],
   "source": [
    "len(dataset.doc_map[1].sent_list)"
   ]
  },
  {
   "cell_type": "code",
   "execution_count": 196,
   "id": "fcb32a6e",
   "metadata": {},
   "outputs": [
    {
     "data": {
      "text/plain": [
       "<module 'classes' from './src/classes.py'>"
      ]
     },
     "execution_count": 196,
     "metadata": {},
     "output_type": "execute_result"
    }
   ],
   "source": [
    "imp.reload(common_utils)\n",
    "imp.reload(classes)"
   ]
  },
  {
   "cell_type": "code",
   "execution_count": 14,
   "id": "e0aae076",
   "metadata": {},
   "outputs": [
    {
     "name": "stdout",
     "output_type": "stream",
     "text": [
      "Opened /scratch/sim_reg9/users/zsofya/classroom/MSc/personal_study/thesis/dataframes/duplicate/cv_splits_per_client.json\n"
     ]
    }
   ],
   "source": [
    "cv_splits_loaded=common_utils.load_json(dir_name,cv_split_name)"
   ]
  },
  {
   "cell_type": "markdown",
   "id": "2c7745ad",
   "metadata": {},
   "source": [
    "## Retrain BERT on resampled"
   ]
  },
  {
   "cell_type": "code",
   "execution_count": 226,
   "id": "f15e702b",
   "metadata": {},
   "outputs": [
    {
     "name": "stdout",
     "output_type": "stream",
     "text": [
      "BertXYTransformer>>>>>>>init() called\n",
      "BertDatasetransformer>>>>>>>init() called\n",
      "BertDatasetransformer>>>>>>>init() called\n",
      "0 split started...\n",
      "BertDatasetransformer>>>>>>>concat() called\n",
      "BertDatasetransformer>>>>>>>transform() called for 69 docs\n"
     ]
    },
    {
     "name": "stderr",
     "output_type": "stream",
     "text": [
      "/home/zsofya/jupyter_git/jup-nb-generic/lib/python3.8/site-packages/transformers/tokenization_utils_base.py:2073: FutureWarning: The `pad_to_max_length` argument is deprecated and will be removed in a future version, use `padding=True` or `padding='longest'` to pad to the longest sequence in the batch, or use `padding='max_length'` to pad to a max length. In this case, you can give a specific length with `max_length` (e.g. `max_length=45`) or leave max_length to None to pad to the maximal input size of the model (e.g. 512 for Bert).\n",
      "  warnings.warn(\n"
     ]
    },
    {
     "name": "stdout",
     "output_type": "stream",
     "text": [
      "y labels are\n",
      " BertDatasetransformer>>>>>>>transform() done for 15730 samples, labels are [0 1]\n",
      "BertDatasetransformer>>>>>>>concat() called\n",
      "BertDatasetransformer>>>>>>>transform() called for 10 docs\n",
      "y labels are\n",
      " BertDatasetransformer>>>>>>>transform() done for 3220 samples, labels are [0 1]\n"
     ]
    },
    {
     "name": "stderr",
     "output_type": "stream",
     "text": [
      "Some weights of BertModel were not initialized from the model checkpoint at onlplab/alephbert-base and are newly initialized: ['bert.pooler.dense.weight', 'bert.pooler.dense.bias']\n",
      "You should probably TRAIN this model on a down-stream task to be able to use it for predictions and inference.\n"
     ]
    },
    {
     "name": "stdout",
     "output_type": "stream",
     "text": [
      "BertTrainValidator>>>>>>> init() called\n",
      "BertTrainValidator>>>>>>> train_validate() called\n",
      "Class Weights: [1. 1.]\n",
      "\n",
      " Epoch 1 / 2\n",
      "\n",
      "Evaluating...\n",
      "Saving best model bert\n",
      "\n",
      "Training Loss: 0.667\n",
      "\n",
      "Validation Loss: 0.625\n",
      "\n",
      " Epoch 2 / 2\n",
      "\n",
      "Evaluating...\n",
      "Saving best model bert\n",
      "\n",
      "Training Loss: 0.602\n",
      "\n",
      "Validation Loss: 0.601\n",
      "0 split train_validate took 00:09:43\n",
      "Saving /scratch/sim_reg6/users/zsofya/classroom/MSc/personal_study/thesis/dataframes/duplicate/split_0_bert_valid_dict_usampl.json\n",
      "Saving /scratch/sim_reg6/users/zsofya/classroom/MSc/personal_study/thesis/dataframes/duplicate/bert_pred_0_usampl.csv, \n",
      "index False\n",
      "float_format %.5f\n",
      "1 split started...\n",
      "BertDatasetransformer>>>>>>>concat() called\n",
      "BertDatasetransformer>>>>>>>transform() called for 69 docs\n"
     ]
    },
    {
     "name": "stderr",
     "output_type": "stream",
     "text": [
      "/home/zsofya/jupyter_git/jup-nb-generic/lib/python3.8/site-packages/transformers/tokenization_utils_base.py:2073: FutureWarning: The `pad_to_max_length` argument is deprecated and will be removed in a future version, use `padding=True` or `padding='longest'` to pad to the longest sequence in the batch, or use `padding='max_length'` to pad to a max length. In this case, you can give a specific length with `max_length` (e.g. `max_length=45`) or leave max_length to None to pad to the maximal input size of the model (e.g. 512 for Bert).\n",
      "  warnings.warn(\n"
     ]
    },
    {
     "name": "stdout",
     "output_type": "stream",
     "text": [
      "y labels are\n",
      " BertDatasetransformer>>>>>>>transform() done for 16784 samples, labels are [0 1]\n",
      "BertDatasetransformer>>>>>>>concat() called\n",
      "BertDatasetransformer>>>>>>>transform() called for 10 docs\n",
      "y labels are\n",
      " BertDatasetransformer>>>>>>>transform() done for 2166 samples, labels are [0 1]\n"
     ]
    },
    {
     "name": "stderr",
     "output_type": "stream",
     "text": [
      "Some weights of BertModel were not initialized from the model checkpoint at onlplab/alephbert-base and are newly initialized: ['bert.pooler.dense.weight', 'bert.pooler.dense.bias']\n",
      "You should probably TRAIN this model on a down-stream task to be able to use it for predictions and inference.\n"
     ]
    },
    {
     "name": "stdout",
     "output_type": "stream",
     "text": [
      "BertTrainValidator>>>>>>> init() called\n",
      "BertTrainValidator>>>>>>> train_validate() called\n",
      "Class Weights: [1. 1.]\n",
      "\n",
      " Epoch 1 / 2\n",
      "\n",
      "Evaluating...\n",
      "Saving best model bert\n",
      "\n",
      "Training Loss: 0.664\n",
      "\n",
      "Validation Loss: 0.612\n",
      "\n",
      " Epoch 2 / 2\n",
      "\n",
      "Evaluating...\n",
      "Saving best model bert\n",
      "\n",
      "Training Loss: 0.601\n",
      "\n",
      "Validation Loss: 0.585\n",
      "1 split train_validate took 00:10:33\n",
      "Saving /scratch/sim_reg6/users/zsofya/classroom/MSc/personal_study/thesis/dataframes/duplicate/split_1_bert_valid_dict_usampl.json\n",
      "Saving /scratch/sim_reg6/users/zsofya/classroom/MSc/personal_study/thesis/dataframes/duplicate/bert_pred_1_usampl.csv, \n",
      "index False\n",
      "float_format %.5f\n",
      "2 split started...\n",
      "BertDatasetransformer>>>>>>>concat() called\n",
      "BertDatasetransformer>>>>>>>transform() called for 69 docs\n"
     ]
    },
    {
     "name": "stderr",
     "output_type": "stream",
     "text": [
      "/home/zsofya/jupyter_git/jup-nb-generic/lib/python3.8/site-packages/transformers/tokenization_utils_base.py:2073: FutureWarning: The `pad_to_max_length` argument is deprecated and will be removed in a future version, use `padding=True` or `padding='longest'` to pad to the longest sequence in the batch, or use `padding='max_length'` to pad to a max length. In this case, you can give a specific length with `max_length` (e.g. `max_length=45`) or leave max_length to None to pad to the maximal input size of the model (e.g. 512 for Bert).\n",
      "  warnings.warn(\n"
     ]
    },
    {
     "name": "stdout",
     "output_type": "stream",
     "text": [
      "y labels are\n",
      " BertDatasetransformer>>>>>>>transform() done for 15252 samples, labels are [0 1]\n",
      "BertDatasetransformer>>>>>>>concat() called\n",
      "BertDatasetransformer>>>>>>>transform() called for 10 docs\n",
      "y labels are\n",
      " BertDatasetransformer>>>>>>>transform() done for 3698 samples, labels are [0 1]\n"
     ]
    },
    {
     "name": "stderr",
     "output_type": "stream",
     "text": [
      "Some weights of BertModel were not initialized from the model checkpoint at onlplab/alephbert-base and are newly initialized: ['bert.pooler.dense.weight', 'bert.pooler.dense.bias']\n",
      "You should probably TRAIN this model on a down-stream task to be able to use it for predictions and inference.\n"
     ]
    },
    {
     "name": "stdout",
     "output_type": "stream",
     "text": [
      "BertTrainValidator>>>>>>> init() called\n",
      "BertTrainValidator>>>>>>> train_validate() called\n",
      "Class Weights: [1. 1.]\n",
      "\n",
      " Epoch 1 / 2\n",
      "\n",
      "Evaluating...\n",
      "Saving best model bert\n",
      "\n",
      "Training Loss: 0.671\n",
      "\n",
      "Validation Loss: 0.629\n",
      "\n",
      " Epoch 2 / 2\n",
      "\n",
      "Evaluating...\n",
      "Saving best model bert\n",
      "\n",
      "Training Loss: 0.605\n",
      "\n",
      "Validation Loss: 0.600\n",
      "2 split train_validate took 00:09:56\n",
      "Saving /scratch/sim_reg6/users/zsofya/classroom/MSc/personal_study/thesis/dataframes/duplicate/split_2_bert_valid_dict_usampl.json\n",
      "Saving /scratch/sim_reg6/users/zsofya/classroom/MSc/personal_study/thesis/dataframes/duplicate/bert_pred_2_usampl.csv, \n",
      "index False\n",
      "float_format %.5f\n",
      "3 split started...\n",
      "BertDatasetransformer>>>>>>>concat() called\n",
      "BertDatasetransformer>>>>>>>transform() called for 70 docs\n"
     ]
    },
    {
     "name": "stderr",
     "output_type": "stream",
     "text": [
      "/home/zsofya/jupyter_git/jup-nb-generic/lib/python3.8/site-packages/transformers/tokenization_utils_base.py:2073: FutureWarning: The `pad_to_max_length` argument is deprecated and will be removed in a future version, use `padding=True` or `padding='longest'` to pad to the longest sequence in the batch, or use `padding='max_length'` to pad to a max length. In this case, you can give a specific length with `max_length` (e.g. `max_length=45`) or leave max_length to None to pad to the maximal input size of the model (e.g. 512 for Bert).\n",
      "  warnings.warn(\n"
     ]
    },
    {
     "name": "stdout",
     "output_type": "stream",
     "text": [
      "y labels are\n",
      " BertDatasetransformer>>>>>>>transform() done for 18436 samples, labels are [0 1]\n",
      "BertDatasetransformer>>>>>>>concat() called\n",
      "BertDatasetransformer>>>>>>>transform() called for 9 docs\n",
      "y labels are\n",
      " BertDatasetransformer>>>>>>>transform() done for 514 samples, labels are [0 1]\n"
     ]
    },
    {
     "name": "stderr",
     "output_type": "stream",
     "text": [
      "Some weights of BertModel were not initialized from the model checkpoint at onlplab/alephbert-base and are newly initialized: ['bert.pooler.dense.weight', 'bert.pooler.dense.bias']\n",
      "You should probably TRAIN this model on a down-stream task to be able to use it for predictions and inference.\n"
     ]
    },
    {
     "name": "stdout",
     "output_type": "stream",
     "text": [
      "BertTrainValidator>>>>>>> init() called\n",
      "BertTrainValidator>>>>>>> train_validate() called\n",
      "Class Weights: [1. 1.]\n",
      "\n",
      " Epoch 1 / 2\n",
      "\n",
      "Evaluating...\n",
      "Saving best model bert\n",
      "\n",
      "Training Loss: 0.665\n",
      "\n",
      "Validation Loss: 0.722\n",
      "\n",
      " Epoch 2 / 2\n",
      "\n",
      "Evaluating...\n",
      "\n",
      "Training Loss: 0.599\n",
      "\n",
      "Validation Loss: 0.741\n",
      "3 split train_validate took 00:12:19\n",
      "Saving /scratch/sim_reg6/users/zsofya/classroom/MSc/personal_study/thesis/dataframes/duplicate/split_3_bert_valid_dict_usampl.json\n",
      "Saving /scratch/sim_reg6/users/zsofya/classroom/MSc/personal_study/thesis/dataframes/duplicate/bert_pred_3_usampl.csv, \n",
      "index False\n",
      "float_format %.5f\n",
      "4 split started...\n",
      "BertDatasetransformer>>>>>>>concat() called\n",
      "BertDatasetransformer>>>>>>>transform() called for 69 docs\n"
     ]
    },
    {
     "name": "stderr",
     "output_type": "stream",
     "text": [
      "/home/zsofya/jupyter_git/jup-nb-generic/lib/python3.8/site-packages/transformers/tokenization_utils_base.py:2073: FutureWarning: The `pad_to_max_length` argument is deprecated and will be removed in a future version, use `padding=True` or `padding='longest'` to pad to the longest sequence in the batch, or use `padding='max_length'` to pad to a max length. In this case, you can give a specific length with `max_length` (e.g. `max_length=45`) or leave max_length to None to pad to the maximal input size of the model (e.g. 512 for Bert).\n",
      "  warnings.warn(\n"
     ]
    },
    {
     "name": "stdout",
     "output_type": "stream",
     "text": [
      "y labels are\n",
      " BertDatasetransformer>>>>>>>transform() done for 15936 samples, labels are [0 1]\n",
      "BertDatasetransformer>>>>>>>concat() called\n",
      "BertDatasetransformer>>>>>>>transform() called for 10 docs\n",
      "y labels are\n",
      " BertDatasetransformer>>>>>>>transform() done for 3014 samples, labels are [0 1]\n"
     ]
    },
    {
     "name": "stderr",
     "output_type": "stream",
     "text": [
      "Some weights of BertModel were not initialized from the model checkpoint at onlplab/alephbert-base and are newly initialized: ['bert.pooler.dense.weight', 'bert.pooler.dense.bias']\n",
      "You should probably TRAIN this model on a down-stream task to be able to use it for predictions and inference.\n"
     ]
    },
    {
     "name": "stdout",
     "output_type": "stream",
     "text": [
      "BertTrainValidator>>>>>>> init() called\n",
      "BertTrainValidator>>>>>>> train_validate() called\n",
      "Class Weights: [1. 1.]\n",
      "\n",
      " Epoch 1 / 2\n",
      "\n",
      "Evaluating...\n",
      "Saving best model bert\n",
      "\n",
      "Training Loss: 0.661\n",
      "\n",
      "Validation Loss: 0.644\n",
      "\n",
      " Epoch 2 / 2\n",
      "\n",
      "Evaluating...\n",
      "\n",
      "Training Loss: 0.600\n",
      "\n",
      "Validation Loss: 0.645\n",
      "4 split train_validate took 00:10:15\n",
      "Saving /scratch/sim_reg6/users/zsofya/classroom/MSc/personal_study/thesis/dataframes/duplicate/split_4_bert_valid_dict_usampl.json\n",
      "Saving /scratch/sim_reg6/users/zsofya/classroom/MSc/personal_study/thesis/dataframes/duplicate/bert_pred_4_usampl.csv, \n",
      "index False\n",
      "float_format %.5f\n",
      "5 split started...\n",
      "BertDatasetransformer>>>>>>>concat() called\n",
      "BertDatasetransformer>>>>>>>transform() called for 69 docs\n"
     ]
    },
    {
     "name": "stderr",
     "output_type": "stream",
     "text": [
      "/home/zsofya/jupyter_git/jup-nb-generic/lib/python3.8/site-packages/transformers/tokenization_utils_base.py:2073: FutureWarning: The `pad_to_max_length` argument is deprecated and will be removed in a future version, use `padding=True` or `padding='longest'` to pad to the longest sequence in the batch, or use `padding='max_length'` to pad to a max length. In this case, you can give a specific length with `max_length` (e.g. `max_length=45`) or leave max_length to None to pad to the maximal input size of the model (e.g. 512 for Bert).\n",
      "  warnings.warn(\n"
     ]
    },
    {
     "name": "stdout",
     "output_type": "stream",
     "text": [
      "y labels are\n",
      " BertDatasetransformer>>>>>>>transform() done for 16778 samples, labels are [0 1]\n",
      "BertDatasetransformer>>>>>>>concat() called\n",
      "BertDatasetransformer>>>>>>>transform() called for 10 docs\n",
      "y labels are\n",
      " BertDatasetransformer>>>>>>>transform() done for 2172 samples, labels are [0 1]\n"
     ]
    },
    {
     "name": "stderr",
     "output_type": "stream",
     "text": [
      "Some weights of BertModel were not initialized from the model checkpoint at onlplab/alephbert-base and are newly initialized: ['bert.pooler.dense.weight', 'bert.pooler.dense.bias']\n",
      "You should probably TRAIN this model on a down-stream task to be able to use it for predictions and inference.\n"
     ]
    },
    {
     "name": "stdout",
     "output_type": "stream",
     "text": [
      "BertTrainValidator>>>>>>> init() called\n",
      "BertTrainValidator>>>>>>> train_validate() called\n",
      "Class Weights: [1. 1.]\n",
      "\n",
      " Epoch 1 / 2\n",
      "\n",
      "Evaluating...\n",
      "Saving best model bert\n",
      "\n",
      "Training Loss: 0.661\n",
      "\n",
      "Validation Loss: 0.594\n",
      "\n",
      " Epoch 2 / 2\n",
      "\n",
      "Evaluating...\n",
      "Saving best model bert\n",
      "\n",
      "Training Loss: 0.602\n",
      "\n",
      "Validation Loss: 0.566\n",
      "5 split train_validate took 00:10:46\n",
      "Saving /scratch/sim_reg6/users/zsofya/classroom/MSc/personal_study/thesis/dataframes/duplicate/split_5_bert_valid_dict_usampl.json\n",
      "Saving /scratch/sim_reg6/users/zsofya/classroom/MSc/personal_study/thesis/dataframes/duplicate/bert_pred_5_usampl.csv, \n",
      "index False\n",
      "float_format %.5f\n",
      "6 split started...\n",
      "BertDatasetransformer>>>>>>>concat() called\n",
      "BertDatasetransformer>>>>>>>transform() called for 69 docs\n"
     ]
    },
    {
     "name": "stderr",
     "output_type": "stream",
     "text": [
      "/home/zsofya/jupyter_git/jup-nb-generic/lib/python3.8/site-packages/transformers/tokenization_utils_base.py:2073: FutureWarning: The `pad_to_max_length` argument is deprecated and will be removed in a future version, use `padding=True` or `padding='longest'` to pad to the longest sequence in the batch, or use `padding='max_length'` to pad to a max length. In this case, you can give a specific length with `max_length` (e.g. `max_length=45`) or leave max_length to None to pad to the maximal input size of the model (e.g. 512 for Bert).\n",
      "  warnings.warn(\n"
     ]
    },
    {
     "name": "stdout",
     "output_type": "stream",
     "text": [
      "y labels are\n",
      " BertDatasetransformer>>>>>>>transform() done for 16130 samples, labels are [0 1]\n",
      "BertDatasetransformer>>>>>>>concat() called\n",
      "BertDatasetransformer>>>>>>>transform() called for 10 docs\n",
      "y labels are\n",
      " BertDatasetransformer>>>>>>>transform() done for 2820 samples, labels are [0 1]\n"
     ]
    },
    {
     "name": "stderr",
     "output_type": "stream",
     "text": [
      "Some weights of BertModel were not initialized from the model checkpoint at onlplab/alephbert-base and are newly initialized: ['bert.pooler.dense.weight', 'bert.pooler.dense.bias']\n",
      "You should probably TRAIN this model on a down-stream task to be able to use it for predictions and inference.\n"
     ]
    },
    {
     "name": "stdout",
     "output_type": "stream",
     "text": [
      "BertTrainValidator>>>>>>> init() called\n",
      "BertTrainValidator>>>>>>> train_validate() called\n",
      "Class Weights: [1. 1.]\n",
      "\n",
      " Epoch 1 / 2\n",
      "\n",
      "Evaluating...\n",
      "Saving best model bert\n",
      "\n",
      "Training Loss: 0.663\n",
      "\n",
      "Validation Loss: 0.622\n",
      "\n",
      " Epoch 2 / 2\n",
      "\n",
      "Evaluating...\n",
      "Saving best model bert\n",
      "\n",
      "Training Loss: 0.600\n",
      "\n",
      "Validation Loss: 0.608\n",
      "6 split train_validate took 00:10:19\n",
      "Saving /scratch/sim_reg6/users/zsofya/classroom/MSc/personal_study/thesis/dataframes/duplicate/split_6_bert_valid_dict_usampl.json\n",
      "Saving /scratch/sim_reg6/users/zsofya/classroom/MSc/personal_study/thesis/dataframes/duplicate/bert_pred_6_usampl.csv, \n",
      "index False\n",
      "float_format %.5f\n",
      "7 split started...\n",
      "BertDatasetransformer>>>>>>>concat() called\n",
      "BertDatasetransformer>>>>>>>transform() called for 69 docs\n"
     ]
    },
    {
     "name": "stderr",
     "output_type": "stream",
     "text": [
      "/home/zsofya/jupyter_git/jup-nb-generic/lib/python3.8/site-packages/transformers/tokenization_utils_base.py:2073: FutureWarning: The `pad_to_max_length` argument is deprecated and will be removed in a future version, use `padding=True` or `padding='longest'` to pad to the longest sequence in the batch, or use `padding='max_length'` to pad to a max length. In this case, you can give a specific length with `max_length` (e.g. `max_length=45`) or leave max_length to None to pad to the maximal input size of the model (e.g. 512 for Bert).\n",
      "  warnings.warn(\n"
     ]
    },
    {
     "name": "stdout",
     "output_type": "stream",
     "text": [
      "y labels are\n",
      " BertDatasetransformer>>>>>>>transform() done for 17604 samples, labels are [0 1]\n",
      "BertDatasetransformer>>>>>>>concat() called\n",
      "BertDatasetransformer>>>>>>>transform() called for 10 docs\n",
      "y labels are\n",
      " BertDatasetransformer>>>>>>>transform() done for 1346 samples, labels are [0 1]\n"
     ]
    },
    {
     "name": "stderr",
     "output_type": "stream",
     "text": [
      "Some weights of BertModel were not initialized from the model checkpoint at onlplab/alephbert-base and are newly initialized: ['bert.pooler.dense.weight', 'bert.pooler.dense.bias']\n",
      "You should probably TRAIN this model on a down-stream task to be able to use it for predictions and inference.\n"
     ]
    },
    {
     "name": "stdout",
     "output_type": "stream",
     "text": [
      "BertTrainValidator>>>>>>> init() called\n",
      "BertTrainValidator>>>>>>> train_validate() called\n",
      "Class Weights: [1. 1.]\n",
      "\n",
      " Epoch 1 / 2\n",
      "\n",
      "Evaluating...\n",
      "Saving best model bert\n",
      "\n",
      "Training Loss: 0.656\n",
      "\n",
      "Validation Loss: 0.561\n",
      "\n",
      " Epoch 2 / 2\n",
      "\n",
      "Evaluating...\n",
      "Saving best model bert\n",
      "\n",
      "Training Loss: 0.601\n",
      "\n",
      "Validation Loss: 0.544\n",
      "7 split train_validate took 00:11:00\n",
      "Saving /scratch/sim_reg6/users/zsofya/classroom/MSc/personal_study/thesis/dataframes/duplicate/split_7_bert_valid_dict_usampl.json\n",
      "Saving /scratch/sim_reg6/users/zsofya/classroom/MSc/personal_study/thesis/dataframes/duplicate/bert_pred_7_usampl.csv, \n",
      "index False\n",
      "float_format %.5f\n"
     ]
    }
   ],
   "source": [
    "imp.reload(common_utils)\n",
    "imp.reload(my_bert)\n",
    "imp.reload(model_utils)\n",
    "bert_pred=my_bert.prepared_cross_validate_bert(docs_map=dataset,\n",
    "                                                cv_splits=cv_splits_loaded,\n",
    "                                                epoch=2,\n",
    "                                                batch_size=512,\n",
    "                                                dir_name=dir_name,\n",
    "                                                file_prefix=file_prefix)"
   ]
  },
  {
   "cell_type": "code",
   "execution_count": 228,
   "id": "45267c7b",
   "metadata": {},
   "outputs": [
    {
     "name": "stdout",
     "output_type": "stream",
     "text": [
      "MyScoreSummarizer init called\n",
      "MyReport init called\n",
      "Saving /scratch/sim_reg6/users/zsofya/classroom/MSc/personal_study/thesis/dataframes/duplicate/bert.report.tf.per.split.usampl.csv, \n",
      "index True\n",
      "float_format %.3f\n",
      "Saving /scratch/sim_reg6/users/zsofya/classroom/MSc/personal_study/thesis/dataframes/duplicate/bert.pred.tf.per.split.usampl.csv, \n",
      "index True\n",
      "float_format %.3f\n"
     ]
    }
   ],
   "source": [
    "imp.reload(classes)\n",
    "bert_report=classes.MyScoreSummarizer(pred_df=bert_pred,fix_list=[],prefixes=['bert'])\n",
    "bert_report.get_all_scores('split')\n",
    "bert_report.print_df['bert'].index.name='label'\n",
    "common_utils.save_db(bert_report.print_df['bert'],dir_name,'bert.report.tf.per.split.{}'.format(file_prefix),keep_index=True,float_format='%.3f')\n",
    "common_utils.save_db(bert_pred,dir_name,'bert.pred.tf.per.split.{}'.format(file_prefix),keep_index=True,float_format='%.3f')"
   ]
  },
  {
   "cell_type": "code",
   "execution_count": 229,
   "id": "4f41e979",
   "metadata": {},
   "outputs": [
    {
     "data": {
      "text/html": [
       "<div>\n",
       "<style scoped>\n",
       "    .dataframe tbody tr th:only-of-type {\n",
       "        vertical-align: middle;\n",
       "    }\n",
       "\n",
       "    .dataframe tbody tr th {\n",
       "        vertical-align: top;\n",
       "    }\n",
       "\n",
       "    .dataframe thead th {\n",
       "        text-align: right;\n",
       "    }\n",
       "</style>\n",
       "<table border=\"1\" class=\"dataframe\">\n",
       "  <thead>\n",
       "    <tr style=\"text-align: right;\">\n",
       "      <th></th>\n",
       "      <th>sent_f1</th>\n",
       "      <th>sent_recall</th>\n",
       "      <th>sent_prec</th>\n",
       "    </tr>\n",
       "    <tr>\n",
       "      <th>label</th>\n",
       "      <th></th>\n",
       "      <th></th>\n",
       "      <th></th>\n",
       "    </tr>\n",
       "  </thead>\n",
       "  <tbody>\n",
       "    <tr>\n",
       "      <th>0</th>\n",
       "      <td>0.707</td>\n",
       "      <td>0.788</td>\n",
       "      <td>0.643</td>\n",
       "    </tr>\n",
       "    <tr>\n",
       "      <th>1</th>\n",
       "      <td>0.631</td>\n",
       "      <td>0.561</td>\n",
       "      <td>0.729</td>\n",
       "    </tr>\n",
       "    <tr>\n",
       "      <th>weighted avg</th>\n",
       "      <td>0.669</td>\n",
       "      <td>0.674</td>\n",
       "      <td>0.686</td>\n",
       "    </tr>\n",
       "  </tbody>\n",
       "</table>\n",
       "</div>"
      ],
      "text/plain": [
       "              sent_f1  sent_recall  sent_prec\n",
       "label                                        \n",
       "0               0.707        0.788      0.643\n",
       "1               0.631        0.561      0.729\n",
       "weighted avg    0.669        0.674      0.686"
      ]
     },
     "metadata": {},
     "output_type": "display_data"
    }
   ],
   "source": [
    "with pd.option_context('display.float_format', '{:0.3f}'.format):\n",
    "    display(bert_report.print_df['bert'])"
   ]
  },
  {
   "cell_type": "markdown",
   "id": "d762fec9",
   "metadata": {},
   "source": [
    "## Retrain CRF on resampled"
   ]
  },
  {
   "cell_type": "code",
   "execution_count": 215,
   "id": "a9e04ddb",
   "metadata": {},
   "outputs": [
    {
     "name": "stdout",
     "output_type": "stream",
     "text": [
      "\n",
      "Reshaping dataset: seq_len 15, step 15...\n",
      "Doc 1 reshaped from 613 to 35\n",
      "1\n",
      "Doc 2 reshaped from 652 to 10\n",
      "2\n",
      "Doc 3 reshaped from 682 to 14\n",
      "3\n",
      "Doc 4 reshaped from 471 to 24\n",
      "4\n",
      "Doc 5 reshaped from 513 to 28\n",
      "5\n",
      "Doc 6 reshaped from 810 to 27\n",
      "6\n",
      "Doc 7 reshaped from 466 to 28\n",
      "7\n",
      "Doc 8 reshaped from 399 to 12\n",
      "8\n",
      "Doc 9 reshaped from 588 to 13\n",
      "9\n",
      "Doc 10 reshaped from 406 to 14\n",
      "10\n",
      "Doc 11 reshaped from 737 to 33\n",
      "11\n",
      "Doc 12 reshaped from 741 to 35\n",
      "12\n",
      "Doc 13 reshaped from 750 to 41\n",
      "13\n",
      "Doc 14 reshaped from 668 to 11\n",
      "14\n",
      "Doc 15 reshaped from 693 to 3\n",
      "15\n",
      "Doc 16 reshaped from 423 to 24\n",
      "16\n",
      "Doc 17 reshaped from 578 to 17\n",
      "17\n",
      "Doc 18 reshaped from 167 to 7\n",
      "18\n",
      "Doc 19 reshaped from 353 to 4\n",
      "19\n",
      "Doc 20 reshaped from 426 to 23\n",
      "20\n",
      "Doc 21 reshaped from 585 to 36\n",
      "21\n",
      "Doc 22 reshaped from 474 to 25\n",
      "22\n",
      "Doc 23 reshaped from 342 to 12\n",
      "23\n",
      "Doc 24 reshaped from 667 to 26\n",
      "24\n",
      "Doc 25 reshaped from 469 to 8\n",
      "25\n",
      "Doc 26 reshaped from 455 to 23\n",
      "26\n",
      "Doc 27 reshaped from 354 to 17\n",
      "27\n",
      "Doc 28 reshaped from 554 to 26\n",
      "28\n",
      "Doc 29 reshaped from 525 to 34\n",
      "29\n",
      "Doc 30 reshaped from 682 to 18\n",
      "30\n",
      "Doc 31 reshaped from 441 to 24\n",
      "31\n",
      "Doc 32 reshaped from 441 to 16\n",
      "32\n",
      "Doc 33 reshaped from 459 to 19\n",
      "33\n",
      "Doc 34 reshaped from 378 to 11\n",
      "34\n",
      "Doc 35 reshaped from 481 to 22\n",
      "35\n",
      "Doc 36 reshaped from 165 to 5\n",
      "36\n",
      "Doc 37 reshaped from 180 to 1\n",
      "37\n",
      "Doc 38 reshaped from 172 to 5\n",
      "38\n",
      "Doc 39 reshaped from 175 to 2\n",
      "39\n",
      "Doc 40 reshaped from 219 to 6\n",
      "40\n",
      "Doc 41 reshaped from 190 to 3\n",
      "41\n",
      "Doc 42 reshaped from 192 to 1\n",
      "42\n",
      "Doc 43 reshaped from 188 to 8\n",
      "43\n",
      "Doc 44 reshaped from 534 to 25\n",
      "44\n",
      "Doc 45 reshaped from 246 to 7\n",
      "45\n",
      "Doc 46 reshaped from 266 to 7\n",
      "46\n",
      "Doc 47 reshaped from 208 to 11\n",
      "47\n",
      "Doc 48 reshaped from 518 to 23\n",
      "48\n",
      "Doc 49 reshaped from 299 to 14\n",
      "49\n",
      "Doc 50 reshaped from 480 to 12\n",
      "50\n",
      "Doc 51 reshaped from 532 to 18\n",
      "51\n",
      "Doc 52 reshaped from 582 to 28\n",
      "52\n",
      "Doc 53 reshaped from 411 to 5\n",
      "53\n",
      "Doc 54 reshaped from 554 to 8\n",
      "54\n",
      "Doc 55 reshaped from 341 to 1\n",
      "55\n",
      "Doc 56 reshaped from 553 to 13\n",
      "56\n",
      "Doc 57 reshaped from 464 to 16\n",
      "57\n",
      "Doc 58 reshaped from 602 to 15\n",
      "58\n",
      "Doc 59 reshaped from 664 to 22\n",
      "59\n",
      "Doc 60 reshaped from 457 to 22\n",
      "60\n",
      "Doc 61 reshaped from 656 to 20\n",
      "61\n",
      "Doc 62 reshaped from 411 to 15\n",
      "62\n",
      "Doc 63 reshaped from 565 to 25\n",
      "63\n",
      "Doc 64 reshaped from 761 to 18\n",
      "64\n",
      "Doc 65 reshaped from 682 to 18\n",
      "65\n",
      "Doc 66 reshaped from 795 to 8\n",
      "66\n",
      "Doc 67 reshaped from 831 to 6\n",
      "67\n",
      "Doc 68 reshaped from 899 to 30\n",
      "68\n",
      "Doc 69 reshaped from 985 to 31\n",
      "69\n",
      "Doc 70 reshaped from 248 to 8\n",
      "70\n",
      "Doc 72 reshaped from 843 to 37\n",
      "72\n",
      "Doc 73 reshaped from 384 to 4\n",
      "73\n",
      "Doc 74 reshaped from 406 to 15\n",
      "74\n",
      "Doc 75 reshaped from 423 to 17\n",
      "75\n",
      "Doc 76 reshaped from 496 to 10\n",
      "76\n",
      "Doc 77 reshaped from 439 to 9\n",
      "77\n",
      "Doc 78 reshaped from 186 to 6\n",
      "78\n",
      "Doc 79 reshaped from 259 to 9\n",
      "79\n",
      "Doc 80 reshaped from 530 to 16\n",
      "80\n"
     ]
    }
   ],
   "source": [
    "dataset.reshape(seq_len,step)"
   ]
  },
  {
   "cell_type": "code",
   "execution_count": 216,
   "id": "683413f9",
   "metadata": {},
   "outputs": [
    {
     "name": "stdout",
     "output_type": "stream",
     "text": [
      "crf_params not passed\n",
      "0 split started for 69 train sequences...\n",
      "0 split fit of 220 samples took 00:00:09\n",
      "0 split predict took 00:00:00\n",
      "split 0 feature len 70550, db len 70550, columns Index(['weight', 'label', 'attr', 'type', 'str'], dtype='object')\n",
      "1 split started for 69 train sequences...\n",
      "1 split fit of 149 samples took 00:00:10\n",
      "1 split predict took 00:00:00\n",
      "split 1 feature len 69928, db len 69928, columns Index(['weight', 'label', 'attr', 'type', 'str'], dtype='object')\n",
      "2 split started for 69 train sequences...\n",
      "2 split fit of 249 samples took 00:00:09\n",
      "2 split predict took 00:00:00\n",
      "split 2 feature len 69180, db len 69180, columns Index(['weight', 'label', 'attr', 'type', 'str'], dtype='object')\n",
      "3 split started for 70 train sequences...\n",
      "3 split fit of 38 samples took 00:00:11\n",
      "3 split predict took 00:00:00\n",
      "split 3 feature len 70038, db len 70038, columns Index(['weight', 'label', 'attr', 'type', 'str'], dtype='object')\n",
      "4 split started for 69 train sequences...\n",
      "4 split fit of 206 samples took 00:00:10\n",
      "4 split predict took 00:00:00\n",
      "split 4 feature len 72155, db len 72155, columns Index(['weight', 'label', 'attr', 'type', 'str'], dtype='object')\n",
      "5 split started for 69 train sequences...\n",
      "5 split fit of 150 samples took 00:00:10\n",
      "5 split predict took 00:00:00\n",
      "split 5 feature len 72840, db len 72840, columns Index(['weight', 'label', 'attr', 'type', 'str'], dtype='object')\n",
      "6 split started for 69 train sequences...\n",
      "6 split fit of 193 samples took 00:00:10\n",
      "6 split predict took 00:00:00\n",
      "split 6 feature len 69592, db len 69592, columns Index(['weight', 'label', 'attr', 'type', 'str'], dtype='object')\n",
      "7 split started for 69 train sequences...\n",
      "7 split fit of 95 samples took 00:00:10\n",
      "7 split predict took 00:00:00\n",
      "split 7 feature len 70971, db len 70971, columns Index(['weight', 'label', 'attr', 'type', 'str'], dtype='object')\n"
     ]
    }
   ],
   "source": [
    "imp.reload(model_utils)\n",
    "crf_res_db, crf_f_db = model_utils.prepared_cross_validate_crf(dataset, cv_splits_loaded, seq_len=seq_len, step=step)"
   ]
  },
  {
   "cell_type": "code",
   "execution_count": 217,
   "id": "11f6e51e",
   "metadata": {},
   "outputs": [
    {
     "name": "stdout",
     "output_type": "stream",
     "text": [
      "MyScoreSummarizer init called\n",
      "MyReport init called\n",
      "Saving /scratch/sim_reg6/users/zsofya/classroom/MSc/personal_study/thesis/dataframes/duplicate/crf.report.tf.per.split.usampl.csv, \n",
      "index True\n",
      "float_format %.3f\n",
      "Saving /scratch/sim_reg6/users/zsofya/classroom/MSc/personal_study/thesis/dataframes/duplicate/crf.pred.tf.per.split.usampl.csv, \n",
      "index True\n",
      "float_format %.3f\n",
      "Saving /scratch/sim_reg6/users/zsofya/classroom/MSc/personal_study/thesis/dataframes/duplicate/crf.features.tf.per.split.usampl.csv, \n",
      "index True\n",
      "float_format %.3f\n"
     ]
    }
   ],
   "source": [
    "imp.reload(classes)\n",
    "crf_report=classes.MyScoreSummarizer(pred_df=crf_res_db,fix_list=[],prefixes=['crf'])\n",
    "crf_report.get_all_scores('split')\n",
    "crf_report.print_df['crf'].index.name='label'\n",
    "common_utils.save_db(crf_report.print_df['crf'],dir_name,'crf.report.tf.per.split.{}'.format(file_prefix),keep_index=True,float_format='%.3f')\n",
    "common_utils.save_db(crf_res_db,dir_name,'crf.pred.tf.per.split.{}'.format(file_prefix),keep_index=True,float_format='%.3f')\n",
    "common_utils.save_db(crf_f_db,dir_name,'crf.features.tf.per.split.{}'.format(file_prefix),keep_index=True,float_format='%.3f')"
   ]
  },
  {
   "cell_type": "code",
   "execution_count": 218,
   "id": "5f9a60b4",
   "metadata": {},
   "outputs": [
    {
     "data": {
      "text/html": [
       "<div>\n",
       "<style scoped>\n",
       "    .dataframe tbody tr th:only-of-type {\n",
       "        vertical-align: middle;\n",
       "    }\n",
       "\n",
       "    .dataframe tbody tr th {\n",
       "        vertical-align: top;\n",
       "    }\n",
       "\n",
       "    .dataframe thead th {\n",
       "        text-align: right;\n",
       "    }\n",
       "</style>\n",
       "<table border=\"1\" class=\"dataframe\">\n",
       "  <thead>\n",
       "    <tr style=\"text-align: right;\">\n",
       "      <th></th>\n",
       "      <th>sent_f1</th>\n",
       "      <th>sent_recall</th>\n",
       "      <th>sent_prec</th>\n",
       "    </tr>\n",
       "    <tr>\n",
       "      <th>label</th>\n",
       "      <th></th>\n",
       "      <th></th>\n",
       "      <th></th>\n",
       "    </tr>\n",
       "  </thead>\n",
       "  <tbody>\n",
       "    <tr>\n",
       "      <th>not_nar</th>\n",
       "      <td>0.701</td>\n",
       "      <td>0.734</td>\n",
       "      <td>0.680</td>\n",
       "    </tr>\n",
       "    <tr>\n",
       "      <th>is_nar</th>\n",
       "      <td>0.667</td>\n",
       "      <td>0.642</td>\n",
       "      <td>0.712</td>\n",
       "    </tr>\n",
       "    <tr>\n",
       "      <th>weighted avg</th>\n",
       "      <td>0.684</td>\n",
       "      <td>0.688</td>\n",
       "      <td>0.696</td>\n",
       "    </tr>\n",
       "  </tbody>\n",
       "</table>\n",
       "</div>"
      ],
      "text/plain": [
       "              sent_f1  sent_recall  sent_prec\n",
       "label                                        \n",
       "not_nar         0.701        0.734      0.680\n",
       "is_nar          0.667        0.642      0.712\n",
       "weighted avg    0.684        0.688      0.696"
      ]
     },
     "metadata": {},
     "output_type": "display_data"
    }
   ],
   "source": [
    "with pd.option_context('display.float_format', '{:0.3f}'.format):\n",
    "    display(crf_report.print_df['crf'])"
   ]
  },
  {
   "cell_type": "code",
   "execution_count": 44,
   "id": "ce1229cb",
   "metadata": {},
   "outputs": [
    {
     "name": "stdout",
     "output_type": "stream",
     "text": [
      "Opened /scratch/sim_reg9/users/zsofya/classroom/MSc/personal_study/thesis/dataframes/duplicate/crf.split.report.tf.per.splitchar.lemma.word.full.splits.c.w.l.csv,  index False\n"
     ]
    }
   ],
   "source": [
    "unbalanced_crf=common_utils.load_db(dir_name,'crf.split.report.tf.per.splitchar.lemma.word.full.splits.c.w.l')"
   ]
  },
  {
   "cell_type": "code",
   "execution_count": 45,
   "id": "af2b6057",
   "metadata": {},
   "outputs": [
    {
     "data": {
      "text/html": [
       "<div>\n",
       "<style scoped>\n",
       "    .dataframe tbody tr th:only-of-type {\n",
       "        vertical-align: middle;\n",
       "    }\n",
       "\n",
       "    .dataframe tbody tr th {\n",
       "        vertical-align: top;\n",
       "    }\n",
       "\n",
       "    .dataframe thead th {\n",
       "        text-align: right;\n",
       "    }\n",
       "</style>\n",
       "<table border=\"1\" class=\"dataframe\">\n",
       "  <thead>\n",
       "    <tr style=\"text-align: right;\">\n",
       "      <th></th>\n",
       "      <th>label</th>\n",
       "      <th>sent_f1</th>\n",
       "      <th>sent_recall</th>\n",
       "      <th>sent_prec</th>\n",
       "    </tr>\n",
       "  </thead>\n",
       "  <tbody>\n",
       "    <tr>\n",
       "      <th>0</th>\n",
       "      <td>not_nar</td>\n",
       "      <td>0.863</td>\n",
       "      <td>0.895</td>\n",
       "      <td>0.834</td>\n",
       "    </tr>\n",
       "    <tr>\n",
       "      <th>1</th>\n",
       "      <td>is_nar</td>\n",
       "      <td>0.511</td>\n",
       "      <td>0.454</td>\n",
       "      <td>0.611</td>\n",
       "    </tr>\n",
       "    <tr>\n",
       "      <th>2</th>\n",
       "      <td>weighted avg</td>\n",
       "      <td>0.782</td>\n",
       "      <td>0.793</td>\n",
       "      <td>0.783</td>\n",
       "    </tr>\n",
       "  </tbody>\n",
       "</table>\n",
       "</div>"
      ],
      "text/plain": [
       "          label  sent_f1  sent_recall  sent_prec\n",
       "0       not_nar    0.863        0.895      0.834\n",
       "1        is_nar    0.511        0.454      0.611\n",
       "2  weighted avg    0.782        0.793      0.783"
      ]
     },
     "execution_count": 45,
     "metadata": {},
     "output_type": "execute_result"
    }
   ],
   "source": [
    "unbalanced_crf"
   ]
  },
  {
   "cell_type": "code",
   "execution_count": 225,
   "id": "7813090a",
   "metadata": {},
   "outputs": [
    {
     "data": {
      "text/html": [
       "<div>\n",
       "<style scoped>\n",
       "    .dataframe tbody tr th:only-of-type {\n",
       "        vertical-align: middle;\n",
       "    }\n",
       "\n",
       "    .dataframe tbody tr th {\n",
       "        vertical-align: top;\n",
       "    }\n",
       "\n",
       "    .dataframe thead th {\n",
       "        text-align: right;\n",
       "    }\n",
       "</style>\n",
       "<table border=\"1\" class=\"dataframe\">\n",
       "  <thead>\n",
       "    <tr style=\"text-align: right;\">\n",
       "      <th></th>\n",
       "      <th>crf_group</th>\n",
       "      <th>crf_par</th>\n",
       "      <th>crf_split</th>\n",
       "      <th>crf_predicted</th>\n",
       "      <th>crf_true</th>\n",
       "      <th>crf_proba_0</th>\n",
       "      <th>crf_proba_1</th>\n",
       "      <th>crf_sent_idx</th>\n",
       "    </tr>\n",
       "  </thead>\n",
       "  <tbody>\n",
       "    <tr>\n",
       "      <th>0</th>\n",
       "      <td>1</td>\n",
       "      <td>0</td>\n",
       "      <td>0</td>\n",
       "      <td>not_nar</td>\n",
       "      <td>not_nar</td>\n",
       "      <td>0.804554</td>\n",
       "      <td>0.195446</td>\n",
       "      <td>0</td>\n",
       "    </tr>\n",
       "    <tr>\n",
       "      <th>1</th>\n",
       "      <td>1</td>\n",
       "      <td>2</td>\n",
       "      <td>0</td>\n",
       "      <td>not_nar</td>\n",
       "      <td>not_nar</td>\n",
       "      <td>0.828561</td>\n",
       "      <td>0.171439</td>\n",
       "      <td>1</td>\n",
       "    </tr>\n",
       "    <tr>\n",
       "      <th>2</th>\n",
       "      <td>1</td>\n",
       "      <td>3</td>\n",
       "      <td>0</td>\n",
       "      <td>not_nar</td>\n",
       "      <td>not_nar</td>\n",
       "      <td>0.603128</td>\n",
       "      <td>0.396872</td>\n",
       "      <td>2</td>\n",
       "    </tr>\n",
       "    <tr>\n",
       "      <th>3</th>\n",
       "      <td>1</td>\n",
       "      <td>4</td>\n",
       "      <td>0</td>\n",
       "      <td>not_nar</td>\n",
       "      <td>not_nar</td>\n",
       "      <td>0.580194</td>\n",
       "      <td>0.419806</td>\n",
       "      <td>3</td>\n",
       "    </tr>\n",
       "    <tr>\n",
       "      <th>4</th>\n",
       "      <td>1</td>\n",
       "      <td>5</td>\n",
       "      <td>0</td>\n",
       "      <td>not_nar</td>\n",
       "      <td>not_nar</td>\n",
       "      <td>0.519733</td>\n",
       "      <td>0.480267</td>\n",
       "      <td>4</td>\n",
       "    </tr>\n",
       "    <tr>\n",
       "      <th>...</th>\n",
       "      <td>...</td>\n",
       "      <td>...</td>\n",
       "      <td>...</td>\n",
       "      <td>...</td>\n",
       "      <td>...</td>\n",
       "      <td>...</td>\n",
       "      <td>...</td>\n",
       "      <td>...</td>\n",
       "    </tr>\n",
       "    <tr>\n",
       "      <th>18945</th>\n",
       "      <td>79</td>\n",
       "      <td>165</td>\n",
       "      <td>7</td>\n",
       "      <td>not_nar</td>\n",
       "      <td>not_nar</td>\n",
       "      <td>0.990894</td>\n",
       "      <td>0.009106</td>\n",
       "      <td>1341</td>\n",
       "    </tr>\n",
       "    <tr>\n",
       "      <th>18946</th>\n",
       "      <td>79</td>\n",
       "      <td>167</td>\n",
       "      <td>7</td>\n",
       "      <td>not_nar</td>\n",
       "      <td>is_nar</td>\n",
       "      <td>0.975575</td>\n",
       "      <td>0.024425</td>\n",
       "      <td>1342</td>\n",
       "    </tr>\n",
       "    <tr>\n",
       "      <th>18947</th>\n",
       "      <td>79</td>\n",
       "      <td>168</td>\n",
       "      <td>7</td>\n",
       "      <td>not_nar</td>\n",
       "      <td>not_nar</td>\n",
       "      <td>0.982717</td>\n",
       "      <td>0.017283</td>\n",
       "      <td>1343</td>\n",
       "    </tr>\n",
       "    <tr>\n",
       "      <th>18948</th>\n",
       "      <td>79</td>\n",
       "      <td>169</td>\n",
       "      <td>7</td>\n",
       "      <td>not_nar</td>\n",
       "      <td>not_nar</td>\n",
       "      <td>0.969638</td>\n",
       "      <td>0.030362</td>\n",
       "      <td>1344</td>\n",
       "    </tr>\n",
       "    <tr>\n",
       "      <th>18949</th>\n",
       "      <td>79</td>\n",
       "      <td>172</td>\n",
       "      <td>7</td>\n",
       "      <td>not_nar</td>\n",
       "      <td>not_nar</td>\n",
       "      <td>0.970215</td>\n",
       "      <td>0.029785</td>\n",
       "      <td>1345</td>\n",
       "    </tr>\n",
       "  </tbody>\n",
       "</table>\n",
       "<p>18950 rows × 8 columns</p>\n",
       "</div>"
      ],
      "text/plain": [
       "       crf_group  crf_par  crf_split crf_predicted crf_true  crf_proba_0  \\\n",
       "0              1        0          0       not_nar  not_nar     0.804554   \n",
       "1              1        2          0       not_nar  not_nar     0.828561   \n",
       "2              1        3          0       not_nar  not_nar     0.603128   \n",
       "3              1        4          0       not_nar  not_nar     0.580194   \n",
       "4              1        5          0       not_nar  not_nar     0.519733   \n",
       "...          ...      ...        ...           ...      ...          ...   \n",
       "18945         79      165          7       not_nar  not_nar     0.990894   \n",
       "18946         79      167          7       not_nar   is_nar     0.975575   \n",
       "18947         79      168          7       not_nar  not_nar     0.982717   \n",
       "18948         79      169          7       not_nar  not_nar     0.969638   \n",
       "18949         79      172          7       not_nar  not_nar     0.970215   \n",
       "\n",
       "       crf_proba_1  crf_sent_idx  \n",
       "0         0.195446             0  \n",
       "1         0.171439             1  \n",
       "2         0.396872             2  \n",
       "3         0.419806             3  \n",
       "4         0.480267             4  \n",
       "...            ...           ...  \n",
       "18945     0.009106          1341  \n",
       "18946     0.024425          1342  \n",
       "18947     0.017283          1343  \n",
       "18948     0.030362          1344  \n",
       "18949     0.029785          1345  \n",
       "\n",
       "[18950 rows x 8 columns]"
      ]
     },
     "execution_count": 225,
     "metadata": {},
     "output_type": "execute_result"
    }
   ],
   "source": [
    "crf_res_db"
   ]
  },
  {
   "cell_type": "markdown",
   "id": "6529923e",
   "metadata": {},
   "source": [
    "## Merge CRF + BERT"
   ]
  },
  {
   "cell_type": "code",
   "execution_count": 15,
   "id": "4dbe1159",
   "metadata": {},
   "outputs": [
    {
     "name": "stdout",
     "output_type": "stream",
     "text": [
      "Opened /scratch/sim_reg9/users/zsofya/classroom/MSc/personal_study/thesis/dataframes/duplicate/bert.pred.tf.per.split.usampl.csv,  index False\n",
      "Opened /scratch/sim_reg9/users/zsofya/classroom/MSc/personal_study/thesis/dataframes/duplicate/crf.pred.tf.per.split.usampl.csv,  index False\n"
     ]
    }
   ],
   "source": [
    "crf_name='crf.pred.tf.per.split.usampl'\n",
    "bert_name='bert.pred.tf.per.split.usampl'\n",
    "imp.reload(model_utils)\n",
    "merged_pred=model_utils.merge_pred_db(dir_name,{'bert':bert_name,'crf':crf_name})"
   ]
  },
  {
   "cell_type": "code",
   "execution_count": 18,
   "id": "5c6c69ef",
   "metadata": {},
   "outputs": [
    {
     "data": {
      "text/plain": [
       "[3, 4]"
      ]
     },
     "execution_count": 18,
     "metadata": {},
     "output_type": "execute_result"
    }
   ],
   "source": [
    "ll=[0,1,2,3,4]\n",
    "ll[-2:]"
   ]
  },
  {
   "cell_type": "code",
   "execution_count": 21,
   "id": "c35c8988",
   "metadata": {
    "scrolled": true
   },
   "outputs": [
    {
     "name": "stdout",
     "output_type": "stream",
     "text": [
      "SVC\n",
      "0 split started...\n",
      "1 split started...\n",
      "2 split started...\n",
      "3 split started...\n",
      "4 split started...\n",
      "5 split started...\n",
      "6 split started...\n",
      "7 split started...\n",
      "DecisionTreeClassifier\n",
      "0 split started...\n",
      "1 split started...\n",
      "2 split started...\n",
      "3 split started...\n",
      "4 split started...\n",
      "5 split started...\n",
      "6 split started...\n",
      "7 split started...\n"
     ]
    }
   ],
   "source": [
    "# estimators_pred={}\n",
    "imp.reload(feature_utils)\n",
    "imp.reload(model_utils)\n",
    "\n",
    "for regr in feature_utils.regressors_type[-2:]:\n",
    "    regr_name=regr.__class__.__name__\n",
    "    print(regr_name)\n",
    "    estimators_pred[regr_name]=model_utils.prepared_cross_validate_ensemble(regr,merged_pred,cv_splits_loaded)"
   ]
  },
  {
   "cell_type": "code",
   "execution_count": 22,
   "id": "c9fea47a",
   "metadata": {},
   "outputs": [
    {
     "data": {
      "text/plain": [
       "dict_keys(['LogisticRegression', 'LogisticRegressionCV', 'PassiveAggressiveClassifier', 'Perceptron', 'RidgeClassifier', 'SGDClassifier', 'SVC', 'DecisionTreeClassifier'])"
      ]
     },
     "execution_count": 22,
     "metadata": {},
     "output_type": "execute_result"
    }
   ],
   "source": [
    "estimators_pred.keys()"
   ]
  },
  {
   "cell_type": "code",
   "execution_count": 23,
   "id": "b3dcb349",
   "metadata": {},
   "outputs": [
    {
     "name": "stdout",
     "output_type": "stream",
     "text": [
      "0 split started...\n",
      "1 split started...\n",
      "2 split started...\n",
      "3 split started...\n",
      "4 split started...\n",
      "5 split started...\n",
      "6 split started...\n",
      "7 split started...\n"
     ]
    }
   ],
   "source": [
    "imp.reload(model_utils)\n",
    "crf_params={'seq_len':15,'seq_step':15}\n",
    "estimators_pred['crf']=model_utils.prepared_cross_validate_ensemble(\n",
    "   estimator=CRF(), \n",
    "    prediction_db_=merged_pred, \n",
    "    cv_splits=cv_splits_loaded,\n",
    "    cols = ['crf_proba_0', 'crf_proba_1', 'bert_proba_0', 'bert_proba_1'],\n",
    "    **crf_params)"
   ]
  },
  {
   "cell_type": "code",
   "execution_count": 24,
   "id": "2ebd0c41",
   "metadata": {},
   "outputs": [
    {
     "name": "stdout",
     "output_type": "stream",
     "text": [
      "MyScoreSummarizer init called\n",
      "MyReport init called\n",
      "Saving /scratch/sim_reg9/users/zsofya/classroom/MSc/personal_study/thesis/dataframes/duplicate/ens.LogisticRegression.pred.usampl.csv, \n",
      "index False\n",
      "float_format %.5f\n",
      "Saving /scratch/sim_reg9/users/zsofya/classroom/MSc/personal_study/thesis/dataframes/duplicate/ens.LogisticRegression.report.usampl.csv, \n",
      "index False\n",
      "float_format %.5f\n",
      "MyScoreSummarizer init called\n",
      "MyReport init called\n",
      "Saving /scratch/sim_reg9/users/zsofya/classroom/MSc/personal_study/thesis/dataframes/duplicate/ens.LogisticRegressionCV.pred.usampl.csv, \n",
      "index False\n",
      "float_format %.5f\n",
      "Saving /scratch/sim_reg9/users/zsofya/classroom/MSc/personal_study/thesis/dataframes/duplicate/ens.LogisticRegressionCV.report.usampl.csv, \n",
      "index False\n",
      "float_format %.5f\n",
      "MyScoreSummarizer init called\n",
      "label {0} is  missing in predicted for split 2, true is {0, 1}, pred is {1}\n",
      "label {0} is  missing in predicted for split 7, true is {0, 1}, pred is {1}\n",
      "MyReport init called\n",
      "Saving /scratch/sim_reg9/users/zsofya/classroom/MSc/personal_study/thesis/dataframes/duplicate/ens.PassiveAggressiveClassifier.pred.usampl.csv, \n",
      "index False\n",
      "float_format %.5f\n"
     ]
    },
    {
     "name": "stderr",
     "output_type": "stream",
     "text": [
      "/home/zsofya/jupyter_git/jup-nb-generic/lib/python3.8/site-packages/sklearn/metrics/_classification.py:1327: UndefinedMetricWarning: Precision and F-score are ill-defined and being set to 0.0 in labels with no predicted samples. Use `zero_division` parameter to control this behavior.\n",
      "  _warn_prf(average, modifier, msg_start, len(result))\n",
      "/home/zsofya/jupyter_git/jup-nb-generic/lib/python3.8/site-packages/sklearn/metrics/_classification.py:1327: UndefinedMetricWarning: Precision and F-score are ill-defined and being set to 0.0 in labels with no predicted samples. Use `zero_division` parameter to control this behavior.\n",
      "  _warn_prf(average, modifier, msg_start, len(result))\n",
      "/home/zsofya/jupyter_git/jup-nb-generic/lib/python3.8/site-packages/sklearn/metrics/_classification.py:1327: UndefinedMetricWarning: Precision and F-score are ill-defined and being set to 0.0 in labels with no predicted samples. Use `zero_division` parameter to control this behavior.\n",
      "  _warn_prf(average, modifier, msg_start, len(result))\n",
      "/home/zsofya/jupyter_git/jup-nb-generic/lib/python3.8/site-packages/sklearn/metrics/_classification.py:1327: UndefinedMetricWarning: Precision and F-score are ill-defined and being set to 0.0 in labels with no predicted samples. Use `zero_division` parameter to control this behavior.\n",
      "  _warn_prf(average, modifier, msg_start, len(result))\n",
      "/home/zsofya/jupyter_git/jup-nb-generic/lib/python3.8/site-packages/sklearn/metrics/_classification.py:1327: UndefinedMetricWarning: Precision and F-score are ill-defined and being set to 0.0 in labels with no predicted samples. Use `zero_division` parameter to control this behavior.\n",
      "  _warn_prf(average, modifier, msg_start, len(result))\n",
      "/home/zsofya/jupyter_git/jup-nb-generic/lib/python3.8/site-packages/sklearn/metrics/_classification.py:1327: UndefinedMetricWarning: Precision and F-score are ill-defined and being set to 0.0 in labels with no predicted samples. Use `zero_division` parameter to control this behavior.\n",
      "  _warn_prf(average, modifier, msg_start, len(result))\n",
      "/home/zsofya/jupyter_git/jup-nb-generic/lib/python3.8/site-packages/sklearn/metrics/_classification.py:1327: UndefinedMetricWarning: Precision and F-score are ill-defined and being set to 0.0 in labels with no predicted samples. Use `zero_division` parameter to control this behavior.\n",
      "  _warn_prf(average, modifier, msg_start, len(result))\n",
      "/home/zsofya/jupyter_git/jup-nb-generic/lib/python3.8/site-packages/sklearn/metrics/_classification.py:1327: UndefinedMetricWarning: Precision and F-score are ill-defined and being set to 0.0 in labels with no predicted samples. Use `zero_division` parameter to control this behavior.\n",
      "  _warn_prf(average, modifier, msg_start, len(result))\n",
      "/home/zsofya/jupyter_git/jup-nb-generic/lib/python3.8/site-packages/sklearn/metrics/_classification.py:1327: UndefinedMetricWarning: Precision and F-score are ill-defined and being set to 0.0 in labels with no predicted samples. Use `zero_division` parameter to control this behavior.\n",
      "  _warn_prf(average, modifier, msg_start, len(result))\n",
      "/home/zsofya/jupyter_git/jup-nb-generic/lib/python3.8/site-packages/sklearn/metrics/_classification.py:1327: UndefinedMetricWarning: Precision and F-score are ill-defined and being set to 0.0 in labels with no predicted samples. Use `zero_division` parameter to control this behavior.\n",
      "  _warn_prf(average, modifier, msg_start, len(result))\n",
      "/home/zsofya/jupyter_git/jup-nb-generic/lib/python3.8/site-packages/sklearn/metrics/_classification.py:1327: UndefinedMetricWarning: Precision and F-score are ill-defined and being set to 0.0 in labels with no predicted samples. Use `zero_division` parameter to control this behavior.\n",
      "  _warn_prf(average, modifier, msg_start, len(result))\n",
      "/home/zsofya/jupyter_git/jup-nb-generic/lib/python3.8/site-packages/sklearn/metrics/_classification.py:1327: UndefinedMetricWarning: Precision and F-score are ill-defined and being set to 0.0 in labels with no predicted samples. Use `zero_division` parameter to control this behavior.\n",
      "  _warn_prf(average, modifier, msg_start, len(result))\n",
      "/home/zsofya/jupyter_git/jup-nb-generic/lib/python3.8/site-packages/sklearn/metrics/_classification.py:1327: UndefinedMetricWarning: Precision and F-score are ill-defined and being set to 0.0 in labels with no predicted samples. Use `zero_division` parameter to control this behavior.\n",
      "  _warn_prf(average, modifier, msg_start, len(result))\n",
      "/home/zsofya/jupyter_git/jup-nb-generic/lib/python3.8/site-packages/sklearn/metrics/_classification.py:1327: UndefinedMetricWarning: Precision and F-score are ill-defined and being set to 0.0 in labels with no predicted samples. Use `zero_division` parameter to control this behavior.\n",
      "  _warn_prf(average, modifier, msg_start, len(result))\n",
      "/home/zsofya/jupyter_git/jup-nb-generic/lib/python3.8/site-packages/sklearn/metrics/_classification.py:1327: UndefinedMetricWarning: Precision and F-score are ill-defined and being set to 0.0 in labels with no predicted samples. Use `zero_division` parameter to control this behavior.\n",
      "  _warn_prf(average, modifier, msg_start, len(result))\n",
      "/home/zsofya/jupyter_git/jup-nb-generic/lib/python3.8/site-packages/sklearn/metrics/_classification.py:1327: UndefinedMetricWarning: Precision and F-score are ill-defined and being set to 0.0 in labels with no predicted samples. Use `zero_division` parameter to control this behavior.\n",
      "  _warn_prf(average, modifier, msg_start, len(result))\n",
      "/home/zsofya/jupyter_git/jup-nb-generic/lib/python3.8/site-packages/sklearn/metrics/_classification.py:1327: UndefinedMetricWarning: Precision and F-score are ill-defined and being set to 0.0 in labels with no predicted samples. Use `zero_division` parameter to control this behavior.\n",
      "  _warn_prf(average, modifier, msg_start, len(result))\n",
      "/home/zsofya/jupyter_git/jup-nb-generic/lib/python3.8/site-packages/sklearn/metrics/_classification.py:1327: UndefinedMetricWarning: Precision and F-score are ill-defined and being set to 0.0 in labels with no predicted samples. Use `zero_division` parameter to control this behavior.\n",
      "  _warn_prf(average, modifier, msg_start, len(result))\n"
     ]
    },
    {
     "name": "stdout",
     "output_type": "stream",
     "text": [
      "Saving /scratch/sim_reg9/users/zsofya/classroom/MSc/personal_study/thesis/dataframes/duplicate/ens.PassiveAggressiveClassifier.report.usampl.csv, \n",
      "index False\n",
      "float_format %.5f\n",
      "MyScoreSummarizer init called\n",
      "label {0} is  missing in predicted for split 0, true is {0, 1}, pred is {1}\n",
      "label {0} is  missing in predicted for split 2, true is {0, 1}, pred is {1}\n",
      "label {0} is  missing in predicted for split 5, true is {0, 1}, pred is {1}\n",
      "label {0} is  missing in predicted for split 7, true is {0, 1}, pred is {1}\n",
      "MyReport init called\n",
      "Saving /scratch/sim_reg9/users/zsofya/classroom/MSc/personal_study/thesis/dataframes/duplicate/ens.Perceptron.pred.usampl.csv, \n",
      "index False\n",
      "float_format %.5f\n",
      "Saving /scratch/sim_reg9/users/zsofya/classroom/MSc/personal_study/thesis/dataframes/duplicate/ens.Perceptron.report.usampl.csv, \n",
      "index False\n",
      "float_format %.5f\n",
      "MyScoreSummarizer init called\n",
      "MyReport init called\n",
      "Saving /scratch/sim_reg9/users/zsofya/classroom/MSc/personal_study/thesis/dataframes/duplicate/ens.RidgeClassifier.pred.usampl.csv, \n",
      "index False\n",
      "float_format %.5f\n",
      "Saving /scratch/sim_reg9/users/zsofya/classroom/MSc/personal_study/thesis/dataframes/duplicate/ens.RidgeClassifier.report.usampl.csv, \n",
      "index False\n",
      "float_format %.5f\n",
      "MyScoreSummarizer init called\n",
      "MyReport init called\n",
      "Saving /scratch/sim_reg9/users/zsofya/classroom/MSc/personal_study/thesis/dataframes/duplicate/ens.SGDClassifier.pred.usampl.csv, \n",
      "index False\n",
      "float_format %.5f\n",
      "Saving /scratch/sim_reg9/users/zsofya/classroom/MSc/personal_study/thesis/dataframes/duplicate/ens.SGDClassifier.report.usampl.csv, \n",
      "index False\n",
      "float_format %.5f\n",
      "MyScoreSummarizer init called\n",
      "MyReport init called\n",
      "Saving /scratch/sim_reg9/users/zsofya/classroom/MSc/personal_study/thesis/dataframes/duplicate/ens.SVC.pred.usampl.csv, \n",
      "index False\n",
      "float_format %.5f\n",
      "Saving /scratch/sim_reg9/users/zsofya/classroom/MSc/personal_study/thesis/dataframes/duplicate/ens.SVC.report.usampl.csv, \n",
      "index False\n",
      "float_format %.5f\n",
      "MyScoreSummarizer init called\n",
      "MyReport init called\n",
      "Saving /scratch/sim_reg9/users/zsofya/classroom/MSc/personal_study/thesis/dataframes/duplicate/ens.DecisionTreeClassifier.pred.usampl.csv, \n",
      "index False\n",
      "float_format %.5f\n",
      "Saving /scratch/sim_reg9/users/zsofya/classroom/MSc/personal_study/thesis/dataframes/duplicate/ens.DecisionTreeClassifier.report.usampl.csv, \n",
      "index False\n",
      "float_format %.5f\n",
      "MyScoreSummarizer init called\n",
      "MyReport init called\n",
      "Saving /scratch/sim_reg9/users/zsofya/classroom/MSc/personal_study/thesis/dataframes/duplicate/ens.crf.pred.usampl.csv, \n",
      "index False\n",
      "float_format %.5f\n",
      "Saving /scratch/sim_reg9/users/zsofya/classroom/MSc/personal_study/thesis/dataframes/duplicate/ens.crf.report.usampl.csv, \n",
      "index False\n",
      "float_format %.5f\n"
     ]
    }
   ],
   "source": [
    "report={}\n",
    "for k,v in estimators_pred.items():\n",
    "    name=k\n",
    "    report[k]=classes.MyScoreSummarizer(pred_df=v,fix_list=[],prefixes=['ens'])\n",
    "    report[name].get_all_scores('split')\n",
    "    report[name].print_df['ens'].index.name='label'\n",
    "    common_utils.save_db(v,dir_name,'ens.{}.pred.{}'.format(name,file_prefix))\n",
    "    common_utils.save_db(report[name].print_df['ens'],dir_name,'ens.{}.report.{}'.format(name,file_prefix))"
   ]
  },
  {
   "cell_type": "code",
   "execution_count": 25,
   "id": "c6ec9dc9",
   "metadata": {},
   "outputs": [
    {
     "data": {
      "text/plain": [
       "0.6898038125191717"
      ]
     },
     "execution_count": 25,
     "metadata": {},
     "output_type": "execute_result"
    }
   ],
   "source": [
    "report['LogisticRegression'].print_df['ens'].loc['1','sent_recall']"
   ]
  },
  {
   "cell_type": "code",
   "execution_count": 26,
   "id": "bd18e849",
   "metadata": {},
   "outputs": [
    {
     "name": "stdout",
     "output_type": "stream",
     "text": [
      "LogisticRegression\n",
      "LogisticRegressionCV\n",
      "PassiveAggressiveClassifier\n",
      "Perceptron\n",
      "RidgeClassifier\n",
      "SGDClassifier\n",
      "SVC\n",
      "DecisionTreeClassifier\n",
      "crf\n"
     ]
    },
    {
     "data": {
      "text/html": [
       "<div>\n",
       "<style scoped>\n",
       "    .dataframe tbody tr th:only-of-type {\n",
       "        vertical-align: middle;\n",
       "    }\n",
       "\n",
       "    .dataframe tbody tr th {\n",
       "        vertical-align: top;\n",
       "    }\n",
       "\n",
       "    .dataframe thead th {\n",
       "        text-align: right;\n",
       "    }\n",
       "</style>\n",
       "<table border=\"1\" class=\"dataframe\">\n",
       "  <thead>\n",
       "    <tr style=\"text-align: right;\">\n",
       "      <th></th>\n",
       "      <th>common f1</th>\n",
       "      <th>nar_recall</th>\n",
       "      <th>nar_prec</th>\n",
       "    </tr>\n",
       "  </thead>\n",
       "  <tbody>\n",
       "    <tr>\n",
       "      <th>LogisticRegression</th>\n",
       "      <td>0.722811</td>\n",
       "      <td>0.689804</td>\n",
       "      <td>0.754591</td>\n",
       "    </tr>\n",
       "    <tr>\n",
       "      <th>LogisticRegressionCV</th>\n",
       "      <td>0.722538</td>\n",
       "      <td>0.689473</td>\n",
       "      <td>0.754400</td>\n",
       "    </tr>\n",
       "    <tr>\n",
       "      <th>PassiveAggressiveClassifier</th>\n",
       "      <td>0.513245</td>\n",
       "      <td>0.755567</td>\n",
       "      <td>0.652227</td>\n",
       "    </tr>\n",
       "    <tr>\n",
       "      <th>Perceptron</th>\n",
       "      <td>0.518558</td>\n",
       "      <td>0.805865</td>\n",
       "      <td>0.636169</td>\n",
       "    </tr>\n",
       "    <tr>\n",
       "      <th>RidgeClassifier</th>\n",
       "      <td>0.721227</td>\n",
       "      <td>0.683425</td>\n",
       "      <td>0.755722</td>\n",
       "    </tr>\n",
       "    <tr>\n",
       "      <th>SGDClassifier</th>\n",
       "      <td>0.706287</td>\n",
       "      <td>0.672475</td>\n",
       "      <td>0.745688</td>\n",
       "    </tr>\n",
       "    <tr>\n",
       "      <th>SVC</th>\n",
       "      <td>0.722266</td>\n",
       "      <td>0.689615</td>\n",
       "      <td>0.754635</td>\n",
       "    </tr>\n",
       "    <tr>\n",
       "      <th>DecisionTreeClassifier</th>\n",
       "      <td>0.633080</td>\n",
       "      <td>0.615212</td>\n",
       "      <td>0.640100</td>\n",
       "    </tr>\n",
       "    <tr>\n",
       "      <th>crf</th>\n",
       "      <td>0.693854</td>\n",
       "      <td>0.665853</td>\n",
       "      <td>0.734753</td>\n",
       "    </tr>\n",
       "  </tbody>\n",
       "</table>\n",
       "</div>"
      ],
      "text/plain": [
       "                             common f1  nar_recall  nar_prec\n",
       "LogisticRegression            0.722811    0.689804  0.754591\n",
       "LogisticRegressionCV          0.722538    0.689473  0.754400\n",
       "PassiveAggressiveClassifier   0.513245    0.755567  0.652227\n",
       "Perceptron                    0.518558    0.805865  0.636169\n",
       "RidgeClassifier               0.721227    0.683425  0.755722\n",
       "SGDClassifier                 0.706287    0.672475  0.745688\n",
       "SVC                           0.722266    0.689615  0.754635\n",
       "DecisionTreeClassifier        0.633080    0.615212  0.640100\n",
       "crf                           0.693854    0.665853  0.734753"
      ]
     },
     "execution_count": 26,
     "metadata": {},
     "output_type": "execute_result"
    }
   ],
   "source": [
    "compare_scores=pd.DataFrame()\n",
    "for k,v in report.items():\n",
    "    print(k)\n",
    "    idx=v.print_df['ens'].index.tolist()\n",
    "    compare_scores.loc[k,'common f1']=v.print_df['ens'].loc['weighted avg','sent_f1']\n",
    "    compare_scores.loc[k,'nar_recall']=v.print_df['ens'].loc[idx[1],'sent_recall']\n",
    "    compare_scores.loc[k,'nar_prec']=v.print_df['ens'].loc[idx[1],'sent_prec']\n",
    "compare_scores"
   ]
  },
  {
   "cell_type": "code",
   "execution_count": 27,
   "id": "168c16ba",
   "metadata": {},
   "outputs": [],
   "source": [
    "compare_scores.sort_values(by='common f1',ascending=False,inplace=True)"
   ]
  },
  {
   "cell_type": "code",
   "execution_count": 28,
   "id": "a350a8d2",
   "metadata": {},
   "outputs": [
    {
     "name": "stdout",
     "output_type": "stream",
     "text": [
      "Saving /scratch/sim_reg9/users/zsofya/classroom/MSc/personal_study/thesis/dataframes/duplicate/ens.estimators.compare.usampl.csv, \n",
      "index True\n",
      "float_format %.5f\n"
     ]
    }
   ],
   "source": [
    "common_utils.save_db(compare_scores,dir_name,'ens.estimators.compare.{}'.format(file_prefix),keep_index=True)"
   ]
  },
  {
   "cell_type": "markdown",
   "id": "fcf2a1b4",
   "metadata": {},
   "source": [
    "## Run ensemble on single class proba"
   ]
  },
  {
   "cell_type": "code",
   "execution_count": 269,
   "id": "154ff17c",
   "metadata": {
    "scrolled": true
   },
   "outputs": [
    {
     "name": "stdout",
     "output_type": "stream",
     "text": [
      "LogisticRegression\n",
      "0 split started...\n",
      "1 split started...\n",
      "2 split started...\n",
      "3 split started...\n",
      "4 split started...\n",
      "5 split started...\n",
      "6 split started...\n",
      "7 split started...\n",
      "LogisticRegressionCV\n",
      "0 split started...\n",
      "1 split started...\n",
      "2 split started...\n",
      "3 split started...\n",
      "4 split started...\n",
      "5 split started...\n",
      "6 split started...\n",
      "7 split started...\n",
      "PassiveAggressiveClassifier\n",
      "0 split started...\n",
      "Cant't get probability for PassiveAggressiveClassifier\n",
      "1 split started...\n",
      "Cant't get probability for PassiveAggressiveClassifier\n",
      "2 split started...\n",
      "Cant't get probability for PassiveAggressiveClassifier\n",
      "3 split started...\n",
      "Cant't get probability for PassiveAggressiveClassifier\n",
      "4 split started...\n",
      "Cant't get probability for PassiveAggressiveClassifier\n",
      "5 split started...\n",
      "Cant't get probability for PassiveAggressiveClassifier\n",
      "6 split started...\n",
      "Cant't get probability for PassiveAggressiveClassifier\n",
      "7 split started...\n",
      "Cant't get probability for PassiveAggressiveClassifier\n",
      "Perceptron\n",
      "0 split started...\n",
      "Cant't get probability for Perceptron\n",
      "1 split started...\n",
      "Cant't get probability for Perceptron\n",
      "2 split started...\n",
      "Cant't get probability for Perceptron\n",
      "3 split started...\n",
      "Cant't get probability for Perceptron\n",
      "4 split started...\n",
      "Cant't get probability for Perceptron\n",
      "5 split started...\n",
      "Cant't get probability for Perceptron\n",
      "6 split started...\n",
      "Cant't get probability for Perceptron\n",
      "7 split started...\n",
      "Cant't get probability for Perceptron\n",
      "RidgeClassifier\n",
      "0 split started...\n",
      "Cant't get probability for RidgeClassifier\n",
      "1 split started...\n",
      "Cant't get probability for RidgeClassifier\n",
      "2 split started...\n",
      "Cant't get probability for RidgeClassifier\n",
      "3 split started...\n",
      "Cant't get probability for RidgeClassifier\n",
      "4 split started...\n",
      "Cant't get probability for RidgeClassifier\n",
      "5 split started...\n",
      "Cant't get probability for RidgeClassifier\n",
      "6 split started...\n",
      "Cant't get probability for RidgeClassifier\n",
      "7 split started...\n",
      "Cant't get probability for RidgeClassifier\n",
      "SGDClassifier\n",
      "0 split started...\n",
      "Cant't get probability for SGDClassifier\n",
      "1 split started...\n",
      "Cant't get probability for SGDClassifier\n",
      "2 split started...\n",
      "Cant't get probability for SGDClassifier\n",
      "3 split started...\n",
      "Cant't get probability for SGDClassifier\n",
      "4 split started...\n",
      "Cant't get probability for SGDClassifier\n",
      "5 split started...\n",
      "Cant't get probability for SGDClassifier\n",
      "6 split started...\n",
      "Cant't get probability for SGDClassifier\n",
      "7 split started...\n",
      "Cant't get probability for SGDClassifier\n",
      "SVC\n",
      "0 split started...\n",
      "1 split started...\n",
      "2 split started...\n",
      "3 split started...\n",
      "4 split started...\n",
      "5 split started...\n",
      "6 split started...\n",
      "7 split started...\n",
      "DecisionTreeClassifier\n",
      "0 split started...\n",
      "1 split started...\n",
      "2 split started...\n",
      "3 split started...\n",
      "4 split started...\n",
      "5 split started...\n",
      "6 split started...\n",
      "7 split started...\n"
     ]
    }
   ],
   "source": [
    "single_proba_estimators_pred={}\n",
    "imp.reload(feature_utils)\n",
    "imp.reload(model_utils)\n",
    "\n",
    "for regr in feature_utils.regressors_type:\n",
    "    regr_name=regr.__class__.__name__\n",
    "    print(regr_name)\n",
    "    single_proba_estimators_pred[regr_name]=model_utils.prepared_cross_validate_ensemble(\n",
    "        estimator=regr, \n",
    "        prediction_db_=merged_pred, \n",
    "        cv_splits=cv_splits_loaded,\n",
    "        cols = [ 'crf_proba_1', 'bert_proba_1'])"
   ]
  },
  {
   "cell_type": "code",
   "execution_count": 271,
   "id": "8fdfc9b3",
   "metadata": {
    "scrolled": true
   },
   "outputs": [
    {
     "name": "stdout",
     "output_type": "stream",
     "text": [
      "MyScoreSummarizer init called\n",
      "MyReport init called\n",
      "Saving /scratch/sim_reg6/users/zsofya/classroom/MSc/personal_study/thesis/dataframes/duplicate/ens.LogisticRegression.report.single.proba.usampl.csv, \n",
      "index False\n",
      "float_format %.5f\n",
      "MyScoreSummarizer init called\n",
      "MyReport init called\n",
      "Saving /scratch/sim_reg6/users/zsofya/classroom/MSc/personal_study/thesis/dataframes/duplicate/ens.LogisticRegressionCV.report.single.proba.usampl.csv, \n",
      "index False\n",
      "float_format %.5f\n",
      "MyScoreSummarizer init called\n",
      "label {0} is  missing in predicted for split 2, true is {0, 1}, pred is {1}\n",
      "MyReport init called\n"
     ]
    },
    {
     "name": "stderr",
     "output_type": "stream",
     "text": [
      "/home/zsofya/jupyter_git/jup-nb-generic/lib/python3.8/site-packages/sklearn/metrics/_classification.py:1327: UndefinedMetricWarning: Precision and F-score are ill-defined and being set to 0.0 in labels with no predicted samples. Use `zero_division` parameter to control this behavior.\n",
      "  _warn_prf(average, modifier, msg_start, len(result))\n",
      "/home/zsofya/jupyter_git/jup-nb-generic/lib/python3.8/site-packages/sklearn/metrics/_classification.py:1327: UndefinedMetricWarning: Precision and F-score are ill-defined and being set to 0.0 in labels with no predicted samples. Use `zero_division` parameter to control this behavior.\n",
      "  _warn_prf(average, modifier, msg_start, len(result))\n",
      "/home/zsofya/jupyter_git/jup-nb-generic/lib/python3.8/site-packages/sklearn/metrics/_classification.py:1327: UndefinedMetricWarning: Precision and F-score are ill-defined and being set to 0.0 in labels with no predicted samples. Use `zero_division` parameter to control this behavior.\n",
      "  _warn_prf(average, modifier, msg_start, len(result))\n",
      "/home/zsofya/jupyter_git/jup-nb-generic/lib/python3.8/site-packages/sklearn/metrics/_classification.py:1327: UndefinedMetricWarning: Precision and F-score are ill-defined and being set to 0.0 in labels with no predicted samples. Use `zero_division` parameter to control this behavior.\n",
      "  _warn_prf(average, modifier, msg_start, len(result))\n",
      "/home/zsofya/jupyter_git/jup-nb-generic/lib/python3.8/site-packages/sklearn/metrics/_classification.py:1327: UndefinedMetricWarning: Precision and F-score are ill-defined and being set to 0.0 in labels with no predicted samples. Use `zero_division` parameter to control this behavior.\n",
      "  _warn_prf(average, modifier, msg_start, len(result))\n",
      "/home/zsofya/jupyter_git/jup-nb-generic/lib/python3.8/site-packages/sklearn/metrics/_classification.py:1327: UndefinedMetricWarning: Precision and F-score are ill-defined and being set to 0.0 in labels with no predicted samples. Use `zero_division` parameter to control this behavior.\n",
      "  _warn_prf(average, modifier, msg_start, len(result))\n",
      "/home/zsofya/jupyter_git/jup-nb-generic/lib/python3.8/site-packages/sklearn/metrics/_classification.py:1327: UndefinedMetricWarning: Precision and F-score are ill-defined and being set to 0.0 in labels with no predicted samples. Use `zero_division` parameter to control this behavior.\n",
      "  _warn_prf(average, modifier, msg_start, len(result))\n",
      "/home/zsofya/jupyter_git/jup-nb-generic/lib/python3.8/site-packages/sklearn/metrics/_classification.py:1327: UndefinedMetricWarning: Precision and F-score are ill-defined and being set to 0.0 in labels with no predicted samples. Use `zero_division` parameter to control this behavior.\n",
      "  _warn_prf(average, modifier, msg_start, len(result))\n",
      "/home/zsofya/jupyter_git/jup-nb-generic/lib/python3.8/site-packages/sklearn/metrics/_classification.py:1327: UndefinedMetricWarning: Precision and F-score are ill-defined and being set to 0.0 in labels with no predicted samples. Use `zero_division` parameter to control this behavior.\n",
      "  _warn_prf(average, modifier, msg_start, len(result))\n"
     ]
    },
    {
     "name": "stdout",
     "output_type": "stream",
     "text": [
      "Saving /scratch/sim_reg6/users/zsofya/classroom/MSc/personal_study/thesis/dataframes/duplicate/ens.PassiveAggressiveClassifier.report.single.proba.usampl.csv, \n",
      "index False\n",
      "float_format %.5f\n",
      "MyScoreSummarizer init called\n",
      "label {1} is  missing in predicted for split 3, true is {0, 1}, pred is {0}\n",
      "label {0} is  missing in predicted for split 6, true is {0, 1}, pred is {1}\n",
      "MyReport init called\n",
      "Saving /scratch/sim_reg6/users/zsofya/classroom/MSc/personal_study/thesis/dataframes/duplicate/ens.Perceptron.report.single.proba.usampl.csv, \n",
      "index False\n",
      "float_format %.5f\n",
      "MyScoreSummarizer init called\n",
      "MyReport init called\n",
      "Saving /scratch/sim_reg6/users/zsofya/classroom/MSc/personal_study/thesis/dataframes/duplicate/ens.RidgeClassifier.report.single.proba.usampl.csv, \n",
      "index False\n",
      "float_format %.5f\n",
      "MyScoreSummarizer init called\n",
      "MyReport init called\n",
      "Saving /scratch/sim_reg6/users/zsofya/classroom/MSc/personal_study/thesis/dataframes/duplicate/ens.SGDClassifier.report.single.proba.usampl.csv, \n",
      "index False\n",
      "float_format %.5f\n",
      "MyScoreSummarizer init called\n",
      "MyReport init called\n",
      "Saving /scratch/sim_reg6/users/zsofya/classroom/MSc/personal_study/thesis/dataframes/duplicate/ens.SVC.report.single.proba.usampl.csv, \n",
      "index False\n",
      "float_format %.5f\n",
      "MyScoreSummarizer init called\n",
      "MyReport init called\n",
      "Saving /scratch/sim_reg6/users/zsofya/classroom/MSc/personal_study/thesis/dataframes/duplicate/ens.DecisionTreeClassifier.report.single.proba.usampl.csv, \n",
      "index False\n",
      "float_format %.5f\n"
     ]
    }
   ],
   "source": [
    "single_proba_report={}\n",
    "for k,v in single_proba_estimators_pred.items():\n",
    "    name=k\n",
    "    single_proba_report[k]=classes.MyScoreSummarizer(pred_df=v,fix_list=[],prefixes=['ens'])\n",
    "    single_proba_report[name].get_all_scores('split')\n",
    "    single_proba_report[name].print_df['ens'].index.name='label'\n",
    "    common_utils.save_db(single_proba_report[name].print_df['ens'],dir_name,'ens.{}.report.single.proba.{}'.format(name,file_prefix))"
   ]
  },
  {
   "cell_type": "code",
   "execution_count": 272,
   "id": "9a1a50bb",
   "metadata": {},
   "outputs": [
    {
     "name": "stdout",
     "output_type": "stream",
     "text": [
      "LogisticRegression\n",
      "LogisticRegressionCV\n",
      "PassiveAggressiveClassifier\n",
      "Perceptron\n",
      "RidgeClassifier\n",
      "SGDClassifier\n",
      "SVC\n",
      "DecisionTreeClassifier\n"
     ]
    },
    {
     "data": {
      "text/html": [
       "<div>\n",
       "<style scoped>\n",
       "    .dataframe tbody tr th:only-of-type {\n",
       "        vertical-align: middle;\n",
       "    }\n",
       "\n",
       "    .dataframe tbody tr th {\n",
       "        vertical-align: top;\n",
       "    }\n",
       "\n",
       "    .dataframe thead th {\n",
       "        text-align: right;\n",
       "    }\n",
       "</style>\n",
       "<table border=\"1\" class=\"dataframe\">\n",
       "  <thead>\n",
       "    <tr style=\"text-align: right;\">\n",
       "      <th></th>\n",
       "      <th>common f1</th>\n",
       "      <th>nar_recall</th>\n",
       "      <th>nar_prec</th>\n",
       "    </tr>\n",
       "  </thead>\n",
       "  <tbody>\n",
       "    <tr>\n",
       "      <th>LogisticRegression</th>\n",
       "      <td>0.722762</td>\n",
       "      <td>0.689804</td>\n",
       "      <td>0.754606</td>\n",
       "    </tr>\n",
       "    <tr>\n",
       "      <th>LogisticRegressionCV</th>\n",
       "      <td>0.722636</td>\n",
       "      <td>0.689589</td>\n",
       "      <td>0.754398</td>\n",
       "    </tr>\n",
       "    <tr>\n",
       "      <th>PassiveAggressiveClassifier</th>\n",
       "      <td>0.611833</td>\n",
       "      <td>0.681312</td>\n",
       "      <td>0.724918</td>\n",
       "    </tr>\n",
       "    <tr>\n",
       "      <th>Perceptron</th>\n",
       "      <td>0.576395</td>\n",
       "      <td>0.739997</td>\n",
       "      <td>0.570724</td>\n",
       "    </tr>\n",
       "    <tr>\n",
       "      <th>RidgeClassifier</th>\n",
       "      <td>0.721272</td>\n",
       "      <td>0.683508</td>\n",
       "      <td>0.755746</td>\n",
       "    </tr>\n",
       "    <tr>\n",
       "      <th>SGDClassifier</th>\n",
       "      <td>0.706186</td>\n",
       "      <td>0.651091</td>\n",
       "      <td>0.753006</td>\n",
       "    </tr>\n",
       "    <tr>\n",
       "      <th>SVC</th>\n",
       "      <td>0.722290</td>\n",
       "      <td>0.689354</td>\n",
       "      <td>0.754726</td>\n",
       "    </tr>\n",
       "    <tr>\n",
       "      <th>DecisionTreeClassifier</th>\n",
       "      <td>0.633130</td>\n",
       "      <td>0.614333</td>\n",
       "      <td>0.640603</td>\n",
       "    </tr>\n",
       "  </tbody>\n",
       "</table>\n",
       "</div>"
      ],
      "text/plain": [
       "                             common f1  nar_recall  nar_prec\n",
       "LogisticRegression            0.722762    0.689804  0.754606\n",
       "LogisticRegressionCV          0.722636    0.689589  0.754398\n",
       "PassiveAggressiveClassifier   0.611833    0.681312  0.724918\n",
       "Perceptron                    0.576395    0.739997  0.570724\n",
       "RidgeClassifier               0.721272    0.683508  0.755746\n",
       "SGDClassifier                 0.706186    0.651091  0.753006\n",
       "SVC                           0.722290    0.689354  0.754726\n",
       "DecisionTreeClassifier        0.633130    0.614333  0.640603"
      ]
     },
     "execution_count": 272,
     "metadata": {},
     "output_type": "execute_result"
    }
   ],
   "source": [
    "sp_compare_scores=pd.DataFrame()\n",
    "for k,v in single_proba_report.items():\n",
    "    print(k)\n",
    "    idx=v.print_df['ens'].index.tolist()\n",
    "    sp_compare_scores.loc[k,'common f1']=v.print_df['ens'].loc['weighted avg','sent_f1']\n",
    "    sp_compare_scores.loc[k,'nar_recall']=v.print_df['ens'].loc[idx[1],'sent_recall']\n",
    "    sp_compare_scores.loc[k,'nar_prec']=v.print_df['ens'].loc[idx[1],'sent_prec']\n",
    "sp_compare_scores"
   ]
  },
  {
   "cell_type": "code",
   "execution_count": 274,
   "id": "351b30ee",
   "metadata": {},
   "outputs": [
    {
     "data": {
      "text/html": [
       "<div>\n",
       "<style scoped>\n",
       "    .dataframe tbody tr th:only-of-type {\n",
       "        vertical-align: middle;\n",
       "    }\n",
       "\n",
       "    .dataframe tbody tr th {\n",
       "        vertical-align: top;\n",
       "    }\n",
       "\n",
       "    .dataframe thead th {\n",
       "        text-align: right;\n",
       "    }\n",
       "</style>\n",
       "<table border=\"1\" class=\"dataframe\">\n",
       "  <thead>\n",
       "    <tr style=\"text-align: right;\">\n",
       "      <th></th>\n",
       "      <th>common f1</th>\n",
       "      <th>nar_recall</th>\n",
       "      <th>nar_prec</th>\n",
       "    </tr>\n",
       "  </thead>\n",
       "  <tbody>\n",
       "    <tr>\n",
       "      <th>LogisticRegression</th>\n",
       "      <td>0.722762</td>\n",
       "      <td>0.689804</td>\n",
       "      <td>0.754606</td>\n",
       "    </tr>\n",
       "    <tr>\n",
       "      <th>LogisticRegressionCV</th>\n",
       "      <td>0.722636</td>\n",
       "      <td>0.689589</td>\n",
       "      <td>0.754398</td>\n",
       "    </tr>\n",
       "    <tr>\n",
       "      <th>SVC</th>\n",
       "      <td>0.722290</td>\n",
       "      <td>0.689354</td>\n",
       "      <td>0.754726</td>\n",
       "    </tr>\n",
       "    <tr>\n",
       "      <th>RidgeClassifier</th>\n",
       "      <td>0.721272</td>\n",
       "      <td>0.683508</td>\n",
       "      <td>0.755746</td>\n",
       "    </tr>\n",
       "    <tr>\n",
       "      <th>SGDClassifier</th>\n",
       "      <td>0.706186</td>\n",
       "      <td>0.651091</td>\n",
       "      <td>0.753006</td>\n",
       "    </tr>\n",
       "    <tr>\n",
       "      <th>DecisionTreeClassifier</th>\n",
       "      <td>0.633130</td>\n",
       "      <td>0.614333</td>\n",
       "      <td>0.640603</td>\n",
       "    </tr>\n",
       "    <tr>\n",
       "      <th>PassiveAggressiveClassifier</th>\n",
       "      <td>0.611833</td>\n",
       "      <td>0.681312</td>\n",
       "      <td>0.724918</td>\n",
       "    </tr>\n",
       "    <tr>\n",
       "      <th>Perceptron</th>\n",
       "      <td>0.576395</td>\n",
       "      <td>0.739997</td>\n",
       "      <td>0.570724</td>\n",
       "    </tr>\n",
       "  </tbody>\n",
       "</table>\n",
       "</div>"
      ],
      "text/plain": [
       "                             common f1  nar_recall  nar_prec\n",
       "LogisticRegression            0.722762    0.689804  0.754606\n",
       "LogisticRegressionCV          0.722636    0.689589  0.754398\n",
       "SVC                           0.722290    0.689354  0.754726\n",
       "RidgeClassifier               0.721272    0.683508  0.755746\n",
       "SGDClassifier                 0.706186    0.651091  0.753006\n",
       "DecisionTreeClassifier        0.633130    0.614333  0.640603\n",
       "PassiveAggressiveClassifier   0.611833    0.681312  0.724918\n",
       "Perceptron                    0.576395    0.739997  0.570724"
      ]
     },
     "execution_count": 274,
     "metadata": {},
     "output_type": "execute_result"
    }
   ],
   "source": [
    "sp_compare_scores.sort_values(by='common f1',ascending=False)"
   ]
  },
  {
   "cell_type": "code",
   "execution_count": 275,
   "id": "18c0cf4b",
   "metadata": {},
   "outputs": [
    {
     "name": "stdout",
     "output_type": "stream",
     "text": [
      "Saving /scratch/sim_reg6/users/zsofya/classroom/MSc/personal_study/thesis/dataframes/duplicate/ens.estimators.compare.single.prob.usampl.csv, \n",
      "index False\n",
      "float_format %.5f\n"
     ]
    }
   ],
   "source": [
    "common_utils.save_db(sp_compare_scores,dir_name,'ens.estimators.compare.single.prob.{}'.format(file_prefix),keep_index=True)"
   ]
  },
  {
   "cell_type": "markdown",
   "id": "84a3db25",
   "metadata": {},
   "source": [
    "# Fix predictions of ensemble that ran on undersampled"
   ]
  },
  {
   "cell_type": "code",
   "execution_count": 30,
   "id": "7310fc95",
   "metadata": {},
   "outputs": [
    {
     "data": {
      "text/html": [
       "<div>\n",
       "<style scoped>\n",
       "    .dataframe tbody tr th:only-of-type {\n",
       "        vertical-align: middle;\n",
       "    }\n",
       "\n",
       "    .dataframe tbody tr th {\n",
       "        vertical-align: top;\n",
       "    }\n",
       "\n",
       "    .dataframe thead th {\n",
       "        text-align: right;\n",
       "    }\n",
       "</style>\n",
       "<table border=\"1\" class=\"dataframe\">\n",
       "  <thead>\n",
       "    <tr style=\"text-align: right;\">\n",
       "      <th></th>\n",
       "      <th>common f1</th>\n",
       "      <th>nar_recall</th>\n",
       "      <th>nar_prec</th>\n",
       "    </tr>\n",
       "  </thead>\n",
       "  <tbody>\n",
       "    <tr>\n",
       "      <th>LogisticRegression</th>\n",
       "      <td>0.722811</td>\n",
       "      <td>0.689804</td>\n",
       "      <td>0.754591</td>\n",
       "    </tr>\n",
       "    <tr>\n",
       "      <th>LogisticRegressionCV</th>\n",
       "      <td>0.722538</td>\n",
       "      <td>0.689473</td>\n",
       "      <td>0.754400</td>\n",
       "    </tr>\n",
       "    <tr>\n",
       "      <th>SVC</th>\n",
       "      <td>0.722266</td>\n",
       "      <td>0.689615</td>\n",
       "      <td>0.754635</td>\n",
       "    </tr>\n",
       "    <tr>\n",
       "      <th>RidgeClassifier</th>\n",
       "      <td>0.721227</td>\n",
       "      <td>0.683425</td>\n",
       "      <td>0.755722</td>\n",
       "    </tr>\n",
       "    <tr>\n",
       "      <th>SGDClassifier</th>\n",
       "      <td>0.706287</td>\n",
       "      <td>0.672475</td>\n",
       "      <td>0.745688</td>\n",
       "    </tr>\n",
       "    <tr>\n",
       "      <th>crf</th>\n",
       "      <td>0.693854</td>\n",
       "      <td>0.665853</td>\n",
       "      <td>0.734753</td>\n",
       "    </tr>\n",
       "    <tr>\n",
       "      <th>DecisionTreeClassifier</th>\n",
       "      <td>0.633080</td>\n",
       "      <td>0.615212</td>\n",
       "      <td>0.640100</td>\n",
       "    </tr>\n",
       "    <tr>\n",
       "      <th>Perceptron</th>\n",
       "      <td>0.518558</td>\n",
       "      <td>0.805865</td>\n",
       "      <td>0.636169</td>\n",
       "    </tr>\n",
       "    <tr>\n",
       "      <th>PassiveAggressiveClassifier</th>\n",
       "      <td>0.513245</td>\n",
       "      <td>0.755567</td>\n",
       "      <td>0.652227</td>\n",
       "    </tr>\n",
       "  </tbody>\n",
       "</table>\n",
       "</div>"
      ],
      "text/plain": [
       "                             common f1  nar_recall  nar_prec\n",
       "LogisticRegression            0.722811    0.689804  0.754591\n",
       "LogisticRegressionCV          0.722538    0.689473  0.754400\n",
       "SVC                           0.722266    0.689615  0.754635\n",
       "RidgeClassifier               0.721227    0.683425  0.755722\n",
       "SGDClassifier                 0.706287    0.672475  0.745688\n",
       "crf                           0.693854    0.665853  0.734753\n",
       "DecisionTreeClassifier        0.633080    0.615212  0.640100\n",
       "Perceptron                    0.518558    0.805865  0.636169\n",
       "PassiveAggressiveClassifier   0.513245    0.755567  0.652227"
      ]
     },
     "execution_count": 30,
     "metadata": {},
     "output_type": "execute_result"
    }
   ],
   "source": [
    "compare_scores"
   ]
  },
  {
   "cell_type": "code",
   "execution_count": 33,
   "id": "202032fe",
   "metadata": {},
   "outputs": [
    {
     "name": "stdout",
     "output_type": "stream",
     "text": [
      "Opened /scratch/sim_reg9/users/zsofya/classroom/MSc/personal_study/thesis/dataframes/duplicate/ens.LogisticRegressionCV.pred.usampl.csv,  index False\n"
     ]
    }
   ],
   "source": [
    "best_est='LogisticRegression'\n",
    "best_ens_pred=common_utils.load_db(dir_name,'ens.LogisticRegressionCV.pred.usampl')"
   ]
  },
  {
   "cell_type": "code",
   "execution_count": 34,
   "id": "5e1bae67",
   "metadata": {},
   "outputs": [
    {
     "data": {
      "text/html": [
       "<div>\n",
       "<style scoped>\n",
       "    .dataframe tbody tr th:only-of-type {\n",
       "        vertical-align: middle;\n",
       "    }\n",
       "\n",
       "    .dataframe tbody tr th {\n",
       "        vertical-align: top;\n",
       "    }\n",
       "\n",
       "    .dataframe thead th {\n",
       "        text-align: right;\n",
       "    }\n",
       "</style>\n",
       "<table border=\"1\" class=\"dataframe\">\n",
       "  <thead>\n",
       "    <tr style=\"text-align: right;\">\n",
       "      <th></th>\n",
       "      <th>ens_predicted</th>\n",
       "      <th>ens_proba_0</th>\n",
       "      <th>ens_proba_1</th>\n",
       "      <th>ens_group</th>\n",
       "      <th>ens_split</th>\n",
       "      <th>ens_true</th>\n",
       "      <th>ens_par</th>\n",
       "    </tr>\n",
       "  </thead>\n",
       "  <tbody>\n",
       "    <tr>\n",
       "      <th>0</th>\n",
       "      <td>0</td>\n",
       "      <td>0.54304</td>\n",
       "      <td>0.45696</td>\n",
       "      <td>1</td>\n",
       "      <td>0</td>\n",
       "      <td>0</td>\n",
       "      <td>0</td>\n",
       "    </tr>\n",
       "    <tr>\n",
       "      <th>1</th>\n",
       "      <td>0</td>\n",
       "      <td>0.78612</td>\n",
       "      <td>0.21388</td>\n",
       "      <td>1</td>\n",
       "      <td>0</td>\n",
       "      <td>0</td>\n",
       "      <td>2</td>\n",
       "    </tr>\n",
       "    <tr>\n",
       "      <th>2</th>\n",
       "      <td>0</td>\n",
       "      <td>0.62403</td>\n",
       "      <td>0.37597</td>\n",
       "      <td>1</td>\n",
       "      <td>0</td>\n",
       "      <td>0</td>\n",
       "      <td>3</td>\n",
       "    </tr>\n",
       "    <tr>\n",
       "      <th>3</th>\n",
       "      <td>1</td>\n",
       "      <td>0.41646</td>\n",
       "      <td>0.58354</td>\n",
       "      <td>1</td>\n",
       "      <td>0</td>\n",
       "      <td>0</td>\n",
       "      <td>4</td>\n",
       "    </tr>\n",
       "    <tr>\n",
       "      <th>4</th>\n",
       "      <td>0</td>\n",
       "      <td>0.65256</td>\n",
       "      <td>0.34744</td>\n",
       "      <td>1</td>\n",
       "      <td>0</td>\n",
       "      <td>0</td>\n",
       "      <td>5</td>\n",
       "    </tr>\n",
       "    <tr>\n",
       "      <th>...</th>\n",
       "      <td>...</td>\n",
       "      <td>...</td>\n",
       "      <td>...</td>\n",
       "      <td>...</td>\n",
       "      <td>...</td>\n",
       "      <td>...</td>\n",
       "      <td>...</td>\n",
       "    </tr>\n",
       "    <tr>\n",
       "      <th>18945</th>\n",
       "      <td>0</td>\n",
       "      <td>0.78918</td>\n",
       "      <td>0.21082</td>\n",
       "      <td>79</td>\n",
       "      <td>7</td>\n",
       "      <td>0</td>\n",
       "      <td>165</td>\n",
       "    </tr>\n",
       "    <tr>\n",
       "      <th>18946</th>\n",
       "      <td>0</td>\n",
       "      <td>0.50568</td>\n",
       "      <td>0.49432</td>\n",
       "      <td>79</td>\n",
       "      <td>7</td>\n",
       "      <td>1</td>\n",
       "      <td>167</td>\n",
       "    </tr>\n",
       "    <tr>\n",
       "      <th>18947</th>\n",
       "      <td>0</td>\n",
       "      <td>0.80795</td>\n",
       "      <td>0.19205</td>\n",
       "      <td>79</td>\n",
       "      <td>7</td>\n",
       "      <td>0</td>\n",
       "      <td>168</td>\n",
       "    </tr>\n",
       "    <tr>\n",
       "      <th>18948</th>\n",
       "      <td>0</td>\n",
       "      <td>0.81829</td>\n",
       "      <td>0.18171</td>\n",
       "      <td>79</td>\n",
       "      <td>7</td>\n",
       "      <td>0</td>\n",
       "      <td>169</td>\n",
       "    </tr>\n",
       "    <tr>\n",
       "      <th>18949</th>\n",
       "      <td>0</td>\n",
       "      <td>0.85731</td>\n",
       "      <td>0.14269</td>\n",
       "      <td>79</td>\n",
       "      <td>7</td>\n",
       "      <td>0</td>\n",
       "      <td>172</td>\n",
       "    </tr>\n",
       "  </tbody>\n",
       "</table>\n",
       "<p>18950 rows × 7 columns</p>\n",
       "</div>"
      ],
      "text/plain": [
       "       ens_predicted  ens_proba_0  ens_proba_1  ens_group  ens_split  \\\n",
       "0                  0      0.54304      0.45696          1          0   \n",
       "1                  0      0.78612      0.21388          1          0   \n",
       "2                  0      0.62403      0.37597          1          0   \n",
       "3                  1      0.41646      0.58354          1          0   \n",
       "4                  0      0.65256      0.34744          1          0   \n",
       "...              ...          ...          ...        ...        ...   \n",
       "18945              0      0.78918      0.21082         79          7   \n",
       "18946              0      0.50568      0.49432         79          7   \n",
       "18947              0      0.80795      0.19205         79          7   \n",
       "18948              0      0.81829      0.18171         79          7   \n",
       "18949              0      0.85731      0.14269         79          7   \n",
       "\n",
       "       ens_true  ens_par  \n",
       "0             0        0  \n",
       "1             0        2  \n",
       "2             0        3  \n",
       "3             0        4  \n",
       "4             0        5  \n",
       "...         ...      ...  \n",
       "18945         0      165  \n",
       "18946         1      167  \n",
       "18947         0      168  \n",
       "18948         0      169  \n",
       "18949         0      172  \n",
       "\n",
       "[18950 rows x 7 columns]"
      ]
     },
     "execution_count": 34,
     "metadata": {},
     "output_type": "execute_result"
    }
   ],
   "source": [
    "best_ens_pred"
   ]
  },
  {
   "cell_type": "code",
   "execution_count": 39,
   "id": "e322d44a",
   "metadata": {},
   "outputs": [
    {
     "name": "stdout",
     "output_type": "stream",
     "text": [
      "MyScoreSummarizer init called\n",
      "MyPredFixer init called\n",
      "WindowDiff init called\n",
      "near misses to be fixed\n",
      " {'tot': 211, 'fp': 121, 'fn': 90}\n",
      "ens\n",
      "MyReport init called\n"
     ]
    }
   ],
   "source": [
    "imp.reload(classes)\n",
    "best_est=compare_scores['common f1'].idxmax()\n",
    "best_ens_fix=classes.MyScoreSummarizer(pred_df=best_ens_pred,fix_list=['single miss','single sa'],prefixes=['ens'])\n",
    "best_ens_fix.get_all_scores()"
   ]
  },
  {
   "cell_type": "code",
   "execution_count": 41,
   "id": "b0013001",
   "metadata": {},
   "outputs": [
    {
     "data": {
      "text/html": [
       "<div>\n",
       "<style scoped>\n",
       "    .dataframe tbody tr th:only-of-type {\n",
       "        vertical-align: middle;\n",
       "    }\n",
       "\n",
       "    .dataframe tbody tr th {\n",
       "        vertical-align: top;\n",
       "    }\n",
       "\n",
       "    .dataframe thead th {\n",
       "        text-align: right;\n",
       "    }\n",
       "</style>\n",
       "<table border=\"1\" class=\"dataframe\">\n",
       "  <thead>\n",
       "    <tr style=\"text-align: right;\">\n",
       "      <th></th>\n",
       "      <th>sent_f1</th>\n",
       "      <th>fixed_f1</th>\n",
       "      <th>sent_recall</th>\n",
       "      <th>fixed_recall</th>\n",
       "      <th>sent_prec</th>\n",
       "      <th>fixed_prec</th>\n",
       "    </tr>\n",
       "  </thead>\n",
       "  <tbody>\n",
       "    <tr>\n",
       "      <th>0</th>\n",
       "      <td>0.733744</td>\n",
       "      <td>0.736092</td>\n",
       "      <td>0.762346</td>\n",
       "      <td>0.764143</td>\n",
       "      <td>0.719217</td>\n",
       "      <td>0.722062</td>\n",
       "    </tr>\n",
       "    <tr>\n",
       "      <th>1</th>\n",
       "      <td>0.711331</td>\n",
       "      <td>0.714364</td>\n",
       "      <td>0.689473</td>\n",
       "      <td>0.692943</td>\n",
       "      <td>0.754400</td>\n",
       "      <td>0.757044</td>\n",
       "    </tr>\n",
       "    <tr>\n",
       "      <th>weighted avg</th>\n",
       "      <td>0.722538</td>\n",
       "      <td>0.725228</td>\n",
       "      <td>0.725909</td>\n",
       "      <td>0.728543</td>\n",
       "      <td>0.736809</td>\n",
       "      <td>0.739553</td>\n",
       "    </tr>\n",
       "  </tbody>\n",
       "</table>\n",
       "</div>"
      ],
      "text/plain": [
       "               sent_f1  fixed_f1  sent_recall  fixed_recall  sent_prec  \\\n",
       "0             0.733744  0.736092     0.762346      0.764143   0.719217   \n",
       "1             0.711331  0.714364     0.689473      0.692943   0.754400   \n",
       "weighted avg  0.722538  0.725228     0.725909      0.728543   0.736809   \n",
       "\n",
       "              fixed_prec  \n",
       "0               0.722062  \n",
       "1               0.757044  \n",
       "weighted avg    0.739553  "
      ]
     },
     "execution_count": 41,
     "metadata": {},
     "output_type": "execute_result"
    }
   ],
   "source": [
    "best_ens_fix.print_df['ens']"
   ]
  },
  {
   "cell_type": "code",
   "execution_count": 42,
   "id": "d4604ced",
   "metadata": {},
   "outputs": [
    {
     "name": "stdout",
     "output_type": "stream",
     "text": [
      "Saving /scratch/sim_reg9/users/zsofya/classroom/MSc/personal_study/thesis/dataframes/duplicate/ens.LogisticRegressionCV.fixed.report.usampl.csv, \n",
      "index False\n",
      "float_format %.5f\n"
     ]
    }
   ],
   "source": [
    "common_utils.save_db(best_ens_fix.print_df['ens'],dir_name,'ens.LogisticRegressionCV.fixed.report.usampl')"
   ]
  },
  {
   "cell_type": "markdown",
   "id": "7d34d03c",
   "metadata": {},
   "source": [
    "# Save BERT report and CRF report"
   ]
  },
  {
   "cell_type": "code",
   "execution_count": 19,
   "id": "eaf423db",
   "metadata": {},
   "outputs": [
    {
     "ename": "NameError",
     "evalue": "name 'all_pred_crf01' is not defined",
     "output_type": "error",
     "traceback": [
      "\u001b[0;31m---------------------------------------------------------------------------\u001b[0m",
      "\u001b[0;31mNameError\u001b[0m                                 Traceback (most recent call last)",
      "\u001b[0;32m<ipython-input-19-438df0d057ac>\u001b[0m in \u001b[0;36m<module>\u001b[0;34m\u001b[0m\n\u001b[0;32m----> 1\u001b[0;31m \u001b[0mmy_rep\u001b[0m\u001b[0;34m=\u001b[0m\u001b[0mclasses\u001b[0m\u001b[0;34m.\u001b[0m\u001b[0mMyScoreSummarizer\u001b[0m\u001b[0;34m(\u001b[0m\u001b[0mpred_df\u001b[0m\u001b[0;34m=\u001b[0m\u001b[0mall_pred_crf01\u001b[0m\u001b[0;34m,\u001b[0m\u001b[0mfix_list\u001b[0m\u001b[0;34m=\u001b[0m\u001b[0;34m[\u001b[0m\u001b[0;34m'sm'\u001b[0m\u001b[0;34m,\u001b[0m\u001b[0;34m'ssa'\u001b[0m\u001b[0;34m]\u001b[0m\u001b[0;34m,\u001b[0m\u001b[0mprefixes\u001b[0m\u001b[0;34m=\u001b[0m\u001b[0;34m[\u001b[0m\u001b[0;34m'bert'\u001b[0m\u001b[0;34m,\u001b[0m\u001b[0;34m'crf'\u001b[0m\u001b[0;34m,\u001b[0m\u001b[0;34m'ens'\u001b[0m\u001b[0;34m]\u001b[0m\u001b[0;34m)\u001b[0m\u001b[0;34m\u001b[0m\u001b[0;34m\u001b[0m\u001b[0m\n\u001b[0m\u001b[1;32m      2\u001b[0m \u001b[0mmy_rep\u001b[0m\u001b[0;34m.\u001b[0m\u001b[0mget_all_scores\u001b[0m\u001b[0;34m(\u001b[0m\u001b[0munit\u001b[0m\u001b[0;34m=\u001b[0m\u001b[0;34m'split'\u001b[0m\u001b[0;34m)\u001b[0m\u001b[0;34m\u001b[0m\u001b[0;34m\u001b[0m\u001b[0m\n",
      "\u001b[0;31mNameError\u001b[0m: name 'all_pred_crf01' is not defined"
     ]
    }
   ],
   "source": [
    "my_rep=classes.MyScoreSummarizer(pred_df=all_pred_crf01,fix_list=['sm','ssa'],prefixes=['bert','crf','ens'])\n",
    "my_rep.get_all_scores(unit='split')"
   ]
  },
  {
   "cell_type": "markdown",
   "id": "955937f8",
   "metadata": {},
   "source": [
    "# Compare with plane reports"
   ]
  },
  {
   "cell_type": "code",
   "execution_count": 145,
   "id": "3d969ced",
   "metadata": {},
   "outputs": [],
   "source": [
    "reports={}\n",
    "reports['bert']={}\n",
    "reports['crf']={}\n",
    "reports['ens']={}\n",
    "\n",
    "bert_rep_us='bert.report.tf.per.split.usampl'\n",
    "crf_rep_us='crf.report.tf.per.split.usampl'\n",
    "ens_rep_us4='ens.LogisticRegressionCV.report.usampl'\n",
    "ens_rep_us4_fixed='ens.LogisticRegressionCV.fixed.report.usampl'\n",
    "ens_rep_us2='ens.LogisticRegression.report.single.proba.usampl'\n",
    "\n",
    "bert_rep_as_is='bert.report.as.is'\n",
    "crf_rep_as_is='crf.report.as.is'\n",
    "ens_rep_as_is2='ens.SGDClassifier.report.single.proba.as.isas.is'\n",
    "ens_rep_as_is4='ens.report.as.is'\n",
    "ens_rep_as_is4_fixed='ens_fixed.report.as.is'\n",
    "ens_thresh_fix='ens.report.as.is.threshold=0.16.smoothed'"
   ]
  },
  {
   "cell_type": "code",
   "execution_count": 160,
   "id": "79d3aab0",
   "metadata": {},
   "outputs": [
    {
     "name": "stdout",
     "output_type": "stream",
     "text": [
      "Opened /scratch/sim_reg9/users/zsofya/classroom/MSc/personal_study/thesis/dataframes/duplicate/bert.report.tf.per.split.usampl.csv,  index False\n",
      "Opened /scratch/sim_reg9/users/zsofya/classroom/MSc/personal_study/thesis/dataframes/duplicate/bert.report.as.is.csv,  index False\n",
      "Opened /scratch/sim_reg9/users/zsofya/classroom/MSc/personal_study/thesis/dataframes/duplicate/crf.report.tf.per.split.usampl.csv,  index False\n",
      "Opened /scratch/sim_reg9/users/zsofya/classroom/MSc/personal_study/thesis/dataframes/duplicate/crf.report.as.is.csv,  index False\n",
      "Opened /scratch/sim_reg9/users/zsofya/classroom/MSc/personal_study/thesis/dataframes/duplicate/ens.LogisticRegressionCV.report.usampl.csv,  index False\n",
      "Opened /scratch/sim_reg9/users/zsofya/classroom/MSc/personal_study/thesis/dataframes/duplicate/ens.report.as.is.csv,  index False\n",
      "Opened /scratch/sim_reg9/users/zsofya/classroom/MSc/personal_study/thesis/dataframes/duplicate/ens_fixed.report.as.is.csv,  index False\n",
      "Opened /scratch/sim_reg9/users/zsofya/classroom/MSc/personal_study/thesis/dataframes/duplicate/ens.LogisticRegression.report.single.proba.usampl.csv,  index False\n",
      "Opened /scratch/sim_reg9/users/zsofya/classroom/MSc/personal_study/thesis/dataframes/duplicate/ens_fixed.report.as.is.csv,  index False\n",
      "Opened /scratch/sim_reg9/users/zsofya/classroom/MSc/personal_study/thesis/dataframes/duplicate/ens.LogisticRegressionCV.fixed.report.usampl.csv,  index False\n",
      "Opened /scratch/sim_reg9/users/zsofya/classroom/MSc/personal_study/thesis/dataframes/duplicate/ens.report.as.is.threshold=0.16.smoothed.csv,  index False\n"
     ]
    }
   ],
   "source": [
    "reports['bert']['usampl']=common_utils.load_db(dir_name,bert_rep_us)\n",
    "reports['bert']['as.is']=common_utils.load_db(dir_name,bert_rep_as_is)\n",
    "reports['crf']['usampl']=common_utils.load_db(dir_name,crf_rep_us)\n",
    "reports['crf']['as.is']=common_utils.load_db(dir_name,crf_rep_as_is)\n",
    "reports['ens']['usampl']=common_utils.load_db(dir_name,ens_rep_us4)\n",
    "reports['ens']['as.is.4']=common_utils.load_db(dir_name,ens_rep_as_is4)\n",
    "reports['ens']['as.is.4.fix']=common_utils.load_db(dir_name,ens_rep_as_is4_fixed)\n",
    "reports['ens']['as.is.2']=common_utils.load_db(dir_name,ens_rep_us2)\n",
    "reports['ens']['as.is.2.fix']=common_utils.load_db(dir_name,ens_rep_as_is4_fixed)\n",
    "reports['ens']['usampl.fix']=common_utils.load_db(dir_name,ens_rep_us4_fixed)\n",
    "reports['ens']['threshold.fix']=common_utils.load_db(dir_name,ens_thresh_fix)"
   ]
  },
  {
   "cell_type": "code",
   "execution_count": 161,
   "id": "0ede82bf",
   "metadata": {
    "scrolled": true
   },
   "outputs": [
    {
     "name": "stdout",
     "output_type": "stream",
     "text": [
      "usampl\n",
      "bert ======== usampl\n"
     ]
    },
    {
     "data": {
      "text/html": [
       "<div>\n",
       "<style scoped>\n",
       "    .dataframe tbody tr th:only-of-type {\n",
       "        vertical-align: middle;\n",
       "    }\n",
       "\n",
       "    .dataframe tbody tr th {\n",
       "        vertical-align: top;\n",
       "    }\n",
       "\n",
       "    .dataframe thead th {\n",
       "        text-align: right;\n",
       "    }\n",
       "</style>\n",
       "<table border=\"1\" class=\"dataframe\">\n",
       "  <thead>\n",
       "    <tr style=\"text-align: right;\">\n",
       "      <th></th>\n",
       "      <th>label</th>\n",
       "      <th>f1_usampl</th>\n",
       "      <th>recall_usampl</th>\n",
       "      <th>prec_usampl</th>\n",
       "    </tr>\n",
       "  </thead>\n",
       "  <tbody>\n",
       "    <tr>\n",
       "      <th>0</th>\n",
       "      <td>0</td>\n",
       "      <td>0.707</td>\n",
       "      <td>0.788</td>\n",
       "      <td>0.643</td>\n",
       "    </tr>\n",
       "    <tr>\n",
       "      <th>1</th>\n",
       "      <td>1</td>\n",
       "      <td>0.631</td>\n",
       "      <td>0.561</td>\n",
       "      <td>0.729</td>\n",
       "    </tr>\n",
       "    <tr>\n",
       "      <th>2</th>\n",
       "      <td>weighted avg</td>\n",
       "      <td>0.669</td>\n",
       "      <td>0.674</td>\n",
       "      <td>0.686</td>\n",
       "    </tr>\n",
       "  </tbody>\n",
       "</table>\n",
       "</div>"
      ],
      "text/plain": [
       "          label  f1_usampl  recall_usampl  prec_usampl\n",
       "0             0      0.707          0.788        0.643\n",
       "1             1      0.631          0.561        0.729\n",
       "2  weighted avg      0.669          0.674        0.686"
      ]
     },
     "metadata": {},
     "output_type": "display_data"
    },
    {
     "name": "stdout",
     "output_type": "stream",
     "text": [
      "as.is\n",
      "bert ======== as.is\n"
     ]
    },
    {
     "data": {
      "text/html": [
       "<div>\n",
       "<style scoped>\n",
       "    .dataframe tbody tr th:only-of-type {\n",
       "        vertical-align: middle;\n",
       "    }\n",
       "\n",
       "    .dataframe tbody tr th {\n",
       "        vertical-align: top;\n",
       "    }\n",
       "\n",
       "    .dataframe thead th {\n",
       "        text-align: right;\n",
       "    }\n",
       "</style>\n",
       "<table border=\"1\" class=\"dataframe\">\n",
       "  <thead>\n",
       "    <tr style=\"text-align: right;\">\n",
       "      <th></th>\n",
       "      <th>f1_as.is</th>\n",
       "      <th>recall_as.is</th>\n",
       "      <th>prec_as.is</th>\n",
       "    </tr>\n",
       "  </thead>\n",
       "  <tbody>\n",
       "    <tr>\n",
       "      <th>0</th>\n",
       "      <td>0.829</td>\n",
       "      <td>0.818</td>\n",
       "      <td>0.841</td>\n",
       "    </tr>\n",
       "    <tr>\n",
       "      <th>1</th>\n",
       "      <td>0.517</td>\n",
       "      <td>0.539</td>\n",
       "      <td>0.500</td>\n",
       "    </tr>\n",
       "    <tr>\n",
       "      <th>2</th>\n",
       "      <td>0.756</td>\n",
       "      <td>0.753</td>\n",
       "      <td>0.761</td>\n",
       "    </tr>\n",
       "  </tbody>\n",
       "</table>\n",
       "</div>"
      ],
      "text/plain": [
       "   f1_as.is  recall_as.is  prec_as.is\n",
       "0     0.829         0.818       0.841\n",
       "1     0.517         0.539       0.500\n",
       "2     0.756         0.753       0.761"
      ]
     },
     "metadata": {},
     "output_type": "display_data"
    },
    {
     "name": "stdout",
     "output_type": "stream",
     "text": [
      "usampl\n",
      "crf ======== usampl\n"
     ]
    },
    {
     "data": {
      "text/html": [
       "<div>\n",
       "<style scoped>\n",
       "    .dataframe tbody tr th:only-of-type {\n",
       "        vertical-align: middle;\n",
       "    }\n",
       "\n",
       "    .dataframe tbody tr th {\n",
       "        vertical-align: top;\n",
       "    }\n",
       "\n",
       "    .dataframe thead th {\n",
       "        text-align: right;\n",
       "    }\n",
       "</style>\n",
       "<table border=\"1\" class=\"dataframe\">\n",
       "  <thead>\n",
       "    <tr style=\"text-align: right;\">\n",
       "      <th></th>\n",
       "      <th>label</th>\n",
       "      <th>f1_usampl</th>\n",
       "      <th>recall_usampl</th>\n",
       "      <th>prec_usampl</th>\n",
       "    </tr>\n",
       "  </thead>\n",
       "  <tbody>\n",
       "    <tr>\n",
       "      <th>0</th>\n",
       "      <td>not_nar</td>\n",
       "      <td>0.701</td>\n",
       "      <td>0.734</td>\n",
       "      <td>0.680</td>\n",
       "    </tr>\n",
       "    <tr>\n",
       "      <th>1</th>\n",
       "      <td>is_nar</td>\n",
       "      <td>0.667</td>\n",
       "      <td>0.642</td>\n",
       "      <td>0.712</td>\n",
       "    </tr>\n",
       "    <tr>\n",
       "      <th>2</th>\n",
       "      <td>weighted avg</td>\n",
       "      <td>0.684</td>\n",
       "      <td>0.688</td>\n",
       "      <td>0.696</td>\n",
       "    </tr>\n",
       "  </tbody>\n",
       "</table>\n",
       "</div>"
      ],
      "text/plain": [
       "          label  f1_usampl  recall_usampl  prec_usampl\n",
       "0       not_nar      0.701          0.734        0.680\n",
       "1        is_nar      0.667          0.642        0.712\n",
       "2  weighted avg      0.684          0.688        0.696"
      ]
     },
     "metadata": {},
     "output_type": "display_data"
    },
    {
     "name": "stdout",
     "output_type": "stream",
     "text": [
      "as.is\n",
      "crf ======== as.is\n"
     ]
    },
    {
     "data": {
      "text/html": [
       "<div>\n",
       "<style scoped>\n",
       "    .dataframe tbody tr th:only-of-type {\n",
       "        vertical-align: middle;\n",
       "    }\n",
       "\n",
       "    .dataframe tbody tr th {\n",
       "        vertical-align: top;\n",
       "    }\n",
       "\n",
       "    .dataframe thead th {\n",
       "        text-align: right;\n",
       "    }\n",
       "</style>\n",
       "<table border=\"1\" class=\"dataframe\">\n",
       "  <thead>\n",
       "    <tr style=\"text-align: right;\">\n",
       "      <th></th>\n",
       "      <th>f1_as.is</th>\n",
       "      <th>recall_as.is</th>\n",
       "      <th>prec_as.is</th>\n",
       "    </tr>\n",
       "  </thead>\n",
       "  <tbody>\n",
       "    <tr>\n",
       "      <th>0</th>\n",
       "      <td>0.863</td>\n",
       "      <td>0.895</td>\n",
       "      <td>0.834</td>\n",
       "    </tr>\n",
       "    <tr>\n",
       "      <th>1</th>\n",
       "      <td>0.511</td>\n",
       "      <td>0.454</td>\n",
       "      <td>0.611</td>\n",
       "    </tr>\n",
       "    <tr>\n",
       "      <th>2</th>\n",
       "      <td>0.782</td>\n",
       "      <td>0.793</td>\n",
       "      <td>0.783</td>\n",
       "    </tr>\n",
       "  </tbody>\n",
       "</table>\n",
       "</div>"
      ],
      "text/plain": [
       "   f1_as.is  recall_as.is  prec_as.is\n",
       "0     0.863         0.895       0.834\n",
       "1     0.511         0.454       0.611\n",
       "2     0.782         0.793       0.783"
      ]
     },
     "metadata": {},
     "output_type": "display_data"
    },
    {
     "name": "stdout",
     "output_type": "stream",
     "text": [
      "usampl\n",
      "ens ======== usampl\n"
     ]
    },
    {
     "data": {
      "text/html": [
       "<div>\n",
       "<style scoped>\n",
       "    .dataframe tbody tr th:only-of-type {\n",
       "        vertical-align: middle;\n",
       "    }\n",
       "\n",
       "    .dataframe tbody tr th {\n",
       "        vertical-align: top;\n",
       "    }\n",
       "\n",
       "    .dataframe thead th {\n",
       "        text-align: right;\n",
       "    }\n",
       "</style>\n",
       "<table border=\"1\" class=\"dataframe\">\n",
       "  <thead>\n",
       "    <tr style=\"text-align: right;\">\n",
       "      <th></th>\n",
       "      <th>f1_usampl</th>\n",
       "      <th>recall_usampl</th>\n",
       "      <th>prec_usampl</th>\n",
       "    </tr>\n",
       "  </thead>\n",
       "  <tbody>\n",
       "    <tr>\n",
       "      <th>0</th>\n",
       "      <td>0.734</td>\n",
       "      <td>0.762</td>\n",
       "      <td>0.719</td>\n",
       "    </tr>\n",
       "    <tr>\n",
       "      <th>1</th>\n",
       "      <td>0.711</td>\n",
       "      <td>0.689</td>\n",
       "      <td>0.754</td>\n",
       "    </tr>\n",
       "    <tr>\n",
       "      <th>2</th>\n",
       "      <td>0.723</td>\n",
       "      <td>0.726</td>\n",
       "      <td>0.737</td>\n",
       "    </tr>\n",
       "  </tbody>\n",
       "</table>\n",
       "</div>"
      ],
      "text/plain": [
       "   f1_usampl  recall_usampl  prec_usampl\n",
       "0      0.734          0.762        0.719\n",
       "1      0.711          0.689        0.754\n",
       "2      0.723          0.726        0.737"
      ]
     },
     "metadata": {},
     "output_type": "display_data"
    },
    {
     "name": "stdout",
     "output_type": "stream",
     "text": [
      "as.is.4\n",
      "ens ======== as.is.4\n"
     ]
    },
    {
     "data": {
      "text/html": [
       "<div>\n",
       "<style scoped>\n",
       "    .dataframe tbody tr th:only-of-type {\n",
       "        vertical-align: middle;\n",
       "    }\n",
       "\n",
       "    .dataframe tbody tr th {\n",
       "        vertical-align: top;\n",
       "    }\n",
       "\n",
       "    .dataframe thead th {\n",
       "        text-align: right;\n",
       "    }\n",
       "</style>\n",
       "<table border=\"1\" class=\"dataframe\">\n",
       "  <thead>\n",
       "    <tr style=\"text-align: right;\">\n",
       "      <th></th>\n",
       "      <th>f1_as.is.4</th>\n",
       "      <th>recall_as.is.4</th>\n",
       "      <th>prec_as.is.4</th>\n",
       "    </tr>\n",
       "  </thead>\n",
       "  <tbody>\n",
       "    <tr>\n",
       "      <th>0</th>\n",
       "      <td>0.878</td>\n",
       "      <td>0.932</td>\n",
       "      <td>0.830</td>\n",
       "    </tr>\n",
       "    <tr>\n",
       "      <th>1</th>\n",
       "      <td>0.513</td>\n",
       "      <td>0.419</td>\n",
       "      <td>0.694</td>\n",
       "    </tr>\n",
       "    <tr>\n",
       "      <th>2</th>\n",
       "      <td>0.792</td>\n",
       "      <td>0.809</td>\n",
       "      <td>0.800</td>\n",
       "    </tr>\n",
       "  </tbody>\n",
       "</table>\n",
       "</div>"
      ],
      "text/plain": [
       "   f1_as.is.4  recall_as.is.4  prec_as.is.4\n",
       "0       0.878           0.932         0.830\n",
       "1       0.513           0.419         0.694\n",
       "2       0.792           0.809         0.800"
      ]
     },
     "metadata": {},
     "output_type": "display_data"
    },
    {
     "name": "stdout",
     "output_type": "stream",
     "text": [
      "as.is.4.fix\n",
      "FIX!\n",
      "ens ======== as.is.4.fix\n"
     ]
    },
    {
     "data": {
      "text/html": [
       "<div>\n",
       "<style scoped>\n",
       "    .dataframe tbody tr th:only-of-type {\n",
       "        vertical-align: middle;\n",
       "    }\n",
       "\n",
       "    .dataframe tbody tr th {\n",
       "        vertical-align: top;\n",
       "    }\n",
       "\n",
       "    .dataframe thead th {\n",
       "        text-align: right;\n",
       "    }\n",
       "</style>\n",
       "<table border=\"1\" class=\"dataframe\">\n",
       "  <thead>\n",
       "    <tr style=\"text-align: right;\">\n",
       "      <th></th>\n",
       "      <th>f1_as.is.4.fix</th>\n",
       "      <th>recall_as.is.4.fix</th>\n",
       "      <th>prec_as.is.4.fix</th>\n",
       "    </tr>\n",
       "  </thead>\n",
       "  <tbody>\n",
       "    <tr>\n",
       "      <th>0</th>\n",
       "      <td>0.880</td>\n",
       "      <td>0.930</td>\n",
       "      <td>0.837</td>\n",
       "    </tr>\n",
       "    <tr>\n",
       "      <th>1</th>\n",
       "      <td>0.535</td>\n",
       "      <td>0.444</td>\n",
       "      <td>0.703</td>\n",
       "    </tr>\n",
       "    <tr>\n",
       "      <th>2</th>\n",
       "      <td>0.800</td>\n",
       "      <td>0.815</td>\n",
       "      <td>0.806</td>\n",
       "    </tr>\n",
       "  </tbody>\n",
       "</table>\n",
       "</div>"
      ],
      "text/plain": [
       "   f1_as.is.4.fix  recall_as.is.4.fix  prec_as.is.4.fix\n",
       "0           0.880               0.930             0.837\n",
       "1           0.535               0.444             0.703\n",
       "2           0.800               0.815             0.806"
      ]
     },
     "metadata": {},
     "output_type": "display_data"
    },
    {
     "name": "stdout",
     "output_type": "stream",
     "text": [
      "as.is.2\n",
      "ens ======== as.is.2\n"
     ]
    },
    {
     "data": {
      "text/html": [
       "<div>\n",
       "<style scoped>\n",
       "    .dataframe tbody tr th:only-of-type {\n",
       "        vertical-align: middle;\n",
       "    }\n",
       "\n",
       "    .dataframe tbody tr th {\n",
       "        vertical-align: top;\n",
       "    }\n",
       "\n",
       "    .dataframe thead th {\n",
       "        text-align: right;\n",
       "    }\n",
       "</style>\n",
       "<table border=\"1\" class=\"dataframe\">\n",
       "  <thead>\n",
       "    <tr style=\"text-align: right;\">\n",
       "      <th></th>\n",
       "      <th>f1_as.is.2</th>\n",
       "      <th>recall_as.is.2</th>\n",
       "      <th>prec_as.is.2</th>\n",
       "    </tr>\n",
       "  </thead>\n",
       "  <tbody>\n",
       "    <tr>\n",
       "      <th>0</th>\n",
       "      <td>0.734</td>\n",
       "      <td>0.762</td>\n",
       "      <td>0.720</td>\n",
       "    </tr>\n",
       "    <tr>\n",
       "      <th>1</th>\n",
       "      <td>0.712</td>\n",
       "      <td>0.690</td>\n",
       "      <td>0.755</td>\n",
       "    </tr>\n",
       "    <tr>\n",
       "      <th>2</th>\n",
       "      <td>0.723</td>\n",
       "      <td>0.726</td>\n",
       "      <td>0.737</td>\n",
       "    </tr>\n",
       "  </tbody>\n",
       "</table>\n",
       "</div>"
      ],
      "text/plain": [
       "   f1_as.is.2  recall_as.is.2  prec_as.is.2\n",
       "0       0.734           0.762         0.720\n",
       "1       0.712           0.690         0.755\n",
       "2       0.723           0.726         0.737"
      ]
     },
     "metadata": {},
     "output_type": "display_data"
    },
    {
     "name": "stdout",
     "output_type": "stream",
     "text": [
      "as.is.2.fix\n",
      "FIX!\n",
      "ens ======== as.is.2.fix\n"
     ]
    },
    {
     "data": {
      "text/html": [
       "<div>\n",
       "<style scoped>\n",
       "    .dataframe tbody tr th:only-of-type {\n",
       "        vertical-align: middle;\n",
       "    }\n",
       "\n",
       "    .dataframe tbody tr th {\n",
       "        vertical-align: top;\n",
       "    }\n",
       "\n",
       "    .dataframe thead th {\n",
       "        text-align: right;\n",
       "    }\n",
       "</style>\n",
       "<table border=\"1\" class=\"dataframe\">\n",
       "  <thead>\n",
       "    <tr style=\"text-align: right;\">\n",
       "      <th></th>\n",
       "      <th>f1_as.is.2.fix</th>\n",
       "      <th>recall_as.is.2.fix</th>\n",
       "      <th>prec_as.is.2.fix</th>\n",
       "    </tr>\n",
       "  </thead>\n",
       "  <tbody>\n",
       "    <tr>\n",
       "      <th>0</th>\n",
       "      <td>0.880</td>\n",
       "      <td>0.930</td>\n",
       "      <td>0.837</td>\n",
       "    </tr>\n",
       "    <tr>\n",
       "      <th>1</th>\n",
       "      <td>0.535</td>\n",
       "      <td>0.444</td>\n",
       "      <td>0.703</td>\n",
       "    </tr>\n",
       "    <tr>\n",
       "      <th>2</th>\n",
       "      <td>0.800</td>\n",
       "      <td>0.815</td>\n",
       "      <td>0.806</td>\n",
       "    </tr>\n",
       "  </tbody>\n",
       "</table>\n",
       "</div>"
      ],
      "text/plain": [
       "   f1_as.is.2.fix  recall_as.is.2.fix  prec_as.is.2.fix\n",
       "0           0.880               0.930             0.837\n",
       "1           0.535               0.444             0.703\n",
       "2           0.800               0.815             0.806"
      ]
     },
     "metadata": {},
     "output_type": "display_data"
    },
    {
     "name": "stdout",
     "output_type": "stream",
     "text": [
      "usampl.fix\n",
      "FIX!\n",
      "ens ======== usampl.fix\n"
     ]
    },
    {
     "data": {
      "text/html": [
       "<div>\n",
       "<style scoped>\n",
       "    .dataframe tbody tr th:only-of-type {\n",
       "        vertical-align: middle;\n",
       "    }\n",
       "\n",
       "    .dataframe tbody tr th {\n",
       "        vertical-align: top;\n",
       "    }\n",
       "\n",
       "    .dataframe thead th {\n",
       "        text-align: right;\n",
       "    }\n",
       "</style>\n",
       "<table border=\"1\" class=\"dataframe\">\n",
       "  <thead>\n",
       "    <tr style=\"text-align: right;\">\n",
       "      <th></th>\n",
       "      <th>sent_f1</th>\n",
       "      <th>f1_usampl.fix</th>\n",
       "      <th>sent_recall</th>\n",
       "      <th>recall_usampl.fix</th>\n",
       "      <th>sent_prec</th>\n",
       "      <th>prec_usampl.fix</th>\n",
       "    </tr>\n",
       "  </thead>\n",
       "  <tbody>\n",
       "    <tr>\n",
       "      <th>0</th>\n",
       "      <td>0.734</td>\n",
       "      <td>0.736</td>\n",
       "      <td>0.762</td>\n",
       "      <td>0.764</td>\n",
       "      <td>0.719</td>\n",
       "      <td>0.722</td>\n",
       "    </tr>\n",
       "    <tr>\n",
       "      <th>1</th>\n",
       "      <td>0.711</td>\n",
       "      <td>0.714</td>\n",
       "      <td>0.689</td>\n",
       "      <td>0.693</td>\n",
       "      <td>0.754</td>\n",
       "      <td>0.757</td>\n",
       "    </tr>\n",
       "    <tr>\n",
       "      <th>2</th>\n",
       "      <td>0.723</td>\n",
       "      <td>0.725</td>\n",
       "      <td>0.726</td>\n",
       "      <td>0.729</td>\n",
       "      <td>0.737</td>\n",
       "      <td>0.740</td>\n",
       "    </tr>\n",
       "  </tbody>\n",
       "</table>\n",
       "</div>"
      ],
      "text/plain": [
       "   sent_f1  f1_usampl.fix  sent_recall  recall_usampl.fix  sent_prec  \\\n",
       "0    0.734          0.736        0.762              0.764      0.719   \n",
       "1    0.711          0.714        0.689              0.693      0.754   \n",
       "2    0.723          0.725        0.726              0.729      0.737   \n",
       "\n",
       "   prec_usampl.fix  \n",
       "0            0.722  \n",
       "1            0.757  \n",
       "2            0.740  "
      ]
     },
     "metadata": {},
     "output_type": "display_data"
    },
    {
     "name": "stdout",
     "output_type": "stream",
     "text": [
      "threshold.fix\n",
      "FIX!\n",
      "ens ======== threshold.fix\n"
     ]
    },
    {
     "data": {
      "text/html": [
       "<div>\n",
       "<style scoped>\n",
       "    .dataframe tbody tr th:only-of-type {\n",
       "        vertical-align: middle;\n",
       "    }\n",
       "\n",
       "    .dataframe tbody tr th {\n",
       "        vertical-align: top;\n",
       "    }\n",
       "\n",
       "    .dataframe thead th {\n",
       "        text-align: right;\n",
       "    }\n",
       "</style>\n",
       "<table border=\"1\" class=\"dataframe\">\n",
       "  <thead>\n",
       "    <tr style=\"text-align: right;\">\n",
       "      <th></th>\n",
       "      <th>sent_f1</th>\n",
       "      <th>f1_threshold.fix</th>\n",
       "      <th>sent_recall</th>\n",
       "      <th>recall_threshold.fix</th>\n",
       "      <th>sent_prec</th>\n",
       "      <th>prec_threshold.fix</th>\n",
       "    </tr>\n",
       "  </thead>\n",
       "  <tbody>\n",
       "    <tr>\n",
       "      <th>0</th>\n",
       "      <td>0.861</td>\n",
       "      <td>0.865</td>\n",
       "      <td>0.858</td>\n",
       "      <td>0.860</td>\n",
       "      <td>0.866</td>\n",
       "      <td>0.871</td>\n",
       "    </tr>\n",
       "    <tr>\n",
       "      <th>1</th>\n",
       "      <td>0.591</td>\n",
       "      <td>0.604</td>\n",
       "      <td>0.595</td>\n",
       "      <td>0.608</td>\n",
       "      <td>0.596</td>\n",
       "      <td>0.612</td>\n",
       "    </tr>\n",
       "    <tr>\n",
       "      <th>2</th>\n",
       "      <td>0.799</td>\n",
       "      <td>0.804</td>\n",
       "      <td>0.798</td>\n",
       "      <td>0.804</td>\n",
       "      <td>0.802</td>\n",
       "      <td>0.809</td>\n",
       "    </tr>\n",
       "  </tbody>\n",
       "</table>\n",
       "</div>"
      ],
      "text/plain": [
       "   sent_f1  f1_threshold.fix  sent_recall  recall_threshold.fix  sent_prec  \\\n",
       "0    0.861             0.865        0.858                 0.860      0.866   \n",
       "1    0.591             0.604        0.595                 0.608      0.596   \n",
       "2    0.799             0.804        0.798                 0.804      0.802   \n",
       "\n",
       "   prec_threshold.fix  \n",
       "0               0.871  \n",
       "1               0.612  \n",
       "2               0.809  "
      ]
     },
     "metadata": {},
     "output_type": "display_data"
    }
   ],
   "source": [
    "for k,v in reports.items():\n",
    "    for i,j in v.items():\n",
    "        col = i\n",
    "        print(i)\n",
    "        if 'fix' in i:\n",
    "            print(\"FIX!\")\n",
    "            prefix='fixed'\n",
    "        else:\n",
    "            prefix='sent'\n",
    "        j.rename(columns={\"{}_f1\".format(prefix): \"f1_{}\".format(col),\n",
    "                          \"{}_recall\".format(prefix): \"recall_{}\".format(col),\n",
    "                         \"{}_prec\".format(prefix):\"prec_{}\".format(col)},\n",
    "                        inplace=True)\n",
    "        print(k,'='*8,i)\n",
    "        with pd.option_context('display.float_format', '{:0.3f}'.format):\n",
    "            display(j)\n"
   ]
  },
  {
   "cell_type": "code",
   "execution_count": 109,
   "id": "7ad9a1df",
   "metadata": {},
   "outputs": [
    {
     "data": {
      "text/html": [
       "<div>\n",
       "<style scoped>\n",
       "    .dataframe tbody tr th:only-of-type {\n",
       "        vertical-align: middle;\n",
       "    }\n",
       "\n",
       "    .dataframe tbody tr th {\n",
       "        vertical-align: top;\n",
       "    }\n",
       "\n",
       "    .dataframe thead th {\n",
       "        text-align: right;\n",
       "    }\n",
       "</style>\n",
       "<table border=\"1\" class=\"dataframe\">\n",
       "  <thead>\n",
       "    <tr style=\"text-align: right;\">\n",
       "      <th></th>\n",
       "      <th>f1_as.is</th>\n",
       "      <th>f1_usampl</th>\n",
       "      <th>prec_as.is</th>\n",
       "      <th>prec_usampl</th>\n",
       "      <th>recall_as.is</th>\n",
       "      <th>recall_usampl</th>\n",
       "    </tr>\n",
       "    <tr>\n",
       "      <th>label</th>\n",
       "      <th></th>\n",
       "      <th></th>\n",
       "      <th></th>\n",
       "      <th></th>\n",
       "      <th></th>\n",
       "      <th></th>\n",
       "    </tr>\n",
       "  </thead>\n",
       "  <tbody>\n",
       "    <tr>\n",
       "      <th>0</th>\n",
       "      <td>0.82884</td>\n",
       "      <td>0.707</td>\n",
       "      <td>0.84053</td>\n",
       "      <td>0.643</td>\n",
       "      <td>0.81814</td>\n",
       "      <td>0.788</td>\n",
       "    </tr>\n",
       "    <tr>\n",
       "      <th>1</th>\n",
       "      <td>0.51715</td>\n",
       "      <td>0.631</td>\n",
       "      <td>0.49990</td>\n",
       "      <td>0.729</td>\n",
       "      <td>0.53862</td>\n",
       "      <td>0.561</td>\n",
       "    </tr>\n",
       "    <tr>\n",
       "      <th>weighted avg</th>\n",
       "      <td>0.75609</td>\n",
       "      <td>0.669</td>\n",
       "      <td>0.76111</td>\n",
       "      <td>0.686</td>\n",
       "      <td>0.75282</td>\n",
       "      <td>0.674</td>\n",
       "    </tr>\n",
       "  </tbody>\n",
       "</table>\n",
       "</div>"
      ],
      "text/plain": [
       "              f1_as.is  f1_usampl  prec_as.is  prec_usampl  recall_as.is  \\\n",
       "label                                                                      \n",
       "0              0.82884      0.707     0.84053        0.643       0.81814   \n",
       "1              0.51715      0.631     0.49990        0.729       0.53862   \n",
       "weighted avg   0.75609      0.669     0.76111        0.686       0.75282   \n",
       "\n",
       "              recall_usampl  \n",
       "label                        \n",
       "0                     0.788  \n",
       "1                     0.561  \n",
       "weighted avg          0.674  "
      ]
     },
     "execution_count": 109,
     "metadata": {},
     "output_type": "execute_result"
    }
   ],
   "source": [
    "bert_compare=reports['bert']['as.is'].merge(reports['bert']['usampl'],left_index=True,right_index=True)\n",
    "bert_compare.sort_index(axis=1,inplace=True)\n",
    "bert_compare.set_index('label', inplace=True)\n",
    "bert_compare"
   ]
  },
  {
   "cell_type": "code",
   "execution_count": 173,
   "id": "98b21e2c",
   "metadata": {},
   "outputs": [
    {
     "data": {
      "image/png": "[encoded data removed]",
      "text/plain": [
       "<Figure size 720x432 with 1 Axes>"
      ]
     },
     "metadata": {
      "needs_background": "light"
     },
     "output_type": "display_data"
    },
    {
     "data": {
      "image/png": "[encoded data removed]",
      "text/plain": [
       "<Figure size 720x432 with 1 Axes>"
      ]
     },
     "metadata": {
      "needs_background": "light"
     },
     "output_type": "display_data"
    },
    {
     "data": {
      "image/png": "[encoded data removed]",
      "text/plain": [
       "<Figure size 720x432 with 1 Axes>"
      ]
     },
     "metadata": {
      "needs_background": "light"
     },
     "output_type": "display_data"
    },
    {
     "name": "stdout",
     "output_type": "stream",
     "text": [
      "Saving /scratch/sim_reg9/users/zsofya/classroom/MSc/personal_study/thesis/dataframes/duplicate/ens.fixed.comparison.threshold.csv, \n",
      "index True\n",
      "float_format %.5f\n"
     ]
    }
   ],
   "source": [
    "imp.reload(common_utils)\n",
    "acc_db=common_utils.show_comparison(ens_fix_compare)\n",
    "common_utils.save_db(acc_db,dir_name,'ens.fixed.comparison.threshold',keep_index=True)"
   ]
  },
  {
   "cell_type": "code",
   "execution_count": 84,
   "id": "8ea37bbc",
   "metadata": {},
   "outputs": [
    {
     "name": "stdout",
     "output_type": "stream",
     "text": [
      "Saving /scratch/sim_reg9/users/zsofya/classroom/MSc/personal_study/thesis/dataframes/duplicate/bert.report.as.is.unsampled.csv, \n",
      "index True\n",
      "float_format %.3f\n"
     ]
    }
   ],
   "source": [
    "common_utils.save_db(bert_compare,dir_name,'bert.report.as.is.unsampled',keep_index=True,float_format='%.3f')"
   ]
  },
  {
   "cell_type": "code",
   "execution_count": 125,
   "id": "4f718610",
   "metadata": {},
   "outputs": [
    {
     "data": {
      "text/html": [
       "<div>\n",
       "<style scoped>\n",
       "    .dataframe tbody tr th:only-of-type {\n",
       "        vertical-align: middle;\n",
       "    }\n",
       "\n",
       "    .dataframe tbody tr th {\n",
       "        vertical-align: top;\n",
       "    }\n",
       "\n",
       "    .dataframe thead th {\n",
       "        text-align: right;\n",
       "    }\n",
       "</style>\n",
       "<table border=\"1\" class=\"dataframe\">\n",
       "  <thead>\n",
       "    <tr style=\"text-align: right;\">\n",
       "      <th></th>\n",
       "      <th>f1_as.is</th>\n",
       "      <th>f1_usampl</th>\n",
       "      <th>prec_as.is</th>\n",
       "      <th>prec_usampl</th>\n",
       "      <th>recall_as.is</th>\n",
       "      <th>recall_usampl</th>\n",
       "    </tr>\n",
       "    <tr>\n",
       "      <th>label</th>\n",
       "      <th></th>\n",
       "      <th></th>\n",
       "      <th></th>\n",
       "      <th></th>\n",
       "      <th></th>\n",
       "      <th></th>\n",
       "    </tr>\n",
       "  </thead>\n",
       "  <tbody>\n",
       "    <tr>\n",
       "      <th>not_nar</th>\n",
       "      <td>0.86312</td>\n",
       "      <td>0.701</td>\n",
       "      <td>0.83425</td>\n",
       "      <td>0.680</td>\n",
       "      <td>0.89540</td>\n",
       "      <td>0.734</td>\n",
       "    </tr>\n",
       "    <tr>\n",
       "      <th>is_nar</th>\n",
       "      <td>0.51094</td>\n",
       "      <td>0.667</td>\n",
       "      <td>0.61056</td>\n",
       "      <td>0.712</td>\n",
       "      <td>0.45370</td>\n",
       "      <td>0.642</td>\n",
       "    </tr>\n",
       "    <tr>\n",
       "      <th>weighted avg</th>\n",
       "      <td>0.78187</td>\n",
       "      <td>0.684</td>\n",
       "      <td>0.78275</td>\n",
       "      <td>0.696</td>\n",
       "      <td>0.79279</td>\n",
       "      <td>0.688</td>\n",
       "    </tr>\n",
       "  </tbody>\n",
       "</table>\n",
       "</div>"
      ],
      "text/plain": [
       "              f1_as.is  f1_usampl  prec_as.is  prec_usampl  recall_as.is  \\\n",
       "label                                                                      \n",
       "not_nar        0.86312      0.701     0.83425        0.680       0.89540   \n",
       "is_nar         0.51094      0.667     0.61056        0.712       0.45370   \n",
       "weighted avg   0.78187      0.684     0.78275        0.696       0.79279   \n",
       "\n",
       "              recall_usampl  \n",
       "label                        \n",
       "not_nar               0.734  \n",
       "is_nar                0.642  \n",
       "weighted avg          0.688  "
      ]
     },
     "execution_count": 125,
     "metadata": {},
     "output_type": "execute_result"
    }
   ],
   "source": [
    "crf_compare=reports['crf']['as.is'].merge(reports['crf']['usampl'],left_index=True,right_index=True)\n",
    "crf_compare.set_index('label', inplace=True)\n",
    "crf_compare.sort_index(axis=1,inplace=True)\n",
    "crf_compare"
   ]
  },
  {
   "cell_type": "code",
   "execution_count": 89,
   "id": "96ac1719",
   "metadata": {},
   "outputs": [
    {
     "name": "stdout",
     "output_type": "stream",
     "text": [
      "Saving /scratch/sim_reg9/users/zsofya/classroom/MSc/personal_study/thesis/dataframes/duplicate/crf.report.as.is.unsampled.csv, \n",
      "index True\n",
      "float_format %.3f\n"
     ]
    }
   ],
   "source": [
    "common_utils.save_db(crf_compare,dir_name,'crf.report.as.is.unsampled',keep_index=True,float_format='%.3f')"
   ]
  },
  {
   "cell_type": "code",
   "execution_count": 126,
   "id": "8554bacd",
   "metadata": {},
   "outputs": [
    {
     "data": {
      "text/html": [
       "<div>\n",
       "<style scoped>\n",
       "    .dataframe tbody tr th:only-of-type {\n",
       "        vertical-align: middle;\n",
       "    }\n",
       "\n",
       "    .dataframe tbody tr th {\n",
       "        vertical-align: top;\n",
       "    }\n",
       "\n",
       "    .dataframe thead th {\n",
       "        text-align: right;\n",
       "    }\n",
       "</style>\n",
       "<table border=\"1\" class=\"dataframe\">\n",
       "  <thead>\n",
       "    <tr style=\"text-align: right;\">\n",
       "      <th></th>\n",
       "      <th>f1_as.is.4</th>\n",
       "      <th>f1_usampl</th>\n",
       "      <th>prec_as.is.4</th>\n",
       "      <th>prec_usampl</th>\n",
       "      <th>recall_as.is.4</th>\n",
       "      <th>recall_usampl</th>\n",
       "    </tr>\n",
       "    <tr>\n",
       "      <th>label</th>\n",
       "      <th></th>\n",
       "      <th></th>\n",
       "      <th></th>\n",
       "      <th></th>\n",
       "      <th></th>\n",
       "      <th></th>\n",
       "    </tr>\n",
       "  </thead>\n",
       "  <tbody>\n",
       "    <tr>\n",
       "      <th>not_nar</th>\n",
       "      <td>0.87757</td>\n",
       "      <td>0.73374</td>\n",
       "      <td>0.83017</td>\n",
       "      <td>0.71922</td>\n",
       "      <td>0.93186</td>\n",
       "      <td>0.76235</td>\n",
       "    </tr>\n",
       "    <tr>\n",
       "      <th>is_nar</th>\n",
       "      <td>0.51325</td>\n",
       "      <td>0.71133</td>\n",
       "      <td>0.69375</td>\n",
       "      <td>0.75440</td>\n",
       "      <td>0.41878</td>\n",
       "      <td>0.68947</td>\n",
       "    </tr>\n",
       "    <tr>\n",
       "      <th>weighted avg</th>\n",
       "      <td>0.79249</td>\n",
       "      <td>0.72254</td>\n",
       "      <td>0.80002</td>\n",
       "      <td>0.73681</td>\n",
       "      <td>0.80933</td>\n",
       "      <td>0.72591</td>\n",
       "    </tr>\n",
       "  </tbody>\n",
       "</table>\n",
       "</div>"
      ],
      "text/plain": [
       "              f1_as.is.4  f1_usampl  prec_as.is.4  prec_usampl  \\\n",
       "label                                                            \n",
       "not_nar          0.87757    0.73374       0.83017      0.71922   \n",
       "is_nar           0.51325    0.71133       0.69375      0.75440   \n",
       "weighted avg     0.79249    0.72254       0.80002      0.73681   \n",
       "\n",
       "              recall_as.is.4  recall_usampl  \n",
       "label                                        \n",
       "not_nar              0.93186        0.76235  \n",
       "is_nar               0.41878        0.68947  \n",
       "weighted avg         0.80933        0.72591  "
      ]
     },
     "execution_count": 126,
     "metadata": {},
     "output_type": "execute_result"
    }
   ],
   "source": [
    "ens_compare=reports['ens']['as.is.4'].merge(reports['ens']['usampl'],left_index=True,right_index=True)\n",
    "ens_compare.set_index(crf_compare.index, inplace=True)\n",
    "ens_compare.sort_index(axis=1,inplace=True)\n",
    "ens_compare"
   ]
  },
  {
   "cell_type": "code",
   "execution_count": 92,
   "id": "90cd6ea2",
   "metadata": {},
   "outputs": [
    {
     "name": "stdout",
     "output_type": "stream",
     "text": [
      "Saving /scratch/sim_reg9/users/zsofya/classroom/MSc/personal_study/thesis/dataframes/duplicate/ens.report.as.is.unsampled.csv, \n",
      "index True\n",
      "float_format %.3f\n"
     ]
    }
   ],
   "source": [
    "common_utils.save_db(ens_compare,dir_name,'ens.report.as.is.unsampled',keep_index=True,float_format='%.3f')"
   ]
  },
  {
   "cell_type": "markdown",
   "id": "418d480c",
   "metadata": {},
   "source": [
    "## Merge fixed ensemble: as is and with threshold"
   ]
  },
  {
   "cell_type": "code",
   "execution_count": 162,
   "id": "66ad46c5",
   "metadata": {},
   "outputs": [
    {
     "data": {
      "text/html": [
       "<div>\n",
       "<style scoped>\n",
       "    .dataframe tbody tr th:only-of-type {\n",
       "        vertical-align: middle;\n",
       "    }\n",
       "\n",
       "    .dataframe tbody tr th {\n",
       "        vertical-align: top;\n",
       "    }\n",
       "\n",
       "    .dataframe thead th {\n",
       "        text-align: right;\n",
       "    }\n",
       "</style>\n",
       "<table border=\"1\" class=\"dataframe\">\n",
       "  <thead>\n",
       "    <tr style=\"text-align: right;\">\n",
       "      <th></th>\n",
       "      <th>sent_f1</th>\n",
       "      <th>f1_threshold.fix</th>\n",
       "      <th>sent_recall</th>\n",
       "      <th>recall_threshold.fix</th>\n",
       "      <th>sent_prec</th>\n",
       "      <th>prec_threshold.fix</th>\n",
       "    </tr>\n",
       "  </thead>\n",
       "  <tbody>\n",
       "    <tr>\n",
       "      <th>0</th>\n",
       "      <td>0.86099</td>\n",
       "      <td>0.86462</td>\n",
       "      <td>0.85753</td>\n",
       "      <td>0.86026</td>\n",
       "      <td>0.86590</td>\n",
       "      <td>0.87058</td>\n",
       "    </tr>\n",
       "    <tr>\n",
       "      <th>1</th>\n",
       "      <td>0.59052</td>\n",
       "      <td>0.60379</td>\n",
       "      <td>0.59476</td>\n",
       "      <td>0.60816</td>\n",
       "      <td>0.59616</td>\n",
       "      <td>0.61214</td>\n",
       "    </tr>\n",
       "    <tr>\n",
       "      <th>2</th>\n",
       "      <td>0.79857</td>\n",
       "      <td>0.80446</td>\n",
       "      <td>0.79806</td>\n",
       "      <td>0.80389</td>\n",
       "      <td>0.80235</td>\n",
       "      <td>0.80889</td>\n",
       "    </tr>\n",
       "  </tbody>\n",
       "</table>\n",
       "</div>"
      ],
      "text/plain": [
       "   sent_f1  f1_threshold.fix  sent_recall  recall_threshold.fix  sent_prec  \\\n",
       "0  0.86099           0.86462      0.85753               0.86026    0.86590   \n",
       "1  0.59052           0.60379      0.59476               0.60816    0.59616   \n",
       "2  0.79857           0.80446      0.79806               0.80389    0.80235   \n",
       "\n",
       "   prec_threshold.fix  \n",
       "0             0.87058  \n",
       "1             0.61214  \n",
       "2             0.80889  "
      ]
     },
     "execution_count": 162,
     "metadata": {},
     "output_type": "execute_result"
    }
   ],
   "source": [
    "reports['ens']['threshold.fix']"
   ]
  },
  {
   "cell_type": "code",
   "execution_count": 163,
   "id": "79be06c2",
   "metadata": {},
   "outputs": [
    {
     "data": {
      "text/html": [
       "<div>\n",
       "<style scoped>\n",
       "    .dataframe tbody tr th:only-of-type {\n",
       "        vertical-align: middle;\n",
       "    }\n",
       "\n",
       "    .dataframe tbody tr th {\n",
       "        vertical-align: top;\n",
       "    }\n",
       "\n",
       "    .dataframe thead th {\n",
       "        text-align: right;\n",
       "    }\n",
       "</style>\n",
       "<table border=\"1\" class=\"dataframe\">\n",
       "  <thead>\n",
       "    <tr style=\"text-align: right;\">\n",
       "      <th></th>\n",
       "      <th>f1_as.is.4.fix</th>\n",
       "      <th>recall_as.is.4.fix</th>\n",
       "      <th>prec_as.is.4.fix</th>\n",
       "    </tr>\n",
       "  </thead>\n",
       "  <tbody>\n",
       "    <tr>\n",
       "      <th>0</th>\n",
       "      <td>0.88025</td>\n",
       "      <td>0.92965</td>\n",
       "      <td>0.83665</td>\n",
       "    </tr>\n",
       "    <tr>\n",
       "      <th>1</th>\n",
       "      <td>0.53495</td>\n",
       "      <td>0.44431</td>\n",
       "      <td>0.70292</td>\n",
       "    </tr>\n",
       "    <tr>\n",
       "      <th>2</th>\n",
       "      <td>0.79990</td>\n",
       "      <td>0.81466</td>\n",
       "      <td>0.80632</td>\n",
       "    </tr>\n",
       "  </tbody>\n",
       "</table>\n",
       "</div>"
      ],
      "text/plain": [
       "   f1_as.is.4.fix  recall_as.is.4.fix  prec_as.is.4.fix\n",
       "0         0.88025             0.92965           0.83665\n",
       "1         0.53495             0.44431           0.70292\n",
       "2         0.79990             0.81466           0.80632"
      ]
     },
     "execution_count": 163,
     "metadata": {},
     "output_type": "execute_result"
    }
   ],
   "source": [
    "reports['ens']['as.is.4.fix']"
   ]
  },
  {
   "cell_type": "code",
   "execution_count": 168,
   "id": "76ed523c",
   "metadata": {},
   "outputs": [],
   "source": [
    "ens_fix_compare=reports['ens']['threshold.fix'].merge(reports['ens']['as.is.4.fix'],left_index=True,right_index=True)\n",
    "ens_fix_compare.set_index(crf_compare.index, inplace=True)\n",
    "ens_fix_compare.sort_index(axis=1,inplace=True)\n",
    "ens_fix_compare.drop(columns=['sent_f1','sent_prec','sent_recall'],inplace=True)"
   ]
  },
  {
   "cell_type": "code",
   "execution_count": 170,
   "id": "d27a9d5a",
   "metadata": {},
   "outputs": [
    {
     "data": {
      "text/html": [
       "<div>\n",
       "<style scoped>\n",
       "    .dataframe tbody tr th:only-of-type {\n",
       "        vertical-align: middle;\n",
       "    }\n",
       "\n",
       "    .dataframe tbody tr th {\n",
       "        vertical-align: top;\n",
       "    }\n",
       "\n",
       "    .dataframe thead th {\n",
       "        text-align: right;\n",
       "    }\n",
       "</style>\n",
       "<table border=\"1\" class=\"dataframe\">\n",
       "  <thead>\n",
       "    <tr style=\"text-align: right;\">\n",
       "      <th></th>\n",
       "      <th>f1_as.is.4.fix</th>\n",
       "      <th>f1_threshold.fix</th>\n",
       "      <th>prec_as.is.4.fix</th>\n",
       "      <th>prec_threshold.fix</th>\n",
       "      <th>recall_as.is.4.fix</th>\n",
       "      <th>recall_threshold.fix</th>\n",
       "    </tr>\n",
       "    <tr>\n",
       "      <th>label</th>\n",
       "      <th></th>\n",
       "      <th></th>\n",
       "      <th></th>\n",
       "      <th></th>\n",
       "      <th></th>\n",
       "      <th></th>\n",
       "    </tr>\n",
       "  </thead>\n",
       "  <tbody>\n",
       "    <tr>\n",
       "      <th>not_nar</th>\n",
       "      <td>0.88025</td>\n",
       "      <td>0.86462</td>\n",
       "      <td>0.83665</td>\n",
       "      <td>0.87058</td>\n",
       "      <td>0.92965</td>\n",
       "      <td>0.86026</td>\n",
       "    </tr>\n",
       "    <tr>\n",
       "      <th>is_nar</th>\n",
       "      <td>0.53495</td>\n",
       "      <td>0.60379</td>\n",
       "      <td>0.70292</td>\n",
       "      <td>0.61214</td>\n",
       "      <td>0.44431</td>\n",
       "      <td>0.60816</td>\n",
       "    </tr>\n",
       "    <tr>\n",
       "      <th>weighted avg</th>\n",
       "      <td>0.79990</td>\n",
       "      <td>0.80446</td>\n",
       "      <td>0.80632</td>\n",
       "      <td>0.80889</td>\n",
       "      <td>0.81466</td>\n",
       "      <td>0.80389</td>\n",
       "    </tr>\n",
       "  </tbody>\n",
       "</table>\n",
       "</div>"
      ],
      "text/plain": [
       "              f1_as.is.4.fix  f1_threshold.fix  prec_as.is.4.fix  \\\n",
       "label                                                              \n",
       "not_nar              0.88025           0.86462           0.83665   \n",
       "is_nar               0.53495           0.60379           0.70292   \n",
       "weighted avg         0.79990           0.80446           0.80632   \n",
       "\n",
       "              prec_threshold.fix  recall_as.is.4.fix  recall_threshold.fix  \n",
       "label                                                                       \n",
       "not_nar                  0.87058             0.92965               0.86026  \n",
       "is_nar                   0.61214             0.44431               0.60816  \n",
       "weighted avg             0.80889             0.81466               0.80389  "
      ]
     },
     "execution_count": 170,
     "metadata": {},
     "output_type": "execute_result"
    }
   ],
   "source": [
    "ens_fix_compare"
   ]
  },
  {
   "cell_type": "code",
   "execution_count": 172,
   "id": "dd5d10db",
   "metadata": {},
   "outputs": [
    {
     "name": "stdout",
     "output_type": "stream",
     "text": [
      "Saving /scratch/sim_reg9/users/zsofya/classroom/MSc/personal_study/thesis/dataframes/duplicate/ens.report.as.is.threshold.csv, \n",
      "index True\n",
      "float_format %.3f\n"
     ]
    }
   ],
   "source": [
    "common_utils.save_db(ens_fix_compare,dir_name,'ens.report.as.is.threshold',keep_index=True,float_format='%.3f')"
   ]
  },
  {
   "cell_type": "code",
   "execution_count": null,
   "id": "b2e7e609",
   "metadata": {},
   "outputs": [],
   "source": []
  }
 ],
 "metadata": {
  "kernelspec": {
   "display_name": "Python 3",
   "language": "python",
   "name": "python3"
  },
  "language_info": {
   "codemirror_mode": {
    "name": "ipython",
    "version": 3
   },
   "file_extension": ".py",
   "mimetype": "text/x-python",
   "name": "python",
   "nbconvert_exporter": "python",
   "pygments_lexer": "ipython3",
   "version": "3.8.5"
  }
 },
 "nbformat": 4,
 "nbformat_minor": 5
}
