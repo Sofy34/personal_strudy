{
 "cells": [
  {
   "cell_type": "code",
   "execution_count": 4,
   "id": "58f6c45e",
   "metadata": {},
   "outputs": [],
   "source": [
    "import ipywidgets as widgets\n",
    "from ipywidgets import interact, interact_manual\n",
    "import sys\n",
    "sys.path.append('./src/')\n",
    "import common_utils,my_ensembler, feature_utils, defines, model_utils, my_bert, classes\n",
    "import numpy as np\n",
    "import imp\n",
    "import pandas as pd\n",
    "import seaborn as sns\n",
    "from sklearn_crfsuite import CRF\n",
    "from sklearn.linear_model import LogisticRegression, LogisticRegressionCV, PassiveAggressiveClassifier, Perceptron, RidgeClassifier, RidgeClassifierCV, SGDClassifier\n",
    "from sklearn.metrics import f1_score"
   ]
  },
  {
   "cell_type": "code",
   "execution_count": 5,
   "id": "401fcdba",
   "metadata": {},
   "outputs": [],
   "source": [
    "dir_name='duplicate'\n",
    "final_pred_name='all_pred_fixed.threshold0.256'#'merged.crf.bert.ens.c.w.l'\n",
    "final_feature_name='local.plot.tfidf.30'\n",
    "dataset_name='dataset_tf.word.char.lemma.full_splits'\n",
    "cv_split_name='cv_splits_per_client'\n",
    "seq_len=15\n",
    "step=15\n",
    "file_prefix='threshold'"
   ]
  },
  {
   "cell_type": "code",
   "execution_count": 6,
   "id": "e41d8065",
   "metadata": {},
   "outputs": [
    {
     "name": "stdout",
     "output_type": "stream",
     "text": [
      "Opened /scratch/sim_reg9/users/zsofya/classroom/MSc/personal_study/thesis/dataframes/duplicate/all_pred_fixed.threshold0.256.csv,  index False\n"
     ]
    }
   ],
   "source": [
    "all_pred_crf01=common_utils.load_db(dir_name,final_pred_name)"
   ]
  },
  {
   "cell_type": "code",
   "execution_count": 7,
   "id": "8332afe6",
   "metadata": {},
   "outputs": [],
   "source": [
    "score=f1_score(all_pred_crf01['ens_true'].tolist(),all_pred_crf01['ens_predicted'].tolist(),average='macro')"
   ]
  },
  {
   "cell_type": "code",
   "execution_count": 8,
   "id": "1533c506",
   "metadata": {},
   "outputs": [
    {
     "data": {
      "text/plain": [
       "0.7309699060694252"
      ]
     },
     "execution_count": 8,
     "metadata": {},
     "output_type": "execute_result"
    }
   ],
   "source": [
    "score"
   ]
  },
  {
   "cell_type": "code",
   "execution_count": 8,
   "id": "cb41267c",
   "metadata": {},
   "outputs": [
    {
     "name": "stdout",
     "output_type": "stream",
     "text": [
      "Opened /scratch/sim_reg9/users/zsofya/classroom/MSc/personal_study/thesis/dataframes/duplicate/cv_splits_per_client.json\n"
     ]
    }
   ],
   "source": [
    "cv_splits_loaded=common_utils.load_json(dir_name,cv_split_name)"
   ]
  },
  {
   "cell_type": "code",
   "execution_count": 4,
   "id": "01053e6b",
   "metadata": {},
   "outputs": [],
   "source": [
    "db=all_pred_crf01"
   ]
  },
  {
   "cell_type": "code",
   "execution_count": 5,
   "id": "766ee080",
   "metadata": {},
   "outputs": [
    {
     "data": {
      "application/vnd.jupyter.widget-view+json": {
       "model_id": "567295574a864f44a3606e6295afd143",
       "version_major": 2,
       "version_minor": 0
      },
      "text/plain": [
       "interactive(children=(Text(value='bert', description='model'), FloatSlider(value=0.5, description='threshold',…"
      ]
     },
     "metadata": {},
     "output_type": "display_data"
    }
   ],
   "source": [
    "imp.reload(model_utils)\n",
    "imp.reload(common_utils)\n",
    "@interact\n",
    "def show_metric_per_threshold(model='bert',threshold=(0.0,1.0,0.001)):\n",
    "    th_db=pd.DataFrame()\n",
    "    column='{}_proba_1'.format(model)\n",
    "    cols=['{}_{}'.format(model,i) for i in ['split','true','predicted']]\n",
    "    th_db=db[cols].copy()\n",
    "    th_db['{}_predicted'.format(model)]  = db[column].apply(lambda y: 1 if y>=threshold else 0)\n",
    "    sc,dict_,_,_=model_utils.get_report_by_unit(th_db,model,'split',n_t=2, print_rep=False, segeval =False, use_par=False)\n",
    "    common_utils.plot_mean_scores(dict_)\n",
    "    print('f1-score: {:.3f}'.format(np.mean(sc)))\n",
    "    "
   ]
  },
  {
   "cell_type": "markdown",
   "id": "a7713aa3",
   "metadata": {},
   "source": [
    "# Apply threshold to ensemble only"
   ]
  },
  {
   "cell_type": "code",
   "execution_count": 174,
   "id": "9834e242",
   "metadata": {},
   "outputs": [
    {
     "name": "stdout",
     "output_type": "stream",
     "text": [
      "MyScoreSummarizer init called\n",
      "MyPredFixer init called\n",
      "WindowDiff init called\n",
      "Total pos 6501 ens before using threshold 0.15\n",
      "Total pos 36801 ens after  using threshold 0.15\n",
      "near misses to be fixed\n",
      " {'tot': 156, 'fp': 42, 'fn': 114}\n",
      "1100 middle misses to be fixed\n",
      "0 stande alone to be fixed\n",
      "ens\n",
      "label {0} is  missing in predicted for split 3, true is {0, 1}, pred is {1}\n",
      "label {0} is  missing in predicted for split 4, true is {0, 1}, pred is {1}\n",
      "label {0} is  missing in predicted for split 5, true is {0, 1}, pred is {1}\n",
      "label {0} is  missing in predicted for split 7, true is {0, 1}, pred is {1}\n",
      "MyReport init called\n"
     ]
    },
    {
     "name": "stderr",
     "output_type": "stream",
     "text": [
      "/home/zsofya/jupyter_git/jup-nb-generic/lib/python3.8/site-packages/sklearn/metrics/_classification.py:1327: UndefinedMetricWarning: Precision and F-score are ill-defined and being set to 0.0 in labels with no predicted samples. Use `zero_division` parameter to control this behavior.\n",
      "  _warn_prf(average, modifier, msg_start, len(result))\n",
      "/home/zsofya/jupyter_git/jup-nb-generic/lib/python3.8/site-packages/sklearn/metrics/_classification.py:1327: UndefinedMetricWarning: Precision and F-score are ill-defined and being set to 0.0 in labels with no predicted samples. Use `zero_division` parameter to control this behavior.\n",
      "  _warn_prf(average, modifier, msg_start, len(result))\n",
      "/home/zsofya/jupyter_git/jup-nb-generic/lib/python3.8/site-packages/sklearn/metrics/_classification.py:1327: UndefinedMetricWarning: Precision and F-score are ill-defined and being set to 0.0 in labels with no predicted samples. Use `zero_division` parameter to control this behavior.\n",
      "  _warn_prf(average, modifier, msg_start, len(result))\n",
      "/home/zsofya/jupyter_git/jup-nb-generic/lib/python3.8/site-packages/sklearn/metrics/_classification.py:1327: UndefinedMetricWarning: Precision and F-score are ill-defined and being set to 0.0 in labels with no predicted samples. Use `zero_division` parameter to control this behavior.\n",
      "  _warn_prf(average, modifier, msg_start, len(result))\n",
      "/home/zsofya/jupyter_git/jup-nb-generic/lib/python3.8/site-packages/sklearn/metrics/_classification.py:1327: UndefinedMetricWarning: Precision and F-score are ill-defined and being set to 0.0 in labels with no predicted samples. Use `zero_division` parameter to control this behavior.\n",
      "  _warn_prf(average, modifier, msg_start, len(result))\n",
      "/home/zsofya/jupyter_git/jup-nb-generic/lib/python3.8/site-packages/sklearn/metrics/_classification.py:1327: UndefinedMetricWarning: Precision and F-score are ill-defined and being set to 0.0 in labels with no predicted samples. Use `zero_division` parameter to control this behavior.\n",
      "  _warn_prf(average, modifier, msg_start, len(result))\n",
      "/home/zsofya/jupyter_git/jup-nb-generic/lib/python3.8/site-packages/sklearn/metrics/_classification.py:1327: UndefinedMetricWarning: Precision and F-score are ill-defined and being set to 0.0 in labels with no predicted samples. Use `zero_division` parameter to control this behavior.\n",
      "  _warn_prf(average, modifier, msg_start, len(result))\n",
      "/home/zsofya/jupyter_git/jup-nb-generic/lib/python3.8/site-packages/sklearn/metrics/_classification.py:1327: UndefinedMetricWarning: Precision and F-score are ill-defined and being set to 0.0 in labels with no predicted samples. Use `zero_division` parameter to control this behavior.\n",
      "  _warn_prf(average, modifier, msg_start, len(result))\n",
      "/home/zsofya/jupyter_git/jup-nb-generic/lib/python3.8/site-packages/sklearn/metrics/_classification.py:1327: UndefinedMetricWarning: Precision and F-score are ill-defined and being set to 0.0 in labels with no predicted samples. Use `zero_division` parameter to control this behavior.\n",
      "  _warn_prf(average, modifier, msg_start, len(result))\n",
      "/home/zsofya/jupyter_git/jup-nb-generic/lib/python3.8/site-packages/sklearn/metrics/_classification.py:1327: UndefinedMetricWarning: Precision and F-score are ill-defined and being set to 0.0 in labels with no predicted samples. Use `zero_division` parameter to control this behavior.\n",
      "  _warn_prf(average, modifier, msg_start, len(result))\n",
      "/home/zsofya/jupyter_git/jup-nb-generic/lib/python3.8/site-packages/sklearn/metrics/_classification.py:1327: UndefinedMetricWarning: Precision and F-score are ill-defined and being set to 0.0 in labels with no predicted samples. Use `zero_division` parameter to control this behavior.\n",
      "  _warn_prf(average, modifier, msg_start, len(result))\n",
      "/home/zsofya/jupyter_git/jup-nb-generic/lib/python3.8/site-packages/sklearn/metrics/_classification.py:1327: UndefinedMetricWarning: Precision and F-score are ill-defined and being set to 0.0 in labels with no predicted samples. Use `zero_division` parameter to control this behavior.\n",
      "  _warn_prf(average, modifier, msg_start, len(result))\n"
     ]
    },
    {
     "data": {
      "text/html": [
       "<div>\n",
       "<style scoped>\n",
       "    .dataframe tbody tr th:only-of-type {\n",
       "        vertical-align: middle;\n",
       "    }\n",
       "\n",
       "    .dataframe tbody tr th {\n",
       "        vertical-align: top;\n",
       "    }\n",
       "\n",
       "    .dataframe thead th {\n",
       "        text-align: right;\n",
       "    }\n",
       "</style>\n",
       "<table border=\"1\" class=\"dataframe\">\n",
       "  <thead>\n",
       "    <tr style=\"text-align: right;\">\n",
       "      <th></th>\n",
       "      <th>sent_f1</th>\n",
       "      <th>fixed_f1</th>\n",
       "      <th>sent_recall</th>\n",
       "      <th>fixed_recall</th>\n",
       "      <th>sent_prec</th>\n",
       "      <th>fixed_prec</th>\n",
       "    </tr>\n",
       "  </thead>\n",
       "  <tbody>\n",
       "    <tr>\n",
       "      <th>0</th>\n",
       "      <td>0.878</td>\n",
       "      <td>0.029</td>\n",
       "      <td>0.932</td>\n",
       "      <td>0.016</td>\n",
       "      <td>0.830</td>\n",
       "      <td>0.318</td>\n",
       "    </tr>\n",
       "    <tr>\n",
       "      <th>1</th>\n",
       "      <td>0.513</td>\n",
       "      <td>0.396</td>\n",
       "      <td>0.419</td>\n",
       "      <td>0.989</td>\n",
       "      <td>0.694</td>\n",
       "      <td>0.252</td>\n",
       "    </tr>\n",
       "    <tr>\n",
       "      <th>weighted avg</th>\n",
       "      <td>0.792</td>\n",
       "      <td>0.124</td>\n",
       "      <td>0.809</td>\n",
       "      <td>0.257</td>\n",
       "      <td>0.800</td>\n",
       "      <td>0.287</td>\n",
       "    </tr>\n",
       "  </tbody>\n",
       "</table>\n",
       "</div>"
      ],
      "text/plain": [
       "              sent_f1  fixed_f1  sent_recall  fixed_recall  sent_prec  \\\n",
       "0               0.878     0.029        0.932         0.016      0.830   \n",
       "1               0.513     0.396        0.419         0.989      0.694   \n",
       "weighted avg    0.792     0.124        0.809         0.257      0.800   \n",
       "\n",
       "              fixed_prec  \n",
       "0                  0.318  \n",
       "1                  0.252  \n",
       "weighted avg       0.287  "
      ]
     },
     "metadata": {},
     "output_type": "display_data"
    }
   ],
   "source": [
    "imp.reload(classes)\n",
    "sgd_report=classes.MyScoreSummarizer(pred_df=all_pred_crf01,fix_list=['threshold_0.15','near_miss','single_miss','single_sa'],prefixes=['ens'])\n",
    "sgd_report.get_all_scores(unit='split')\n",
    "with pd.option_context('display.float_format', '{:0.3f}'.format):\n",
    "    display(sgd_report.print_df['ens'])"
   ]
  },
  {
   "cell_type": "code",
   "execution_count": 173,
   "id": "c8fdb797",
   "metadata": {},
   "outputs": [
    {
     "name": "stdout",
     "output_type": "stream",
     "text": [
      "Saving /scratch/sim_reg9/users/zsofya/classroom/MSc/personal_study/thesis/dataframes/duplicate/ens.report.fixed.as.is.threshold=0.20.csv, \n",
      "index False\n",
      "float_format %.5f\n"
     ]
    }
   ],
   "source": [
    "common_utils.save_db(sgd_report.print_df['ens'],dir_name,'ens.report.fixed.as.is.threshold=0.20')"
   ]
  },
  {
   "cell_type": "markdown",
   "id": "5b72042f",
   "metadata": {},
   "source": [
    "# Fix near miss, middle miss and stand alone after using threshold"
   ]
  },
  {
   "cell_type": "code",
   "execution_count": 49,
   "id": "c76265ae",
   "metadata": {},
   "outputs": [
    {
     "name": "stdout",
     "output_type": "stream",
     "text": [
      "MyScoreSummarizer init called\n",
      "MyPredFixer init called\n",
      "WindowDiff init called\n",
      "582 middle misses to be fixed\n",
      "457 stande alone to be fixed\n",
      "ens\n",
      "MyReport init called\n"
     ]
    },
    {
     "data": {
      "text/html": [
       "<div>\n",
       "<style scoped>\n",
       "    .dataframe tbody tr th:only-of-type {\n",
       "        vertical-align: middle;\n",
       "    }\n",
       "\n",
       "    .dataframe tbody tr th {\n",
       "        vertical-align: top;\n",
       "    }\n",
       "\n",
       "    .dataframe thead th {\n",
       "        text-align: right;\n",
       "    }\n",
       "</style>\n",
       "<table border=\"1\" class=\"dataframe\">\n",
       "  <thead>\n",
       "    <tr style=\"text-align: right;\">\n",
       "      <th></th>\n",
       "      <th>sent_f1</th>\n",
       "      <th>fixed_f1</th>\n",
       "      <th>sent_recall</th>\n",
       "      <th>fixed_recall</th>\n",
       "      <th>sent_prec</th>\n",
       "      <th>fixed_prec</th>\n",
       "    </tr>\n",
       "  </thead>\n",
       "  <tbody>\n",
       "    <tr>\n",
       "      <th>0</th>\n",
       "      <td>0.861</td>\n",
       "      <td>0.865</td>\n",
       "      <td>0.858</td>\n",
       "      <td>0.860</td>\n",
       "      <td>0.866</td>\n",
       "      <td>0.871</td>\n",
       "    </tr>\n",
       "    <tr>\n",
       "      <th>1</th>\n",
       "      <td>0.591</td>\n",
       "      <td>0.604</td>\n",
       "      <td>0.595</td>\n",
       "      <td>0.608</td>\n",
       "      <td>0.596</td>\n",
       "      <td>0.612</td>\n",
       "    </tr>\n",
       "    <tr>\n",
       "      <th>weighted avg</th>\n",
       "      <td>0.799</td>\n",
       "      <td>0.804</td>\n",
       "      <td>0.798</td>\n",
       "      <td>0.804</td>\n",
       "      <td>0.802</td>\n",
       "      <td>0.809</td>\n",
       "    </tr>\n",
       "  </tbody>\n",
       "</table>\n",
       "</div>"
      ],
      "text/plain": [
       "              sent_f1  fixed_f1  sent_recall  fixed_recall  sent_prec  \\\n",
       "0               0.861     0.865        0.858         0.860      0.866   \n",
       "1               0.591     0.604        0.595         0.608      0.596   \n",
       "weighted avg    0.799     0.804        0.798         0.804      0.802   \n",
       "\n",
       "              fixed_prec  \n",
       "0                  0.871  \n",
       "1                  0.612  \n",
       "weighted avg       0.809  "
      ]
     },
     "metadata": {},
     "output_type": "display_data"
    }
   ],
   "source": [
    "smooth_report=classes.MyScoreSummarizer(pred_df=sgd_report.fixed_df,fix_list=['ner_miss','single_miss','single_sa'],prefixes=['ens'])\n",
    "smooth_report.get_all_scores(unit='split')\n",
    "with pd.option_context('display.float_format', '{:0.3f}'.format):\n",
    "    display(smooth_report.print_df['ens'])"
   ]
  },
  {
   "cell_type": "code",
   "execution_count": 145,
   "id": "91bed6ab",
   "metadata": {},
   "outputs": [
    {
     "name": "stdout",
     "output_type": "stream",
     "text": [
      "Saving /scratch/sim_reg9/users/zsofya/classroom/MSc/personal_study/thesis/dataframes/duplicate/ens.report.as.is.threshold=0.16.smoothed.csv, \n",
      "index False\n",
      "float_format %.5f\n"
     ]
    }
   ],
   "source": [
    "common_utils.save_db(smooth_report.print_df['ens'],dir_name,'ens.report.as.is.threshold=0.16.smoothed')"
   ]
  },
  {
   "cell_type": "code",
   "execution_count": 144,
   "id": "19a0a3b1",
   "metadata": {},
   "outputs": [
    {
     "data": {
      "text/html": [
       "<div>\n",
       "<style scoped>\n",
       "    .dataframe tbody tr th:only-of-type {\n",
       "        vertical-align: middle;\n",
       "    }\n",
       "\n",
       "    .dataframe tbody tr th {\n",
       "        vertical-align: top;\n",
       "    }\n",
       "\n",
       "    .dataframe thead th {\n",
       "        text-align: right;\n",
       "    }\n",
       "</style>\n",
       "<table border=\"1\" class=\"dataframe\">\n",
       "  <thead>\n",
       "    <tr style=\"text-align: right;\">\n",
       "      <th></th>\n",
       "      <th>sent_f1</th>\n",
       "      <th>fixed_f1</th>\n",
       "      <th>sent_recall</th>\n",
       "      <th>fixed_recall</th>\n",
       "      <th>sent_prec</th>\n",
       "      <th>fixed_prec</th>\n",
       "    </tr>\n",
       "  </thead>\n",
       "  <tbody>\n",
       "    <tr>\n",
       "      <th>0</th>\n",
       "      <td>0.860990</td>\n",
       "      <td>0.864622</td>\n",
       "      <td>0.857533</td>\n",
       "      <td>0.860259</td>\n",
       "      <td>0.865897</td>\n",
       "      <td>0.870577</td>\n",
       "    </tr>\n",
       "    <tr>\n",
       "      <th>1</th>\n",
       "      <td>0.590515</td>\n",
       "      <td>0.603786</td>\n",
       "      <td>0.594762</td>\n",
       "      <td>0.608161</td>\n",
       "      <td>0.596164</td>\n",
       "      <td>0.612142</td>\n",
       "    </tr>\n",
       "    <tr>\n",
       "      <th>weighted avg</th>\n",
       "      <td>0.798570</td>\n",
       "      <td>0.804463</td>\n",
       "      <td>0.798062</td>\n",
       "      <td>0.803894</td>\n",
       "      <td>0.802347</td>\n",
       "      <td>0.808890</td>\n",
       "    </tr>\n",
       "  </tbody>\n",
       "</table>\n",
       "</div>"
      ],
      "text/plain": [
       "               sent_f1  fixed_f1  sent_recall  fixed_recall  sent_prec  \\\n",
       "0             0.860990  0.864622     0.857533      0.860259   0.865897   \n",
       "1             0.590515  0.603786     0.594762      0.608161   0.596164   \n",
       "weighted avg  0.798570  0.804463     0.798062      0.803894   0.802347   \n",
       "\n",
       "              fixed_prec  \n",
       "0               0.870577  \n",
       "1               0.612142  \n",
       "weighted avg    0.808890  "
      ]
     },
     "execution_count": 144,
     "metadata": {},
     "output_type": "execute_result"
    }
   ],
   "source": [
    "smooth_report.print_df['ens']"
   ]
  },
  {
   "cell_type": "markdown",
   "id": "ad49a3e0",
   "metadata": {},
   "source": [
    "## Compare ens performance on 4 features & with threshold"
   ]
  },
  {
   "cell_type": "code",
   "execution_count": null,
   "id": "ddc6a53b",
   "metadata": {},
   "outputs": [],
   "source": []
  },
  {
   "cell_type": "markdown",
   "id": "ffdbab79",
   "metadata": {},
   "source": [
    "# Fix threshold of CRF and BERT and then train ens on labels"
   ]
  },
  {
   "cell_type": "markdown",
   "id": "3582e4cd",
   "metadata": {},
   "source": [
    "## Fix threshold of CRF"
   ]
  },
  {
   "cell_type": "code",
   "execution_count": 52,
   "id": "bb340acc",
   "metadata": {},
   "outputs": [
    {
     "name": "stdout",
     "output_type": "stream",
     "text": [
      "MyScoreSummarizer init called\n",
      "MyPredFixer init called\n",
      "WindowDiff init called\n",
      "crf\n",
      "Total pos 7990 crf before using threshold 0.34\n",
      "Total pos 10929 crf after  using threshold 0.34\n",
      "crf\n",
      "MyReport init called\n"
     ]
    },
    {
     "data": {
      "text/html": [
       "<div>\n",
       "<style scoped>\n",
       "    .dataframe tbody tr th:only-of-type {\n",
       "        vertical-align: middle;\n",
       "    }\n",
       "\n",
       "    .dataframe tbody tr th {\n",
       "        vertical-align: top;\n",
       "    }\n",
       "\n",
       "    .dataframe thead th {\n",
       "        text-align: right;\n",
       "    }\n",
       "</style>\n",
       "<table border=\"1\" class=\"dataframe\">\n",
       "  <thead>\n",
       "    <tr style=\"text-align: right;\">\n",
       "      <th></th>\n",
       "      <th>sent_f1</th>\n",
       "      <th>fixed_f1</th>\n",
       "      <th>sent_recall</th>\n",
       "      <th>fixed_recall</th>\n",
       "      <th>sent_prec</th>\n",
       "      <th>fixed_prec</th>\n",
       "    </tr>\n",
       "  </thead>\n",
       "  <tbody>\n",
       "    <tr>\n",
       "      <th>0</th>\n",
       "      <td>0.863</td>\n",
       "      <td>0.848</td>\n",
       "      <td>0.895</td>\n",
       "      <td>0.838</td>\n",
       "      <td>0.834</td>\n",
       "      <td>0.860</td>\n",
       "    </tr>\n",
       "    <tr>\n",
       "      <th>1</th>\n",
       "      <td>0.511</td>\n",
       "      <td>0.564</td>\n",
       "      <td>0.454</td>\n",
       "      <td>0.581</td>\n",
       "      <td>0.611</td>\n",
       "      <td>0.559</td>\n",
       "    </tr>\n",
       "    <tr>\n",
       "      <th>weighted avg</th>\n",
       "      <td>0.782</td>\n",
       "      <td>0.783</td>\n",
       "      <td>0.793</td>\n",
       "      <td>0.782</td>\n",
       "      <td>0.783</td>\n",
       "      <td>0.789</td>\n",
       "    </tr>\n",
       "  </tbody>\n",
       "</table>\n",
       "</div>"
      ],
      "text/plain": [
       "              sent_f1  fixed_f1  sent_recall  fixed_recall  sent_prec  \\\n",
       "0               0.863     0.848        0.895         0.838      0.834   \n",
       "1               0.511     0.564        0.454         0.581      0.611   \n",
       "weighted avg    0.782     0.783        0.793         0.782      0.783   \n",
       "\n",
       "              fixed_prec  \n",
       "0                  0.860  \n",
       "1                  0.559  \n",
       "weighted avg       0.789  "
      ]
     },
     "metadata": {},
     "output_type": "display_data"
    }
   ],
   "source": [
    "imp.reload(classes)\n",
    "model='crf'\n",
    "crf_report=classes.MyScoreSummarizer(pred_df=all_pred_crf01,fix_list=['threshold_0.34'],prefixes=[model])\n",
    "crf_report.get_all_scores(unit='split')\n",
    "with pd.option_context('display.float_format', '{:0.3f}'.format):\n",
    "    display(crf_report.print_df[model])"
   ]
  },
  {
   "cell_type": "code",
   "execution_count": 59,
   "id": "b3f2430a",
   "metadata": {},
   "outputs": [
    {
     "name": "stdout",
     "output_type": "stream",
     "text": [
      "Saving /scratch/sim_reg9/users/zsofya/classroom/MSc/personal_study/thesis/dataframes/duplicate/crf.report.as.is.threshold=0.34.csv, \n",
      "index False\n",
      "float_format %.5f\n"
     ]
    }
   ],
   "source": [
    "common_utils.save_db(crf_report.print_df['crf'],dir_name,'crf.report.as.is.threshold=0.34')"
   ]
  },
  {
   "cell_type": "markdown",
   "id": "eb6ea4d6",
   "metadata": {},
   "source": [
    "## Fix threshold of BERT"
   ]
  },
  {
   "cell_type": "code",
   "execution_count": 54,
   "id": "2987be82",
   "metadata": {},
   "outputs": [
    {
     "name": "stdout",
     "output_type": "stream",
     "text": [
      "MyScoreSummarizer init called\n",
      "MyPredFixer init called\n",
      "WindowDiff init called\n",
      "bert\n",
      "Total pos 10796 bert before using threshold 0.45\n",
      "Total pos 12366 bert after  using threshold 0.45\n",
      "bert\n",
      "MyReport init called\n"
     ]
    },
    {
     "data": {
      "text/html": [
       "<div>\n",
       "<style scoped>\n",
       "    .dataframe tbody tr th:only-of-type {\n",
       "        vertical-align: middle;\n",
       "    }\n",
       "\n",
       "    .dataframe tbody tr th {\n",
       "        vertical-align: top;\n",
       "    }\n",
       "\n",
       "    .dataframe thead th {\n",
       "        text-align: right;\n",
       "    }\n",
       "</style>\n",
       "<table border=\"1\" class=\"dataframe\">\n",
       "  <thead>\n",
       "    <tr style=\"text-align: right;\">\n",
       "      <th></th>\n",
       "      <th>sent_f1</th>\n",
       "      <th>fixed_f1</th>\n",
       "      <th>sent_recall</th>\n",
       "      <th>fixed_recall</th>\n",
       "      <th>sent_prec</th>\n",
       "      <th>fixed_prec</th>\n",
       "    </tr>\n",
       "  </thead>\n",
       "  <tbody>\n",
       "    <tr>\n",
       "      <th>0</th>\n",
       "      <td>0.829</td>\n",
       "      <td>0.811</td>\n",
       "      <td>0.818</td>\n",
       "      <td>0.778</td>\n",
       "      <td>0.841</td>\n",
       "      <td>0.847</td>\n",
       "    </tr>\n",
       "    <tr>\n",
       "      <th>1</th>\n",
       "      <td>0.517</td>\n",
       "      <td>0.518</td>\n",
       "      <td>0.539</td>\n",
       "      <td>0.584</td>\n",
       "      <td>0.500</td>\n",
       "      <td>0.469</td>\n",
       "    </tr>\n",
       "    <tr>\n",
       "      <th>weighted avg</th>\n",
       "      <td>0.756</td>\n",
       "      <td>0.743</td>\n",
       "      <td>0.753</td>\n",
       "      <td>0.734</td>\n",
       "      <td>0.761</td>\n",
       "      <td>0.758</td>\n",
       "    </tr>\n",
       "  </tbody>\n",
       "</table>\n",
       "</div>"
      ],
      "text/plain": [
       "              sent_f1  fixed_f1  sent_recall  fixed_recall  sent_prec  \\\n",
       "0               0.829     0.811        0.818         0.778      0.841   \n",
       "1               0.517     0.518        0.539         0.584      0.500   \n",
       "weighted avg    0.756     0.743        0.753         0.734      0.761   \n",
       "\n",
       "              fixed_prec  \n",
       "0                  0.847  \n",
       "1                  0.469  \n",
       "weighted avg       0.758  "
      ]
     },
     "metadata": {},
     "output_type": "display_data"
    }
   ],
   "source": [
    "imp.reload(classes)\n",
    "model='bert'\n",
    "bert_report=classes.MyScoreSummarizer(pred_df=all_pred_crf01,fix_list=['threshold_0.45'],prefixes=[model])\n",
    "bert_report.get_all_scores(unit='split')\n",
    "with pd.option_context('display.float_format', '{:0.3f}'.format):\n",
    "    display(bert_report.print_df[model])"
   ]
  },
  {
   "cell_type": "code",
   "execution_count": 60,
   "id": "3be7f6d5",
   "metadata": {},
   "outputs": [
    {
     "name": "stdout",
     "output_type": "stream",
     "text": [
      "Saving /scratch/sim_reg9/users/zsofya/classroom/MSc/personal_study/thesis/dataframes/duplicate/bert.report.as.is.threshold=0.45.csv, \n",
      "index False\n",
      "float_format %.5f\n"
     ]
    }
   ],
   "source": [
    "common_utils.save_db(bert_report.print_df['bert'],dir_name,'bert.report.as.is.threshold=0.45')"
   ]
  },
  {
   "cell_type": "markdown",
   "id": "698cd885",
   "metadata": {},
   "source": [
    "## Combine BERT and CRF predictions fixed by threshold"
   ]
  },
  {
   "cell_type": "code",
   "execution_count": 55,
   "id": "e02d1a57",
   "metadata": {},
   "outputs": [
    {
     "data": {
      "text/plain": [
       "crf_predicted     10929\n",
       "bert_predicted    12366\n",
       "dtype: int64"
      ]
     },
     "execution_count": 55,
     "metadata": {},
     "output_type": "execute_result"
    }
   ],
   "source": [
    "fixed_th_df=all_pred_crf01.copy()\n",
    "fixed_th_df['crf_predicted']=crf_report.fixed_df['crf_predicted']\n",
    "fixed_th_df['bert_predicted']=bert_report.fixed_df['bert_predicted']\n",
    "fixed_th_df[['crf_predicted','bert_predicted']].sum()"
   ]
  },
  {
   "cell_type": "markdown",
   "id": "d384c767",
   "metadata": {},
   "source": [
    "## Train ensembled on 0,1 labels of CRF and BERT"
   ]
  },
  {
   "cell_type": "code",
   "execution_count": 56,
   "id": "3ca3edcf",
   "metadata": {
    "scrolled": true
   },
   "outputs": [
    {
     "name": "stdout",
     "output_type": "stream",
     "text": [
      "LogisticRegression\n",
      "0 split started...\n",
      "1 split started...\n",
      "2 split started...\n",
      "3 split started...\n",
      "4 split started...\n",
      "5 split started...\n",
      "6 split started...\n",
      "7 split started...\n",
      "LogisticRegressionCV\n",
      "0 split started...\n",
      "1 split started...\n",
      "2 split started...\n",
      "3 split started...\n",
      "4 split started...\n",
      "5 split started...\n",
      "6 split started...\n",
      "7 split started...\n",
      "PassiveAggressiveClassifier\n",
      "0 split started...\n",
      "Cant't get probability for PassiveAggressiveClassifier\n",
      "1 split started...\n",
      "Cant't get probability for PassiveAggressiveClassifier\n",
      "2 split started...\n",
      "Cant't get probability for PassiveAggressiveClassifier\n",
      "3 split started...\n",
      "Cant't get probability for PassiveAggressiveClassifier\n",
      "4 split started...\n",
      "Cant't get probability for PassiveAggressiveClassifier\n",
      "5 split started...\n",
      "Cant't get probability for PassiveAggressiveClassifier\n",
      "6 split started...\n",
      "Cant't get probability for PassiveAggressiveClassifier\n",
      "7 split started...\n",
      "Cant't get probability for PassiveAggressiveClassifier\n",
      "Perceptron\n",
      "0 split started...\n",
      "Cant't get probability for Perceptron\n",
      "1 split started...\n",
      "Cant't get probability for Perceptron\n",
      "2 split started...\n",
      "Cant't get probability for Perceptron\n",
      "3 split started...\n",
      "Cant't get probability for Perceptron\n",
      "4 split started...\n",
      "Cant't get probability for Perceptron\n",
      "5 split started...\n",
      "Cant't get probability for Perceptron\n",
      "6 split started...\n",
      "Cant't get probability for Perceptron\n",
      "7 split started...\n",
      "Cant't get probability for Perceptron\n",
      "RidgeClassifier\n",
      "0 split started...\n",
      "Cant't get probability for RidgeClassifier\n",
      "1 split started...\n",
      "Cant't get probability for RidgeClassifier\n",
      "2 split started...\n",
      "Cant't get probability for RidgeClassifier\n",
      "3 split started...\n",
      "Cant't get probability for RidgeClassifier\n",
      "4 split started...\n",
      "Cant't get probability for RidgeClassifier\n",
      "5 split started...\n",
      "Cant't get probability for RidgeClassifier\n",
      "6 split started...\n",
      "Cant't get probability for RidgeClassifier\n",
      "7 split started...\n",
      "Cant't get probability for RidgeClassifier\n",
      "SGDClassifier\n",
      "0 split started...\n",
      "Cant't get probability for SGDClassifier\n",
      "1 split started...\n",
      "Cant't get probability for SGDClassifier\n",
      "2 split started...\n",
      "Cant't get probability for SGDClassifier\n",
      "3 split started...\n",
      "Cant't get probability for SGDClassifier\n",
      "4 split started...\n",
      "Cant't get probability for SGDClassifier\n",
      "5 split started...\n",
      "Cant't get probability for SGDClassifier\n",
      "6 split started...\n",
      "Cant't get probability for SGDClassifier\n",
      "7 split started...\n",
      "Cant't get probability for SGDClassifier\n",
      "SVC\n",
      "0 split started...\n",
      "1 split started...\n",
      "2 split started...\n",
      "3 split started...\n",
      "4 split started...\n",
      "5 split started...\n",
      "6 split started...\n",
      "7 split started...\n",
      "DecisionTreeClassifier\n",
      "0 split started...\n",
      "1 split started...\n",
      "2 split started...\n",
      "3 split started...\n",
      "4 split started...\n",
      "5 split started...\n",
      "6 split started...\n",
      "7 split started...\n"
     ]
    }
   ],
   "source": [
    "estimators_pred_on_labels={}\n",
    "imp.reload(feature_utils)\n",
    "imp.reload(model_utils)\n",
    "\n",
    "for regr in feature_utils.regressors_type:\n",
    "    regr_name=regr.__class__.__name__\n",
    "    print(regr_name)\n",
    "    estimators_pred_on_labels[regr_name]=model_utils.prepared_cross_validate_ensemble(\n",
    "        estimator=regr, \n",
    "        prediction_db_=fixed_th_df, \n",
    "        cv_splits=cv_splits_loaded,\n",
    "        cols = [ 'crf_predicted', 'bert_predicted'])"
   ]
  },
  {
   "cell_type": "code",
   "execution_count": 63,
   "id": "38573176",
   "metadata": {},
   "outputs": [],
   "source": [
    "# imp.reload(model_utils)\n",
    "# crf_params={'seq_len':15,'seq_step':15}\n",
    "# single_proba_estimators_pred['crf']=model_utils.prepared_cross_validate_ensemble(\n",
    "#     estimator=CRF(), \n",
    "#     prediction_db_=fixed_th_df, \n",
    "#     cv_splits=cv_splits_loaded,\n",
    "#     cols = [ 'crf_predicted', 'bert_predicted'],\n",
    "#     **crf_params)"
   ]
  },
  {
   "cell_type": "code",
   "execution_count": 62,
   "id": "ca1bd93b",
   "metadata": {},
   "outputs": [],
   "source": [
    "estimators_pred_on_labels['crf']=single_proba_estimators_pred['crf']"
   ]
  },
  {
   "cell_type": "markdown",
   "id": "f2eab0ae",
   "metadata": {},
   "source": [
    "## Compare performance of different ensembles on 0,1 labels"
   ]
  },
  {
   "cell_type": "code",
   "execution_count": 157,
   "id": "11684c19",
   "metadata": {},
   "outputs": [
    {
     "data": {
      "text/plain": [
       "{'LogisticRegression': <classes.MyScoreSummarizer at 0x2b097f5f11f0>,\n",
       " 'LogisticRegressionCV': <classes.MyScoreSummarizer at 0x2b0980130370>,\n",
       " 'PassiveAggressiveClassifier': <classes.MyScoreSummarizer at 0x2b097f5f15e0>,\n",
       " 'Perceptron': <classes.MyScoreSummarizer at 0x2b097a9fa490>,\n",
       " 'RidgeClassifier': <classes.MyScoreSummarizer at 0x2b097f556af0>,\n",
       " 'SGDClassifier': <classes.MyScoreSummarizer at 0x2b097f3d9ca0>,\n",
       " 'SVC': <classes.MyScoreSummarizer at 0x2b0980610250>,\n",
       " 'DecisionTreeClassifier': <classes.MyScoreSummarizer at 0x2b097fd93490>,\n",
       " 'crf': <classes.MyScoreSummarizer at 0x2b097aa76fd0>}"
      ]
     },
     "execution_count": 157,
     "metadata": {},
     "output_type": "execute_result"
    }
   ],
   "source": [
    "labels_report"
   ]
  },
  {
   "cell_type": "code",
   "execution_count": 159,
   "id": "f98d1601",
   "metadata": {
    "scrolled": true
   },
   "outputs": [
    {
     "name": "stdout",
     "output_type": "stream",
     "text": [
      "MyScoreSummarizer init called\n",
      "MyReport init called\n",
      "Saving /scratch/sim_reg9/users/zsofya/classroom/MSc/personal_study/thesis/dataframes/duplicate/ens.LogisticRegression.pred.single.proba.threshold.csv, \n",
      "index False\n",
      "float_format %.5f\n",
      "Saving /scratch/sim_reg9/users/zsofya/classroom/MSc/personal_study/thesis/dataframes/duplicate/ens.LogisticRegression.report.single.proba.as.is.csv, \n",
      "index False\n",
      "float_format %.5f\n",
      "MyScoreSummarizer init called\n",
      "MyReport init called\n",
      "Saving /scratch/sim_reg9/users/zsofya/classroom/MSc/personal_study/thesis/dataframes/duplicate/ens.LogisticRegressionCV.pred.single.proba.threshold.csv, \n",
      "index False\n",
      "float_format %.5f\n",
      "Saving /scratch/sim_reg9/users/zsofya/classroom/MSc/personal_study/thesis/dataframes/duplicate/ens.LogisticRegressionCV.report.single.proba.as.is.csv, \n",
      "index False\n",
      "float_format %.5f\n",
      "MyScoreSummarizer init called\n",
      "label {1} is  missing in predicted for split 0, true is {0, 1}, pred is {0}\n",
      "label {1} is  missing in predicted for split 4, true is {0, 1}, pred is {0}\n",
      "MyReport init called\n",
      "Saving /scratch/sim_reg9/users/zsofya/classroom/MSc/personal_study/thesis/dataframes/duplicate/ens.PassiveAggressiveClassifier.pred.single.proba.threshold.csv, \n",
      "index False\n",
      "float_format %.5f\n",
      "Saving /scratch/sim_reg9/users/zsofya/classroom/MSc/personal_study/thesis/dataframes/duplicate/ens.PassiveAggressiveClassifier.report.single.proba.as.is.csv, \n",
      "index False\n",
      "float_format %.5f\n",
      "MyScoreSummarizer init called\n",
      "label {1} is  missing in predicted for split 0, true is {0, 1}, pred is {0}\n"
     ]
    },
    {
     "name": "stderr",
     "output_type": "stream",
     "text": [
      "/home/zsofya/jupyter_git/jup-nb-generic/lib/python3.8/site-packages/sklearn/metrics/_classification.py:1327: UndefinedMetricWarning: Precision and F-score are ill-defined and being set to 0.0 in labels with no predicted samples. Use `zero_division` parameter to control this behavior.\n",
      "  _warn_prf(average, modifier, msg_start, len(result))\n",
      "/home/zsofya/jupyter_git/jup-nb-generic/lib/python3.8/site-packages/sklearn/metrics/_classification.py:1327: UndefinedMetricWarning: Precision and F-score are ill-defined and being set to 0.0 in labels with no predicted samples. Use `zero_division` parameter to control this behavior.\n",
      "  _warn_prf(average, modifier, msg_start, len(result))\n",
      "/home/zsofya/jupyter_git/jup-nb-generic/lib/python3.8/site-packages/sklearn/metrics/_classification.py:1327: UndefinedMetricWarning: Precision and F-score are ill-defined and being set to 0.0 in labels with no predicted samples. Use `zero_division` parameter to control this behavior.\n",
      "  _warn_prf(average, modifier, msg_start, len(result))\n",
      "/home/zsofya/jupyter_git/jup-nb-generic/lib/python3.8/site-packages/sklearn/metrics/_classification.py:1327: UndefinedMetricWarning: Precision and F-score are ill-defined and being set to 0.0 in labels with no predicted samples. Use `zero_division` parameter to control this behavior.\n",
      "  _warn_prf(average, modifier, msg_start, len(result))\n",
      "/home/zsofya/jupyter_git/jup-nb-generic/lib/python3.8/site-packages/sklearn/metrics/_classification.py:1327: UndefinedMetricWarning: Precision and F-score are ill-defined and being set to 0.0 in labels with no predicted samples. Use `zero_division` parameter to control this behavior.\n",
      "  _warn_prf(average, modifier, msg_start, len(result))\n",
      "/home/zsofya/jupyter_git/jup-nb-generic/lib/python3.8/site-packages/sklearn/metrics/_classification.py:1327: UndefinedMetricWarning: Precision and F-score are ill-defined and being set to 0.0 in labels with no predicted samples. Use `zero_division` parameter to control this behavior.\n",
      "  _warn_prf(average, modifier, msg_start, len(result))\n",
      "/home/zsofya/jupyter_git/jup-nb-generic/lib/python3.8/site-packages/sklearn/metrics/_classification.py:1327: UndefinedMetricWarning: Precision and F-score are ill-defined and being set to 0.0 in labels with no predicted samples. Use `zero_division` parameter to control this behavior.\n",
      "  _warn_prf(average, modifier, msg_start, len(result))\n",
      "/home/zsofya/jupyter_git/jup-nb-generic/lib/python3.8/site-packages/sklearn/metrics/_classification.py:1327: UndefinedMetricWarning: Precision and F-score are ill-defined and being set to 0.0 in labels with no predicted samples. Use `zero_division` parameter to control this behavior.\n",
      "  _warn_prf(average, modifier, msg_start, len(result))\n",
      "/home/zsofya/jupyter_git/jup-nb-generic/lib/python3.8/site-packages/sklearn/metrics/_classification.py:1327: UndefinedMetricWarning: Precision and F-score are ill-defined and being set to 0.0 in labels with no predicted samples. Use `zero_division` parameter to control this behavior.\n",
      "  _warn_prf(average, modifier, msg_start, len(result))\n"
     ]
    },
    {
     "name": "stdout",
     "output_type": "stream",
     "text": [
      "label {1} is  missing in predicted for split 4, true is {0, 1}, pred is {0}\n",
      "label {1} is  missing in predicted for split 7, true is {0, 1}, pred is {0}\n",
      "MyReport init called\n",
      "Saving /scratch/sim_reg9/users/zsofya/classroom/MSc/personal_study/thesis/dataframes/duplicate/ens.Perceptron.pred.single.proba.threshold.csv, \n",
      "index False\n",
      "float_format %.5f\n",
      "Saving /scratch/sim_reg9/users/zsofya/classroom/MSc/personal_study/thesis/dataframes/duplicate/ens.Perceptron.report.single.proba.as.is.csv, \n",
      "index False\n",
      "float_format %.5f\n",
      "MyScoreSummarizer init called\n"
     ]
    },
    {
     "name": "stderr",
     "output_type": "stream",
     "text": [
      "/home/zsofya/jupyter_git/jup-nb-generic/lib/python3.8/site-packages/sklearn/metrics/_classification.py:1327: UndefinedMetricWarning: Precision and F-score are ill-defined and being set to 0.0 in labels with no predicted samples. Use `zero_division` parameter to control this behavior.\n",
      "  _warn_prf(average, modifier, msg_start, len(result))\n",
      "/home/zsofya/jupyter_git/jup-nb-generic/lib/python3.8/site-packages/sklearn/metrics/_classification.py:1327: UndefinedMetricWarning: Precision and F-score are ill-defined and being set to 0.0 in labels with no predicted samples. Use `zero_division` parameter to control this behavior.\n",
      "  _warn_prf(average, modifier, msg_start, len(result))\n",
      "/home/zsofya/jupyter_git/jup-nb-generic/lib/python3.8/site-packages/sklearn/metrics/_classification.py:1327: UndefinedMetricWarning: Precision and F-score are ill-defined and being set to 0.0 in labels with no predicted samples. Use `zero_division` parameter to control this behavior.\n",
      "  _warn_prf(average, modifier, msg_start, len(result))\n",
      "/home/zsofya/jupyter_git/jup-nb-generic/lib/python3.8/site-packages/sklearn/metrics/_classification.py:1327: UndefinedMetricWarning: Precision and F-score are ill-defined and being set to 0.0 in labels with no predicted samples. Use `zero_division` parameter to control this behavior.\n",
      "  _warn_prf(average, modifier, msg_start, len(result))\n",
      "/home/zsofya/jupyter_git/jup-nb-generic/lib/python3.8/site-packages/sklearn/metrics/_classification.py:1327: UndefinedMetricWarning: Precision and F-score are ill-defined and being set to 0.0 in labels with no predicted samples. Use `zero_division` parameter to control this behavior.\n",
      "  _warn_prf(average, modifier, msg_start, len(result))\n",
      "/home/zsofya/jupyter_git/jup-nb-generic/lib/python3.8/site-packages/sklearn/metrics/_classification.py:1327: UndefinedMetricWarning: Precision and F-score are ill-defined and being set to 0.0 in labels with no predicted samples. Use `zero_division` parameter to control this behavior.\n",
      "  _warn_prf(average, modifier, msg_start, len(result))\n"
     ]
    },
    {
     "name": "stdout",
     "output_type": "stream",
     "text": [
      "MyReport init called\n",
      "Saving /scratch/sim_reg9/users/zsofya/classroom/MSc/personal_study/thesis/dataframes/duplicate/ens.RidgeClassifier.pred.single.proba.threshold.csv, \n",
      "index False\n",
      "float_format %.5f\n",
      "Saving /scratch/sim_reg9/users/zsofya/classroom/MSc/personal_study/thesis/dataframes/duplicate/ens.RidgeClassifier.report.single.proba.as.is.csv, \n",
      "index False\n",
      "float_format %.5f\n",
      "MyScoreSummarizer init called\n",
      "MyReport init called\n",
      "Saving /scratch/sim_reg9/users/zsofya/classroom/MSc/personal_study/thesis/dataframes/duplicate/ens.SGDClassifier.pred.single.proba.threshold.csv, \n",
      "index False\n",
      "float_format %.5f\n",
      "Saving /scratch/sim_reg9/users/zsofya/classroom/MSc/personal_study/thesis/dataframes/duplicate/ens.SGDClassifier.report.single.proba.as.is.csv, \n",
      "index False\n",
      "float_format %.5f\n",
      "MyScoreSummarizer init called\n",
      "MyReport init called\n",
      "Saving /scratch/sim_reg9/users/zsofya/classroom/MSc/personal_study/thesis/dataframes/duplicate/ens.SVC.pred.single.proba.threshold.csv, \n",
      "index False\n",
      "float_format %.5f\n",
      "Saving /scratch/sim_reg9/users/zsofya/classroom/MSc/personal_study/thesis/dataframes/duplicate/ens.SVC.report.single.proba.as.is.csv, \n",
      "index False\n",
      "float_format %.5f\n",
      "MyScoreSummarizer init called\n",
      "MyReport init called\n",
      "Saving /scratch/sim_reg9/users/zsofya/classroom/MSc/personal_study/thesis/dataframes/duplicate/ens.DecisionTreeClassifier.pred.single.proba.threshold.csv, \n",
      "index False\n",
      "float_format %.5f\n",
      "Saving /scratch/sim_reg9/users/zsofya/classroom/MSc/personal_study/thesis/dataframes/duplicate/ens.DecisionTreeClassifier.report.single.proba.as.is.csv, \n",
      "index False\n",
      "float_format %.5f\n",
      "MyScoreSummarizer init called\n",
      "MyReport init called\n",
      "Saving /scratch/sim_reg9/users/zsofya/classroom/MSc/personal_study/thesis/dataframes/duplicate/ens.crf.pred.single.proba.threshold.csv, \n",
      "index False\n",
      "float_format %.5f\n",
      "Saving /scratch/sim_reg9/users/zsofya/classroom/MSc/personal_study/thesis/dataframes/duplicate/ens.crf.report.single.proba.as.is.csv, \n",
      "index False\n",
      "float_format %.5f\n"
     ]
    }
   ],
   "source": [
    "labels_report={}\n",
    "file_name='as.is'\n",
    "for k,v in estimators_pred_on_labels.items():\n",
    "    name=k\n",
    "    labels_report[k]=classes.MyScoreSummarizer(pred_df=v,fix_list=[],prefixes=['ens'])\n",
    "    labels_report[name].get_all_scores('split')\n",
    "    labels_report[name].print_df['ens'].index.name='label'\n",
    "    common_utils.save_db(v,dir_name,'ens.{}.pred.single.proba.{}'.format(name,file_prefix))\n",
    "    common_utils.save_db(labels_report[name].print_df['ens'],dir_name,'ens.{}.report.single.proba.{}'.format(name,file_name))"
   ]
  },
  {
   "cell_type": "code",
   "execution_count": 67,
   "id": "39b7a005",
   "metadata": {},
   "outputs": [
    {
     "name": "stdout",
     "output_type": "stream",
     "text": [
      "LogisticRegression\n",
      "LogisticRegressionCV\n",
      "PassiveAggressiveClassifier\n",
      "Perceptron\n",
      "RidgeClassifier\n",
      "SGDClassifier\n",
      "SVC\n",
      "DecisionTreeClassifier\n",
      "crf\n"
     ]
    }
   ],
   "source": [
    "compare_scores=pd.DataFrame()\n",
    "for k,v in labels_report.items():\n",
    "    print(k)\n",
    "    idx=v.print_df['ens'].index.tolist()\n",
    "    compare_scores.loc[k,'common_f1']=v.print_df['ens'].loc['weighted avg','sent_f1']\n",
    "    compare_scores.loc[k,'nar_recall']=v.print_df['ens'].loc[idx[1],'sent_recall']\n",
    "    compare_scores.loc[k,'nar_prec']=v.print_df['ens'].loc[idx[1],'sent_prec']\n",
    "compare_scores.sort_values(by='common_f1',ascending=False,inplace=True)"
   ]
  },
  {
   "cell_type": "code",
   "execution_count": 68,
   "id": "b593b29e",
   "metadata": {},
   "outputs": [
    {
     "data": {
      "text/html": [
       "<div>\n",
       "<style scoped>\n",
       "    .dataframe tbody tr th:only-of-type {\n",
       "        vertical-align: middle;\n",
       "    }\n",
       "\n",
       "    .dataframe tbody tr th {\n",
       "        vertical-align: top;\n",
       "    }\n",
       "\n",
       "    .dataframe thead th {\n",
       "        text-align: right;\n",
       "    }\n",
       "</style>\n",
       "<table border=\"1\" class=\"dataframe\">\n",
       "  <thead>\n",
       "    <tr style=\"text-align: right;\">\n",
       "      <th></th>\n",
       "      <th>common_f1</th>\n",
       "      <th>nar_recall</th>\n",
       "      <th>nar_prec</th>\n",
       "    </tr>\n",
       "  </thead>\n",
       "  <tbody>\n",
       "    <tr>\n",
       "      <th>crf</th>\n",
       "      <td>0.790320</td>\n",
       "      <td>0.464777</td>\n",
       "      <td>0.650613</td>\n",
       "    </tr>\n",
       "    <tr>\n",
       "      <th>SGDClassifier</th>\n",
       "      <td>0.783223</td>\n",
       "      <td>0.580609</td>\n",
       "      <td>0.558813</td>\n",
       "    </tr>\n",
       "    <tr>\n",
       "      <th>LogisticRegression</th>\n",
       "      <td>0.782045</td>\n",
       "      <td>0.403579</td>\n",
       "      <td>0.654659</td>\n",
       "    </tr>\n",
       "    <tr>\n",
       "      <th>LogisticRegressionCV</th>\n",
       "      <td>0.782045</td>\n",
       "      <td>0.403579</td>\n",
       "      <td>0.654659</td>\n",
       "    </tr>\n",
       "    <tr>\n",
       "      <th>RidgeClassifier</th>\n",
       "      <td>0.782045</td>\n",
       "      <td>0.403579</td>\n",
       "      <td>0.654659</td>\n",
       "    </tr>\n",
       "    <tr>\n",
       "      <th>SVC</th>\n",
       "      <td>0.782045</td>\n",
       "      <td>0.403579</td>\n",
       "      <td>0.654659</td>\n",
       "    </tr>\n",
       "    <tr>\n",
       "      <th>DecisionTreeClassifier</th>\n",
       "      <td>0.782045</td>\n",
       "      <td>0.403579</td>\n",
       "      <td>0.654659</td>\n",
       "    </tr>\n",
       "    <tr>\n",
       "      <th>PassiveAggressiveClassifier</th>\n",
       "      <td>0.755500</td>\n",
       "      <td>0.409488</td>\n",
       "      <td>0.446995</td>\n",
       "    </tr>\n",
       "    <tr>\n",
       "      <th>Perceptron</th>\n",
       "      <td>0.735724</td>\n",
       "      <td>0.356303</td>\n",
       "      <td>0.361084</td>\n",
       "    </tr>\n",
       "  </tbody>\n",
       "</table>\n",
       "</div>"
      ],
      "text/plain": [
       "                             common_f1  nar_recall  nar_prec\n",
       "crf                           0.790320    0.464777  0.650613\n",
       "SGDClassifier                 0.783223    0.580609  0.558813\n",
       "LogisticRegression            0.782045    0.403579  0.654659\n",
       "LogisticRegressionCV          0.782045    0.403579  0.654659\n",
       "RidgeClassifier               0.782045    0.403579  0.654659\n",
       "SVC                           0.782045    0.403579  0.654659\n",
       "DecisionTreeClassifier        0.782045    0.403579  0.654659\n",
       "PassiveAggressiveClassifier   0.755500    0.409488  0.446995\n",
       "Perceptron                    0.735724    0.356303  0.361084"
      ]
     },
     "execution_count": 68,
     "metadata": {},
     "output_type": "execute_result"
    }
   ],
   "source": [
    "compare_scores"
   ]
  },
  {
   "cell_type": "markdown",
   "id": "fc6593d4",
   "metadata": {},
   "source": [
    "## Fix prediction on ens trained on 0,1"
   ]
  },
  {
   "cell_type": "code",
   "execution_count": 162,
   "id": "9c07939e",
   "metadata": {},
   "outputs": [
    {
     "name": "stdout",
     "output_type": "stream",
     "text": [
      "Opened /scratch/sim_reg9/users/zsofya/classroom/MSc/personal_study/thesis/dataframes/duplicate/ens.crf.pred.single.proba.threshold.csv,  index False\n"
     ]
    },
    {
     "data": {
      "text/html": [
       "<div>\n",
       "<style scoped>\n",
       "    .dataframe tbody tr th:only-of-type {\n",
       "        vertical-align: middle;\n",
       "    }\n",
       "\n",
       "    .dataframe tbody tr th {\n",
       "        vertical-align: top;\n",
       "    }\n",
       "\n",
       "    .dataframe thead th {\n",
       "        text-align: right;\n",
       "    }\n",
       "</style>\n",
       "<table border=\"1\" class=\"dataframe\">\n",
       "  <thead>\n",
       "    <tr style=\"text-align: right;\">\n",
       "      <th></th>\n",
       "      <th>sent_f1</th>\n",
       "      <th>sent_recall</th>\n",
       "      <th>sent_prec</th>\n",
       "    </tr>\n",
       "    <tr>\n",
       "      <th>label</th>\n",
       "      <th></th>\n",
       "      <th></th>\n",
       "      <th></th>\n",
       "    </tr>\n",
       "  </thead>\n",
       "  <tbody>\n",
       "    <tr>\n",
       "      <th>not_nar</th>\n",
       "      <td>0.869007</td>\n",
       "      <td>0.903593</td>\n",
       "      <td>0.838229</td>\n",
       "    </tr>\n",
       "    <tr>\n",
       "      <th>is_nar</th>\n",
       "      <td>0.530349</td>\n",
       "      <td>0.464777</td>\n",
       "      <td>0.650613</td>\n",
       "    </tr>\n",
       "    <tr>\n",
       "      <th>weighted avg</th>\n",
       "      <td>0.790320</td>\n",
       "      <td>0.801808</td>\n",
       "      <td>0.792852</td>\n",
       "    </tr>\n",
       "  </tbody>\n",
       "</table>\n",
       "</div>"
      ],
      "text/plain": [
       "               sent_f1  sent_recall  sent_prec\n",
       "label                                         \n",
       "not_nar       0.869007     0.903593   0.838229\n",
       "is_nar        0.530349     0.464777   0.650613\n",
       "weighted avg  0.790320     0.801808   0.792852"
      ]
     },
     "execution_count": 162,
     "metadata": {},
     "output_type": "execute_result"
    }
   ],
   "source": [
    "imp.reload(classes)\n",
    "labels_pred_crf_ens=common_utils.load_db(dir_name,'ens.crf.pred.single.proba.threshold')\n",
    "labels_report['crf'].print_df['ens']"
   ]
  },
  {
   "cell_type": "code",
   "execution_count": 166,
   "id": "29cb4ee5",
   "metadata": {},
   "outputs": [
    {
     "name": "stdout",
     "output_type": "stream",
     "text": [
      "MyScoreSummarizer init called\n",
      "MyPredFixer init called\n",
      "WindowDiff init called\n",
      "Total pos 7830 ens before using threshold 0.3\n",
      "Total pos 11901 ens after  using threshold 0.3\n",
      "near misses to be fixed\n",
      " {'tot': 38, 'fp': 20, 'fn': 18}\n",
      "28 middle misses to be fixed\n",
      "69 stande alone to be fixed\n",
      "ens\n",
      "MyReport init called\n"
     ]
    },
    {
     "data": {
      "text/html": [
       "<div>\n",
       "<style scoped>\n",
       "    .dataframe tbody tr th:only-of-type {\n",
       "        vertical-align: middle;\n",
       "    }\n",
       "\n",
       "    .dataframe tbody tr th {\n",
       "        vertical-align: top;\n",
       "    }\n",
       "\n",
       "    .dataframe thead th {\n",
       "        text-align: right;\n",
       "    }\n",
       "</style>\n",
       "<table border=\"1\" class=\"dataframe\">\n",
       "  <thead>\n",
       "    <tr style=\"text-align: right;\">\n",
       "      <th></th>\n",
       "      <th>sent_f1</th>\n",
       "      <th>fixed_f1</th>\n",
       "      <th>sent_recall</th>\n",
       "      <th>fixed_recall</th>\n",
       "      <th>sent_prec</th>\n",
       "      <th>fixed_prec</th>\n",
       "    </tr>\n",
       "  </thead>\n",
       "  <tbody>\n",
       "    <tr>\n",
       "      <th>0</th>\n",
       "      <td>0.869007</td>\n",
       "      <td>0.847553</td>\n",
       "      <td>0.903593</td>\n",
       "      <td>0.825768</td>\n",
       "      <td>0.838229</td>\n",
       "      <td>0.875544</td>\n",
       "    </tr>\n",
       "    <tr>\n",
       "      <th>1</th>\n",
       "      <td>0.530349</td>\n",
       "      <td>0.588254</td>\n",
       "      <td>0.464777</td>\n",
       "      <td>0.624398</td>\n",
       "      <td>0.650613</td>\n",
       "      <td>0.575175</td>\n",
       "    </tr>\n",
       "    <tr>\n",
       "      <th>weighted avg</th>\n",
       "      <td>0.790320</td>\n",
       "      <td>0.789054</td>\n",
       "      <td>0.801808</td>\n",
       "      <td>0.787128</td>\n",
       "      <td>0.792852</td>\n",
       "      <td>0.801131</td>\n",
       "    </tr>\n",
       "  </tbody>\n",
       "</table>\n",
       "</div>"
      ],
      "text/plain": [
       "               sent_f1  fixed_f1  sent_recall  fixed_recall  sent_prec  \\\n",
       "0             0.869007  0.847553     0.903593      0.825768   0.838229   \n",
       "1             0.530349  0.588254     0.464777      0.624398   0.650613   \n",
       "weighted avg  0.790320  0.789054     0.801808      0.787128   0.792852   \n",
       "\n",
       "              fixed_prec  \n",
       "0               0.875544  \n",
       "1               0.575175  \n",
       "weighted avg    0.801131  "
      ]
     },
     "execution_count": 166,
     "metadata": {},
     "output_type": "execute_result"
    }
   ],
   "source": [
    "imp.reload(classes)\n",
    "crf_ens_fix=classes.MyScoreSummarizer(\n",
    "    pred_df=labels_pred_crf_ens,\n",
    "    fix_list=['threshold_0.30','near_miss','single_miss','single_sa'],\n",
    "    prefixes=['ens'])\n",
    "crf_ens_fix.get_all_scores()\n",
    "crf_ens_fix.print_df['ens']"
   ]
  },
  {
   "cell_type": "code",
   "execution_count": 168,
   "id": "db724beb",
   "metadata": {},
   "outputs": [
    {
     "name": "stdout",
     "output_type": "stream",
     "text": [
      "Saving /scratch/sim_reg9/users/zsofya/classroom/MSc/personal_study/thesis/dataframes/duplicate/ens.crf.fixed.report.single.proba.threshold.csv, \n",
      "index False\n",
      "float_format %.5f\n"
     ]
    }
   ],
   "source": [
    "common_utils.save_db(crf_ens_fix.print_df['ens'],dir_name,'ens.crf.fixed.report.single.proba.threshold')"
   ]
  },
  {
   "cell_type": "markdown",
   "id": "d4769ae7",
   "metadata": {},
   "source": [
    "## Run ensemble only on 2 features"
   ]
  },
  {
   "cell_type": "code",
   "execution_count": 122,
   "id": "b70ae173",
   "metadata": {
    "scrolled": true
   },
   "outputs": [
    {
     "name": "stdout",
     "output_type": "stream",
     "text": [
      "LogisticRegression\n",
      "0 split started...\n",
      "1 split started...\n",
      "2 split started...\n",
      "3 split started...\n",
      "4 split started...\n",
      "5 split started...\n",
      "6 split started...\n",
      "7 split started...\n",
      "LogisticRegressionCV\n",
      "0 split started...\n",
      "1 split started...\n",
      "2 split started...\n",
      "3 split started...\n",
      "4 split started...\n",
      "5 split started...\n",
      "6 split started...\n",
      "7 split started...\n",
      "PassiveAggressiveClassifier\n",
      "0 split started...\n",
      "1 split started...\n",
      "2 split started...\n",
      "3 split started...\n",
      "4 split started...\n",
      "5 split started...\n",
      "6 split started...\n",
      "7 split started...\n",
      "Perceptron\n",
      "0 split started...\n",
      "1 split started...\n",
      "2 split started...\n",
      "3 split started...\n",
      "4 split started...\n",
      "5 split started...\n",
      "6 split started...\n",
      "7 split started...\n",
      "RidgeClassifier\n",
      "0 split started...\n",
      "1 split started...\n",
      "2 split started...\n",
      "3 split started...\n",
      "4 split started...\n",
      "5 split started...\n",
      "6 split started...\n",
      "7 split started...\n",
      "SGDClassifier\n",
      "0 split started...\n",
      "1 split started...\n",
      "2 split started...\n",
      "3 split started...\n",
      "4 split started...\n",
      "5 split started...\n",
      "6 split started...\n",
      "7 split started...\n",
      "SVC\n",
      "0 split started...\n",
      "1 split started...\n",
      "2 split started...\n",
      "3 split started...\n",
      "4 split started...\n",
      "5 split started...\n",
      "6 split started...\n",
      "7 split started...\n",
      "DecisionTreeClassifier\n",
      "0 split started...\n",
      "1 split started...\n",
      "2 split started...\n",
      "3 split started...\n",
      "4 split started...\n",
      "5 split started...\n",
      "6 split started...\n",
      "7 split started...\n"
     ]
    }
   ],
   "source": [
    "single_proba_estimators_pred={}\n",
    "imp.reload(feature_utils)\n",
    "imp.reload(model_utils)\n",
    "\n",
    "for regr in feature_utils.regressors_type:\n",
    "    regr_name=regr.__class__.__name__\n",
    "    print(regr_name)\n",
    "    single_proba_estimators_pred[regr_name]=model_utils.prepared_cross_validate_ensemble(\n",
    "        estimator=regr, \n",
    "        prediction_db_=all_pred_crf01, \n",
    "        cv_splits=cv_splits_loaded,\n",
    "        cols = [ 'crf_proba_1', 'bert_proba_1'])"
   ]
  },
  {
   "cell_type": "markdown",
   "id": "62d1aa65",
   "metadata": {},
   "source": [
    "# Check how to get probabilities from different estimators"
   ]
  },
  {
   "cell_type": "code",
   "execution_count": 110,
   "id": "5ab3b7a4",
   "metadata": {},
   "outputs": [
    {
     "data": {
      "text/plain": [
       "(array([[0.91420638, 0.54690195, 0.05970407],\n",
       "        [0.27377336, 0.13368256, 0.8497463 ],\n",
       "        [0.40642918, 0.93865855, 0.42511328],\n",
       "        [0.99964843, 0.29859993, 0.6455695 ],\n",
       "        [0.94256683, 0.1372147 , 0.77275427],\n",
       "        [0.41967425, 0.52983555, 0.83228755],\n",
       "        [0.47651012, 0.39965027, 0.70490466],\n",
       "        [0.68323192, 0.27621676, 0.90231308],\n",
       "        [0.71947118, 0.87003106, 0.37479464],\n",
       "        [0.53226444, 0.77597931, 0.55235245]]),\n",
       " array([[0.00342713, 0.17653862, 0.09324591],\n",
       "        [0.11538997, 0.84462898, 0.23427792],\n",
       "        [0.25780831, 0.41486092, 0.88257164]]),\n",
       " array([1, 0, 0, 1, 1, 1, 0, 0, 1, 0]))"
      ]
     },
     "execution_count": 110,
     "metadata": {},
     "output_type": "execute_result"
    }
   ],
   "source": [
    "ps=PassiveAggressiveClassifier()\n",
    "X_train=np.random.rand(10,3)\n",
    "X_test=np.random.rand(3,3)\n",
    "y_train=np.random.randint(0,2,10)\n",
    "X_train,X_test,y_train"
   ]
  },
  {
   "cell_type": "code",
   "execution_count": 111,
   "id": "6633b803",
   "metadata": {},
   "outputs": [
    {
     "data": {
      "text/html": [
       "<style>#sk-container-id-2 {color: black;background-color: white;}#sk-container-id-2 pre{padding: 0;}#sk-container-id-2 div.sk-toggleable {background-color: white;}#sk-container-id-2 label.sk-toggleable__label {cursor: pointer;display: block;width: 100%;margin-bottom: 0;padding: 0.3em;box-sizing: border-box;text-align: center;}#sk-container-id-2 label.sk-toggleable__label-arrow:before {content: \"▸\";float: left;margin-right: 0.25em;color: #696969;}#sk-container-id-2 label.sk-toggleable__label-arrow:hover:before {color: black;}#sk-container-id-2 div.sk-estimator:hover label.sk-toggleable__label-arrow:before {color: black;}#sk-container-id-2 div.sk-toggleable__content {max-height: 0;max-width: 0;overflow: hidden;text-align: left;background-color: #f0f8ff;}#sk-container-id-2 div.sk-toggleable__content pre {margin: 0.2em;color: black;border-radius: 0.25em;background-color: #f0f8ff;}#sk-container-id-2 input.sk-toggleable__control:checked~div.sk-toggleable__content {max-height: 200px;max-width: 100%;overflow: auto;}#sk-container-id-2 input.sk-toggleable__control:checked~label.sk-toggleable__label-arrow:before {content: \"▾\";}#sk-container-id-2 div.sk-estimator input.sk-toggleable__control:checked~label.sk-toggleable__label {background-color: #d4ebff;}#sk-container-id-2 div.sk-label input.sk-toggleable__control:checked~label.sk-toggleable__label {background-color: #d4ebff;}#sk-container-id-2 input.sk-hidden--visually {border: 0;clip: rect(1px 1px 1px 1px);clip: rect(1px, 1px, 1px, 1px);height: 1px;margin: -1px;overflow: hidden;padding: 0;position: absolute;width: 1px;}#sk-container-id-2 div.sk-estimator {font-family: monospace;background-color: #f0f8ff;border: 1px dotted black;border-radius: 0.25em;box-sizing: border-box;margin-bottom: 0.5em;}#sk-container-id-2 div.sk-estimator:hover {background-color: #d4ebff;}#sk-container-id-2 div.sk-parallel-item::after {content: \"\";width: 100%;border-bottom: 1px solid gray;flex-grow: 1;}#sk-container-id-2 div.sk-label:hover label.sk-toggleable__label {background-color: #d4ebff;}#sk-container-id-2 div.sk-serial::before {content: \"\";position: absolute;border-left: 1px solid gray;box-sizing: border-box;top: 0;bottom: 0;left: 50%;z-index: 0;}#sk-container-id-2 div.sk-serial {display: flex;flex-direction: column;align-items: center;background-color: white;padding-right: 0.2em;padding-left: 0.2em;position: relative;}#sk-container-id-2 div.sk-item {position: relative;z-index: 1;}#sk-container-id-2 div.sk-parallel {display: flex;align-items: stretch;justify-content: center;background-color: white;position: relative;}#sk-container-id-2 div.sk-item::before, #sk-container-id-2 div.sk-parallel-item::before {content: \"\";position: absolute;border-left: 1px solid gray;box-sizing: border-box;top: 0;bottom: 0;left: 50%;z-index: -1;}#sk-container-id-2 div.sk-parallel-item {display: flex;flex-direction: column;z-index: 1;position: relative;background-color: white;}#sk-container-id-2 div.sk-parallel-item:first-child::after {align-self: flex-end;width: 50%;}#sk-container-id-2 div.sk-parallel-item:last-child::after {align-self: flex-start;width: 50%;}#sk-container-id-2 div.sk-parallel-item:only-child::after {width: 0;}#sk-container-id-2 div.sk-dashed-wrapped {border: 1px dashed gray;margin: 0 0.4em 0.5em 0.4em;box-sizing: border-box;padding-bottom: 0.4em;background-color: white;}#sk-container-id-2 div.sk-label label {font-family: monospace;font-weight: bold;display: inline-block;line-height: 1.2em;}#sk-container-id-2 div.sk-label-container {text-align: center;}#sk-container-id-2 div.sk-container {/* jupyter's `normalize.less` sets `[hidden] { display: none; }` but bootstrap.min.css set `[hidden] { display: none !important; }` so we also need the `!important` here to be able to override the default hidden behavior on the sphinx rendered scikit-learn.org. See: https://github.com/scikit-learn/scikit-learn/issues/21755 */display: inline-block !important;position: relative;}#sk-container-id-2 div.sk-text-repr-fallback {display: none;}</style><div id=\"sk-container-id-2\" class=\"sk-top-container\"><div class=\"sk-text-repr-fallback\"><pre>PassiveAggressiveClassifier()</pre><b>In a Jupyter environment, please rerun this cell to show the HTML representation or trust the notebook. <br />On GitHub, the HTML representation is unable to render, please try loading this page with nbviewer.org.</b></div><div class=\"sk-container\" hidden><div class=\"sk-item\"><div class=\"sk-estimator sk-toggleable\"><input class=\"sk-toggleable__control sk-hidden--visually\" id=\"sk-estimator-id-2\" type=\"checkbox\" checked><label for=\"sk-estimator-id-2\" class=\"sk-toggleable__label sk-toggleable__label-arrow\">PassiveAggressiveClassifier</label><div class=\"sk-toggleable__content\"><pre>PassiveAggressiveClassifier()</pre></div></div></div></div></div>"
      ],
      "text/plain": [
       "PassiveAggressiveClassifier()"
      ]
     },
     "execution_count": 111,
     "metadata": {},
     "output_type": "execute_result"
    }
   ],
   "source": [
    "ps.fit(X_train,y_train)"
   ]
  },
  {
   "cell_type": "code",
   "execution_count": 115,
   "id": "b4736db8",
   "metadata": {},
   "outputs": [
    {
     "data": {
      "text/plain": [
       "array([[0.88378499, 0.11621501],\n",
       "       [0.92081425, 0.07918575],\n",
       "       [0.96228163, 0.03771837]])"
      ]
     },
     "execution_count": 115,
     "metadata": {},
     "output_type": "execute_result"
    }
   ],
   "source": [
    "ps._predict_proba_lr(X_test)"
   ]
  },
  {
   "cell_type": "code",
   "execution_count": 119,
   "id": "32f9cda4",
   "metadata": {},
   "outputs": [
    {
     "data": {
      "text/plain": [
       "array([-2.02877178, -2.45346196, -3.23915984])"
      ]
     },
     "execution_count": 119,
     "metadata": {},
     "output_type": "execute_result"
    }
   ],
   "source": [
    "ps.decision_function(X_test)"
   ]
  },
  {
   "cell_type": "code",
   "execution_count": 120,
   "id": "e925a653",
   "metadata": {},
   "outputs": [
    {
     "name": "stdout",
     "output_type": "stream",
     "text": [
      "LogisticRegression\n",
      "LogisticRegressionCV\n",
      "PassiveAggressiveClassifier\n",
      ">>>>>>>>>> cant predict_proba\n",
      "Perceptron\n",
      ">>>>>>>>>> cant predict_proba\n",
      "RidgeClassifier\n",
      ">>>>>>>>>> cant predict_proba\n",
      "SGDClassifier\n",
      ">>>>>>>>>> cant predict_proba\n",
      "SVC\n",
      "DecisionTreeClassifier\n"
     ]
    }
   ],
   "source": [
    "probas={}\n",
    "for regr in feature_utils.regressors_type:\n",
    "    regr_name=regr.__class__.__name__\n",
    "    print(regr_name)\n",
    "    regr.fit(X_train,y_train)\n",
    "    try:\n",
    "        probas[regr_name]=regr.predict_proba(X_test)\n",
    "    except:\n",
    "        print('>'*10+' cant predict_proba')\n",
    "        probas[regr_name]=regr._predict_proba_lr(X_test)"
   ]
  },
  {
   "cell_type": "code",
   "execution_count": 121,
   "id": "0d30c585",
   "metadata": {},
   "outputs": [
    {
     "data": {
      "text/plain": [
       "{'LogisticRegression': array([[0.5652789 , 0.4347211 ],\n",
       "        [0.56750078, 0.43249922],\n",
       "        [0.58405739, 0.41594261]]),\n",
       " 'LogisticRegressionCV': array([[0.89101946, 0.10898054],\n",
       "        [0.86949176, 0.13050824],\n",
       "        [0.88104319, 0.11895681]]),\n",
       " 'PassiveAggressiveClassifier': array([[0.91382197, 0.08617803],\n",
       "        [0.92497111, 0.07502889],\n",
       "        [0.98418303, 0.01581697]]),\n",
       " 'Perceptron': array([[0.54880205, 0.45119795],\n",
       "        [0.55763738, 0.44236262],\n",
       "        [0.79779132, 0.20220868]]),\n",
       " 'RidgeClassifier': array([[0.59783733, 0.40216267],\n",
       "        [0.59912301, 0.40087699],\n",
       "        [0.61331918, 0.38668082]]),\n",
       " 'SGDClassifier': array([[6.75349301e-01, 3.24650699e-01],\n",
       "        [6.09859998e-03, 9.93901400e-01],\n",
       "        [9.99931748e-01, 6.82522172e-05]]),\n",
       " 'SVC': array([[0.53390867, 0.46609133],\n",
       "        [0.35018512, 0.64981488],\n",
       "        [0.29535727, 0.70464273]]),\n",
       " 'DecisionTreeClassifier': array([[1., 0.],\n",
       "        [1., 0.],\n",
       "        [0., 1.]])}"
      ]
     },
     "execution_count": 121,
     "metadata": {},
     "output_type": "execute_result"
    }
   ],
   "source": [
    "probas"
   ]
  },
  {
   "cell_type": "code",
   "execution_count": 123,
   "id": "06312a87",
   "metadata": {},
   "outputs": [
    {
     "name": "stdout",
     "output_type": "stream",
     "text": [
      "0 split started...\n",
      "1 split started...\n",
      "2 split started...\n",
      "3 split started...\n",
      "4 split started...\n",
      "5 split started...\n",
      "6 split started...\n",
      "7 split started...\n"
     ]
    }
   ],
   "source": [
    "imp.reload(model_utils)\n",
    "crf_params={'seq_len':15,'seq_step':15}\n",
    "single_proba_estimators_pred['crf']=model_utils.prepared_cross_validate_ensemble(\n",
    "    estimator=CRF(), \n",
    "    prediction_db_=all_pred_crf01, \n",
    "    cv_splits=cv_splits_loaded,\n",
    "    cols = [ 'crf_proba_1', 'bert_proba_1'],\n",
    "    **crf_params)"
   ]
  },
  {
   "cell_type": "code",
   "execution_count": 124,
   "id": "c48eac04",
   "metadata": {},
   "outputs": [
    {
     "name": "stdout",
     "output_type": "stream",
     "text": [
      "MyScoreSummarizer init called\n",
      "MyReport init called\n",
      "Saving /scratch/sim_reg9/users/zsofya/classroom/MSc/personal_study/thesis/dataframes/duplicate/ens.LogisticRegression.pred.single.proba.as.is.threshold.csv, \n",
      "index False\n",
      "float_format %.5f\n",
      "Saving /scratch/sim_reg9/users/zsofya/classroom/MSc/personal_study/thesis/dataframes/duplicate/ens.LogisticRegression.report.single.proba.as.isas.is.csv, \n",
      "index False\n",
      "float_format %.5f\n",
      "MyScoreSummarizer init called\n",
      "MyReport init called\n",
      "Saving /scratch/sim_reg9/users/zsofya/classroom/MSc/personal_study/thesis/dataframes/duplicate/ens.LogisticRegressionCV.pred.single.proba.as.is.threshold.csv, \n",
      "index False\n",
      "float_format %.5f\n",
      "Saving /scratch/sim_reg9/users/zsofya/classroom/MSc/personal_study/thesis/dataframes/duplicate/ens.LogisticRegressionCV.report.single.proba.as.isas.is.csv, \n",
      "index False\n",
      "float_format %.5f\n",
      "MyScoreSummarizer init called\n",
      "label {1} is  missing in predicted for split 5, true is {0, 1}, pred is {0}\n",
      "MyReport init called\n",
      "Saving /scratch/sim_reg9/users/zsofya/classroom/MSc/personal_study/thesis/dataframes/duplicate/ens.PassiveAggressiveClassifier.pred.single.proba.as.is.threshold.csv, \n",
      "index False\n",
      "float_format %.5f\n"
     ]
    },
    {
     "name": "stderr",
     "output_type": "stream",
     "text": [
      "/home/zsofya/jupyter_git/jup-nb-generic/lib/python3.8/site-packages/sklearn/metrics/_classification.py:1327: UndefinedMetricWarning: Precision and F-score are ill-defined and being set to 0.0 in labels with no predicted samples. Use `zero_division` parameter to control this behavior.\n",
      "  _warn_prf(average, modifier, msg_start, len(result))\n",
      "/home/zsofya/jupyter_git/jup-nb-generic/lib/python3.8/site-packages/sklearn/metrics/_classification.py:1327: UndefinedMetricWarning: Precision and F-score are ill-defined and being set to 0.0 in labels with no predicted samples. Use `zero_division` parameter to control this behavior.\n",
      "  _warn_prf(average, modifier, msg_start, len(result))\n",
      "/home/zsofya/jupyter_git/jup-nb-generic/lib/python3.8/site-packages/sklearn/metrics/_classification.py:1327: UndefinedMetricWarning: Precision and F-score are ill-defined and being set to 0.0 in labels with no predicted samples. Use `zero_division` parameter to control this behavior.\n",
      "  _warn_prf(average, modifier, msg_start, len(result))\n"
     ]
    },
    {
     "name": "stdout",
     "output_type": "stream",
     "text": [
      "Saving /scratch/sim_reg9/users/zsofya/classroom/MSc/personal_study/thesis/dataframes/duplicate/ens.PassiveAggressiveClassifier.report.single.proba.as.isas.is.csv, \n",
      "index False\n",
      "float_format %.5f\n",
      "MyScoreSummarizer init called\n",
      "label {1} is  missing in predicted for split 3, true is {0, 1}, pred is {0}\n",
      "MyReport init called\n",
      "Saving /scratch/sim_reg9/users/zsofya/classroom/MSc/personal_study/thesis/dataframes/duplicate/ens.Perceptron.pred.single.proba.as.is.threshold.csv, \n",
      "index False\n",
      "float_format %.5f\n"
     ]
    },
    {
     "name": "stderr",
     "output_type": "stream",
     "text": [
      "/home/zsofya/jupyter_git/jup-nb-generic/lib/python3.8/site-packages/sklearn/metrics/_classification.py:1327: UndefinedMetricWarning: Precision and F-score are ill-defined and being set to 0.0 in labels with no predicted samples. Use `zero_division` parameter to control this behavior.\n",
      "  _warn_prf(average, modifier, msg_start, len(result))\n",
      "/home/zsofya/jupyter_git/jup-nb-generic/lib/python3.8/site-packages/sklearn/metrics/_classification.py:1327: UndefinedMetricWarning: Precision and F-score are ill-defined and being set to 0.0 in labels with no predicted samples. Use `zero_division` parameter to control this behavior.\n",
      "  _warn_prf(average, modifier, msg_start, len(result))\n",
      "/home/zsofya/jupyter_git/jup-nb-generic/lib/python3.8/site-packages/sklearn/metrics/_classification.py:1327: UndefinedMetricWarning: Precision and F-score are ill-defined and being set to 0.0 in labels with no predicted samples. Use `zero_division` parameter to control this behavior.\n",
      "  _warn_prf(average, modifier, msg_start, len(result))\n"
     ]
    },
    {
     "name": "stdout",
     "output_type": "stream",
     "text": [
      "Saving /scratch/sim_reg9/users/zsofya/classroom/MSc/personal_study/thesis/dataframes/duplicate/ens.Perceptron.report.single.proba.as.isas.is.csv, \n",
      "index False\n",
      "float_format %.5f\n",
      "MyScoreSummarizer init called\n",
      "MyReport init called\n",
      "Saving /scratch/sim_reg9/users/zsofya/classroom/MSc/personal_study/thesis/dataframes/duplicate/ens.RidgeClassifier.pred.single.proba.as.is.threshold.csv, \n",
      "index False\n",
      "float_format %.5f\n",
      "Saving /scratch/sim_reg9/users/zsofya/classroom/MSc/personal_study/thesis/dataframes/duplicate/ens.RidgeClassifier.report.single.proba.as.isas.is.csv, \n",
      "index False\n",
      "float_format %.5f\n",
      "MyScoreSummarizer init called\n",
      "MyReport init called\n",
      "Saving /scratch/sim_reg9/users/zsofya/classroom/MSc/personal_study/thesis/dataframes/duplicate/ens.SGDClassifier.pred.single.proba.as.is.threshold.csv, \n",
      "index False\n",
      "float_format %.5f\n",
      "Saving /scratch/sim_reg9/users/zsofya/classroom/MSc/personal_study/thesis/dataframes/duplicate/ens.SGDClassifier.report.single.proba.as.isas.is.csv, \n",
      "index False\n",
      "float_format %.5f\n",
      "MyScoreSummarizer init called\n",
      "MyReport init called\n",
      "Saving /scratch/sim_reg9/users/zsofya/classroom/MSc/personal_study/thesis/dataframes/duplicate/ens.SVC.pred.single.proba.as.is.threshold.csv, \n",
      "index False\n",
      "float_format %.5f\n",
      "Saving /scratch/sim_reg9/users/zsofya/classroom/MSc/personal_study/thesis/dataframes/duplicate/ens.SVC.report.single.proba.as.isas.is.csv, \n",
      "index False\n",
      "float_format %.5f\n",
      "MyScoreSummarizer init called\n",
      "MyReport init called\n",
      "Saving /scratch/sim_reg9/users/zsofya/classroom/MSc/personal_study/thesis/dataframes/duplicate/ens.DecisionTreeClassifier.pred.single.proba.as.is.threshold.csv, \n",
      "index False\n",
      "float_format %.5f\n",
      "Saving /scratch/sim_reg9/users/zsofya/classroom/MSc/personal_study/thesis/dataframes/duplicate/ens.DecisionTreeClassifier.report.single.proba.as.isas.is.csv, \n",
      "index False\n",
      "float_format %.5f\n",
      "MyScoreSummarizer init called\n",
      "MyReport init called\n",
      "Saving /scratch/sim_reg9/users/zsofya/classroom/MSc/personal_study/thesis/dataframes/duplicate/ens.crf.pred.single.proba.as.is.threshold.csv, \n",
      "index False\n",
      "float_format %.5f\n",
      "Saving /scratch/sim_reg9/users/zsofya/classroom/MSc/personal_study/thesis/dataframes/duplicate/ens.crf.report.single.proba.as.isas.is.csv, \n",
      "index False\n",
      "float_format %.5f\n"
     ]
    }
   ],
   "source": [
    "single_proba_report={}\n",
    "file_name='as.is'\n",
    "for k,v in single_proba_estimators_pred.items():\n",
    "    name=k\n",
    "    single_proba_report[k]=classes.MyScoreSummarizer(pred_df=v,fix_list=[],prefixes=['ens'])\n",
    "    single_proba_report[name].get_all_scores('split')\n",
    "    single_proba_report[name].print_df['ens'].index.name='label'\n",
    "    common_utils.save_db(v,dir_name,'ens.{}.pred.single.proba.as.is.{}'.format(name,file_prefix))\n",
    "    common_utils.save_db(single_proba_report[name].print_df['ens'],dir_name,'ens.{}.report.single.proba.as.is{}'.format(name,file_name))"
   ]
  },
  {
   "cell_type": "code",
   "execution_count": 125,
   "id": "47e40d20",
   "metadata": {},
   "outputs": [
    {
     "name": "stdout",
     "output_type": "stream",
     "text": [
      "LogisticRegression\n",
      "LogisticRegressionCV\n",
      "PassiveAggressiveClassifier\n",
      "Perceptron\n",
      "RidgeClassifier\n",
      "SGDClassifier\n",
      "SVC\n",
      "DecisionTreeClassifier\n",
      "crf\n"
     ]
    }
   ],
   "source": [
    "compare_scores=pd.DataFrame()\n",
    "for k,v in single_proba_report.items():\n",
    "    print(k)\n",
    "    idx=v.print_df['ens'].index.tolist()\n",
    "    compare_scores.loc[k,'common_f1']=v.print_df['ens'].loc['weighted avg','sent_f1']\n",
    "    compare_scores.loc[k,'nar_recall']=v.print_df['ens'].loc[idx[1],'sent_recall']\n",
    "    compare_scores.loc[k,'nar_prec']=v.print_df['ens'].loc[idx[1],'sent_prec']\n",
    "compare_scores.sort_values(by='common_f1',ascending=False,inplace=True)"
   ]
  },
  {
   "cell_type": "code",
   "execution_count": 126,
   "id": "6c2db686",
   "metadata": {},
   "outputs": [
    {
     "data": {
      "text/html": [
       "<div>\n",
       "<style scoped>\n",
       "    .dataframe tbody tr th:only-of-type {\n",
       "        vertical-align: middle;\n",
       "    }\n",
       "\n",
       "    .dataframe tbody tr th {\n",
       "        vertical-align: top;\n",
       "    }\n",
       "\n",
       "    .dataframe thead th {\n",
       "        text-align: right;\n",
       "    }\n",
       "</style>\n",
       "<table border=\"1\" class=\"dataframe\">\n",
       "  <thead>\n",
       "    <tr style=\"text-align: right;\">\n",
       "      <th></th>\n",
       "      <th>common_f1</th>\n",
       "      <th>nar_recall</th>\n",
       "      <th>nar_prec</th>\n",
       "    </tr>\n",
       "  </thead>\n",
       "  <tbody>\n",
       "    <tr>\n",
       "      <th>SGDClassifier</th>\n",
       "      <td>0.793895</td>\n",
       "      <td>0.472800</td>\n",
       "      <td>0.648022</td>\n",
       "    </tr>\n",
       "    <tr>\n",
       "      <th>SVC</th>\n",
       "      <td>0.793434</td>\n",
       "      <td>0.422843</td>\n",
       "      <td>0.693999</td>\n",
       "    </tr>\n",
       "    <tr>\n",
       "      <th>RidgeClassifier</th>\n",
       "      <td>0.792263</td>\n",
       "      <td>0.429077</td>\n",
       "      <td>0.680229</td>\n",
       "    </tr>\n",
       "    <tr>\n",
       "      <th>LogisticRegression</th>\n",
       "      <td>0.791825</td>\n",
       "      <td>0.423378</td>\n",
       "      <td>0.686781</td>\n",
       "    </tr>\n",
       "    <tr>\n",
       "      <th>LogisticRegressionCV</th>\n",
       "      <td>0.791759</td>\n",
       "      <td>0.421753</td>\n",
       "      <td>0.689523</td>\n",
       "    </tr>\n",
       "    <tr>\n",
       "      <th>crf</th>\n",
       "      <td>0.789240</td>\n",
       "      <td>0.468709</td>\n",
       "      <td>0.645328</td>\n",
       "    </tr>\n",
       "    <tr>\n",
       "      <th>PassiveAggressiveClassifier</th>\n",
       "      <td>0.762559</td>\n",
       "      <td>0.482244</td>\n",
       "      <td>0.529350</td>\n",
       "    </tr>\n",
       "    <tr>\n",
       "      <th>Perceptron</th>\n",
       "      <td>0.741539</td>\n",
       "      <td>0.466937</td>\n",
       "      <td>0.565861</td>\n",
       "    </tr>\n",
       "    <tr>\n",
       "      <th>DecisionTreeClassifier</th>\n",
       "      <td>0.729699</td>\n",
       "      <td>0.443940</td>\n",
       "      <td>0.448526</td>\n",
       "    </tr>\n",
       "  </tbody>\n",
       "</table>\n",
       "</div>"
      ],
      "text/plain": [
       "                             common_f1  nar_recall  nar_prec\n",
       "SGDClassifier                 0.793895    0.472800  0.648022\n",
       "SVC                           0.793434    0.422843  0.693999\n",
       "RidgeClassifier               0.792263    0.429077  0.680229\n",
       "LogisticRegression            0.791825    0.423378  0.686781\n",
       "LogisticRegressionCV          0.791759    0.421753  0.689523\n",
       "crf                           0.789240    0.468709  0.645328\n",
       "PassiveAggressiveClassifier   0.762559    0.482244  0.529350\n",
       "Perceptron                    0.741539    0.466937  0.565861\n",
       "DecisionTreeClassifier        0.729699    0.443940  0.448526"
      ]
     },
     "execution_count": 126,
     "metadata": {},
     "output_type": "execute_result"
    }
   ],
   "source": [
    "compare_scores"
   ]
  },
  {
   "cell_type": "markdown",
   "id": "7a1f0571",
   "metadata": {},
   "source": [
    "## Fix best ens prediction on 2 labels"
   ]
  },
  {
   "cell_type": "code",
   "execution_count": 146,
   "id": "166232f5",
   "metadata": {},
   "outputs": [
    {
     "name": "stdout",
     "output_type": "stream",
     "text": [
      "Opened /scratch/sim_reg9/users/zsofya/classroom/MSc/personal_study/thesis/dataframes/duplicate/ens.SGDClassifier.pred.single.proba.as.is.threshold.csv,  index False\n"
     ]
    }
   ],
   "source": [
    "sgd_ens_pred_on_single=common_utils.load_db(dir_name,'ens.SGDClassifier.pred.single.proba.as.is.threshold')"
   ]
  },
  {
   "cell_type": "code",
   "execution_count": 153,
   "id": "0b83531f",
   "metadata": {},
   "outputs": [
    {
     "data": {
      "text/html": [
       "<div>\n",
       "<style scoped>\n",
       "    .dataframe tbody tr th:only-of-type {\n",
       "        vertical-align: middle;\n",
       "    }\n",
       "\n",
       "    .dataframe tbody tr th {\n",
       "        vertical-align: top;\n",
       "    }\n",
       "\n",
       "    .dataframe thead th {\n",
       "        text-align: right;\n",
       "    }\n",
       "</style>\n",
       "<table border=\"1\" class=\"dataframe\">\n",
       "  <thead>\n",
       "    <tr style=\"text-align: right;\">\n",
       "      <th></th>\n",
       "      <th>ens_predicted</th>\n",
       "      <th>ens_proba_0</th>\n",
       "      <th>ens_proba_1</th>\n",
       "      <th>ens_group</th>\n",
       "      <th>ens_split</th>\n",
       "      <th>ens_true</th>\n",
       "      <th>ens_par</th>\n",
       "    </tr>\n",
       "  </thead>\n",
       "  <tbody>\n",
       "  </tbody>\n",
       "</table>\n",
       "</div>"
      ],
      "text/plain": [
       "Empty DataFrame\n",
       "Columns: [ens_predicted, ens_proba_0, ens_proba_1, ens_group, ens_split, ens_true, ens_par]\n",
       "Index: []"
      ]
     },
     "execution_count": 153,
     "metadata": {},
     "output_type": "execute_result"
    }
   ],
   "source": [
    "sgd_ens_pred_on_single[(sgd_ens_pred_on_single['ens_proba_0']>sgd_ens_pred_on_single['ens_proba_1'])&(sgd_ens_pred_on_single['ens_predicted']!=0)]"
   ]
  },
  {
   "cell_type": "code",
   "execution_count": 155,
   "id": "0d37612c",
   "metadata": {
    "scrolled": true
   },
   "outputs": [
    {
     "name": "stdout",
     "output_type": "stream",
     "text": [
      "MyScoreSummarizer init called\n",
      "MyPredFixer init called\n",
      "WindowDiff init called\n",
      "Total pos 7929 ens before using threshold 0.3\n",
      "Total pos 15306 ens after  using threshold 0.3\n",
      "near misses to be fixed\n",
      " {'tot': 117, 'fp': 45, 'fn': 72}\n",
      "665 middle misses to be fixed\n",
      "342 stande alone to be fixed\n",
      "ens\n",
      "MyReport init called\n"
     ]
    },
    {
     "data": {
      "text/html": [
       "<div>\n",
       "<style scoped>\n",
       "    .dataframe tbody tr th:only-of-type {\n",
       "        vertical-align: middle;\n",
       "    }\n",
       "\n",
       "    .dataframe tbody tr th {\n",
       "        vertical-align: top;\n",
       "    }\n",
       "\n",
       "    .dataframe thead th {\n",
       "        text-align: right;\n",
       "    }\n",
       "</style>\n",
       "<table border=\"1\" class=\"dataframe\">\n",
       "  <thead>\n",
       "    <tr style=\"text-align: right;\">\n",
       "      <th></th>\n",
       "      <th>sent_f1</th>\n",
       "      <th>fixed_f1</th>\n",
       "      <th>sent_recall</th>\n",
       "      <th>fixed_recall</th>\n",
       "      <th>sent_prec</th>\n",
       "      <th>fixed_prec</th>\n",
       "    </tr>\n",
       "  </thead>\n",
       "  <tbody>\n",
       "    <tr>\n",
       "      <th>0</th>\n",
       "      <td>0.871344</td>\n",
       "      <td>0.808323</td>\n",
       "      <td>0.905829</td>\n",
       "      <td>0.740862</td>\n",
       "      <td>0.840572</td>\n",
       "      <td>0.897076</td>\n",
       "    </tr>\n",
       "    <tr>\n",
       "      <th>1</th>\n",
       "      <td>0.536341</td>\n",
       "      <td>0.590912</td>\n",
       "      <td>0.472800</td>\n",
       "      <td>0.734387</td>\n",
       "      <td>0.648022</td>\n",
       "      <td>0.502900</td>\n",
       "    </tr>\n",
       "    <tr>\n",
       "      <th>weighted avg</th>\n",
       "      <td>0.793895</td>\n",
       "      <td>0.759907</td>\n",
       "      <td>0.804286</td>\n",
       "      <td>0.747886</td>\n",
       "      <td>0.796472</td>\n",
       "      <td>0.801494</td>\n",
       "    </tr>\n",
       "  </tbody>\n",
       "</table>\n",
       "</div>"
      ],
      "text/plain": [
       "               sent_f1  fixed_f1  sent_recall  fixed_recall  sent_prec  \\\n",
       "0             0.871344  0.808323     0.905829      0.740862   0.840572   \n",
       "1             0.536341  0.590912     0.472800      0.734387   0.648022   \n",
       "weighted avg  0.793895  0.759907     0.804286      0.747886   0.796472   \n",
       "\n",
       "              fixed_prec  \n",
       "0               0.897076  \n",
       "1               0.502900  \n",
       "weighted avg    0.801494  "
      ]
     },
     "execution_count": 155,
     "metadata": {},
     "output_type": "execute_result"
    }
   ],
   "source": [
    "imp.reload(classes)\n",
    "best_ens_fix=classes.MyScoreSummarizer(\n",
    "    pred_df=sgd_ens_pred_on_single,\n",
    "    fix_list=['threshold_0.30','near_miss','single_miss','single_sa'],\n",
    "    prefixes=['ens'])\n",
    "best_ens_fix.get_all_scores()\n",
    "best_ens_fix.print_df['ens']"
   ]
  },
  {
   "cell_type": "code",
   "execution_count": null,
   "id": "11359c48",
   "metadata": {},
   "outputs": [],
   "source": []
  },
  {
   "cell_type": "code",
   "execution_count": 81,
   "id": "058e0592",
   "metadata": {},
   "outputs": [
    {
     "data": {
      "text/html": [
       "<div>\n",
       "<style scoped>\n",
       "    .dataframe tbody tr th:only-of-type {\n",
       "        vertical-align: middle;\n",
       "    }\n",
       "\n",
       "    .dataframe tbody tr th {\n",
       "        vertical-align: top;\n",
       "    }\n",
       "\n",
       "    .dataframe thead th {\n",
       "        text-align: right;\n",
       "    }\n",
       "</style>\n",
       "<table border=\"1\" class=\"dataframe\">\n",
       "  <thead>\n",
       "    <tr style=\"text-align: right;\">\n",
       "      <th></th>\n",
       "      <th>common_f1</th>\n",
       "      <th>nar_recall</th>\n",
       "      <th>nar_prec</th>\n",
       "    </tr>\n",
       "  </thead>\n",
       "  <tbody>\n",
       "    <tr>\n",
       "      <th>SGDClassifier</th>\n",
       "      <td>0.793895</td>\n",
       "      <td>0.472800</td>\n",
       "      <td>0.648022</td>\n",
       "    </tr>\n",
       "    <tr>\n",
       "      <th>SVC</th>\n",
       "      <td>0.793434</td>\n",
       "      <td>0.422843</td>\n",
       "      <td>0.693999</td>\n",
       "    </tr>\n",
       "    <tr>\n",
       "      <th>RidgeClassifier</th>\n",
       "      <td>0.792263</td>\n",
       "      <td>0.429077</td>\n",
       "      <td>0.680229</td>\n",
       "    </tr>\n",
       "    <tr>\n",
       "      <th>LogisticRegression</th>\n",
       "      <td>0.791825</td>\n",
       "      <td>0.423378</td>\n",
       "      <td>0.686781</td>\n",
       "    </tr>\n",
       "    <tr>\n",
       "      <th>LogisticRegressionCV</th>\n",
       "      <td>0.791759</td>\n",
       "      <td>0.421753</td>\n",
       "      <td>0.689523</td>\n",
       "    </tr>\n",
       "    <tr>\n",
       "      <th>crf</th>\n",
       "      <td>0.789240</td>\n",
       "      <td>0.468709</td>\n",
       "      <td>0.645328</td>\n",
       "    </tr>\n",
       "    <tr>\n",
       "      <th>PassiveAggressiveClassifier</th>\n",
       "      <td>0.762559</td>\n",
       "      <td>0.482244</td>\n",
       "      <td>0.529350</td>\n",
       "    </tr>\n",
       "    <tr>\n",
       "      <th>Perceptron</th>\n",
       "      <td>0.741539</td>\n",
       "      <td>0.466937</td>\n",
       "      <td>0.565861</td>\n",
       "    </tr>\n",
       "    <tr>\n",
       "      <th>DecisionTreeClassifier</th>\n",
       "      <td>0.729699</td>\n",
       "      <td>0.443940</td>\n",
       "      <td>0.448526</td>\n",
       "    </tr>\n",
       "  </tbody>\n",
       "</table>\n",
       "</div>"
      ],
      "text/plain": [
       "                             common_f1  nar_recall  nar_prec\n",
       "SGDClassifier                 0.793895    0.472800  0.648022\n",
       "SVC                           0.793434    0.422843  0.693999\n",
       "RidgeClassifier               0.792263    0.429077  0.680229\n",
       "LogisticRegression            0.791825    0.423378  0.686781\n",
       "LogisticRegressionCV          0.791759    0.421753  0.689523\n",
       "crf                           0.789240    0.468709  0.645328\n",
       "PassiveAggressiveClassifier   0.762559    0.482244  0.529350\n",
       "Perceptron                    0.741539    0.466937  0.565861\n",
       "DecisionTreeClassifier        0.729699    0.443940  0.448526"
      ]
     },
     "execution_count": 81,
     "metadata": {},
     "output_type": "execute_result"
    }
   ],
   "source": [
    "compare_scores"
   ]
  },
  {
   "cell_type": "code",
   "execution_count": null,
   "id": "ae67626e",
   "metadata": {},
   "outputs": [],
   "source": []
  },
  {
   "cell_type": "code",
   "execution_count": null,
   "id": "e3acedf8",
   "metadata": {},
   "outputs": [],
   "source": []
  },
  {
   "cell_type": "code",
   "execution_count": null,
   "id": "b9cd07de",
   "metadata": {},
   "outputs": [],
   "source": []
  },
  {
   "cell_type": "code",
   "execution_count": 25,
   "id": "245eb598",
   "metadata": {},
   "outputs": [
    {
     "name": "stdout",
     "output_type": "stream",
     "text": [
      "Opened /scratch/sim_reg9/users/zsofya/classroom/MSc/personal_study/thesis/dataframes/duplicate/ens.SGDClassifier.report.full.splits.c.w.l.csv,  index False\n"
     ]
    },
    {
     "data": {
      "text/html": [
       "<div>\n",
       "<style scoped>\n",
       "    .dataframe tbody tr th:only-of-type {\n",
       "        vertical-align: middle;\n",
       "    }\n",
       "\n",
       "    .dataframe tbody tr th {\n",
       "        vertical-align: top;\n",
       "    }\n",
       "\n",
       "    .dataframe thead th {\n",
       "        text-align: right;\n",
       "    }\n",
       "</style>\n",
       "<table border=\"1\" class=\"dataframe\">\n",
       "  <thead>\n",
       "    <tr style=\"text-align: right;\">\n",
       "      <th></th>\n",
       "      <th>sent_f1</th>\n",
       "      <th>sent_recall</th>\n",
       "      <th>sent_prec</th>\n",
       "    </tr>\n",
       "  </thead>\n",
       "  <tbody>\n",
       "    <tr>\n",
       "      <th>0</th>\n",
       "      <td>0.87031</td>\n",
       "      <td>0.91007</td>\n",
       "      <td>0.83617</td>\n",
       "    </tr>\n",
       "    <tr>\n",
       "      <th>1</th>\n",
       "      <td>0.52101</td>\n",
       "      <td>0.45387</td>\n",
       "      <td>0.65528</td>\n",
       "    </tr>\n",
       "    <tr>\n",
       "      <th>2</th>\n",
       "      <td>0.78853</td>\n",
       "      <td>0.80149</td>\n",
       "      <td>0.79550</td>\n",
       "    </tr>\n",
       "  </tbody>\n",
       "</table>\n",
       "</div>"
      ],
      "text/plain": [
       "   sent_f1  sent_recall  sent_prec\n",
       "0  0.87031      0.91007    0.83617\n",
       "1  0.52101      0.45387    0.65528\n",
       "2  0.78853      0.80149    0.79550"
      ]
     },
     "execution_count": 25,
     "metadata": {},
     "output_type": "execute_result"
    }
   ],
   "source": [
    "sgd_double_proba=common_utils.load_db(dir_name,'ens.SGDClassifier.report.full.splits.c.w.l')\n",
    "sgd_double_proba"
   ]
  },
  {
   "cell_type": "markdown",
   "id": "d263220e",
   "metadata": {},
   "source": [
    "# Fix predictions on single proba by best_ens"
   ]
  },
  {
   "cell_type": "code",
   "execution_count": 71,
   "id": "8744e4fd",
   "metadata": {},
   "outputs": [
    {
     "name": "stdout",
     "output_type": "stream",
     "text": [
      "Opened /scratch/sim_reg9/users/zsofya/classroom/MSc/personal_study/thesis/dataframes/duplicate/ens.SGDClassifier.pred.full_split.c.w.l.csv,  index False\n"
     ]
    }
   ],
   "source": [
    "best_ens_pred=common_utils.load_db(dir_name,'ens.SGDClassifier.pred.full_split.c.w.l')"
   ]
  },
  {
   "cell_type": "code",
   "execution_count": 72,
   "id": "95ac6dc3",
   "metadata": {},
   "outputs": [
    {
     "name": "stdout",
     "output_type": "stream",
     "text": [
      "MyScoreSummarizer init called\n",
      "MyPredFixer init called\n",
      "WindowDiff init called\n",
      "ens\n",
      "No proba column for ens\n",
      "309 middle misses to be fixed\n",
      "138 stande alone to be fixed\n",
      "ens\n",
      "MyReport init called\n"
     ]
    }
   ],
   "source": [
    "imp.reload(classes)\n",
    "sgd_report=classes.MyScoreSummarizer(pred_df=best_ens_pred,fix_list=['threshold_0.16','single_miss','single_sa'],prefixes=['ens'])\n",
    "sgd_report.get_all_scores(unit='split')"
   ]
  },
  {
   "cell_type": "code",
   "execution_count": 73,
   "id": "8d834655",
   "metadata": {},
   "outputs": [
    {
     "data": {
      "text/html": [
       "<div>\n",
       "<style scoped>\n",
       "    .dataframe tbody tr th:only-of-type {\n",
       "        vertical-align: middle;\n",
       "    }\n",
       "\n",
       "    .dataframe tbody tr th {\n",
       "        vertical-align: top;\n",
       "    }\n",
       "\n",
       "    .dataframe thead th {\n",
       "        text-align: right;\n",
       "    }\n",
       "</style>\n",
       "<table border=\"1\" class=\"dataframe\">\n",
       "  <thead>\n",
       "    <tr style=\"text-align: right;\">\n",
       "      <th></th>\n",
       "      <th>sent_f1</th>\n",
       "      <th>fixed_f1</th>\n",
       "      <th>sent_recall</th>\n",
       "      <th>fixed_recall</th>\n",
       "      <th>sent_prec</th>\n",
       "      <th>fixed_prec</th>\n",
       "    </tr>\n",
       "  </thead>\n",
       "  <tbody>\n",
       "    <tr>\n",
       "      <th>0</th>\n",
       "      <td>0.870308</td>\n",
       "      <td>0.871458</td>\n",
       "      <td>0.910069</td>\n",
       "      <td>0.908875</td>\n",
       "      <td>0.836174</td>\n",
       "      <td>0.839186</td>\n",
       "    </tr>\n",
       "    <tr>\n",
       "      <th>1</th>\n",
       "      <td>0.521007</td>\n",
       "      <td>0.532912</td>\n",
       "      <td>0.453874</td>\n",
       "      <td>0.467260</td>\n",
       "      <td>0.655279</td>\n",
       "      <td>0.661114</td>\n",
       "    </tr>\n",
       "    <tr>\n",
       "      <th>weighted avg</th>\n",
       "      <td>0.788533</td>\n",
       "      <td>0.792184</td>\n",
       "      <td>0.801489</td>\n",
       "      <td>0.803958</td>\n",
       "      <td>0.795498</td>\n",
       "      <td>0.798674</td>\n",
       "    </tr>\n",
       "  </tbody>\n",
       "</table>\n",
       "</div>"
      ],
      "text/plain": [
       "               sent_f1  fixed_f1  sent_recall  fixed_recall  sent_prec  \\\n",
       "0             0.870308  0.871458     0.910069      0.908875   0.836174   \n",
       "1             0.521007  0.532912     0.453874      0.467260   0.655279   \n",
       "weighted avg  0.788533  0.792184     0.801489      0.803958   0.795498   \n",
       "\n",
       "              fixed_prec  \n",
       "0               0.839186  \n",
       "1               0.661114  \n",
       "weighted avg    0.798674  "
      ]
     },
     "execution_count": 73,
     "metadata": {},
     "output_type": "execute_result"
    }
   ],
   "source": [
    "sgd_report.print_df['ens']"
   ]
  },
  {
   "cell_type": "code",
   "execution_count": 36,
   "id": "88e17911",
   "metadata": {},
   "outputs": [
    {
     "name": "stdout",
     "output_type": "stream",
     "text": [
      "Saving /scratch/sim_reg9/users/zsofya/classroom/MSc/personal_study/thesis/dataframes/duplicate/ens.SGDClassifier.fixed.report.full.splits.c.w.l.csv, \n",
      "index False\n",
      "float_format %.5f\n"
     ]
    }
   ],
   "source": [
    "common_utils.save_db(sgd_report.print_df['ens'],dir_name,'ens.SGDClassifier.fixed.report.full.splits.c.w.l')"
   ]
  },
  {
   "cell_type": "markdown",
   "id": "871401af",
   "metadata": {},
   "source": [
    "## Fix ens predictions on threshold on 4 features"
   ]
  },
  {
   "cell_type": "code",
   "execution_count": null,
   "id": "f9360c6d",
   "metadata": {},
   "outputs": [],
   "source": []
  }
 ],
 "metadata": {
  "kernelspec": {
   "display_name": "Python 3",
   "language": "python",
   "name": "python3"
  },
  "language_info": {
   "codemirror_mode": {
    "name": "ipython",
    "version": 3
   },
   "file_extension": ".py",
   "mimetype": "text/x-python",
   "name": "python",
   "nbconvert_exporter": "python",
   "pygments_lexer": "ipython3",
   "version": "3.8.5"
  }
 },
 "nbformat": 4,
 "nbformat_minor": 5
}
