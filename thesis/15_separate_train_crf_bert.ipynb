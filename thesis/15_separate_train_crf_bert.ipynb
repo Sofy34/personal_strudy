{
 "cells": [
  {
   "cell_type": "code",
   "execution_count": 72,
   "id": "1cbf8ce7",
   "metadata": {},
   "outputs": [],
   "source": [
    "#ensembling\n",
    "from mlxtend.classifier import StackingCVClassifier\n",
    "import numpy as np\n",
    "import pandas as pd\n",
    "import sys, os, glob\n",
    "import imp\n",
    "import seaborn as sns\n",
    "sys.path.append('./src/')\n",
    "import common_utils,my_ensembler, feature_utils, defines, model_utils, my_bert\n",
    "from sklearn.neighbors import KNeighborsClassifier\n",
    "from sklearn_crfsuite import scorers, CRF\n",
    "from sklearn.pipeline import Pipeline\n",
    "import json\n",
    "from operator import itemgetter\n"
   ]
  },
  {
   "cell_type": "markdown",
   "id": "9fd064e7",
   "metadata": {},
   "source": [
    "### Define static parameters for data"
   ]
  },
  {
   "cell_type": "code",
   "execution_count": 144,
   "id": "0e073b02",
   "metadata": {},
   "outputs": [],
   "source": [
    "dir_name='reparse'\n",
    "docs_map_name = 'scaled.binary.5_stop_docs_map.json'\n",
    "crf_params_name='.802_21.07_07:26_best_params.json'\n",
    "per_par=True\n",
    "seq_len=3\n",
    "step=3\n",
    "test_doc_num = 10\n",
    "n_splits = 3\n",
    "seed=42\n",
    "cv_db = pd.DataFrame()"
   ]
  },
  {
   "cell_type": "markdown",
   "id": "28863b15",
   "metadata": {},
   "source": [
    "### Define test documents"
   ]
  },
  {
   "cell_type": "code",
   "execution_count": 117,
   "id": "ec4915af",
   "metadata": {},
   "outputs": [
    {
     "data": {
      "text/plain": [
       "{0: {'test': array([ 1, 12, 13, 20, 21, 41, 46, 55, 59, 76]),\n",
       "  'train': array([ 2,  3,  4,  5,  6,  7,  8,  9, 10, 11, 14, 15, 16, 17, 18, 19, 22,\n",
       "         23, 24, 25, 26, 27, 28, 29, 30, 31, 32, 33, 34, 35, 36, 37, 38, 39,\n",
       "         40, 42, 43, 44, 45, 47, 48, 49, 50, 51, 52, 53, 54, 56, 57, 58, 60,\n",
       "         61, 62, 63, 64, 65, 66, 67, 68, 69, 70, 71, 72, 73, 74, 75, 77, 78,\n",
       "         79, 80])},\n",
       " 1: {'test': array([ 6,  8, 14, 19, 35, 36, 45, 60, 65, 69]),\n",
       "  'train': array([ 1,  2,  3,  4,  5,  7,  9, 10, 11, 12, 13, 15, 16, 17, 18, 20, 21,\n",
       "         22, 23, 24, 25, 26, 27, 28, 29, 30, 31, 32, 33, 34, 37, 38, 39, 40,\n",
       "         41, 42, 43, 44, 46, 47, 48, 49, 50, 51, 52, 53, 54, 55, 56, 57, 58,\n",
       "         59, 61, 62, 63, 64, 66, 67, 68, 70, 71, 72, 73, 74, 75, 76, 77, 78,\n",
       "         79, 80])},\n",
       " 2: {'test': array([24, 25, 28, 34, 37, 40, 44, 49, 54, 77]),\n",
       "  'train': array([ 1,  2,  3,  4,  5,  6,  7,  8,  9, 10, 11, 12, 13, 14, 15, 16, 17,\n",
       "         18, 19, 20, 21, 22, 23, 26, 27, 29, 30, 31, 32, 33, 35, 36, 38, 39,\n",
       "         41, 42, 43, 45, 46, 47, 48, 50, 51, 52, 53, 55, 56, 57, 58, 59, 60,\n",
       "         61, 62, 63, 64, 65, 66, 67, 68, 69, 70, 71, 72, 73, 74, 75, 76, 78,\n",
       "         79, 80])}}"
      ]
     },
     "execution_count": 117,
     "metadata": {},
     "output_type": "execute_result"
    }
   ],
   "source": [
    "imp.reload(model_utils)\n",
    "x=np.arange(1,81)\n",
    "cv_splits=model_utils.get_test_train_splits(x,test_doc_num,n_splits,seed)\n",
    "cv_splits"
   ]
  },
  {
   "cell_type": "code",
   "execution_count": 218,
   "id": "e87ce99b",
   "metadata": {},
   "outputs": [
    {
     "data": {
      "text/plain": [
       "{0: {'test': array([ 1, 12, 13, 20, 21, 41, 46, 55, 59, 76]),\n",
       "  'train': array([ 2,  3,  4,  5,  6,  7,  8,  9, 10, 11, 14, 15, 16, 17, 18, 19, 22,\n",
       "         23, 24, 25, 26, 27, 28, 29, 30, 31, 32, 33, 34, 35, 36, 37, 38, 39,\n",
       "         40, 42, 43, 44, 45, 47, 48, 49, 50, 51, 52, 53, 54, 56, 57, 58, 60,\n",
       "         61, 62, 63, 64, 65, 66, 67, 68, 69, 70, 71, 72, 73, 74, 75, 77, 78,\n",
       "         79, 80])},\n",
       " 1: {'test': array([ 6,  8, 14, 19, 35, 36, 45, 60, 65, 69]),\n",
       "  'train': array([ 1,  2,  3,  4,  5,  7,  9, 10, 11, 12, 13, 15, 16, 17, 18, 20, 21,\n",
       "         22, 23, 24, 25, 26, 27, 28, 29, 30, 31, 32, 33, 34, 37, 38, 39, 40,\n",
       "         41, 42, 43, 44, 46, 47, 48, 49, 50, 51, 52, 53, 54, 55, 56, 57, 58,\n",
       "         59, 61, 62, 63, 64, 66, 67, 68, 70, 71, 72, 73, 74, 75, 76, 77, 78,\n",
       "         79, 80])},\n",
       " 2: {'test': array([24, 25, 28, 34, 37, 40, 44, 49, 54, 77]),\n",
       "  'train': array([ 1,  2,  3,  4,  5,  6,  7,  8,  9, 10, 11, 12, 13, 14, 15, 16, 17,\n",
       "         18, 19, 20, 21, 22, 23, 26, 27, 29, 30, 31, 32, 33, 35, 36, 38, 39,\n",
       "         41, 42, 43, 45, 46, 47, 48, 50, 51, 52, 53, 55, 56, 57, 58, 59, 60,\n",
       "         61, 62, 63, 64, 65, 66, 67, 68, 69, 70, 71, 72, 73, 74, 75, 76, 78,\n",
       "         79, 80])}}"
      ]
     },
     "execution_count": 218,
     "metadata": {},
     "output_type": "execute_result"
    }
   ],
   "source": [
    "cv_splits"
   ]
  },
  {
   "cell_type": "code",
   "execution_count": 156,
   "id": "cb5b5e60",
   "metadata": {},
   "outputs": [
    {
     "name": "stdout",
     "output_type": "stream",
     "text": [
      "Saving /scratch/sim_reg6/users/zsofya/classroom/MSc/personal_study/thesis/dataframes/reparse/cv_splits.json\n"
     ]
    }
   ],
   "source": [
    "imp.reload(common_utils)\n",
    "cv_splits\n",
    "common_utils.save_json(cv_splits,dir_name,\"cv_splits\")"
   ]
  },
  {
   "cell_type": "markdown",
   "id": "1fb04acf",
   "metadata": {},
   "source": [
    "### Load docs_map"
   ]
  },
  {
   "cell_type": "code",
   "execution_count": 44,
   "id": "65fd292e",
   "metadata": {},
   "outputs": [],
   "source": [
    "imp.reload(common_utils)\n",
    "docs_map=common_utils.get_docs_map(dir_name,docs_map_name,per_par,seq_len,step)"
   ]
  },
  {
   "cell_type": "code",
   "execution_count": 46,
   "id": "da0c53f2",
   "metadata": {},
   "outputs": [
    {
     "data": {
      "text/plain": [
       "dict_keys(['X_3_3', 'y_3_3', 'groups_3_3', 'X_bert', 'y_bert'])"
      ]
     },
     "execution_count": 46,
     "metadata": {},
     "output_type": "execute_result"
    }
   ],
   "source": [
    "docs_map[1].keys()"
   ]
  },
  {
   "cell_type": "markdown",
   "id": "5739001c",
   "metadata": {},
   "source": [
    "### Cross-validate CRF"
   ]
  },
  {
   "cell_type": "markdown",
   "id": "ec7bc01b",
   "metadata": {},
   "source": [
    "#### Load best CRF params"
   ]
  },
  {
   "cell_type": "code",
   "execution_count": 157,
   "id": "f9dd5ae0",
   "metadata": {},
   "outputs": [
    {
     "data": {
      "text/plain": [
       "{'c1': 0.5850178031143265, 'c2': 0.052554161623508414, 'min_freq': 3}"
      ]
     },
     "execution_count": 157,
     "metadata": {},
     "output_type": "execute_result"
    }
   ],
   "source": [
    "json_path = os.path.join(os.getcwd(),defines.PATH_TO_DFS,dir_name,crf_params_name)\n",
    "with open(json_path,'r') as fp:\n",
    "    best_params_crf = json.load(fp)\n",
    "best_params_crf"
   ]
  },
  {
   "cell_type": "code",
   "execution_count": 158,
   "id": "972177fc",
   "metadata": {},
   "outputs": [
    {
     "name": "stdout",
     "output_type": "stream",
     "text": [
      "0 split started...\n",
      "0 split fit took 16.83 sec\n",
      "0 split predict took 0.41 sec\n",
      "1 split started...\n",
      "1 split fit took 15.72 sec\n",
      "1 split predict took 0.44 sec\n",
      "2 split started...\n",
      "2 split fit took 17.12 sec\n",
      "2 split predict took 0.35 sec\n"
     ]
    }
   ],
   "source": [
    "imp.reload(model_utils)\n",
    "cv_db_crf=model_utils.prepared_cross_validate_crf(cv_db,docs_map, cv_splits, seq_len=3, step=3,**best_params_crf)"
   ]
  },
  {
   "cell_type": "code",
   "execution_count": 159,
   "id": "7468a066",
   "metadata": {},
   "outputs": [
    {
     "data": {
      "text/html": [
       "<div>\n",
       "<style scoped>\n",
       "    .dataframe tbody tr th:only-of-type {\n",
       "        vertical-align: middle;\n",
       "    }\n",
       "\n",
       "    .dataframe tbody tr th {\n",
       "        vertical-align: top;\n",
       "    }\n",
       "\n",
       "    .dataframe thead th {\n",
       "        text-align: right;\n",
       "    }\n",
       "</style>\n",
       "<table border=\"1\" class=\"dataframe\">\n",
       "  <thead>\n",
       "    <tr style=\"text-align: right;\">\n",
       "      <th></th>\n",
       "      <th>crf_group</th>\n",
       "      <th>crf_split</th>\n",
       "      <th>crf_predicted</th>\n",
       "      <th>crf_true</th>\n",
       "      <th>crf_proba_0</th>\n",
       "      <th>crf_proba_1</th>\n",
       "    </tr>\n",
       "  </thead>\n",
       "  <tbody>\n",
       "    <tr>\n",
       "      <th>0</th>\n",
       "      <td>1</td>\n",
       "      <td>0</td>\n",
       "      <td>not_nar</td>\n",
       "      <td>not_nar</td>\n",
       "      <td>0.927267</td>\n",
       "      <td>0.072733</td>\n",
       "    </tr>\n",
       "    <tr>\n",
       "      <th>1</th>\n",
       "      <td>1</td>\n",
       "      <td>0</td>\n",
       "      <td>not_nar</td>\n",
       "      <td>not_nar</td>\n",
       "      <td>0.970439</td>\n",
       "      <td>0.029561</td>\n",
       "    </tr>\n",
       "    <tr>\n",
       "      <th>2</th>\n",
       "      <td>1</td>\n",
       "      <td>0</td>\n",
       "      <td>not_nar</td>\n",
       "      <td>not_nar</td>\n",
       "      <td>0.984975</td>\n",
       "      <td>0.015025</td>\n",
       "    </tr>\n",
       "    <tr>\n",
       "      <th>3</th>\n",
       "      <td>1</td>\n",
       "      <td>0</td>\n",
       "      <td>not_nar</td>\n",
       "      <td>not_nar</td>\n",
       "      <td>0.840957</td>\n",
       "      <td>0.159043</td>\n",
       "    </tr>\n",
       "    <tr>\n",
       "      <th>4</th>\n",
       "      <td>1</td>\n",
       "      <td>0</td>\n",
       "      <td>not_nar</td>\n",
       "      <td>not_nar</td>\n",
       "      <td>0.860823</td>\n",
       "      <td>0.139177</td>\n",
       "    </tr>\n",
       "    <tr>\n",
       "      <th>...</th>\n",
       "      <td>...</td>\n",
       "      <td>...</td>\n",
       "      <td>...</td>\n",
       "      <td>...</td>\n",
       "      <td>...</td>\n",
       "      <td>...</td>\n",
       "    </tr>\n",
       "    <tr>\n",
       "      <th>14585</th>\n",
       "      <td>77</td>\n",
       "      <td>2</td>\n",
       "      <td>not_nar</td>\n",
       "      <td>not_nar</td>\n",
       "      <td>0.980402</td>\n",
       "      <td>0.019598</td>\n",
       "    </tr>\n",
       "    <tr>\n",
       "      <th>14586</th>\n",
       "      <td>77</td>\n",
       "      <td>2</td>\n",
       "      <td>not_nar</td>\n",
       "      <td>not_nar</td>\n",
       "      <td>0.984651</td>\n",
       "      <td>0.015349</td>\n",
       "    </tr>\n",
       "    <tr>\n",
       "      <th>14587</th>\n",
       "      <td>77</td>\n",
       "      <td>2</td>\n",
       "      <td>not_nar</td>\n",
       "      <td>not_nar</td>\n",
       "      <td>0.974347</td>\n",
       "      <td>0.025653</td>\n",
       "    </tr>\n",
       "    <tr>\n",
       "      <th>14588</th>\n",
       "      <td>77</td>\n",
       "      <td>2</td>\n",
       "      <td>not_nar</td>\n",
       "      <td>not_nar</td>\n",
       "      <td>0.975137</td>\n",
       "      <td>0.024863</td>\n",
       "    </tr>\n",
       "    <tr>\n",
       "      <th>14589</th>\n",
       "      <td>77</td>\n",
       "      <td>2</td>\n",
       "      <td>not_nar</td>\n",
       "      <td>not_nar</td>\n",
       "      <td>0.979662</td>\n",
       "      <td>0.020338</td>\n",
       "    </tr>\n",
       "  </tbody>\n",
       "</table>\n",
       "<p>14590 rows × 6 columns</p>\n",
       "</div>"
      ],
      "text/plain": [
       "       crf_group  crf_split crf_predicted crf_true  crf_proba_0  crf_proba_1\n",
       "0              1          0       not_nar  not_nar     0.927267     0.072733\n",
       "1              1          0       not_nar  not_nar     0.970439     0.029561\n",
       "2              1          0       not_nar  not_nar     0.984975     0.015025\n",
       "3              1          0       not_nar  not_nar     0.840957     0.159043\n",
       "4              1          0       not_nar  not_nar     0.860823     0.139177\n",
       "...          ...        ...           ...      ...          ...          ...\n",
       "14585         77          2       not_nar  not_nar     0.980402     0.019598\n",
       "14586         77          2       not_nar  not_nar     0.984651     0.015349\n",
       "14587         77          2       not_nar  not_nar     0.974347     0.025653\n",
       "14588         77          2       not_nar  not_nar     0.975137     0.024863\n",
       "14589         77          2       not_nar  not_nar     0.979662     0.020338\n",
       "\n",
       "[14590 rows x 6 columns]"
      ]
     },
     "execution_count": 159,
     "metadata": {},
     "output_type": "execute_result"
    }
   ],
   "source": [
    "cv_db_crf"
   ]
  },
  {
   "cell_type": "code",
   "execution_count": 106,
   "id": "18857b88",
   "metadata": {},
   "outputs": [
    {
     "data": {
      "text/plain": [
       "array([ 1, 12, 13, 20, 21, 41, 46, 55, 59, 76,  6,  8, 14, 19, 35, 36, 45,\n",
       "       60, 65, 69, 24, 25, 28, 34, 37, 40, 44, 49, 54, 77])"
      ]
     },
     "execution_count": 106,
     "metadata": {},
     "output_type": "execute_result"
    }
   ],
   "source": [
    "cv_db_crf['crf_group'].unique()"
   ]
  },
  {
   "cell_type": "code",
   "execution_count": 160,
   "id": "4f37ec01",
   "metadata": {},
   "outputs": [
    {
     "name": "stdout",
     "output_type": "stream",
     "text": [
      "\u001b[1m\u001b[46mSplit 0\u001b[0m\n",
      "              precision    recall  f1-score   support\n",
      "\n",
      "      is_nar       0.72      0.55      0.62      1697\n",
      "     not_nar       0.80      0.89      0.84      3354\n",
      "\n",
      "    accuracy                           0.78      5051\n",
      "   macro avg       0.76      0.72      0.73      5051\n",
      "weighted avg       0.77      0.78      0.77      5051\n",
      "\n",
      "\u001b[1m\u001b[46mSplit 1\u001b[0m\n",
      "              precision    recall  f1-score   support\n",
      "\n",
      "      is_nar       0.56      0.52      0.54      1158\n",
      "     not_nar       0.87      0.88      0.88      4088\n",
      "\n",
      "    accuracy                           0.80      5246\n",
      "   macro avg       0.71      0.70      0.71      5246\n",
      "weighted avg       0.80      0.80      0.80      5246\n",
      "\n",
      "\u001b[1m\u001b[46mSplit 2\u001b[0m\n",
      "              precision    recall  f1-score   support\n",
      "\n",
      "      is_nar       0.55      0.41      0.47       972\n",
      "     not_nar       0.84      0.90      0.87      3321\n",
      "\n",
      "    accuracy                           0.79      4293\n",
      "   macro avg       0.69      0.65      0.67      4293\n",
      "weighted avg       0.77      0.79      0.78      4293\n",
      "\n"
     ]
    },
    {
     "data": {
      "image/png": "[encoded data removed]",
      "text/plain": [
       "<Figure size 432x288 with 2 Axes>"
      ]
     },
     "metadata": {
      "needs_background": "light"
     },
     "output_type": "display_data"
    },
    {
     "data": {
      "image/png": "[encoded data removed]",
      "text/plain": [
       "<Figure size 432x288 with 2 Axes>"
      ]
     },
     "metadata": {
      "needs_background": "light"
     },
     "output_type": "display_data"
    },
    {
     "data": {
      "image/png": "[encoded data removed]",
      "text/plain": [
       "<Figure size 432x288 with 2 Axes>"
      ]
     },
     "metadata": {
      "needs_background": "light"
     },
     "output_type": "display_data"
    }
   ],
   "source": [
    "imp.reload(model_utils)\n",
    "model_utils.get_report_from_splits(cv_db_crf,\"crf\")"
   ]
  },
  {
   "cell_type": "code",
   "execution_count": 161,
   "id": "5baaa977",
   "metadata": {},
   "outputs": [
    {
     "name": "stdout",
     "output_type": "stream",
     "text": [
      "Saving /scratch/sim_reg6/users/zsofya/classroom/MSc/personal_study/thesis/dataframes/reparse/cv_crf.csv,  index False\n"
     ]
    }
   ],
   "source": [
    "common_utils.save_db(cv_db_crf,dir_name,\"cv_crf\")"
   ]
  },
  {
   "cell_type": "markdown",
   "id": "38f58cda",
   "metadata": {},
   "source": [
    "### Cross-validate BERT"
   ]
  },
  {
   "cell_type": "code",
   "execution_count": 118,
   "id": "55c87a0d",
   "metadata": {},
   "outputs": [
    {
     "name": "stderr",
     "output_type": "stream",
     "text": [
      "Some weights of BertModel were not initialized from the model checkpoint at onlplab/alephbert-base and are newly initialized: ['bert.pooler.dense.weight', 'bert.pooler.dense.bias']\n",
      "You should probably TRAIN this model on a down-stream task to be able to use it for predictions and inference.\n",
      "/home/zsofya/jupyter_git/jup-nb-generic/lib/python3.8/site-packages/transformers/tokenization_utils_base.py:2073: FutureWarning: The `pad_to_max_length` argument is deprecated and will be removed in a future version, use `padding=True` or `padding='longest'` to pad to the longest sequence in the batch, or use `padding='max_length'` to pad to a max length. In this case, you can give a specific length with `max_length` (e.g. `max_length=45`) or leave max_length to None to pad to the maximal input size of the model (e.g. 512 for Bert).\n",
      "  warnings.warn(\n"
     ]
    },
    {
     "name": "stdout",
     "output_type": "stream",
     "text": [
      "BertXYTransformer>>>>>>>init() called\n",
      "0 split started...\n",
      "BertXYTransformer>>>>>>>transform() called for 70 docs\n",
      "y labels are\n",
      " BertXYTransformer>>>>>>>transform() done for 33730 samples, labels are [0. 1.]\n",
      "BertXYTransformer>>>>>>>transform() called for 10 docs\n",
      "y labels are\n",
      " BertXYTransformer>>>>>>>transform() done for 5051 samples, labels are [0. 1.]\n",
      "BertTrainValidator>>>>>>> init() called\n",
      "BertTrainValidator>>>>>>> train_validate() called\n",
      "Class Weights: [0.66371507 2.02704327]\n",
      "\n",
      " Epoch 1 / 10\n",
      "\n",
      "Evaluating...\n",
      "train_validate() raw_preds tensor([[-0.9291, -0.5024],\n",
      "        [-0.3347, -1.2573],\n",
      "        [-0.4534, -1.0092],\n",
      "        ...,\n",
      "        [-0.4234, -1.0636],\n",
      "        [-0.6264, -0.7647],\n",
      "        [-0.3347, -1.2573]])\n",
      "Saving best model bert\n",
      "\n",
      "Training Loss: 0.670\n",
      "\n",
      "Validation Loss: 0.660\n",
      "\n",
      " Epoch 2 / 10\n",
      "\n",
      "Evaluating...\n",
      "train_validate() raw_preds tensor([[-0.8668, -0.5452],\n",
      "        [-0.2394, -1.5469],\n",
      "        [-0.2833, -1.3996],\n",
      "        ...,\n",
      "        [-0.2906, -1.3777],\n",
      "        [-0.3340, -1.2591],\n",
      "        [-0.2394, -1.5469]])\n",
      "\n",
      "Training Loss: 0.605\n",
      "\n",
      "Validation Loss: 0.664\n",
      "\n",
      " Epoch 3 / 10\n",
      "\n",
      "Evaluating...\n",
      "train_validate() raw_preds tensor([[-0.6410, -0.7482],\n",
      "        [-0.2448, -1.5272],\n",
      "        [-0.2338, -1.5678],\n",
      "        ...,\n",
      "        [-0.2337, -1.5682],\n",
      "        [-0.2586, -1.4791],\n",
      "        [-0.2448, -1.5272]])\n",
      "Saving best model bert\n",
      "\n",
      "Training Loss: 0.583\n",
      "\n",
      "Validation Loss: 0.659\n",
      "\n",
      " Epoch 4 / 10\n",
      "\n",
      "Evaluating...\n",
      "train_validate() raw_preds tensor([[-0.5353, -0.8807],\n",
      "        [-0.2681, -1.4475],\n",
      "        [-0.2018, -1.6995],\n",
      "        ...,\n",
      "        [-0.1962, -1.7250],\n",
      "        [-0.2125, -1.6531],\n",
      "        [-0.2681, -1.4475]])\n",
      "\n",
      "Training Loss: 0.569\n",
      "\n",
      "Validation Loss: 0.672\n",
      "\n",
      " Epoch 5 / 10\n",
      "\n",
      "Evaluating...\n",
      "train_validate() raw_preds tensor([[-0.4355, -1.0411],\n",
      "        [-0.3135, -1.3126],\n",
      "        [-0.1718, -1.8461],\n",
      "        ...,\n",
      "        [-0.1605, -1.9087],\n",
      "        [-0.1753, -1.8276],\n",
      "        [-0.3135, -1.3126]])\n",
      "\n",
      "Training Loss: 0.555\n",
      "\n",
      "Validation Loss: 0.681\n",
      "\n",
      " Epoch 6 / 10\n",
      "\n",
      "Evaluating...\n",
      "train_validate() raw_preds tensor([[-0.3547, -1.2085],\n",
      "        [-0.2815, -1.4049],\n",
      "        [-0.1342, -2.0751],\n",
      "        ...,\n",
      "        [-0.1220, -2.1643],\n",
      "        [-0.1413, -2.0269],\n",
      "        [-0.2815, -1.4049]])\n",
      "\n",
      "Training Loss: 0.541\n",
      "\n",
      "Validation Loss: 0.697\n",
      "\n",
      " Epoch 7 / 10\n",
      "\n",
      "Evaluating...\n",
      "train_validate() raw_preds tensor([[-0.2801, -1.4095],\n",
      "        [-0.3054, -1.3350],\n",
      "        [-0.1053, -2.3027],\n",
      "        ...,\n",
      "        [-0.0903, -2.4490],\n",
      "        [-0.1099, -2.2630],\n",
      "        [-0.3054, -1.3350]])\n",
      "\n",
      "Training Loss: 0.521\n",
      "\n",
      "Validation Loss: 0.714\n",
      "\n",
      " Epoch 8 / 10\n",
      "\n",
      "Evaluating...\n",
      "train_validate() raw_preds tensor([[-0.1938, -1.7360],\n",
      "        [-0.3774, -1.1572],\n",
      "        [-0.0796, -2.5705],\n",
      "        ...,\n",
      "        [-0.0681, -2.7210],\n",
      "        [-0.0789, -2.5790],\n",
      "        [-0.3774, -1.1572]])\n",
      "\n",
      "Training Loss: 0.497\n",
      "\n",
      "Validation Loss: 0.754\n",
      "\n",
      " Epoch 9 / 10\n",
      "\n",
      "Evaluating...\n",
      "train_validate() raw_preds tensor([[-0.1656, -1.8798],\n",
      "        [-0.4031, -1.1034],\n",
      "        [-0.0619, -2.8133],\n",
      "        ...,\n",
      "        [-0.0521, -2.9802],\n",
      "        [-0.0656, -2.7575],\n",
      "        [-0.4031, -1.1034]])\n",
      "\n",
      "Training Loss: 0.472\n",
      "\n",
      "Validation Loss: 0.758\n",
      "\n",
      " Epoch 10 / 10\n",
      "\n",
      "Evaluating...\n",
      "train_validate() raw_preds tensor([[-0.1218, -2.1659],\n",
      "        [-0.3526, -1.2136],\n",
      "        [-0.0482, -3.0556],\n",
      "        ...,\n",
      "        [-0.0409, -3.2159],\n",
      "        [-0.0528, -2.9684],\n",
      "        [-0.3526, -1.2136]])\n",
      "\n",
      "Training Loss: 0.447\n",
      "\n",
      "Validation Loss: 0.803\n",
      "0 split train_validate took 9623.93 sec\n",
      "1 split started...\n",
      "BertXYTransformer>>>>>>>transform() called for 70 docs\n",
      "y labels are\n",
      " BertXYTransformer>>>>>>>transform() done for 33535 samples, labels are [0. 1.]\n",
      "BertXYTransformer>>>>>>>transform() called for 10 docs\n",
      "y labels are\n",
      " BertXYTransformer>>>>>>>transform() done for 5246 samples, labels are [0. 1.]\n",
      "BertTrainValidator>>>>>>> init() called\n",
      "BertTrainValidator>>>>>>> train_validate() called\n",
      "Class Weights: [0.6795064  1.89270798]\n",
      "\n",
      " Epoch 1 / 10\n",
      "\n",
      "Evaluating...\n",
      "train_validate() raw_preds tensor([[-0.1585, -1.9203],\n",
      "        [-0.2714, -1.4368],\n",
      "        [-0.1689, -1.8615],\n",
      "        ...,\n",
      "        [-0.1787, -1.8103],\n",
      "        [-0.2560, -1.4879],\n",
      "        [-0.1352, -2.0679]])\n",
      "Saving best model bert\n",
      "\n",
      "Training Loss: 0.557\n",
      "\n",
      "Validation Loss: 0.391\n",
      "\n",
      " Epoch 2 / 10\n",
      "\n",
      "Evaluating...\n",
      "train_validate() raw_preds tensor([[-0.1303, -2.1022],\n",
      "        [-0.2167, -1.6358],\n",
      "        [-0.1236, -2.1516],\n",
      "        ...,\n",
      "        [-0.1549, -1.9414],\n",
      "        [-0.2499, -1.5091],\n",
      "        [-0.0968, -2.3827]])\n",
      "Saving best model bert\n",
      "\n",
      "Training Loss: 0.462\n",
      "\n",
      "Validation Loss: 0.369\n",
      "\n",
      " Epoch 3 / 10\n",
      "\n",
      "Evaluating...\n",
      "train_validate() raw_preds tensor([[-0.1076, -2.2828],\n",
      "        [-0.2066, -1.6784],\n",
      "        [-0.1022, -2.3315],\n",
      "        ...,\n",
      "        [-0.1276, -2.1222],\n",
      "        [-0.2744, -1.4274],\n",
      "        [-0.0795, -2.5711]])\n",
      "Saving best model bert\n",
      "\n",
      "Training Loss: 0.437\n",
      "\n",
      "Validation Loss: 0.359\n",
      "\n",
      " Epoch 4 / 10\n",
      "\n",
      "Evaluating...\n",
      "train_validate() raw_preds tensor([[-0.0872, -2.4824],\n",
      "        [-0.1918, -1.7456],\n",
      "        [-0.0848, -2.5099],\n",
      "        ...,\n",
      "        [-0.0890, -2.4634],\n",
      "        [-0.2639, -1.4611],\n",
      "        [-0.0628, -2.7990]])\n",
      "\n",
      "Training Loss: 0.417\n",
      "\n",
      "Validation Loss: 0.364\n",
      "\n",
      " Epoch 5 / 10\n",
      "\n",
      "Evaluating...\n",
      "train_validate() raw_preds tensor([[-0.0743, -2.6362],\n",
      "        [-0.1795, -1.8060],\n",
      "        [-0.0674, -2.7312],\n",
      "        ...,\n",
      "        [-0.0783, -2.5862],\n",
      "        [-0.2752, -1.4246],\n",
      "        [-0.0497, -3.0271]])\n",
      "\n",
      "Training Loss: 0.386\n",
      "\n",
      "Validation Loss: 0.366\n",
      "\n",
      " Epoch 6 / 10\n",
      "\n",
      "Evaluating...\n",
      "train_validate() raw_preds tensor([[-0.0607, -2.8326],\n",
      "        [-0.1413, -2.0265],\n",
      "        [-0.0530, -2.9641],\n",
      "        ...,\n",
      "        [-0.0517, -2.9871],\n",
      "        [-0.2224, -1.6123],\n",
      "        [-0.0405, -3.2255]])\n",
      "\n",
      "Training Loss: 0.362\n",
      "\n",
      "Validation Loss: 0.375\n",
      "\n",
      " Epoch 7 / 10\n",
      "\n",
      "Evaluating...\n",
      "train_validate() raw_preds tensor([[-0.0554, -2.9215],\n",
      "        [-0.0955, -2.3959],\n",
      "        [-0.0453, -3.1169],\n",
      "        ...,\n",
      "        [-0.0434, -3.1600],\n",
      "        [-0.2525, -1.4998],\n",
      "        [-0.0348, -3.3760]])\n",
      "\n",
      "Training Loss: 0.341\n",
      "\n",
      "Validation Loss: 0.377\n",
      "\n",
      " Epoch 8 / 10\n",
      "\n",
      "Evaluating...\n",
      "train_validate() raw_preds tensor([[-0.0536, -2.9526],\n",
      "        [-0.0935, -2.4159],\n",
      "        [-0.0409, -3.2159],\n",
      "        ...,\n",
      "        [-0.0425, -3.1793],\n",
      "        [-0.2449, -1.5267],\n",
      "        [-0.0316, -3.4703]])\n",
      "\n",
      "Training Loss: 0.322\n",
      "\n",
      "Validation Loss: 0.385\n",
      "\n",
      " Epoch 9 / 10\n",
      "\n",
      "Evaluating...\n",
      "train_validate() raw_preds tensor([[-0.0560, -2.9107],\n",
      "        [-0.0944, -2.4072],\n",
      "        [-0.0351, -3.3672],\n",
      "        ...,\n",
      "        [-0.0343, -3.3893],\n",
      "        [-0.2587, -1.4787],\n",
      "        [-0.0277, -3.6002]])\n",
      "\n",
      "Training Loss: 0.303\n",
      "\n",
      "Validation Loss: 0.405\n",
      "\n",
      " Epoch 10 / 10\n",
      "\n",
      "Evaluating...\n",
      "train_validate() raw_preds tensor([[-0.0444, -3.1368],\n",
      "        [-0.0552, -2.9244],\n",
      "        [-0.0286, -3.5686],\n",
      "        ...,\n",
      "        [-0.0267, -3.6380],\n",
      "        [-0.2490, -1.5123],\n",
      "        [-0.0235, -3.7636]])\n",
      "\n",
      "Training Loss: 0.287\n",
      "\n",
      "Validation Loss: 0.413\n",
      "1 split train_validate took 9447.16 sec\n",
      "2 split started...\n",
      "BertXYTransformer>>>>>>>transform() called for 70 docs\n",
      "y labels are\n",
      " BertXYTransformer>>>>>>>transform() done for 34488 samples, labels are [0. 1.]\n",
      "BertXYTransformer>>>>>>>transform() called for 10 docs\n",
      "y labels are\n",
      " BertXYTransformer>>>>>>>transform() done for 4293 samples, labels are [0. 1.]\n",
      "BertTrainValidator>>>>>>> init() called\n",
      "BertTrainValidator>>>>>>> train_validate() called\n",
      "Class Weights: [0.67775027 1.90646766]\n",
      "\n",
      " Epoch 1 / 10\n",
      "\n",
      "Evaluating...\n",
      "train_validate() raw_preds tensor([[-0.1097, -2.2642],\n",
      "        [-0.1097, -2.2642],\n",
      "        [-0.0934, -2.4169],\n",
      "        ...,\n",
      "        [-0.0927, -2.4245],\n",
      "        [-0.1142, -2.2262],\n",
      "        [-0.1000, -2.3519]])\n",
      "Saving best model bert\n",
      "\n",
      "Training Loss: 0.433\n",
      "\n",
      "Validation Loss: 0.199\n",
      "\n",
      " Epoch 2 / 10\n",
      "\n",
      "Evaluating...\n",
      "train_validate() raw_preds tensor([[-0.0743, -2.6360],\n",
      "        [-0.0743, -2.6360],\n",
      "        [-0.0466, -3.0896],\n",
      "        ...,\n",
      "        [-0.0476, -3.0696],\n",
      "        [-0.0629, -2.7970],\n",
      "        [-0.0517, -2.9879]])\n",
      "Saving best model bert\n",
      "\n",
      "Training Loss: 0.303\n",
      "\n",
      "Validation Loss: 0.175\n",
      "\n",
      " Epoch 3 / 10\n",
      "\n",
      "Evaluating...\n",
      "train_validate() raw_preds tensor([[-0.0718, -2.6692],\n",
      "        [-0.0718, -2.6692],\n",
      "        [-0.0338, -3.4044],\n",
      "        ...,\n",
      "        [-0.0348, -3.3758],\n",
      "        [-0.0484, -3.0534],\n",
      "        [-0.0376, -3.2995]])\n",
      "\n",
      "Training Loss: 0.279\n",
      "\n",
      "Validation Loss: 0.180\n",
      "\n",
      " Epoch 4 / 10\n",
      "\n",
      "Evaluating...\n"
     ]
    },
    {
     "name": "stdout",
     "output_type": "stream",
     "text": [
      "train_validate() raw_preds tensor([[-0.0661, -2.7488],\n",
      "        [-0.0661, -2.7488],\n",
      "        [-0.0263, -3.6512],\n",
      "        ...,\n",
      "        [-0.0275, -3.6072],\n",
      "        [-0.0395, -3.2506],\n",
      "        [-0.0296, -3.5357]])\n",
      "\n",
      "Training Loss: 0.263\n",
      "\n",
      "Validation Loss: 0.179\n",
      "\n",
      " Epoch 5 / 10\n",
      "\n",
      "Evaluating...\n",
      "train_validate() raw_preds tensor([[-0.0739, -2.6416],\n",
      "        [-0.0739, -2.6416],\n",
      "        [-0.0233, -3.7713],\n",
      "        ...,\n",
      "        [-0.0243, -3.7283],\n",
      "        [-0.0279, -3.5928],\n",
      "        [-0.0258, -3.6699]])\n",
      "\n",
      "Training Loss: 0.248\n",
      "\n",
      "Validation Loss: 0.181\n",
      "\n",
      " Epoch 6 / 10\n",
      "\n",
      "Evaluating...\n",
      "train_validate() raw_preds tensor([[-0.0699, -2.6949],\n",
      "        [-0.0699, -2.6949],\n",
      "        [-0.0201, -3.9147],\n",
      "        ...,\n",
      "        [-0.0212, -3.8663],\n",
      "        [-0.0238, -3.7514],\n",
      "        [-0.0222, -3.8203]])\n",
      "\n",
      "Training Loss: 0.240\n",
      "\n",
      "Validation Loss: 0.187\n",
      "\n",
      " Epoch 7 / 10\n",
      "\n",
      "Evaluating...\n",
      "train_validate() raw_preds tensor([[-0.0637, -2.7849],\n",
      "        [-0.0637, -2.7849],\n",
      "        [-0.0173, -4.0653],\n",
      "        ...,\n",
      "        [-0.0180, -4.0260],\n",
      "        [-0.0190, -3.9744],\n",
      "        [-0.0193, -3.9585]])\n",
      "\n",
      "Training Loss: 0.229\n",
      "\n",
      "Validation Loss: 0.193\n",
      "\n",
      " Epoch 8 / 10\n",
      "\n",
      "Evaluating...\n",
      "train_validate() raw_preds tensor([[-0.0709, -2.6816],\n",
      "        [-0.0709, -2.6816],\n",
      "        [-0.0158, -4.1576],\n",
      "        ...,\n",
      "        [-0.0168, -4.0936],\n",
      "        [-0.0202, -3.9098],\n",
      "        [-0.0173, -4.0665]])\n",
      "\n",
      "Training Loss: 0.219\n",
      "\n",
      "Validation Loss: 0.194\n",
      "\n",
      " Epoch 9 / 10\n",
      "\n",
      "Evaluating...\n",
      "train_validate() raw_preds tensor([[-0.0664, -2.7450],\n",
      "        [-0.0664, -2.7450],\n",
      "        [-0.0139, -4.2813],\n",
      "        ...,\n",
      "        [-0.0149, -4.2140],\n",
      "        [-0.0176, -4.0489],\n",
      "        [-0.0153, -4.1890]])\n",
      "\n",
      "Training Loss: 0.218\n",
      "\n",
      "Validation Loss: 0.204\n",
      "\n",
      " Epoch 10 / 10\n",
      "\n",
      "Evaluating...\n",
      "train_validate() raw_preds tensor([[-0.0846, -2.5114],\n",
      "        [-0.0846, -2.5114],\n",
      "        [-0.0137, -4.2966],\n",
      "        ...,\n",
      "        [-0.0146, -4.2350],\n",
      "        [-0.0163, -4.1250],\n",
      "        [-0.0150, -4.2097]])\n",
      "\n",
      "Training Loss: 0.219\n",
      "\n",
      "Validation Loss: 0.216\n",
      "2 split train_validate took 9622.53 sec\n"
     ]
    }
   ],
   "source": [
    "imp.reload(my_bert)\n",
    "bert_cv=pd.DataFrame()\n",
    "cv_db_bert=my_bert.prepared_cross_validate_bert(bert_cv,docs_map, cv_splits)"
   ]
  },
  {
   "cell_type": "code",
   "execution_count": 119,
   "id": "31afed05",
   "metadata": {},
   "outputs": [
    {
     "data": {
      "text/html": [
       "<div>\n",
       "<style scoped>\n",
       "    .dataframe tbody tr th:only-of-type {\n",
       "        vertical-align: middle;\n",
       "    }\n",
       "\n",
       "    .dataframe tbody tr th {\n",
       "        vertical-align: top;\n",
       "    }\n",
       "\n",
       "    .dataframe thead th {\n",
       "        text-align: right;\n",
       "    }\n",
       "</style>\n",
       "<table border=\"1\" class=\"dataframe\">\n",
       "  <thead>\n",
       "    <tr style=\"text-align: right;\">\n",
       "      <th></th>\n",
       "      <th>bert_group</th>\n",
       "      <th>bert_split</th>\n",
       "      <th>bert_predicted</th>\n",
       "      <th>bert_true</th>\n",
       "      <th>bert_proba_0</th>\n",
       "      <th>bert_proba_1</th>\n",
       "    </tr>\n",
       "  </thead>\n",
       "  <tbody>\n",
       "    <tr>\n",
       "      <th>0</th>\n",
       "      <td>1</td>\n",
       "      <td>0</td>\n",
       "      <td>0</td>\n",
       "      <td>0</td>\n",
       "      <td>0.526763</td>\n",
       "      <td>0.473237</td>\n",
       "    </tr>\n",
       "    <tr>\n",
       "      <th>1</th>\n",
       "      <td>1</td>\n",
       "      <td>0</td>\n",
       "      <td>0</td>\n",
       "      <td>0</td>\n",
       "      <td>0.782847</td>\n",
       "      <td>0.217153</td>\n",
       "    </tr>\n",
       "    <tr>\n",
       "      <th>2</th>\n",
       "      <td>1</td>\n",
       "      <td>0</td>\n",
       "      <td>0</td>\n",
       "      <td>0</td>\n",
       "      <td>0.791494</td>\n",
       "      <td>0.208506</td>\n",
       "    </tr>\n",
       "    <tr>\n",
       "      <th>3</th>\n",
       "      <td>1</td>\n",
       "      <td>0</td>\n",
       "      <td>0</td>\n",
       "      <td>0</td>\n",
       "      <td>0.674561</td>\n",
       "      <td>0.325439</td>\n",
       "    </tr>\n",
       "    <tr>\n",
       "      <th>4</th>\n",
       "      <td>1</td>\n",
       "      <td>0</td>\n",
       "      <td>0</td>\n",
       "      <td>0</td>\n",
       "      <td>0.527963</td>\n",
       "      <td>0.472037</td>\n",
       "    </tr>\n",
       "    <tr>\n",
       "      <th>...</th>\n",
       "      <td>...</td>\n",
       "      <td>...</td>\n",
       "      <td>...</td>\n",
       "      <td>...</td>\n",
       "      <td>...</td>\n",
       "      <td>...</td>\n",
       "    </tr>\n",
       "    <tr>\n",
       "      <th>14585</th>\n",
       "      <td>77</td>\n",
       "      <td>2</td>\n",
       "      <td>0</td>\n",
       "      <td>0</td>\n",
       "      <td>0.713230</td>\n",
       "      <td>0.286770</td>\n",
       "    </tr>\n",
       "    <tr>\n",
       "      <th>14586</th>\n",
       "      <td>77</td>\n",
       "      <td>2</td>\n",
       "      <td>0</td>\n",
       "      <td>0</td>\n",
       "      <td>0.945393</td>\n",
       "      <td>0.054607</td>\n",
       "    </tr>\n",
       "    <tr>\n",
       "      <th>14587</th>\n",
       "      <td>77</td>\n",
       "      <td>2</td>\n",
       "      <td>0</td>\n",
       "      <td>0</td>\n",
       "      <td>0.953558</td>\n",
       "      <td>0.046442</td>\n",
       "    </tr>\n",
       "    <tr>\n",
       "      <th>14588</th>\n",
       "      <td>77</td>\n",
       "      <td>2</td>\n",
       "      <td>0</td>\n",
       "      <td>0</td>\n",
       "      <td>0.939007</td>\n",
       "      <td>0.060993</td>\n",
       "    </tr>\n",
       "    <tr>\n",
       "      <th>14589</th>\n",
       "      <td>77</td>\n",
       "      <td>2</td>\n",
       "      <td>0</td>\n",
       "      <td>0</td>\n",
       "      <td>0.949609</td>\n",
       "      <td>0.050391</td>\n",
       "    </tr>\n",
       "  </tbody>\n",
       "</table>\n",
       "<p>14590 rows × 6 columns</p>\n",
       "</div>"
      ],
      "text/plain": [
       "       bert_group  bert_split  bert_predicted  bert_true  bert_proba_0  \\\n",
       "0               1           0               0          0      0.526763   \n",
       "1               1           0               0          0      0.782847   \n",
       "2               1           0               0          0      0.791494   \n",
       "3               1           0               0          0      0.674561   \n",
       "4               1           0               0          0      0.527963   \n",
       "...           ...         ...             ...        ...           ...   \n",
       "14585          77           2               0          0      0.713230   \n",
       "14586          77           2               0          0      0.945393   \n",
       "14587          77           2               0          0      0.953558   \n",
       "14588          77           2               0          0      0.939007   \n",
       "14589          77           2               0          0      0.949609   \n",
       "\n",
       "       bert_proba_1  \n",
       "0          0.473237  \n",
       "1          0.217153  \n",
       "2          0.208506  \n",
       "3          0.325439  \n",
       "4          0.472037  \n",
       "...             ...  \n",
       "14585      0.286770  \n",
       "14586      0.054607  \n",
       "14587      0.046442  \n",
       "14588      0.060993  \n",
       "14589      0.050391  \n",
       "\n",
       "[14590 rows x 6 columns]"
      ]
     },
     "execution_count": 119,
     "metadata": {},
     "output_type": "execute_result"
    }
   ],
   "source": [
    "cv_db_bert"
   ]
  },
  {
   "cell_type": "code",
   "execution_count": 123,
   "id": "97256849",
   "metadata": {},
   "outputs": [
    {
     "name": "stdout",
     "output_type": "stream",
     "text": [
      "Saving /scratch/sim_reg6/users/zsofya/classroom/MSc/personal_study/thesis/dataframes/reparse/cv_bert.csv,  index False\n"
     ]
    }
   ],
   "source": [
    "imp.reload(common_utils)\n",
    "common_utils.save_db(cv_db_bert,dir_name,\"cv_bert\")"
   ]
  },
  {
   "cell_type": "code",
   "execution_count": 124,
   "id": "b0bb6533",
   "metadata": {},
   "outputs": [
    {
     "name": "stdout",
     "output_type": "stream",
     "text": [
      "\u001b[1m\u001b[46mSplit 0\u001b[0m\n",
      "              precision    recall  f1-score   support\n",
      "\n",
      "           0       0.76      0.89      0.82      3354\n",
      "           1       0.67      0.45      0.54      1697\n",
      "\n",
      "    accuracy                           0.74      5051\n",
      "   macro avg       0.72      0.67      0.68      5051\n",
      "weighted avg       0.73      0.74      0.73      5051\n",
      "\n",
      "\u001b[1m\u001b[46mSplit 1\u001b[0m\n",
      "              precision    recall  f1-score   support\n",
      "\n",
      "           0       0.93      0.92      0.92      4088\n",
      "           1       0.72      0.75      0.73      1158\n",
      "\n",
      "    accuracy                           0.88      5246\n",
      "   macro avg       0.82      0.83      0.83      5246\n",
      "weighted avg       0.88      0.88      0.88      5246\n",
      "\n",
      "\u001b[1m\u001b[46mSplit 2\u001b[0m\n",
      "              precision    recall  f1-score   support\n",
      "\n",
      "           0       0.98      0.96      0.97      3321\n",
      "           1       0.86      0.92      0.89       972\n",
      "\n",
      "    accuracy                           0.95      4293\n",
      "   macro avg       0.92      0.94      0.93      4293\n",
      "weighted avg       0.95      0.95      0.95      4293\n",
      "\n"
     ]
    },
    {
     "data": {
      "image/png": "[encoded data removed]",
      "text/plain": [
       "<Figure size 432x288 with 2 Axes>"
      ]
     },
     "metadata": {
      "needs_background": "light"
     },
     "output_type": "display_data"
    },
    {
     "data": {
      "image/png": "[encoded data removed]",
      "text/plain": [
       "<Figure size 432x288 with 2 Axes>"
      ]
     },
     "metadata": {
      "needs_background": "light"
     },
     "output_type": "display_data"
    },
    {
     "data": {
      "image/png": "[encoded data removed]",
      "text/plain": [
       "<Figure size 432x288 with 2 Axes>"
      ]
     },
     "metadata": {
      "needs_background": "light"
     },
     "output_type": "display_data"
    }
   ],
   "source": [
    "model_utils.get_report_from_splits(cv_db_bert,\"bert\")"
   ]
  },
  {
   "cell_type": "markdown",
   "id": "9b704fce",
   "metadata": {},
   "source": [
    "### Merge BERT and CRF predictions"
   ]
  },
  {
   "cell_type": "code",
   "execution_count": 162,
   "id": "5432bd68",
   "metadata": {},
   "outputs": [
    {
     "data": {
      "text/html": [
       "<div>\n",
       "<style scoped>\n",
       "    .dataframe tbody tr th:only-of-type {\n",
       "        vertical-align: middle;\n",
       "    }\n",
       "\n",
       "    .dataframe tbody tr th {\n",
       "        vertical-align: top;\n",
       "    }\n",
       "\n",
       "    .dataframe thead th {\n",
       "        text-align: right;\n",
       "    }\n",
       "</style>\n",
       "<table border=\"1\" class=\"dataframe\">\n",
       "  <thead>\n",
       "    <tr style=\"text-align: right;\">\n",
       "      <th></th>\n",
       "      <th>crf</th>\n",
       "      <th>bert</th>\n",
       "    </tr>\n",
       "    <tr>\n",
       "      <th>crf_group</th>\n",
       "      <th></th>\n",
       "      <th></th>\n",
       "    </tr>\n",
       "  </thead>\n",
       "  <tbody>\n",
       "    <tr>\n",
       "      <th>1</th>\n",
       "      <td>613</td>\n",
       "      <td>613</td>\n",
       "    </tr>\n",
       "    <tr>\n",
       "      <th>6</th>\n",
       "      <td>810</td>\n",
       "      <td>810</td>\n",
       "    </tr>\n",
       "    <tr>\n",
       "      <th>8</th>\n",
       "      <td>399</td>\n",
       "      <td>399</td>\n",
       "    </tr>\n",
       "    <tr>\n",
       "      <th>12</th>\n",
       "      <td>741</td>\n",
       "      <td>741</td>\n",
       "    </tr>\n",
       "    <tr>\n",
       "      <th>13</th>\n",
       "      <td>750</td>\n",
       "      <td>750</td>\n",
       "    </tr>\n",
       "    <tr>\n",
       "      <th>14</th>\n",
       "      <td>668</td>\n",
       "      <td>668</td>\n",
       "    </tr>\n",
       "    <tr>\n",
       "      <th>19</th>\n",
       "      <td>353</td>\n",
       "      <td>353</td>\n",
       "    </tr>\n",
       "    <tr>\n",
       "      <th>20</th>\n",
       "      <td>426</td>\n",
       "      <td>426</td>\n",
       "    </tr>\n",
       "    <tr>\n",
       "      <th>21</th>\n",
       "      <td>585</td>\n",
       "      <td>585</td>\n",
       "    </tr>\n",
       "    <tr>\n",
       "      <th>24</th>\n",
       "      <td>667</td>\n",
       "      <td>667</td>\n",
       "    </tr>\n",
       "    <tr>\n",
       "      <th>25</th>\n",
       "      <td>469</td>\n",
       "      <td>469</td>\n",
       "    </tr>\n",
       "    <tr>\n",
       "      <th>28</th>\n",
       "      <td>554</td>\n",
       "      <td>554</td>\n",
       "    </tr>\n",
       "    <tr>\n",
       "      <th>34</th>\n",
       "      <td>378</td>\n",
       "      <td>378</td>\n",
       "    </tr>\n",
       "    <tr>\n",
       "      <th>35</th>\n",
       "      <td>481</td>\n",
       "      <td>481</td>\n",
       "    </tr>\n",
       "    <tr>\n",
       "      <th>36</th>\n",
       "      <td>165</td>\n",
       "      <td>165</td>\n",
       "    </tr>\n",
       "    <tr>\n",
       "      <th>37</th>\n",
       "      <td>180</td>\n",
       "      <td>180</td>\n",
       "    </tr>\n",
       "    <tr>\n",
       "      <th>40</th>\n",
       "      <td>219</td>\n",
       "      <td>219</td>\n",
       "    </tr>\n",
       "    <tr>\n",
       "      <th>41</th>\n",
       "      <td>190</td>\n",
       "      <td>190</td>\n",
       "    </tr>\n",
       "    <tr>\n",
       "      <th>44</th>\n",
       "      <td>534</td>\n",
       "      <td>534</td>\n",
       "    </tr>\n",
       "    <tr>\n",
       "      <th>45</th>\n",
       "      <td>246</td>\n",
       "      <td>246</td>\n",
       "    </tr>\n",
       "    <tr>\n",
       "      <th>46</th>\n",
       "      <td>266</td>\n",
       "      <td>266</td>\n",
       "    </tr>\n",
       "    <tr>\n",
       "      <th>49</th>\n",
       "      <td>299</td>\n",
       "      <td>299</td>\n",
       "    </tr>\n",
       "    <tr>\n",
       "      <th>54</th>\n",
       "      <td>554</td>\n",
       "      <td>554</td>\n",
       "    </tr>\n",
       "    <tr>\n",
       "      <th>55</th>\n",
       "      <td>341</td>\n",
       "      <td>341</td>\n",
       "    </tr>\n",
       "    <tr>\n",
       "      <th>59</th>\n",
       "      <td>664</td>\n",
       "      <td>664</td>\n",
       "    </tr>\n",
       "    <tr>\n",
       "      <th>60</th>\n",
       "      <td>457</td>\n",
       "      <td>457</td>\n",
       "    </tr>\n",
       "    <tr>\n",
       "      <th>65</th>\n",
       "      <td>682</td>\n",
       "      <td>682</td>\n",
       "    </tr>\n",
       "    <tr>\n",
       "      <th>69</th>\n",
       "      <td>985</td>\n",
       "      <td>985</td>\n",
       "    </tr>\n",
       "    <tr>\n",
       "      <th>76</th>\n",
       "      <td>475</td>\n",
       "      <td>475</td>\n",
       "    </tr>\n",
       "    <tr>\n",
       "      <th>77</th>\n",
       "      <td>439</td>\n",
       "      <td>439</td>\n",
       "    </tr>\n",
       "  </tbody>\n",
       "</table>\n",
       "</div>"
      ],
      "text/plain": [
       "           crf  bert\n",
       "crf_group           \n",
       "1          613   613\n",
       "6          810   810\n",
       "8          399   399\n",
       "12         741   741\n",
       "13         750   750\n",
       "14         668   668\n",
       "19         353   353\n",
       "20         426   426\n",
       "21         585   585\n",
       "24         667   667\n",
       "25         469   469\n",
       "28         554   554\n",
       "34         378   378\n",
       "35         481   481\n",
       "36         165   165\n",
       "37         180   180\n",
       "40         219   219\n",
       "41         190   190\n",
       "44         534   534\n",
       "45         246   246\n",
       "46         266   266\n",
       "49         299   299\n",
       "54         554   554\n",
       "55         341   341\n",
       "59         664   664\n",
       "60         457   457\n",
       "65         682   682\n",
       "69         985   985\n",
       "76         475   475\n",
       "77         439   439"
      ]
     },
     "execution_count": 162,
     "metadata": {},
     "output_type": "execute_result"
    }
   ],
   "source": [
    "doc_size_db=pd.DataFrame()\n",
    "doc_size_db['crf']=cv_db_crf.groupby('crf_group').size()\n",
    "doc_size_db['bert']=cv_db_bert.groupby('bert_group').size()\n",
    "doc_size_db"
   ]
  },
  {
   "cell_type": "code",
   "execution_count": 133,
   "id": "fd6e4b5e",
   "metadata": {},
   "outputs": [
    {
     "name": "stdout",
     "output_type": "stream",
     "text": [
      "<class 'pandas.core.frame.DataFrame'>\n",
      "RangeIndex: 14590 entries, 0 to 14589\n",
      "Data columns (total 6 columns):\n",
      " #   Column         Non-Null Count  Dtype  \n",
      "---  ------         --------------  -----  \n",
      " 0   crf_group      14590 non-null  int64  \n",
      " 1   crf_split      14590 non-null  int64  \n",
      " 2   crf_predicted  14590 non-null  object \n",
      " 3   crf_true       14590 non-null  object \n",
      " 4   crf_proba_0    14590 non-null  float64\n",
      " 5   crf_proba_1    14590 non-null  float64\n",
      "dtypes: float64(2), int64(2), object(2)\n",
      "memory usage: 684.0+ KB\n"
     ]
    }
   ],
   "source": [
    "cv_db_crf.info()"
   ]
  },
  {
   "cell_type": "code",
   "execution_count": 131,
   "id": "de208577",
   "metadata": {},
   "outputs": [
    {
     "name": "stdout",
     "output_type": "stream",
     "text": [
      "<class 'pandas.core.frame.DataFrame'>\n",
      "RangeIndex: 14590 entries, 0 to 14589\n",
      "Data columns (total 6 columns):\n",
      " #   Column          Non-Null Count  Dtype  \n",
      "---  ------          --------------  -----  \n",
      " 0   bert_group      14590 non-null  int64  \n",
      " 1   bert_split      14590 non-null  int64  \n",
      " 2   bert_predicted  14590 non-null  int64  \n",
      " 3   bert_true       14590 non-null  int64  \n",
      " 4   bert_proba_0    14590 non-null  float32\n",
      " 5   bert_proba_1    14590 non-null  float32\n",
      "dtypes: float32(2), int64(4)\n",
      "memory usage: 570.0 KB\n"
     ]
    }
   ],
   "source": [
    "cv_db_bert.info()"
   ]
  },
  {
   "cell_type": "code",
   "execution_count": 163,
   "id": "7a890d70",
   "metadata": {},
   "outputs": [
    {
     "data": {
      "text/html": [
       "<div>\n",
       "<style scoped>\n",
       "    .dataframe tbody tr th:only-of-type {\n",
       "        vertical-align: middle;\n",
       "    }\n",
       "\n",
       "    .dataframe tbody tr th {\n",
       "        vertical-align: top;\n",
       "    }\n",
       "\n",
       "    .dataframe thead th {\n",
       "        text-align: right;\n",
       "    }\n",
       "</style>\n",
       "<table border=\"1\" class=\"dataframe\">\n",
       "  <thead>\n",
       "    <tr style=\"text-align: right;\">\n",
       "      <th></th>\n",
       "      <th>crf_group</th>\n",
       "      <th>crf_split</th>\n",
       "      <th>crf_predicted</th>\n",
       "      <th>crf_true</th>\n",
       "      <th>crf_proba_0</th>\n",
       "      <th>crf_proba_1</th>\n",
       "      <th>bert_group</th>\n",
       "      <th>bert_split</th>\n",
       "      <th>bert_predicted</th>\n",
       "      <th>bert_true</th>\n",
       "      <th>bert_proba_0</th>\n",
       "      <th>bert_proba_1</th>\n",
       "    </tr>\n",
       "  </thead>\n",
       "  <tbody>\n",
       "    <tr>\n",
       "      <th>0</th>\n",
       "      <td>1</td>\n",
       "      <td>0</td>\n",
       "      <td>not_nar</td>\n",
       "      <td>not_nar</td>\n",
       "      <td>0.927267</td>\n",
       "      <td>0.072733</td>\n",
       "      <td>1</td>\n",
       "      <td>0</td>\n",
       "      <td>0</td>\n",
       "      <td>0</td>\n",
       "      <td>0.526763</td>\n",
       "      <td>0.473237</td>\n",
       "    </tr>\n",
       "    <tr>\n",
       "      <th>1</th>\n",
       "      <td>1</td>\n",
       "      <td>0</td>\n",
       "      <td>not_nar</td>\n",
       "      <td>not_nar</td>\n",
       "      <td>0.970439</td>\n",
       "      <td>0.029561</td>\n",
       "      <td>1</td>\n",
       "      <td>0</td>\n",
       "      <td>0</td>\n",
       "      <td>0</td>\n",
       "      <td>0.782847</td>\n",
       "      <td>0.217153</td>\n",
       "    </tr>\n",
       "    <tr>\n",
       "      <th>2</th>\n",
       "      <td>1</td>\n",
       "      <td>0</td>\n",
       "      <td>not_nar</td>\n",
       "      <td>not_nar</td>\n",
       "      <td>0.984975</td>\n",
       "      <td>0.015025</td>\n",
       "      <td>1</td>\n",
       "      <td>0</td>\n",
       "      <td>0</td>\n",
       "      <td>0</td>\n",
       "      <td>0.791494</td>\n",
       "      <td>0.208506</td>\n",
       "    </tr>\n",
       "    <tr>\n",
       "      <th>3</th>\n",
       "      <td>1</td>\n",
       "      <td>0</td>\n",
       "      <td>not_nar</td>\n",
       "      <td>not_nar</td>\n",
       "      <td>0.840957</td>\n",
       "      <td>0.159043</td>\n",
       "      <td>1</td>\n",
       "      <td>0</td>\n",
       "      <td>0</td>\n",
       "      <td>0</td>\n",
       "      <td>0.674561</td>\n",
       "      <td>0.325439</td>\n",
       "    </tr>\n",
       "    <tr>\n",
       "      <th>4</th>\n",
       "      <td>1</td>\n",
       "      <td>0</td>\n",
       "      <td>not_nar</td>\n",
       "      <td>not_nar</td>\n",
       "      <td>0.860823</td>\n",
       "      <td>0.139177</td>\n",
       "      <td>1</td>\n",
       "      <td>0</td>\n",
       "      <td>0</td>\n",
       "      <td>0</td>\n",
       "      <td>0.527963</td>\n",
       "      <td>0.472037</td>\n",
       "    </tr>\n",
       "    <tr>\n",
       "      <th>...</th>\n",
       "      <td>...</td>\n",
       "      <td>...</td>\n",
       "      <td>...</td>\n",
       "      <td>...</td>\n",
       "      <td>...</td>\n",
       "      <td>...</td>\n",
       "      <td>...</td>\n",
       "      <td>...</td>\n",
       "      <td>...</td>\n",
       "      <td>...</td>\n",
       "      <td>...</td>\n",
       "      <td>...</td>\n",
       "    </tr>\n",
       "    <tr>\n",
       "      <th>14585</th>\n",
       "      <td>77</td>\n",
       "      <td>2</td>\n",
       "      <td>not_nar</td>\n",
       "      <td>not_nar</td>\n",
       "      <td>0.980402</td>\n",
       "      <td>0.019598</td>\n",
       "      <td>77</td>\n",
       "      <td>2</td>\n",
       "      <td>0</td>\n",
       "      <td>0</td>\n",
       "      <td>0.713230</td>\n",
       "      <td>0.286770</td>\n",
       "    </tr>\n",
       "    <tr>\n",
       "      <th>14586</th>\n",
       "      <td>77</td>\n",
       "      <td>2</td>\n",
       "      <td>not_nar</td>\n",
       "      <td>not_nar</td>\n",
       "      <td>0.984651</td>\n",
       "      <td>0.015349</td>\n",
       "      <td>77</td>\n",
       "      <td>2</td>\n",
       "      <td>0</td>\n",
       "      <td>0</td>\n",
       "      <td>0.945393</td>\n",
       "      <td>0.054607</td>\n",
       "    </tr>\n",
       "    <tr>\n",
       "      <th>14587</th>\n",
       "      <td>77</td>\n",
       "      <td>2</td>\n",
       "      <td>not_nar</td>\n",
       "      <td>not_nar</td>\n",
       "      <td>0.974347</td>\n",
       "      <td>0.025653</td>\n",
       "      <td>77</td>\n",
       "      <td>2</td>\n",
       "      <td>0</td>\n",
       "      <td>0</td>\n",
       "      <td>0.953558</td>\n",
       "      <td>0.046442</td>\n",
       "    </tr>\n",
       "    <tr>\n",
       "      <th>14588</th>\n",
       "      <td>77</td>\n",
       "      <td>2</td>\n",
       "      <td>not_nar</td>\n",
       "      <td>not_nar</td>\n",
       "      <td>0.975137</td>\n",
       "      <td>0.024863</td>\n",
       "      <td>77</td>\n",
       "      <td>2</td>\n",
       "      <td>0</td>\n",
       "      <td>0</td>\n",
       "      <td>0.939007</td>\n",
       "      <td>0.060993</td>\n",
       "    </tr>\n",
       "    <tr>\n",
       "      <th>14589</th>\n",
       "      <td>77</td>\n",
       "      <td>2</td>\n",
       "      <td>not_nar</td>\n",
       "      <td>not_nar</td>\n",
       "      <td>0.979662</td>\n",
       "      <td>0.020338</td>\n",
       "      <td>77</td>\n",
       "      <td>2</td>\n",
       "      <td>0</td>\n",
       "      <td>0</td>\n",
       "      <td>0.949609</td>\n",
       "      <td>0.050391</td>\n",
       "    </tr>\n",
       "  </tbody>\n",
       "</table>\n",
       "<p>14590 rows × 12 columns</p>\n",
       "</div>"
      ],
      "text/plain": [
       "       crf_group  crf_split crf_predicted crf_true  crf_proba_0  crf_proba_1  \\\n",
       "0              1          0       not_nar  not_nar     0.927267     0.072733   \n",
       "1              1          0       not_nar  not_nar     0.970439     0.029561   \n",
       "2              1          0       not_nar  not_nar     0.984975     0.015025   \n",
       "3              1          0       not_nar  not_nar     0.840957     0.159043   \n",
       "4              1          0       not_nar  not_nar     0.860823     0.139177   \n",
       "...          ...        ...           ...      ...          ...          ...   \n",
       "14585         77          2       not_nar  not_nar     0.980402     0.019598   \n",
       "14586         77          2       not_nar  not_nar     0.984651     0.015349   \n",
       "14587         77          2       not_nar  not_nar     0.974347     0.025653   \n",
       "14588         77          2       not_nar  not_nar     0.975137     0.024863   \n",
       "14589         77          2       not_nar  not_nar     0.979662     0.020338   \n",
       "\n",
       "       bert_group  bert_split  bert_predicted  bert_true  bert_proba_0  \\\n",
       "0               1           0               0          0      0.526763   \n",
       "1               1           0               0          0      0.782847   \n",
       "2               1           0               0          0      0.791494   \n",
       "3               1           0               0          0      0.674561   \n",
       "4               1           0               0          0      0.527963   \n",
       "...           ...         ...             ...        ...           ...   \n",
       "14585          77           2               0          0      0.713230   \n",
       "14586          77           2               0          0      0.945393   \n",
       "14587          77           2               0          0      0.953558   \n",
       "14588          77           2               0          0      0.939007   \n",
       "14589          77           2               0          0      0.949609   \n",
       "\n",
       "       bert_proba_1  \n",
       "0          0.473237  \n",
       "1          0.217153  \n",
       "2          0.208506  \n",
       "3          0.325439  \n",
       "4          0.472037  \n",
       "...             ...  \n",
       "14585      0.286770  \n",
       "14586      0.054607  \n",
       "14587      0.046442  \n",
       "14588      0.060993  \n",
       "14589      0.050391  \n",
       "\n",
       "[14590 rows x 12 columns]"
      ]
     },
     "execution_count": 163,
     "metadata": {},
     "output_type": "execute_result"
    }
   ],
   "source": [
    "merged_cv_db=pd.merge(cv_db_crf,cv_db_bert,left_index=True,right_index=True,validate='one_to_one')\n",
    "merged_cv_db"
   ]
  },
  {
   "cell_type": "markdown",
   "id": "daf302f7",
   "metadata": {},
   "source": [
    "### Check that merge is correct"
   ]
  },
  {
   "cell_type": "code",
   "execution_count": 185,
   "id": "73f61b5c",
   "metadata": {},
   "outputs": [
    {
     "data": {
      "text/html": [
       "<div>\n",
       "<style scoped>\n",
       "    .dataframe tbody tr th:only-of-type {\n",
       "        vertical-align: middle;\n",
       "    }\n",
       "\n",
       "    .dataframe tbody tr th {\n",
       "        vertical-align: top;\n",
       "    }\n",
       "\n",
       "    .dataframe thead th {\n",
       "        text-align: right;\n",
       "    }\n",
       "</style>\n",
       "<table border=\"1\" class=\"dataframe\">\n",
       "  <thead>\n",
       "    <tr style=\"text-align: right;\">\n",
       "      <th></th>\n",
       "      <th>crf_group</th>\n",
       "      <th>crf_split</th>\n",
       "      <th>crf_predicted</th>\n",
       "      <th>crf_true</th>\n",
       "      <th>crf_proba_0</th>\n",
       "      <th>crf_proba_1</th>\n",
       "      <th>bert_group</th>\n",
       "      <th>bert_split</th>\n",
       "      <th>bert_predicted</th>\n",
       "      <th>bert_true</th>\n",
       "      <th>bert_proba_0</th>\n",
       "      <th>bert_proba_1</th>\n",
       "    </tr>\n",
       "  </thead>\n",
       "  <tbody>\n",
       "  </tbody>\n",
       "</table>\n",
       "</div>"
      ],
      "text/plain": [
       "Empty DataFrame\n",
       "Columns: [crf_group, crf_split, crf_predicted, crf_true, crf_proba_0, crf_proba_1, bert_group, bert_split, bert_predicted, bert_true, bert_proba_0, bert_proba_1]\n",
       "Index: []"
      ]
     },
     "execution_count": 185,
     "metadata": {},
     "output_type": "execute_result"
    }
   ],
   "source": [
    "neg_label='not_nar'\n",
    "merged_cv_db.query('crf_true==@neg_label and bert_true==1')"
   ]
  },
  {
   "cell_type": "code",
   "execution_count": 187,
   "id": "1bee6471",
   "metadata": {},
   "outputs": [
    {
     "data": {
      "text/html": [
       "<div>\n",
       "<style scoped>\n",
       "    .dataframe tbody tr th:only-of-type {\n",
       "        vertical-align: middle;\n",
       "    }\n",
       "\n",
       "    .dataframe tbody tr th {\n",
       "        vertical-align: top;\n",
       "    }\n",
       "\n",
       "    .dataframe thead th {\n",
       "        text-align: right;\n",
       "    }\n",
       "</style>\n",
       "<table border=\"1\" class=\"dataframe\">\n",
       "  <thead>\n",
       "    <tr style=\"text-align: right;\">\n",
       "      <th></th>\n",
       "      <th>crf_group</th>\n",
       "      <th>crf_split</th>\n",
       "      <th>crf_predicted</th>\n",
       "      <th>crf_true</th>\n",
       "      <th>crf_proba_0</th>\n",
       "      <th>crf_proba_1</th>\n",
       "      <th>bert_group</th>\n",
       "      <th>bert_split</th>\n",
       "      <th>bert_predicted</th>\n",
       "      <th>bert_true</th>\n",
       "      <th>bert_proba_0</th>\n",
       "      <th>bert_proba_1</th>\n",
       "    </tr>\n",
       "  </thead>\n",
       "  <tbody>\n",
       "  </tbody>\n",
       "</table>\n",
       "</div>"
      ],
      "text/plain": [
       "Empty DataFrame\n",
       "Columns: [crf_group, crf_split, crf_predicted, crf_true, crf_proba_0, crf_proba_1, bert_group, bert_split, bert_predicted, bert_true, bert_proba_0, bert_proba_1]\n",
       "Index: []"
      ]
     },
     "execution_count": 187,
     "metadata": {},
     "output_type": "execute_result"
    }
   ],
   "source": [
    "neg_label='not_nar'\n",
    "merged_cv_db.query('crf_group!=bert_group')"
   ]
  },
  {
   "cell_type": "markdown",
   "id": "c48d6413",
   "metadata": {},
   "source": [
    "### Run classifier on inputs from BERT and CRF proba"
   ]
  },
  {
   "cell_type": "code",
   "execution_count": 173,
   "id": "6cc8a927",
   "metadata": {},
   "outputs": [
    {
     "data": {
      "text/plain": [
       "(   crf_proba_0  crf_proba_1  bert_proba_0  bert_proba_1\n",
       " 0     0.927267     0.072733      0.526763      0.473237\n",
       " 1     0.970439     0.029561      0.782847      0.217153\n",
       " 2     0.984975     0.015025      0.791494      0.208506\n",
       " 3     0.840957     0.159043      0.674561      0.325439\n",
       " 4     0.860823     0.139177      0.527963      0.472037,\n",
       " 0    0\n",
       " 1    0\n",
       " 2    0\n",
       " 3    0\n",
       " 4    0\n",
       " Name: bert_true, dtype: int64)"
      ]
     },
     "execution_count": 173,
     "metadata": {},
     "output_type": "execute_result"
    }
   ],
   "source": [
    "from sklearn.linear_model import LogisticRegression\n",
    "X_train=merged_cv_db[merged_cv_db['crf_split'].isin([0,1])][['crf_proba_0','crf_proba_1','bert_proba_0','bert_proba_1']]\n",
    "y_train=merged_cv_db[merged_cv_db['crf_split'].isin([0,1])]['bert_true']\n",
    "X_test=merged_cv_db[merged_cv_db['crf_split'].isin([2])][['crf_proba_0','crf_proba_1','bert_proba_0','bert_proba_1']]\n",
    "y_test=merged_cv_db[merged_cv_db['crf_split'].isin([2])]['bert_true']\n",
    "X_train.head(),y_train.head()"
   ]
  },
  {
   "cell_type": "code",
   "execution_count": 175,
   "id": "6aba6c59",
   "metadata": {},
   "outputs": [],
   "source": [
    "lr_clf = LogisticRegression(random_state=0).fit(X_train, y_train)\n",
    "lr_clf_pred=lr_clf.predict(X_test)"
   ]
  },
  {
   "cell_type": "code",
   "execution_count": 176,
   "id": "e00c0b35",
   "metadata": {},
   "outputs": [
    {
     "data": {
      "text/plain": [
       "array([0, 1])"
      ]
     },
     "execution_count": 176,
     "metadata": {},
     "output_type": "execute_result"
    }
   ],
   "source": [
    "lr_clf.classes_"
   ]
  },
  {
   "cell_type": "code",
   "execution_count": 178,
   "id": "599dffa5",
   "metadata": {},
   "outputs": [
    {
     "data": {
      "text/plain": [
       "array([[-1.15513374,  1.14935738, -2.06329758,  2.05752122]])"
      ]
     },
     "execution_count": 178,
     "metadata": {},
     "output_type": "execute_result"
    }
   ],
   "source": [
    "lr_clf.coef_"
   ]
  },
  {
   "cell_type": "code",
   "execution_count": 177,
   "id": "5d5c4dfb",
   "metadata": {},
   "outputs": [
    {
     "name": "stdout",
     "output_type": "stream",
     "text": [
      "\u001b[1m\u001b[46mCRF + BERT Logistic regression\u001b[0m\n",
      "              precision    recall  f1-score   support\n",
      "\n",
      "           0       0.98      0.96      0.97      3321\n",
      "           1       0.88      0.92      0.90       972\n",
      "\n",
      "    accuracy                           0.95      4293\n",
      "   macro avg       0.93      0.94      0.93      4293\n",
      "weighted avg       0.95      0.95      0.95      4293\n",
      "\n"
     ]
    },
    {
     "data": {
      "image/png": "[encoded data removed]",
      "text/plain": [
       "<Figure size 432x288 with 2 Axes>"
      ]
     },
     "metadata": {
      "needs_background": "light"
     },
     "output_type": "display_data"
    }
   ],
   "source": [
    "feature_utils.get_prediction_report(y_test,lr_clf_pred,lr_clf.classes_,\"CRF + BERT Logistic regression\")"
   ]
  },
  {
   "cell_type": "markdown",
   "id": "fbd34be8",
   "metadata": {},
   "source": [
    "#### Implement cross-validate on ensemble"
   ]
  },
  {
   "cell_type": "code",
   "execution_count": null,
   "id": "578da051",
   "metadata": {},
   "outputs": [],
   "source": [
    "\n",
    "def prepared_cross_validate_ensemble(cv_db_, prediction_db_, cv_splits):\n",
    "    prediction_db=prediction_db_.copy()\n",
    "    for split, indices in cv_splits.items():\n",
    "        X_train=prediction_db[prediction_db['crf_group'].isin(train_docs]][['crf_proba_0','crf_proba_1','bert_proba_0','bert_proba_1']]\n",
    "        y_train=prediction_db[prediction_db['crf_group'].isin(train_docs)]['bert_true']\n",
    "        X_test=prediction_db[prediction_db['crf_group'].isin(test_docs)][['crf_proba_0','crf_proba_1','bert_proba_0','bert_proba_1']]\n",
    "        y_test=prediction_db[prediction_db['crf_group'].isin(test_docs])]['bert_true']"
   ]
  },
  {
   "cell_type": "code",
   "execution_count": 196,
   "id": "36e53b00",
   "metadata": {},
   "outputs": [
    {
     "data": {
      "text/plain": [
       "array([ 1, 12, 13, 20, 21, 41, 46, 55, 59, 76,  6,  8, 14, 19, 35, 36, 45,\n",
       "       60, 65, 69, 24, 25, 28, 34, 37, 40, 44, 49, 54, 77])"
      ]
     },
     "execution_count": 196,
     "metadata": {},
     "output_type": "execute_result"
    }
   ],
   "source": [
    "merged_cv_db['crf_group'].unique()"
   ]
  },
  {
   "cell_type": "code",
   "execution_count": 191,
   "id": "5f7f2f72",
   "metadata": {},
   "outputs": [
    {
     "data": {
      "text/plain": [
       "30"
      ]
     },
     "execution_count": 191,
     "metadata": {},
     "output_type": "execute_result"
    }
   ],
   "source": [
    "ensembled_doc_num=len(merged_cv_db['crf_group'].unique())\n",
    "ensembled_doc_num"
   ]
  },
  {
   "cell_type": "code",
   "execution_count": 193,
   "id": "5742bcc4",
   "metadata": {},
   "outputs": [
    {
     "data": {
      "text/plain": [
       "6"
      ]
     },
     "execution_count": 193,
     "metadata": {},
     "output_type": "execute_result"
    }
   ],
   "source": [
    "ensemble_test_percent=0.2\n",
    "n_splits=3\n",
    "test_doc_num=int(ensemble_test_percent*ensembled_doc_num)\n",
    "test_doc_num"
   ]
  },
  {
   "cell_type": "code",
   "execution_count": 213,
   "id": "74497366",
   "metadata": {},
   "outputs": [],
   "source": [
    "test_doc_num=10"
   ]
  },
  {
   "cell_type": "code",
   "execution_count": 214,
   "id": "034bca96",
   "metadata": {},
   "outputs": [
    {
     "data": {
      "text/plain": [
       "{0: {'test': array([ 1, 12, 13, 20, 21, 41, 46, 55, 59, 76]),\n",
       "  'train': array([ 6,  8, 14, 19, 35, 36, 45, 60, 65, 69, 24, 25, 28, 34, 37, 40, 44,\n",
       "         49, 54, 77])},\n",
       " 1: {'test': array([ 6,  8, 14, 19, 35, 36, 45, 60, 65, 69]),\n",
       "  'train': array([ 1, 12, 13, 20, 21, 41, 46, 55, 59, 76, 24, 25, 28, 34, 37, 40, 44,\n",
       "         49, 54, 77])},\n",
       " 2: {'test': array([24, 25, 28, 34, 37, 40, 44, 49, 54, 77]),\n",
       "  'train': array([ 1, 12, 13, 20, 21, 41, 46, 55, 59, 76,  6,  8, 14, 19, 35, 36, 45,\n",
       "         60, 65, 69])}}"
      ]
     },
     "execution_count": 214,
     "metadata": {},
     "output_type": "execute_result"
    }
   ],
   "source": [
    "ensemble_cv=model_utils.get_test_train_splits(merged_cv_db['crf_group'].unique(),test_doc_num,n_splits,seed)\n",
    "ensemble_cv"
   ]
  },
  {
   "cell_type": "code",
   "execution_count": 215,
   "id": "ef0c83d5",
   "metadata": {},
   "outputs": [
    {
     "name": "stdout",
     "output_type": "stream",
     "text": [
      "0 split started...\n",
      "train: [ 6  8 14 19 35 36 45 60 65 69 24 25 28 34 37 40 44 49 54 77]\n",
      "test: [ 1 12 13 20 21 41 46 55 59 76]\n",
      "1 split started...\n",
      "train: [ 1 12 13 20 21 41 46 55 59 76 24 25 28 34 37 40 44 49 54 77]\n",
      "test: [ 6  8 14 19 35 36 45 60 65 69]\n",
      "2 split started...\n",
      "train: [ 1 12 13 20 21 41 46 55 59 76  6  8 14 19 35 36 45 60 65 69]\n",
      "test: [24 25 28 34 37 40 44 49 54 77]\n"
     ]
    }
   ],
   "source": [
    "imp.reload(model_utils)\n",
    "ensemble_cv_db=pd.DataFrame()\n",
    "ensemble_cv_db=model_utils.prepared_cross_validate_ensemble(ensemble_cv_db,merged_cv_db,ensemble_cv)"
   ]
  },
  {
   "cell_type": "code",
   "execution_count": 216,
   "id": "03febdec",
   "metadata": {},
   "outputs": [
    {
     "data": {
      "text/html": [
       "<div>\n",
       "<style scoped>\n",
       "    .dataframe tbody tr th:only-of-type {\n",
       "        vertical-align: middle;\n",
       "    }\n",
       "\n",
       "    .dataframe tbody tr th {\n",
       "        vertical-align: top;\n",
       "    }\n",
       "\n",
       "    .dataframe thead th {\n",
       "        text-align: right;\n",
       "    }\n",
       "</style>\n",
       "<table border=\"1\" class=\"dataframe\">\n",
       "  <thead>\n",
       "    <tr style=\"text-align: right;\">\n",
       "      <th></th>\n",
       "      <th>ens_predicted</th>\n",
       "      <th>ens_proba_0</th>\n",
       "      <th>ens_proba_1</th>\n",
       "      <th>ens_group</th>\n",
       "      <th>ens_split</th>\n",
       "      <th>ens_true</th>\n",
       "    </tr>\n",
       "  </thead>\n",
       "  <tbody>\n",
       "    <tr>\n",
       "      <th>0</th>\n",
       "      <td>0</td>\n",
       "      <td>0.793009</td>\n",
       "      <td>0.206991</td>\n",
       "      <td>1</td>\n",
       "      <td>0</td>\n",
       "      <td>0</td>\n",
       "    </tr>\n",
       "    <tr>\n",
       "      <th>1</th>\n",
       "      <td>0</td>\n",
       "      <td>0.949590</td>\n",
       "      <td>0.050410</td>\n",
       "      <td>1</td>\n",
       "      <td>0</td>\n",
       "      <td>0</td>\n",
       "    </tr>\n",
       "    <tr>\n",
       "      <th>2</th>\n",
       "      <td>0</td>\n",
       "      <td>0.953096</td>\n",
       "      <td>0.046904</td>\n",
       "      <td>1</td>\n",
       "      <td>0</td>\n",
       "      <td>0</td>\n",
       "    </tr>\n",
       "    <tr>\n",
       "      <th>3</th>\n",
       "      <td>0</td>\n",
       "      <td>0.888475</td>\n",
       "      <td>0.111525</td>\n",
       "      <td>1</td>\n",
       "      <td>0</td>\n",
       "      <td>0</td>\n",
       "    </tr>\n",
       "    <tr>\n",
       "      <th>4</th>\n",
       "      <td>0</td>\n",
       "      <td>0.775304</td>\n",
       "      <td>0.224696</td>\n",
       "      <td>1</td>\n",
       "      <td>0</td>\n",
       "      <td>0</td>\n",
       "    </tr>\n",
       "    <tr>\n",
       "      <th>...</th>\n",
       "      <td>...</td>\n",
       "      <td>...</td>\n",
       "      <td>...</td>\n",
       "      <td>...</td>\n",
       "      <td>...</td>\n",
       "      <td>...</td>\n",
       "    </tr>\n",
       "    <tr>\n",
       "      <th>14585</th>\n",
       "      <td>0</td>\n",
       "      <td>0.880640</td>\n",
       "      <td>0.119360</td>\n",
       "      <td>77</td>\n",
       "      <td>2</td>\n",
       "      <td>0</td>\n",
       "    </tr>\n",
       "    <tr>\n",
       "      <th>14586</th>\n",
       "      <td>0</td>\n",
       "      <td>0.950968</td>\n",
       "      <td>0.049032</td>\n",
       "      <td>77</td>\n",
       "      <td>2</td>\n",
       "      <td>0</td>\n",
       "    </tr>\n",
       "    <tr>\n",
       "      <th>14587</th>\n",
       "      <td>0</td>\n",
       "      <td>0.951427</td>\n",
       "      <td>0.048573</td>\n",
       "      <td>77</td>\n",
       "      <td>2</td>\n",
       "      <td>0</td>\n",
       "    </tr>\n",
       "    <tr>\n",
       "      <th>14588</th>\n",
       "      <td>0</td>\n",
       "      <td>0.948669</td>\n",
       "      <td>0.051331</td>\n",
       "      <td>77</td>\n",
       "      <td>2</td>\n",
       "      <td>0</td>\n",
       "    </tr>\n",
       "    <tr>\n",
       "      <th>14589</th>\n",
       "      <td>0</td>\n",
       "      <td>0.951241</td>\n",
       "      <td>0.048759</td>\n",
       "      <td>77</td>\n",
       "      <td>2</td>\n",
       "      <td>0</td>\n",
       "    </tr>\n",
       "  </tbody>\n",
       "</table>\n",
       "<p>14590 rows × 6 columns</p>\n",
       "</div>"
      ],
      "text/plain": [
       "       ens_predicted  ens_proba_0  ens_proba_1  ens_group  ens_split  ens_true\n",
       "0                  0     0.793009     0.206991          1          0         0\n",
       "1                  0     0.949590     0.050410          1          0         0\n",
       "2                  0     0.953096     0.046904          1          0         0\n",
       "3                  0     0.888475     0.111525          1          0         0\n",
       "4                  0     0.775304     0.224696          1          0         0\n",
       "...              ...          ...          ...        ...        ...       ...\n",
       "14585              0     0.880640     0.119360         77          2         0\n",
       "14586              0     0.950968     0.049032         77          2         0\n",
       "14587              0     0.951427     0.048573         77          2         0\n",
       "14588              0     0.948669     0.051331         77          2         0\n",
       "14589              0     0.951241     0.048759         77          2         0\n",
       "\n",
       "[14590 rows x 6 columns]"
      ]
     },
     "execution_count": 216,
     "metadata": {},
     "output_type": "execute_result"
    }
   ],
   "source": [
    "ensemble_cv_db"
   ]
  },
  {
   "cell_type": "code",
   "execution_count": 217,
   "id": "af8c7018",
   "metadata": {},
   "outputs": [
    {
     "name": "stdout",
     "output_type": "stream",
     "text": [
      "\u001b[1m\u001b[46mSplit 0\u001b[0m\n",
      "              precision    recall  f1-score   support\n",
      "\n",
      "           0       0.76      0.93      0.84      3354\n",
      "           1       0.75      0.42      0.54      1697\n",
      "\n",
      "    accuracy                           0.76      5051\n",
      "   macro avg       0.75      0.67      0.69      5051\n",
      "weighted avg       0.76      0.76      0.74      5051\n",
      "\n",
      "\u001b[1m\u001b[46mSplit 1\u001b[0m\n",
      "              precision    recall  f1-score   support\n",
      "\n",
      "           0       0.93      0.94      0.93      4088\n",
      "           1       0.77      0.74      0.75      1158\n",
      "\n",
      "    accuracy                           0.89      5246\n",
      "   macro avg       0.85      0.84      0.84      5246\n",
      "weighted avg       0.89      0.89      0.89      5246\n",
      "\n",
      "\u001b[1m\u001b[46mSplit 2\u001b[0m\n",
      "              precision    recall  f1-score   support\n",
      "\n",
      "           0       0.98      0.96      0.97      3321\n",
      "           1       0.88      0.92      0.90       972\n",
      "\n",
      "    accuracy                           0.95      4293\n",
      "   macro avg       0.93      0.94      0.93      4293\n",
      "weighted avg       0.95      0.95      0.95      4293\n",
      "\n"
     ]
    },
    {
     "data": {
      "image/png": "[encoded data removed]",
      "text/plain": [
       "<Figure size 432x288 with 2 Axes>"
      ]
     },
     "metadata": {
      "needs_background": "light"
     },
     "output_type": "display_data"
    },
    {
     "data": {
      "image/png": "[encoded data removed]",
      "text/plain": [
       "<Figure size 432x288 with 2 Axes>"
      ]
     },
     "metadata": {
      "needs_background": "light"
     },
     "output_type": "display_data"
    },
    {
     "data": {
      "image/png": "[encoded data removed]",
      "text/plain": [
       "<Figure size 432x288 with 2 Axes>"
      ]
     },
     "metadata": {
      "needs_background": "light"
     },
     "output_type": "display_data"
    }
   ],
   "source": [
    "model_utils.get_report_from_splits(ensemble_cv_db,\"ens\")"
   ]
  },
  {
   "cell_type": "markdown",
   "id": "58699164",
   "metadata": {},
   "source": [
    "### Run ensembler classifier on original splits"
   ]
  },
  {
   "cell_type": "code",
   "execution_count": 219,
   "id": "7be4695b",
   "metadata": {},
   "outputs": [
    {
     "name": "stdout",
     "output_type": "stream",
     "text": [
      "0 split started...\n",
      "train: [ 2  3  4  5  6  7  8  9 10 11 14 15 16 17 18 19 22 23 24 25 26 27 28 29\n",
      " 30 31 32 33 34 35 36 37 38 39 40 42 43 44 45 47 48 49 50 51 52 53 54 56\n",
      " 57 58 60 61 62 63 64 65 66 67 68 69 70 71 72 73 74 75 77 78 79 80]\n",
      "test: [ 1 12 13 20 21 41 46 55 59 76]\n",
      "1 split started...\n",
      "train: [ 1  2  3  4  5  7  9 10 11 12 13 15 16 17 18 20 21 22 23 24 25 26 27 28\n",
      " 29 30 31 32 33 34 37 38 39 40 41 42 43 44 46 47 48 49 50 51 52 53 54 55\n",
      " 56 57 58 59 61 62 63 64 66 67 68 70 71 72 73 74 75 76 77 78 79 80]\n",
      "test: [ 6  8 14 19 35 36 45 60 65 69]\n",
      "2 split started...\n",
      "train: [ 1  2  3  4  5  6  7  8  9 10 11 12 13 14 15 16 17 18 19 20 21 22 23 26\n",
      " 27 29 30 31 32 33 35 36 38 39 41 42 43 45 46 47 48 50 51 52 53 55 56 57\n",
      " 58 59 60 61 62 63 64 65 66 67 68 69 70 71 72 73 74 75 76 78 79 80]\n",
      "test: [24 25 28 34 37 40 44 49 54 77]\n"
     ]
    }
   ],
   "source": [
    "imp.reload(model_utils)\n",
    "ensemble_orig_cv_db=pd.DataFrame()\n",
    "ensemble_orig_cv_db=model_utils.prepared_cross_validate_ensemble(ensemble_orig_cv_db,merged_cv_db,cv_splits)"
   ]
  },
  {
   "cell_type": "code",
   "execution_count": 220,
   "id": "f12449c3",
   "metadata": {},
   "outputs": [
    {
     "name": "stdout",
     "output_type": "stream",
     "text": [
      "\u001b[1m\u001b[46mSplit 0\u001b[0m\n",
      "              precision    recall  f1-score   support\n",
      "\n",
      "           0       0.76      0.93      0.84      3354\n",
      "           1       0.75      0.42      0.54      1697\n",
      "\n",
      "    accuracy                           0.76      5051\n",
      "   macro avg       0.75      0.67      0.69      5051\n",
      "weighted avg       0.76      0.76      0.74      5051\n",
      "\n",
      "\u001b[1m\u001b[46mSplit 1\u001b[0m\n",
      "              precision    recall  f1-score   support\n",
      "\n",
      "           0       0.93      0.94      0.93      4088\n",
      "           1       0.77      0.74      0.75      1158\n",
      "\n",
      "    accuracy                           0.89      5246\n",
      "   macro avg       0.85      0.84      0.84      5246\n",
      "weighted avg       0.89      0.89      0.89      5246\n",
      "\n",
      "\u001b[1m\u001b[46mSplit 2\u001b[0m\n",
      "              precision    recall  f1-score   support\n",
      "\n",
      "           0       0.98      0.96      0.97      3321\n",
      "           1       0.88      0.92      0.90       972\n",
      "\n",
      "    accuracy                           0.95      4293\n",
      "   macro avg       0.93      0.94      0.93      4293\n",
      "weighted avg       0.95      0.95      0.95      4293\n",
      "\n"
     ]
    },
    {
     "data": {
      "image/png": "[encoded data removed]",
      "text/plain": [
       "<Figure size 432x288 with 2 Axes>"
      ]
     },
     "metadata": {
      "needs_background": "light"
     },
     "output_type": "display_data"
    },
    {
     "data": {
      "image/png": "[encoded data removed]",
      "text/plain": [
       "<Figure size 432x288 with 2 Axes>"
      ]
     },
     "metadata": {
      "needs_background": "light"
     },
     "output_type": "display_data"
    },
    {
     "data": {
      "image/png": "[encoded data removed]",
      "text/plain": [
       "<Figure size 432x288 with 2 Axes>"
      ]
     },
     "metadata": {
      "needs_background": "light"
     },
     "output_type": "display_data"
    }
   ],
   "source": [
    "model_utils.get_report_from_splits(ensemble_orig_cv_db,\"ens\")"
   ]
  },
  {
   "cell_type": "code",
   "execution_count": null,
   "id": "e210ec5f",
   "metadata": {},
   "outputs": [],
   "source": []
  }
 ],
 "metadata": {
  "kernelspec": {
   "display_name": "Python 3",
   "language": "python",
   "name": "python3"
  },
  "language_info": {
   "codemirror_mode": {
    "name": "ipython",
    "version": 3
   },
   "file_extension": ".py",
   "mimetype": "text/x-python",
   "name": "python",
   "nbconvert_exporter": "python",
   "pygments_lexer": "ipython3",
   "version": "3.8.5"
  }
 },
 "nbformat": 4,
 "nbformat_minor": 5
}
