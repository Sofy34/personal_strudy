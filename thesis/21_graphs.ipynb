{
 "cells": [
  {
   "cell_type": "code",
   "execution_count": null,
   "id": "1cbf8ce7",
   "metadata": {},
   "outputs": [],
   "source": [
    "#ensembling\n",
    "from mlxtend.classifier import StackingCVClassifier\n",
    "import numpy as np\n",
    "import pandas as pd\n",
    "import sys, os, glob\n",
    "import imp\n",
    "import seaborn as sns\n",
    "sys.path.append('./src/')\n",
    "import common_utils,my_ensembler, feature_utils, defines, model_utils, my_bert\n",
    "from sklearn.neighbors import KNeighborsClassifier\n",
    "from sklearn_crfsuite import scorers, CRF\n",
    "from sklearn.pipeline import Pipeline\n",
    "import json\n",
    "from operator import itemgetter\n",
    "from sklearn_crfsuite.utils import flatten\n",
    "from sklearn_crfsuite.metrics import sequence_accuracy_score\n",
    "from sklearn.linear_model import LogisticRegression\n",
    "import scipy\n",
    "import sklearn\n",
    "import scipy.stats\n",
    "from sklearn.metrics import make_scorer\n",
    "from sklearn.model_selection import RandomizedSearchCV,GridSearchCV\n",
    "from sklearn_crfsuite import scorers\n",
    "from sklearn_crfsuite import metrics\n",
    "import classes\n",
    "import pickle\n",
    "import matplotlib.pyplot as plt\n",
    "import copy"
   ]
  },
  {
   "cell_type": "code",
   "execution_count": null,
   "id": "93615af1",
   "metadata": {},
   "outputs": [],
   "source": [
    "dir_name='reparse'\n",
    "seq_len=15\n",
    "step=15\n",
    "cv_split_name='cv_splits_10'\n",
    "merged_str='scaled.binary0.50_merged'\n",
    "doc_indices=np.arange(1,81)\n",
    "doc_indices\n",
    "test_doc_num=8\n",
    "seed=42"
   ]
  },
  {
   "cell_type": "code",
   "execution_count": null,
   "id": "9ed81fce",
   "metadata": {},
   "outputs": [],
   "source": [
    "dir_name='reparse'\n",
    "docs_map_name = 'scaled.binary.5_stop_docs_map.json'\n",
    "crf_params_name='.802_21.07_07:26_best_params.json'\n",
    "ens_crf_db_name   = 'ensemble_crf_cv_db_all'\n",
    "ens_lg_db_name = 'ensemble_lg_cv_db_all'\n",
    "cv_crf_bert_name = 'cv_crf_bert_all'\n",
    "per_par=True\n",
    "seq_len=3\n",
    "step=3"
   ]
  },
  {
   "cell_type": "markdown",
   "id": "77ebff71",
   "metadata": {},
   "source": [
    "### Open BERT predictions"
   ]
  },
  {
   "cell_type": "code",
   "execution_count": null,
   "id": "2054e392",
   "metadata": {},
   "outputs": [],
   "source": [
    "i=0\n",
    "splits_bert={}\n",
    "for i in range(10):\n",
    "    json_name=\"split_{}_bert_valid_dict\".format(i)\n",
    "    splits_bert[i]=common_utils.load_json(dir_name,json_name)"
   ]
  },
  {
   "cell_type": "code",
   "execution_count": null,
   "id": "1886eb37",
   "metadata": {},
   "outputs": [],
   "source": [
    "data=splits_bert[i]['valid_loss']"
   ]
  },
  {
   "cell_type": "code",
   "execution_count": null,
   "id": "63ba4f24",
   "metadata": {},
   "outputs": [],
   "source": [
    "data"
   ]
  },
  {
   "cell_type": "code",
   "execution_count": null,
   "id": "86ab94fe",
   "metadata": {},
   "outputs": [],
   "source": [
    "bert_loss_df=pd.DataFrame()\n",
    "for k,v in splits_bert.items():\n",
    "#     print(k,v['valid_loss'])\n",
    "    bert_loss_df[k]=v['valid_loss']\n",
    "common_utils.save_db(bert_loss_df,dir_name,\"bert.loss.per.fold\",False)"
   ]
  },
  {
   "cell_type": "code",
   "execution_count": null,
   "id": "43df8849",
   "metadata": {},
   "outputs": [],
   "source": [
    "splits_bert[y]['valid_loss']"
   ]
  },
  {
   "cell_type": "code",
   "execution_count": null,
   "id": "5804f9c5",
   "metadata": {},
   "outputs": [],
   "source": [
    "import matplotlib.cm as cm\n",
    "colors = cm.rainbow(np.linspace(0, 1, len(splits_bert.keys())))"
   ]
  },
  {
   "cell_type": "code",
   "execution_count": null,
   "id": "574153aa",
   "metadata": {},
   "outputs": [],
   "source": [
    "for y, c in zip(splits_bert.keys(), colors):\n",
    "    data=splits_bert[y]['valid_loss']\n",
    "    min_x = np.argmin(data)\n",
    "    min_y = np.min(data)\n",
    "    plt.plot(data,marker='o',color=c)#, color='magenta', marker='o',mfc='pink' ) #plot the data\n",
    "#     plt.scatter(min_x, min_y,c='r', label='minimum',zorder =1)\n",
    "plt.xticks(range(0,len(data), 1)) #set the tick frequency on x-axis\n",
    "# plt.legend()\n",
    "plt.ylabel('Validation loss across splits') #set the label for y axis\n",
    "plt.xlabel('epoch index') #set the label for x-axis\n",
    "plt.title('Validation loss') #set the title of the graph\n",
    "plt.show() #display the graph"
   ]
  },
  {
   "cell_type": "markdown",
   "id": "8ebc2580",
   "metadata": {},
   "source": [
    "### Check stories"
   ]
  },
  {
   "cell_type": "code",
   "execution_count": null,
   "id": "0082f00b",
   "metadata": {},
   "outputs": [],
   "source": [
    "imp.reload(classes)\n",
    "reloaded_dataset=pickle.load( open( os.path.join(os.getcwd(), defines.PATH_TO_DFS, dir_name,\"dataset_full.p\"), \"rb\" ) )"
   ]
  },
  {
   "cell_type": "code",
   "execution_count": null,
   "id": "18505b11",
   "metadata": {},
   "outputs": [],
   "source": [
    "sent_label_db = common_utils.concat_dbs(dir_name,\"sent_db\")"
   ]
  },
  {
   "cell_type": "code",
   "execution_count": null,
   "id": "71fd756f",
   "metadata": {},
   "outputs": [],
   "source": [
    "imp.reload(classes)\n",
    "dataset=classes.Dataset(\"\")\n",
    "dataset.copy_attr(reloaded_dataset)"
   ]
  },
  {
   "cell_type": "code",
   "execution_count": null,
   "id": "841c6319",
   "metadata": {},
   "outputs": [],
   "source": [
    "sent_label_db = common_utils.concat_dbs(dir_name,\"sent_db\")"
   ]
  },
  {
   "cell_type": "code",
   "execution_count": null,
   "id": "716d406e",
   "metadata": {},
   "outputs": [],
   "source": [
    "nar_db['len']=nar_db['text'].apply(lambda x: len(x))\n",
    "nar_db"
   ]
  },
  {
   "cell_type": "code",
   "execution_count": null,
   "id": "0ef42d68",
   "metadata": {},
   "outputs": [],
   "source": [
    "with pd.option_context('display.max_colwidth', None):\n",
    "    display(nar_db[nar_db['text'].str.contains(\"טלו\")])"
   ]
  },
  {
   "cell_type": "code",
   "execution_count": null,
   "id": "84f75dfc",
   "metadata": {},
   "outputs": [],
   "source": [
    "nar_db=dataset.get_nar_df()"
   ]
  },
  {
   "cell_type": "code",
   "execution_count": null,
   "id": "dcd671d6",
   "metadata": {},
   "outputs": [],
   "source": [
    "with pd.option_context('display.max_colwidth', None,'display.max_rows', None): \n",
    "    display(nar_db.query('len<300'))"
   ]
  },
  {
   "cell_type": "code",
   "execution_count": null,
   "id": "8c8d8155",
   "metadata": {},
   "outputs": [],
   "source": [
    "sent_db"
   ]
  },
  {
   "cell_type": "markdown",
   "id": "6075b400",
   "metadata": {},
   "source": [
    "### Check document statistic"
   ]
  },
  {
   "cell_type": "code",
   "execution_count": null,
   "id": "d51fcb3f",
   "metadata": {},
   "outputs": [],
   "source": [
    "par_contain_nar=[]\n",
    "for key,val in reloaded_dataset.doc_map.items():\n",
    "    for par in var.par_list:\n",
    "        if par.y == 'is_nar'\n",
    "        35, 36, 37, 38, 39, 40, 41, 42, 43, 44, 45, 46, 47, 48, 49, 50, 51,\n",
    "vars(reloaded_dataset.doc_map[1].par_list[0])"
   ]
  },
  {
   "cell_type": "code",
   "execution_count": null,
   "id": "21213ef7",
   "metadata": {},
   "outputs": [],
   "source": [
    "sent_label_db"
   ]
  },
  {
   "cell_type": "code",
   "execution_count": null,
   "id": "1b40027b",
   "metadata": {},
   "outputs": [],
   "source": [
    "sent_label_db"
   ]
  },
  {
   "cell_type": "code",
   "execution_count": null,
   "id": "bc98c48c",
   "metadata": {},
   "outputs": [],
   "source": [
    "np.std(par_len),np.std(sent_len)"
   ]
  },
  {
   "cell_type": "code",
   "execution_count": null,
   "id": "8be18e88",
   "metadata": {},
   "outputs": [],
   "source": [
    "np.median(par_len),np.median(sent_len)"
   ]
  },
  {
   "cell_type": "code",
   "execution_count": null,
   "id": "de294be5",
   "metadata": {},
   "outputs": [],
   "source": [
    "for key,val in reloaded_dataset.doc_map.items():\n",
    "    par_len.append(len(val.par_list))\n",
    "    sent_len.append(len(val.sent_list))"
   ]
  },
  {
   "cell_type": "code",
   "execution_count": null,
   "id": "30d552a7",
   "metadata": {},
   "outputs": [],
   "source": [
    "vars(reloaded_dataset.doc_map[1].sent_list[13])"
   ]
  },
  {
   "cell_type": "markdown",
   "id": "02cfbcc7",
   "metadata": {},
   "source": [
    "### Check paragraph statistic"
   ]
  },
  {
   "cell_type": "code",
   "execution_count": null,
   "id": "db525b3f",
   "metadata": {},
   "outputs": [],
   "source": [
    "reloaded_dataset.doc_map[1].par_list"
   ]
  },
  {
   "cell_type": "code",
   "execution_count": null,
   "id": "f738bc20",
   "metadata": {},
   "outputs": [],
   "source": [
    "imp.reload(classes)\n",
    "new_dataset=classes.Dataset(reloaded_dataset.path)"
   ]
  },
  {
   "cell_type": "code",
   "execution_count": null,
   "id": "52fe4aa0",
   "metadata": {},
   "outputs": [],
   "source": [
    "for k,doc in reloaded_dataset.doc_map.items():\n",
    "    new_dataset.doc_map[k]={}\n",
    "    new_dataset.doc_map[k] = classes.Document(k,new_dataset.path)\n",
    "    new_dataset.doc_map[k].__dict__ = doc.__dict__"
   ]
  },
  {
   "cell_type": "code",
   "execution_count": null,
   "id": "e80d5b30",
   "metadata": {},
   "outputs": [],
   "source": [
    "new_dataset.doc_map[1]"
   ]
  },
  {
   "cell_type": "code",
   "execution_count": null,
   "id": "6f895311",
   "metadata": {},
   "outputs": [],
   "source": [
    "new_dataset.pack_sent_per_paragraph()"
   ]
  },
  {
   "cell_type": "code",
   "execution_count": null,
   "id": "41514696",
   "metadata": {},
   "outputs": [],
   "source": []
  },
  {
   "cell_type": "code",
   "execution_count": null,
   "id": "32d86ec2",
   "metadata": {},
   "outputs": [],
   "source": [
    "par_stat_db=pd.DataFrame()\n",
    "\n",
    "for k,doc in new_dataset.doc_map.items():\n",
    "    for j,par in doc.par_map.items():\n",
    "        par_stat_db.iloc[k,'doc_idx']=k\n",
    "        "
   ]
  },
  {
   "cell_type": "markdown",
   "id": "8697ce90",
   "metadata": {},
   "source": [
    "### Inspect BERT performance"
   ]
  },
  {
   "cell_type": "code",
   "execution_count": null,
   "id": "3b33e82d",
   "metadata": {},
   "outputs": [],
   "source": [
    "cv_db_bert=common_utils.load_db(dir_name,\"cv_bert_all\")"
   ]
  },
  {
   "cell_type": "code",
   "execution_count": null,
   "id": "95ccd424",
   "metadata": {},
   "outputs": [],
   "source": [
    "bert_scores, bert_dict = model_utils.get_report_from_splits(cv_db_bert,\"bert\")"
   ]
  },
  {
   "cell_type": "code",
   "execution_count": null,
   "id": "a168da73",
   "metadata": {},
   "outputs": [],
   "source": [
    "bert_dict"
   ]
  },
  {
   "cell_type": "code",
   "execution_count": null,
   "id": "fc924078",
   "metadata": {},
   "outputs": [],
   "source": [
    "colors=['r','b']\n",
    "linestyle=['dashed','solid']\n",
    "f1={}\n",
    "f1['1']=[]\n",
    "f1['0']=[]\n",
    "for label in f1.keys():\n",
    "    for key,val in bert_dict.items():\n",
    "        f1[label].append(val[label]['f1-score'])"
   ]
  },
  {
   "cell_type": "code",
   "execution_count": null,
   "id": "3b50e1bc",
   "metadata": {},
   "outputs": [],
   "source": [
    "avg={}\n",
    "avg['1']={}\n",
    "avg['0']={}\n",
    "avg['weighted avg']={}\n",
    "for label in avg.keys():\n",
    "    avg[label]={}\n",
    "    avg[label]['recall']=[]\n",
    "    avg[label]['prec']=[]\n",
    "    avg[label]['f1']=[]\n",
    "\n",
    "    for key,val in bert_dict.items():\n",
    "        avg[label]['f1'].append(val[label]['f1-score'])\n",
    "        avg[label]['recall'].append(val[label]['recall'])\n",
    "        avg[label]['prec'].append(val[label]['precision'])"
   ]
  },
  {
   "cell_type": "code",
   "execution_count": null,
   "id": "d0ab888b",
   "metadata": {},
   "outputs": [],
   "source": [
    "for label,metrics in avg.items():\n",
    "    for metric,value in metrics.items():\n",
    "        print(\"{:>15} {:>10} {:.3f}\".format(label,metric,np.mean(value)))\n",
    "    "
   ]
  },
  {
   "cell_type": "code",
   "execution_count": null,
   "id": "d174fb3d",
   "metadata": {},
   "outputs": [],
   "source": [
    "from matplotlib import pyplot as plt\n",
    "for y, c, st in zip(f1.keys(), colors,linestyle):\n",
    "    data=f1[y]\n",
    "    min_x = np.argmin(data)\n",
    "    min_y = np.min(data)\n",
    "    plt.plot(data,marker='o',color=c,linestyle=st,label=y)#, color='magenta', marker='o',mfc='pink' ) #plot the data\n",
    "#     plt.scatter(min_x, min_y,c='r', label='minimum',zorder =1)\n",
    "plt.xticks(range(0,len(data), 1)) #set the tick frequency on x-axis\n",
    "plt.legend()\n",
    "plt.ylabel('f-1 score') #set the label for y axis\n",
    "plt.xlabel('fold index') #set the label for x-axis\n",
    "plt.title('f-1 score per label') #set the title of the graph\n",
    "plt.show() #display the graph"
   ]
  },
  {
   "cell_type": "code",
   "execution_count": null,
   "id": "2e7d156d",
   "metadata": {},
   "outputs": [],
   "source": [
    "f1"
   ]
  },
  {
   "cell_type": "code",
   "execution_count": null,
   "id": "1f3160de",
   "metadata": {},
   "outputs": [],
   "source": [
    "imp.reload(classes)\n",
    "rprt=classes.MyReport()\n",
    "avg=rprt.get_avg_scores(bert_dict,labels=['0','1'])\n",
    "for l in ['0','1']:\n",
    "    print(\"{} {}\".format(l,avg[l]['avg']))"
   ]
  },
  {
   "cell_type": "code",
   "execution_count": null,
   "id": "276ed592",
   "metadata": {},
   "outputs": [],
   "source": [
    "avg"
   ]
  },
  {
   "cell_type": "code",
   "execution_count": null,
   "id": "6656e8d3",
   "metadata": {},
   "outputs": [],
   "source": [
    "np.argmin(avg['1']['f1']),np.min(avg['1']['f1'])"
   ]
  },
  {
   "cell_type": "code",
   "execution_count": null,
   "id": "ecde1d98",
   "metadata": {},
   "outputs": [],
   "source": [
    "np.argmax(avg['1']['f1']),np.max(avg['1']['f1'])"
   ]
  },
  {
   "cell_type": "code",
   "execution_count": null,
   "id": "8ed55cb8",
   "metadata": {},
   "outputs": [],
   "source": [
    "(np.max(avg['1']['f1'])-np.min(avg['1']['f1']))/np.min(avg['1']['f1'])"
   ]
  },
  {
   "cell_type": "code",
   "execution_count": null,
   "id": "49cbdead",
   "metadata": {},
   "outputs": [],
   "source": [
    "np.std(avg['1']['f1']),np.std(avg['0']['f1'])"
   ]
  },
  {
   "cell_type": "code",
   "execution_count": null,
   "id": "eef7ed47",
   "metadata": {},
   "outputs": [],
   "source": [
    "colors=['r','b']\n",
    "linestyle=['dashed','solid']\n",
    "f1={}\n",
    "f1['1']=[]\n",
    "f1['0']=[]\n",
    "for label in f1.keys():\n",
    "    for key,val in bert_dict.items():\n",
    "        f1[label].append(val[label]['f1-score'])"
   ]
  },
  {
   "cell_type": "code",
   "execution_count": null,
   "id": "40d6b1c3",
   "metadata": {},
   "outputs": [],
   "source": [
    "from matplotlib import pyplot as plt\n",
    "for y, c, st in zip(f1.keys(), colors,linestyle):\n",
    "    data=f1[y]\n",
    "    min_x = np.argmin(data)\n",
    "    min_y = np.min(data)\n",
    "    plt.plot(data,marker='o',color=c,linestyle=st,label=y)#, color='magenta', marker='o',mfc='pink' ) #plot the data\n",
    "#     plt.scatter(min_x, min_y,c='r', label='minimum',zorder =1)\n",
    "plt.xticks(range(0,len(data), 1)) #set the tick frequency on x-axis\n",
    "plt.legend()\n",
    "plt.ylabel('f-1 score') #set the label for y axis\n",
    "plt.xlabel('fold index') #set the label for x-axis\n",
    "plt.title('f-1 score per label') #set the title of the graph\n",
    "plt.show() #display the graph"
   ]
  },
  {
   "cell_type": "markdown",
   "id": "1baf3f81",
   "metadata": {},
   "source": [
    "### Inspect CRF performance"
   ]
  },
  {
   "cell_type": "code",
   "execution_count": null,
   "id": "8665e7e4",
   "metadata": {},
   "outputs": [],
   "source": [
    "cv_db_crf=common_utils.load_db(dir_name,\"cv_crf_best_params.78\")"
   ]
  },
  {
   "cell_type": "code",
   "execution_count": null,
   "id": "d1e5366a",
   "metadata": {},
   "outputs": [],
   "source": [
    "cv_db_crf"
   ]
  },
  {
   "cell_type": "code",
   "execution_count": null,
   "id": "863d6783",
   "metadata": {},
   "outputs": [],
   "source": [
    "crf_scores, crf_dict = model_utils.get_report_from_splits(cv_db_crf,\"crf\")"
   ]
  },
  {
   "cell_type": "code",
   "execution_count": null,
   "id": "186ebdfa",
   "metadata": {},
   "outputs": [],
   "source": [
    "imp.reload(classes)\n",
    "rprt=classes.MyReport()\n",
    "labels=['not_nar','is_nar','weighted avg']\n",
    "avg=rprt.get_avg_scores(crf_dict,labels=labels)\n",
    "for l in labels:\n",
    "    print(\"\\n{:>15}\".format(l),end =' ')\n",
    "    for k,v in avg[l]['avg'].items():\n",
    "#         print(k)\n",
    "        print(\"{:>8} {:>8.3f}\".format(k,v),end=' ')"
   ]
  },
  {
   "cell_type": "code",
   "execution_count": null,
   "id": "0f4c1b82",
   "metadata": {},
   "outputs": [],
   "source": []
  },
  {
   "cell_type": "code",
   "execution_count": null,
   "id": "861a8f79",
   "metadata": {},
   "outputs": [],
   "source": [
    "imp.reload(common_utils)\n",
    "crf_best_params=common_utils.load_pickle(\"\",\"crf.rs.params.793\")\n",
    "crf_best_params"
   ]
  },
  {
   "cell_type": "code",
   "execution_count": null,
   "id": "22624db4",
   "metadata": {},
   "outputs": [],
   "source": [
    "avg['weighted avg']"
   ]
  },
  {
   "cell_type": "code",
   "execution_count": null,
   "id": "8aa8010c",
   "metadata": {},
   "outputs": [],
   "source": [
    "crf_dict"
   ]
  },
  {
   "cell_type": "code",
   "execution_count": null,
   "id": "15382f5f",
   "metadata": {},
   "outputs": [],
   "source": [
    "np.argmin(avg[labels[1]]['f1']),np.min(avg[labels[1]]['f1'])"
   ]
  },
  {
   "cell_type": "code",
   "execution_count": null,
   "id": "1a4a9528",
   "metadata": {},
   "outputs": [],
   "source": [
    "np.argmax(avg[labels[1]]['f1']),np.max(avg[labels[1]]['f1'])"
   ]
  },
  {
   "cell_type": "code",
   "execution_count": null,
   "id": "146fd8d3",
   "metadata": {},
   "outputs": [],
   "source": [
    "f1_crf"
   ]
  },
  {
   "cell_type": "code",
   "execution_count": null,
   "id": "e6deab6b",
   "metadata": {},
   "outputs": [],
   "source": [
    "from matplotlib import pyplot as plt\n",
    "for y, c, st in zip(f1_crf.keys(), colors,linestyle):\n",
    "    data=f1_crf[y]\n",
    "    min_x = np.argmin(data)\n",
    "    min_y = np.min(data)\n",
    "    plt.plot(data,marker='o',color=c,linestyle=st,label=y)#, color='magenta', marker='o',mfc='pink' ) #plot the data\n",
    "#     plt.scatter(min_x, min_y,c='r', label='minimum',zorder =1)\n",
    "plt.xticks(range(0,len(data), 1)) #set the tick frequency on x-axis\n",
    "plt.legend()\n",
    "plt.ylabel('f-1 score') #set the label for y axis\n",
    "plt.xlabel('fold index') #set the label for x-axis\n",
    "plt.title('f-1 score per label') #set the title of the graph\n",
    "plt.show() #display the graph"
   ]
  },
  {
   "cell_type": "code",
   "execution_count": null,
   "id": "0269247a",
   "metadata": {},
   "outputs": [],
   "source": []
  },
  {
   "cell_type": "code",
   "execution_count": null,
   "id": "5df68432",
   "metadata": {},
   "outputs": [],
   "source": []
  },
  {
   "cell_type": "code",
   "execution_count": null,
   "id": "bd72cded",
   "metadata": {},
   "outputs": [],
   "source": [
    "ensemble_cv_db"
   ]
  },
  {
   "cell_type": "markdown",
   "id": "870c5685",
   "metadata": {},
   "source": [
    "### Load original splits"
   ]
  },
  {
   "cell_type": "code",
   "execution_count": null,
   "id": "9c89fd8c",
   "metadata": {},
   "outputs": [],
   "source": [
    "cv_splits_loaded=common_utils.load_json(dir_name,\"cv_splits_10\")\n",
    "cv_splits_loaded"
   ]
  },
  {
   "cell_type": "code",
   "execution_count": null,
   "id": "8bb2c673",
   "metadata": {},
   "outputs": [],
   "source": [
    "for k,v in cv_splits_loaded.items():\n",
    "    if (4 in v['test'] and 76 in v['test']):\n",
    "        print ('both in test',k)\n",
    "    if (4 in v['train'] and 76 in v['train']):\n",
    "        print ('both in train',k)"
   ]
  },
  {
   "cell_type": "markdown",
   "id": "dfe19fba",
   "metadata": {},
   "source": [
    "### Merge new CRF and old BERT"
   ]
  },
  {
   "cell_type": "code",
   "execution_count": null,
   "id": "fc37ae8b",
   "metadata": {},
   "outputs": [],
   "source": [
    "cv_db_crf=cv_db_crf.assign(sent_idx=cv_db_crf.groupby(['crf_group']).cumcount())\n",
    "cv_db_bert=cv_db_bert.assign(sent_idx=cv_db_bert.groupby(['bert_group']).cumcount())"
   ]
  },
  {
   "cell_type": "code",
   "execution_count": null,
   "id": "7bafa486",
   "metadata": {},
   "outputs": [],
   "source": [
    "merged_cv_db=pd.merge(cv_db_crf,cv_db_bert,left_on=['crf_group','sent_idx'],right_on=['bert_group','sent_idx'],validate='one_to_one')\n"
   ]
  },
  {
   "cell_type": "code",
   "execution_count": null,
   "id": "0a6980da",
   "metadata": {},
   "outputs": [],
   "source": [
    "cv_db_crf"
   ]
  },
  {
   "cell_type": "code",
   "execution_count": null,
   "id": "e9fbec53",
   "metadata": {},
   "outputs": [],
   "source": [
    "ensemble_res=pd.DataFrame()\n",
    "ensemble_cv_db=model_utils.prepared_cross_validate_ensemble(LogisticRegression(random_state=0),ensemble_res,merged_cv_db,cv_splits_loaded)"
   ]
  },
  {
   "cell_type": "code",
   "execution_count": null,
   "id": "da7e2cf9",
   "metadata": {},
   "outputs": [],
   "source": [
    "cv_db_crfx"
   ]
  },
  {
   "cell_type": "code",
   "execution_count": null,
   "id": "033455b1",
   "metadata": {},
   "outputs": [],
   "source": [
    "ens_scores, ens_dict = model_utils.get_report_from_splits(ensemble_cv_db,\"ens\")"
   ]
  },
  {
   "cell_type": "code",
   "execution_count": null,
   "id": "b314ef1c",
   "metadata": {},
   "outputs": [],
   "source": [
    "xxens_scores, ens_dict = model_utils.get_report_from_splits(merged_cv_db,\"ens\")"
   ]
  },
  {
   "cell_type": "code",
   "execution_count": null,
   "id": "a4d91357",
   "metadata": {},
   "outputs": [],
   "source": [
    "imp.reload(classes)\n",
    "rprt=classes.MyReport()\n",
    "labels=['0','1']\n",
    "labels.append('weighted avg')\n",
    "avg=rprt.get_avg_scores(ens_dict,labels=labels)\n",
    "for l in labels:\n",
    "    print(\"\\n{:>15}\".format(l),end =' ')\n",
    "    for k,v in avg[l]['avg'].items():\n",
    "#         print(k)\n",
    "        print(\"{:>8} {:>8.3f}\".format(k,v),end=' ')"
   ]
  },
  {
   "cell_type": "code",
   "execution_count": null,
   "id": "41e9c5d6",
   "metadata": {},
   "outputs": [],
   "source": [
    "ensemble_cv_db"
   ]
  },
  {
   "cell_type": "code",
   "execution_count": null,
   "id": "a7391a16",
   "metadata": {},
   "outputs": [],
   "source": []
  }
 ],
 "metadata": {
  "kernelspec": {
   "display_name": "Python 3",
   "language": "python",
   "name": "python3"
  },
  "language_info": {
   "codemirror_mode": {
    "name": "ipython",
    "version": 3
   },
   "file_extension": ".py",
   "mimetype": "text/x-python",
   "name": "python",
   "nbconvert_exporter": "python",
   "pygments_lexer": "ipython3",
   "version": "3.8.5"
  }
 },
 "nbformat": 4,
 "nbformat_minor": 5
}
