{
 "cells": [
  {
   "cell_type": "code",
   "execution_count": 39,
   "id": "1cbf8ce7",
   "metadata": {},
   "outputs": [],
   "source": [
    "#ensembling\n",
    "from mlxtend.classifier import StackingCVClassifier\n",
    "import numpy as np\n",
    "import pandas as pd\n",
    "import sys, os, glob\n",
    "import imp\n",
    "import seaborn as sns\n",
    "sys.path.append('./src/')\n",
    "import common_utils,my_ensembler, feature_utils, defines, model_utils, my_bert\n",
    "from sklearn.neighbors import KNeighborsClassifier\n",
    "from sklearn_crfsuite import scorers, CRF\n",
    "from sklearn.pipeline import Pipeline\n",
    "import json\n",
    "from operator import itemgetter\n",
    "from sklearn_crfsuite.utils import flatten\n",
    "from sklearn_crfsuite.metrics import sequence_accuracy_score\n",
    "from sklearn.linear_model import LogisticRegression\n",
    "import scipy\n",
    "import sklearn\n",
    "import scipy.stats\n",
    "from sklearn.metrics import make_scorer\n",
    "from sklearn.model_selection import RandomizedSearchCV,GridSearchCV\n",
    "from sklearn_crfsuite import scorers\n",
    "from sklearn_crfsuite import metrics\n",
    "import classes\n",
    "import pickle\n",
    "import matplotlib.pyplot as plt\n",
    "import copy\n",
    "import segeval as se"
   ]
  },
  {
   "cell_type": "code",
   "execution_count": 2,
   "id": "93615af1",
   "metadata": {},
   "outputs": [],
   "source": [
    "dir_name='reparse'\n",
    "seq_len=15\n",
    "step=15\n",
    "cv_split_name='cv_splits_10'\n",
    "merged_str='scaled.binary0.50_merged'\n",
    "doc_indices=np.arange(1,81)\n",
    "doc_indices\n",
    "test_doc_num=8\n",
    "seed=42"
   ]
  },
  {
   "cell_type": "code",
   "execution_count": 3,
   "id": "9ed81fce",
   "metadata": {},
   "outputs": [],
   "source": [
    "dir_name='reparse'\n",
    "docs_map_name = 'scaled.binary.5_stop_docs_map.json'\n",
    "crf_params_name='.802_21.07_07:26_best_params.json'\n",
    "ens_crf_db_name   = 'ensemble_crf_cv_db_all'\n",
    "ens_lg_db_name = 'ensemble_lg_cv_db_all'\n",
    "cv_crf_bert_name = 'cv_crf_bert_all'\n",
    "per_par=True\n",
    "seq_len=3\n",
    "step=3"
   ]
  },
  {
   "cell_type": "markdown",
   "id": "77ebff71",
   "metadata": {},
   "source": [
    "### Open 1 sentence db"
   ]
  },
  {
   "cell_type": "code",
   "execution_count": 8,
   "id": "2054e392",
   "metadata": {},
   "outputs": [
    {
     "name": "stdout",
     "output_type": "stream",
     "text": [
      "Opened /scratch/sim_reg6/users/zsofya/classroom/MSc/personal_study/thesis/dataframes/reparse/01_sent_db.csv,  index False\n"
     ]
    }
   ],
   "source": [
    "sent_db = pd.DataFrame(common_utils.load_db(dir_name,\"01_sent_db\")['is_nar'])"
   ]
  },
  {
   "cell_type": "code",
   "execution_count": 73,
   "id": "d32348ba",
   "metadata": {},
   "outputs": [
    {
     "data": {
      "text/html": [
       "<div>\n",
       "<style scoped>\n",
       "    .dataframe tbody tr th:only-of-type {\n",
       "        vertical-align: middle;\n",
       "    }\n",
       "\n",
       "    .dataframe tbody tr th {\n",
       "        vertical-align: top;\n",
       "    }\n",
       "\n",
       "    .dataframe thead th {\n",
       "        text-align: right;\n",
       "    }\n",
       "</style>\n",
       "<table border=\"1\" class=\"dataframe\">\n",
       "  <thead>\n",
       "    <tr style=\"text-align: right;\">\n",
       "      <th></th>\n",
       "      <th>is_nar</th>\n",
       "    </tr>\n",
       "  </thead>\n",
       "  <tbody>\n",
       "    <tr>\n",
       "      <th>0</th>\n",
       "      <td>0.0</td>\n",
       "    </tr>\n",
       "    <tr>\n",
       "      <th>1</th>\n",
       "      <td>0.0</td>\n",
       "    </tr>\n",
       "    <tr>\n",
       "      <th>2</th>\n",
       "      <td>0.0</td>\n",
       "    </tr>\n",
       "    <tr>\n",
       "      <th>3</th>\n",
       "      <td>0.0</td>\n",
       "    </tr>\n",
       "    <tr>\n",
       "      <th>4</th>\n",
       "      <td>0.0</td>\n",
       "    </tr>\n",
       "    <tr>\n",
       "      <th>...</th>\n",
       "      <td>...</td>\n",
       "    </tr>\n",
       "    <tr>\n",
       "      <th>608</th>\n",
       "      <td>0.0</td>\n",
       "    </tr>\n",
       "    <tr>\n",
       "      <th>609</th>\n",
       "      <td>0.0</td>\n",
       "    </tr>\n",
       "    <tr>\n",
       "      <th>610</th>\n",
       "      <td>0.0</td>\n",
       "    </tr>\n",
       "    <tr>\n",
       "      <th>611</th>\n",
       "      <td>0.0</td>\n",
       "    </tr>\n",
       "    <tr>\n",
       "      <th>612</th>\n",
       "      <td>0.0</td>\n",
       "    </tr>\n",
       "  </tbody>\n",
       "</table>\n",
       "<p>613 rows × 1 columns</p>\n",
       "</div>"
      ],
      "text/plain": [
       "     is_nar\n",
       "0       0.0\n",
       "1       0.0\n",
       "2       0.0\n",
       "3       0.0\n",
       "4       0.0\n",
       "..      ...\n",
       "608     0.0\n",
       "609     0.0\n",
       "610     0.0\n",
       "611     0.0\n",
       "612     0.0\n",
       "\n",
       "[613 rows x 1 columns]"
      ]
     },
     "execution_count": 73,
     "metadata": {},
     "output_type": "execute_result"
    }
   ],
   "source": [
    "sent_db"
   ]
  },
  {
   "cell_type": "code",
   "execution_count": 75,
   "id": "7df28322",
   "metadata": {},
   "outputs": [
    {
     "name": "stdout",
     "output_type": "stream",
     "text": [
      "MySegVal init called\n"
     ]
    },
    {
     "data": {
      "text/plain": [
       "[21,\n",
       " 43,\n",
       " 27,\n",
       " 24,\n",
       " 41,\n",
       " 19,\n",
       " 44,\n",
       " 11,\n",
       " 53,\n",
       " 22,\n",
       " 1,\n",
       " 59,\n",
       " 16,\n",
       " 5,\n",
       " 8,\n",
       " 3,\n",
       " 41,\n",
       " 8,\n",
       " 7,\n",
       " 24,\n",
       " 23,\n",
       " 20,\n",
       " 7,\n",
       " 10,\n",
       " 1,\n",
       " 8,\n",
       " 67]"
      ]
     },
     "execution_count": 75,
     "metadata": {},
     "output_type": "execute_result"
    }
   ],
   "source": [
    "imp.reload(classes)\n",
    "my_se =classes.MySegVal()\n",
    "seg_from_class=my_se.get_segment_list( sent_db['is_nar'].tolist())\n",
    "seg_from_class"
   ]
  },
  {
   "cell_type": "code",
   "execution_count": 116,
   "id": "bbbe087c",
   "metadata": {},
   "outputs": [],
   "source": [
    "y_pred={}\n",
    "y_pred['a']=[0,0,0,0,0,0,1,1,1,1,1,1]\n",
    "y_pred['b']=[0,0,0,0,0,0,0,0,0,0,0,0]\n",
    "y_pred['c']=[0,0,0,0,0,1,1,1,1,1,1,1]\n",
    "y_pred['d']=[0,1,1,1,1,1,0,0,0,0,0,0]\n",
    "y_pred['e']=[0,0,0,0,0,1,0,1,1,1,1,1]"
   ]
  },
  {
   "cell_type": "code",
   "execution_count": 133,
   "id": "f1aaf2ab",
   "metadata": {},
   "outputs": [
    {
     "name": "stdout",
     "output_type": "stream",
     "text": [
      "MySegEVal init called\n",
      "========\n",
      "a [0, 0, 0, 0, 0, 0, 1, 1, 1, 1, 1, 1]\n",
      "a [0, 0, 0, 0, 0, 0, 1, 1, 1, 1, 1, 1]\n",
      "f1:1\n",
      "recall:1\n",
      "precision:1\n",
      "b_sim:1\n",
      "s_sim:1\n",
      "b_stat\n",
      "\tcount_edits:0\n",
      "\tadditions:[]\n",
      "\tsubstitutions:[]\n",
      "\ttranspositions:[]\n",
      "\tfull_misses:[]\n",
      "\tboundaries_all:2\n",
      "\tmatches:[1]\n",
      "\tpbs:11\n",
      "\tboundary_types:frozenset({1})\n",
      "========\n",
      "a [0, 0, 0, 0, 0, 0, 1, 1, 1, 1, 1, 1]\n",
      "b [0, 0, 0, 0, 0, 0, 0, 0, 0, 0, 0, 0]\n",
      "f1:0\n",
      "recall:0\n",
      "precision:0\n",
      "b_sim:0\n",
      "s_sim:0.9090909090909090909090909091\n",
      "b_stat\n",
      "\tcount_edits:1\n",
      "\tadditions:[Addition(type=1, side='a')]\n",
      "\tsubstitutions:[]\n",
      "\ttranspositions:[]\n",
      "\tfull_misses:[1]\n",
      "\tboundaries_all:1\n",
      "\tmatches:[]\n",
      "\tpbs:11\n",
      "\tboundary_types:frozenset({1})\n",
      "========\n",
      "a [0, 0, 0, 0, 0, 0, 1, 1, 1, 1, 1, 1]\n",
      "c [0, 0, 0, 0, 0, 1, 1, 1, 1, 1, 1, 1]\n",
      "f1:1\n",
      "recall:1\n",
      "precision:1\n",
      "b_sim:0.5\n",
      "s_sim:0.9545454545454545454545454545\n",
      "b_stat\n",
      "\tcount_edits:0.5\n",
      "\tadditions:[]\n",
      "\tsubstitutions:[]\n",
      "\ttranspositions:[Transposition(start=4, end=5, type=1)]\n",
      "\tfull_misses:[1, 1]\n",
      "\tboundaries_all:2\n",
      "\tmatches:[]\n",
      "\tpbs:11\n",
      "\tboundary_types:frozenset({1})\n",
      "========\n",
      "a [0, 0, 0, 0, 0, 0, 1, 1, 1, 1, 1, 1]\n",
      "d [0, 1, 1, 1, 1, 1, 0, 0, 0, 0, 0, 0]\n",
      "f1:0.6666666666666666666666666667\n",
      "recall:0.5\n",
      "precision:0.5\n",
      "b_sim:0.5\n",
      "s_sim:0.9090909090909090909090909091\n",
      "b_stat\n",
      "\tcount_edits:1\n",
      "\tadditions:[Addition(type=1, side='b')]\n",
      "\tsubstitutions:[]\n",
      "\ttranspositions:[]\n",
      "\tfull_misses:[1]\n",
      "\tboundaries_all:3\n",
      "\tmatches:[1]\n",
      "\tpbs:11\n",
      "\tboundary_types:frozenset({1})\n",
      "========\n",
      "a [0, 0, 0, 0, 0, 0, 1, 1, 1, 1, 1, 1]\n",
      "e [0, 0, 0, 0, 0, 1, 0, 1, 1, 1, 1, 1]\n",
      "f1:0.5000000000000000000000000001\n",
      "recall:0.3333333333333333333333333333\n",
      "precision:0.3333333333333333333333333333\n",
      "b_sim:0.3333333333333333333333333333\n",
      "s_sim:0.8181818181818181818181818182\n",
      "b_stat\n",
      "\tcount_edits:2\n",
      "\tadditions:[Addition(type=1, side='b'), Addition(type=1, side='b')]\n",
      "\tsubstitutions:[]\n",
      "\ttranspositions:[]\n",
      "\tfull_misses:[1, 1]\n",
      "\tboundaries_all:4\n",
      "\tmatches:[1]\n",
      "\tpbs:11\n",
      "\tboundary_types:frozenset({1})\n"
     ]
    }
   ],
   "source": [
    "imp.reload(classes)\n",
    "my_se=classes.MySegEVal(n_t=2)\n",
    "for k,v in y_pred.items():    \n",
    "    res=my_se.get_scores(y_pred['a'],v)\n",
    "    print(\"=\"*8)\n",
    "    print(\"{} {}\\n{} {}\".format('a',y_pred['a'],k,v))\n",
    "    for i,j in res.items():\n",
    "        if isinstance(j,dict):\n",
    "            print(\"{}\".format(i))\n",
    "            for m,n in j.items():\n",
    "                print(\"\\t{}:{}\".format(m,n))\n",
    "        else:\n",
    "            print(\"{}:{}\".format(i,j))"
   ]
  },
  {
   "cell_type": "code",
   "execution_count": 101,
   "id": "4aa054a1",
   "metadata": {},
   "outputs": [],
   "source": [
    "y['true_seg']=my_se.get_segment_list(y['true'])\n",
    "y['pred_seg']=my_se.get_segment_list(y['pred'])"
   ]
  },
  {
   "cell_type": "code",
   "execution_count": 102,
   "id": "973eadb1",
   "metadata": {},
   "outputs": [
    {
     "data": {
      "text/plain": [
       "([2, 3, 3], [3, 2, 3])"
      ]
     },
     "execution_count": 102,
     "metadata": {},
     "output_type": "execute_result"
    }
   ],
   "source": [
    "y['true_seg'],y['pred_seg']"
   ]
  },
  {
   "cell_type": "code",
   "execution_count": 103,
   "id": "ac598a64",
   "metadata": {},
   "outputs": [],
   "source": [
    "conf_matrix=se.boundary_confusion_matrix(y['true_seg'],y['pred_seg'])"
   ]
  },
  {
   "cell_type": "code",
   "execution_count": 104,
   "id": "1f38f23a",
   "metadata": {},
   "outputs": [
    {
     "data": {
      "text/plain": [
       "Decimal('1')"
      ]
     },
     "execution_count": 104,
     "metadata": {},
     "output_type": "execute_result"
    }
   ],
   "source": [
    "se.precision(conf_matrix)"
   ]
  },
  {
   "cell_type": "code",
   "execution_count": 105,
   "id": "bb5b9acc",
   "metadata": {},
   "outputs": [
    {
     "data": {
      "text/plain": [
       "Decimal('1')"
      ]
     },
     "execution_count": 105,
     "metadata": {},
     "output_type": "execute_result"
    }
   ],
   "source": [
    "se.recall(conf_matrix)"
   ]
  },
  {
   "cell_type": "code",
   "execution_count": 106,
   "id": "846156ee",
   "metadata": {},
   "outputs": [
    {
     "data": {
      "text/plain": [
       "Decimal('1')"
      ]
     },
     "execution_count": 106,
     "metadata": {},
     "output_type": "execute_result"
    }
   ],
   "source": [
    "sese.fmeasure(conf_matrix)"
   ]
  },
  {
   "cell_type": "code",
   "execution_count": 32,
   "id": "6358d944",
   "metadata": {},
   "outputs": [],
   "source": [
    "y=[0,0,0,0,1,1,1,1,1,0,0,1,1,0,1,0,0,0]"
   ]
  },
  {
   "cell_type": "code",
   "execution_count": 35,
   "id": "ef56ff14",
   "metadata": {},
   "outputs": [
    {
     "data": {
      "text/html": [
       "<div>\n",
       "<style scoped>\n",
       "    .dataframe tbody tr th:only-of-type {\n",
       "        vertical-align: middle;\n",
       "    }\n",
       "\n",
       "    .dataframe tbody tr th {\n",
       "        vertical-align: top;\n",
       "    }\n",
       "\n",
       "    .dataframe thead th {\n",
       "        text-align: right;\n",
       "    }\n",
       "</style>\n",
       "<table border=\"1\" class=\"dataframe\">\n",
       "  <thead>\n",
       "    <tr style=\"text-align: right;\">\n",
       "      <th></th>\n",
       "      <th>is_nar</th>\n",
       "    </tr>\n",
       "  </thead>\n",
       "  <tbody>\n",
       "    <tr>\n",
       "      <th>0</th>\n",
       "      <td>0</td>\n",
       "    </tr>\n",
       "    <tr>\n",
       "      <th>1</th>\n",
       "      <td>0</td>\n",
       "    </tr>\n",
       "    <tr>\n",
       "      <th>2</th>\n",
       "      <td>0</td>\n",
       "    </tr>\n",
       "    <tr>\n",
       "      <th>3</th>\n",
       "      <td>0</td>\n",
       "    </tr>\n",
       "    <tr>\n",
       "      <th>4</th>\n",
       "      <td>1</td>\n",
       "    </tr>\n",
       "    <tr>\n",
       "      <th>5</th>\n",
       "      <td>1</td>\n",
       "    </tr>\n",
       "    <tr>\n",
       "      <th>6</th>\n",
       "      <td>1</td>\n",
       "    </tr>\n",
       "    <tr>\n",
       "      <th>7</th>\n",
       "      <td>1</td>\n",
       "    </tr>\n",
       "    <tr>\n",
       "      <th>8</th>\n",
       "      <td>1</td>\n",
       "    </tr>\n",
       "    <tr>\n",
       "      <th>9</th>\n",
       "      <td>0</td>\n",
       "    </tr>\n",
       "    <tr>\n",
       "      <th>10</th>\n",
       "      <td>0</td>\n",
       "    </tr>\n",
       "    <tr>\n",
       "      <th>11</th>\n",
       "      <td>1</td>\n",
       "    </tr>\n",
       "    <tr>\n",
       "      <th>12</th>\n",
       "      <td>1</td>\n",
       "    </tr>\n",
       "    <tr>\n",
       "      <th>13</th>\n",
       "      <td>0</td>\n",
       "    </tr>\n",
       "    <tr>\n",
       "      <th>14</th>\n",
       "      <td>1</td>\n",
       "    </tr>\n",
       "    <tr>\n",
       "      <th>15</th>\n",
       "      <td>0</td>\n",
       "    </tr>\n",
       "    <tr>\n",
       "      <th>16</th>\n",
       "      <td>0</td>\n",
       "    </tr>\n",
       "    <tr>\n",
       "      <th>17</th>\n",
       "      <td>0</td>\n",
       "    </tr>\n",
       "  </tbody>\n",
       "</table>\n",
       "</div>"
      ],
      "text/plain": [
       "    is_nar\n",
       "0        0\n",
       "1        0\n",
       "2        0\n",
       "3        0\n",
       "4        1\n",
       "5        1\n",
       "6        1\n",
       "7        1\n",
       "8        1\n",
       "9        0\n",
       "10       0\n",
       "11       1\n",
       "12       1\n",
       "13       0\n",
       "14       1\n",
       "15       0\n",
       "16       0\n",
       "17       0"
      ]
     },
     "execution_count": 35,
     "metadata": {},
     "output_type": "execute_result"
    }
   ],
   "source": [
    "y_db  = pd.DataFrame(y,columns =['is_nar'])\n",
    "y_db"
   ]
  },
  {
   "cell_type": "code",
   "execution_count": 37,
   "id": "4d71fd76",
   "metadata": {},
   "outputs": [
    {
     "data": {
      "text/plain": [
       "<generator object DataFrame.items at 0x2ba9d16fddd0>"
      ]
     },
     "execution_count": 37,
     "metadata": {},
     "output_type": "execute_result"
    }
   ],
   "source": [
    "y_db.items()"
   ]
  },
  {
   "cell_type": "code",
   "execution_count": 59,
   "id": "1ad03f5c",
   "metadata": {},
   "outputs": [
    {
     "data": {
      "text/plain": [
       "([21,\n",
       "  43,\n",
       "  27,\n",
       "  24,\n",
       "  41,\n",
       "  19,\n",
       "  44,\n",
       "  11,\n",
       "  53,\n",
       "  22,\n",
       "  1,\n",
       "  59,\n",
       "  16,\n",
       "  5,\n",
       "  8,\n",
       "  3,\n",
       "  41,\n",
       "  8,\n",
       "  7,\n",
       "  24,\n",
       "  23,\n",
       "  20,\n",
       "  7,\n",
       "  10,\n",
       "  1,\n",
       "  8,\n",
       "  67],\n",
       " [1,\n",
       "  21,\n",
       "  43,\n",
       "  27,\n",
       "  24,\n",
       "  41,\n",
       "  19,\n",
       "  44,\n",
       "  11,\n",
       "  53,\n",
       "  22,\n",
       "  1,\n",
       "  59,\n",
       "  16,\n",
       "  5,\n",
       "  8,\n",
       "  3,\n",
       "  41,\n",
       "  8,\n",
       "  7,\n",
       "  24,\n",
       "  23,\n",
       "  20,\n",
       "  7,\n",
       "  10,\n",
       "  1,\n",
       "  66])"
      ]
     },
     "execution_count": 59,
     "metadata": {},
     "output_type": "execute_result"
    }
   ],
   "source": [
    "seg_size_list,seg_size_list_2"
   ]
  },
  {
   "cell_type": "code",
   "execution_count": 68,
   "id": "4b063d7c",
   "metadata": {},
   "outputs": [],
   "source": [
    "l1=[3,4,3,5,3]\n",
    "l2=[4,3,1,1,1,6]"
   ]
  },
  {
   "cell_type": "code",
   "execution_count": 70,
   "id": "49ebd45d",
   "metadata": {},
   "outputs": [
    {
     "data": {
      "text/plain": [
       "Decimal('0.2')"
      ]
     },
     "execution_count": 70,
     "metadata": {},
     "output_type": "execute_result"
    }
   ],
   "source": [
    "se.boundary_similarity(l1,l2,n_t=2)"
   ]
  },
  {
   "cell_type": "code",
   "execution_count": 71,
   "id": "b3b1dd72",
   "metadata": {},
   "outputs": [
    {
     "data": {
      "text/plain": [
       "Decimal('0.7647058823529411764705882353')"
      ]
     },
     "execution_count": 71,
     "metadata": {},
     "output_type": "execute_result"
    }
   ],
   "source": [
    "se.segmentation_similarity(l1,l2,n_t=2)"
   ]
  },
  {
   "cell_type": "code",
   "execution_count": null,
   "id": "cfdd6d9e",
   "metadata": {},
   "outputs": [],
   "source": []
  }
 ],
 "metadata": {
  "kernelspec": {
   "display_name": "Python 3",
   "language": "python",
   "name": "python3"
  },
  "language_info": {
   "codemirror_mode": {
    "name": "ipython",
    "version": 3
   },
   "file_extension": ".py",
   "mimetype": "text/x-python",
   "name": "python",
   "nbconvert_exporter": "python",
   "pygments_lexer": "ipython3",
   "version": "3.8.5"
  }
 },
 "nbformat": 4,
 "nbformat_minor": 5
}
