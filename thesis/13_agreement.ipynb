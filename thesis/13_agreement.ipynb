{
 "cells": [
  {
   "cell_type": "code",
   "execution_count": 437,
   "id": "f91f9cf6",
   "metadata": {},
   "outputs": [],
   "source": [
    "import pandas as pd\n",
    "import os,sys, imp, glob\n",
    "sys.path.append('./src/')\n",
    "import doc_utils_clean as doc_utils\n",
    "import pos_yap_process\n",
    "import feature_utils\n",
    "import common_utils\n",
    "import defines\n",
    "import numpy as np\n",
    "import re"
   ]
  },
  {
   "cell_type": "code",
   "execution_count": 438,
   "id": "b3ff37f1",
   "metadata": {},
   "outputs": [
    {
     "data": {
      "text/plain": [
       "{'Dana': '/scratch/sim_reg6/users/zsofya/classroom/MSc/personal_study/thesis/tmp/agreement/01_Compare_Dana.docx',\n",
       " 'Mor': '/scratch/sim_reg6/users/zsofya/classroom/MSc/personal_study/thesis/tmp/agreement/02_Compare_Mor.docx'}"
      ]
     },
     "execution_count": 438,
     "metadata": {},
     "output_type": "execute_result"
    }
   ],
   "source": [
    "doc_list =  glob.glob(os.path.join(os.path.join(os.getcwd(),\"tmp\",\"agreement\",r\"*_Compare_*.docx\")))\n",
    "doc_list.sort()\n",
    "doc_map = {}\n",
    "\n",
    "for idx,doc in enumerate(doc_list):\n",
    "    f_name=re.sub('.docx','',os.path.basename(doc).split('_')[-1])\n",
    "    doc_map[f_name] = doc\n",
    "doc_map"
   ]
  },
  {
   "cell_type": "code",
   "execution_count": 439,
   "id": "250818c3",
   "metadata": {},
   "outputs": [],
   "source": [
    "dir_name=\"agreement\""
   ]
  },
  {
   "cell_type": "code",
   "execution_count": 440,
   "id": "9384fa3c",
   "metadata": {},
   "outputs": [
    {
     "data": {
      "text/html": [
       "<div>\n",
       "<style scoped>\n",
       "    .dataframe tbody tr th:only-of-type {\n",
       "        vertical-align: middle;\n",
       "    }\n",
       "\n",
       "    .dataframe tbody tr th {\n",
       "        vertical-align: top;\n",
       "    }\n",
       "\n",
       "    .dataframe thead th {\n",
       "        text-align: right;\n",
       "    }\n",
       "</style>\n",
       "<table border=\"1\" class=\"dataframe\">\n",
       "  <thead>\n",
       "    <tr style=\"text-align: right;\">\n",
       "      <th></th>\n",
       "      <th>path</th>\n",
       "      <th>file_name</th>\n",
       "      <th>doc_idx_from_name</th>\n",
       "    </tr>\n",
       "  </thead>\n",
       "  <tbody>\n",
       "    <tr>\n",
       "      <th>0</th>\n",
       "      <td>/scratch/sim_reg6/users/zsofya/classroom/MSc/p...</td>\n",
       "      <td>01_Compare_Dana.docx</td>\n",
       "      <td>1</td>\n",
       "    </tr>\n",
       "    <tr>\n",
       "      <th>1</th>\n",
       "      <td>/scratch/sim_reg6/users/zsofya/classroom/MSc/p...</td>\n",
       "      <td>02_Compare_Mor.docx</td>\n",
       "      <td>2</td>\n",
       "    </tr>\n",
       "  </tbody>\n",
       "</table>\n",
       "</div>"
      ],
      "text/plain": [
       "                                                path             file_name  \\\n",
       "0  /scratch/sim_reg6/users/zsofya/classroom/MSc/p...  01_Compare_Dana.docx   \n",
       "1  /scratch/sim_reg6/users/zsofya/classroom/MSc/p...   02_Compare_Mor.docx   \n",
       "\n",
       "   doc_idx_from_name  \n",
       "0                  1  \n",
       "1                  2  "
      ]
     },
     "execution_count": 440,
     "metadata": {},
     "output_type": "execute_result"
    }
   ],
   "source": [
    "doc_db=pd.read_csv(os.path.join(os.getcwd(), defines.PATH_TO_DFS, dir_name, \"doc_db.csv\"))\n",
    "doc_db"
   ]
  },
  {
   "cell_type": "code",
   "execution_count": 441,
   "id": "b3bc1e9d",
   "metadata": {},
   "outputs": [
    {
     "data": {
      "text/plain": [
       "'agreement'"
      ]
     },
     "execution_count": 441,
     "metadata": {},
     "output_type": "execute_result"
    }
   ],
   "source": [
    "dir_name"
   ]
  },
  {
   "cell_type": "code",
   "execution_count": 442,
   "id": "c16f964a",
   "metadata": {},
   "outputs": [
    {
     "name": "stdout",
     "output_type": "stream",
     "text": [
      "Creating doc_db\n",
      "738 sentences 0 738 sentences 1 "
     ]
    }
   ],
   "source": [
    "imp.reload(doc_utils)\n",
    "doc_utils.parse_all_docs(dir_name=dir_name,merge_short_sent=False,doc_path_list=doc_list)"
   ]
  },
  {
   "cell_type": "code",
   "execution_count": 443,
   "id": "3fc79495",
   "metadata": {},
   "outputs": [],
   "source": [
    "db = {}\n",
    "for db_type in ['par_db','sent_db','block_db']:\n",
    "    db[db_type]={}\n",
    "    for idx in doc_db['doc_idx_from_name'].values:\n",
    "        db[db_type][idx]=pd.read_csv(os.path.join(os.getcwd(), defines.PATH_TO_DFS, dir_name, \"{:02d}_{}.csv\".format(idx,db_type)))"
   ]
  },
  {
   "cell_type": "code",
   "execution_count": 444,
   "id": "aa5fe24a",
   "metadata": {},
   "outputs": [
    {
     "name": "stdout",
     "output_type": "stream",
     "text": [
      "par_db 164 164\n",
      "sent_db 738 738\n",
      "block_db 212 200\n"
     ]
    }
   ],
   "source": [
    "for key,value in db.items():\n",
    "    print(key,len(value[1]),len(value[2]))\n"
   ]
  },
  {
   "cell_type": "code",
   "execution_count": 445,
   "id": "8a2d21db",
   "metadata": {},
   "outputs": [],
   "source": [
    "sent_count={}\n",
    "sent_count[1]=db['sent_db'][1].groupby('par_idx_in_doc').size()"
   ]
  },
  {
   "cell_type": "code",
   "execution_count": 446,
   "id": "bd3744ce",
   "metadata": {},
   "outputs": [],
   "source": [
    "sent_count[2]=db['sent_db'][2].groupby('par_idx_in_doc').size()"
   ]
  },
  {
   "cell_type": "code",
   "execution_count": 447,
   "id": "b9608e99",
   "metadata": {},
   "outputs": [
    {
     "data": {
      "text/plain": [
       "par_idx_in_doc\n",
       "0.000000      1\n",
       "1.000000      1\n",
       "2.000000      2\n",
       "3.000000      1\n",
       "4.000000      1\n",
       "             ..\n",
       "159.000000    1\n",
       "160.000000    2\n",
       "161.000000    1\n",
       "162.000000    5\n",
       "163.000000    8\n",
       "Length: 160, dtype: int64"
      ]
     },
     "execution_count": 447,
     "metadata": {},
     "output_type": "execute_result"
    }
   ],
   "source": [
    "sent_count[2]"
   ]
  },
  {
   "cell_type": "code",
   "execution_count": 448,
   "id": "78f30f57",
   "metadata": {},
   "outputs": [
    {
     "data": {
      "text/html": [
       "<div>\n",
       "<style scoped>\n",
       "    .dataframe tbody tr th:only-of-type {\n",
       "        vertical-align: middle;\n",
       "    }\n",
       "\n",
       "    .dataframe tbody tr th {\n",
       "        vertical-align: top;\n",
       "    }\n",
       "\n",
       "    .dataframe thead th {\n",
       "        text-align: right;\n",
       "    }\n",
       "</style>\n",
       "<table border=\"1\" class=\"dataframe\">\n",
       "  <thead>\n",
       "    <tr style=\"text-align: right;\">\n",
       "      <th></th>\n",
       "      <th>1</th>\n",
       "      <th>2</th>\n",
       "    </tr>\n",
       "    <tr>\n",
       "      <th>par_idx_in_doc</th>\n",
       "      <th></th>\n",
       "      <th></th>\n",
       "    </tr>\n",
       "  </thead>\n",
       "  <tbody>\n",
       "    <tr>\n",
       "      <th>0.000000</th>\n",
       "      <td>1</td>\n",
       "      <td>1</td>\n",
       "    </tr>\n",
       "    <tr>\n",
       "      <th>1.000000</th>\n",
       "      <td>1</td>\n",
       "      <td>1</td>\n",
       "    </tr>\n",
       "    <tr>\n",
       "      <th>2.000000</th>\n",
       "      <td>2</td>\n",
       "      <td>2</td>\n",
       "    </tr>\n",
       "    <tr>\n",
       "      <th>3.000000</th>\n",
       "      <td>1</td>\n",
       "      <td>1</td>\n",
       "    </tr>\n",
       "    <tr>\n",
       "      <th>4.000000</th>\n",
       "      <td>1</td>\n",
       "      <td>1</td>\n",
       "    </tr>\n",
       "    <tr>\n",
       "      <th>...</th>\n",
       "      <td>...</td>\n",
       "      <td>...</td>\n",
       "    </tr>\n",
       "    <tr>\n",
       "      <th>159.000000</th>\n",
       "      <td>1</td>\n",
       "      <td>1</td>\n",
       "    </tr>\n",
       "    <tr>\n",
       "      <th>160.000000</th>\n",
       "      <td>2</td>\n",
       "      <td>2</td>\n",
       "    </tr>\n",
       "    <tr>\n",
       "      <th>161.000000</th>\n",
       "      <td>1</td>\n",
       "      <td>1</td>\n",
       "    </tr>\n",
       "    <tr>\n",
       "      <th>162.000000</th>\n",
       "      <td>5</td>\n",
       "      <td>5</td>\n",
       "    </tr>\n",
       "    <tr>\n",
       "      <th>163.000000</th>\n",
       "      <td>8</td>\n",
       "      <td>8</td>\n",
       "    </tr>\n",
       "  </tbody>\n",
       "</table>\n",
       "<p>160 rows × 2 columns</p>\n",
       "</div>"
      ],
      "text/plain": [
       "                1  2\n",
       "par_idx_in_doc      \n",
       "0.000000        1  1\n",
       "1.000000        1  1\n",
       "2.000000        2  2\n",
       "3.000000        1  1\n",
       "4.000000        1  1\n",
       "...            .. ..\n",
       "159.000000      1  1\n",
       "160.000000      2  2\n",
       "161.000000      1  1\n",
       "162.000000      5  5\n",
       "163.000000      8  8\n",
       "\n",
       "[160 rows x 2 columns]"
      ]
     },
     "execution_count": 448,
     "metadata": {},
     "output_type": "execute_result"
    }
   ],
   "source": [
    "db_diff = pd.DataFrame()\n",
    "db_diff['1']=sent_count[1]\n",
    "db_diff['2']=sent_count[2]\n",
    "db_diff"
   ]
  },
  {
   "cell_type": "code",
   "execution_count": 449,
   "id": "a554119a",
   "metadata": {},
   "outputs": [
    {
     "data": {
      "text/html": [
       "<div>\n",
       "<style scoped>\n",
       "    .dataframe tbody tr th:only-of-type {\n",
       "        vertical-align: middle;\n",
       "    }\n",
       "\n",
       "    .dataframe tbody tr th {\n",
       "        vertical-align: top;\n",
       "    }\n",
       "\n",
       "    .dataframe thead th {\n",
       "        text-align: right;\n",
       "    }\n",
       "</style>\n",
       "<table border=\"1\" class=\"dataframe\">\n",
       "  <thead>\n",
       "    <tr style=\"text-align: right;\">\n",
       "      <th></th>\n",
       "      <th>1</th>\n",
       "      <th>2</th>\n",
       "    </tr>\n",
       "    <tr>\n",
       "      <th>par_idx_in_doc</th>\n",
       "      <th></th>\n",
       "      <th></th>\n",
       "    </tr>\n",
       "  </thead>\n",
       "  <tbody>\n",
       "  </tbody>\n",
       "</table>\n",
       "</div>"
      ],
      "text/plain": [
       "Empty DataFrame\n",
       "Columns: [1, 2]\n",
       "Index: []"
      ]
     },
     "execution_count": 449,
     "metadata": {},
     "output_type": "execute_result"
    }
   ],
   "source": [
    "db_diff[db_diff['1']!=db_diff['2']]"
   ]
  },
  {
   "cell_type": "code",
   "execution_count": 450,
   "id": "f3507a15",
   "metadata": {},
   "outputs": [],
   "source": [
    "diff_par_indices=db_diff[db_diff['1']!=db_diff['2']].index"
   ]
  },
  {
   "cell_type": "code",
   "execution_count": 451,
   "id": "4b99e10d",
   "metadata": {},
   "outputs": [
    {
     "data": {
      "text/html": [
       "<div>\n",
       "<style scoped>\n",
       "    .dataframe tbody tr th:only-of-type {\n",
       "        vertical-align: middle;\n",
       "    }\n",
       "\n",
       "    .dataframe tbody tr th {\n",
       "        vertical-align: top;\n",
       "    }\n",
       "\n",
       "    .dataframe thead th {\n",
       "        text-align: right;\n",
       "    }\n",
       "</style>\n",
       "<table border=\"1\" class=\"dataframe\">\n",
       "  <thead>\n",
       "    <tr style=\"text-align: right;\">\n",
       "      <th></th>\n",
       "      <th>text</th>\n",
       "      <th>par_db_idx</th>\n",
       "      <th>par_type</th>\n",
       "      <th>is_nar</th>\n",
       "    </tr>\n",
       "  </thead>\n",
       "  <tbody>\n",
       "  </tbody>\n",
       "</table>\n",
       "</div>"
      ],
      "text/plain": [
       "Empty DataFrame\n",
       "Columns: [text, par_db_idx, par_type, is_nar]\n",
       "Index: []"
      ]
     },
     "metadata": {},
     "output_type": "display_data"
    }
   ],
   "source": [
    "with pd.option_context('display.max_colwidth', None):\n",
    "    display(db['block_db'][1].query(\"par_db_idx.isin(@diff_par_indices)\")[['text','par_db_idx','par_type','is_nar']])"
   ]
  },
  {
   "cell_type": "code",
   "execution_count": 452,
   "id": "0618e1d5",
   "metadata": {},
   "outputs": [
    {
     "data": {
      "text/html": [
       "<div>\n",
       "<style scoped>\n",
       "    .dataframe tbody tr th:only-of-type {\n",
       "        vertical-align: middle;\n",
       "    }\n",
       "\n",
       "    .dataframe tbody tr th {\n",
       "        vertical-align: top;\n",
       "    }\n",
       "\n",
       "    .dataframe thead th {\n",
       "        text-align: right;\n",
       "    }\n",
       "</style>\n",
       "<table border=\"1\" class=\"dataframe\">\n",
       "  <thead>\n",
       "    <tr style=\"text-align: right;\">\n",
       "      <th></th>\n",
       "      <th>text</th>\n",
       "      <th>par_db_idx</th>\n",
       "      <th>par_type</th>\n",
       "      <th>is_nar</th>\n",
       "    </tr>\n",
       "  </thead>\n",
       "  <tbody>\n",
       "  </tbody>\n",
       "</table>\n",
       "</div>"
      ],
      "text/plain": [
       "Empty DataFrame\n",
       "Columns: [text, par_db_idx, par_type, is_nar]\n",
       "Index: []"
      ]
     },
     "metadata": {},
     "output_type": "display_data"
    }
   ],
   "source": [
    "with pd.option_context('display.max_colwidth', None):\n",
    "    display(db['block_db'][2].query(\"par_db_idx.isin(@diff_par_indices)\")[['text','par_db_idx','par_type','is_nar']])"
   ]
  },
  {
   "cell_type": "code",
   "execution_count": 453,
   "id": "827c7ad3",
   "metadata": {},
   "outputs": [],
   "source": [
    "for idx in diff_par_indices:\n",
    "    with pd.option_context('display.max_colwidth', None):\n",
    "        display(db['sent_db'][1].query(\"par_idx_in_doc == @idx\")[['text','sent_idx_in_par','par_type','is_nar','par_idx_in_doc']])"
   ]
  },
  {
   "cell_type": "code",
   "execution_count": 454,
   "id": "36133df3",
   "metadata": {},
   "outputs": [],
   "source": [
    "for idx in diff_par_indices:\n",
    "    with pd.option_context('display.max_colwidth', None):\n",
    "        display(db['sent_db'][2].query(\"par_idx_in_doc == @idx\")[['text','sent_idx_in_par','par_type','is_nar','par_idx_in_doc']])"
   ]
  },
  {
   "cell_type": "code",
   "execution_count": null,
   "id": "e254745d",
   "metadata": {},
   "outputs": [],
   "source": [
    "for idx in diff_par_indices:\n",
    "    with pd.option_context('display.max_colwidth', None):\n",
    "        display(db['sent_db'][1].query(\"par_idx_in_doc == @idx\")[['text','sent_idx_in_par','par_type','is_nar','par_idx_in_doc']])"
   ]
  }
 ],
 "metadata": {
  "kernelspec": {
   "display_name": "Python 3",
   "language": "python",
   "name": "python3"
  },
  "language_info": {
   "codemirror_mode": {
    "name": "ipython",
    "version": 3
   },
   "file_extension": ".py",
   "mimetype": "text/x-python",
   "name": "python",
   "nbconvert_exporter": "python",
   "pygments_lexer": "ipython3",
   "version": "3.8.5"
  }
 },
 "nbformat": 4,
 "nbformat_minor": 5
}
