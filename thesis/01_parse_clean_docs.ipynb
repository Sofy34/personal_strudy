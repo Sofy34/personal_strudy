{
 "cells": [
  {
   "cell_type": "code",
   "execution_count": 102,
   "id": "2aa3cb10",
   "metadata": {},
   "outputs": [],
   "source": [
    "## thesis specific import ##\n",
    "import sys\n",
    "import imp\n",
    "import seaborn as sns\n",
    "sys.path.append('./src/')\n",
    "import defines\n",
    "import doc_utils_clean as doc_utils\n",
    "import pandas as pd"
   ]
  },
  {
   "cell_type": "code",
   "execution_count": 103,
   "id": "54b57a97",
   "metadata": {},
   "outputs": [
    {
     "name": "stdout",
     "output_type": "stream",
     "text": [
      "Doc 0 paragraphs saved\n",
      "Doc 1 paragraphs saved\n",
      "Doc 2 paragraphs saved\n",
      "Doc 3 paragraphs saved\n",
      "Doc 4 paragraphs saved\n",
      "Doc 5 paragraphs saved\n",
      "All blocks saved\n",
      "All sentences saved\n"
     ]
    }
   ],
   "source": [
    "imp.reload(doc_utils)\n",
    "doc_utils.get_all_data()"
   ]
  },
  {
   "cell_type": "code",
   "execution_count": 104,
   "id": "bd396677",
   "metadata": {},
   "outputs": [
    {
     "data": {
      "text/html": [
       "<div>\n",
       "<style scoped>\n",
       "    .dataframe tbody tr th:only-of-type {\n",
       "        vertical-align: middle;\n",
       "    }\n",
       "\n",
       "    .dataframe tbody tr th {\n",
       "        vertical-align: top;\n",
       "    }\n",
       "\n",
       "    .dataframe thead th {\n",
       "        text-align: right;\n",
       "    }\n",
       "</style>\n",
       "<table border=\"1\" class=\"dataframe\">\n",
       "  <thead>\n",
       "    <tr style=\"text-align: right;\">\n",
       "      <th></th>\n",
       "      <th>path</th>\n",
       "      <th>file_name</th>\n",
       "    </tr>\n",
       "  </thead>\n",
       "  <tbody>\n",
       "    <tr>\n",
       "      <th>0</th>\n",
       "      <td>./tmp/nun2_lc.docx</td>\n",
       "      <td>nun2_lc.docx</td>\n",
       "    </tr>\n",
       "    <tr>\n",
       "      <th>1</th>\n",
       "      <td>./tmp/lamedbet21_lc.docx</td>\n",
       "      <td>lamedbet21_lc.docx</td>\n",
       "    </tr>\n",
       "    <tr>\n",
       "      <th>2</th>\n",
       "      <td>./tmp/alefsameh3_lc.docx</td>\n",
       "      <td>alefsameh3_lc.docx</td>\n",
       "    </tr>\n",
       "    <tr>\n",
       "      <th>3</th>\n",
       "      <td>./tmp/aingimel3_lc.docx</td>\n",
       "      <td>aingimel3_lc.docx</td>\n",
       "    </tr>\n",
       "    <tr>\n",
       "      <th>4</th>\n",
       "      <td>./tmp/kafhey_23_lc.docx</td>\n",
       "      <td>kafhey_23_lc.docx</td>\n",
       "    </tr>\n",
       "    <tr>\n",
       "      <th>5</th>\n",
       "      <td>./tmp/kafdalet_15_lc.docx</td>\n",
       "      <td>kafdalet_15_lc.docx</td>\n",
       "    </tr>\n",
       "  </tbody>\n",
       "</table>\n",
       "</div>"
      ],
      "text/plain": [
       "                        path            file_name\n",
       "0         ./tmp/nun2_lc.docx         nun2_lc.docx\n",
       "1   ./tmp/lamedbet21_lc.docx   lamedbet21_lc.docx\n",
       "2   ./tmp/alefsameh3_lc.docx   alefsameh3_lc.docx\n",
       "3    ./tmp/aingimel3_lc.docx    aingimel3_lc.docx\n",
       "4    ./tmp/kafhey_23_lc.docx    kafhey_23_lc.docx\n",
       "5  ./tmp/kafdalet_15_lc.docx  kafdalet_15_lc.docx"
      ]
     },
     "execution_count": 104,
     "metadata": {},
     "output_type": "execute_result"
    }
   ],
   "source": [
    "doc_db =  pd.read_csv(\"doc_db.csv\")\n",
    "doc_db"
   ]
  },
  {
   "cell_type": "code",
   "execution_count": 105,
   "id": "74a691d1",
   "metadata": {},
   "outputs": [],
   "source": [
    "sent_db = pd.read_csv(\"sent_db.csv\")"
   ]
  },
  {
   "cell_type": "code",
   "execution_count": 106,
   "id": "ce2e71b4",
   "metadata": {},
   "outputs": [
    {
     "data": {
      "text/plain": [
       "text                 False\n",
       "sent_idx_in_block    False\n",
       "block_idx            False\n",
       "is_nar               False\n",
       "doc_idx              False\n",
       "par_db_idx           False\n",
       "par_idx_in_doc       False\n",
       "par_type             False\n",
       "block_type           False\n",
       "nar_idx              False\n",
       "sent_len             False\n",
       "sent_idx_in_nar       True\n",
       "nar_len_in_sent       True\n",
       "sent_idx_out_nar      True\n",
       "fist_sent_in_nar     False\n",
       "last_sent_in_nar     False\n",
       "is_client            False\n",
       "dtype: bool"
      ]
     },
     "execution_count": 106,
     "metadata": {},
     "output_type": "execute_result"
    }
   ],
   "source": [
    "sent_db.isna().any()"
   ]
  },
  {
   "cell_type": "code",
   "execution_count": 107,
   "id": "5f2eb6ab",
   "metadata": {},
   "outputs": [
    {
     "data": {
      "text/plain": [
       "Text(0.5, 1.0, 'Count per block type')"
      ]
     },
     "execution_count": 107,
     "metadata": {},
     "output_type": "execute_result"
    },
    {
     "data": {
      "image/png": "[encoded data removed]",
      "text/plain": [
       "<Figure size 432x288 with 1 Axes>"
      ]
     },
     "metadata": {
      "needs_background": "light"
     },
     "output_type": "display_data"
    }
   ],
   "source": [
    "sns.countplot(x='block_type',data=doc_utils.block_db).set_title(\"Count per block type\")"
   ]
  },
  {
   "cell_type": "code",
   "execution_count": 108,
   "id": "f2d839e3",
   "metadata": {},
   "outputs": [
    {
     "data": {
      "text/plain": [
       "doc_idx\n",
       "0.000000     7\n",
       "1.000000    10\n",
       "2.000000    18\n",
       "3.000000    14\n",
       "4.000000    14\n",
       "5.000000     9\n",
       "Name: nar_idx, dtype: int64"
      ]
     },
     "execution_count": 108,
     "metadata": {},
     "output_type": "execute_result"
    }
   ],
   "source": [
    "doc_utils.sent_db.groupby(['doc_idx'])['nar_idx'].nunique()"
   ]
  },
  {
   "cell_type": "code",
   "execution_count": 111,
   "id": "a72ed573",
   "metadata": {},
   "outputs": [
    {
     "data": {
      "text/plain": [
       "Text(0.5, 1.0, 'Is_nar among all sentences')"
      ]
     },
     "execution_count": 111,
     "metadata": {},
     "output_type": "execute_result"
    },
    {
     "data": {
      "image/png": "[encoded data removed]",
      "text/plain": [
       "<Figure size 432x288 with 1 Axes>"
      ]
     },
     "metadata": {
      "needs_background": "light"
     },
     "output_type": "display_data"
    }
   ],
   "source": [
    "sns.countplot(x='is_nar',data=sent_db).set_title(\"Is_nar among all sentences\")"
   ]
  },
  {
   "cell_type": "code",
   "execution_count": 113,
   "id": "bfd957e6",
   "metadata": {},
   "outputs": [
    {
     "data": {
      "text/plain": [
       "<seaborn.axisgrid.FacetGrid at 0x2adeae3deb50>"
      ]
     },
     "execution_count": 113,
     "metadata": {},
     "output_type": "execute_result"
    },
    {
     "data": {
      "image/png": "[encoded data removed]",
      "text/plain": [
       "<Figure size 411.875x360 with 1 Axes>"
      ]
     },
     "metadata": {
      "needs_background": "light"
     },
     "output_type": "display_data"
    }
   ],
   "source": [
    "sns.displot(data=sent_db, x=\"sent_len\", hue=\"is_nar\", kind=\"kde\")"
   ]
  },
  {
   "cell_type": "code",
   "execution_count": 117,
   "id": "26491770",
   "metadata": {},
   "outputs": [
    {
     "data": {
      "text/plain": [
       "<seaborn.axisgrid.FacetGrid at 0x2adeb8afaf70>"
      ]
     },
     "execution_count": 117,
     "metadata": {},
     "output_type": "execute_result"
    },
    {
     "data": {
      "image/png": "[encoded data removed]",
      "text/plain": [
       "<Figure size 360x360 with 1 Axes>"
      ]
     },
     "metadata": {
      "needs_background": "light"
     },
     "output_type": "display_data"
    }
   ],
   "source": [
    "sns.displot(data=sent_db, x='nar_len_in_sent',kind = 'kde')"
   ]
  },
  {
   "cell_type": "code",
   "execution_count": null,
   "id": "80f6fcf9",
   "metadata": {},
   "outputs": [],
   "source": []
  }
 ],
 "metadata": {
  "kernelspec": {
   "display_name": "Python 3",
   "language": "python",
   "name": "python3"
  },
  "language_info": {
   "codemirror_mode": {
    "name": "ipython",
    "version": 3
   },
   "file_extension": ".py",
   "mimetype": "text/x-python",
   "name": "python",
   "nbconvert_exporter": "python",
   "pygments_lexer": "ipython3",
   "version": "3.8.5"
  }
 },
 "nbformat": 4,
 "nbformat_minor": 5
}
