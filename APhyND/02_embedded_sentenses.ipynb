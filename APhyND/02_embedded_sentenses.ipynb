{
 "cells": [
  {
   "cell_type": "code",
   "execution_count": 1,
   "id": "7f471ef4",
   "metadata": {},
   "outputs": [],
   "source": [
    "import sklearn_crfsuite\n",
    "from sklearn_crfsuite import scorers, CRF\n",
    "from sklearn_crfsuite import metrics\n",
    "from sklearn_crfsuite.metrics import flat_classification_report\n",
    "import pandas as pd\n",
    "import numpy as np\n",
    "import imp, sys, os\n",
    "sys.path.append('./src/')\n",
    "import feature_utils, defines\n",
    "import seaborn as sns\n",
    "import glob"
   ]
  },
  {
   "cell_type": "code",
   "execution_count": 3,
   "id": "e0b65df1",
   "metadata": {},
   "outputs": [],
   "source": [
    "vec_dim = 300"
   ]
  },
  {
   "cell_type": "code",
   "execution_count": 4,
   "id": "2f0833e9",
   "metadata": {},
   "outputs": [
    {
     "name": "stdout",
     "output_type": "stream",
     "text": [
      "2 doc sent saved\n",
      "4 doc sent saved\n",
      "6 doc sent saved\n",
      "5 doc sent saved\n",
      "7 doc sent saved\n",
      "8 doc sent saved\n",
      "1 doc sent saved\n",
      "3 doc sent saved\n"
     ]
    }
   ],
   "source": [
    "def get_and_save_doc_vectors(doc_idx,dim): \n",
    "    sent_db = pd.read_csv(os.path.join(os.getcwd(),defines.PATH_TO_DFS,\"{:02d}_sent_db.csv\".format(doc_idx)))\n",
    "    sent_vec_db = feature_utils.get_vector_per_sentence(sent_db,vec_dim)\n",
    "    sent_vec_db.to_csv(os.path.join(os.getcwd(),defines.PATH_TO_DFS,\"{:02d}_sent_vec{}_db.csv\".format(doc_idx,dim)),index=False)\n",
    "    print(\"{} doc sent saved\".format(doc_idx,dim))\n",
    "    \n",
    "doc_db_list = glob.glob(os.path.join(os.path.join(os.getcwd(),defines.PATH_TO_DFS,\"*_sent_db.csv\")))\n",
    "for i,doc in enumerate(doc_db_list):\n",
    "    doc_prefix = os.path.basename(doc).split(\"_\")[0]\n",
    "    get_and_save_doc_vectors(int(doc_prefix),vec_dim)          \n",
    "    \n",
    "                       "
   ]
  },
  {
   "cell_type": "markdown",
   "id": "2ca1385f",
   "metadata": {},
   "source": [
    "## See average length of nar/non-narrative"
   ]
  },
  {
   "cell_type": "code",
   "execution_count": 5,
   "id": "fa30a1f4",
   "metadata": {},
   "outputs": [],
   "source": [
    "sent_db = pd.concat(map(pd.read_csv, glob.glob(os.path.join('dataframes', \"*_sent_db.csv\"))))"
   ]
  },
  {
   "cell_type": "code",
   "execution_count": 6,
   "id": "0933703b",
   "metadata": {},
   "outputs": [
    {
     "name": "stdout",
     "output_type": "stream",
     "text": [
      "<class 'pandas.core.frame.DataFrame'>\n",
      "Int64Index: 3052 entries, 0 to 151\n",
      "Data columns (total 17 columns):\n",
      " #   Column             Non-Null Count  Dtype  \n",
      "---  ------             --------------  -----  \n",
      " 0   text               3052 non-null   object \n",
      " 1   sent_idx_in_block  3052 non-null   float64\n",
      " 2   block_idx          3052 non-null   float64\n",
      " 3   is_nar             3052 non-null   float64\n",
      " 4   doc_idx            3052 non-null   float64\n",
      " 5   par_db_idx         3052 non-null   float64\n",
      " 6   par_idx_in_doc     3052 non-null   float64\n",
      " 7   par_type           3052 non-null   object \n",
      " 8   block_type         3052 non-null   object \n",
      " 9   nar_idx            3052 non-null   float64\n",
      " 10  sent_len           3052 non-null   float64\n",
      " 11  sent_idx_in_nar    1038 non-null   float64\n",
      " 12  nar_len_in_sent    1038 non-null   float64\n",
      " 13  sent_idx_out_nar   2014 non-null   float64\n",
      " 14  fist_sent_in_nar   3052 non-null   bool   \n",
      " 15  last_sent_in_nar   3052 non-null   bool   \n",
      " 16  is_client          3052 non-null   int64  \n",
      "dtypes: bool(2), float64(11), int64(1), object(3)\n",
      "memory usage: 387.5+ KB\n"
     ]
    }
   ],
   "source": [
    "sent_db.info()"
   ]
  },
  {
   "cell_type": "markdown",
   "id": "0ee899ab",
   "metadata": {},
   "source": [
    "### Calculate similarity between all sentences within same doc"
   ]
  },
  {
   "cell_type": "code",
   "execution_count": 14,
   "id": "633a2e34",
   "metadata": {},
   "outputs": [],
   "source": [
    "from sklearn.metrics.pairwise import cosine_similarity\n",
    "\n",
    "def get_and_save_doc_similarity(doc_idx,vec_dim): \n",
    "    sent_vec_db = pd.read_csv(os.path.join(os.getcwd(),defines.PATH_TO_DFS,\"{:02d}_sent_vec{}_db.csv\".format(doc_idx,vec_dim)))\n",
    "    sim_db = pd.DataFrame(cosine_similarity(sent_vec_db))\n",
    "    sim_db.to_csv(os.path.join(os.getcwd(),defines.PATH_TO_DFS,\"{:02d}_sent_sim_vec{}_db.csv\".format(doc_idx,vec_dim)),index=False)\n",
    "    print(\"{} sim_db sent saved\".format(doc_idx))"
   ]
  },
  {
   "cell_type": "code",
   "execution_count": 15,
   "id": "b3e4f677",
   "metadata": {},
   "outputs": [
    {
     "name": "stdout",
     "output_type": "stream",
     "text": [
      "2 sim_db sent saved\n",
      "4 sim_db sent saved\n",
      "6 sim_db sent saved\n",
      "5 sim_db sent saved\n",
      "7 sim_db sent saved\n",
      "8 sim_db sent saved\n",
      "1 sim_db sent saved\n",
      "3 sim_db sent saved\n"
     ]
    }
   ],
   "source": [
    "doc_db_list = glob.glob(os.path.join(os.path.join(os.getcwd(),defines.PATH_TO_DFS,\"*_sent_db.csv\")))\n",
    "for i,doc in enumerate(doc_db_list):\n",
    "    doc_prefix = os.path.basename(doc).split(\"_\")[0]\n",
    "    get_and_save_doc_similarity(int(doc_prefix),vec_dim) "
   ]
  },
  {
   "cell_type": "code",
   "execution_count": null,
   "id": "92d1e011",
   "metadata": {},
   "outputs": [],
   "source": []
  },
  {
   "cell_type": "code",
   "execution_count": null,
   "id": "fb02f9f1",
   "metadata": {},
   "outputs": [],
   "source": []
  },
  {
   "cell_type": "code",
   "execution_count": null,
   "id": "c6169659",
   "metadata": {},
   "outputs": [],
   "source": []
  },
  {
   "cell_type": "code",
   "execution_count": 143,
   "id": "ecf06f74",
   "metadata": {},
   "outputs": [],
   "source": [
    "# Feature set\n",
    "def sent2features(sent_idx): \n",
    "    sent_vec = get_sent_vec(sent_idx)\n",
    "    features = {}\n",
    "    for idx,val in enumerate(sent_vec):\n",
    "        features[\"v{}\".format(idx)] = val\n",
    "    \n",
    "    #BOS - beginning\n",
    "    #EOC - end\n",
    "    #OS - out\n",
    "    if(sent_idx%seq_len == 0):\n",
    "        features['BOS'] = True # sent_is_first_in_nar(sent_idx)\n",
    "    if(sent_idx%seq_len == seq_len-1):\n",
    "        features['EOS'] = True # sent_is_last_in_nar(sent_idx)\n",
    "#     features['OS'] = sent_is_out_nar(sent_idx)\n",
    "    \n",
    "#     if sent_idx > 1:\n",
    "#         features.update({\n",
    "#              '-1:one_before_is_nar': word1.lower(),\n",
    "#         })\n",
    "#     if sent_idx > 2 :\n",
    "#         features.update({\n",
    "#            '-1:one_before_is_nar': word1.lower(),\n",
    "#            '-2:two_before_is_nar': word1.lower(),\n",
    "#         })\n",
    "\n",
    "    return features"
   ]
  },
  {
   "cell_type": "code",
   "execution_count": 186,
   "id": "7ccb554c",
   "metadata": {},
   "outputs": [],
   "source": [
    "def sent2labels(sent_idx):\n",
    "    return \"nar\" if get_sent_label(sent_idx) == 1 else \"not_nar\""
   ]
  },
  {
   "cell_type": "code",
   "execution_count": 193,
   "id": "0207c848",
   "metadata": {},
   "outputs": [],
   "source": [
    "def seq2features(seq_idx):\n",
    "    seq = []\n",
    "    for s in range(seq_idx,seq_idx+seq_len):\n",
    "         seq.extend(sent2features(s))\n",
    "    return seq\n",
    "\n",
    "def seq2labels(seq_idx):\n",
    "    seq = []\n",
    "    for s in range(seq_idx,seq_idx+seq_len):\n",
    "        label = sent2labels(s)\n",
    "        seq.extend([label for i in range(vec_dim)]) # 2 - for 2 more featues EOS and BOS\n",
    "    return seq"
   ]
  },
  {
   "cell_type": "code",
   "execution_count": 194,
   "id": "7b1fd5e7",
   "metadata": {},
   "outputs": [],
   "source": [
    "X = [seq2features(s) for s in indices_for_sequence]\n",
    "y = [seq2labels(s) for s in indices_for_sequence]"
   ]
  },
  {
   "cell_type": "code",
   "execution_count": 196,
   "id": "2320ff1d",
   "metadata": {},
   "outputs": [],
   "source": [
    "from sklearn.model_selection import train_test_split, cross_val_score, cross_validate\n",
    "\n",
    "X_train, X_test, y_train, y_test = train_test_split(X, y, test_size=0.33, random_state=0)"
   ]
  },
  {
   "cell_type": "code",
   "execution_count": null,
   "id": "16267fca",
   "metadata": {},
   "outputs": [],
   "source": []
  }
 ],
 "metadata": {
  "kernelspec": {
   "display_name": "Python 3",
   "language": "python",
   "name": "python3"
  },
  "language_info": {
   "codemirror_mode": {
    "name": "ipython",
    "version": 3
   },
   "file_extension": ".py",
   "mimetype": "text/x-python",
   "name": "python",
   "nbconvert_exporter": "python",
   "pygments_lexer": "ipython3",
   "version": "3.8.5"
  }
 },
 "nbformat": 4,
 "nbformat_minor": 5
}
