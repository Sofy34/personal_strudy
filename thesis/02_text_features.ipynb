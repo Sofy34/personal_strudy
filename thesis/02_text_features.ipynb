{
 "cells": [
  {
   "cell_type": "code",
   "execution_count": 39,
   "id": "adfd5954",
   "metadata": {},
   "outputs": [
    {
     "data": {
      "text/plain": [
       "<module 'feature_utils' from './src/feature_utils.py'>"
      ]
     },
     "execution_count": 39,
     "metadata": {},
     "output_type": "execute_result"
    }
   ],
   "source": [
    "import pandas as pd\n",
    "import sys\n",
    "sys.path.append('./src/')\n",
    "import doc_utils\n",
    "import feature_utils\n",
    "import imp\n",
    "imp.reload(feature_utils)  "
   ]
  },
  {
   "cell_type": "code",
   "execution_count": 40,
   "id": "4addcdbb",
   "metadata": {},
   "outputs": [],
   "source": [
    "from sklearn.feature_extraction.text import CountVectorizer , TfidfVectorizer, TfidfTransformer\n",
    "\n",
    "tdidf = TfidfVectorizer(min_df=4,norm='l1')"
   ]
  },
  {
   "cell_type": "code",
   "execution_count": 41,
   "id": "46e3283d",
   "metadata": {},
   "outputs": [
    {
     "data": {
      "text/html": [
       "<div>\n",
       "<style scoped>\n",
       "    .dataframe tbody tr th:only-of-type {\n",
       "        vertical-align: middle;\n",
       "    }\n",
       "\n",
       "    .dataframe tbody tr th {\n",
       "        vertical-align: top;\n",
       "    }\n",
       "\n",
       "    .dataframe thead th {\n",
       "        text-align: right;\n",
       "    }\n",
       "</style>\n",
       "<table border=\"1\" class=\"dataframe\">\n",
       "  <thead>\n",
       "    <tr style=\"text-align: right;\">\n",
       "      <th></th>\n",
       "      <th>text</th>\n",
       "      <th>is_nar</th>\n",
       "      <th>doc_idx</th>\n",
       "      <th>par_idx</th>\n",
       "      <th>par_type</th>\n",
       "      <th>block_type</th>\n",
       "      <th>nar_idx</th>\n",
       "      <th>one_before_is_nar</th>\n",
       "      <th>two_before_is_nar</th>\n",
       "    </tr>\n",
       "  </thead>\n",
       "  <tbody>\n",
       "    <tr>\n",
       "      <th>0</th>\n",
       "      <td>CLIENT</td>\n",
       "      <td>0.000000</td>\n",
       "      <td>0.000000</td>\n",
       "      <td>0.000000</td>\n",
       "      <td>no_mark</td>\n",
       "      <td>not_nar</td>\n",
       "      <td>0.000000</td>\n",
       "      <td>0.000000</td>\n",
       "      <td>0.000000</td>\n",
       "    </tr>\n",
       "    <tr>\n",
       "      <th>1</th>\n",
       "      <td>THERAPIST</td>\n",
       "      <td>0.000000</td>\n",
       "      <td>0.000000</td>\n",
       "      <td>1.000000</td>\n",
       "      <td>no_mark</td>\n",
       "      <td>not_nar</td>\n",
       "      <td>0.000000</td>\n",
       "      <td>0.000000</td>\n",
       "      <td>0.000000</td>\n",
       "    </tr>\n",
       "    <tr>\n",
       "      <th>2</th>\n",
       "      <td>התחל</td>\n",
       "      <td>0.000000</td>\n",
       "      <td>0.000000</td>\n",
       "      <td>2.000000</td>\n",
       "      <td>no_mark</td>\n",
       "      <td>not_nar</td>\n",
       "      <td>0.000000</td>\n",
       "      <td>0.000000</td>\n",
       "      <td>0.000000</td>\n",
       "    </tr>\n",
       "    <tr>\n",
       "      <th>3</th>\n",
       "      <td>שפהעב</td>\n",
       "      <td>0.000000</td>\n",
       "      <td>0.000000</td>\n",
       "      <td>3.000000</td>\n",
       "      <td>no_mark</td>\n",
       "      <td>not_nar</td>\n",
       "      <td>0.000000</td>\n",
       "      <td>0.000000</td>\n",
       "      <td>0.000000</td>\n",
       "    </tr>\n",
       "    <tr>\n",
       "      <th>4</th>\n",
       "      <td>משתתפים</td>\n",
       "      <td>0.000000</td>\n",
       "      <td>0.000000</td>\n",
       "      <td>4.000000</td>\n",
       "      <td>no_mark</td>\n",
       "      <td>not_nar</td>\n",
       "      <td>0.000000</td>\n",
       "      <td>0.000000</td>\n",
       "      <td>0.000000</td>\n",
       "    </tr>\n",
       "    <tr>\n",
       "      <th>...</th>\n",
       "      <td>...</td>\n",
       "      <td>...</td>\n",
       "      <td>...</td>\n",
       "      <td>...</td>\n",
       "      <td>...</td>\n",
       "      <td>...</td>\n",
       "      <td>...</td>\n",
       "      <td>...</td>\n",
       "      <td>...</td>\n",
       "    </tr>\n",
       "    <tr>\n",
       "      <th>1356</th>\n",
       "      <td>ככה כמה דקות אה לא לא לא בסדר</td>\n",
       "      <td>0.000000</td>\n",
       "      <td>5.000000</td>\n",
       "      <td>269.000000</td>\n",
       "      <td>therapist</td>\n",
       "      <td>not_nar</td>\n",
       "      <td>0.000000</td>\n",
       "      <td>0.000000</td>\n",
       "      <td>0.000000</td>\n",
       "    </tr>\n",
       "    <tr>\n",
       "      <th>1357</th>\n",
       "      <td>לא לא לא בסדר יש לך את הדקות בשביל ה</td>\n",
       "      <td>0.000000</td>\n",
       "      <td>5.000000</td>\n",
       "      <td>270.000000</td>\n",
       "      <td>client</td>\n",
       "      <td>not_nar</td>\n",
       "      <td>0.000000</td>\n",
       "      <td>0.000000</td>\n",
       "      <td>0.000000</td>\n",
       "    </tr>\n",
       "    <tr>\n",
       "      <th>1358</th>\n",
       "      <td>יש לך את הדקות בשביל ה</td>\n",
       "      <td>0.000000</td>\n",
       "      <td>5.000000</td>\n",
       "      <td>271.000000</td>\n",
       "      <td>therapist</td>\n",
       "      <td>not_nar</td>\n",
       "      <td>0.000000</td>\n",
       "      <td>0.000000</td>\n",
       "      <td>0.000000</td>\n",
       "    </tr>\n",
       "    <tr>\n",
       "      <th>1359</th>\n",
       "      <td>את הזה השאלון</td>\n",
       "      <td>0.000000</td>\n",
       "      <td>5.000000</td>\n",
       "      <td>272.000000</td>\n",
       "      <td>client</td>\n",
       "      <td>not_nar</td>\n",
       "      <td>0.000000</td>\n",
       "      <td>0.000000</td>\n",
       "      <td>0.000000</td>\n",
       "    </tr>\n",
       "    <tr>\n",
       "      <th>1360</th>\n",
       "      <td>סיום\\n</td>\n",
       "      <td>0.000000</td>\n",
       "      <td>5.000000</td>\n",
       "      <td>273.000000</td>\n",
       "      <td>no_mark</td>\n",
       "      <td>not_nar</td>\n",
       "      <td>0.000000</td>\n",
       "      <td>0.000000</td>\n",
       "      <td>0.000000</td>\n",
       "    </tr>\n",
       "  </tbody>\n",
       "</table>\n",
       "<p>1361 rows × 9 columns</p>\n",
       "</div>"
      ],
      "text/plain": [
       "                                       text   is_nar  doc_idx    par_idx  \\\n",
       "0                                    CLIENT 0.000000 0.000000   0.000000   \n",
       "1                                 THERAPIST 0.000000 0.000000   1.000000   \n",
       "2                                      התחל 0.000000 0.000000   2.000000   \n",
       "3                                     שפהעב 0.000000 0.000000   3.000000   \n",
       "4                                   משתתפים 0.000000 0.000000   4.000000   \n",
       "...                                     ...      ...      ...        ...   \n",
       "1356          ככה כמה דקות אה לא לא לא בסדר 0.000000 5.000000 269.000000   \n",
       "1357   לא לא לא בסדר יש לך את הדקות בשביל ה 0.000000 5.000000 270.000000   \n",
       "1358                 יש לך את הדקות בשביל ה 0.000000 5.000000 271.000000   \n",
       "1359                          את הזה השאלון 0.000000 5.000000 272.000000   \n",
       "1360                                 סיום\\n 0.000000 5.000000 273.000000   \n",
       "\n",
       "       par_type block_type  nar_idx  one_before_is_nar  two_before_is_nar  \n",
       "0       no_mark    not_nar 0.000000           0.000000           0.000000  \n",
       "1       no_mark    not_nar 0.000000           0.000000           0.000000  \n",
       "2       no_mark    not_nar 0.000000           0.000000           0.000000  \n",
       "3       no_mark    not_nar 0.000000           0.000000           0.000000  \n",
       "4       no_mark    not_nar 0.000000           0.000000           0.000000  \n",
       "...         ...        ...      ...                ...                ...  \n",
       "1356  therapist    not_nar 0.000000           0.000000           0.000000  \n",
       "1357     client    not_nar 0.000000           0.000000           0.000000  \n",
       "1358  therapist    not_nar 0.000000           0.000000           0.000000  \n",
       "1359     client    not_nar 0.000000           0.000000           0.000000  \n",
       "1360    no_mark    not_nar 0.000000           0.000000           0.000000  \n",
       "\n",
       "[1361 rows x 9 columns]"
      ]
     },
     "execution_count": 41,
     "metadata": {},
     "output_type": "execute_result"
    }
   ],
   "source": [
    "block_db = pd.read_csv(\"block_db.csv\")\n",
    "block_db"
   ]
  },
  {
   "cell_type": "code",
   "execution_count": 49,
   "id": "19f2e54f",
   "metadata": {},
   "outputs": [],
   "source": [
    "cl_th_db = block_db.query(\"par_type in ['client','therapist']\")"
   ]
  },
  {
   "cell_type": "markdown",
   "id": "a6314efd",
   "metadata": {},
   "source": [
    "## Process with TFidf and run SGDClassifier"
   ]
  },
  {
   "cell_type": "code",
   "execution_count": 48,
   "id": "8eab9a8c",
   "metadata": {},
   "outputs": [
    {
     "name": "stdout",
     "output_type": "stream",
     "text": [
      "Run model for par_type == 'client'\n",
      "total data len: 622\n",
      "len train: 466, len test: 156\n",
      "['10', '14', 'xxx', 'אבא', 'אגיד', 'אה', 'אהה', 'אהיה', 'אומרים', 'אומרת', 'אוקיי', 'אחי', 'איזשהו', 'איזשהי', 'איתה', 'איתי', 'איתך', 'איתם', 'אלי', 'אליו']\n",
      "['יחסים', 'יחסית', 'יכולים', 'יכולתי', 'ילד', 'ימים', 'יצא', 'יקרה', 'ישבתי', 'ישר', 'כאילו', 'כזאת', 'כיף', 'ככ', 'כללי', 'כשאני', 'לאיזה', 'לבוא', 'לגמרי', 'להבין']\n",
      "['10', 'אמרתי', 'בעבודה', 'הגעתי', 'וואי', 'כאילו', 'לצאת', 'ממנה', 'סוג', 'רציתי']\n"
     ]
    },
    {
     "data": {
      "image/png": "[encoded data removed]",
      "text/plain": [
       "<Figure size 1080x432 with 1 Axes>"
      ]
     },
     "metadata": {
      "needs_background": "light"
     },
     "output_type": "display_data"
    },
    {
     "name": "stdout",
     "output_type": "stream",
     "text": [
      "              precision    recall  f1-score   support\n",
      "\n",
      "         0.0       0.66      0.68      0.67        84\n",
      "         1.0       0.61      0.58      0.60        72\n",
      "\n",
      "    accuracy                           0.63       156\n",
      "   macro avg       0.63      0.63      0.63       156\n",
      "weighted avg       0.63      0.63      0.63       156\n",
      "\n",
      "Run model for par_type in ['client','therapist']\n",
      "total data len: 1251\n",
      "len train: 938, len test: 313\n",
      "['10', '14', 'xxx', 'אבא', 'אגיד', 'אה', 'אהה', 'אהיה', 'אומרים', 'אומרת', 'אוקי', 'אוקיי', 'איזשהו', 'איזשהי', 'איכשהו', 'אישי', 'איתה', 'איתי', 'איתך', 'איתם']\n",
      "['ילד', 'ילדה', 'יצא', 'יצר', 'יקרה', 'ישבתי', 'ישירות', 'ישר', 'כאילו', 'כושר', 'כזאת', 'כיף', 'ככ', 'כלומר', 'כלל', 'כללי', 'כשאני', 'כשאתה', 'כשהוא', 'לאו']\n",
      "['10', 'באמצע', 'בשבת', 'הנה', 'וואלה', 'כיף', 'לקחתי', 'מסוים', 'עזב', 'שבו']\n"
     ]
    },
    {
     "data": {
      "image/png": "[encoded data removed]",
      "text/plain": [
       "<Figure size 432x288 with 2 Axes>"
      ]
     },
     "metadata": {
      "needs_background": "light"
     },
     "output_type": "display_data"
    },
    {
     "data": {
      "image/png": "[encoded data removed]",
      "text/plain": [
       "<Figure size 1080x432 with 1 Axes>"
      ]
     },
     "metadata": {
      "needs_background": "light"
     },
     "output_type": "display_data"
    },
    {
     "name": "stdout",
     "output_type": "stream",
     "text": [
      "              precision    recall  f1-score   support\n",
      "\n",
      "         0.0       0.65      0.77      0.71       172\n",
      "         1.0       0.64      0.50      0.56       141\n",
      "\n",
      "    accuracy                           0.65       313\n",
      "   macro avg       0.65      0.64      0.63       313\n",
      "weighted avg       0.65      0.65      0.64       313\n",
      "\n"
     ]
    },
    {
     "data": {
      "image/png": "[encoded data removed]",
      "text/plain": [
       "<Figure size 432x288 with 2 Axes>"
      ]
     },
     "metadata": {
      "needs_background": "light"
     },
     "output_type": "display_data"
    }
   ],
   "source": [
    "queries = [\"par_type == 'client'\",\n",
    "            \"par_type in ['client','therapist']\"]\n",
    "for q in queries:\n",
    "    print(\"Run model for {}\".format(q))\n",
    "    feature_utils.run_model(block_db.query(q))"
   ]
  },
  {
   "cell_type": "markdown",
   "id": "82d7695f",
   "metadata": {},
   "source": [
    "## Embedded - fasttext fro Hebrew"
   ]
  },
  {
   "cell_type": "code",
   "execution_count": 62,
   "id": "37544614",
   "metadata": {},
   "outputs": [],
   "source": [
    "import fasttext.util\n",
    "ft = fasttext.load_model('./external_src/cc.he.300.bin.gz')"
   ]
  },
  {
   "cell_type": "code",
   "execution_count": 65,
   "id": "1a72d916",
   "metadata": {},
   "outputs": [
    {
     "data": {
      "text/plain": [
       "[(0.7185356616973877, 'ומטפל'),\n",
       " (0.7173291444778442, 'שמטפל'),\n",
       " (0.6891626119613647, 'מטפל-'),\n",
       " (0.6731259822845459, 'המטפל'),\n",
       " (0.6602925658226013, 'נפש.מטפל'),\n",
       " (0.6589658856391907, 'כשמטפל'),\n",
       " (0.6411737203598022, 'מטפלת'),\n",
       " (0.635364830493927, 'במטפל'),\n",
       " (0.6296566128730774, 'וכמטפל'),\n",
       " (0.6236903667449951, 'ממטפל')]"
      ]
     },
     "execution_count": 65,
     "metadata": {},
     "output_type": "execute_result"
    }
   ],
   "source": [
    "ft.get_nearest_neighbors('מטפל')"
   ]
  },
  {
   "cell_type": "code",
   "execution_count": null,
   "id": "4fa7ccef",
   "metadata": {},
   "outputs": [],
   "source": [
    "ft."
   ]
  }
 ],
 "metadata": {
  "kernelspec": {
   "display_name": "Python 3",
   "language": "python",
   "name": "python3"
  },
  "language_info": {
   "codemirror_mode": {
    "name": "ipython",
    "version": 3
   },
   "file_extension": ".py",
   "mimetype": "text/x-python",
   "name": "python",
   "nbconvert_exporter": "python",
   "pygments_lexer": "ipython3",
   "version": "3.8.5"
  }
 },
 "nbformat": 4,
 "nbformat_minor": 5
}
