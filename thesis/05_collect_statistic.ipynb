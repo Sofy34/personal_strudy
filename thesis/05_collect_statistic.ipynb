{
 "cells": [
  {
   "cell_type": "code",
   "execution_count": 1,
   "id": "e16272d1",
   "metadata": {},
   "outputs": [],
   "source": [
    "import pandas as pd\n",
    "import os,sys, imp, glob\n",
    "sys.path.append('./src/')\n",
    "import doc_utils_clean as doc_utils\n",
    "import defines\n",
    "import numpy as np\n",
    "import seaborn as sns"
   ]
  },
  {
   "cell_type": "code",
   "execution_count": 28,
   "id": "e0eb020b",
   "metadata": {},
   "outputs": [
    {
     "name": "stdout",
     "output_type": "stream",
     "text": [
      "1 Doc 619 sentences saved\n"
     ]
    }
   ],
   "source": [
    "doc_utils.parse_doc(1,True)"
   ]
  },
  {
   "cell_type": "code",
   "execution_count": 30,
   "id": "3379bb74",
   "metadata": {},
   "outputs": [
    {
     "data": {
      "text/html": [
       "<div>\n",
       "<style scoped>\n",
       "    .dataframe tbody tr th:only-of-type {\n",
       "        vertical-align: middle;\n",
       "    }\n",
       "\n",
       "    .dataframe tbody tr th {\n",
       "        vertical-align: top;\n",
       "    }\n",
       "\n",
       "    .dataframe thead th {\n",
       "        text-align: right;\n",
       "    }\n",
       "</style>\n",
       "<table border=\"1\" class=\"dataframe\">\n",
       "  <thead>\n",
       "    <tr style=\"text-align: right;\">\n",
       "      <th></th>\n",
       "      <th>path</th>\n",
       "      <th>file_name</th>\n",
       "      <th>doc_idx_from_name</th>\n",
       "      <th>par_count</th>\n",
       "      <th>sent_count</th>\n",
       "      <th>nar_sent_count</th>\n",
       "    </tr>\n",
       "  </thead>\n",
       "  <tbody>\n",
       "    <tr>\n",
       "      <th>31</th>\n",
       "      <td>./tmp/01_aingimel3_lc.docx</td>\n",
       "      <td>01_aingimel3_lc.docx</td>\n",
       "      <td>1</td>\n",
       "      <td>205.000000</td>\n",
       "      <td>619.000000</td>\n",
       "      <td>268.000000</td>\n",
       "    </tr>\n",
       "    <tr>\n",
       "      <th>28</th>\n",
       "      <td>./tmp/02_aingimel12_lc.docx</td>\n",
       "      <td>02_aingimel12_lc.docx</td>\n",
       "      <td>2</td>\n",
       "      <td>NaN</td>\n",
       "      <td>NaN</td>\n",
       "      <td>NaN</td>\n",
       "    </tr>\n",
       "    <tr>\n",
       "      <th>23</th>\n",
       "      <td>./tmp/03_aingimel26_lc.docx</td>\n",
       "      <td>03_aingimel26_lc.docx</td>\n",
       "      <td>3</td>\n",
       "      <td>NaN</td>\n",
       "      <td>NaN</td>\n",
       "      <td>NaN</td>\n",
       "    </tr>\n",
       "    <tr>\n",
       "      <th>59</th>\n",
       "      <td>./tmp/04_nun2_lc.docx</td>\n",
       "      <td>04_nun2_lc.docx</td>\n",
       "      <td>4</td>\n",
       "      <td>NaN</td>\n",
       "      <td>NaN</td>\n",
       "      <td>NaN</td>\n",
       "    </tr>\n",
       "    <tr>\n",
       "      <th>43</th>\n",
       "      <td>./tmp/05_kafhey_23_lc.docx</td>\n",
       "      <td>05_kafhey_23_lc.docx</td>\n",
       "      <td>5</td>\n",
       "      <td>NaN</td>\n",
       "      <td>NaN</td>\n",
       "      <td>NaN</td>\n",
       "    </tr>\n",
       "    <tr>\n",
       "      <th>...</th>\n",
       "      <td>...</td>\n",
       "      <td>...</td>\n",
       "      <td>...</td>\n",
       "      <td>...</td>\n",
       "      <td>...</td>\n",
       "      <td>...</td>\n",
       "    </tr>\n",
       "    <tr>\n",
       "      <th>3</th>\n",
       "      <td>./tmp/59_samehalef11_Mor.docx</td>\n",
       "      <td>59_samehalef11_Mor.docx</td>\n",
       "      <td>59</td>\n",
       "      <td>NaN</td>\n",
       "      <td>NaN</td>\n",
       "      <td>NaN</td>\n",
       "    </tr>\n",
       "    <tr>\n",
       "      <th>29</th>\n",
       "      <td>./tmp/60_samehalef9_Mor.docx</td>\n",
       "      <td>60_samehalef9_Mor.docx</td>\n",
       "      <td>60</td>\n",
       "      <td>NaN</td>\n",
       "      <td>NaN</td>\n",
       "      <td>NaN</td>\n",
       "    </tr>\n",
       "    <tr>\n",
       "      <th>41</th>\n",
       "      <td>./tmp/61_samehalef7_Mor.docx</td>\n",
       "      <td>61_samehalef7_Mor.docx</td>\n",
       "      <td>61</td>\n",
       "      <td>NaN</td>\n",
       "      <td>NaN</td>\n",
       "      <td>NaN</td>\n",
       "    </tr>\n",
       "    <tr>\n",
       "      <th>35</th>\n",
       "      <td>./tmp/62_samehalef5_Mor.docx</td>\n",
       "      <td>62_samehalef5_Mor.docx</td>\n",
       "      <td>62</td>\n",
       "      <td>NaN</td>\n",
       "      <td>NaN</td>\n",
       "      <td>NaN</td>\n",
       "    </tr>\n",
       "    <tr>\n",
       "      <th>47</th>\n",
       "      <td>./tmp/63_samehalef4_Mor.docx</td>\n",
       "      <td>63_samehalef4_Mor.docx</td>\n",
       "      <td>63</td>\n",
       "      <td>NaN</td>\n",
       "      <td>NaN</td>\n",
       "      <td>NaN</td>\n",
       "    </tr>\n",
       "  </tbody>\n",
       "</table>\n",
       "<p>63 rows × 6 columns</p>\n",
       "</div>"
      ],
      "text/plain": [
       "                             path                file_name  doc_idx_from_name  \\\n",
       "31     ./tmp/01_aingimel3_lc.docx     01_aingimel3_lc.docx                  1   \n",
       "28    ./tmp/02_aingimel12_lc.docx    02_aingimel12_lc.docx                  2   \n",
       "23    ./tmp/03_aingimel26_lc.docx    03_aingimel26_lc.docx                  3   \n",
       "59          ./tmp/04_nun2_lc.docx          04_nun2_lc.docx                  4   \n",
       "43     ./tmp/05_kafhey_23_lc.docx     05_kafhey_23_lc.docx                  5   \n",
       "..                            ...                      ...                ...   \n",
       "3   ./tmp/59_samehalef11_Mor.docx  59_samehalef11_Mor.docx                 59   \n",
       "29   ./tmp/60_samehalef9_Mor.docx   60_samehalef9_Mor.docx                 60   \n",
       "41   ./tmp/61_samehalef7_Mor.docx   61_samehalef7_Mor.docx                 61   \n",
       "35   ./tmp/62_samehalef5_Mor.docx   62_samehalef5_Mor.docx                 62   \n",
       "47   ./tmp/63_samehalef4_Mor.docx   63_samehalef4_Mor.docx                 63   \n",
       "\n",
       "    par_count  sent_count  nar_sent_count  \n",
       "31 205.000000  619.000000      268.000000  \n",
       "28        NaN         NaN             NaN  \n",
       "23        NaN         NaN             NaN  \n",
       "59        NaN         NaN             NaN  \n",
       "43        NaN         NaN             NaN  \n",
       "..        ...         ...             ...  \n",
       "3         NaN         NaN             NaN  \n",
       "29        NaN         NaN             NaN  \n",
       "41        NaN         NaN             NaN  \n",
       "35        NaN         NaN             NaN  \n",
       "47        NaN         NaN             NaN  \n",
       "\n",
       "[63 rows x 6 columns]"
      ]
     },
     "execution_count": 30,
     "metadata": {},
     "output_type": "execute_result"
    }
   ],
   "source": [
    "doc_utils.doc_db.sort_values(by='doc_idx_from_name')"
   ]
  },
  {
   "cell_type": "code",
   "execution_count": 31,
   "id": "548608fa",
   "metadata": {},
   "outputs": [
    {
     "name": "stdout",
     "output_type": "stream",
     "text": [
      "Creating doc_db\n"
     ]
    },
    {
     "data": {
      "text/html": [
       "<div>\n",
       "<style scoped>\n",
       "    .dataframe tbody tr th:only-of-type {\n",
       "        vertical-align: middle;\n",
       "    }\n",
       "\n",
       "    .dataframe tbody tr th {\n",
       "        vertical-align: top;\n",
       "    }\n",
       "\n",
       "    .dataframe thead th {\n",
       "        text-align: right;\n",
       "    }\n",
       "</style>\n",
       "<table border=\"1\" class=\"dataframe\">\n",
       "  <thead>\n",
       "    <tr style=\"text-align: right;\">\n",
       "      <th></th>\n",
       "      <th>path</th>\n",
       "      <th>file_name</th>\n",
       "      <th>doc_idx_from_name</th>\n",
       "    </tr>\n",
       "  </thead>\n",
       "  <tbody>\n",
       "    <tr>\n",
       "      <th>31</th>\n",
       "      <td>./tmp/01_aingimel3_lc.docx</td>\n",
       "      <td>01_aingimel3_lc.docx</td>\n",
       "      <td>1</td>\n",
       "    </tr>\n",
       "    <tr>\n",
       "      <th>28</th>\n",
       "      <td>./tmp/02_aingimel12_lc.docx</td>\n",
       "      <td>02_aingimel12_lc.docx</td>\n",
       "      <td>2</td>\n",
       "    </tr>\n",
       "    <tr>\n",
       "      <th>23</th>\n",
       "      <td>./tmp/03_aingimel26_lc.docx</td>\n",
       "      <td>03_aingimel26_lc.docx</td>\n",
       "      <td>3</td>\n",
       "    </tr>\n",
       "    <tr>\n",
       "      <th>59</th>\n",
       "      <td>./tmp/04_nun2_lc.docx</td>\n",
       "      <td>04_nun2_lc.docx</td>\n",
       "      <td>4</td>\n",
       "    </tr>\n",
       "    <tr>\n",
       "      <th>43</th>\n",
       "      <td>./tmp/05_kafhey_23_lc.docx</td>\n",
       "      <td>05_kafhey_23_lc.docx</td>\n",
       "      <td>5</td>\n",
       "    </tr>\n",
       "    <tr>\n",
       "      <th>...</th>\n",
       "      <td>...</td>\n",
       "      <td>...</td>\n",
       "      <td>...</td>\n",
       "    </tr>\n",
       "    <tr>\n",
       "      <th>3</th>\n",
       "      <td>./tmp/59_samehalef11_Mor.docx</td>\n",
       "      <td>59_samehalef11_Mor.docx</td>\n",
       "      <td>59</td>\n",
       "    </tr>\n",
       "    <tr>\n",
       "      <th>29</th>\n",
       "      <td>./tmp/60_samehalef9_Mor.docx</td>\n",
       "      <td>60_samehalef9_Mor.docx</td>\n",
       "      <td>60</td>\n",
       "    </tr>\n",
       "    <tr>\n",
       "      <th>41</th>\n",
       "      <td>./tmp/61_samehalef7_Mor.docx</td>\n",
       "      <td>61_samehalef7_Mor.docx</td>\n",
       "      <td>61</td>\n",
       "    </tr>\n",
       "    <tr>\n",
       "      <th>35</th>\n",
       "      <td>./tmp/62_samehalef5_Mor.docx</td>\n",
       "      <td>62_samehalef5_Mor.docx</td>\n",
       "      <td>62</td>\n",
       "    </tr>\n",
       "    <tr>\n",
       "      <th>47</th>\n",
       "      <td>./tmp/63_samehalef4_Mor.docx</td>\n",
       "      <td>63_samehalef4_Mor.docx</td>\n",
       "      <td>63</td>\n",
       "    </tr>\n",
       "  </tbody>\n",
       "</table>\n",
       "<p>63 rows × 3 columns</p>\n",
       "</div>"
      ],
      "text/plain": [
       "                             path                file_name  doc_idx_from_name\n",
       "31     ./tmp/01_aingimel3_lc.docx     01_aingimel3_lc.docx                  1\n",
       "28    ./tmp/02_aingimel12_lc.docx    02_aingimel12_lc.docx                  2\n",
       "23    ./tmp/03_aingimel26_lc.docx    03_aingimel26_lc.docx                  3\n",
       "59          ./tmp/04_nun2_lc.docx          04_nun2_lc.docx                  4\n",
       "43     ./tmp/05_kafhey_23_lc.docx     05_kafhey_23_lc.docx                  5\n",
       "..                            ...                      ...                ...\n",
       "3   ./tmp/59_samehalef11_Mor.docx  59_samehalef11_Mor.docx                 59\n",
       "29   ./tmp/60_samehalef9_Mor.docx   60_samehalef9_Mor.docx                 60\n",
       "41   ./tmp/61_samehalef7_Mor.docx   61_samehalef7_Mor.docx                 61\n",
       "35   ./tmp/62_samehalef5_Mor.docx   62_samehalef5_Mor.docx                 62\n",
       "47   ./tmp/63_samehalef4_Mor.docx   63_samehalef4_Mor.docx                 63\n",
       "\n",
       "[63 rows x 3 columns]"
      ]
     },
     "execution_count": 31,
     "metadata": {},
     "output_type": "execute_result"
    }
   ],
   "source": [
    "imp.reload(doc_utils)\n",
    "doc_utils.save_docs_db()\n",
    "doc_db =  pd.read_csv(\"./dataframes/doc_db.csv\")\n",
    "# doc_db.sort_values(by='doc_idx_from_name',inplace=True)\n",
    "# doc_db.describe()\n",
    "doc_db.sort_values(by='doc_idx_from_name')"
   ]
  },
  {
   "cell_type": "code",
   "execution_count": 10,
   "id": "a190e705",
   "metadata": {},
   "outputs": [
    {
     "data": {
      "text/plain": [
       "Int64Index([12], dtype='int64')"
      ]
     },
     "execution_count": 10,
     "metadata": {},
     "output_type": "execute_result"
    }
   ],
   "source": [
    "doc_utils.doc_db=pd.read_csv(\"./dataframes/doc_db.csv\")\n",
    "doc_utils.get_dbIdx_by_docIdx(13)"
   ]
  },
  {
   "cell_type": "code",
   "execution_count": 16,
   "id": "871066fc",
   "metadata": {},
   "outputs": [
    {
     "data": {
      "text/plain": [
       "'./tmp/02_aingimel12_lc.docx'"
      ]
     },
     "execution_count": 16,
     "metadata": {},
     "output_type": "execute_result"
    }
   ],
   "source": [
    "doc_path = doc_utils.doc_db.loc[doc_utils.get_dbIdx_by_docIdx(29),'path'].values[0]\n",
    "doc_path"
   ]
  },
  {
   "cell_type": "code",
   "execution_count": 3,
   "id": "6668bb50",
   "metadata": {},
   "outputs": [],
   "source": [
    "def concat_sent_dbs():\n",
    "    sent_db = pd.concat([pd.read_csv(i,usecols=['is_nar','nar_idx','sent_len','is_client']) for i in glob.glob(os.path.join(os.path.join(os.getcwd(),defines.PATH_TO_DFS,\"*_sent_db.csv\")))])\n",
    "    sent_db.reset_index(inplace=True,drop=True)\n",
    "    return sent_db"
   ]
  },
  {
   "cell_type": "code",
   "execution_count": 4,
   "id": "bea0a4c1",
   "metadata": {},
   "outputs": [
    {
     "data": {
      "text/html": [
       "<div>\n",
       "<style scoped>\n",
       "    .dataframe tbody tr th:only-of-type {\n",
       "        vertical-align: middle;\n",
       "    }\n",
       "\n",
       "    .dataframe tbody tr th {\n",
       "        vertical-align: top;\n",
       "    }\n",
       "\n",
       "    .dataframe thead th {\n",
       "        text-align: right;\n",
       "    }\n",
       "</style>\n",
       "<table border=\"1\" class=\"dataframe\">\n",
       "  <thead>\n",
       "    <tr style=\"text-align: right;\">\n",
       "      <th></th>\n",
       "      <th>is_nar</th>\n",
       "      <th>nar_idx</th>\n",
       "      <th>sent_len</th>\n",
       "      <th>is_client</th>\n",
       "    </tr>\n",
       "  </thead>\n",
       "  <tbody>\n",
       "    <tr>\n",
       "      <th>0</th>\n",
       "      <td>0.000000</td>\n",
       "      <td>0.000000</td>\n",
       "      <td>7.000000</td>\n",
       "      <td>1</td>\n",
       "    </tr>\n",
       "    <tr>\n",
       "      <th>1</th>\n",
       "      <td>0.000000</td>\n",
       "      <td>0.000000</td>\n",
       "      <td>8.000000</td>\n",
       "      <td>0</td>\n",
       "    </tr>\n",
       "    <tr>\n",
       "      <th>2</th>\n",
       "      <td>0.000000</td>\n",
       "      <td>0.000000</td>\n",
       "      <td>318.000000</td>\n",
       "      <td>1</td>\n",
       "    </tr>\n",
       "    <tr>\n",
       "      <th>3</th>\n",
       "      <td>1.000000</td>\n",
       "      <td>1.000000</td>\n",
       "      <td>6.000000</td>\n",
       "      <td>1</td>\n",
       "    </tr>\n",
       "    <tr>\n",
       "      <th>4</th>\n",
       "      <td>1.000000</td>\n",
       "      <td>1.000000</td>\n",
       "      <td>90.000000</td>\n",
       "      <td>1</td>\n",
       "    </tr>\n",
       "    <tr>\n",
       "      <th>...</th>\n",
       "      <td>...</td>\n",
       "      <td>...</td>\n",
       "      <td>...</td>\n",
       "      <td>...</td>\n",
       "    </tr>\n",
       "    <tr>\n",
       "      <th>33231</th>\n",
       "      <td>0.000000</td>\n",
       "      <td>0.000000</td>\n",
       "      <td>86.000000</td>\n",
       "      <td>0</td>\n",
       "    </tr>\n",
       "    <tr>\n",
       "      <th>33232</th>\n",
       "      <td>0.000000</td>\n",
       "      <td>0.000000</td>\n",
       "      <td>45.000000</td>\n",
       "      <td>1</td>\n",
       "    </tr>\n",
       "    <tr>\n",
       "      <th>33233</th>\n",
       "      <td>0.000000</td>\n",
       "      <td>0.000000</td>\n",
       "      <td>130.000000</td>\n",
       "      <td>0</td>\n",
       "    </tr>\n",
       "    <tr>\n",
       "      <th>33234</th>\n",
       "      <td>0.000000</td>\n",
       "      <td>0.000000</td>\n",
       "      <td>7.000000</td>\n",
       "      <td>1</td>\n",
       "    </tr>\n",
       "    <tr>\n",
       "      <th>33235</th>\n",
       "      <td>0.000000</td>\n",
       "      <td>0.000000</td>\n",
       "      <td>30.000000</td>\n",
       "      <td>1</td>\n",
       "    </tr>\n",
       "  </tbody>\n",
       "</table>\n",
       "<p>33236 rows × 4 columns</p>\n",
       "</div>"
      ],
      "text/plain": [
       "        is_nar  nar_idx   sent_len  is_client\n",
       "0     0.000000 0.000000   7.000000          1\n",
       "1     0.000000 0.000000   8.000000          0\n",
       "2     0.000000 0.000000 318.000000          1\n",
       "3     1.000000 1.000000   6.000000          1\n",
       "4     1.000000 1.000000  90.000000          1\n",
       "...        ...      ...        ...        ...\n",
       "33231 0.000000 0.000000  86.000000          0\n",
       "33232 0.000000 0.000000  45.000000          1\n",
       "33233 0.000000 0.000000 130.000000          0\n",
       "33234 0.000000 0.000000   7.000000          1\n",
       "33235 0.000000 0.000000  30.000000          1\n",
       "\n",
       "[33236 rows x 4 columns]"
      ]
     },
     "execution_count": 4,
     "metadata": {},
     "output_type": "execute_result"
    }
   ],
   "source": [
    "sent_db = concat_sent_dbs()\n",
    "sent_db"
   ]
  },
  {
   "cell_type": "code",
   "execution_count": 5,
   "id": "d30a47b8",
   "metadata": {},
   "outputs": [],
   "source": [
    "doc_stat_db = pd.DataFrame()\n",
    "\n",
    "def get_doc_statistic(doc_idx):\n",
    "    sent_db = pd.read_csv(os.path.join(os.getcwd(),defines.PATH_TO_DFS,\"{:02d}_sent_db.csv\".format(i)),usecols=['is_nar','nar_idx','sent_len','is_client'])\n",
    "    nar_num = sent_db['nar_idx'].nunique()\n",
    "    avrg_sent_len_nar = sent_db.query('is_nar == 1')['sent_len'].mean()\n",
    "    groupby(['doc_idx'])['nar_idx'].nunique()\n",
    "    del sent_db"
   ]
  },
  {
   "cell_type": "code",
   "execution_count": 6,
   "id": "41848e0b",
   "metadata": {},
   "outputs": [
    {
     "name": "stdout",
     "output_type": "stream",
     "text": [
      "<class 'pandas.core.frame.DataFrame'>\n",
      "RangeIndex: 33236 entries, 0 to 33235\n",
      "Data columns (total 4 columns):\n",
      " #   Column     Non-Null Count  Dtype  \n",
      "---  ------     --------------  -----  \n",
      " 0   is_nar     33236 non-null  float64\n",
      " 1   nar_idx    33236 non-null  float64\n",
      " 2   sent_len   33236 non-null  float64\n",
      " 3   is_client  33236 non-null  int64  \n",
      "dtypes: float64(3), int64(1)\n",
      "memory usage: 1.0 MB\n"
     ]
    }
   ],
   "source": [
    "sent_db.info()"
   ]
  },
  {
   "cell_type": "code",
   "execution_count": 18,
   "id": "c35ac8d3",
   "metadata": {},
   "outputs": [
    {
     "data": {
      "text/plain": [
       "<seaborn.axisgrid.FacetGrid at 0x2b3ab07684c0>"
      ]
     },
     "execution_count": 18,
     "metadata": {},
     "output_type": "execute_result"
    },
    {
     "data": {
      "image/png": "[encoded data removed]",
      "text/plain": [
       "<Figure size 411.875x360 with 1 Axes>"
      ]
     },
     "metadata": {
      "needs_background": "light"
     },
     "output_type": "display_data"
    }
   ],
   "source": [
    "sent_len = sns.displot(data=sent_db, x='sent_len',hue='is_nar',kind='kde')\n",
    "sent_len.set(xlim=(0, 500))"
   ]
  },
  {
   "cell_type": "code",
   "execution_count": 29,
   "id": "ac49e7c7",
   "metadata": {},
   "outputs": [
    {
     "data": {
      "image/png": "[encoded data removed]",
      "text/plain": [
       "<Figure size 411.875x360 with 1 Axes>"
      ]
     },
     "metadata": {
      "needs_background": "light"
     },
     "output_type": "display_data"
    }
   ],
   "source": [
    "is_cl = sns.displot(data=sent_db, x='is_client',hue='is_nar',stat=\"density\")"
   ]
  },
  {
   "cell_type": "code",
   "execution_count": 35,
   "id": "7b11d64d",
   "metadata": {},
   "outputs": [
    {
     "data": {
      "text/html": [
       "<div>\n",
       "<style scoped>\n",
       "    .dataframe tbody tr th:only-of-type {\n",
       "        vertical-align: middle;\n",
       "    }\n",
       "\n",
       "    .dataframe tbody tr th {\n",
       "        vertical-align: top;\n",
       "    }\n",
       "\n",
       "    .dataframe thead th {\n",
       "        text-align: right;\n",
       "    }\n",
       "</style>\n",
       "<table border=\"1\" class=\"dataframe\">\n",
       "  <thead>\n",
       "    <tr style=\"text-align: right;\">\n",
       "      <th></th>\n",
       "      <th>dox_idx</th>\n",
       "      <th>sent_count</th>\n",
       "      <th>nar_count</th>\n",
       "      <th>avr_sent_len_nar</th>\n",
       "      <th>avr_sent_len_not_nar</th>\n",
       "      <th>avr_nar_sent_count</th>\n",
       "      <th>client_count</th>\n",
       "      <th>therapist_count</th>\n",
       "      <th>nar_client_count</th>\n",
       "      <th>nar_therapist_count</th>\n",
       "      <th>not_nar_client_count</th>\n",
       "      <th>not_nar_therapist_count</th>\n",
       "    </tr>\n",
       "  </thead>\n",
       "  <tbody>\n",
       "    <tr>\n",
       "      <th>0</th>\n",
       "      <td>32.000000</td>\n",
       "      <td>253.000000</td>\n",
       "      <td>9.000000</td>\n",
       "      <td>108.630137</td>\n",
       "      <td>122.355556</td>\n",
       "      <td>9.125000</td>\n",
       "      <td>197.000000</td>\n",
       "      <td>56.000000</td>\n",
       "      <td>70.000000</td>\n",
       "      <td>3.000000</td>\n",
       "      <td>127.000000</td>\n",
       "      <td>53.000000</td>\n",
       "    </tr>\n",
       "    <tr>\n",
       "      <th>1</th>\n",
       "      <td>1.000000</td>\n",
       "      <td>618.000000</td>\n",
       "      <td>14.000000</td>\n",
       "      <td>51.171642</td>\n",
       "      <td>42.380000</td>\n",
       "      <td>20.615385</td>\n",
       "      <td>415.000000</td>\n",
       "      <td>203.000000</td>\n",
       "      <td>227.000000</td>\n",
       "      <td>41.000000</td>\n",
       "      <td>188.000000</td>\n",
       "      <td>162.000000</td>\n",
       "    </tr>\n",
       "    <tr>\n",
       "      <th>2</th>\n",
       "      <td>2.000000</td>\n",
       "      <td>186.000000</td>\n",
       "      <td>5.000000</td>\n",
       "      <td>299.333333</td>\n",
       "      <td>118.683616</td>\n",
       "      <td>2.250000</td>\n",
       "      <td>91.000000</td>\n",
       "      <td>95.000000</td>\n",
       "      <td>7.000000</td>\n",
       "      <td>2.000000</td>\n",
       "      <td>84.000000</td>\n",
       "      <td>93.000000</td>\n",
       "    </tr>\n",
       "  </tbody>\n",
       "</table>\n",
       "</div>"
      ],
      "text/plain": [
       "    dox_idx  sent_count  nar_count  avr_sent_len_nar  avr_sent_len_not_nar  \\\n",
       "0 32.000000  253.000000   9.000000        108.630137            122.355556   \n",
       "1  1.000000  618.000000  14.000000         51.171642             42.380000   \n",
       "2  2.000000  186.000000   5.000000        299.333333            118.683616   \n",
       "\n",
       "   avr_nar_sent_count  client_count  therapist_count  nar_client_count  \\\n",
       "0            9.125000    197.000000        56.000000         70.000000   \n",
       "1           20.615385    415.000000       203.000000        227.000000   \n",
       "2            2.250000     91.000000        95.000000          7.000000   \n",
       "\n",
       "   nar_therapist_count  not_nar_client_count  not_nar_therapist_count  \n",
       "0             3.000000            127.000000                53.000000  \n",
       "1            41.000000            188.000000               162.000000  \n",
       "2             2.000000             84.000000                93.000000  "
      ]
     },
     "execution_count": 35,
     "metadata": {},
     "output_type": "execute_result"
    }
   ],
   "source": [
    "i= 2\n",
    "sent_db = pd.read_csv(os.path.join(os.getcwd(),defines.PATH_TO_DFS,\"{:02d}_sent_db.csv\".format(i)))\n",
    "curr_idx = doc_stat_db.shape[0]\n",
    "doc_stat_db.loc[curr_idx,'dox_idx'] = i\n",
    "doc_stat_db.loc[curr_idx,'sent_count'] = len(sent_db.index)\n",
    "doc_stat_db.loc[curr_idx,'nar_count'] = sent_db['nar_idx'].nunique()\n",
    "doc_stat_db.loc[curr_idx,'avr_sent_len_nar'] = sent_db.query('is_nar == 1')['sent_len'].mean()\n",
    "doc_stat_db.loc[curr_idx,'avr_sent_len_not_nar'] = sent_db.query('is_nar == 0')['sent_len'].mean()\n",
    "doc_stat_db.loc[curr_idx,'avr_nar_sent_count'] = sent_db.query('is_nar == 1').groupby('nar_idx').size().mean()\n",
    "doc_stat_db.loc[curr_idx,'client_count'] = sent_db[sent_db['is_client'] == 1].shape[0]\n",
    "doc_stat_db.loc[curr_idx,'therapist_count'] = sent_db[sent_db['is_client'] == 0].shape[0]\n",
    "doc_stat_db.loc[curr_idx,'nar_client_count'] = sent_db[(sent_db['is_client'] == 1) & (sent_db['is_nar']==1)].shape[0]\n",
    "doc_stat_db.loc[curr_idx,'nar_therapist_count'] = sent_db[(sent_db['is_client'] == 0) & (sent_db['is_nar']==1)].shape[0]\n",
    "doc_stat_db.loc[curr_idx,'not_nar_client_count'] = sent_db[(sent_db['is_client'] == 1) & (sent_db['is_nar']==0)].shape[0]\n",
    "doc_stat_db.loc[curr_idx,'not_nar_therapist_count'] = sent_db[(sent_db['is_client'] == 0) & (sent_db['is_nar']==0)].shape[0]\n",
    "\n",
    "\n",
    "\n",
    "doc_stat_db"
   ]
  },
  {
   "cell_type": "code",
   "execution_count": 16,
   "id": "ba567a46",
   "metadata": {},
   "outputs": [
    {
     "data": {
      "text/plain": [
       "nar_idx\n",
       "0.000000     120\n",
       "1.000000       9\n",
       "2.000000       4\n",
       "3.000000      13\n",
       "4.000000      11\n",
       "5.000000      35\n",
       "6.000000       8\n",
       "7.000000       2\n",
       "8.000000       5\n",
       "9.000000      17\n",
       "10.000000     18\n",
       "11.000000      3\n",
       "12.000000     19\n",
       "13.000000      3\n",
       "14.000000      7\n",
       "dtype: int64"
      ]
     },
     "execution_count": 16,
     "metadata": {},
     "output_type": "execute_result"
    }
   ],
   "source": [
    " sent_db.groupby('nar_idx').size()"
   ]
  },
  {
   "cell_type": "code",
   "execution_count": null,
   "id": "a8c333ae",
   "metadata": {},
   "outputs": [],
   "source": []
  }
 ],
 "metadata": {
  "kernelspec": {
   "display_name": "Python 3",
   "language": "python",
   "name": "python3"
  },
  "language_info": {
   "codemirror_mode": {
    "name": "ipython",
    "version": 3
   },
   "file_extension": ".py",
   "mimetype": "text/x-python",
   "name": "python",
   "nbconvert_exporter": "python",
   "pygments_lexer": "ipython3",
   "version": "3.8.5"
  }
 },
 "nbformat": 4,
 "nbformat_minor": 5
}
