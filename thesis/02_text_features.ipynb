{
 "cells": [
  {
   "cell_type": "code",
   "execution_count": 67,
   "id": "c15b9c8b",
   "metadata": {},
   "outputs": [
    {
     "data": {
      "text/plain": [
       "<module 'feature_utils' from './src/feature_utils.py'>"
      ]
     },
     "execution_count": 67,
     "metadata": {},
     "output_type": "execute_result"
    }
   ],
   "source": [
    "import pandas as pd\n",
    "import sys\n",
    "sys.path.append('./src/')\n",
    "import doc_utils\n",
    "import feature_utils\n",
    "import imp\n",
    "imp.reload(feature_utils)  "
   ]
  },
  {
   "cell_type": "code",
   "execution_count": 68,
   "id": "7243da6b",
   "metadata": {},
   "outputs": [],
   "source": [
    "from sklearn.feature_extraction.text import CountVectorizer , TfidfVectorizer, TfidfTransformer\n",
    "\n",
    "tdidf = TfidfVectorizer(min_df=4,norm='l1')"
   ]
  },
  {
   "cell_type": "code",
   "execution_count": 69,
   "id": "ed169562",
   "metadata": {},
   "outputs": [
    {
     "data": {
      "text/html": [
       "<div>\n",
       "<style scoped>\n",
       "    .dataframe tbody tr th:only-of-type {\n",
       "        vertical-align: middle;\n",
       "    }\n",
       "\n",
       "    .dataframe tbody tr th {\n",
       "        vertical-align: top;\n",
       "    }\n",
       "\n",
       "    .dataframe thead th {\n",
       "        text-align: right;\n",
       "    }\n",
       "</style>\n",
       "<table border=\"1\" class=\"dataframe\">\n",
       "  <thead>\n",
       "    <tr style=\"text-align: right;\">\n",
       "      <th></th>\n",
       "      <th>text</th>\n",
       "      <th>is_nar</th>\n",
       "      <th>doc_idx</th>\n",
       "      <th>par_idx</th>\n",
       "      <th>par_type</th>\n",
       "      <th>block_type</th>\n",
       "      <th>nar_idx</th>\n",
       "    </tr>\n",
       "  </thead>\n",
       "  <tbody>\n",
       "    <tr>\n",
       "      <th>0</th>\n",
       "      <td>CLIENT</td>\n",
       "      <td>0.000000</td>\n",
       "      <td>0.000000</td>\n",
       "      <td>0.000000</td>\n",
       "      <td>no_mark</td>\n",
       "      <td>not_nar</td>\n",
       "      <td>0.000000</td>\n",
       "    </tr>\n",
       "    <tr>\n",
       "      <th>1</th>\n",
       "      <td>THERAPIST</td>\n",
       "      <td>0.000000</td>\n",
       "      <td>0.000000</td>\n",
       "      <td>1.000000</td>\n",
       "      <td>no_mark</td>\n",
       "      <td>not_nar</td>\n",
       "      <td>0.000000</td>\n",
       "    </tr>\n",
       "    <tr>\n",
       "      <th>2</th>\n",
       "      <td>@ התחל</td>\n",
       "      <td>0.000000</td>\n",
       "      <td>0.000000</td>\n",
       "      <td>2.000000</td>\n",
       "      <td>no_mark</td>\n",
       "      <td>not_nar</td>\n",
       "      <td>0.000000</td>\n",
       "    </tr>\n",
       "    <tr>\n",
       "      <th>3</th>\n",
       "      <td>@ שפה:\\tעב</td>\n",
       "      <td>0.000000</td>\n",
       "      <td>0.000000</td>\n",
       "      <td>3.000000</td>\n",
       "      <td>no_mark</td>\n",
       "      <td>not_nar</td>\n",
       "      <td>0.000000</td>\n",
       "    </tr>\n",
       "    <tr>\n",
       "      <th>4</th>\n",
       "      <td>@ משתתפים:</td>\n",
       "      <td>0.000000</td>\n",
       "      <td>0.000000</td>\n",
       "      <td>4.000000</td>\n",
       "      <td>no_mark</td>\n",
       "      <td>not_nar</td>\n",
       "      <td>0.000000</td>\n",
       "    </tr>\n",
       "    <tr>\n",
       "      <th>...</th>\n",
       "      <td>...</td>\n",
       "      <td>...</td>\n",
       "      <td>...</td>\n",
       "      <td>...</td>\n",
       "      <td>...</td>\n",
       "      <td>...</td>\n",
       "      <td>...</td>\n",
       "    </tr>\n",
       "    <tr>\n",
       "      <th>1356</th>\n",
       "      <td>* :\\tככה כמה דקות אה... לא לא לא בסדר</td>\n",
       "      <td>0.000000</td>\n",
       "      <td>5.000000</td>\n",
       "      <td>269.000000</td>\n",
       "      <td>therapist</td>\n",
       "      <td>not_nar</td>\n",
       "      <td>0.000000</td>\n",
       "    </tr>\n",
       "    <tr>\n",
       "      <th>1357</th>\n",
       "      <td>* :\\tלא לא לא בסדר יש לך את הדקות בשביל ה</td>\n",
       "      <td>0.000000</td>\n",
       "      <td>5.000000</td>\n",
       "      <td>270.000000</td>\n",
       "      <td>client</td>\n",
       "      <td>not_nar</td>\n",
       "      <td>0.000000</td>\n",
       "    </tr>\n",
       "    <tr>\n",
       "      <th>1358</th>\n",
       "      <td>* :\\tיש לך את הדקות בשביל ה</td>\n",
       "      <td>0.000000</td>\n",
       "      <td>5.000000</td>\n",
       "      <td>271.000000</td>\n",
       "      <td>therapist</td>\n",
       "      <td>not_nar</td>\n",
       "      <td>0.000000</td>\n",
       "    </tr>\n",
       "    <tr>\n",
       "      <th>1359</th>\n",
       "      <td>* :\\t את הזה, השאלון?</td>\n",
       "      <td>0.000000</td>\n",
       "      <td>5.000000</td>\n",
       "      <td>272.000000</td>\n",
       "      <td>client</td>\n",
       "      <td>not_nar</td>\n",
       "      <td>0.000000</td>\n",
       "    </tr>\n",
       "    <tr>\n",
       "      <th>1360</th>\n",
       "      <td>@ סיום\\n</td>\n",
       "      <td>0.000000</td>\n",
       "      <td>5.000000</td>\n",
       "      <td>273.000000</td>\n",
       "      <td>no_mark</td>\n",
       "      <td>not_nar</td>\n",
       "      <td>0.000000</td>\n",
       "    </tr>\n",
       "  </tbody>\n",
       "</table>\n",
       "<p>1361 rows × 7 columns</p>\n",
       "</div>"
      ],
      "text/plain": [
       "                                           text   is_nar  doc_idx    par_idx  \\\n",
       "0                                        CLIENT 0.000000 0.000000   0.000000   \n",
       "1                                     THERAPIST 0.000000 0.000000   1.000000   \n",
       "2                                        @ התחל 0.000000 0.000000   2.000000   \n",
       "3                                    @ שפה:\\tעב 0.000000 0.000000   3.000000   \n",
       "4                                    @ משתתפים: 0.000000 0.000000   4.000000   \n",
       "...                                         ...      ...      ...        ...   \n",
       "1356      * :\\tככה כמה דקות אה... לא לא לא בסדר 0.000000 5.000000 269.000000   \n",
       "1357  * :\\tלא לא לא בסדר יש לך את הדקות בשביל ה 0.000000 5.000000 270.000000   \n",
       "1358                * :\\tיש לך את הדקות בשביל ה 0.000000 5.000000 271.000000   \n",
       "1359                      * :\\t את הזה, השאלון? 0.000000 5.000000 272.000000   \n",
       "1360                                   @ סיום\\n 0.000000 5.000000 273.000000   \n",
       "\n",
       "       par_type block_type  nar_idx  \n",
       "0       no_mark    not_nar 0.000000  \n",
       "1       no_mark    not_nar 0.000000  \n",
       "2       no_mark    not_nar 0.000000  \n",
       "3       no_mark    not_nar 0.000000  \n",
       "4       no_mark    not_nar 0.000000  \n",
       "...         ...        ...      ...  \n",
       "1356  therapist    not_nar 0.000000  \n",
       "1357     client    not_nar 0.000000  \n",
       "1358  therapist    not_nar 0.000000  \n",
       "1359     client    not_nar 0.000000  \n",
       "1360    no_mark    not_nar 0.000000  \n",
       "\n",
       "[1361 rows x 7 columns]"
      ]
     },
     "execution_count": 69,
     "metadata": {},
     "output_type": "execute_result"
    }
   ],
   "source": [
    "block_db = pd.read_csv(\"block_db.csv\")\n",
    "block_db"
   ]
  },
  {
   "cell_type": "code",
   "execution_count": 70,
   "id": "dc0a0a6b",
   "metadata": {},
   "outputs": [],
   "source": [
    "cl_th_db = block_db.query(\"par_type in ['client','therapist']\")"
   ]
  },
  {
   "cell_type": "markdown",
   "id": "ab438903",
   "metadata": {},
   "source": [
    "## Process with TFidf and run SGDClassifier"
   ]
  },
  {
   "cell_type": "code",
   "execution_count": 71,
   "id": "7ed3c5bd",
   "metadata": {},
   "outputs": [
    {
     "name": "stdout",
     "output_type": "stream",
     "text": [
      "Run model for par_type == 'client'\n",
      "total data len: 622\n",
      "len train: 466, len test: 156\n",
      "['10', '14', 'l1', 'xxx', 'אבא', 'אגיד', 'אה', 'אהה', 'אהיה', 'אומרים', 'אומרת', 'אוקיי', 'אחי', 'איזשהו', 'איזשהי', 'איתה', 'איתי', 'איתך', 'איתם', 'אלי']\n",
      "['ידעתי', 'יושב', 'יחסים', 'יחסית', 'יכולים', 'יכולתי', 'ילד', 'ימים', 'יצא', 'יקרה', 'ישבתי', 'ישר', 'כאילו', 'כזאת', 'כיף', 'כללי', 'כשאני', 'לאיזה', 'לבוא', 'לגמרי']\n",
      "['10', 'אמרת', 'בסדר', 'הגבולות', 'והם', 'יקרה', 'לפגוע', 'ממה', 'סבבה', 'קרוב', 'תראי']\n"
     ]
    },
    {
     "data": {
      "image/png": "[encoded data removed]",
      "text/plain": [
       "<Figure size 1080x432 with 1 Axes>"
      ]
     },
     "metadata": {
      "needs_background": "light"
     },
     "output_type": "display_data"
    },
    {
     "name": "stdout",
     "output_type": "stream",
     "text": [
      "              precision    recall  f1-score   support\n",
      "\n",
      "         0.0       0.63      0.60      0.61        84\n",
      "         1.0       0.56      0.60      0.58        72\n",
      "\n",
      "    accuracy                           0.60       156\n",
      "   macro avg       0.60      0.60      0.60       156\n",
      "weighted avg       0.60      0.60      0.60       156\n",
      "\n",
      "Run model for par_type in ['client','therapist']\n",
      "total data len: 1251\n",
      "len train: 938, len test: 313\n",
      "['10', '14', '20', 'l1', 'xxx', 'אבא', 'אגיד', 'אה', 'אהה', 'אהיה', 'אומרים', 'אומרת', 'אוקי', 'אוקיי', 'איזשהו', 'איזשהי', 'איכשהו', 'אישי', 'איתה', 'איתי']\n",
      "['יכולתי', 'ילד', 'ילדה', 'יצא', 'יצר', 'יקרה', 'ישבתי', 'ישירות', 'ישר', 'כאילו', 'כושר', 'כזאת', 'כיף', 'כלומר', 'כלל', 'כללי', 'כשאני', 'כשאתה', 'כשהוא', 'לאו']\n",
      "['10', 'באותו', 'ברמה', 'המשא', 'והם', 'כאילו', 'לפתוח', 'ממני', 'עוברים', 'שאפשר', 'תשמע']\n"
     ]
    },
    {
     "data": {
      "image/png": "[encoded data removed]",
      "text/plain": [
       "<Figure size 432x288 with 2 Axes>"
      ]
     },
     "metadata": {
      "needs_background": "light"
     },
     "output_type": "display_data"
    },
    {
     "data": {
      "image/png": "[encoded data removed]",
      "text/plain": [
       "<Figure size 1080x432 with 1 Axes>"
      ]
     },
     "metadata": {
      "needs_background": "light"
     },
     "output_type": "display_data"
    },
    {
     "name": "stdout",
     "output_type": "stream",
     "text": [
      "              precision    recall  f1-score   support\n",
      "\n",
      "         0.0       0.65      0.74      0.69       172\n",
      "         1.0       0.62      0.50      0.55       141\n",
      "\n",
      "    accuracy                           0.64       313\n",
      "   macro avg       0.63      0.62      0.62       313\n",
      "weighted avg       0.63      0.64      0.63       313\n",
      "\n"
     ]
    },
    {
     "data": {
      "image/png": "[encoded data removed]",
      "text/plain": [
       "<Figure size 432x288 with 2 Axes>"
      ]
     },
     "metadata": {
      "needs_background": "light"
     },
     "output_type": "display_data"
    }
   ],
   "source": [
    "queries = [\"par_type == 'client'\",\n",
    "            \"par_type in ['client','therapist']\"]\n",
    "for q in queries:\n",
    "    print(\"Run model for {}\".format(q))\n",
    "    feature_utils.run_model(block_db.query(q))"
   ]
  },
  {
   "cell_type": "markdown",
   "id": "6edc41eb",
   "metadata": {},
   "source": [
    "## Embedded - fasttext fro Hebrew"
   ]
  },
  {
   "cell_type": "code",
   "execution_count": 73,
   "id": "6d3264d2",
   "metadata": {},
   "outputs": [],
   "source": [
    "import fasttext.util\n",
    "ft = fasttext.load_model('./external_src/cc.he.300.bin')"
   ]
  },
  {
   "cell_type": "code",
   "execution_count": 76,
   "id": "335d10ae",
   "metadata": {},
   "outputs": [
    {
     "ename": "AttributeError",
     "evalue": "module 'doc_utils' has no attribute 'sent_db'",
     "output_type": "error",
     "traceback": [
      "\u001b[0;31m---------------------------------------------------------------------------\u001b[0m",
      "\u001b[0;31mAttributeError\u001b[0m                            Traceback (most recent call last)",
      "\u001b[0;32m<ipython-input-76-1d8894a3d94a>\u001b[0m in \u001b[0;36m<module>\u001b[0;34m\u001b[0m\n\u001b[0;32m----> 1\u001b[0;31m \u001b[0mdoc_utils\u001b[0m\u001b[0;34m.\u001b[0m\u001b[0msent_db\u001b[0m\u001b[0;34m\u001b[0m\u001b[0;34m\u001b[0m\u001b[0m\n\u001b[0m",
      "\u001b[0;31mAttributeError\u001b[0m: module 'doc_utils' has no attribute 'sent_db'"
     ]
    }
   ],
   "source": [
    "doc_utils.sent_db"
   ]
  },
  {
   "cell_type": "code",
   "execution_count": null,
   "id": "ad955563",
   "metadata": {},
   "outputs": [],
   "source": []
  }
 ],
 "metadata": {
  "kernelspec": {
   "display_name": "Python 3",
   "language": "python",
   "name": "python3"
  },
  "language_info": {
   "codemirror_mode": {
    "name": "ipython",
    "version": 3
   },
   "file_extension": ".py",
   "mimetype": "text/x-python",
   "name": "python",
   "nbconvert_exporter": "python",
   "pygments_lexer": "ipython3",
   "version": "3.8.5"
  }
 },
 "nbformat": 4,
 "nbformat_minor": 5
}
