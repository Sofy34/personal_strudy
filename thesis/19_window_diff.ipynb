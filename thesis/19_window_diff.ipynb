{
 "cells": [
  {
   "cell_type": "code",
   "execution_count": 3,
   "id": "1cbf8ce7",
   "metadata": {},
   "outputs": [],
   "source": [
    "#ensembling\n",
    "from mlxtend.classifier import StackingCVClassifier\n",
    "import numpy as np\n",
    "import pandas as pd\n",
    "import sys, os, glob\n",
    "import imp\n",
    "import seaborn as sns\n",
    "sys.path.append('./src/')\n",
    "import common_utils,my_ensembler, feature_utils, defines, model_utils, my_bert\n",
    "from sklearn.neighbors import KNeighborsClassifier\n",
    "from sklearn_crfsuite import scorers, CRF\n",
    "from sklearn.pipeline import Pipeline\n",
    "import json\n",
    "from operator import itemgetter\n",
    "from sklearn_crfsuite.utils import flatten\n",
    "from sklearn_crfsuite.metrics import sequence_accuracy_score\n",
    "from sklearn.linear_model import LogisticRegression\n",
    "import scipy\n",
    "import sklearn\n",
    "import scipy.stats\n",
    "from sklearn.metrics import make_scorer\n",
    "from sklearn.model_selection import RandomizedSearchCV,GridSearchCV\n",
    "from sklearn_crfsuite import scorers\n",
    "from sklearn_crfsuite import metrics\n",
    "import classes\n",
    "import pickle"
   ]
  },
  {
   "cell_type": "code",
   "execution_count": 26,
   "id": "6a1847a3",
   "metadata": {},
   "outputs": [],
   "source": [
    "dir_name='reparse'\n",
    "crf_pred_name='cv_crf_best_params.78'"
   ]
  },
  {
   "cell_type": "code",
   "execution_count": 27,
   "id": "e62417cb",
   "metadata": {},
   "outputs": [
    {
     "name": "stdout",
     "output_type": "stream",
     "text": [
      "WindowDiff init called\n"
     ]
    }
   ],
   "source": [
    "imp.reload(classes)\n",
    "winDiff=classes.WindowDiff()"
   ]
  },
  {
   "cell_type": "code",
   "execution_count": 36,
   "id": "ec2d8b40",
   "metadata": {},
   "outputs": [],
   "source": [
    "true=[0,0,1,1,1,0,0,0,1,1,0]\n",
    "pred1=[0,0,1,1,1,0,0,0,1,1,0]\n",
    "pred2=[0,0,0,1,1,0,0,0,1,1,0]\n",
    "pred3=[0,0,0,1,1,1,0,0,1,1,0]\n"
   ]
  },
  {
   "cell_type": "code",
   "execution_count": 37,
   "id": "2cadf348",
   "metadata": {},
   "outputs": [
    {
     "name": "stdout",
     "output_type": "stream",
     "text": [
      "[0:2]=[0, 0, 1] true count 1 prd count 1 diff 0 penalty 0\n",
      "[1:3]=[0, 1, 1] true count 1 prd count 1 diff 0 penalty 0\n",
      "[2:4]=[1, 1, 1] true count 0 prd count 0 diff 0 penalty 0\n",
      "[3:5]=[1, 1, 0] true count 1 prd count 1 diff 0 penalty 0\n",
      "[4:6]=[1, 0, 0] true count 1 prd count 1 diff 0 penalty 0\n",
      "[5:7]=[0, 0, 0] true count 0 prd count 0 diff 0 penalty 0\n",
      "[6:8]=[0, 0, 1] true count 1 prd count 1 diff 0 penalty 0\n",
      "[7:9]=[0, 1, 1] true count 1 prd count 1 diff 0 penalty 0\n"
     ]
    },
    {
     "data": {
      "text/plain": [
       "0.0"
      ]
     },
     "execution_count": 37,
     "metadata": {},
     "output_type": "execute_result"
    }
   ],
   "source": [
    "pen=winDiff.calc_penalty(true,pred1,3)\n",
    "pen"
   ]
  },
  {
   "cell_type": "code",
   "execution_count": 38,
   "id": "b9732ade",
   "metadata": {},
   "outputs": [
    {
     "name": "stdout",
     "output_type": "stream",
     "text": [
      "[0:2]=[0, 0, 1] true count 1 prd count 0 diff 1 penalty 1\n",
      "[1:3]=[0, 1, 1] true count 1 prd count 1 diff 0 penalty 1\n",
      "[2:4]=[1, 1, 1] true count 0 prd count 1 diff 1 penalty 2\n",
      "[3:5]=[1, 1, 0] true count 1 prd count 1 diff 0 penalty 2\n",
      "[4:6]=[1, 0, 0] true count 1 prd count 1 diff 0 penalty 2\n",
      "[5:7]=[0, 0, 0] true count 0 prd count 0 diff 0 penalty 2\n",
      "[6:8]=[0, 0, 1] true count 1 prd count 1 diff 0 penalty 2\n",
      "[7:9]=[0, 1, 1] true count 1 prd count 1 diff 0 penalty 2\n"
     ]
    },
    {
     "data": {
      "text/plain": [
       "0.25"
      ]
     },
     "execution_count": 38,
     "metadata": {},
     "output_type": "execute_result"
    }
   ],
   "source": [
    "pen=winDiff.calc_penalty(true,pred2,3)\n",
    "pen"
   ]
  },
  {
   "cell_type": "code",
   "execution_count": 39,
   "id": "b5aaf810",
   "metadata": {},
   "outputs": [
    {
     "name": "stdout",
     "output_type": "stream",
     "text": [
      "[0:2]=[0, 0, 1] true count 1 prd count 0 diff 1 penalty 1\n",
      "[1:3]=[0, 1, 1] true count 1 prd count 1 diff 0 penalty 1\n",
      "[2:4]=[1, 1, 1] true count 0 prd count 1 diff 1 penalty 2\n",
      "[3:5]=[1, 1, 0] true count 1 prd count 0 diff 1 penalty 3\n",
      "[4:6]=[1, 0, 0] true count 1 prd count 1 diff 0 penalty 3\n",
      "[5:7]=[0, 0, 0] true count 0 prd count 1 diff 1 penalty 4\n",
      "[6:8]=[0, 0, 1] true count 1 prd count 1 diff 0 penalty 4\n",
      "[7:9]=[0, 1, 1] true count 1 prd count 1 diff 0 penalty 4\n"
     ]
    },
    {
     "data": {
      "text/plain": [
       "0.5"
      ]
     },
     "execution_count": 39,
     "metadata": {},
     "output_type": "execute_result"
    }
   ],
   "source": [
    "pen=winDiff.calc_penalty(true,pred3,3)\n",
    "pen"
   ]
  },
  {
   "cell_type": "code",
   "execution_count": 40,
   "id": "0ae9942d",
   "metadata": {},
   "outputs": [
    {
     "name": "stdout",
     "output_type": "stream",
     "text": [
      "[0:3]=[0, 0, 1, 1] true count 1 prd count 1 diff 0 penalty 0\n",
      "[1:4]=[0, 1, 1, 1] true count 1 prd count 1 diff 0 penalty 0\n",
      "[2:5]=[1, 1, 1, 0] true count 1 prd count 1 diff 0 penalty 0\n",
      "[3:6]=[1, 1, 0, 0] true count 1 prd count 1 diff 0 penalty 0\n",
      "[4:7]=[1, 0, 0, 0] true count 1 prd count 1 diff 0 penalty 0\n",
      "[5:8]=[0, 0, 0, 1] true count 1 prd count 2 diff 1 penalty 1\n",
      "[6:9]=[0, 0, 1, 1] true count 1 prd count 1 diff 0 penalty 1\n"
     ]
    },
    {
     "data": {
      "text/plain": [
       "0.14285714285714285"
      ]
     },
     "execution_count": 40,
     "metadata": {},
     "output_type": "execute_result"
    }
   ],
   "source": [
    "pen=winDiff.calc_penalty(true,pred3,4)\n",
    "pen"
   ]
  },
  {
   "cell_type": "code",
   "execution_count": 43,
   "id": "8955e534",
   "metadata": {},
   "outputs": [
    {
     "name": "stdout",
     "output_type": "stream",
     "text": [
      "[0:9]=[0, 1, 1, 0, 1, 1, 1, 1, 1, 1] true count 3 prd count 3 diff 0 penalty 0\n",
      "[1:10]=[1, 1, 0, 1, 1, 1, 1, 1, 1, 1] true count 2 prd count 3 diff 1 penalty 1\n",
      "[2:11]=[1, 0, 1, 1, 1, 1, 1, 1, 1, 1] true count 2 prd count 2 diff 0 penalty 1\n",
      "[3:12]=[0, 1, 1, 1, 1, 1, 1, 1, 1, 1] true count 1 prd count 2 diff 1 penalty 2\n",
      "[4:13]=[1, 1, 1, 1, 1, 1, 1, 1, 1, 1] true count 0 prd count 1 diff 1 penalty 3\n"
     ]
    },
    {
     "data": {
      "text/plain": [
       "0.6"
      ]
     },
     "execution_count": 43,
     "metadata": {},
     "output_type": "execute_result"
    }
   ],
   "source": [
    "tr5=[0,1,1,0,1,1,1,1,1,1,1,1,1,1,0]\n",
    "pr5=[0,0,1,1,0,1,1,1,1,1,1,1,1,1,1]\n",
    "pen=winDiff.calc_penalty(tr5,pr5,10)\n",
    "pen"
   ]
  },
  {
   "cell_type": "code",
   "execution_count": 15,
   "id": "0e22b3a1",
   "metadata": {},
   "outputs": [
    {
     "name": "stdout",
     "output_type": "stream",
     "text": [
      "Opened /scratch/sim_reg6/users/zsofya/classroom/MSc/personal_study/thesis/dataframes/reparse/cv_crf_best_params.78.csv,  index False\n"
     ]
    },
    {
     "data": {
      "text/html": [
       "<div>\n",
       "<style scoped>\n",
       "    .dataframe tbody tr th:only-of-type {\n",
       "        vertical-align: middle;\n",
       "    }\n",
       "\n",
       "    .dataframe tbody tr th {\n",
       "        vertical-align: top;\n",
       "    }\n",
       "\n",
       "    .dataframe thead th {\n",
       "        text-align: right;\n",
       "    }\n",
       "</style>\n",
       "<table border=\"1\" class=\"dataframe\">\n",
       "  <thead>\n",
       "    <tr style=\"text-align: right;\">\n",
       "      <th></th>\n",
       "      <th>crf_group</th>\n",
       "      <th>crf_split</th>\n",
       "      <th>crf_predicted</th>\n",
       "      <th>crf_true</th>\n",
       "      <th>crf_proba_0</th>\n",
       "      <th>crf_proba_1</th>\n",
       "    </tr>\n",
       "  </thead>\n",
       "  <tbody>\n",
       "    <tr>\n",
       "      <th>0</th>\n",
       "      <td>4</td>\n",
       "      <td>0</td>\n",
       "      <td>not_nar</td>\n",
       "      <td>not_nar</td>\n",
       "      <td>0.945664</td>\n",
       "      <td>0.054336</td>\n",
       "    </tr>\n",
       "    <tr>\n",
       "      <th>1</th>\n",
       "      <td>4</td>\n",
       "      <td>0</td>\n",
       "      <td>not_nar</td>\n",
       "      <td>not_nar</td>\n",
       "      <td>0.961845</td>\n",
       "      <td>0.038155</td>\n",
       "    </tr>\n",
       "    <tr>\n",
       "      <th>2</th>\n",
       "      <td>4</td>\n",
       "      <td>0</td>\n",
       "      <td>not_nar</td>\n",
       "      <td>not_nar</td>\n",
       "      <td>0.972418</td>\n",
       "      <td>0.027582</td>\n",
       "    </tr>\n",
       "    <tr>\n",
       "      <th>3</th>\n",
       "      <td>4</td>\n",
       "      <td>0</td>\n",
       "      <td>not_nar</td>\n",
       "      <td>not_nar</td>\n",
       "      <td>0.898435</td>\n",
       "      <td>0.101565</td>\n",
       "    </tr>\n",
       "    <tr>\n",
       "      <th>4</th>\n",
       "      <td>4</td>\n",
       "      <td>0</td>\n",
       "      <td>not_nar</td>\n",
       "      <td>not_nar</td>\n",
       "      <td>0.797448</td>\n",
       "      <td>0.202552</td>\n",
       "    </tr>\n",
       "    <tr>\n",
       "      <th>...</th>\n",
       "      <td>...</td>\n",
       "      <td>...</td>\n",
       "      <td>...</td>\n",
       "      <td>...</td>\n",
       "      <td>...</td>\n",
       "      <td>...</td>\n",
       "    </tr>\n",
       "    <tr>\n",
       "      <th>38776</th>\n",
       "      <td>79</td>\n",
       "      <td>9</td>\n",
       "      <td>not_nar</td>\n",
       "      <td>not_nar</td>\n",
       "      <td>0.969682</td>\n",
       "      <td>0.030318</td>\n",
       "    </tr>\n",
       "    <tr>\n",
       "      <th>38777</th>\n",
       "      <td>79</td>\n",
       "      <td>9</td>\n",
       "      <td>not_nar</td>\n",
       "      <td>not_nar</td>\n",
       "      <td>0.958210</td>\n",
       "      <td>0.041790</td>\n",
       "    </tr>\n",
       "    <tr>\n",
       "      <th>38778</th>\n",
       "      <td>79</td>\n",
       "      <td>9</td>\n",
       "      <td>not_nar</td>\n",
       "      <td>not_nar</td>\n",
       "      <td>0.976662</td>\n",
       "      <td>0.023338</td>\n",
       "    </tr>\n",
       "    <tr>\n",
       "      <th>38779</th>\n",
       "      <td>79</td>\n",
       "      <td>9</td>\n",
       "      <td>not_nar</td>\n",
       "      <td>not_nar</td>\n",
       "      <td>0.978750</td>\n",
       "      <td>0.021250</td>\n",
       "    </tr>\n",
       "    <tr>\n",
       "      <th>38780</th>\n",
       "      <td>79</td>\n",
       "      <td>9</td>\n",
       "      <td>not_nar</td>\n",
       "      <td>not_nar</td>\n",
       "      <td>0.971380</td>\n",
       "      <td>0.028620</td>\n",
       "    </tr>\n",
       "  </tbody>\n",
       "</table>\n",
       "<p>38781 rows × 6 columns</p>\n",
       "</div>"
      ],
      "text/plain": [
       "       crf_group  crf_split crf_predicted crf_true  crf_proba_0  crf_proba_1\n",
       "0              4          0       not_nar  not_nar     0.945664     0.054336\n",
       "1              4          0       not_nar  not_nar     0.961845     0.038155\n",
       "2              4          0       not_nar  not_nar     0.972418     0.027582\n",
       "3              4          0       not_nar  not_nar     0.898435     0.101565\n",
       "4              4          0       not_nar  not_nar     0.797448     0.202552\n",
       "...          ...        ...           ...      ...          ...          ...\n",
       "38776         79          9       not_nar  not_nar     0.969682     0.030318\n",
       "38777         79          9       not_nar  not_nar     0.958210     0.041790\n",
       "38778         79          9       not_nar  not_nar     0.976662     0.023338\n",
       "38779         79          9       not_nar  not_nar     0.978750     0.021250\n",
       "38780         79          9       not_nar  not_nar     0.971380     0.028620\n",
       "\n",
       "[38781 rows x 6 columns]"
      ]
     },
     "execution_count": 15,
     "metadata": {},
     "output_type": "execute_result"
    }
   ],
   "source": [
    "crf_pred_db=common_utils.load_db(dir_name,crf_pred_name)\n",
    "crf_pred_db"
   ]
  },
  {
   "cell_type": "code",
   "execution_count": 18,
   "id": "46a5aa8d",
   "metadata": {},
   "outputs": [
    {
     "name": "stdout",
     "output_type": "stream",
     "text": [
      "WindowDiff init called\n"
     ]
    },
    {
     "data": {
      "text/html": [
       "<div>\n",
       "<style scoped>\n",
       "    .dataframe tbody tr th:only-of-type {\n",
       "        vertical-align: middle;\n",
       "    }\n",
       "\n",
       "    .dataframe tbody tr th {\n",
       "        vertical-align: top;\n",
       "    }\n",
       "\n",
       "    .dataframe thead th {\n",
       "        text-align: right;\n",
       "    }\n",
       "</style>\n",
       "<table border=\"1\" class=\"dataframe\">\n",
       "  <thead>\n",
       "    <tr style=\"text-align: right;\">\n",
       "      <th></th>\n",
       "      <th>error</th>\n",
       "      <th>len</th>\n",
       "      <th>true_count</th>\n",
       "      <th>pred_count</th>\n",
       "    </tr>\n",
       "    <tr>\n",
       "      <th>crf_group</th>\n",
       "      <th></th>\n",
       "      <th></th>\n",
       "      <th></th>\n",
       "      <th></th>\n",
       "    </tr>\n",
       "  </thead>\n",
       "  <tbody>\n",
       "    <tr>\n",
       "      <th>1</th>\n",
       "      <td>0.688027</td>\n",
       "      <td>613.0</td>\n",
       "      <td>0.0</td>\n",
       "      <td>0.0</td>\n",
       "    </tr>\n",
       "    <tr>\n",
       "      <th>2</th>\n",
       "      <td>0.341772</td>\n",
       "      <td>652.0</td>\n",
       "      <td>0.0</td>\n",
       "      <td>0.0</td>\n",
       "    </tr>\n",
       "    <tr>\n",
       "      <th>3</th>\n",
       "      <td>0.537764</td>\n",
       "      <td>682.0</td>\n",
       "      <td>0.0</td>\n",
       "      <td>0.0</td>\n",
       "    </tr>\n",
       "    <tr>\n",
       "      <th>4</th>\n",
       "      <td>0.297118</td>\n",
       "      <td>471.0</td>\n",
       "      <td>0.0</td>\n",
       "      <td>0.0</td>\n",
       "    </tr>\n",
       "    <tr>\n",
       "      <th>5</th>\n",
       "      <td>0.766734</td>\n",
       "      <td>513.0</td>\n",
       "      <td>0.0</td>\n",
       "      <td>0.0</td>\n",
       "    </tr>\n",
       "    <tr>\n",
       "      <th>...</th>\n",
       "      <td>...</td>\n",
       "      <td>...</td>\n",
       "      <td>...</td>\n",
       "      <td>...</td>\n",
       "    </tr>\n",
       "    <tr>\n",
       "      <th>76</th>\n",
       "      <td>0.129670</td>\n",
       "      <td>475.0</td>\n",
       "      <td>0.0</td>\n",
       "      <td>0.0</td>\n",
       "    </tr>\n",
       "    <tr>\n",
       "      <th>77</th>\n",
       "      <td>0.529833</td>\n",
       "      <td>439.0</td>\n",
       "      <td>0.0</td>\n",
       "      <td>0.0</td>\n",
       "    </tr>\n",
       "    <tr>\n",
       "      <th>78</th>\n",
       "      <td>0.771084</td>\n",
       "      <td>186.0</td>\n",
       "      <td>0.0</td>\n",
       "      <td>0.0</td>\n",
       "    </tr>\n",
       "    <tr>\n",
       "      <th>79</th>\n",
       "      <td>1.326360</td>\n",
       "      <td>259.0</td>\n",
       "      <td>2.0</td>\n",
       "      <td>0.0</td>\n",
       "    </tr>\n",
       "    <tr>\n",
       "      <th>80</th>\n",
       "      <td>0.258824</td>\n",
       "      <td>530.0</td>\n",
       "      <td>0.0</td>\n",
       "      <td>0.0</td>\n",
       "    </tr>\n",
       "  </tbody>\n",
       "</table>\n",
       "<p>80 rows × 4 columns</p>\n",
       "</div>"
      ],
      "text/plain": [
       "              error    len  true_count  pred_count\n",
       "crf_group                                         \n",
       "1          0.688027  613.0         0.0         0.0\n",
       "2          0.341772  652.0         0.0         0.0\n",
       "3          0.537764  682.0         0.0         0.0\n",
       "4          0.297118  471.0         0.0         0.0\n",
       "5          0.766734  513.0         0.0         0.0\n",
       "...             ...    ...         ...         ...\n",
       "76         0.129670  475.0         0.0         0.0\n",
       "77         0.529833  439.0         0.0         0.0\n",
       "78         0.771084  186.0         0.0         0.0\n",
       "79         1.326360  259.0         2.0         0.0\n",
       "80         0.258824  530.0         0.0         0.0\n",
       "\n",
       "[80 rows x 4 columns]"
      ]
     },
     "execution_count": 18,
     "metadata": {},
     "output_type": "execute_result"
    }
   ],
   "source": [
    "imp.reload(classes)\n",
    "wd=classes.WindowDiff()\n",
    "\n",
    "def calc_error(df_sub,wind_size):\n",
    "    return pd.Series(wd.calc_penalty(df_sub['crf_true'],df_sub['crf_predicted'],wind_size))\n",
    "\n",
    "wind_size=20\n",
    "df=pd.DataFrame()\n",
    "df[['error','len','true_count','pred_count']]=crf_pred_db.groupby(['crf_group']).apply(func=calc_error,wind_size=wind_size)\n",
    "df"
   ]
  },
  {
   "cell_type": "markdown",
   "id": "25b6d71b",
   "metadata": {},
   "source": [
    "## Try new metric - WinPR"
   ]
  },
  {
   "cell_type": "code",
   "execution_count": 136,
   "id": "29134207",
   "metadata": {},
   "outputs": [],
   "source": [
    "\n",
    "y_pred={}\n",
    "y_pred['a']=[0,0,0,0,0,0,1,1,1,1,1,1]\n",
    "y_pred['b']=[0,0,0,0,0,0,0,0,0,0,0,0]\n",
    "y_pred['c']=[0,0,0,0,0,1,1,1,1,1,1,1]\n",
    "y_pred['d']=[0,1,1,1,1,1,0,0,0,0,0,0]\n",
    "y_pred['e']=[0,0,0,0,0,1,0,1,1,1,1,1]\n"
   ]
  },
  {
   "cell_type": "code",
   "execution_count": 157,
   "id": "86730498",
   "metadata": {},
   "outputs": [
    {
     "name": "stdout",
     "output_type": "stream",
     "text": [
      "WinPR init called\n"
     ]
    }
   ],
   "source": [
    "imp.reload(classes)\n",
    "wd=classes.WinPR(3)"
   ]
  },
  {
   "cell_type": "code",
   "execution_count": 158,
   "id": "bbf478bb",
   "metadata": {
    "scrolled": true
   },
   "outputs": [
    {
     "name": "stdout",
     "output_type": "stream",
     "text": [
      "a {'tp': 1.0, 'tn': 10.0, 'fp': 0.0, 'fn': 0.0} 11.0\n",
      "b {'tp': 0.0, 'tn': 10.0, 'fp': 0.0, 'fn': 1.0} 11.0\n",
      "c {'tp': 0.75, 'tn': 9.75, 'fp': 0.25, 'fn': 0.25} 11.0\n",
      "d {'tp': 1.0, 'tn': 9.0, 'fp': 1.0, 'fn': 0.0} 11.0\n",
      "e {'tp': 1.0, 'tn': 8.0, 'fp': 2.0, 'fn': 0.0} 11.0\n"
     ]
    }
   ],
   "source": [
    "for k,v in y_pred.items():\n",
    "    res=wd.calc_errors(y_pred['a'],v)\n",
    "    print(k,res,sum([v for v in res.values()]))"
   ]
  },
  {
   "cell_type": "code",
   "execution_count": 170,
   "id": "755e4847",
   "metadata": {},
   "outputs": [],
   "source": [
    "imp.reload(classes)\n",
    "def score_func(y, y_pred, **kwargs):\n",
    "    wd=classes.WinPR(3)\n",
    "    return wd.get_score(y,y_pred)"
   ]
  },
  {
   "cell_type": "code",
   "execution_count": 171,
   "id": "fd840a64",
   "metadata": {},
   "outputs": [
    {
     "name": "stdout",
     "output_type": "stream",
     "text": [
      "WinPR init called\n",
      "a (1.0, 1.0, 1.0)\n",
      "WinPR init called\n",
      "b (0, 0, 0)\n",
      "WinPR init called\n",
      "c (0.75, 0.75, 0.75)\n",
      "WinPR init called\n",
      "d (0.5, 1.0, 0.6666666666666666)\n",
      "WinPR init called\n",
      "e (0.3333333333333333, 1.0, 0.5)\n"
     ]
    }
   ],
   "source": [
    "for k,v in y_pred.items():\n",
    "    res=score_func(y_pred['a'],v)\n",
    "    print(k,res)"
   ]
  },
  {
   "cell_type": "markdown",
   "id": "277b1719",
   "metadata": {},
   "source": [
    "### My Window Diff"
   ]
  },
  {
   "cell_type": "code",
   "execution_count": 10,
   "id": "682b3381",
   "metadata": {},
   "outputs": [],
   "source": [
    "true=[0,0,1,1,1,0]\n",
    "pred={}\n",
    "pred[0]=[0,0,0,1,1,1]"
   ]
  },
  {
   "cell_type": "code",
   "execution_count": 11,
   "id": "fb7bd706",
   "metadata": {},
   "outputs": [
    {
     "data": {
      "text/plain": [
       "array([ 0,  1,  0,  0, -1])"
      ]
     },
     "execution_count": 11,
     "metadata": {},
     "output_type": "execute_result"
    }
   ],
   "source": [
    "# np.where(true[:-1] != true[1:])[0]\n",
    "np.diff(true)"
   ]
  },
  {
   "cell_type": "code",
   "execution_count": 12,
   "id": "d6ed8988",
   "metadata": {},
   "outputs": [
    {
     "data": {
      "text/plain": [
       "2"
      ]
     },
     "execution_count": 12,
     "metadata": {},
     "output_type": "execute_result"
    }
   ],
   "source": [
    "import nltk\n",
    "nltk.edit_distance(true,pred[0])"
   ]
  },
  {
   "cell_type": "code",
   "execution_count": 14,
   "id": "9e2aadb8",
   "metadata": {},
   "outputs": [
    {
     "data": {
      "text/plain": [
       "2"
      ]
     },
     "execution_count": 14,
     "metadata": {},
     "output_type": "execute_result"
    }
   ],
   "source": [
    "cnt = np.count_nonzero(np.diff(true))\n",
    "cnt"
   ]
  },
  {
   "cell_type": "markdown",
   "id": "c85d7506",
   "metadata": {},
   "source": [
    "# SegEval"
   ]
  },
  {
   "cell_type": "code",
   "execution_count": 15,
   "id": "aa41862f",
   "metadata": {},
   "outputs": [],
   "source": [
    "import segeval"
   ]
  },
  {
   "cell_type": "code",
   "execution_count": 17,
   "id": "aaa23828",
   "metadata": {},
   "outputs": [],
   "source": [
    "dataset = segeval.HEARST_1997_STARGAZER"
   ]
  },
  {
   "cell_type": "code",
   "execution_count": 18,
   "id": "79e9ca62",
   "metadata": {},
   "outputs": [
    {
     "data": {
      "text/plain": [
       "Dataset(dict,\n",
       "        {'stargazer': {'1': (2, 3, 3, 1, 3, 6, 3),\n",
       "          '2': (2, 8, 2, 4, 2, 3),\n",
       "          '3': (2, 1, 2, 3, 1, 3, 1, 3, 2, 2, 1),\n",
       "          '4': (2, 1, 4, 1, 1, 3, 1, 4, 3, 1),\n",
       "          '5': (3, 2, 4, 3, 5, 4),\n",
       "          '6': (2, 3, 4, 2, 2, 5, 3),\n",
       "          '7': (2, 3, 2, 2, 3, 1, 3, 2, 3)}})"
      ]
     },
     "execution_count": 18,
     "metadata": {},
     "output_type": "execute_result"
    }
   ],
   "source": [
    "dataset"
   ]
  },
  {
   "cell_type": "code",
   "execution_count": 19,
   "id": "edf8a514",
   "metadata": {},
   "outputs": [],
   "source": [
    "segmentation1 = dataset['stargazer']['1']\n",
    "segmentation2 = dataset['stargazer']['2']"
   ]
  },
  {
   "cell_type": "code",
   "execution_count": 25,
   "id": "559541ae",
   "metadata": {},
   "outputs": [
    {
     "data": {
      "text/plain": [
       "tuple"
      ]
     },
     "execution_count": 25,
     "metadata": {},
     "output_type": "execute_result"
    }
   ],
   "source": [
    "type(dataset['stargazer']['2'])"
   ]
  },
  {
   "cell_type": "code",
   "execution_count": 20,
   "id": "015c2182",
   "metadata": {},
   "outputs": [
    {
     "data": {
      "text/plain": [
       "21"
      ]
     },
     "execution_count": 20,
     "metadata": {},
     "output_type": "execute_result"
    }
   ],
   "source": [
    "sum(dataset['stargazer']['1'])"
   ]
  },
  {
   "cell_type": "code",
   "execution_count": 21,
   "id": "302d9461",
   "metadata": {},
   "outputs": [
    {
     "data": {
      "text/plain": [
       "21"
      ]
     },
     "execution_count": 21,
     "metadata": {},
     "output_type": "execute_result"
    }
   ],
   "source": [
    "sum(dataset['stargazer']['2'])"
   ]
  },
  {
   "cell_type": "code",
   "execution_count": 22,
   "id": "f921293b",
   "metadata": {},
   "outputs": [
    {
     "data": {
      "text/plain": [
       "Decimal('0.5')"
      ]
     },
     "execution_count": 22,
     "metadata": {},
     "output_type": "execute_result"
    }
   ],
   "source": [
    "segeval.boundary_similarity(segmentation1, segmentation2)"
   ]
  },
  {
   "cell_type": "code",
   "execution_count": 23,
   "id": "8ad2c9b8",
   "metadata": {},
   "outputs": [
    {
     "data": {
      "text/plain": [
       "{'count_edits': Decimal('3.5'),\n",
       " 'additions': [Addition(type=1, side='a'),\n",
       "  Addition(type=1, side='a'),\n",
       "  Addition(type=1, side='b')],\n",
       " 'substitutions': [],\n",
       " 'transpositions': [Transposition(start=8, end=9, type=1)],\n",
       " 'full_misses': [1, 1, 1, 1, 1],\n",
       " 'boundaries_all': 11,\n",
       " 'matches': [1, 1, 1],\n",
       " 'pbs': 20,\n",
       " 'boundary_types': frozenset({1})}"
      ]
     },
     "execution_count": 23,
     "metadata": {},
     "output_type": "execute_result"
    }
   ],
   "source": [
    "segeval.boundary_statistics(segmentation1, segmentation2)"
   ]
  },
  {
   "cell_type": "code",
   "execution_count": null,
   "id": "4fbcf3ce",
   "metadata": {},
   "outputs": [],
   "source": []
  }
 ],
 "metadata": {
  "kernelspec": {
   "display_name": "Python 3",
   "language": "python",
   "name": "python3"
  },
  "language_info": {
   "codemirror_mode": {
    "name": "ipython",
    "version": 3
   },
   "file_extension": ".py",
   "mimetype": "text/x-python",
   "name": "python",
   "nbconvert_exporter": "python",
   "pygments_lexer": "ipython3",
   "version": "3.8.5"
  }
 },
 "nbformat": 4,
 "nbformat_minor": 5
}
