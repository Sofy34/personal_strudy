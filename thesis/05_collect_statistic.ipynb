{
 "cells": [
  {
   "cell_type": "code",
   "execution_count": 1,
   "id": "e16272d1",
   "metadata": {},
   "outputs": [],
   "source": [
    "import pandas as pd\n",
    "import os,sys, imp, glob\n",
    "sys.path.append('./src/')\n",
    "import doc_utils_clean as doc_utils\n",
    "import feature_utils, common_utils\n",
    "import defines\n",
    "import numpy as np\n",
    "import seaborn as sns\n",
    "import matplotlib.pyplot as plt\n"
   ]
  },
  {
   "cell_type": "code",
   "execution_count": 2,
   "id": "f4805234",
   "metadata": {},
   "outputs": [],
   "source": [
    "dir_name=\"recalc_tfidf\""
   ]
  },
  {
   "cell_type": "code",
   "execution_count": 3,
   "id": "173cfb00",
   "metadata": {},
   "outputs": [
    {
     "data": {
      "text/html": [
       "<div>\n",
       "<style scoped>\n",
       "    .dataframe tbody tr th:only-of-type {\n",
       "        vertical-align: middle;\n",
       "    }\n",
       "\n",
       "    .dataframe tbody tr th {\n",
       "        vertical-align: top;\n",
       "    }\n",
       "\n",
       "    .dataframe thead th {\n",
       "        text-align: right;\n",
       "    }\n",
       "</style>\n",
       "<table border=\"1\" class=\"dataframe\">\n",
       "  <thead>\n",
       "    <tr style=\"text-align: right;\">\n",
       "      <th></th>\n",
       "      <th>doc_idx</th>\n",
       "      <th>merged_idx</th>\n",
       "      <th>is_question</th>\n",
       "      <th>is_nar</th>\n",
       "      <th>par_idx_in_doc</th>\n",
       "      <th>sent_len</th>\n",
       "      <th>is_client</th>\n",
       "      <th>sent_idx_in_par</th>\n",
       "      <th>sent_pos_in_par</th>\n",
       "      <th>sent_pos_in_doc</th>\n",
       "      <th>...</th>\n",
       "      <th>f_per_3</th>\n",
       "      <th>f_per_A</th>\n",
       "      <th>f_tense_BEINONI</th>\n",
       "      <th>f_tense_FUTURE</th>\n",
       "      <th>f_tense_IMPERATIVE</th>\n",
       "      <th>f_tense_PAST</th>\n",
       "      <th>POSTAG_NEG</th>\n",
       "      <th>POSTAG_TTL</th>\n",
       "      <th>POSTAG_yyCM</th>\n",
       "      <th>POSTAG_NNPT</th>\n",
       "    </tr>\n",
       "  </thead>\n",
       "  <tbody>\n",
       "    <tr>\n",
       "      <th>0</th>\n",
       "      <td>1</td>\n",
       "      <td>0</td>\n",
       "      <td>0.000000</td>\n",
       "      <td>0.000000</td>\n",
       "      <td>0.000000</td>\n",
       "      <td>47.000000</td>\n",
       "      <td>0</td>\n",
       "      <td>0</td>\n",
       "      <td>1.000000</td>\n",
       "      <td>0.001724</td>\n",
       "      <td>...</td>\n",
       "      <td>0.000000</td>\n",
       "      <td>0.100000</td>\n",
       "      <td>0.000000</td>\n",
       "      <td>0.000000</td>\n",
       "      <td>0.000000</td>\n",
       "      <td>0.000000</td>\n",
       "      <td>NaN</td>\n",
       "      <td>NaN</td>\n",
       "      <td>NaN</td>\n",
       "      <td>NaN</td>\n",
       "    </tr>\n",
       "    <tr>\n",
       "      <th>1</th>\n",
       "      <td>1</td>\n",
       "      <td>1</td>\n",
       "      <td>0.000000</td>\n",
       "      <td>0.000000</td>\n",
       "      <td>1.000000</td>\n",
       "      <td>2.000000</td>\n",
       "      <td>1</td>\n",
       "      <td>0</td>\n",
       "      <td>1.000000</td>\n",
       "      <td>0.003448</td>\n",
       "      <td>...</td>\n",
       "      <td>0.000000</td>\n",
       "      <td>0.000000</td>\n",
       "      <td>0.000000</td>\n",
       "      <td>0.000000</td>\n",
       "      <td>0.000000</td>\n",
       "      <td>0.000000</td>\n",
       "      <td>NaN</td>\n",
       "      <td>NaN</td>\n",
       "      <td>NaN</td>\n",
       "      <td>NaN</td>\n",
       "    </tr>\n",
       "    <tr>\n",
       "      <th>2</th>\n",
       "      <td>1</td>\n",
       "      <td>2</td>\n",
       "      <td>1.000000</td>\n",
       "      <td>0.000000</td>\n",
       "      <td>2.000000</td>\n",
       "      <td>15.000000</td>\n",
       "      <td>0</td>\n",
       "      <td>0</td>\n",
       "      <td>1.000000</td>\n",
       "      <td>0.005172</td>\n",
       "      <td>...</td>\n",
       "      <td>0.000000</td>\n",
       "      <td>0.000000</td>\n",
       "      <td>0.000000</td>\n",
       "      <td>0.000000</td>\n",
       "      <td>0.000000</td>\n",
       "      <td>0.000000</td>\n",
       "      <td>NaN</td>\n",
       "      <td>NaN</td>\n",
       "      <td>NaN</td>\n",
       "      <td>NaN</td>\n",
       "    </tr>\n",
       "    <tr>\n",
       "      <th>3</th>\n",
       "      <td>1</td>\n",
       "      <td>3</td>\n",
       "      <td>0.000000</td>\n",
       "      <td>0.000000</td>\n",
       "      <td>3.000000</td>\n",
       "      <td>8.000000</td>\n",
       "      <td>1</td>\n",
       "      <td>0</td>\n",
       "      <td>1.000000</td>\n",
       "      <td>0.006897</td>\n",
       "      <td>...</td>\n",
       "      <td>0.000000</td>\n",
       "      <td>0.000000</td>\n",
       "      <td>0.000000</td>\n",
       "      <td>0.000000</td>\n",
       "      <td>0.000000</td>\n",
       "      <td>0.000000</td>\n",
       "      <td>NaN</td>\n",
       "      <td>NaN</td>\n",
       "      <td>NaN</td>\n",
       "      <td>NaN</td>\n",
       "    </tr>\n",
       "    <tr>\n",
       "      <th>4</th>\n",
       "      <td>1</td>\n",
       "      <td>4</td>\n",
       "      <td>0.000000</td>\n",
       "      <td>0.000000</td>\n",
       "      <td>4.000000</td>\n",
       "      <td>19.000000</td>\n",
       "      <td>0</td>\n",
       "      <td>0</td>\n",
       "      <td>1.000000</td>\n",
       "      <td>0.008621</td>\n",
       "      <td>...</td>\n",
       "      <td>0.000000</td>\n",
       "      <td>0.000000</td>\n",
       "      <td>0.000000</td>\n",
       "      <td>0.000000</td>\n",
       "      <td>0.000000</td>\n",
       "      <td>0.000000</td>\n",
       "      <td>NaN</td>\n",
       "      <td>NaN</td>\n",
       "      <td>NaN</td>\n",
       "      <td>NaN</td>\n",
       "    </tr>\n",
       "  </tbody>\n",
       "</table>\n",
       "<p>5 rows × 68 columns</p>\n",
       "</div>"
      ],
      "text/plain": [
       "   doc_idx  merged_idx  is_question   is_nar  par_idx_in_doc  sent_len  \\\n",
       "0        1           0     0.000000 0.000000        0.000000 47.000000   \n",
       "1        1           1     0.000000 0.000000        1.000000  2.000000   \n",
       "2        1           2     1.000000 0.000000        2.000000 15.000000   \n",
       "3        1           3     0.000000 0.000000        3.000000  8.000000   \n",
       "4        1           4     0.000000 0.000000        4.000000 19.000000   \n",
       "\n",
       "   is_client  sent_idx_in_par  sent_pos_in_par  sent_pos_in_doc  ...  f_per_3  \\\n",
       "0          0                0         1.000000         0.001724  ... 0.000000   \n",
       "1          1                0         1.000000         0.003448  ... 0.000000   \n",
       "2          0                0         1.000000         0.005172  ... 0.000000   \n",
       "3          1                0         1.000000         0.006897  ... 0.000000   \n",
       "4          0                0         1.000000         0.008621  ... 0.000000   \n",
       "\n",
       "   f_per_A  f_tense_BEINONI  f_tense_FUTURE  f_tense_IMPERATIVE  f_tense_PAST  \\\n",
       "0 0.100000         0.000000        0.000000            0.000000      0.000000   \n",
       "1 0.000000         0.000000        0.000000            0.000000      0.000000   \n",
       "2 0.000000         0.000000        0.000000            0.000000      0.000000   \n",
       "3 0.000000         0.000000        0.000000            0.000000      0.000000   \n",
       "4 0.000000         0.000000        0.000000            0.000000      0.000000   \n",
       "\n",
       "   POSTAG_NEG  POSTAG_TTL  POSTAG_yyCM  POSTAG_NNPT  \n",
       "0         NaN         NaN          NaN          NaN  \n",
       "1         NaN         NaN          NaN          NaN  \n",
       "2         NaN         NaN          NaN          NaN  \n",
       "3         NaN         NaN          NaN          NaN  \n",
       "4         NaN         NaN          NaN          NaN  \n",
       "\n",
       "[5 rows x 68 columns]"
      ]
     },
     "execution_count": 3,
     "metadata": {},
     "output_type": "execute_result"
    }
   ],
   "source": [
    "merged_db = common_utils.concat_dbs(dir_name,\"merged_db\")\n",
    "merged_db.head()"
   ]
  },
  {
   "cell_type": "code",
   "execution_count": 16,
   "id": "bfd65dd2",
   "metadata": {},
   "outputs": [
    {
     "data": {
      "text/plain": [
       "<seaborn.axisgrid.FacetGrid at 0x2aed9b4f0040>"
      ]
     },
     "execution_count": 16,
     "metadata": {},
     "output_type": "execute_result"
    },
    {
     "data": {
      "text/plain": [
       "<Figure size 1080x576 with 0 Axes>"
      ]
     },
     "metadata": {},
     "output_type": "display_data"
    },
    {
     "data": {
      "image/png": "[encoded data removed]",
      "text/plain": [
       "<Figure size 360x360 with 1 Axes>"
      ]
     },
     "metadata": {
      "needs_background": "light"
     },
     "output_type": "display_data"
    }
   ],
   "source": [
    "plt.figure(figsize = (15,8))\n",
    "par_len_words = merged_db.groupby(['doc_idx','merged_idx','par_idx_in_doc'])\n",
    "par_len_sns =  sns.displot(data=merged_db,\n",
    "                            x='TOKEN',\n",
    "                            kind='kde',\n",
    "                            common_norm=False\n",
    "                           )\n",
    "par_len_sns.set(title=\"Paragraph length in words\",xlim=((1,100)))"
   ]
  },
  {
   "cell_type": "code",
   "execution_count": 17,
   "id": "1630f163",
   "metadata": {},
   "outputs": [
    {
     "data": {
      "text/plain": [
       "<seaborn.axisgrid.FacetGrid at 0x2aee924e91f0>"
      ]
     },
     "execution_count": 17,
     "metadata": {},
     "output_type": "execute_result"
    },
    {
     "data": {
      "text/plain": [
       "<Figure size 576x1080 with 0 Axes>"
      ]
     },
     "metadata": {},
     "output_type": "display_data"
    },
    {
     "data": {
      "image/png": "[encoded data removed]",
      "text/plain": [
       "<Figure size 411.875x360 with 1 Axes>"
      ]
     },
     "metadata": {
      "needs_background": "light"
     },
     "output_type": "display_data"
    }
   ],
   "source": [
    "plt.figure(figsize = (8,15))\n",
    "sent_len_words = merged_db.groupby(['doc_idx','merged_idx'])\n",
    "sent_len_sns =  sns.displot(data=merged_db,\n",
    "                            x='TOKEN',\n",
    "                            kind='kde',\n",
    "                            hue='is_nar',\n",
    "                            common_norm=False\n",
    "                           )\n",
    "sent_len_sns.set(title=\"Sentence length in words\",xlim=((1,30)))"
   ]
  },
  {
   "cell_type": "code",
   "execution_count": null,
   "id": "0d7c57f2",
   "metadata": {},
   "outputs": [],
   "source": []
  },
  {
   "cell_type": "code",
   "execution_count": 18,
   "id": "bea0a4c1",
   "metadata": {},
   "outputs": [
    {
     "data": {
      "text/html": [
       "<div>\n",
       "<style scoped>\n",
       "    .dataframe tbody tr th:only-of-type {\n",
       "        vertical-align: middle;\n",
       "    }\n",
       "\n",
       "    .dataframe tbody tr th {\n",
       "        vertical-align: top;\n",
       "    }\n",
       "\n",
       "    .dataframe thead th {\n",
       "        text-align: right;\n",
       "    }\n",
       "</style>\n",
       "<table border=\"1\" class=\"dataframe\">\n",
       "  <thead>\n",
       "    <tr style=\"text-align: right;\">\n",
       "      <th></th>\n",
       "      <th>doc_idx</th>\n",
       "      <th>sent_idx</th>\n",
       "      <th>is_question</th>\n",
       "      <th>is_nar</th>\n",
       "      <th>par_idx_in_doc</th>\n",
       "      <th>sent_len</th>\n",
       "      <th>is_client</th>\n",
       "      <th>sent_idx_in_par</th>\n",
       "      <th>sent_pos_in_par</th>\n",
       "      <th>sent_pos_in_doc</th>\n",
       "    </tr>\n",
       "  </thead>\n",
       "  <tbody>\n",
       "    <tr>\n",
       "      <th>0</th>\n",
       "      <td>1</td>\n",
       "      <td>0</td>\n",
       "      <td>0.000000</td>\n",
       "      <td>0.000000</td>\n",
       "      <td>0.000000</td>\n",
       "      <td>47.000000</td>\n",
       "      <td>0</td>\n",
       "      <td>0</td>\n",
       "      <td>1.000000</td>\n",
       "      <td>0.001724</td>\n",
       "    </tr>\n",
       "    <tr>\n",
       "      <th>1</th>\n",
       "      <td>1</td>\n",
       "      <td>1</td>\n",
       "      <td>0.000000</td>\n",
       "      <td>0.000000</td>\n",
       "      <td>1.000000</td>\n",
       "      <td>2.000000</td>\n",
       "      <td>1</td>\n",
       "      <td>0</td>\n",
       "      <td>1.000000</td>\n",
       "      <td>0.003448</td>\n",
       "    </tr>\n",
       "    <tr>\n",
       "      <th>2</th>\n",
       "      <td>1</td>\n",
       "      <td>2</td>\n",
       "      <td>1.000000</td>\n",
       "      <td>0.000000</td>\n",
       "      <td>2.000000</td>\n",
       "      <td>15.000000</td>\n",
       "      <td>0</td>\n",
       "      <td>0</td>\n",
       "      <td>1.000000</td>\n",
       "      <td>0.005172</td>\n",
       "    </tr>\n",
       "    <tr>\n",
       "      <th>3</th>\n",
       "      <td>1</td>\n",
       "      <td>3</td>\n",
       "      <td>0.000000</td>\n",
       "      <td>0.000000</td>\n",
       "      <td>3.000000</td>\n",
       "      <td>8.000000</td>\n",
       "      <td>1</td>\n",
       "      <td>0</td>\n",
       "      <td>1.000000</td>\n",
       "      <td>0.006897</td>\n",
       "    </tr>\n",
       "    <tr>\n",
       "      <th>4</th>\n",
       "      <td>1</td>\n",
       "      <td>4</td>\n",
       "      <td>0.000000</td>\n",
       "      <td>0.000000</td>\n",
       "      <td>4.000000</td>\n",
       "      <td>19.000000</td>\n",
       "      <td>0</td>\n",
       "      <td>0</td>\n",
       "      <td>1.000000</td>\n",
       "      <td>0.008621</td>\n",
       "    </tr>\n",
       "    <tr>\n",
       "      <th>...</th>\n",
       "      <td>...</td>\n",
       "      <td>...</td>\n",
       "      <td>...</td>\n",
       "      <td>...</td>\n",
       "      <td>...</td>\n",
       "      <td>...</td>\n",
       "      <td>...</td>\n",
       "      <td>...</td>\n",
       "      <td>...</td>\n",
       "      <td>...</td>\n",
       "    </tr>\n",
       "    <tr>\n",
       "      <th>36319</th>\n",
       "      <td>80</td>\n",
       "      <td>486</td>\n",
       "      <td>0.000000</td>\n",
       "      <td>0.000000</td>\n",
       "      <td>222.000000</td>\n",
       "      <td>21.000000</td>\n",
       "      <td>1</td>\n",
       "      <td>3</td>\n",
       "      <td>0.666667</td>\n",
       "      <td>0.991853</td>\n",
       "    </tr>\n",
       "    <tr>\n",
       "      <th>36320</th>\n",
       "      <td>80</td>\n",
       "      <td>487</td>\n",
       "      <td>0.000000</td>\n",
       "      <td>0.000000</td>\n",
       "      <td>222.000000</td>\n",
       "      <td>27.000000</td>\n",
       "      <td>1</td>\n",
       "      <td>4</td>\n",
       "      <td>0.833333</td>\n",
       "      <td>0.993890</td>\n",
       "    </tr>\n",
       "    <tr>\n",
       "      <th>36321</th>\n",
       "      <td>80</td>\n",
       "      <td>488</td>\n",
       "      <td>0.000000</td>\n",
       "      <td>0.000000</td>\n",
       "      <td>222.000000</td>\n",
       "      <td>23.000000</td>\n",
       "      <td>1</td>\n",
       "      <td>5</td>\n",
       "      <td>1.000000</td>\n",
       "      <td>0.995927</td>\n",
       "    </tr>\n",
       "    <tr>\n",
       "      <th>36322</th>\n",
       "      <td>80</td>\n",
       "      <td>489</td>\n",
       "      <td>1.000000</td>\n",
       "      <td>0.000000</td>\n",
       "      <td>223.000000</td>\n",
       "      <td>19.000000</td>\n",
       "      <td>0</td>\n",
       "      <td>0</td>\n",
       "      <td>1.000000</td>\n",
       "      <td>0.997963</td>\n",
       "    </tr>\n",
       "    <tr>\n",
       "      <th>36323</th>\n",
       "      <td>80</td>\n",
       "      <td>490</td>\n",
       "      <td>0.000000</td>\n",
       "      <td>0.000000</td>\n",
       "      <td>224.000000</td>\n",
       "      <td>15.000000</td>\n",
       "      <td>1</td>\n",
       "      <td>0</td>\n",
       "      <td>1.000000</td>\n",
       "      <td>1.000000</td>\n",
       "    </tr>\n",
       "  </tbody>\n",
       "</table>\n",
       "<p>36324 rows × 10 columns</p>\n",
       "</div>"
      ],
      "text/plain": [
       "       doc_idx  sent_idx  is_question   is_nar  par_idx_in_doc  sent_len  \\\n",
       "0            1         0     0.000000 0.000000        0.000000 47.000000   \n",
       "1            1         1     0.000000 0.000000        1.000000  2.000000   \n",
       "2            1         2     1.000000 0.000000        2.000000 15.000000   \n",
       "3            1         3     0.000000 0.000000        3.000000  8.000000   \n",
       "4            1         4     0.000000 0.000000        4.000000 19.000000   \n",
       "...        ...       ...          ...      ...             ...       ...   \n",
       "36319       80       486     0.000000 0.000000      222.000000 21.000000   \n",
       "36320       80       487     0.000000 0.000000      222.000000 27.000000   \n",
       "36321       80       488     0.000000 0.000000      222.000000 23.000000   \n",
       "36322       80       489     1.000000 0.000000      223.000000 19.000000   \n",
       "36323       80       490     0.000000 0.000000      224.000000 15.000000   \n",
       "\n",
       "       is_client  sent_idx_in_par  sent_pos_in_par  sent_pos_in_doc  \n",
       "0              0                0         1.000000         0.001724  \n",
       "1              1                0         1.000000         0.003448  \n",
       "2              0                0         1.000000         0.005172  \n",
       "3              1                0         1.000000         0.006897  \n",
       "4              0                0         1.000000         0.008621  \n",
       "...          ...              ...              ...              ...  \n",
       "36319          1                3         0.666667         0.991853  \n",
       "36320          1                4         0.833333         0.993890  \n",
       "36321          1                5         1.000000         0.995927  \n",
       "36322          0                0         1.000000         0.997963  \n",
       "36323          1                0         1.000000         1.000000  \n",
       "\n",
       "[36324 rows x 10 columns]"
      ]
     },
     "execution_count": 18,
     "metadata": {},
     "output_type": "execute_result"
    }
   ],
   "source": [
    "imp.reload(feature_utils)\n",
    "sent_db = common_utils.concat_dbs(dir_name,\"sent_db\",defines.SENT_FEATURES)\n",
    "sent_db"
   ]
  },
  {
   "cell_type": "code",
   "execution_count": 19,
   "id": "d30a47b8",
   "metadata": {},
   "outputs": [],
   "source": [
    "doc_stat_db = pd.DataFrame()\n",
    "\n",
    "def get_doc_statistic(doc_idx):\n",
    "    sent_db = pd.read_csv(os.path.join(os.getcwd(),defines.PATH_TO_DFS,\"{:02d}_sent_db.csv\".format(i)),usecols=['is_nar','nar_idx','sent_len','is_client'])\n",
    "    nar_num = sent_db['nar_idx'].nunique()\n",
    "    avrg_sent_len_nar = sent_db.query('is_nar == 1')['sent_len'].mean()\n",
    "    groupby(['doc_idx'])['nar_idx'].nunique()\n",
    "    del sent_db"
   ]
  },
  {
   "cell_type": "code",
   "execution_count": 20,
   "id": "41848e0b",
   "metadata": {},
   "outputs": [
    {
     "name": "stdout",
     "output_type": "stream",
     "text": [
      "<class 'pandas.core.frame.DataFrame'>\n",
      "RangeIndex: 36324 entries, 0 to 36323\n",
      "Data columns (total 10 columns):\n",
      " #   Column           Non-Null Count  Dtype  \n",
      "---  ------           --------------  -----  \n",
      " 0   doc_idx          36324 non-null  int64  \n",
      " 1   sent_idx         36324 non-null  int64  \n",
      " 2   is_question      36324 non-null  float64\n",
      " 3   is_nar           36324 non-null  float64\n",
      " 4   par_idx_in_doc   36324 non-null  float64\n",
      " 5   sent_len         36324 non-null  float64\n",
      " 6   is_client        36324 non-null  int64  \n",
      " 7   sent_idx_in_par  36324 non-null  int64  \n",
      " 8   sent_pos_in_par  36324 non-null  float64\n",
      " 9   sent_pos_in_doc  36324 non-null  float64\n",
      "dtypes: float64(6), int64(4)\n",
      "memory usage: 2.8 MB\n"
     ]
    }
   ],
   "source": [
    "sent_db.info()"
   ]
  },
  {
   "cell_type": "code",
   "execution_count": 21,
   "id": "c35ac8d3",
   "metadata": {},
   "outputs": [
    {
     "data": {
      "text/plain": [
       "<seaborn.axisgrid.FacetGrid at 0x2aee96588cd0>"
      ]
     },
     "execution_count": 21,
     "metadata": {},
     "output_type": "execute_result"
    },
    {
     "data": {
      "image/png": "[encoded data removed]",
      "text/plain": [
       "<Figure size 411.875x360 with 1 Axes>"
      ]
     },
     "metadata": {
      "needs_background": "light"
     },
     "output_type": "display_data"
    }
   ],
   "source": [
    "sent_len = sns.displot(data=sent_db,\n",
    "                       x='sent_len',\n",
    "                       hue='is_nar',\n",
    "                       kind='kde',\n",
    "                       common_norm=False,  # Normalize each distribution independently\n",
    "                      )\n",
    "sent_len.set(xlim=(0, 500))"
   ]
  },
  {
   "cell_type": "code",
   "execution_count": 22,
   "id": "ad6d2b7c",
   "metadata": {},
   "outputs": [
    {
     "data": {
      "text/plain": [
       "<seaborn.axisgrid.FacetGrid at 0x2aee23144250>"
      ]
     },
     "execution_count": 22,
     "metadata": {},
     "output_type": "execute_result"
    },
    {
     "data": {
      "image/png": "[encoded data removed]",
      "text/plain": [
       "<Figure size 408.75x360 with 1 Axes>"
      ]
     },
     "metadata": {
      "needs_background": "light"
     },
     "output_type": "display_data"
    }
   ],
   "source": [
    "x,y = 'is_nar', 'is_client'\n",
    "\n",
    "(sent_db\n",
    ".groupby(x)[y]\n",
    ".value_counts(normalize=True)\n",
    ".mul(100)\n",
    ".rename('percent')\n",
    ".reset_index()\n",
    ".pipe((sns.catplot,'data'), x=x,y='percent',hue=y,kind='bar'))"
   ]
  },
  {
   "cell_type": "code",
   "execution_count": 24,
   "id": "33d738d5",
   "metadata": {},
   "outputs": [
    {
     "data": {
      "text/html": [
       "<div>\n",
       "<style scoped>\n",
       "    .dataframe tbody tr th:only-of-type {\n",
       "        vertical-align: middle;\n",
       "    }\n",
       "\n",
       "    .dataframe tbody tr th {\n",
       "        vertical-align: top;\n",
       "    }\n",
       "\n",
       "    .dataframe thead th {\n",
       "        text-align: right;\n",
       "    }\n",
       "</style>\n",
       "<table border=\"1\" class=\"dataframe\">\n",
       "  <thead>\n",
       "    <tr style=\"text-align: right;\">\n",
       "      <th></th>\n",
       "      <th>doc_idx</th>\n",
       "      <th>par_idx</th>\n",
       "      <th>par_len</th>\n",
       "      <th>par_type</th>\n",
       "      <th>is_nar</th>\n",
       "    </tr>\n",
       "  </thead>\n",
       "  <tbody>\n",
       "    <tr>\n",
       "      <th>0</th>\n",
       "      <td>1</td>\n",
       "      <td>0</td>\n",
       "      <td>49.000000</td>\n",
       "      <td>therapist</td>\n",
       "      <td>0.000000</td>\n",
       "    </tr>\n",
       "    <tr>\n",
       "      <th>1</th>\n",
       "      <td>1</td>\n",
       "      <td>1</td>\n",
       "      <td>3.000000</td>\n",
       "      <td>client</td>\n",
       "      <td>0.000000</td>\n",
       "    </tr>\n",
       "    <tr>\n",
       "      <th>2</th>\n",
       "      <td>1</td>\n",
       "      <td>2</td>\n",
       "      <td>17.000000</td>\n",
       "      <td>therapist</td>\n",
       "      <td>0.000000</td>\n",
       "    </tr>\n",
       "    <tr>\n",
       "      <th>3</th>\n",
       "      <td>1</td>\n",
       "      <td>3</td>\n",
       "      <td>14.000000</td>\n",
       "      <td>client</td>\n",
       "      <td>0.000000</td>\n",
       "    </tr>\n",
       "    <tr>\n",
       "      <th>4</th>\n",
       "      <td>1</td>\n",
       "      <td>4</td>\n",
       "      <td>22.000000</td>\n",
       "      <td>therapist</td>\n",
       "      <td>0.000000</td>\n",
       "    </tr>\n",
       "    <tr>\n",
       "      <th>...</th>\n",
       "      <td>...</td>\n",
       "      <td>...</td>\n",
       "      <td>...</td>\n",
       "      <td>...</td>\n",
       "      <td>...</td>\n",
       "    </tr>\n",
       "    <tr>\n",
       "      <th>15063</th>\n",
       "      <td>80</td>\n",
       "      <td>220</td>\n",
       "      <td>132.000000</td>\n",
       "      <td>client</td>\n",
       "      <td>0.000000</td>\n",
       "    </tr>\n",
       "    <tr>\n",
       "      <th>15064</th>\n",
       "      <td>80</td>\n",
       "      <td>221</td>\n",
       "      <td>97.000000</td>\n",
       "      <td>therapist</td>\n",
       "      <td>0.000000</td>\n",
       "    </tr>\n",
       "    <tr>\n",
       "      <th>15065</th>\n",
       "      <td>80</td>\n",
       "      <td>222</td>\n",
       "      <td>371.000000</td>\n",
       "      <td>client</td>\n",
       "      <td>0.000000</td>\n",
       "    </tr>\n",
       "    <tr>\n",
       "      <th>15066</th>\n",
       "      <td>80</td>\n",
       "      <td>223</td>\n",
       "      <td>20.000000</td>\n",
       "      <td>therapist</td>\n",
       "      <td>0.000000</td>\n",
       "    </tr>\n",
       "    <tr>\n",
       "      <th>15067</th>\n",
       "      <td>80</td>\n",
       "      <td>224</td>\n",
       "      <td>17.000000</td>\n",
       "      <td>client</td>\n",
       "      <td>0.000000</td>\n",
       "    </tr>\n",
       "  </tbody>\n",
       "</table>\n",
       "<p>15068 rows × 5 columns</p>\n",
       "</div>"
      ],
      "text/plain": [
       "       doc_idx  par_idx    par_len   par_type   is_nar\n",
       "0            1        0  49.000000  therapist 0.000000\n",
       "1            1        1   3.000000     client 0.000000\n",
       "2            1        2  17.000000  therapist 0.000000\n",
       "3            1        3  14.000000     client 0.000000\n",
       "4            1        4  22.000000  therapist 0.000000\n",
       "...        ...      ...        ...        ...      ...\n",
       "15063       80      220 132.000000     client 0.000000\n",
       "15064       80      221  97.000000  therapist 0.000000\n",
       "15065       80      222 371.000000     client 0.000000\n",
       "15066       80      223  20.000000  therapist 0.000000\n",
       "15067       80      224  17.000000     client 0.000000\n",
       "\n",
       "[15068 rows x 5 columns]"
      ]
     },
     "execution_count": 24,
     "metadata": {},
     "output_type": "execute_result"
    }
   ],
   "source": [
    "par_db = common_utils.concat_dbs(dir_name,\"par_db\",['par_len','par_type','is_nar'])\n",
    "par_db"
   ]
  },
  {
   "cell_type": "code",
   "execution_count": 25,
   "id": "105e2f30",
   "metadata": {},
   "outputs": [
    {
     "data": {
      "text/plain": [
       "<seaborn.axisgrid.FacetGrid at 0x2aee9246e3a0>"
      ]
     },
     "execution_count": 25,
     "metadata": {},
     "output_type": "execute_result"
    },
    {
     "data": {
      "image/png": "[encoded data removed]",
      "text/plain": [
       "<Figure size 411.875x360 with 1 Axes>"
      ]
     },
     "metadata": {
      "needs_background": "light"
     },
     "output_type": "display_data"
    }
   ],
   "source": [
    "par_len_char = sns.displot(data=par_db,\n",
    "                       x='par_len',\n",
    "                       hue='is_nar',\n",
    "                       kind='kde',\n",
    "                       common_norm=False,  # Normalize each distribution independently\n",
    "                      )\n",
    "par_len_char.set(title='Paragraph length in characters')"
   ]
  },
  {
   "cell_type": "markdown",
   "id": "2970abc5",
   "metadata": {},
   "source": [
    "### Chek distrib of par len in sentences"
   ]
  },
  {
   "cell_type": "code",
   "execution_count": 26,
   "id": "ddc44f8e",
   "metadata": {},
   "outputs": [
    {
     "data": {
      "text/html": [
       "<div>\n",
       "<style scoped>\n",
       "    .dataframe tbody tr th:only-of-type {\n",
       "        vertical-align: middle;\n",
       "    }\n",
       "\n",
       "    .dataframe tbody tr th {\n",
       "        vertical-align: top;\n",
       "    }\n",
       "\n",
       "    .dataframe thead th {\n",
       "        text-align: right;\n",
       "    }\n",
       "</style>\n",
       "<table border=\"1\" class=\"dataframe\">\n",
       "  <thead>\n",
       "    <tr style=\"text-align: right;\">\n",
       "      <th></th>\n",
       "      <th>doc_idx</th>\n",
       "      <th>sent_idx</th>\n",
       "      <th>is_question</th>\n",
       "      <th>is_nar</th>\n",
       "      <th>par_idx_in_doc</th>\n",
       "      <th>sent_len</th>\n",
       "      <th>is_client</th>\n",
       "      <th>sent_idx_in_par</th>\n",
       "      <th>sent_pos_in_par</th>\n",
       "      <th>sent_pos_in_doc</th>\n",
       "    </tr>\n",
       "  </thead>\n",
       "  <tbody>\n",
       "    <tr>\n",
       "      <th>0</th>\n",
       "      <td>1</td>\n",
       "      <td>0</td>\n",
       "      <td>0.000000</td>\n",
       "      <td>0.000000</td>\n",
       "      <td>0.000000</td>\n",
       "      <td>47.000000</td>\n",
       "      <td>0</td>\n",
       "      <td>0</td>\n",
       "      <td>1.000000</td>\n",
       "      <td>0.001724</td>\n",
       "    </tr>\n",
       "    <tr>\n",
       "      <th>1</th>\n",
       "      <td>1</td>\n",
       "      <td>1</td>\n",
       "      <td>0.000000</td>\n",
       "      <td>0.000000</td>\n",
       "      <td>1.000000</td>\n",
       "      <td>2.000000</td>\n",
       "      <td>1</td>\n",
       "      <td>0</td>\n",
       "      <td>1.000000</td>\n",
       "      <td>0.003448</td>\n",
       "    </tr>\n",
       "    <tr>\n",
       "      <th>2</th>\n",
       "      <td>1</td>\n",
       "      <td>2</td>\n",
       "      <td>1.000000</td>\n",
       "      <td>0.000000</td>\n",
       "      <td>2.000000</td>\n",
       "      <td>15.000000</td>\n",
       "      <td>0</td>\n",
       "      <td>0</td>\n",
       "      <td>1.000000</td>\n",
       "      <td>0.005172</td>\n",
       "    </tr>\n",
       "    <tr>\n",
       "      <th>3</th>\n",
       "      <td>1</td>\n",
       "      <td>3</td>\n",
       "      <td>0.000000</td>\n",
       "      <td>0.000000</td>\n",
       "      <td>3.000000</td>\n",
       "      <td>8.000000</td>\n",
       "      <td>1</td>\n",
       "      <td>0</td>\n",
       "      <td>1.000000</td>\n",
       "      <td>0.006897</td>\n",
       "    </tr>\n",
       "    <tr>\n",
       "      <th>4</th>\n",
       "      <td>1</td>\n",
       "      <td>4</td>\n",
       "      <td>0.000000</td>\n",
       "      <td>0.000000</td>\n",
       "      <td>4.000000</td>\n",
       "      <td>19.000000</td>\n",
       "      <td>0</td>\n",
       "      <td>0</td>\n",
       "      <td>1.000000</td>\n",
       "      <td>0.008621</td>\n",
       "    </tr>\n",
       "    <tr>\n",
       "      <th>...</th>\n",
       "      <td>...</td>\n",
       "      <td>...</td>\n",
       "      <td>...</td>\n",
       "      <td>...</td>\n",
       "      <td>...</td>\n",
       "      <td>...</td>\n",
       "      <td>...</td>\n",
       "      <td>...</td>\n",
       "      <td>...</td>\n",
       "      <td>...</td>\n",
       "    </tr>\n",
       "    <tr>\n",
       "      <th>36319</th>\n",
       "      <td>80</td>\n",
       "      <td>486</td>\n",
       "      <td>0.000000</td>\n",
       "      <td>0.000000</td>\n",
       "      <td>222.000000</td>\n",
       "      <td>21.000000</td>\n",
       "      <td>1</td>\n",
       "      <td>3</td>\n",
       "      <td>0.666667</td>\n",
       "      <td>0.991853</td>\n",
       "    </tr>\n",
       "    <tr>\n",
       "      <th>36320</th>\n",
       "      <td>80</td>\n",
       "      <td>487</td>\n",
       "      <td>0.000000</td>\n",
       "      <td>0.000000</td>\n",
       "      <td>222.000000</td>\n",
       "      <td>27.000000</td>\n",
       "      <td>1</td>\n",
       "      <td>4</td>\n",
       "      <td>0.833333</td>\n",
       "      <td>0.993890</td>\n",
       "    </tr>\n",
       "    <tr>\n",
       "      <th>36321</th>\n",
       "      <td>80</td>\n",
       "      <td>488</td>\n",
       "      <td>0.000000</td>\n",
       "      <td>0.000000</td>\n",
       "      <td>222.000000</td>\n",
       "      <td>23.000000</td>\n",
       "      <td>1</td>\n",
       "      <td>5</td>\n",
       "      <td>1.000000</td>\n",
       "      <td>0.995927</td>\n",
       "    </tr>\n",
       "    <tr>\n",
       "      <th>36322</th>\n",
       "      <td>80</td>\n",
       "      <td>489</td>\n",
       "      <td>1.000000</td>\n",
       "      <td>0.000000</td>\n",
       "      <td>223.000000</td>\n",
       "      <td>19.000000</td>\n",
       "      <td>0</td>\n",
       "      <td>0</td>\n",
       "      <td>1.000000</td>\n",
       "      <td>0.997963</td>\n",
       "    </tr>\n",
       "    <tr>\n",
       "      <th>36323</th>\n",
       "      <td>80</td>\n",
       "      <td>490</td>\n",
       "      <td>0.000000</td>\n",
       "      <td>0.000000</td>\n",
       "      <td>224.000000</td>\n",
       "      <td>15.000000</td>\n",
       "      <td>1</td>\n",
       "      <td>0</td>\n",
       "      <td>1.000000</td>\n",
       "      <td>1.000000</td>\n",
       "    </tr>\n",
       "  </tbody>\n",
       "</table>\n",
       "<p>36324 rows × 10 columns</p>\n",
       "</div>"
      ],
      "text/plain": [
       "       doc_idx  sent_idx  is_question   is_nar  par_idx_in_doc  sent_len  \\\n",
       "0            1         0     0.000000 0.000000        0.000000 47.000000   \n",
       "1            1         1     0.000000 0.000000        1.000000  2.000000   \n",
       "2            1         2     1.000000 0.000000        2.000000 15.000000   \n",
       "3            1         3     0.000000 0.000000        3.000000  8.000000   \n",
       "4            1         4     0.000000 0.000000        4.000000 19.000000   \n",
       "...        ...       ...          ...      ...             ...       ...   \n",
       "36319       80       486     0.000000 0.000000      222.000000 21.000000   \n",
       "36320       80       487     0.000000 0.000000      222.000000 27.000000   \n",
       "36321       80       488     0.000000 0.000000      222.000000 23.000000   \n",
       "36322       80       489     1.000000 0.000000      223.000000 19.000000   \n",
       "36323       80       490     0.000000 0.000000      224.000000 15.000000   \n",
       "\n",
       "       is_client  sent_idx_in_par  sent_pos_in_par  sent_pos_in_doc  \n",
       "0              0                0         1.000000         0.001724  \n",
       "1              1                0         1.000000         0.003448  \n",
       "2              0                0         1.000000         0.005172  \n",
       "3              1                0         1.000000         0.006897  \n",
       "4              0                0         1.000000         0.008621  \n",
       "...          ...              ...              ...              ...  \n",
       "36319          1                3         0.666667         0.991853  \n",
       "36320          1                4         0.833333         0.993890  \n",
       "36321          1                5         1.000000         0.995927  \n",
       "36322          0                0         1.000000         0.997963  \n",
       "36323          1                0         1.000000         1.000000  \n",
       "\n",
       "[36324 rows x 10 columns]"
      ]
     },
     "execution_count": 26,
     "metadata": {},
     "output_type": "execute_result"
    }
   ],
   "source": [
    "sent_db"
   ]
  },
  {
   "cell_type": "code",
   "execution_count": 28,
   "id": "d88455c7",
   "metadata": {},
   "outputs": [
    {
     "data": {
      "text/plain": [
       "doc_idx  par_idx_in_doc\n",
       "1        0.000000          1\n",
       "         1.000000          1\n",
       "         2.000000          1\n",
       "         3.000000          1\n",
       "         4.000000          1\n",
       "                          ..\n",
       "80       220.000000        3\n",
       "         221.000000        2\n",
       "         222.000000        6\n",
       "         223.000000        1\n",
       "         224.000000        1\n",
       "Name: sent_idx, Length: 14918, dtype: int64"
      ]
     },
     "execution_count": 28,
     "metadata": {},
     "output_type": "execute_result"
    }
   ],
   "source": [
    "par_len_count = sent_db.groupby(['doc_idx','par_idx_in_doc'])['sent_idx'].count()\n",
    "par_len_count"
   ]
  },
  {
   "cell_type": "code",
   "execution_count": 29,
   "id": "52068361",
   "metadata": {},
   "outputs": [
    {
     "data": {
      "text/plain": [
       "count   14918.000000\n",
       "mean        2.434911\n",
       "std         3.717304\n",
       "min         1.000000\n",
       "25%         1.000000\n",
       "50%         1.000000\n",
       "75%         2.000000\n",
       "max       111.000000\n",
       "Name: sent_idx, dtype: float64"
      ]
     },
     "execution_count": 29,
     "metadata": {},
     "output_type": "execute_result"
    }
   ],
   "source": [
    "par_len_count.describe()"
   ]
  },
  {
   "cell_type": "code",
   "execution_count": 30,
   "id": "9a7b4303",
   "metadata": {},
   "outputs": [
    {
     "data": {
      "text/plain": [
       "((5, 19.0), 111)"
      ]
     },
     "execution_count": 30,
     "metadata": {},
     "output_type": "execute_result"
    }
   ],
   "source": [
    "# find par with max length\n",
    "par_len_count.idxmax(),par_len_count.max()"
   ]
  },
  {
   "cell_type": "code",
   "execution_count": 31,
   "id": "884d2128",
   "metadata": {},
   "outputs": [
    {
     "data": {
      "text/plain": [
       "1.0"
      ]
     },
     "execution_count": 31,
     "metadata": {},
     "output_type": "execute_result"
    }
   ],
   "source": [
    "par_len_count.reset_index(drop=True).median()"
   ]
  },
  {
   "cell_type": "code",
   "execution_count": 32,
   "id": "b3da94af",
   "metadata": {},
   "outputs": [
    {
     "data": {
      "text/plain": [
       "8.0"
      ]
     },
     "execution_count": 32,
     "metadata": {},
     "output_type": "execute_result"
    }
   ],
   "source": [
    "par_len_count.quantile(q=0.95)"
   ]
  },
  {
   "cell_type": "code",
   "execution_count": 33,
   "id": "9b925c47",
   "metadata": {},
   "outputs": [
    {
     "data": {
      "text/plain": [
       "1.0"
      ]
     },
     "execution_count": 33,
     "metadata": {},
     "output_type": "execute_result"
    }
   ],
   "source": [
    "par_len_count.quantile(q=0.5)"
   ]
  },
  {
   "cell_type": "code",
   "execution_count": 34,
   "id": "7fc2c91e",
   "metadata": {},
   "outputs": [
    {
     "data": {
      "text/plain": [
       "2.0"
      ]
     },
     "execution_count": 34,
     "metadata": {},
     "output_type": "execute_result"
    }
   ],
   "source": [
    "par_len_count.quantile(q=0.75)"
   ]
  },
  {
   "cell_type": "code",
   "execution_count": 35,
   "id": "0b50f5dc",
   "metadata": {},
   "outputs": [
    {
     "data": {
      "text/plain": [
       "<seaborn.axisgrid.FacetGrid at 0x2aee96516430>"
      ]
     },
     "execution_count": 35,
     "metadata": {},
     "output_type": "execute_result"
    },
    {
     "data": {
      "text/plain": [
       "<Figure size 1080x576 with 0 Axes>"
      ]
     },
     "metadata": {},
     "output_type": "display_data"
    },
    {
     "data": {
      "image/png": "[encoded data removed]",
      "text/plain": [
       "<Figure size 411.875x360 with 1 Axes>"
      ]
     },
     "metadata": {
      "needs_background": "light"
     },
     "output_type": "display_data"
    }
   ],
   "source": [
    "plt.figure(figsize = (15,8))\n",
    "par_len_sent =  sns.displot(data=sent_db,x=par_len_count.reset_index(drop=True),\n",
    "                            kind='kde',\n",
    "                            hue='is_nar',\n",
    "                            common_norm=False\n",
    "                           )\n",
    "par_len_sent.set(title=\"Paragraph length in sentences\",xlim=((1,8)))"
   ]
  },
  {
   "cell_type": "code",
   "execution_count": 36,
   "id": "a137d380",
   "metadata": {},
   "outputs": [
    {
     "data": {
      "text/plain": [
       "[Text(0.5, 1.0, 'Paragraph length in sentences')]"
      ]
     },
     "execution_count": 36,
     "metadata": {},
     "output_type": "execute_result"
    },
    {
     "data": {
      "image/png": "[encoded data removed]",
      "text/plain": [
       "<Figure size 1080x576 with 1 Axes>"
      ]
     },
     "metadata": {
      "needs_background": "light"
     },
     "output_type": "display_data"
    }
   ],
   "source": [
    "plt.figure(figsize = (15,8))\n",
    "par_len_sent_b = sns.boxenplot(data=sent_db,\n",
    "                               x=par_len_count.reset_index(drop=True),\n",
    "                               hue='is_nar')\n",
    "par_len_sent_b.grid()\n",
    "par_len_sent_b.set(title=\"Paragraph length in sentences\")"
   ]
  },
  {
   "cell_type": "markdown",
   "id": "f6f925f6",
   "metadata": {},
   "source": [
    "## Build word cloud"
   ]
  },
  {
   "cell_type": "code",
   "execution_count": null,
   "id": "38b2858a",
   "metadata": {},
   "outputs": [],
   "source": []
  },
  {
   "cell_type": "code",
   "execution_count": null,
   "id": "17c6fce8",
   "metadata": {},
   "outputs": [],
   "source": []
  }
 ],
 "metadata": {
  "kernelspec": {
   "display_name": "Python 3",
   "language": "python",
   "name": "python3"
  },
  "language_info": {
   "codemirror_mode": {
    "name": "ipython",
    "version": 3
   },
   "file_extension": ".py",
   "mimetype": "text/x-python",
   "name": "python",
   "nbconvert_exporter": "python",
   "pygments_lexer": "ipython3",
   "version": "3.8.5"
  }
 },
 "nbformat": 4,
 "nbformat_minor": 5
}
