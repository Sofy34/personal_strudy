{
 "cells": [
  {
   "cell_type": "code",
   "execution_count": 154,
   "id": "18ebb39f",
   "metadata": {},
   "outputs": [],
   "source": [
    "import pandas as pd\n",
    "import os,sys, imp\n",
    "sys.path.append('./src/')\n",
    "import doc_utils_clean as doc_utils\n",
    "import defines\n",
    "import numpy as np"
   ]
  },
  {
   "cell_type": "code",
   "execution_count": 188,
   "id": "eacfcd9c",
   "metadata": {},
   "outputs": [],
   "source": [
    "doc_utils.doc_db = pd.DataFrame()\n",
    "doc_utils.add_doc_to_db(r\"./tmp/30_kafDalet15_Dana.docx\")\n",
    "doc_utils.add_doc_to_db(r\"./tmp/38_kafTet5_Dana.docx\")"
   ]
  },
  {
   "cell_type": "code",
   "execution_count": 193,
   "id": "56510bf6",
   "metadata": {},
   "outputs": [],
   "source": [
    "# doc_utils.doc_db['doc_idx_from_name']=doc_utils.doc_db['doc_idx_from_name'].astype(int)\n",
    "doc_utils.doc_db_update_stat(1,'val',4)\n",
    "doc_utils.doc_db.to_csv(os.path.join(os.getcwd(),defines.PATH_TO_DFS,\"doc_db.csv\"),index=False)\n",
    "# doc_db =  pd.read_csv(\"./dataframes/doc_db.csv\")\n",
    "# doc_db.sort_values(by='doc_idx_from_name',inplace=True)\n",
    "# doc_db.describe()\n",
    "# doc_db.reset_index(inplace=True,drop=True)"
   ]
  },
  {
   "cell_type": "code",
   "execution_count": 194,
   "id": "0f8bda5c",
   "metadata": {},
   "outputs": [
    {
     "data": {
      "text/html": [
       "<div>\n",
       "<style scoped>\n",
       "    .dataframe tbody tr th:only-of-type {\n",
       "        vertical-align: middle;\n",
       "    }\n",
       "\n",
       "    .dataframe tbody tr th {\n",
       "        vertical-align: top;\n",
       "    }\n",
       "\n",
       "    .dataframe thead th {\n",
       "        text-align: right;\n",
       "    }\n",
       "</style>\n",
       "<table border=\"1\" class=\"dataframe\">\n",
       "  <thead>\n",
       "    <tr style=\"text-align: right;\">\n",
       "      <th></th>\n",
       "      <th>path</th>\n",
       "      <th>file_name</th>\n",
       "      <th>doc_idx_from_name</th>\n",
       "    </tr>\n",
       "  </thead>\n",
       "  <tbody>\n",
       "    <tr>\n",
       "      <th>0</th>\n",
       "      <td>./tmp/30_kafDalet15_Dana.docx</td>\n",
       "      <td>30_kafDalet15_Dana.docx</td>\n",
       "      <td>30.000000</td>\n",
       "    </tr>\n",
       "    <tr>\n",
       "      <th>1</th>\n",
       "      <td>./tmp/38_kafTet5_Dana.docx</td>\n",
       "      <td>38_kafTet5_Dana.docx</td>\n",
       "      <td>38.000000</td>\n",
       "    </tr>\n",
       "  </tbody>\n",
       "</table>\n",
       "</div>"
      ],
      "text/plain": [
       "                            path                file_name  doc_idx_from_name\n",
       "0  ./tmp/30_kafDalet15_Dana.docx  30_kafDalet15_Dana.docx          30.000000\n",
       "1     ./tmp/38_kafTet5_Dana.docx     38_kafTet5_Dana.docx          38.000000"
      ]
     },
     "metadata": {},
     "output_type": "display_data"
    }
   ],
   "source": [
    "display(doc_db)"
   ]
  },
  {
   "cell_type": "markdown",
   "id": "6791f059",
   "metadata": {},
   "source": [
    "## experiment - check dis-ordered brackets removal"
   ]
  },
  {
   "cell_type": "code",
   "execution_count": 27,
   "id": "5418831a",
   "metadata": {},
   "outputs": [],
   "source": [
    "par = \"* סאמט:\tובכל אחת מהאופציות גם אם את ממשיכה איתי, גם, גם אם את ממשיכה, נניח עם מטפלת, מטפל אחר, אז אנחנו, יש, יש כאן הפסקה [*סאקל:\tכן יש פה XXX [5:20] כולם נמצאים בחופשה] כאילו מיולי עד אה, עד אוקטובר\""
   ]
  },
  {
   "cell_type": "code",
   "execution_count": 30,
   "id": "76e35e64",
   "metadata": {},
   "outputs": [],
   "source": [
    "par = \"*עגמט:\tאה אתה עושה עליהם..?\""
   ]
  },
  {
   "cell_type": "code",
   "execution_count": 86,
   "id": "69c68313",
   "metadata": {},
   "outputs": [],
   "source": [
    "par = \"\\t.. הפקקים\t\""
   ]
  },
  {
   "cell_type": "code",
   "execution_count": 7,
   "id": "ed495ad7",
   "metadata": {},
   "outputs": [],
   "source": [
    "block = \"\tהחוצה מאותו צוות, כן מאותה מחלקה.. [עגמט: אוקי], עכשיו באיזה שהוא מקום זה טיפה הוריד לי את ה.. הוציא לי את הרוח, כי.. כי כל הזמן אמרתי: אולי הם מנסים פה משהו, אולי הם אומרים: בוא נראה איך הולך לו ואולי.. אבל.. עכשיו הוא אומר שזה מה שהם תיכננו מראש.. הם תיכננו מראש בוא נפריד.. בוא נפריד ואז.. כאילו אותו אחד שאמור.. המנוסה שאמור לבוא ולעשות דברים חדשים, במקום שיישב לו כאן איזה.. כל מיני דברים שצריך לטפל בלקוחות אז.. אז ניתן את זה החוצה.. זה הוציא לי את הרוח בגלל הקטע של השאיפה לעתיד.. אני רוצה את התפקיד הזה ועכשיו הסיכויים נראים חלשים יותר, מצד שני עדיין אני שמח כי יש לי משהו שלא היה לי קודם.. רק שזה יוצר אצלי עומס, שהוא מאוד גדול.. כי יש לי גם את העבודה הרגילה וגם את זה..# %עומס בעבודה%\""
   ]
  },
  {
   "cell_type": "code",
   "execution_count": 8,
   "id": "2a092f68",
   "metadata": {},
   "outputs": [
    {
     "data": {
      "text/plain": [
       "'\\tהחוצה מאותו צוות, כן מאותה מחלקה.. [עגמט: אוקי], עכשיו באיזה שהוא מקום זה טיפה הוריד לי את ה.. הוציא לי את הרוח, כי.. כי כל הזמן אמרתי: אולי הם מנסים פה משהו, אולי הם אומרים: בוא נראה איך הולך לו ואולי.. אבל.. עכשיו הוא אומר שזה מה שהם תיכננו מראש.. הם תיכננו מראש בוא נפריד.. בוא נפריד ואז.. כאילו אותו אחד שאמור.. המנוסה שאמור לבוא ולעשות דברים חדשים, במקום שיישב לו כאן איזה.. כל מיני דברים שצריך לטפל בלקוחות אז.. אז ניתן את זה החוצה.. זה הוציא לי את הרוח בגלל הקטע של השאיפה לעתיד.. אני רוצה את התפקיד הזה ועכשיו הסיכויים נראים חלשים יותר, מצד שני עדיין אני שמח כי יש לי משהו שלא היה לי קודם.. רק שזה יוצר אצלי עומס, שהוא מאוד גדול.. כי יש לי גם את העבודה הרגילה וגם את זה..# %עומס בעבודה%'"
      ]
     },
     "execution_count": 8,
     "metadata": {},
     "output_type": "execute_result"
    }
   ],
   "source": [
    "block"
   ]
  },
  {
   "cell_type": "code",
   "execution_count": 79,
   "id": "08192dfa",
   "metadata": {},
   "outputs": [
    {
     "name": "stdout",
     "output_type": "stream",
     "text": [
      "HEBREW, החוצה\n",
      "HEBREW, מאותו\n",
      "HEBREW, צוות\n",
      "PUNCTUATION, ,\n",
      "HEBREW, כן\n",
      "HEBREW, מאותה\n",
      "HEBREW, מחלקה\n",
      "PUNCTUATION, .\n",
      "PUNCTUATION, .\n",
      "PUNCTUATION, [\n",
      "HEBREW, עגמט\n",
      "PUNCTUATION, :\n",
      "HEBREW, אוקי\n",
      "PUNCTUATION, ]\n",
      "PUNCTUATION, ,\n",
      "HEBREW, עכשיו\n",
      "HEBREW, באיזה\n",
      "HEBREW, שהוא\n",
      "HEBREW, מקום\n",
      "HEBREW, זה\n",
      "HEBREW, טיפה\n",
      "HEBREW, הוריד\n",
      "HEBREW, לי\n",
      "HEBREW, את\n",
      "HEBREW, ה\n",
      "PUNCTUATION, .\n",
      "PUNCTUATION, .\n",
      "HEBREW, הוציא\n",
      "HEBREW, לי\n",
      "HEBREW, את\n",
      "HEBREW, הרוח\n",
      "PUNCTUATION, ,\n",
      "HEBREW, כי\n",
      "PUNCTUATION, .\n",
      "PUNCTUATION, .\n",
      "HEBREW, כי\n",
      "HEBREW, כל\n",
      "HEBREW, הזמן\n",
      "HEBREW, אמרתי\n",
      "PUNCTUATION, :\n",
      "HEBREW, אולי\n",
      "HEBREW, הם\n",
      "HEBREW, מנסים\n",
      "HEBREW, פה\n",
      "HEBREW, משהו\n",
      "PUNCTUATION, ,\n",
      "HEBREW, אולי\n",
      "HEBREW, הם\n",
      "HEBREW, אומרים\n",
      "PUNCTUATION, :\n",
      "HEBREW, בוא\n",
      "HEBREW, נראה\n",
      "HEBREW, איך\n",
      "HEBREW, הולך\n",
      "HEBREW, לו\n",
      "HEBREW, ואולי\n",
      "PUNCTUATION, .\n",
      "PUNCTUATION, .\n",
      "HEBREW, אבל\n",
      "PUNCTUATION, .\n",
      "PUNCTUATION, .\n",
      "HEBREW, עכשיו\n",
      "HEBREW, הוא\n",
      "HEBREW, אומר\n",
      "HEBREW, שזה\n",
      "HEBREW, מה\n",
      "HEBREW, שהם\n",
      "HEBREW, תיכננו\n",
      "HEBREW, מראש\n",
      "PUNCTUATION, .\n",
      "PUNCTUATION, .\n",
      "HEBREW, הם\n",
      "HEBREW, תיכננו\n",
      "HEBREW, מראש\n",
      "HEBREW, בוא\n",
      "HEBREW, נפריד\n",
      "PUNCTUATION, .\n",
      "PUNCTUATION, .\n",
      "HEBREW, בוא\n",
      "HEBREW, נפריד\n",
      "HEBREW, ואז\n",
      "PUNCTUATION, .\n",
      "PUNCTUATION, .\n",
      "HEBREW, כאילו\n",
      "HEBREW, אותו\n",
      "HEBREW, אחד\n",
      "HEBREW, שאמור\n",
      "PUNCTUATION, .\n",
      "PUNCTUATION, .\n",
      "HEBREW, המנוסה\n",
      "HEBREW, שאמור\n",
      "HEBREW, לבוא\n",
      "HEBREW, ולעשות\n",
      "HEBREW, דברים\n",
      "HEBREW, חדשים\n",
      "PUNCTUATION, ,\n",
      "HEBREW, במקום\n",
      "HEBREW, שיישב\n",
      "HEBREW, לו\n",
      "HEBREW, כאן\n",
      "HEBREW, איזה\n",
      "PUNCTUATION, .\n",
      "PUNCTUATION, .\n",
      "HEBREW, כל\n",
      "HEBREW, מיני\n",
      "HEBREW, דברים\n",
      "HEBREW, שצריך\n",
      "HEBREW, לטפל\n",
      "HEBREW, בלקוחות\n",
      "HEBREW, אז\n",
      "PUNCTUATION, .\n",
      "PUNCTUATION, .\n",
      "HEBREW, אז\n",
      "HEBREW, ניתן\n",
      "HEBREW, את\n",
      "HEBREW, זה\n",
      "HEBREW, החוצה\n",
      "PUNCTUATION, .\n",
      "PUNCTUATION, .\n",
      "HEBREW, זה\n",
      "HEBREW, הוציא\n",
      "HEBREW, לי\n",
      "HEBREW, את\n",
      "HEBREW, הרוח\n",
      "HEBREW, בגלל\n",
      "HEBREW, הקטע\n",
      "HEBREW, של\n",
      "HEBREW, השאיפה\n",
      "HEBREW, לעתיד\n",
      "PUNCTUATION, .\n",
      "PUNCTUATION, .\n",
      "HEBREW, אני\n",
      "HEBREW, רוצה\n",
      "HEBREW, את\n",
      "HEBREW, התפקיד\n",
      "HEBREW, הזה\n",
      "HEBREW, ועכשיו\n",
      "HEBREW, הסיכויים\n",
      "HEBREW, נראים\n",
      "HEBREW, חלשים\n",
      "HEBREW, יותר\n",
      "PUNCTUATION, ,\n",
      "HEBREW, מצד\n",
      "HEBREW, שני\n",
      "HEBREW, עדיין\n",
      "HEBREW, אני\n",
      "HEBREW, שמח\n",
      "HEBREW, כי\n",
      "HEBREW, יש\n",
      "HEBREW, לי\n",
      "HEBREW, משהו\n",
      "HEBREW, שלא\n",
      "HEBREW, היה\n",
      "HEBREW, לי\n",
      "HEBREW, קודם\n",
      "PUNCTUATION, .\n",
      "PUNCTUATION, .\n",
      "HEBREW, רק\n",
      "HEBREW, שזה\n",
      "HEBREW, יוצר\n",
      "HEBREW, אצלי\n",
      "HEBREW, עומס\n",
      "PUNCTUATION, ,\n",
      "HEBREW, שהוא\n",
      "HEBREW, מאוד\n",
      "HEBREW, גדול\n",
      "PUNCTUATION, .\n",
      "PUNCTUATION, .\n",
      "HEBREW, כי\n",
      "HEBREW, יש\n",
      "HEBREW, לי\n",
      "HEBREW, גם\n",
      "HEBREW, את\n",
      "HEBREW, העבודה\n",
      "HEBREW, הרגילה\n",
      "HEBREW, וגם\n",
      "HEBREW, את\n",
      "HEBREW, זה\n",
      "PUNCTUATION, .\n",
      "PUNCTUATION, .\n",
      "PUNCTUATION, #\n",
      "PUNCTUATION, %\n",
      "HEBREW, עומס\n",
      "HEBREW, בעבודה\n",
      "PUNCTUATION, %\n"
     ]
    }
   ],
   "source": [
    "from sklearn.feature_extraction.text import CountVectorizer\n",
    "import hebrew_tokenizer as ht\n",
    "tokens = ht.tokenize(block)\n",
    "for grp, token, token_num, (start_index, end_index) in tokens:\n",
    "    print('{}, {}'.format(grp, token))"
   ]
  },
  {
   "cell_type": "code",
   "execution_count": 82,
   "id": "294d7b10",
   "metadata": {},
   "outputs": [
    {
     "data": {
      "text/plain": [
       "<generator object Tokenizer.tokenize at 0x2ba5ac6c5900>"
      ]
     },
     "execution_count": 82,
     "metadata": {},
     "output_type": "execute_result"
    }
   ],
   "source": [
    "tokens"
   ]
  },
  {
   "cell_type": "code",
   "execution_count": 40,
   "id": "f003fafc",
   "metadata": {},
   "outputs": [
    {
     "data": {
      "text/plain": [
       "'*עגמט:\\tאה אתה עושה עליהם?'"
      ]
     },
     "execution_count": 40,
     "metadata": {},
     "output_type": "execute_result"
    }
   ],
   "source": [
    "imp.reload(doc_utils)\n",
    "sent_list = doc_utils.remove_multi_dots(par)\n",
    "sent_list"
   ]
  },
  {
   "cell_type": "code",
   "execution_count": 34,
   "id": "018ee865",
   "metadata": {},
   "outputs": [],
   "source": [
    "import re\n",
    "imp.reload(doc_utils)\n",
    "def remove_brackets(text):\n",
    "    return re.sub(r'\\(.*?\\)|\\[.*[^\\[]?\\]','',text)"
   ]
  },
  {
   "cell_type": "code",
   "execution_count": 72,
   "id": "25bffe1d",
   "metadata": {},
   "outputs": [],
   "source": [
    "par = \"לפני סוגריים [התחהלה סוגריים [סוגריים פניים] אחרי פניים] אחרי סוגריים\""
   ]
  },
  {
   "cell_type": "code",
   "execution_count": 90,
   "id": "a14ffbb1",
   "metadata": {},
   "outputs": [],
   "source": [
    "par = \"\\t (..) איך זה היה?\""
   ]
  },
  {
   "cell_type": "code",
   "execution_count": 93,
   "id": "d0bec8fa",
   "metadata": {},
   "outputs": [],
   "source": [
    "par =\"ומה המשמעויות של זה בעומס של העבודה? אתה מרוויח מזה מנוחה או דווקא...?\""
   ]
  },
  {
   "cell_type": "code",
   "execution_count": 95,
   "id": "05f8b144",
   "metadata": {},
   "outputs": [],
   "source": [
    "par =\"[לוותר על החברים מהעבודה]. זה לא העבודה שמעניינת אותי, כי זה דווקא להיפך. החברים בעבודה, אפשר לצחוק עם האנשים, אפשר, אין לי את זה בבית. (..) והאחרים הם לא ככה, כי כל אחד מחכה כבר ללכת הביתה. אני אף פעם לא הסתכלתי בשעון כשהייתי בעבודה. ברמה של, הסתכלתי, אבל לא ברמה של נו כבר מתי תגיע כבר השעה של, זה אף פעם לא קרה לי. (..) ומבחינת ההנהלה הם כמובן שמחים מזה. אבל, זה לא דבר רצוי אני מניח, זו איזו הפרה של איזה, של האיזון הזה שדיברת. אנשים מטבעם רוצים לחזור הביתה לבית למקום זה המקום הנוח הטבעי שלהם, שם יש את האנשים שהם רוצים לראות, הם הולכים לעבודה כדי להביא פרנסה, ככה זה אמור להיות, ויכול להיות שיש מקום עבודה יותר טוב מבחינת האנשים, ומקום עבודה פחות טוב. אבל אני מניח שבסופו של דבר זה מקום עבודה. אצלי ההרגשה היא שונה. אצלי ההרגשה שזה כאילו שאני בעבודה במקום הטבעי שלי, אני צריך ללכת הביתה, כי זה סוף היום, ויש לי לישון ללמוד וזה. אבל, כאילו זה הפוך אצלי.\""
   ]
  },
  {
   "cell_type": "code",
   "execution_count": 98,
   "id": "90917f87",
   "metadata": {},
   "outputs": [],
   "source": [
    "par = \"כאילו.. אם אני באה והיא יושבת במשרד וזה, זה פחות מפריע לי, אם אני צריכה לעבוד איתה במשמרת, יש יותר אינטראקציה.. אין אפס, השאלה היא מתי זה יקרה, כי מישהי שאמרו לי שהיא צריכה להתחיל לעבוד בתחילת פברואר בינתיים לא הגיעה.. לא יודעת. ואני באמת, אני XXX עובדת קשה, ואין לי בעיה לעבוד קשה. בעיקר.. אני לא מצפה ממנה להערכה מבחינת עבודה וזה, אני מצפה מהבוס הגבוה זה שמשלם לי (א)ת'משכורת, זה יותר חשוב.. אבל מצד שני, לא נעים לעבוד בחיכוך כזה. האופי שלי.. אני לא ישנה, אני יכולה לעגל פינות, אבל אם אני לא אגיד דברים שמפריעים לי אז.. מה כאילו.. מה להוריד (א)תראש ולשתוק? [נכון]\""
   ]
  },
  {
   "cell_type": "code",
   "execution_count": 107,
   "id": "0bf01883",
   "metadata": {},
   "outputs": [],
   "source": [
    "par = \"[=!מהמהם לאות הסכמה]. אז בעצם מה, מה אה... אני מנסה להבין, מה הפריע לך שם, בשיחה אתמול.\""
   ]
  },
  {
   "cell_type": "code",
   "execution_count": 103,
   "id": "bf59bcd8",
   "metadata": {},
   "outputs": [],
   "source": [
    "par = \"[לוותר על החברים מהעבודה]. זה לא העבודה שמעניינת אותי, כי זה דווקא להיפך. החברים בעבודה, אפשר לצחוק עם האנשים, אפשר, אין לי את זה בבית. (..) והאחרים הם לא ככה, כי כל אחד מחכה כבר ללכת הביתה. אני אף פעם לא הסתכלתי בשעון כשהייתי בעבודה. ברמה של, הסתכלתי, אבל לא ברמה של נו כבר מתי תגיע כבר השעה של, זה אף פעם לא קרה לי. (..) ומבחינת ההנהלה הם כמובן שמחים מזה. אבל, זה לא דבר רצוי אני מניח, זו איזו הפרה של איזה, של האיזון הזה שדיברת. אנשים מטבעם רוצים לחזור הביתה לבית למקום זה המקום הנוח הטבעי שלהם, שם יש את האנשים שהם רוצים לראות, הם הולכים לעבודה כדי להביא פרנסה, ככה זה אמור להיות, ויכול להיות שיש מקום עבודה יותר טוב מבחינת האנשים, ומקום עבודה פחות טוב. אבל אני מניח שבסופו של דבר זה מקום עבודה. אצלי ההרגשה היא שונה. אצלי ההרגשה שזה כאילו שאני בעבודה במקום הטבעי שלי, אני צריך ללכת הביתה, כי זה סוף היום, ויש לי לישון ללמוד וזה. אבל, כאילו זה הפוך אצלי.\""
   ]
  },
  {
   "cell_type": "code",
   "execution_count": 105,
   "id": "c1183dce",
   "metadata": {},
   "outputs": [],
   "source": [
    "par = \"אה, אוקיי, XXX, אני חוזר מהקשיש, אני אה מתלבש, אה, זה, אני מסדר את כל הדברים, אה, 11 בערך. 11.\""
   ]
  },
  {
   "cell_type": "code",
   "execution_count": 116,
   "id": "9901e62b",
   "metadata": {},
   "outputs": [],
   "source": [
    "par = \"\\tאה מה יש? [=! בנימת שאלה רטורית].\t\""
   ]
  },
  {
   "cell_type": "code",
   "execution_count": 136,
   "id": "f9bcb85e",
   "metadata": {},
   "outputs": [],
   "source": [
    "par =\"גדכלחלח % לגחעלגעחל % חכקרןםחעםןרקחען%\""
   ]
  },
  {
   "cell_type": "code",
   "execution_count": 137,
   "id": "e2e1ccd6",
   "metadata": {},
   "outputs": [
    {
     "data": {
      "text/plain": [
       "['% לגחעלגעחל %']"
      ]
     },
     "execution_count": 137,
     "metadata": {},
     "output_type": "execute_result"
    }
   ],
   "source": [
    "f=re.findall(r'%.*?%',par)\n",
    "f"
   ]
  },
  {
   "cell_type": "code",
   "execution_count": 131,
   "id": "a1709fe5",
   "metadata": {},
   "outputs": [
    {
     "data": {
      "text/plain": [
       "False"
      ]
     },
     "execution_count": 131,
     "metadata": {},
     "output_type": "execute_result"
    }
   ],
   "source": [
    "doc_utils.countblock_has_summary(par)"
   ]
  },
  {
   "cell_type": "code",
   "execution_count": 128,
   "id": "74a83667",
   "metadata": {},
   "outputs": [
    {
     "name": "stdout",
     "output_type": "stream",
     "text": [
      "\tכן, וזה בא בדיוק בתקופה\n",
      "['כן וזה בא בדיוק בתקופה']\n",
      "0\n"
     ]
    }
   ],
   "source": [
    "imp.reload(doc_utils)\n",
    "clean = doc_utils.split_block_to_sentences(par)\n",
    "print(\"{}\\n{}\".format(par,clean))\n",
    "val = 1 if \"?\" in clean[0] else 0\n",
    "print (val)"
   ]
  },
  {
   "cell_type": "code",
   "execution_count": 129,
   "id": "8a797d8e",
   "metadata": {},
   "outputs": [
    {
     "data": {
      "text/html": [
       "<div>\n",
       "<style scoped>\n",
       "    .dataframe tbody tr th:only-of-type {\n",
       "        vertical-align: middle;\n",
       "    }\n",
       "\n",
       "    .dataframe tbody tr th {\n",
       "        vertical-align: top;\n",
       "    }\n",
       "\n",
       "    .dataframe thead th {\n",
       "        text-align: right;\n",
       "    }\n",
       "</style>\n",
       "<table border=\"1\" class=\"dataframe\">\n",
       "  <thead>\n",
       "    <tr style=\"text-align: right;\">\n",
       "      <th></th>\n",
       "      <th>odd_%</th>\n",
       "    </tr>\n",
       "  </thead>\n",
       "  <tbody>\n",
       "    <tr>\n",
       "      <th>0</th>\n",
       "      <td>\\tכן, וזה בא בדיוק בתקופה,</td>\n",
       "    </tr>\n",
       "    <tr>\n",
       "      <th>1</th>\n",
       "      <td>&amp;</td>\n",
       "    </tr>\n",
       "    <tr>\n",
       "      <th>2</th>\n",
       "      <td>אנחנו עכשיו בחברה בגלל שיש את כל הצמצומים אז ח...</td>\n",
       "    </tr>\n",
       "    <tr>\n",
       "      <th>3</th>\n",
       "      <td>\\tכן וזה בא בדיוק בתקופה</td>\n",
       "    </tr>\n",
       "    <tr>\n",
       "      <th>4</th>\n",
       "      <td>\\tאבל אני (..) אבל כל מעבר זה היה להכיר אנשים ...</td>\n",
       "    </tr>\n",
       "    <tr>\n",
       "      <th>...</th>\n",
       "      <td>...</td>\n",
       "    </tr>\n",
       "    <tr>\n",
       "      <th>73</th>\n",
       "      <td>NaN</td>\n",
       "    </tr>\n",
       "    <tr>\n",
       "      <th>74</th>\n",
       "      <td>NaN</td>\n",
       "    </tr>\n",
       "    <tr>\n",
       "      <th>75</th>\n",
       "      <td>&amp;</td>\n",
       "    </tr>\n",
       "    <tr>\n",
       "      <th>76</th>\n",
       "      <td>*\\tזהו שניהם, גם ההיא מהHR אמרה לי שיש אנשים ש...</td>\n",
       "    </tr>\n",
       "    <tr>\n",
       "      <th>77</th>\n",
       "      <td>#</td>\n",
       "    </tr>\n",
       "  </tbody>\n",
       "</table>\n",
       "<p>78 rows × 1 columns</p>\n",
       "</div>"
      ],
      "text/plain": [
       "                                                odd_%\n",
       "0                         \\tכן, וזה בא בדיוק בתקופה, \n",
       "1                                                   &\n",
       "2   אנחנו עכשיו בחברה בגלל שיש את כל הצמצומים אז ח...\n",
       "3                           \\tכן וזה בא בדיוק בתקופה \n",
       "4   \\tאבל אני (..) אבל כל מעבר זה היה להכיר אנשים ...\n",
       "..                                                ...\n",
       "73                                                NaN\n",
       "74                                                NaN\n",
       "75                                                  &\n",
       "76  *\\tזהו שניהם, גם ההיא מהHR אמרה לי שיש אנשים ש...\n",
       "77                                                  #\n",
       "\n",
       "[78 rows x 1 columns]"
      ]
     },
     "execution_count": 129,
     "metadata": {},
     "output_type": "execute_result"
    }
   ],
   "source": [
    "debug_db = pd.read_csv(os.path.join(os.getcwd(),defines.PATH_TO_DFS,\"debug_db.csv\"))\n",
    "debug_db"
   ]
  },
  {
   "cell_type": "markdown",
   "id": "2ddefdc9",
   "metadata": {},
   "source": [
    "### Check sentence number per ducument after POS tagging"
   ]
  },
  {
   "cell_type": "code",
   "execution_count": 63,
   "id": "ab1da966",
   "metadata": {},
   "outputs": [
    {
     "name": "stdout",
     "output_type": "stream",
     "text": [
      "ERRROR: 2 sent counter 817 , sent pos counter 841\n",
      "ERRROR: 3 sent counter 701 , sent pos counter 730\n",
      "ERRROR: 4 sent counter 548 , sent pos counter 559\n",
      "ERRROR: 5 sent counter 564 , sent pos counter 627\n",
      "ERRROR: 6 sent counter 998 , sent pos counter 1026\n",
      "ERRROR: 7 sent counter 479 , sent pos counter 495\n",
      "ERRROR: 8 sent counter 407 , sent pos counter 500\n",
      "ERRROR: 9 sent counter 564 , sent pos counter 627\n",
      "ERRROR: 10 sent counter 423 , sent pos counter 424\n",
      "ERRROR: 11 sent counter 1001 , sent pos counter 1005\n",
      "ERRROR: 12 sent counter 880 , sent pos counter 906\n",
      "ERRROR: 13 sent counter 886 , sent pos counter 913\n",
      "ERRROR: 14 sent counter 814 , sent pos counter 827\n",
      "ERRROR: 15 sent counter 829 , sent pos counter 834\n",
      "ERRROR: 17 sent counter 580 , sent pos counter 628\n",
      "ERRROR: 18 sent counter 145 , sent pos counter 149\n",
      "ERRROR: 19 sent counter 369 , sent pos counter 374\n",
      "ERRROR: 20 sent counter 320 , sent pos counter 463\n",
      "ERRROR: 21 sent counter 644 , sent pos counter 678\n",
      "ERRROR: 22 sent counter 388 , sent pos counter 519\n",
      "ERRROR: 23 sent counter 359 , sent pos counter 494\n",
      "ERRROR: 24 sent counter 554 , sent pos counter 621\n",
      "ERRROR: 25 sent counter 403 , sent pos counter 596\n",
      "ERRROR: 26 sent counter 506 , sent pos counter 519\n",
      "ERRROR: 27 sent counter 281 , sent pos counter 430\n",
      "ERRROR: 28 sent counter 607 , sent pos counter 657\n",
      "ERRROR: 29 sent counter 535 , sent pos counter 579\n",
      "ERRROR: 30 sent counter 416 , sent pos counter 498\n",
      "ERRROR: 31 sent counter 355 , sent pos counter 426\n",
      "ERRROR: 32 sent counter 399 , sent pos counter 507\n",
      "ERRROR: 33 sent counter 499 , sent pos counter 543\n",
      "ERRROR: 34 sent counter 409 , sent pos counter 465\n",
      "ERRROR: 35 sent counter 509 , sent pos counter 520\n",
      "ERRROR: 36 sent counter 169 , sent pos counter 174\n",
      "ERRROR: 37 sent counter 191 , sent pos counter 194\n",
      "ERRROR: 38 sent counter 171 , sent pos counter 172\n",
      "ERRROR: 39 sent counter 174 , sent pos counter 177\n",
      "ERRROR: 40 sent counter 234 , sent pos counter 238\n",
      "ERRROR: 41 sent counter 221 , sent pos counter 224\n",
      "ERRROR: 42 sent counter 212 , sent pos counter 218\n",
      "ERRROR: 43 sent counter 219 , sent pos counter 225\n",
      "ERRROR: 44 sent counter 533 , sent pos counter 594\n",
      "ERRROR: 45 sent counter 237 , sent pos counter 245\n",
      "ERRROR: 46 sent counter 298 , sent pos counter 300\n",
      "ERRROR: 47 sent counter 215 , sent pos counter 221\n",
      "ERRROR: 48 sent counter 609 , sent pos counter 635\n",
      "ERRROR: 49 sent counter 343 , sent pos counter 347\n",
      "ERRROR: 50 sent counter 522 , sent pos counter 578\n",
      "ERRROR: 51 sent counter 559 , sent pos counter 636\n",
      "ERRROR: 53 sent counter 442 , sent pos counter 487\n",
      "ERRROR: 54 sent counter 611 , sent pos counter 676\n",
      "ERRROR: 55 sent counter 389 , sent pos counter 397\n",
      "ERRROR: 56 sent counter 541 , sent pos counter 584\n",
      "ERRROR: 57 sent counter 473 , sent pos counter 493\n",
      "ERRROR: 58 sent counter 631 , sent pos counter 663\n",
      "ERRROR: 59 sent counter 733 , sent pos counter 736\n",
      "ERRROR: 60 sent counter 462 , sent pos counter 482\n",
      "ERRROR: 61 sent counter 715 , sent pos counter 733\n",
      "ERRROR: 62 sent counter 447 , sent pos counter 461\n"
     ]
    }
   ],
   "source": [
    "for i in range (1,len(doc_db.index)):\n",
    "    sent_db = pd.read_csv(os.path.join(os.getcwd(),defines.PATH_TO_DFS,\"{:02d}_sent_db.csv\".format(i)),usecols=['is_client'])\n",
    "    sent_pos_db = pd.read_csv(os.path.join(os.getcwd(),defines.PATH_TO_DFS,\"{:02d}_sent_pos_count_db.csv\".format(i)),usecols=['TOKEN'])\n",
    "    if len(sent_db.index) != len(sent_pos_db.index):\n",
    "        print(\"ERRROR: {} sent counter {} , sent pos counter {}\".format(i,len(sent_db.index), len(sent_pos_db.index)))\n",
    "    del sent_db\n",
    "    del sent_pos_db"
   ]
  },
  {
   "cell_type": "markdown",
   "id": "04b6e610",
   "metadata": {},
   "source": [
    "### Check presense of THERAPIST/CLIENT in body of sentence"
   ]
  },
  {
   "cell_type": "code",
   "execution_count": 64,
   "id": "c90383ef",
   "metadata": {},
   "outputs": [],
   "source": [
    "doc_to_fix = []\n",
    "for i in range (0,len(doc_db.index)):\n",
    "    sent_db = pd.read_csv(os.path.join(os.getcwd(),defines.PATH_TO_DFS,\"{:02d}_sent_db.csv\".format(i+1)),usecols=['text'])\n",
    "    catched = sent_db['text'].str.contains(\"THERAPIS|CLIENT\")\n",
    "    if sum(catched) > 0:\n",
    "        print (\"catched in doc {}: {} sentences\".format(i,sum(catched)))\n",
    "        print(sent_db[catched]['text'])\n",
    "        doc_to_fix.append(i)\n",
    "    del sent_db"
   ]
  },
  {
   "cell_type": "markdown",
   "id": "6259510f",
   "metadata": {},
   "source": [
    "### Check for empty sentences"
   ]
  },
  {
   "cell_type": "code",
   "execution_count": 65,
   "id": "01e92af0",
   "metadata": {},
   "outputs": [],
   "source": [
    "for i in range (1,len(doc_db.index)):\n",
    "    sent_db = pd.read_csv(os.path.join(os.getcwd(),defines.PATH_TO_DFS,\"{:02d}_sent_db.csv\".format(i)),usecols=['text'])\n",
    "    catched = sent_db['text'].str.contains(\"[a-z,A-Z,א-ת,0-9]\")\n",
    "    if sum(~catched) > 0:\n",
    "        print (\"catched in doc {}: {} sentences\".format(i,sum(~catched)))\n",
    "        display(sent_db[~catched])\n",
    "    del sent_db"
   ]
  },
  {
   "cell_type": "markdown",
   "id": "3a5c819a",
   "metadata": {},
   "source": [
    "### Check for [...[.]..]"
   ]
  },
  {
   "cell_type": "code",
   "execution_count": 67,
   "id": "4abc881c",
   "metadata": {},
   "outputs": [
    {
     "name": "stdout",
     "output_type": "stream",
     "text": [
      "catched in doc 2: 3 sentences\n"
     ]
    },
    {
     "data": {
      "text/plain": [
       "47      הוא מגיע לאותו.. לכיוון אותו אחד שאני רוצה.. ...\n",
       "92     \\tלא, אני אומר, זה סיטואציה שחוזרת.. זה מקרה ס...\n",
       "154    \\t[לא חששתי, היא לא הפסיקה להגיד את זה], בלי ה...\n",
       "Name: text, dtype: object"
      ]
     },
     "metadata": {},
     "output_type": "display_data"
    },
    {
     "name": "stdout",
     "output_type": "stream",
     "text": [
      "catched in doc 3: 1 sentences\n"
     ]
    },
    {
     "data": {
      "text/plain": [
       "40     אני מרגיש ש.. אני חושב שאמרת שני דברים מאוד ח...\n",
       "Name: text, dtype: object"
      ]
     },
     "metadata": {},
     "output_type": "display_data"
    },
    {
     "name": "stdout",
     "output_type": "stream",
     "text": [
      "catched in doc 4: 8 sentences\n"
     ]
    },
    {
     "data": {
      "text/plain": [
       "41     &\\t[ =! נאנח ] אמ, האמת, [ =! בגיחוך ] (..) לא...\n",
       "44     \\tאתה עדיין בסופו של דבר. בסוף. היה איזשהו חוז...\n",
       "52     \\tהייתי יכולה להגיד למשל, סתם. יכול להיות אדם,...\n",
       "60     \\tאני חושבת שקודם כל אנחנו גם צריכים לזכור ש, ...\n",
       "64     \\tאז אתה יודע אנחנו עוד אה, בשלבי היכרות. [כן]...\n",
       "71     \\tאז בעצם קו הגבול, מסתמן בין, האיזור הנעים. ש...\n",
       "87     \\tאז תראה אנחנו ככה, נכנס ל, עומק העניינים ונש...\n",
       "116    \\t(..) אה, לפעמים, (..) קשה לנו לשים גבולות, כ...\n",
       "Name: text, dtype: object"
      ]
     },
     "metadata": {},
     "output_type": "display_data"
    },
    {
     "name": "stdout",
     "output_type": "stream",
     "text": [
      "catched in doc 5: 8 sentences\n"
     ]
    },
    {
     "data": {
      "text/plain": [
       "16    &ויש עוד הצעה אחת שהיא כרגע פתוחה, שדווקא זה ת...\n",
       "19    &הודעת להם שאם כאילו, אני מול המנכ\"ל שם, אז אמ...\n",
       "31    \\t אני חושבת שזה מאוד מעניין שאתה מביא את זה X...\n",
       "42    \\t אני חושבת שה.. הדבר המתאגר מסיטואציות XXX, ...\n",
       "46    \\tזה נראה לי קשור עוד פעם להימנעות מלדבר אולי ...\n",
       "52    \\tלדעתי זה לא מהמקום, אני תיקשרתי את זה, עשיתי...\n",
       "61    \\tאני חושב שזה היה משמעותי שעשית את זה, זה דור...\n",
       "78    \\t גם לי מוזר. יש לנו פגישה ב.. [XXX] בחמישי[י...\n",
       "Name: text, dtype: object"
      ]
     },
     "metadata": {},
     "output_type": "display_data"
    },
    {
     "name": "stdout",
     "output_type": "stream",
     "text": [
      "catched in doc 6: 11 sentences\n"
     ]
    },
    {
     "data": {
      "text/plain": [
       "33     \\tו.. זהו הייתי כבר כאילו.. באתי עם המון ציפיו...\n",
       "55     \\tאני פחות אוהב דיסקונט.. שהם עושים זה טוב למש...\n",
       "90     \\tכן.. כי זאת לא חופשה שהייתי באמת צריך [לבמט:...\n",
       "105    &באתי לשם עם ציפיות.. אמרתי אולי.. XXX גייז תמ...\n",
       "120    \\tגם.. וגם בקטע של לעשות טוב.. זה עושה לי טוב ...\n",
       "157    \\tקשה להיות במקומות האלה שאנחנו עוד לא יודעים....\n",
       "196    \\tלאו דווקא.. אני דווקא.. פעם אולי הייתי שם על...\n",
       "199    \\tכי במקום הזה שאתה בו נורא חזק, ונורא שומר, ו...\n",
       "319    \\tכן, אבל אני מאוד יכולה לראות את הרצון שלך לה...\n",
       "320    \\t[אני אגיד לך גם מה.. ], בתוך הקהילה זה מאוד ...\n",
       "353    \\tלא לא, זה סלביות, אבל פשוט בתוך קהילה  [לבמט...\n",
       "Name: text, dtype: object"
      ]
     },
     "metadata": {},
     "output_type": "display_data"
    },
    {
     "name": "stdout",
     "output_type": "stream",
     "text": [
      "catched in doc 7: 7 sentences\n"
     ]
    },
    {
     "data": {
      "text/plain": [
       "34     \\tכי, לא יודעת שאומרים אונס זה, ישר עולה לך אה...\n",
       "46     \\tאה, סתם פשוט גברים שמנצלים אותך שכאילו לא רו...\n",
       "155    \\tהנה, חבר כנסת, ינון מגל, מגיע לגדולות, מטריד...\n",
       "162    &* \\tו.. באיזשהו מקום כאילו, לא יודעת. אני נור...\n",
       "189    \\tכלומר הייתה לך חוויה מקצועית טובה ובגלל [*\\t...\n",
       "190    \\tוכאילו, כאילו הוא רצה אה, כאילו לא יודעת, לי...\n",
       "235    \\t[=! אנחה] באמת שזה כיף לדבר עם מישהו על דברי...\n",
       "Name: text, dtype: object"
      ]
     },
     "metadata": {},
     "output_type": "display_data"
    },
    {
     "name": "stdout",
     "output_type": "stream",
     "text": [
      "catched in doc 8: 18 sentences\n"
     ]
    },
    {
     "data": {
      "text/plain": [
       "3     & אמא שלי התחילה להעלות הילוך בקטע דיבורים על ...\n",
       "7     \\t[=!צוחקת] עכשיו תראי, תכלס אני לא חושבת שלקח...\n",
       "23    \\tאי אפשר לא [=!צוחקת]..XXX עכשיו עם הל\"ג בעומ...\n",
       "25    \\tלא, זה לא קשור בכלל. בטח לא בהקשר הזה זאת או...\n",
       "26    \\t את מרגישה שאני רואה את זה בעין ביקורתית [לא...\n",
       "29    \\tלא, אז מבחינתי, תראי, זה שלא עשיתי את זה ביו...\n",
       "33    \\tלא,לא, אני לא מדברת רק על המרפסת באופן ספציפ...\n",
       "37    \\tוואי, כבר 4, אני שומעת את החדשות כזה של 4, ו...\n",
       "41    \\tכן, אם אני בעבודה אני בכלל לא יכולה לענות לט...\n",
       "42    \\t ואחרי השיחה שלנו, [XXX] עלה משהו סביב ה.. מ...\n",
       "51    \\tעצוב לי שזה ככה כאילו כי.. כל פעם אני אומרת ...\n",
       "54    \\t אבל אני דווקא חושבת על מה שאמרת היום, שאת נ...\n",
       "55    \\tאבל אני כן מצד שני, תראי, זה שאני באופן כללי...\n",
       "69    \\tאני חושבת שאף פעם לא חשבתי על זה בתור XXX. כ...\n",
       "71    \\tזאת אומרת שאני יושבת ומתפדלאת לי ולא בא לי ל...\n",
       "80    \\tלא, לא חסרת תקווה, לא אמרתי אין דרך, אמרתי י...\n",
       "87    \\tכן, אבל ההחמצה הכי גדולה זה זה שלא עשיתי כלו...\n",
       "88    & בערך איזה חודש-חודשיים אחרי שעברתי לדירה, אז...\n",
       "Name: text, dtype: object"
      ]
     },
     "metadata": {},
     "output_type": "display_data"
    },
    {
     "name": "stdout",
     "output_type": "stream",
     "text": [
      "catched in doc 9: 8 sentences\n"
     ]
    },
    {
     "data": {
      "text/plain": [
       "16    &ויש עוד הצעה אחת שהיא כרגע פתוחה, שדווקא זה ת...\n",
       "19    &הודעת להם שאם כאילו, אני מול המנכ\"ל שם, אז אמ...\n",
       "31    *\\t אני חושבת שזה מאוד מעניין שאתה מביא את זה ...\n",
       "42    *\\t אני חושבת שה.. הדבר המתאגר מסיטואציות XXX,...\n",
       "46    *\\tזה נראה לי קשור עוד פעם להימנעות מלדבר אולי...\n",
       "52    *\\tלדעתי זה לא מהמקום, אני תיקשרתי את זה, עשית...\n",
       "61    *\\tאני חושב שזה היה משמעותי שעשית את זה, זה דו...\n",
       "78    *\\t גם לי מוזר. יש לנו פגישה ב.. [XXX] בחמישי[...\n",
       "Name: text, dtype: object"
      ]
     },
     "metadata": {},
     "output_type": "display_data"
    },
    {
     "name": "stdout",
     "output_type": "stream",
     "text": [
      "catched in doc 11: 1 sentences\n"
     ]
    },
    {
     "data": {
      "text/plain": [
       "1    \\tבסדר גמור, ככל שזה יותר מאוחר זה אפילו יותר ...\n",
       "Name: text, dtype: object"
      ]
     },
     "metadata": {},
     "output_type": "display_data"
    },
    {
     "name": "stdout",
     "output_type": "stream",
     "text": [
      "catched in doc 12: 4 sentences\n"
     ]
    },
    {
     "data": {
      "text/plain": [
       "40     \\tהם לא מזמינים מראש את הנשואים.. כי זה עולה כ...\n",
       "86     \\t[אני רוצה] כי אני יודע שמה שבאמת חשוב זה ההת...\n",
       "94     \\tזה מאוד מזכיר את ה.. פעם תיארת את הדינמיקה ש...\n",
       "113    &הזמן היחיד שלא היה לי את זה, זה היה בעצם אחרי...\n",
       "Name: text, dtype: object"
      ]
     },
     "metadata": {},
     "output_type": "display_data"
    },
    {
     "name": "stdout",
     "output_type": "stream",
     "text": [
      "catched in doc 13: 4 sentences\n"
     ]
    },
    {
     "data": {
      "text/plain": [
       "46    \\tלא.. לא הגבתי אחרת.. כאילו.. הגבתי בקצת בהתג...\n",
       "77    \\tזה גם מה שדיברנו בפעם שעברה.. [עגמט: כן], הה...\n",
       "84    &בדרך כלל אני.. מה שאני מנסה לעשות זה להגיע למ...\n",
       "86    \\tברמה שאפילו אנשים לא יכולים לעזור לי?.. כי ק...\n",
       "Name: text, dtype: object"
      ]
     },
     "metadata": {},
     "output_type": "display_data"
    },
    {
     "name": "stdout",
     "output_type": "stream",
     "text": [
      "catched in doc 14: 1 sentences\n"
     ]
    },
    {
     "data": {
      "text/plain": [
       "74    \\t[לא להיפטר], אהה כן לקום ולעשות, ויש דברים ג...\n",
       "Name: text, dtype: object"
      ]
     },
     "metadata": {},
     "output_type": "display_data"
    },
    {
     "name": "stdout",
     "output_type": "stream",
     "text": [
      "catched in doc 15: 1 sentences\n"
     ]
    },
    {
     "data": {
      "text/plain": [
       "25    \\tאני לא יודע אם מכורח הנסיבות שאנחנו נפגשים ב...\n",
       "Name: text, dtype: object"
      ]
     },
     "metadata": {},
     "output_type": "display_data"
    },
    {
     "name": "stdout",
     "output_type": "stream",
     "text": [
      "catched in doc 17: 36 sentences\n"
     ]
    },
    {
     "data": {
      "text/plain": [
       "17     \\tולא רציתי לעשות את זה בצורה כזאת. אני גם מרג...\n",
       "25     \\tה-12 ליולי זה הפעם האחרונה [CLIENT: [=! משתע...\n",
       "39     \\tכן אבל ה, הקטע הוא שכאילו היא גם לא מנסה למצ...\n",
       "44     &לא אני יגיד מה, במסיבת רווקות היא, תכננה כאיל...\n",
       "60     \\tכן [=! גיחוך] [THERAPIST:\\tו...] בסדר היא תק...\n",
       "64     \\tלא זה רק אה, אה א״ר ונ״ה [שמות של חברות], א״...\n",
       "68     \\tאז בסדר אז אוקי סבבה אבל בואי נחשוב כאילו, א...\n",
       "88     \\tאה, החברה השנייה בהריון, שמירת הריון אז קצת ...\n",
       "92     \\tאה קצת כאילו למרות שלא נראה לי שזה מזיז לה י...\n",
       "94     \\tאני לא יודעת כמה הן חברות טובות [THERAPIST:\\...\n",
       "95     \\tמעניין מה ש״י מרגישה אליה. אם היא XXX [17:42...\n",
       "96     \\tנראה לי שהיא כן התעצבנה עליה באיזשהו מקום כא...\n",
       "110    \\tכן, כאילו נראה לי אה, בס-היה כאילו ליזום אה ...\n",
       "115    \\tו... אמרת להן? כאילו, היה בעצם את הדיבור הזה...\n",
       "125    \\tהיה בה משהו, זה נשמע שהיה בא משהו שכאילו בה...\n",
       "126    \\tלא הטון שלה ב, גם ב, בהודעות נגיד (..) הרי א...\n",
       "128    \\tאבל כאילו הדרך שהיא רשמה ו, כאילו הציבה את ז...\n",
       "132    \\tלא יודעת נראה לי שהיא פשוט מעצבנת כזאתי. זה ...\n",
       "158    \\tעזבי סטנדרטים, גם היה לי לא נעים מהבנות כאיל...\n",
       "164    \\tהיא ילדה מפונקת והיא, מוזרה כזאתי ו, קיצר שת...\n",
       "166    \\tכן. XXX [32:11] כן. לא הייתה לי כוונה לגבות ...\n",
       "175    \\tאבל זה דווקא נשמע לי שאת יודעת, זה מאוד מרשי...\n",
       "190    \\tאז הרגשתי איפשהו משהו כן בדינמיקה את יודעת ש...\n",
       "228    \\tכן. גם לי עצוב אבל בסדר זה לא  (..) אין מה ...\n",
       "230    \\tאה לא, את לא תשימי את זה בחתונה, וזה. כי כאי...\n",
       "253    \\tהיית רוצה לנסות למצוא מחרוזת אחרת שתהיה לא ל...\n",
       "286    &היא הביאה לי איזה צמיד שהיא כנראה לא רצתה אות...\n",
       "292    \\tברור כאילו, סך הכל את יודעת, אני כן רוצה להי...\n",
       "296    \\tאני לא רוצה לקבל בחזרה. אם נותנים אז נותנים ...\n",
       "301    &את יודעת תקשיבי כאילו ככה זה היה כל הזמן היא ...\n",
       "303    \\tברור כאילו, זה ככה זה היה תמיד. היא כאילו את...\n",
       "309    \\tממש לא. זה תמיד היה ככה. זה בקטע [THERAPIST:...\n",
       "317    \\tכן. זה, זה מגיל צעיר ככה אז כאילו. זה כבר מש...\n",
       "322    \\tגם יותר כסף וזה גם משמין כי אני [THERAPIST:\\...\n",
       "324    \\tכן. חברות שלי כאילו את יודעת, גרות בבית אבל,...\n",
       "325    \\tילדים שגרים אצל ההורים באמת אה, אלא אם כן הה...\n",
       "Name: text, dtype: object"
      ]
     },
     "metadata": {},
     "output_type": "display_data"
    },
    {
     "name": "stdout",
     "output_type": "stream",
     "text": [
      "catched in doc 18: 4 sentences\n"
     ]
    },
    {
     "data": {
      "text/plain": [
       "35    \\t ברוך השם [כן] כבר אמרנו [אמרנו המון] XXX XX...\n",
       "48    \\tבאיזשהו מקום אני מרגישה ש, אממ, (..) ה, אתה ...\n",
       "52    \\t [=! צוחקת] אני באמת, אני, אני חווה איתך את ...\n",
       "56    \\tכשאני נתקלת בזה בטיפול, שנגיד אממ, אני שומעת...\n",
       "Name: text, dtype: object"
      ]
     },
     "metadata": {},
     "output_type": "display_data"
    },
    {
     "name": "stdout",
     "output_type": "stream",
     "text": [
      "catched in doc 19: 7 sentences\n"
     ]
    },
    {
     "data": {
      "text/plain": [
       "40     \\tאה, שאלתי, כאילו אמרתי בעצם ש, תארת אינטראקצ...\n",
       "52     \\tאה, לפעמים אתה נע בין שני קצוות, לפעמים אתה ...\n",
       "77     &נגיד באלג'יריה זה התחיל המהפכה אה, עם אה, אה,...\n",
       "83     \\tלא XXX, אה הוא היה שותף עם שלוש אחיות שלו בד...\n",
       "99     \\tמסתורי זה נשמע דיי סקסי כזה, דיי מגרה, יש פה...\n",
       "105    \\tילד אוהב בת, גבר אוהב אישה [כן] זה XXX ופגיש...\n",
       "219    \\tקודם כל שתדע לך שזה, זה שלב ראשון שהוא טוב, ...\n",
       "Name: text, dtype: object"
      ]
     },
     "metadata": {},
     "output_type": "display_data"
    },
    {
     "name": "stdout",
     "output_type": "stream",
     "text": [
      "catched in doc 20: 25 sentences\n"
     ]
    },
    {
     "data": {
      "text/plain": [
       "0      \\t היום, XXX מבטיח [XXX טוב] אז תראי. זה בעיקר...\n",
       "9      \\tXXXX... רחובות [אוקיי].. צריך מיקוד? [לא..זה...\n",
       "10     \\t לא יודעת, יכול להיות, הם לא מעבירים אליי את...\n",
       "11     \\tלא משהו האמת [=!צוחקת] [לא משהו?..] לא.. בעב...\n",
       "13     \\tתראי, זה לא משהו חדש XXX, אבל עם ה..מנהלת הי...\n",
       "18     \\tהייתה.. בערך.. אני מדברת על הבוסית, כאילו המ...\n",
       "24     \\t [=!צוחקת] [הרגשה אחרת...] יוצא לך הרבה לעבו...\n",
       "30     &שני דברים כן טובים שקרו השבוע אולי, נתייחס למ...\n",
       "32     \\tלא, האמת שפניתי לאח אחר [ממ], כי הוא כזה.. א...\n",
       "34     \\tכן, זהו. עכשיו הכי קטע שבגלל שהייתי מבסוטה, ...\n",
       "43     &אז כאילו אפילו בפעם הזאת, אחי בכלל היה בסוף ש...\n",
       "48     \\tכאילו היו שלבים שלא רציתי בכלל, והיו שלבים ש...\n",
       "52     \\tלגבי הזוגיות יש סיכוי תיאורטית אבל אני חושבת...\n",
       "55     &אתמול אפילו מישהו באה ואמרה לי ט\"ו בשבט שמח, ...\n",
       "62     \\tאותו XXX.. זה שאחרי משמרת אני עייפה פיזית אז...\n",
       "64     \\tאהה..לא כוח פיזי בהכרח אלא אנרגיה [אנרגיה, כ...\n",
       "68     &במוצאי שבת אני עשיתי את הדבר הכי מפגר בעולם. ...\n",
       "69     \\t אבל, בכל זאת דווקא במקום הזה אני רואה כאן ק...\n",
       "70     \\tכי אם הספר טוב אני לא אלך לישון, זה ממש, אני...\n",
       "78     &אני רושמת.. הפנקס שאני רושמת בו הוצאות [כן].....\n",
       "82     \\tאהה..זה יכול לבוא בתקופות [כן], אבל כאילו בת...\n",
       "87     \\t וגם זה.. מתחיל מאיזשהי משימה שהיא יחסית ישי...\n",
       "88     \\tלא בדיוק, כי כשאת אומרת לנקות (א) ת'בית זה מ...\n",
       "99     \\tהאמת שאז דיברתי איתך, אני לא זוכרת אם זה היה...\n",
       "101    \\tשזה פה דווקא היה משהו שדווקא החיפזון לא היה ...\n",
       "Name: text, dtype: object"
      ]
     },
     "metadata": {},
     "output_type": "display_data"
    },
    {
     "name": "stdout",
     "output_type": "stream",
     "text": [
      "catched in doc 21: 5 sentences\n"
     ]
    },
    {
     "data": {
      "text/plain": [
       "13    \\tאז מסתבר שזה כנראה אלרגיה זה לא מחלה. כי זה ...\n",
       "44    &לפני איזה חודש בערך בחדר כושר, יש חדר כושר שא...\n",
       "70    \\tיש לי אה, יש לי כאילו, יש לי כזאת חוויה. באו...\n",
       "75    &אמרתי לך יש איזה חבר שהגיע לXXX. שהוא לא גר ב...\n",
       "99    &אני חוזר לדבר על ש\"ף. זה אותו דבר, ש\"ף די מוד...\n",
       "Name: text, dtype: object"
      ]
     },
     "metadata": {},
     "output_type": "display_data"
    },
    {
     "name": "stdout",
     "output_type": "stream",
     "text": [
      "catched in doc 22: 29 sentences\n"
     ]
    },
    {
     "data": {
      "text/plain": [
       "7     & שבוע מרתק עבר על כוחותינו. לפני שבוע, ביום ר...\n",
       "9     \\tכן,והוא ישר אז 'מה,כבר מספידים אותי, כבר זה,...\n",
       "10     \\t זה כנראה מסמל עבורו איבוד.. [ברור] XXX [ברור]\n",
       "12    \\t אני זוכרת שאפילו דיברנו אז,שסיפרת לי,שהוא ב...\n",
       "14    &אז יום שני בבוקר נסעתי הביתה, התארגנתי קצת, ו...\n",
       "15    &ולמחרת חזרתי ובערב עבדתי [וואו]. אז יום שלישי...\n",
       "18    &אז באותו יום היא יחסית מאוחר דיברה איתי רק, ג...\n",
       "19         \\t ספרת בעצם עיתונים יש [כן], בכל שקית? [כן]\n",
       "25    &כן אבל את יודעת, אני יושבת לקרוא, הוא מנמנם א...\n",
       "28    &שנגיד לפני שנה נסעתי איתה לפולין, שבאופן מדהי...\n",
       "30    \\tממש לא. [לא?] ממש ממש לא.. זה כאילו נגיד עכש...\n",
       "35    \\tהדברים שציפיתי הם דברים נקודתיים, נגיד, הוא ...\n",
       "56    &אתמול דיברנו אז היא שואלת אותי יום שלישי כאיל...\n",
       "58    \\tלא, לא איבדתי את המוטיבציה, אבל זה פסק כאילו...\n",
       "59    \\t לא, אל תדאגי, זה בסדר.. אני מסדרת לי את זה ...\n",
       "66    \\tלא, היא כרגע מבוטלת [מבוטלת לחלוטין?] בסבירו...\n",
       "69    & בהתחלה היא אמרה XXX בחדר איזה מישהו שכאילו ע...\n",
       "71    \\tאני לא חושבת שכרגע אני צריכה להלחיץ (א)ת'עצמ...\n",
       "72    \\t זה נשמע לי שאת.. מכירה במצב, ורוצה להקל על ...\n",
       "74    \\t בטח, אני מבינה.. תראי, היה לי ברור שיש איפש...\n",
       "76    \\t כי אני חושבת גם, מהרגע שיצאת מפה שבוע שעבר ...\n",
       "81    \\tאבל מצד שני את אומרת אין בך משהו פנימי. הרי ...\n",
       "82    \\t אני יודעת [=!צוחקת] ובכל זאת אני חושבת שיכו...\n",
       "83    \\tאני מבינה מה שאת אומרת, כאילו להתחיל ממשהו ש...\n",
       "84    \\t תראי, אני חושבת שגם חלק אולי מהעניין, זה שב...\n",
       "87    \\tלא רק עניין של לא מתקדמים אלא גם לא מאורגנים...\n",
       "89    \\tXXX הביתה אני רוצה לשבת רגל על רגל ולנוח, לא...\n",
       "91    \\tהוא לא מתארגן למעשה XXX זמנים כי.. וזה.. לפע...\n",
       "99    \\tכן, אני XXX אני מנסה לחשוב אין לי שום... [זה...\n",
       "Name: text, dtype: object"
      ]
     },
     "metadata": {},
     "output_type": "display_data"
    },
    {
     "name": "stdout",
     "output_type": "stream",
     "text": [
      "catched in doc 23: 12 sentences\n"
     ]
    },
    {
     "data": {
      "text/plain": [
       "2     &עכשיו יותר טוב, הסוף שבוע היה.. ממש על הפנים....\n",
       "9     & יה ככה עוד איזה קטע שעם כל העניינים של המשכנ...\n",
       "11    \\tתראי, אני יודעת, זה לא שזה כזה מפחיד, זה לא ...\n",
       "18    \\t גם זה שהוא לא דיבר איתך [כן] ואז פתאום הביא...\n",
       "23    \\tוגם אם אני סתם נעלבת, אני עדיין נעלבת [נכון]...\n",
       "25    \\tאני..בטח שאני נותנת לעצמי לגיטימציה, אבל אין...\n",
       "36    \\tלא, לא, זה לא בכלל.. XXX כזה שעולה.. זה עצוב...\n",
       "46    \\tכן, למרות, את יודעת..זה לא כזה.. קשר אדוק וז...\n",
       "53    &גם לפני כמה שנים, זה מצחיק, דודה שלי שהיא התא...\n",
       "55    \\tלא בקטע של אכזבתי (א)ת'עצמי, בקטע של.. באסה ...\n",
       "61    \\tלא, זה לא בקטע של תלות [ממ].. [להישען..] זה,...\n",
       "77    \\tברור, זה ברור [XXX חלק מהרשימה של זה..] אני ...\n",
       "Name: text, dtype: object"
      ]
     },
     "metadata": {},
     "output_type": "display_data"
    },
    {
     "name": "stdout",
     "output_type": "stream",
     "text": [
      "catched in doc 24: 8 sentences\n"
     ]
    },
    {
     "data": {
      "text/plain": [
       "31     \\tאז אמ, כי זה, שוב ממש דיברנו על התדמית. מאוד...\n",
       "39     \\tכן. יש לי איזה, [ =! כחכוח בגרון ] אמ, אז בד...\n",
       "44     \\tיש אה, אני מאמין ש, אני מאמין שיש איזה מחזור...\n",
       "77     \\tלא. אני לא יודע לשחות, ואני מפחד ממי(ם) – אנ...\n",
       "116    \\tכאילו על התקתקנות, [[ =! צקצוק בלשון של \"לא\"...\n",
       "128    \\tאת ה, אני חושב שהמקום של ה, אהבה ה, טוטאלית ...\n",
       "135    &את יודעת איזה זכרון עולה לי, שהכי חרוט לי? שה...\n",
       "173    \\tלא מאה אחוז. [מה אתה מרגיש,] אני גם – אני גם...\n",
       "Name: text, dtype: object"
      ]
     },
     "metadata": {},
     "output_type": "display_data"
    },
    {
     "name": "stdout",
     "output_type": "stream",
     "text": [
      "catched in doc 25: 32 sentences\n"
     ]
    },
    {
     "data": {
      "text/plain": [
       "3      \\tלא זה מטורף, אני פשוט..איך שאת מדברת איתי רג...\n",
       "6      &אז ביום שישי אני פגשתי את הבחור הזה שעוזר לי ...\n",
       "8      \\tבטח [אהה]. כאילו יום בחירות נחשב יום שבתון, ...\n",
       "14     \\tכן, זה מוזר לי [=!צוחקות] עכשיו המדף הזה צרי...\n",
       "16     \\tעוד לא חשבתי על זה עד הסוף, אבל נגיד.. למשל ...\n",
       "20     \\tזהו, זה ה... מקום בבית יש, ומבחינה אסתטית, נ...\n",
       "24     \\tכן, אני.. לא תמונות יש לי כבר מקום.. יש עליו...\n",
       "25     \\t אני חושבת שהמשימה של.. ככה, אני לא אומרת XX...\n",
       "28     \\tלא, זה בכלל לא אותו דבר [לא ברמה..] בכלל לא....\n",
       "35     \\tאני בודקת אותו מול הקבלות להסתכל באמת שזה.. ...\n",
       "38     \\t מבחינת כאילו מוצרים נגיד, מזון.. [כן] ביגוד...\n",
       "39     \\tלמרות שמצד שני זה דבילי כי אני יחסית ההוצאות...\n",
       "42     \\t למה, לפעמים יש לך.. [לפעמים XXX] XXX היית ר...\n",
       "43     \\tתראי, נגיד.. אם הייתי עובדת חמישה ימים בשבוע...\n",
       "44     \\t ועם כל העומס הצלחת [כן], לעשות את מה ש.. [כ...\n",
       "51     \\tXXX הגדרנו את זה, שכאילו אני..עושה את זה והכ...\n",
       "55     \\tחשבתי במקביל לזה, אם זה נראה לך, לעשות משהו ...\n",
       "57     \\tפסח מבחינתי אין לו שום.. זאת אומרת, אני בערב...\n",
       "69     \\tאוקיי, נגיד.. עיניים, אוזניים, שיניים.. ציצי...\n",
       "76     \\tלא, זה ב..יש (א)ת'אלבומים האלה הקטנטנים האלה...\n",
       "82     \\tלא יודעת אם זה חדש אבל.. [תראי, אני לא מכירה...\n",
       "97     \\t כן אבל אני חושבת [=!צוחקת] אני חושבת שמאחור...\n",
       "101    \\tאבל לא, לא כולם כאלה שם. כאילו זה לא [זה שלך...\n",
       "102    \\t אבל זה בדיוק אולי ההבדל, שבבית [XXX דין וחש...\n",
       "106    &מצד שני נגיד כשטיילתי בחו\"ל כזה, XXX כזה וזה,...\n",
       "114    \\tאלה שנאי לובשת כל הזמן זה לא בעיה. יש לי 3,ס...\n",
       "118    \\tXXX לא הכוונה היא לזרוק לא סתם [כן XXX] כי ה...\n",
       "119    \\t לא, אני חושבת שכל עוד את מרגישה שאת לא תעבד...\n",
       "120    \\tזהו, XXX גם אם זה יותר מ-10 אז יש כאלה שאני ...\n",
       "124    \\tיש שם מה לזרוק, אחרת לא הייתי [בדיוק].. אם ז...\n",
       "126    \\tXXX מכנסיים דווקא [אהה, אוקיי]. מכנסיים יחסי...\n",
       "128    \\tלא,קטגוריות של הזה זה.. נגיד יש לי שקית אחת ...\n",
       "Name: text, dtype: object"
      ]
     },
     "metadata": {},
     "output_type": "display_data"
    },
    {
     "name": "stdout",
     "output_type": "stream",
     "text": [
      "catched in doc 26: 5 sentences\n"
     ]
    },
    {
     "data": {
      "text/plain": [
       "1      &ההגעה לפה בשעות של הבוקר, הזכירה לי את העבודה...\n",
       "3      \\tבאמת XXX. זה, כי אני נתנייתי במקור [אני יודע...\n",
       "55     \\tבהכל, מה זה בהמון [כן]. זה עם ג\"י [עם XXX]. ...\n",
       "91     \\t אני חושבת ש.. מעניין באמת, לפני שאני (א)יענ...\n",
       "113    \\tאני לא חושב שזה קרה לי עם מטפלים כאילו [למה?...\n",
       "Name: text, dtype: object"
      ]
     },
     "metadata": {},
     "output_type": "display_data"
    },
    {
     "name": "stdout",
     "output_type": "stream",
     "text": [
      "catched in doc 27: 19 sentences\n"
     ]
    },
    {
     "data": {
      "text/plain": [
       "0     \\tהבאתי את הדבר הזה ששכחתי XXX פעם קודמת [XXX]...\n",
       "8     \\tטוב. למרות שלכאורה פחות התעסקתי בדברים של ה....\n",
       "11    &היום למשל, XXX אז היום שבו נעקרתי מביתי, ועבר...\n",
       "15    &אז זהו ש.. רוב השנים יצא שרק אני באה. כאילו א...\n",
       "18    &לא, פעם בשנה [פעם בשנה..] אין לזה משמעות מבחי...\n",
       "20    \\tלא, אני.. במאמר מוסגר, בהתחלה הייתי באה לפה ...\n",
       "21    \\t זה בדרך כלל תארים יותר מתקדמים.. [אהה] סטוד...\n",
       "22    \\tדווקא בפורים, היה פה סגור XXX יחסית לזה שזה ...\n",
       "25    \\t כן, פה זה.. [פה,כן] שומרים XXX [אוניברסיטה ...\n",
       "32    \\tהיה משהו..היה טוב בתקופה הזאת של הלימודים שא...\n",
       "39    \\tלא, השילוב של שני הדברים.. נגיד סתם, נגיד אם...\n",
       "42    &וואי, בשבת אני, כמעט לפני סיום המשמרת, איכשהו...\n",
       "50    \\tגם זמן,אבל גם פנאי נפשי [נפשי..] בטח [בעיקר]...\n",
       "51    \\t וזה, ככה חשבתי לפעמים, אם זה מפתיע אותך ההת...\n",
       "52    \\tכי.. זה לא דברים שאת יכולה למשוך אותם, כי נג...\n",
       "54    \\tנכון, אבל את לא יודעת בכמה זה כרוך [כאילו לא...\n",
       "55    \\t אהה בגלל שאת פותחת [XXX] פוליסה חדשה [XXX ח...\n",
       "57    &כי אז לפני שעשיתי את הפוליסה הראשונה, היה לי ...\n",
       "68    &כמו למשל, לבוא איתי לבית חולים, היא באה איתי ...\n",
       "Name: text, dtype: object"
      ]
     },
     "metadata": {},
     "output_type": "display_data"
    },
    {
     "name": "stdout",
     "output_type": "stream",
     "text": [
      "catched in doc 28: 11 sentences\n"
     ]
    },
    {
     "data": {
      "text/plain": [
       "41     \\t למה אתה XXX, במה זה XXX? [אם אני היום חוגג ...\n",
       "49     \\tיש פה בעיה. כי זה לא, איך שהיא הייתה מציגה א...\n",
       "60     \\tזה כאילו אני.. אני בעצם, היא אמרה לי את זה פ...\n",
       "62     \\tזה כאילו.. זה גבול עדין עדין עדין, כי כאילו ...\n",
       "68     \\t אז זה דפוס שחוזר על עצמו, שאתה עוצר XXX מתג...\n",
       "73     \\tאני לא יודע, אני .. אני.. אני חושב שאין מערכ...\n",
       "98     \\t אני חושבת שגם יש משהו כיפי בכעס. כמה שהוא ש...\n",
       "116    \\tכן, אני לא יודע גם [למה] והוא.. הוא מאוד נקי...\n",
       "136    &יש לי ידידה טובה שקוראים לה ל\"ת, שעבדנו פעם ב...\n",
       "166    \\t ברור, אבל זה לא הסיבה שאתה לא מביא את השיחה...\n",
       "172    \\tמושפל אבל זאת פרשנות, זאת לא המציאות. חוויה ...\n",
       "Name: text, dtype: object"
      ]
     },
     "metadata": {},
     "output_type": "display_data"
    },
    {
     "name": "stdout",
     "output_type": "stream",
     "text": [
      "catched in doc 29: 16 sentences\n"
     ]
    },
    {
     "data": {
      "text/plain": [
       "2      \\tואני צריך לשלם [כן, אני אתן לך את השובר]. וו...\n",
       "5        \\t מהבוקר, אני פה במזגן [אהה, במזגן]. [=!צוחקת]\n",
       "28     \\t[XXX] מה שחשבתי בנסיעה, שכאן [והתחלת להגיד ח...\n",
       "36     &אתמול, יש עוד דבר שמטריד אותי, קיבלתי הצעה עב...\n",
       "40     \\t אני חושבת שכל מה שאתה אומר, זה מאוד מאוד מת...\n",
       "42     &ושאלתי את עצמי והיה לי חלומות בלילה עליה מפה ...\n",
       "47     &עכשיו כאילו א\"ה בעצם, אני כן גאה בעצמי על איך...\n",
       "54     \\t אני לא חושבת שזה למה אתה בא כועס, אתה בא כו...\n",
       "76     \\t סליחה, אני רק אגיד, קטעתי אותך,  שהאסוציאצי...\n",
       "82     \\t אני חושבת שזה מאוד מאוד קשה לחיות בחוויה שכ...\n",
       "85     \\t הקטע הזה שהיא קיבלה את שלה והוא לא קיבל את ...\n",
       "93     \\t אמרת ש.. למדת לשקר, לזרוק את המרק XXX [הכל ...\n",
       "96     \\tשקר זה כאילו להגיד משהו, להגיד משהו שהוא לא ...\n",
       "100    \\t אתה חושב שה.. שה.. מקום שבו אתה מתקשה לכתוב...\n",
       "105    \\t אני חושבת שהדוגמה עם המרק והסוכרייה שכאילו ...\n",
       "108    \\tכי זה משלב את כל מה שרציתי בעצם. זאת אומרת, ...\n",
       "Name: text, dtype: object"
      ]
     },
     "metadata": {},
     "output_type": "display_data"
    },
    {
     "name": "stdout",
     "output_type": "stream",
     "text": [
      "catched in doc 30: 17 sentences\n"
     ]
    },
    {
     "data": {
      "text/plain": [
       "3     &שנסענו.. לפני שנה וחצי לפורטוגל אז היא באה, ה...\n",
       "7     \\t[=!צוחקת] עכשיו תראי, תכלס אני לא חושבת שלקח...\n",
       "23    \\tאי אפשר לא [=!צוחקת]..XXX עכשיו עם הל\"ג בעומ...\n",
       "25    \\tלא, זה לא קשור בכלל. בטח לא בהקשר הזה זאת או...\n",
       "26    \\t את מרגישה שאני רואה את זה בעין ביקורתית [לא...\n",
       "29    \\tלא, אז מבחינתי, תראי, זה שלא עשיתי את זה ביו...\n",
       "33    \\tלא,לא, אני לא מדברת רק על המרפסת באופן ספציפ...\n",
       "37    \\tוואי, כבר 4, אני שומעת את החדשות כזה של 4, ו...\n",
       "41    \\tכן, אם אני בעבודה אני בכלל לא יכולה לענות לט...\n",
       "42    \\t ואחרי השיחה שלנו, [XXX] עלה משהו סביב ה.. מ...\n",
       "51    \\tעצוב לי שזה ככה כאילו כי.. כל פעם אני אומרת ...\n",
       "54    \\t אבל אני דווקא חושבת על מה שאמרת היום, שאת נ...\n",
       "55    \\tאבל אני כן מצד שני, תראי, זה שאני באופן כללי...\n",
       "70    \\tאני חושבת שאף פעם לא חשבתי על זה בתור XXX. כ...\n",
       "72    \\tזאת אומרת שאני יושבת ומתפדלאת לי ולא בא לי ל...\n",
       "81    \\tלא, לא חסרת תקווה, לא אמרתי אין דרך, אמרתי י...\n",
       "89    &לא יודעת אם סיפרתי לך, אבל ממש בערך איזה חודש...\n",
       "Name: text, dtype: object"
      ]
     },
     "metadata": {},
     "output_type": "display_data"
    },
    {
     "name": "stdout",
     "output_type": "stream",
     "text": [
      "catched in doc 31: 9 sentences\n"
     ]
    },
    {
     "data": {
      "text/plain": [
       "9     \\tזה לא היה ממקום [זה היה] של לא חוקי, זה היה ...\n",
       "14    \\t בוא נסתכל על זה רגע באמת, בצורה אחרת כאילו....\n",
       "18    &אני ראיתי אפילו, את יודעת, במקרה במקרה ה.. לא...\n",
       "34    \\t אני חושבת שמשם העצב. ש.. הפער הזה משמר איזה...\n",
       "50    \\tמוזר. אנחנו יושבים באימון, כאילו ממש מוחשי [...\n",
       "62    \\tלדעתי כן, אני לא זוכר.. אין לי, אני יכול לבר...\n",
       "81    \\tאני לא, לא חושב שעשיתי את זה פה אף פעם.. [אב...\n",
       "84    \\tאבל  זה המלכוד, זה המלכוד. פה אתה.. [עכשיו ז...\n",
       "86    &אפילו עם המורה שלי לשחייה, ק\"י, אני רואה איך ...\n",
       "Name: text, dtype: object"
      ]
     },
     "metadata": {},
     "output_type": "display_data"
    },
    {
     "name": "stdout",
     "output_type": "stream",
     "text": [
      "catched in doc 32: 10 sentences\n"
     ]
    },
    {
     "data": {
      "text/plain": [
       "3     &ו.. ביום, מוצאי שבת, ככה סימנתי לי איזה תכניו...\n",
       "8     &עכשיו שבוע שעבר היה לי חופש יום רביעי, בגלל ש...\n",
       "12    \\tזה הרגשה טובה [ממ], בהחלט. אני רוצה כאילו גם...\n",
       "17    \\t ממ [אז] הוא תמיד נוכח פה בחדר [ברור] אני שו...\n",
       "28    \\tיכול להיות, כי תראי, נגיד סתם, אולי עם כל ה....\n",
       "31    &מדי פעם יוצאת למרפסת ככה נגיד לשאוף אוויר, אנ...\n",
       "55    &יש לי הרבה פעמים גם קטעים כאלה שפוגשים אותי מ...\n",
       "59    \\tלא כי אני בטח פתוחה לשמוע את הדעות והעמדות ש...\n",
       "64    \\tכי בעיקרון, כמעט כל יום שיש לי פנוי, אני לא ...\n",
       "80    \\tנכון, כן [ממ].אבל אני חושבת ש.. שעצם זה שאני...\n",
       "Name: text, dtype: object"
      ]
     },
     "metadata": {},
     "output_type": "display_data"
    },
    {
     "name": "stdout",
     "output_type": "stream",
     "text": [
      "catched in doc 33: 10 sentences\n"
     ]
    },
    {
     "data": {
      "text/plain": [
       "0     \\t[3:30] רגע, רק לראות שזה XXX [XXX]. למרות שא...\n",
       "6     &יום חמישי רבתי עם ג\"י ולא, יצאתי, אני אפילו ל...\n",
       "15    \\tזה אפילו מעצבן אותי שאת אומרת את זה [אני יוד...\n",
       "23    &ראיתי את אבא שלי עושה לי את זה עכשיו, אותו דב...\n",
       "24    \\t למה? למה אי אפשר להגיד לך ישירות? אתה יודע,...\n",
       "27    \\tזה גם מה שג\"י אומר, ג\"י אומר לי, תגיד לי מה ...\n",
       "63    \\t אמרתי לך כבר, שאני חושבת שהטחינה הזאת, הקשה...\n",
       "67    \\t נכון, נכון. גם אמרת פעם שעברה שבעצם אתה לא ...\n",
       "94    \\tזה לא קשור אלייך, ש\"ן.[ אני יודעת, אבל אם זה...\n",
       "98    \\t אבל בוא נשאר רגע עם מה שהיה פה, בינינו עכשי...\n",
       "Name: text, dtype: object"
      ]
     },
     "metadata": {},
     "output_type": "display_data"
    },
    {
     "name": "stdout",
     "output_type": "stream",
     "text": [
      "catched in doc 34: 7 sentences\n"
     ]
    },
    {
     "data": {
      "text/plain": [
       "0     \\t אהה.. רציתי לפתוח את מה שקרה פה שבוע שעבר, ...\n",
       "4     \\t אני לא יכול, מה זה מוכן? אבל אני, אני לא יכ...\n",
       "7     \\tאבל למה זה הולך לשם, למה ישר.. [כי מה אני אמ...\n",
       "9     \\tאני מסכימה איתך, צ\"י, שיכול להיות שמשהו בסגנ...\n",
       "17    \\t אני חושבת שזה באמת, שזה באמת, שיש למטבע הזה...\n",
       "20    \\tנכון, זה בדיוק מה שקורה. וזה מה שקרה לי עם א...\n",
       "56    &הוא שלח לי עכשיו הודעה אני יכול לבוא היום? כן...\n",
       "Name: text, dtype: object"
      ]
     },
     "metadata": {},
     "output_type": "display_data"
    },
    {
     "name": "stdout",
     "output_type": "stream",
     "text": [
      "catched in doc 35: 6 sentences\n"
     ]
    },
    {
     "data": {
      "text/plain": [
       "19    \\tלדעתי ה.. כאילו למה זה משנה, אבל, בעצם? השאל...\n",
       "20    \\t אני חושבת שהשאלה הזאת היא XXX שאלה.. בוא ננ...\n",
       "36    \\t אני חושבת שיש פה.. עניין שהולך גם לכיוון של...\n",
       "46    \\tאני לא יודע, או שאני פשוט לא יודע איך לעשות ...\n",
       "69    \\t אני חושבת ש.. אני לא יודעת למה קשור העצב, ש...\n",
       "72    \\t עכשיו אבל יש לך חופש, זה בדיוק העניין, אף א...\n",
       "Name: text, dtype: object"
      ]
     },
     "metadata": {},
     "output_type": "display_data"
    },
    {
     "name": "stdout",
     "output_type": "stream",
     "text": [
      "catched in doc 36: 4 sentences\n"
     ]
    },
    {
     "data": {
      "text/plain": [
       "13     \\t אהה, בסדר גמור, אהה מה בסדר גמור, פחות או ...\n",
       "30     \\t כדי לעשות את זה פשוט -  עם ב\"ק, כדי, [עם ב...\n",
       "49    \\tלא, אבל [שגרתי] אני מדברת על משהו נורמטיבי כ...\n",
       "92    \\tו, החוויה הזאת מאוד, מאוד משתקפת כמה פעמים ש...\n",
       "Name: text, dtype: object"
      ]
     },
     "metadata": {},
     "output_type": "display_data"
    },
    {
     "name": "stdout",
     "output_type": "stream",
     "text": [
      "catched in doc 37: 7 sentences\n"
     ]
    },
    {
     "data": {
      "text/plain": [
       "18    \\tזאת פשוט נשמעת חוויה ככה משמעותית וקשה [כן] ...\n",
       "29    \\tכאילו אתה לא, לא הצלחת כאילו באותה, כאילו בא...\n",
       "39    \\tאני מבינה. אני, אני רואה את המקום שמאוד, חשו...\n",
       "41    \\tאבל, אולי יש משהו בזה שמשקף, גם אם לא במציאו...\n",
       "63           \\tלהוציא מזה, לזקק מזה [כן] XXX [הכלה, אה]\n",
       "67    \\tאממ, אני כן חשבתי על זה גם בעצמי, אה במהלך ה...\n",
       "71                    \\t [=! צוחקת] של, של  [של ללמוד] \n",
       "Name: text, dtype: object"
      ]
     },
     "metadata": {},
     "output_type": "display_data"
    },
    {
     "name": "stdout",
     "output_type": "stream",
     "text": [
      "catched in doc 38: 7 sentences\n"
     ]
    },
    {
     "data": {
      "text/plain": [
       "50    \\tוואו. אתה בעצם אומר שהתחושה הזאת מלווה אותך,...\n",
       "56    \\t [=! צוחקת] אבל, איזשהם, דרישות נוקשות מעצמך...\n",
       "62    \\tהתשוקה שאתה רוצה, שהיא תהיה לך, היא לא התשוק...\n",
       "71    \\tשל לחשוב איך אתה צריך להגיע [איך נכון] ואיך ...\n",
       "73    \\tלמה בעצם ה, התגובות שלך הן לא נובעות מתגובות...\n",
       "83    \\tעיבוד של הסיטואציה [כן] כל משפט כבר בצורה שי...\n",
       "87    \\tב, כן, אבל יש משהו לא רק מאיים במובן של האם ...\n",
       "Name: text, dtype: object"
      ]
     },
     "metadata": {},
     "output_type": "display_data"
    },
    {
     "name": "stdout",
     "output_type": "stream",
     "text": [
      "catched in doc 39: 6 sentences\n"
     ]
    },
    {
     "data": {
      "text/plain": [
       "16    \\tבדרך המון, המון המון היבטים [כן] ואיך זה מרג...\n",
       "20    \\t (..) אז בעצם התקופה הזאת שאתה עובר גם גורמת...\n",
       "26    \\tזה נורא מתקשר לדברים שדיברנו עליהם [נכון] גם...\n",
       "30    \\tפונקציונלי, ש, ש, ממלא את הצרכים בשביל הבית....\n",
       "45    \\tלגמרי. עוד פעם, אם בעבר כאילו נגיד ה (..) הח...\n",
       "89    \\tמעולה, אז זה אני חושבת, (..) בין הפעמים הראש...\n",
       "Name: text, dtype: object"
      ]
     },
     "metadata": {},
     "output_type": "display_data"
    },
    {
     "name": "stdout",
     "output_type": "stream",
     "text": [
      "catched in doc 40: 10 sentences\n"
     ]
    },
    {
     "data": {
      "text/plain": [
       "26     \\tהם החליטו פתאום, אחרי שכבר הייתי בשני ראיונו...\n",
       "43     \\tהרבה פעמים על זה ש, מבחינתך, להיות בסיטואציה...\n",
       "47     \\tנשמע גם ש, אה, אתה אומר עברתי יותר להשתמש בר...\n",
       "53     \\tאבל אני חושבת ש, אני לא, אתה, אני לא חושבת ש...\n",
       "55     \\tחסר את הצד הספונטני, [נכון] כי ה, כי ההצגה ה...\n",
       "78     \\tאני יכולה לספר לך, על תהליך שאני רואה בטיפול...\n",
       "80     \\tסיסמה או הגדרה, וגם להציג את זה מכל כיוון אפ...\n",
       "90     &הסיטואציה שבה עברתי את הניתוח קיצור קיבה, כאי...\n",
       "106    \\tמאוד טבעי כי, כי, עד נגיד אה, XXX לקראת סוף ...\n",
       "146      \\tזה משהו שחווית בעבודה [נכון] אותה, XXX [נכון]\n",
       "Name: text, dtype: object"
      ]
     },
     "metadata": {},
     "output_type": "display_data"
    },
    {
     "name": "stdout",
     "output_type": "stream",
     "text": [
      "catched in doc 41: 12 sentences\n"
     ]
    },
    {
     "data": {
      "text/plain": [
       "21     \\tתראי, מבחינת שכר אני קצת [XXX שלה] זהו, אז א...\n",
       "22     \\tאבל יש משהו יותר יציב במגזר הציבורי [נכון] מ...\n",
       "24     \\t (..) ובטח יש אפשרות אולי להתקדם בהמשך, [זהו...\n",
       "45     \\tאני אומרת ש, קודם כל על הממצאים שם לא הפתיעו...\n",
       "52     \\tאת הלחץ תמיד הרגשתי, זאת אומרת, כי הוא בא לי...\n",
       "53        \\tשיש בזה משהו שאתה תתמודד איתו [כן] ו, [נכון]\n",
       "85     \\tאני לא צריך את העניין, אין לי בעיה שלא יתעני...\n",
       "89     \\tהן זהירות בהבטחות שלהן, זה העניין, הן מאוד ז...\n",
       "98     \\tגם, גם יכול להיות שזה בא מהמקום הזה, וגם יש ...\n",
       "140    \\tבעצם אמרת כאילו כשהגדרת באמת מה חשוב לך במקו...\n",
       "142    \\tכן. והיה משהו, שאני חושבת [תלותי כאילו?] באי...\n",
       "146    \\t [=! צוחקת] ב, [בסדר] פגישה הבאה שלנו, אה, א...\n",
       "Name: text, dtype: object"
      ]
     },
     "metadata": {},
     "output_type": "display_data"
    },
    {
     "name": "stdout",
     "output_type": "stream",
     "text": [
      "catched in doc 42: 10 sentences\n"
     ]
    },
    {
     "data": {
      "text/plain": [
       "23     \\tכן, אני אמור לנסוע באוקטובר, לשבוע לשם. [ולכ...\n",
       "24     \\tהאמת שזה באמת הבנה חזקה ש, שיש בצורך ובגושפנ...\n",
       "30     \\tזה גם מתנשא, בטח, גם מתנשא, שאתה ככה וככה. ו...\n",
       "66     \\t (..) אני רוצה שבוע הבא אני לא אהיה, אבל אחר...\n",
       "68     \\tוהם נמצאים בתהליך של דיי רחב, שחלק, שצריך לא...\n",
       "85     \\tכי, אצלך זה ככה נושא שהוא, אפילו יותר XXX כי...\n",
       "109    \\tתגובתי לXXX [כן, בדיוק] אלא ככה לחשוב מראש [...\n",
       "113    \\tאתה לא, אתה לא ככה ואפילו יש משהו בזה שהוא כ...\n",
       "115    \\tלתת מקום ליצר, לא, [כן] לצבוע את הכל, אבל מב...\n",
       "122    \\tמסכים לגמרי, כן. [וזה,] כנראה שבסופו של דבר,...\n",
       "Name: text, dtype: object"
      ]
     },
     "metadata": {},
     "output_type": "display_data"
    },
    {
     "name": "stdout",
     "output_type": "stream",
     "text": [
      "catched in doc 43: 6 sentences\n"
     ]
    },
    {
     "data": {
      "text/plain": [
       "47    \\tאפשר לשמוע נגיד בתכלס כאילו, מה קורה שם? [כן...\n",
       "69    \\tהשאלה מה שאני שואלת זה, (..) אני יודעת שהמון...\n",
       "70    \\tכי גם, המקום שאני נמצא ביני לבין עצמי ממילא,...\n",
       "77    \\t [=! צוחקת] בנוגע ל, למה קורה כשאתה במקום רג...\n",
       "94    \\tאני מבינה. אני חושבת גם שזה נכון יותר לעבוד ...\n",
       "97    \\tלא, כי, כי ככה, כי אני מבין ש, (..) הגישה וה...\n",
       "Name: text, dtype: object"
      ]
     },
     "metadata": {},
     "output_type": "display_data"
    },
    {
     "name": "stdout",
     "output_type": "stream",
     "text": [
      "catched in doc 44: 22 sentences\n"
     ]
    },
    {
     "data": {
      "text/plain": [
       "4      \\tויש לך פה מים, [תודה] אני הולכת שנייה למלא, ...\n",
       "55     \\tכן. כי אם זה היה נפשי בלבד, אז.. אוקיי. (..)...\n",
       "57     \\tזה נשמע שאתה מתאר מצב, שכשאתה מרגיש את הסטרס...\n",
       "62     \\tכן, באמת גם שיש את המקרה המאוד מעציב הזה. של...\n",
       "67     \\tכן! [ =! המטפלת צוחקת ] יש לי, יש לי, כן. יש...\n",
       "68     \\tאני מסכימה איתך ש, קורים דברים לא צפויים. וש...\n",
       "72     &אבא שלי מת מוקדם. אבל הוא אף פעם לא פחד מ, [ ...\n",
       "89     \\t(..) בעצם אתה, יש לך בעיה XXXX זה חוסר שוויו...\n",
       "91     &זה שאני, התעצבנתי, אני לא – נראה לי גם מאיזה ...\n",
       "94     \\tשקשה אולי באמת למצוא לה מילים. מה שלמבוגר אנ...\n",
       "100    \\tאנחנו מפנימים, איזשהי דמות, כמו של איזה הורה...\n",
       "105    \\tפשוט הרבה פעמים, ב- בהרבה סגנונות של הורות, ...\n",
       "108    \\tאני, אני כן מכיר, ואני מבין כאילו, אני עדיין...\n",
       "151    \\tאז ירדתי איתו, הוא בנאדם ממש נחמד כאילו בנאד...\n",
       "160    \\t>באמת העניין של בידיים שלך, זה לזרוק את זה ל...\n",
       "167    \\tאתה יודע אתה, אני שומעת אותך, חוויה לא כל כך...\n",
       "172    \\tשזה בדיוק המקום של ה- גם לקחת חלק במשחק. [כן...\n",
       "174    \\tאז אני יכולה לתת לך, [כן] אוקיי. אז יהיה, אז...\n",
       "176    \\t>אה, אז זהו אז זה, סביבות אמצע יולי, את התאר...\n",
       "178    \\tאה, עכשיו לגבי העניין של ה, גישות השונות. אנ...\n",
       "188    \\tאמ, אני חושבת שזה יכול אה, לעשות לך מאוד טוב...\n",
       "198    \\t>כן? במקום [כן] יום שני האוניברסיטה סגורה פש...\n",
       "Name: text, dtype: object"
      ]
     },
     "metadata": {},
     "output_type": "display_data"
    },
    {
     "name": "stdout",
     "output_type": "stream",
     "text": [
      "catched in doc 45: 30 sentences\n"
     ]
    },
    {
     "data": {
      "text/plain": [
       "4      \\tאני מצונן, כן [=! מטופל אומר 'אהה'], אז זה כ...\n",
       "11     \\tאז עניתי בהפוכה [=! צוחק]  XXX XXX אם עובדים...\n",
       "13     \\t[=! נכנס לדברי המטפל] גם אני אני בדרך כלל אנ...\n",
       "26     \\tאו במראה או בעצמי כי XXX  [=! המטפל אומר משה...\n",
       "27     \\tהתקדמות במה? ב, ביכולות המשחק? אני אני לא מצ...\n",
       "39     \\tאת הדמי מנוי לנטויז'ן ובזק, אפילו שידעתי שאנ...\n",
       "52     \\tמה זה נותן לך?XXX  [=! המטפל אומר משהו תוך כ...\n",
       "76     \\tזה בעצם אישה היסטרית [=! מטפל אומר 'כן'] מדב...\n",
       "77     \\tואז בעצם אני מבין שהחוויה חוויית האוננות שלך...\n",
       "80     \\tאני בעל הבית, אני כבר לא שם [=! המטפל מהמהם ...\n",
       "81     \\t עשית פה איזשהו הקשר מעניין כי, אתה יודע, אפ...\n",
       "100    \\tאתה יודע זה מביא אותי ככה לחשוב, את הזוגיות ...\n",
       "102    \\tאמרת real life וזה מה זה ככה משהו שתפס אותי ...\n",
       "110    &היינו בחברה מעורבת, בני עקיבא, איסור היה  XXX...\n",
       "112    \\tכן היה כן היו XXX XXX  היה בסדר איכשהו כלומר...\n",
       "119    &יחסית היו היה שקט בב(ית) אמא עודדה קצת מלשינו...\n",
       "132    \\tאה הוא ליטף לי את הבטן אבא שלי ליטף לי את הב...\n",
       "134    \\tאהה הייתי מת על אבא שלי, כאילו שהוא עשה לי א...\n",
       "140    \\t[=! נכנס לדברי המטפל] על הקהילה או משהו כזה,...\n",
       "141    \\tאתה מרגיש אולי גם שעצם זה שהלכת לת\"א XXX ברח...\n",
       "143    \\tאז תראה איזה, זה מעניין כי מפורנוגרפיה הגענו...\n",
       "149    &עד שאבא שלי חלה זה היה טוב, כי לילות שישי היו...\n",
       "156    \\tלכמת אולי [=! עם האות 'כ' שנשמעת כמו ח] מלשו...\n",
       "174    \\tשאתה שם? לפני [=! מטופל אומר 'כן'] שאתה הולך...\n",
       "177    \\tאוקיי אז בוא ננסה בשבוע הקרוב, ותנסה אולי תה...\n",
       "184    \\tאבל יצאת מהב(ית) שמת נעלי ספורט יצאת מהבית ו...\n",
       "185    \\tבסדר אני חושב, זה הלכתי בטיילת זה היה בסדר, ...\n",
       "186    \\tהרגשת שאתה מחלץ עצמות ככה מוריד את החלודה? [...\n",
       "190    \\tכן, אז קודם כל זה טוב שאני כבר יותר מודע לעצ...\n",
       "216    \\tקצת חרגנו אבל לא נורא [=! מטופל אומר 'טוב']....\n",
       "Name: text, dtype: object"
      ]
     },
     "metadata": {},
     "output_type": "display_data"
    },
    {
     "name": "stdout",
     "output_type": "stream",
     "text": [
      "catched in doc 46: 6 sentences\n"
     ]
    },
    {
     "data": {
      "text/plain": [
       "19     \\tזה דבר ראשון. דבר שני, טוב, זה משהו שבעצם אה...\n",
       "59     \\tבעצם אתה שואל, מה אנחנו עושים פה יותר, או מה...\n",
       "79     \\tאה, (..) אה, נגיד אני נכנס לנעליים שלך, לצור...\n",
       "87     \\tהייתי שמח להחזיר אותך רגע, אה, להתייחסות הרא...\n",
       "148    \\tאה, (..) אה, דברים דמיוניים, אה, (..) כאילו ...\n",
       "183    \\tאני יכול להבין אבל שהמעמד הזה שהוא מעמד גדול...\n",
       "Name: text, dtype: object"
      ]
     },
     "metadata": {},
     "output_type": "display_data"
    },
    {
     "name": "stdout",
     "output_type": "stream",
     "text": [
      "catched in doc 47: 7 sentences\n"
     ]
    },
    {
     "data": {
      "text/plain": [
       "61     \\tעם י\"י, הוא הומוסקסואל, אתה מפחד, אתה מאוד מ...\n",
       "64     \\tאני מנסה ככה, אתה יודע, אנחנו מדברים פה על ח...\n",
       "71     \\tאה, (..) מקווה, לא, אני XXX זאת אומרת, הרבה ...\n",
       "101    \\tהוא מעביר סמינרים בכל העולם, והוא אה, הוא בע...\n",
       "147    \\tאני אנסה לזכור, אני רציתי, אם עשיתי את זה XX...\n",
       "150    \\t (..) אה, תראה זה בסדר אם ככה לא הצלחת לעשות...\n",
       "156    \\tגם אם אתה מרגיש, אתה בעצם אז אומר שיש יותר ב...\n",
       "Name: text, dtype: object"
      ]
     },
     "metadata": {},
     "output_type": "display_data"
    },
    {
     "name": "stdout",
     "output_type": "stream",
     "text": [
      "catched in doc 48: 14 sentences\n"
     ]
    },
    {
     "data": {
      "text/plain": [
       "14     \\tאנחנו נפגשנו באמת גם, לפני שבוע וחצי פעם קוד...\n",
       "21     \\tנראה לי, [מבחינת ה-] מה שאני שומעת מזה אבל ז...\n",
       "43     \\t[גם לשמוע] אותך אומר על העבודה, מ-מקום שגורם...\n",
       "64     \\t[כי אתה אומר שאז] ברגע שאמרו כמה, גם בתור בא...\n",
       "71     \\tאין לי מושג. שוב, לא אי התאמה, אני לא חושב ש...\n",
       "109    \\tוזה באמת נשמע שיש סיכוי, הגיוני, גם בגלל הגו...\n",
       "132    \\tאי אפשר לדעת אבל, אבל שוב, נראה לי ש, (..) ש...\n",
       "146    \\tאני לא זוכר משהו ספציפי. פשוט אה, שרבנו, שהו...\n",
       "153    \\tאז אתה מכיר את ההרגשה הזאתי [כן]. מהעבר. [כן...\n",
       "159    \\t(..) זה מעניין שאת התחושה הזאת אתה זוכר נורא...\n",
       "161    \\tכי זה משהו שנגיד ידעת להגיד בלי בעיה. שזה תח...\n",
       "167    \\tאתה גם אמרת באמת ש, יש בו משהו כזה מאוד אה, ...\n",
       "213    \\t[ =! נאנח ] למה, אמ. (..) לא יודע אולי צריך ...\n",
       "218    \\tאנחנו באמת אה, אנחנו ככה, צריכים לסיים אבל א...\n",
       "Name: text, dtype: object"
      ]
     },
     "metadata": {},
     "output_type": "display_data"
    },
    {
     "name": "stdout",
     "output_type": "stream",
     "text": [
      "catched in doc 49: 4 sentences\n"
     ]
    },
    {
     "data": {
      "text/plain": [
       "59     \\t (..) זאת אומרת, אני מרגיש שהפגישות האלה אית...\n",
       "73     &יכול להיות שזה היה עילה, אבל אה, (..) אה, (.....\n",
       "108    \\tקשה לך לדבר על זה? [כן] אני רואה שאתה ככה, [...\n",
       "154    \\tאני לא, אני לא מנסה, לפרש אה מה היה או מה לא...\n",
       "Name: text, dtype: object"
      ]
     },
     "metadata": {},
     "output_type": "display_data"
    },
    {
     "name": "stdout",
     "output_type": "stream",
     "text": [
      "catched in doc 50: 14 sentences\n"
     ]
    },
    {
     "data": {
      "text/plain": [
       "9      \\tאוקיי. אמ, זה באמת חשוב שאתה אומר. אמ. בוא ת...\n",
       "13     \\t>אתה באמת סיפרת בפעם הקודמת, אמ, אחרי שבאמת ...\n",
       "37     \\t(..) תראה זה כיוון אחד של הסתכלות [כן] אבל א...\n",
       "95     \\tונניח אמ, אם אתה מדמיין תרחיש שבו לפני שאתם ...\n",
       "97     \\tזה ממש נשמע, כאילו יש איזה ישות שקוראים לה ס...\n",
       "103    \\t>אוקיי, סבבה. אנחנו לא עכשיו אה, באמת אה יכו...\n",
       "111    \\tוהדבר ה- אולי נכון במובן אבסולוטי, זה קצת לה...\n",
       "115    \\tאמ, היה בסדר גמור. כאילו. היה בסדר, אמ, (..)...\n",
       "118    \\tזה גם אמירה יחסית אה, כוללנית. כי אתה אמרת ש...\n",
       "128    \\t>אתה יודע כשאתה מספר את זה, אני, עולה לי איז...\n",
       "132    \\tאוקיי. יופי. האמת, שזה ממש אה, מה שאמרת, זה ...\n",
       "142    \\t(..) בסדר אנחנו יכולים לקחת שניה, [כן] אנחנו...\n",
       "155    \\tאתה גם סיפרת שבשבוע הזה, כאילו בראש היה לך ק...\n",
       "171    \\tאתה יודע אנחנו באמת צריכים לסיים אבל, ככה, א...\n",
       "Name: text, dtype: object"
      ]
     },
     "metadata": {},
     "output_type": "display_data"
    },
    {
     "name": "stdout",
     "output_type": "stream",
     "text": [
      "catched in doc 51: 14 sentences\n"
     ]
    },
    {
     "data": {
      "text/plain": [
       "39     \\tלא שאני, לוקחת עמדה לכאן או לכאן. [כן] אבל א...\n",
       "57     \\tבעצם אתה מספר ש, יש כל מיני זירות בחיים שלך....\n",
       "68     \\t[ואז כשאתה] מחליט לעשות משהו. כמו לדוגמא. מש...\n",
       "83     \\t[ =! נאנח ] איך אני איתו, אה.. בתיאוריה זה א...\n",
       "94     \\tואני חושבת שמה שאתה יכול לעשות כאן, זה, שניה...\n",
       "142    \\t(..) לחכות ל-תוצאות של בדיקות. בטח שבדיקה מל...\n",
       "146    \\tזה איזשהו מצב של אי ידיעה באמת. [כן] ולוקח ז...\n",
       "151    \\tזה נשמע ש, יכול להיות שזה באמת קשה לך להסתכל...\n",
       "153    \\tאבל אתה יודע אתה לא, נ', לא שווה רק הסטרס של...\n",
       "165    \\tזה נשמע לי מאוד הגיוני. מאוד הגיוני לחשוש. א...\n",
       "167    \\tובאמת אבל אפשר להבין את החששות. ככה שיש כל כ...\n",
       "177    \\tכן. [ =! שותה ] (...) זה היה, [ =! נושם נשימ...\n",
       "182    \\tאתה יודע שנה, לפעמים יכולה להרגיש כמו הרבה ז...\n",
       "186    \\tאולי זה מרגיש לך כמו איזשהי סתירה, שאפשר גם ...\n",
       "Name: text, dtype: object"
      ]
     },
     "metadata": {},
     "output_type": "display_data"
    },
    {
     "name": "stdout",
     "output_type": "stream",
     "text": [
      "catched in doc 53: 17 sentences\n"
     ]
    },
    {
     "data": {
      "text/plain": [
       "13     \\tאמ, (..) מה נשמע? [ =! בגיחוך ] אמ, (..) [ =...\n",
       "23     \\t(..) באמת לפני שבוע, אמ, הגעת לפה באיזשהו פי...\n",
       "36     \\t>(..) אתה יודע אתה מספר על – משהו שעצבן אותך...\n",
       "44     \\tאתה יכול לנסות, לדמיין מצב, נניח, אתה יודע א...\n",
       "51     \\tכאילו איבדת את ה- קול שלך בתוך הסיטואציה זה ...\n",
       "57     \\tו, אתה מאוד כועס, ו, מרגישים את זה. וגם אפשר...\n",
       "67     \\t>מה שאתה חושב באמת. [אה?] זה לא בקטע של להרג...\n",
       "68     \\tאמ. (..) אני לא יודע. כאילו, מה זה לא יודע. ...\n",
       "69     \\tאוקיי אבל אתה, ממש עכשיו הגעת לתפקיד הזה. [כ...\n",
       "85     \\tאני מציעה לך, כרגע, לא כל כך לסמוך על התחושה...\n",
       "89     \\t(..) אותי זה ישר לקח ל, איך שאנחנו, דיברנו פ...\n",
       "99     \\t(..) אני רוצה לשאול אותך שאלה. אתה אומר ש, ל...\n",
       "101    \\tאתה לא צריך לענות לי את התשובה ש- [כן מה-ראש...\n",
       "131    \\tיכול להיות שלא, [כן] זו סתם מחשבה שאני זורקת...\n",
       "133    \\tאתה לא נשאר סתם הרי. אתה בחור חכם, עם ראש על...\n",
       "136    \\tואולי קצת יצאת גם, >מהמלחמת קיום שלך שם. שאנ...\n",
       "138    \\tאנחנו, צריכים עכשיו לסיים אבל אה, יש לי הצעה...\n",
       "Name: text, dtype: object"
      ]
     },
     "metadata": {},
     "output_type": "display_data"
    },
    {
     "name": "stdout",
     "output_type": "stream",
     "text": [
      "catched in doc 54: 17 sentences\n"
     ]
    },
    {
     "data": {
      "text/plain": [
       "21     \\tלא, לא יודע לא חשבתי על זה האמת. לא, [כן] כא...\n",
       "34     \\tאמ, אתה יודע בשינה באמת אה, יכול להיות, הרבה...\n",
       "37     \\tיכול להיות שאתמול, בניגוד להיום, זה היה אולי...\n",
       "41     \\tללמוד למבחן, זה כאילו יש איזה משהו באוויר כז...\n",
       "55     \\tתשמע אני באמת שומעת ממך שזה, נראה לי נורא קש...\n",
       "72     \\tעל המצב הנפשי שלנו. אמ, אה זה כמו אה, להטעין...\n",
       "73     \\tכן. אמ.. [ =! נאנח ] (..) אני יודע? לא, לא י...\n",
       "88     \\tאז אתה מספר פה משהו מאוד חשוב. אמ, שאני לא י...\n",
       "99     \\tזה נראה לי באמת מאוד אינדיבידואלי. >אמ. אתה ...\n",
       "129    \\t(...) <אמרת קודם, כבר דיברנו קודם, על התחושה...\n",
       "149    \\tזה אומר שאני כרגע מבואס, [נכון] ולא נוח לי. ...\n",
       "152    \\t[ =! נאנח ] כאילו ה- הלהלחם. בדבר הזה. זתומר...\n",
       "200    \\tברור לי שאתה מודע לזה. אבל אתה יודע, זה מחזי...\n",
       "201    \\tאמ, [ =! נאנח ] (..) אני מבין מה את אומרת, א...\n",
       "211    \\tמי זה האסרטיבי ומי זה הכוח, [נכון] ומי זה ה-...\n",
       "213    \\t>ואתה יודע, בבית, אתה ראית מודל, של מה זה לה...\n",
       "239    \\tטוב האמת ש, אני רואה שאנחנו צריכים לסיים. אב...\n",
       "Name: text, dtype: object"
      ]
     },
     "metadata": {},
     "output_type": "display_data"
    },
    {
     "name": "stdout",
     "output_type": "stream",
     "text": [
      "catched in doc 55: 10 sentences\n"
     ]
    },
    {
     "data": {
      "text/plain": [
       "25     \\t אה, מה זה עושה לי, כאילו אני, מביא עכשיו, ק...\n",
       "29     \\t כן, אני חושב שזה, לפי דעתי זה היה חוזר על ע...\n",
       "39     \\t כן, כמו שאתה משקף אותי, אני לא צריך להתנצל,...\n",
       "74     \\tאבל מה, על מה שאני ככה מנסה להתחבר אליו זה א...\n",
       "90     \\tו, וגם חלל שנפער, זוכר, סיפרת על החלל שנפער,...\n",
       "108    \\tתראה, אנחנו, יש לנו שנה שלמה ואנחנו יכולים ל...\n",
       "117    \\t אה, קצת כן, חסר, אה, יש איזשהו איזון, זאת א...\n",
       "153    \\t (..) אה, (..) אני חושב שאני יותר מסתיר מאשר...\n",
       "173    \\t מפחיד לחשוף? אה, (..) תראה, כן, אני חושב, א...\n",
       "244    \\tאה אוקיי. אז תראה, אם אה, אבל שוב [כן] אל תה...\n",
       "Name: text, dtype: object"
      ]
     },
     "metadata": {},
     "output_type": "display_data"
    },
    {
     "name": "stdout",
     "output_type": "stream",
     "text": [
      "catched in doc 56: 25 sentences\n"
     ]
    },
    {
     "data": {
      "text/plain": [
       "6      &קצת התעצבנתי על חברה שלה כי כאילו, אחותי, הבנ...\n",
       "14     \\t(...)  [=! בוכה] אפילו הייתי עם החברה אחת ש,...\n",
       "16     \\tכאילו כל אחת יש לה את הקטע החברות שלי שאני מ...\n",
       "27     \\tלא שיש לי כסף [THERAPIST:\\tמה יקרה אם XXX [9...\n",
       "50     \\tאז אה, אז הרגשתי כן, כאילו אמרתי, מה אני צרי...\n",
       "55     &יש את החברה שלי א״ה [שם של חברה] שעכשיו כאילו...\n",
       "71     \\tאולי פחד להיפגע (..) לא לחשוף את עצמי כאילו,...\n",
       "89     \\tכן. [XXX 21:13 לוחשת משהו] יודעת [=! מנקה ג...\n",
       "91     \\tעם ש״י נראה לי שהייתי [=! גיחוך] אני אגיד לך...\n",
       "92     \\tכולם באיזשהו שלב שהוא יותר מתקדם ממך וזה מאו...\n",
       "100    \\tשאת כבר, רוצה סוף סוף שיהיה לך מקום [*סאקל:\\...\n",
       "101    \\tשאני כאילו, את יודעת [THERAPIST:\\tדיברנו על ...\n",
       "110    \\tאבל, אבל קודם כל אולי תתני, תתני לעצמך לגיטי...\n",
       "144    \\tלא ממש [=! מצחקקת] (..) לא שזה (..) לא יודע...\n",
       "149    &לא הייתי מאוד אה רגועה איתו והייתי משתפת אותו...\n",
       "191    \\tבמערכת, שיש בה איזשהו אמון בסיסי אין, אין צו...\n",
       "198    \\tאבל אני גם רוצה לישון כל הלילה- כאילו אני רו...\n",
       "200    \\tנכון, זה. בקיצור זה לא מסתדר [=! צחקוק] לא י...\n",
       "202    \\tאז הייתי עם המאהב ככל הנראה, לא יודעת אם היי...\n",
       "208    \\tואז הוא לא מתקשר כל היום ואז עוד פעם אני אוכ...\n",
       "210    \\tאני חושבת שהוא ממש אה ילדותי, ואם כבר כאילו ...\n",
       "246    \\tזה לא היה חד צדדי זה כאילו באמת להעניק לו את...\n",
       "256    \\tזה לא רק זה גם, זו, זה רק מראה שלא משנה מה ת...\n",
       "265    \\tאנחנו עכשיו ראינו שזה לא, [*סאקל: זה לא קשור...\n",
       "266    \\tזה חוסר ביטחון של בן אדם [THERAPIST:\\tנכון] ...\n",
       "Name: text, dtype: object"
      ]
     },
     "metadata": {},
     "output_type": "display_data"
    },
    {
     "name": "stdout",
     "output_type": "stream",
     "text": [
      "catched in doc 57: 19 sentences\n"
     ]
    },
    {
     "data": {
      "text/plain": [
       "24     \\tכאילו הוא אומר לי שזה, שזה כל דבר כאילו מובי...\n",
       "25     \\tאת אומ- הוא בעצם אומר שמשהו הפריע לו ובגלל ז...\n",
       "37     &יום שלישי אחרי הפגישה שלנו, אז הוא בא לאסוף א...\n",
       "49     \\tכן כאילו, כמה אני יכולה לספוג, כאילו, גם, אנ...\n",
       "57     \\tכן. (..) נראה לי שהוא מאוד פגוע, ולא רציתי ל...\n",
       "59     \\tלא, דרך אפלקציות כאלה [THERAPIST:\\tאה אפליקצ...\n",
       "67     \\tוזה הטענה שלי מההתחלה כאילו, מתחילת הקשר, אנ...\n",
       "74     \\tהיה לך חששות בדברים שהם לא קשורים אליך כאילו...\n",
       "94     \\tלא אמרתי לו אבל, בוא נגיד בואי נגיד שהאווירה...\n",
       "100    \\tלא יודעת. אני יודעת שכן, ברור שהוא [THERAPIS...\n",
       "116    \\t[=! בוכה] פשוט בן אדם שהוא, כאילו, נראה לי, ...\n",
       "123    \\tלא יודעת כבר. כאילו הוא לא אמר לי כלום. הוא ...\n",
       "163    \\tאו שאין לו אמון בך או שהוא [*סאקל:\\tהוא חסר ...\n",
       "164    \\tואני אומרת לו כל הזמן, אתה היחידי שאני רוצה,...\n",
       "194    \\tו, ומה עם, מה אפשרי לו? [*סקאל:\\tאי אפשר עם ...\n",
       "199    \\tגברים, אני יודעת, אולי הוא רצה אה סקס, כאילו...\n",
       "201    \\tוהוא עובד ב, במקום כמו ילד בן 16 [=! מנקה גר...\n",
       "254    \\tאז בואי [*סאקל:\\tאני ישלם את זה בראשון ליולי...\n",
       "257    \\tכן לאבא שלי לאמא שלי [=! צוחקת] עוד מעט לאחו...\n",
       "Name: text, dtype: object"
      ]
     },
     "metadata": {},
     "output_type": "display_data"
    },
    {
     "name": "stdout",
     "output_type": "stream",
     "text": [
      "catched in doc 58: 32 sentences\n"
     ]
    },
    {
     "data": {
      "text/plain": [
       "24     \\tובכל אחת מהאופציות גם אם את ממשיכה איתי, גם,...\n",
       "52     \\tועוד לא, כאילו יש לי [=! מנקה גרון] נשאר לי ...\n",
       "56     \\tאין לי משכורת של מאי ו, כן. ויוני יכנס לי רק...\n",
       "58     \\tכן. זה, אני מאוד מקווה שהם לא עשו לי [=! גיח...\n",
       "66     \\tאה כן אולי כזה, כאילו זה עוד 300 שקל ש, את י...\n",
       "68     \\tהעבודה עצמה נורא משעממת [=גיחוך]. ממש משעמם ...\n",
       "118    \\tכן העבודה היא סך הכל כאילו את יודעת, זה קשור...\n",
       "130    \\tכן. כן, XXX [22:45] אומרת את זה לעצמי כאילו,...\n",
       "132    \\tאבל בסדר כאילו, אין מה לעשות זה [=! גיחוך] י...\n",
       "139    \\tאין דבר כזה כאילו זה [=! גיחוך] אין, אולי אנ...\n",
       "141    \\tברור כאילו לא חסר. לעבוד עם ילדים זה משהו שא...\n",
       "143    \\tמה עם ילדים? [THERAPIST: \\tכן] כן. כן. האמת ...\n",
       "159    \\tאין מה לעשות אחרת זה לא עובד אה, ואי אפשר ז-...\n",
       "163    \\tלא יודעת. תלוי איפה. זה תלוי איפה, אם במשרד ...\n",
       "180    \\tכן. חוץ מיום שלישי, היום הוא נגיד הוא היה בח...\n",
       "197    \\tכן. [*סאקל:\\tזה מבאס] שזה משהו שכבר, הפתיע א...\n",
       "198    \\tבאמת. זה כאילו, באמת נראה לי מ, משלושה חוד- ...\n",
       "203    \\tמצטבר אצלך המון תסכול ועצב ובדידות [*סאקל: כ...\n",
       "205    &אתמול בלילה ישנתי אצלו, השארתי את האוטו בהרצל...\n",
       "213    \\tכן אני יודעת אבל משהו בו, כאילו משהו קורה לו...\n",
       "217    \\tכן זה קשה לי כאילו לראות את זה מהצד [=! בוכה...\n",
       "226    \\tלא יודעת, העבודה עצמה, במקום הזה [THERAPIST:...\n",
       "228    \\tכן, זו אוכלוסיית העוב- אין לו ישראלים שם, את...\n",
       "247    \\tאני שואלת את זה כי אני אומרת אם, את הכרת אות...\n",
       "251    \\tהוא יודע למה את זקוקה ממנו ש (..) [*סאקל:\\tש...\n",
       "288    \\tזה לא שאני חוזרת הבייתה, כאילו אני את יודעת,...\n",
       "293    &היום זה פעם ראשונה שעשיתי את זה, דיברתי על זה...\n",
       "316    \\tלא יודעת אם זה עצב [THERAPIST:\\tעם התסכול] ה...\n",
       "346    \\tאני מנסה להכווין אותו וזה אבל הוא לא XXX [58...\n",
       "358    \\tכן. הבעיה אצלי שאני לא מב- אני לא מאמינה בהפ...\n",
       "362    \\tכן. כמו למשל זוגיות בגדול, זוגיות אישה, משפח...\n",
       "369    \\tאולי, אולי באמת, כשאת, כשאת תרגישי שיש משהו ...\n",
       "Name: text, dtype: object"
      ]
     },
     "metadata": {},
     "output_type": "display_data"
    },
    {
     "name": "stdout",
     "output_type": "stream",
     "text": [
      "catched in doc 60: 20 sentences\n"
     ]
    },
    {
     "data": {
      "text/plain": [
       "2           \\t[=! אנחה] הרבה התפתחויות [=! מתחילה לבכות]\n",
       "9                    &אתמול אני וש״י [שם בן זוגה[נ פרדנו\n",
       "19     \\tעד הלילה, כאילו עד איזה 10. אז כאילו אמרתי ל...\n",
       "27     \\tכן תקשיבי כאילו באמת שתקתי הרבה [5:39, לא ב...\n",
       "28     \\tזה גם, בחג. זה חופש, וכולם יוצאים [*סאקל:\\tכ...\n",
       "30     &רציתי ללכת איתו איזה יום אחד עם חברים שלי ל, ...\n",
       "36     \\tאין לי מושג לא יודעת מה עובר עליו. כאילו מש...\n",
       "40     \\tהלכתי הבייתה ו, כאילו ב4 וחצי הוא התקשר אלי,...\n",
       "50     \\tוככה אתמול כאילו אני לא ידעתי בכלל אה. לא רו...\n",
       "67     \\t וזה זה [CLIENT:\\tאני הייתי בשוק] את לא יכול...\n",
       "72     \\tלהסבר, להגיד לי מה אתה חושב. לא יודעת כאילו,...\n",
       "76     \\tתשתף אותי ברגשות שלך תגיד לי כאילו, לא יודע,...\n",
       "89     \\tזה זה בהחלט, זה סיבה, זה, אם משהו כזה קורה א...\n",
       "91     &פעם אחרת שקרה בנינו משהו (..) כאילו התווכחנו ...\n",
       "94     &יכול להיות שהיו מקרים באמת בעבר הוא כבר, כאיל...\n",
       "111    \\tנראה לך, כאילו הרגשת שה (..) שהשעות שלכם של ...\n",
       "141    \\tוהיה קרבה ואת, והיה אמון. ו, וכמה, כמה תקוות...\n",
       "163    \\t אני אומרת שזה מאוד מאוד מתקבל על הדעת ש(..)...\n",
       "164    \\tקמתי לעבודה עייפה ואני מתעסקת עם כסף ואני צר...\n",
       "235    \\tגם אפשר. אמ, אני גם רוצה להציע שוב, לומר לך,...\n",
       "Name: text, dtype: object"
      ]
     },
     "metadata": {},
     "output_type": "display_data"
    },
    {
     "name": "stdout",
     "output_type": "stream",
     "text": [
      "catched in doc 61: 15 sentences\n"
     ]
    },
    {
     "data": {
      "text/plain": [
       "68     \\tאה ובתקופה של ההדרכה שעשו לנו כדי להדריך אות...\n",
       "127    \\tבאמת (...) לא יודעת אני אומרת עכשיו להיות ככ...\n",
       "136    \\tכי היא כאילו מבחינתה לא לאכול כלום כל היום א...\n",
       "165           \\tXXX [22:47] טוב עם ש״י [שמו של בן זוגה] \n",
       "168    \\tהוא אומר לי עוד מעט עוד מעט. כאילו, אמרתי לו...\n",
       "202    &רציתי ללכת ללמוד אה, את יודעת, בישול ודברים כ...\n",
       "204    \\tויכולתי לתת יותר אם לא היה לא הייתי עובדת ב ...\n",
       "233    \\tכן כי אילו גם, גם בזמן התואר כאילו הייתי צרי...\n",
       "240    &גם חברות שלי עבדו כאילו גם כשההורים שלהם את י...\n",
       "310    \\tאה (...) לא יודעת כזה, את מפחדת ש, למות בגיל...\n",
       "323    \\tכן. וכשהם כרתו אז הם הורידו לה נראה לי איזה ...\n",
       "359    \\tוהוא באמת כאילו יש לו גם אה נכס עם אח שלו וכ...\n",
       "392    &הרבה דאגות, לא ישנה בלילה, כן הרבה. פחדתי, כן...\n",
       "402    \\tממ נכון. אמרתי עכשיו אולי לפחות יהיה לי איזה...\n",
       "421    \\tו.. ויש את כל האי וודאות XXX [53:47 סאקל מדב...\n",
       "Name: text, dtype: object"
      ]
     },
     "metadata": {},
     "output_type": "display_data"
    },
    {
     "name": "stdout",
     "output_type": "stream",
     "text": [
      "catched in doc 62: 15 sentences\n"
     ]
    },
    {
     "data": {
      "text/plain": [
       "18     \\tיכול להיות שיש בנות כאלה אני בספק כי בחורה ש...\n",
       "26     \\tכן אה זה כל הקטע שהפמיניסטיות אמרו שכאילו, י...\n",
       "34     \\tלא שווה כן, ממש את  [*סאקל:\\tלא שווה כן]אומר...\n",
       "47     \\t(..) לא לא יודעת, אני האמת כאילו לא כעסתי על...\n",
       "54     \\t[*סאקל:\\tוהוא יהיה] כדי כדי לוודא ש(..)שהחלק...\n",
       "82     \\tהאמת שהייתי בטוחה שהוא כאילו ינסה יותר שהוא ...\n",
       "86     \\tכן. לא הוא ניסה אבל  [=! צוחקת] [THERAPIST:\\...\n",
       "88     \\tובכיתי נורא. אה (..) וכאילו אנשים לא יודעים ...\n",
       "92     \\t[=! משתעלת] והמשיכה היא לא הייתה ח- כאילו את...\n",
       "94     \\t[=! נשיפה] לא יודעת אני. אני מאוד אוהבת אותו...\n",
       "116    \\tשהוא באמת מבין, והוא. שזה משהו שאולי מבחור ש...\n",
       "120    \\tאין אה, שלמות. אין אה [=! אנחה] כל הזמן אומר...\n",
       "184    \\tשאת כאילו באמת עושה משהו, לא מקבלת על זה כסף...\n",
       "219    \\tכן. (..) אז כאילו הסתובבתי עם אנשים, בגלל שא...\n",
       "250    \\tכאילו, באיזשהו מקום הרגשתי שאני רוצה לעשות ה...\n",
       "Name: text, dtype: object"
      ]
     },
     "metadata": {},
     "output_type": "display_data"
    }
   ],
   "source": [
    "for i in range (1,len(doc_db.index)):\n",
    "    block_db = pd.read_csv(os.path.join(os.getcwd(),defines.PATH_TO_DFS,\"{:02d}_block_db.csv\".format(i)),usecols=['text'])\n",
    "    catched = block_db['text'].str.contains(r'\\[.*?[^\\[]\\[')\n",
    "#     §([^§]*)§\n",
    "    if sum(catched) > 0:\n",
    "        print (\"catched in doc {}: {} sentences\".format(i,sum(catched)))\n",
    "        display(block_db[catched]['text'])\n",
    "    del block_db"
   ]
  },
  {
   "cell_type": "markdown",
   "id": "09bd66ab",
   "metadata": {},
   "source": [
    "### Check for missing the tag"
   ]
  },
  {
   "cell_type": "code",
   "execution_count": 68,
   "id": "5673d7e4",
   "metadata": {},
   "outputs": [],
   "source": [
    "for i in range (1,len(doc_db.index)):\n",
    "    block_db = pd.read_csv(os.path.join(os.getcwd(),defines.PATH_TO_DFS,\"{:02d}_block_db.csv\".format(i)),usecols=['par_type','text'])\n",
    "    catched = block_db['par_type'].str.contains(\"client|therapist\")\n",
    "    if sum(~catched) > 0:\n",
    "        print (\"catched in doc {}: {} sentences\".format(i,sum(~catched)))\n",
    "        display(block_db[~catched])\n",
    "        doc_to_fix.append(i)\n",
    "    del block_db"
   ]
  },
  {
   "cell_type": "markdown",
   "id": "a22db4b1",
   "metadata": {},
   "source": [
    "### Check for tab/enter"
   ]
  },
  {
   "cell_type": "code",
   "execution_count": 69,
   "id": "22c7e1c3",
   "metadata": {},
   "outputs": [],
   "source": [
    "for i in range (1,len(doc_db.index)):\n",
    "    sent_db = pd.read_csv(os.path.join(os.getcwd(),defines.PATH_TO_DFS,\"{:02d}_sent_db.csv\".format(i)),usecols=['text'])\n",
    "    catched = sent_db['text'].str.contains(\"\\t|\\n\")\n",
    "    if sum(catched) > 0:\n",
    "        print (\"catched in doc {}: {} sentences\".format(i,sum(catched)))\n",
    "        display(sent_db[catched]['text'].tolist())\n",
    "    del sent_db"
   ]
  },
  {
   "cell_type": "markdown",
   "id": "6a36139b",
   "metadata": {},
   "source": [
    "### Checking narratives"
   ]
  },
  {
   "cell_type": "code",
   "execution_count": 70,
   "id": "06dc01f1",
   "metadata": {},
   "outputs": [
    {
     "data": {
      "text/html": [
       "<div>\n",
       "<style scoped>\n",
       "    .dataframe tbody tr th:only-of-type {\n",
       "        vertical-align: middle;\n",
       "    }\n",
       "\n",
       "    .dataframe tbody tr th {\n",
       "        vertical-align: top;\n",
       "    }\n",
       "\n",
       "    .dataframe thead th {\n",
       "        text-align: right;\n",
       "    }\n",
       "</style>\n",
       "<table border=\"1\" class=\"dataframe\">\n",
       "  <thead>\n",
       "    <tr style=\"text-align: right;\">\n",
       "      <th></th>\n",
       "      <th>nar_idx</th>\n",
       "      <th>text</th>\n",
       "    </tr>\n",
       "  </thead>\n",
       "  <tbody>\n",
       "    <tr>\n",
       "      <th>0</th>\n",
       "      <td>1.000000</td>\n",
       "      <td>אז ביום שישי אני פגשתי את הבחור הזה שעוזר לי ע...</td>\n",
       "    </tr>\n",
       "    <tr>\n",
       "      <th>1</th>\n",
       "      <td>2.000000</td>\n",
       "      <td>אני יודעת בדיוק מתי זה התחיל הקטע הזה. הקטע הז...</td>\n",
       "    </tr>\n",
       "    <tr>\n",
       "      <th>2</th>\n",
       "      <td>3.000000</td>\n",
       "      <td>כי נגיד שהעבירו את התיק שלי מהקיבוץ לקופת חולי...</td>\n",
       "    </tr>\n",
       "    <tr>\n",
       "      <th>3</th>\n",
       "      <td>4.000000</td>\n",
       "      <td>נגיד אתמול הייתי קצתעייפה וזה אז לא עבדתי בפול...</td>\n",
       "    </tr>\n",
       "    <tr>\n",
       "      <th>4</th>\n",
       "      <td>5.000000</td>\n",
       "      <td>מצד שני נגיד כשטיילתי בחול כזה XXX כזה וזה אז ...</td>\n",
       "    </tr>\n",
       "    <tr>\n",
       "      <th>5</th>\n",
       "      <td>6.000000</td>\n",
       "      <td>באמת עד הסרטן אני נראיתי צעירה. אז ככה הזדקנתי...</td>\n",
       "    </tr>\n",
       "    <tr>\n",
       "      <th>6</th>\n",
       "      <td>7.000000</td>\n",
       "      <td>אני עבדתי בקיבוץ איפה שמקבלים את ה. בגדים מהמכ...</td>\n",
       "    </tr>\n",
       "  </tbody>\n",
       "</table>\n",
       "</div>"
      ],
      "text/plain": [
       "   nar_idx                                               text\n",
       "0 1.000000  אז ביום שישי אני פגשתי את הבחור הזה שעוזר לי ע...\n",
       "1 2.000000  אני יודעת בדיוק מתי זה התחיל הקטע הזה. הקטע הז...\n",
       "2 3.000000  כי נגיד שהעבירו את התיק שלי מהקיבוץ לקופת חולי...\n",
       "3 4.000000  נגיד אתמול הייתי קצתעייפה וזה אז לא עבדתי בפול...\n",
       "4 5.000000  מצד שני נגיד כשטיילתי בחול כזה XXX כזה וזה אז ...\n",
       "5 6.000000  באמת עד הסרטן אני נראיתי צעירה. אז ככה הזדקנתי...\n",
       "6 7.000000  אני עבדתי בקיבוץ איפה שמקבלים את ה. בגדים מהמכ..."
      ]
     },
     "execution_count": 70,
     "metadata": {},
     "output_type": "execute_result"
    }
   ],
   "source": [
    "i=25\n",
    "sent_db = pd.read_csv(os.path.join(os.getcwd(),defines.PATH_TO_DFS,\"{:02d}_sent_db.csv\".format(i)))\n",
    "nar = sent_db.query(\"is_nar ==1\").groupby('nar_idx')['text'].apply('. '.join).reset_index()\n",
    "nar"
   ]
  },
  {
   "cell_type": "markdown",
   "id": "86e6258d",
   "metadata": {},
   "source": [
    "### Check presence of narratives "
   ]
  },
  {
   "cell_type": "code",
   "execution_count": 71,
   "id": "611c05a7",
   "metadata": {},
   "outputs": [
    {
     "name": "stdout",
     "output_type": "stream",
     "text": [
      "Doc 1 has [270.] sentensec that are narratives\n",
      "Doc 2 has [100.] sentensec that are narratives\n",
      "Doc 3 has [131.] sentensec that are narratives\n",
      "Doc 4 has [200.] sentensec that are narratives\n",
      "Doc 5 has [299.] sentensec that are narratives\n",
      "Doc 6 has [242.] sentensec that are narratives\n",
      "Doc 7 has [220.] sentensec that are narratives\n",
      "Doc 8 has [106.] sentensec that are narratives\n",
      "Doc 9 has [299.] sentensec that are narratives\n",
      "Doc 10 has [108.] sentensec that are narratives\n",
      "Doc 11 has [377.] sentensec that are narratives\n",
      "Doc 12 has [331.] sentensec that are narratives\n",
      "Doc 13 has [397.] sentensec that are narratives\n",
      "Doc 14 has [98.] sentensec that are narratives\n",
      "Doc 15 has [30.] sentensec that are narratives\n",
      "Doc 16 has [179.] sentensec that are narratives\n",
      "Doc 17 has [454.] sentensec that are narratives\n",
      "Doc 18 has [56.] sentensec that are narratives\n",
      "Doc 19 has [30.] sentensec that are narratives\n",
      "Doc 20 has [145.] sentensec that are narratives\n",
      "Doc 21 has [378.] sentensec that are narratives\n",
      "Doc 22 has [163.] sentensec that are narratives\n",
      "Doc 23 has [101.] sentensec that are narratives\n",
      "Doc 24 has [203.] sentensec that are narratives\n",
      "Doc 25 has [59.] sentensec that are narratives\n",
      "Doc 26 has [258.] sentensec that are narratives\n",
      "Doc 27 has [150.] sentensec that are narratives\n",
      "Doc 28 has [239.] sentensec that are narratives\n",
      "Doc 29 has [293.] sentensec that are narratives\n",
      "Doc 30 has [105.] sentensec that are narratives\n",
      "Doc 31 has [205.] sentensec that are narratives\n",
      "Doc 32 has [101.] sentensec that are narratives\n",
      "Doc 33 has [170.] sentensec that are narratives\n",
      "Doc 34 has [86.] sentensec that are narratives\n",
      "Doc 35 has [207.] sentensec that are narratives\n",
      "Doc 36 has [51.] sentensec that are narratives\n",
      "Doc 37 has [6.] sentensec that are narratives\n",
      "Doc 38 has [48.] sentensec that are narratives\n",
      "Doc 39 has [14.] sentensec that are narratives\n",
      "Doc 40 has [44.] sentensec that are narratives\n",
      "Doc 41 has [21.] sentensec that are narratives\n",
      "Doc 42 has [8.] sentensec that are narratives\n",
      "Doc 43 has [71.] sentensec that are narratives\n",
      "Doc 44 has [204.] sentensec that are narratives\n",
      "Doc 45 has [49.] sentensec that are narratives\n",
      "Doc 46 has [52.] sentensec that are narratives\n",
      "Doc 47 has [81.] sentensec that are narratives\n",
      "Doc 48 has [204.] sentensec that are narratives\n",
      "Doc 49 has [108.] sentensec that are narratives\n",
      "Doc 50 has [101.] sentensec that are narratives\n",
      "Doc 51 has [166.] sentensec that are narratives\n",
      "Doc 52 has [254.] sentensec that are narratives\n",
      "Doc 53 has [43.] sentensec that are narratives\n",
      "Doc 54 has [63.] sentensec that are narratives\n",
      "Doc 55 has [1.] sentensec that are narratives\n",
      "Doc 56 has [92.] sentensec that are narratives\n",
      "Doc 57 has [117.] sentensec that are narratives\n",
      "Doc 58 has [114.] sentensec that are narratives\n",
      "Doc 59 has [179.] sentensec that are narratives\n",
      "Doc 60 has [155.] sentensec that are narratives\n",
      "Doc 61 has [152.] sentensec that are narratives\n",
      "Doc 62 has [124.] sentensec that are narratives\n"
     ]
    }
   ],
   "source": [
    "for i in range (1,len(doc_db.index)):\n",
    "    sent_db = pd.read_csv(os.path.join(os.getcwd(),defines.PATH_TO_DFS,\"{:02d}_sent_db.csv\".format(i)),usecols=['is_nar'])\n",
    "    catched = sent_db[sent_db['is_nar'] == 1].sum()\n",
    "    print(\"Doc {} has {} sentensec that are narratives\".format(i,catched.values))\n"
   ]
  },
  {
   "cell_type": "code",
   "execution_count": 10,
   "id": "cf8abce7",
   "metadata": {},
   "outputs": [
    {
     "name": "stdout",
     "output_type": "stream",
     "text": [
      "Doc 1 has text    \\tאז היום אנחנו נפגשים פה ב18, אבל שבוע הבא בח...\n",
      "dtype: object paragraphs with\n",
      "Doc 2 has text    \\tקודם כל תודה על הגמישות\\tבסדר זה.. אני יכול ...\n",
      "dtype: object paragraphs with\n",
      "Doc 3 has text     יכול להיות שזה בסוף המטלה הזאת?.. כאילו זה הי...\n",
      "dtype: object paragraphs with\n",
      "Doc 4 has text    \\tטוב, אהלן נ'\\tהיי, מה העניינים?\\tבסדר. מה של...\n",
      "dtype: object paragraphs with\n",
      "Doc 5 has text    \\t מה שלומך? XXX אתה? מה חדש?\\tאהה, וואו, הרבה...\n",
      "dtype: object paragraphs with\n",
      "Doc 6 has text    \\tהיי\\tמה עניינים?\\tמה נשמע?\\tבסדר\\tתתחדש על ה...\n",
      "dtype: object paragraphs with\n",
      "Doc 7 has text    \\t.. הפקקים\\tהתחלת לעבוד?\\tכן\\tיופי\\tיום שלישי...\n",
      "dtype: object paragraphs with\n",
      "Doc 8 has text    \\tXXX ממש.. [XXX]\\t מה נשמע?\\tאני קצת..הצטננתי...\n",
      "dtype: object paragraphs with\n",
      "Doc 9 has text    *\\t מה שלומך? XXX אתה? מה חדש?*\\tאהה, וואו, הר...\n",
      "dtype: object paragraphs with\n",
      "Doc 10 has text    \\tלך יש בסיום הפגישה מטלה שלוקחת בין 3 ל5 דקות...\n",
      "dtype: object paragraphs with\n",
      "Doc 11 has text    \\tתודה רבה קודם על ה.. גמישות בשעות\\tבסדר גמור...\n",
      "dtype: object paragraphs with\n",
      "Doc 12 has text    \\tאתה זוכר את החדר הזה? היינו פה, אתה זוכר?\\tא...\n",
      "dtype: object paragraphs with\n",
      "Doc 13 has text    \\tאם המזגן קר מידי\\tלא, זה מעולה.. XXX\\tהמזגני...\n",
      "dtype: object paragraphs with\n",
      "Doc 14 has text    \\tלא צריך מזגן, נכון?\\tלא משנה לי\\tאם יהיה לך ...\n",
      "dtype: object paragraphs with\n",
      "Doc 15 has text    \\tכן, שבוע כזה חם.. \\t כן.. באופנוע  אני מרגיש...\n",
      "dtype: object paragraphs with\n",
      "Doc 16 has text    \\tאז מה שלומך? \\tברוך השם. (...) [=!צוחק] \\tמה...\n",
      "dtype: object paragraphs with\n",
      "Doc 17 has text     \\tאיזה חום\\tנסיים היום בזמן כדי שלא נהיה\\tכן\\...\n",
      "dtype: object paragraphs with\n",
      "Doc 18 has text    \\tמה שלומך?\\t סטנדרטי \\t [=! צוחקת] \\t יכול לה...\n",
      "dtype: object paragraphs with\n",
      "Doc 19 has text    \\tבוקר טוב.\\tבוקר טוב, מה נשמע? הכל בסדר?\\tתתח...\n",
      "dtype: object paragraphs with\n",
      "Doc 20 has text    \\t היום, XXX מבטיח [XXX טוב] אז תראי. זה בעיקר...\n",
      "dtype: object paragraphs with\n",
      "Doc 21 has text    \\tאתה רוצה ש, נסגור את המזגן?\\tאה, יש דרך ל- כ...\n",
      "dtype: object paragraphs with\n",
      "Doc 22 has text    \\tXXX  מהר, אני לא יודעת \\t הוו אהה [=!צוחקות]...\n",
      "dtype: object paragraphs with\n",
      "Doc 23 has text    \\tמה נשמע? \\t&עכשיו יותר טוב, הסוף שבוע היה.. ...\n",
      "dtype: object paragraphs with\n",
      "Doc 24 has text    \\tהיי\\tהיי\\t(..) להכנס או להשאר בחוץ ותקראי לי...\n",
      "dtype: object paragraphs with\n",
      "Doc 25 has text    \\t וואו [=!צוחקת]\\tאני כל פעם עושה את זה.. [2 ...\n",
      "dtype: object paragraphs with\n",
      "Doc 26 has text    \\t&ההגעה לפה בשעות של הבוקר, הזכירה לי את העבו...\n",
      "dtype: object paragraphs with\n",
      "Doc 27 has text    \\tהבאתי את הדבר הזה ששכחתי XXX פעם קודמת [XXX]...\n",
      "dtype: object paragraphs with\n",
      "Doc 28 has text    \\t אהלן\\tהסתפרת?\\t כן XXX\\tXXX\\tXXX זה יפה \\tכ...\n",
      "dtype: object paragraphs with\n",
      "Doc 29 has text    \\tיש כאן שני חלקים, אחד כאילו נשאר אצלי וזה XX...\n",
      "dtype: object paragraphs with\n",
      "Doc 30 has text    \\tXXX ממש.. [XXX]\\t מה נשמע?\\tאני קצת..הצטננתי...\n",
      "dtype: object paragraphs with\n",
      "Doc 31 has text    \\t&אני מרגיש ממש מיואש. השבוע היה לי.. אחד השב...\n",
      "dtype: object paragraphs with\n",
      "Doc 32 has text    \\tשאלת אותי ככה בפגישה הקודמת.. ↓אוי השארתי את...\n",
      "dtype: object paragraphs with\n",
      "Doc 33 has text    \\t[3:30] רגע, רק לראות שזה XXX [XXX]. למרות שא...\n",
      "dtype: object paragraphs with\n",
      "Doc 34 has text    \\t אהה.. רציתי לפתוח את מה שקרה פה שבוע שעבר, ...\n",
      "dtype: object paragraphs with\n",
      "Doc 35 has text    \\t XXX\\tלא, לא.רק המעברים האלה מה-... XXX\\t מה...\n",
      "dtype: object paragraphs with\n",
      "Doc 36 has text    \\tשלום. \\t מה המצב?\\t [=! צוחקת] אממ, קודם כל ...\n",
      "dtype: object paragraphs with\n",
      "Doc 37 has text     \\tXXX\\tמסתבר שיש לכם כניסה בנפרד. \\tאה, אוקיי...\n",
      "dtype: object paragraphs with\n",
      "Doc 38 has text    \\tמצטער על ה, XXX \\t[=! צוחקת] XXX ,\\tXXX כל כ...\n",
      "dtype: object paragraphs with\n",
      "Doc 39 has text    \\tאני רוצה שנעבור לפה XXX [=! צוחקת]\\t [=! צוח...\n",
      "dtype: object paragraphs with\n",
      "Doc 40 has text    \\tהיי, XXX XXX איזה קומה, בכלל, XXX XXX\\tXXX\\t...\n",
      "dtype: object paragraphs with\n",
      "Doc 41 has text    \\tהיי, מה נשמע?\\tXXX בעיה\\tXXX\\tאהלן\\tהיי, מה ...\n",
      "dtype: object paragraphs with\n",
      "Doc 42 has text    \\tשלום,\\tאהלן, XXX\\tבסדר, מה שלומך?\\tאיזה את ר...\n",
      "dtype: object paragraphs with\n",
      "Doc 43 has text    \\tהיי, שלום.\\tהיי, מה העניינים?\\tבסדר, מה שלומ...\n",
      "dtype: object paragraphs with\n",
      "Doc 44 has text    \\tמזל טוב!\\tתודה, תודה, [ =! צוחק ] \\tאה, טוב ...\n",
      "dtype: object paragraphs with\n",
      "Doc 45 has text    \\tבוקר טוב.\\tבוקר טוב, מה שלומך?\\tבסדר, מה שלו...\n",
      "dtype: object paragraphs with\n",
      "Doc 46 has text    \\tXXX\\tבסדר, מה שלומך?\\tבסדר. (..) אה אתה יודע...\n",
      "dtype: object paragraphs with\n",
      "Doc 47 has text    \\tקירבתי,\\tאוקיי.\\tהבאתי את השאלון אבל לא מילא...\n",
      "dtype: object paragraphs with\n",
      "Doc 48 has text    \\tאהלן היי,\\tמה קורה?\\tבסדר. אנחנו בחדר הזה הי...\n",
      "dtype: object paragraphs with\n",
      "Doc 49 has text    \\tמה שלומך?\\tבסדר. מה XXX?\\tבסדר, בסדר גמור. א...\n",
      "dtype: object paragraphs with\n",
      "Doc 50 has text    \\tשלום,\\tהיי. מה קורה.\\tבסדר גמור מה שלומך.\\tא...\n",
      "dtype: object paragraphs with\n",
      "Doc 51 has text    \\tאותך חיפשתי.\\tאה,\\tאה.\\tמה קורה?\\tבסדר גמור,...\n",
      "dtype: object paragraphs with\n",
      "Doc 52 has text    \\tהקלטת את זה?\\tאת זה לא.\\tלא, את זה לא, בסדר....\n",
      "dtype: object paragraphs with\n",
      "Doc 53 has text    \\tפשוט אה, &הנהג אה נכנס באיזה – חונה בכלל.<\\t...\n",
      "dtype: object paragraphs with\n",
      "Doc 54 has text    \\tהיי\\tהיי\\tהיי מה קורה?\\tXXXX מה שלומך?\\tבסדר...\n",
      "dtype: object paragraphs with\n",
      "Doc 55 has text    \\t יש לך את השירות הזה בחו\"ל על המחשב בXXX?\\tמ...\n",
      "dtype: object paragraphs with\n",
      "Doc 56 has text    \\tאז מה שלומך?\\tבסדר. ככה ככה. (...)  ביום חמי...\n",
      "dtype: object paragraphs with\n",
      "Doc 57 has text    \\t[=! בבכי] אני כבר לא יכולה כל יום אני בוכה. ...\n",
      "dtype: object paragraphs with\n",
      "Doc 58 has text    \\tהדבר הבא שרציתי לשאול אותך אם את יודעת שאנחנ...\n",
      "dtype: object paragraphs with\n",
      "Doc 59 has text     חייבת להגיד שאחרי שיצאתי מפה פעם שעברה מהמ. ק...\n",
      "dtype: object paragraphs with\n",
      "Doc 60 has text    \\tאיך היה החג?\\t (..) אצלי היה מצוין. מה שלומך...\n",
      "dtype: object paragraphs with\n",
      "Doc 61 has text    \\tבסדר. אנחנו מוכנים.\\tמה מה קורה עם ה XXX אני...\n",
      "dtype: object paragraphs with\n",
      "Doc 62 has text    \\tאז אה כל שבוע כאילו עושים משהו אחר ו, נחמד א...\n",
      "dtype: object paragraphs with\n"
     ]
    }
   ],
   "source": [
    "for i in range (1,len(doc_db.index)):\n",
    "    par_db = pd.read_csv(os.path.join(os.getcwd(),defines.PATH_TO_DFS,\"{:02d}_par_db.csv\".format(i)),usecols=['text'])\n",
    "    pattern = \"..|...\"\n",
    "    catched = par_db[par_db['text'].str.contains(pattern)]\n",
    "    print(\"Doc {} has {} paragraphs with\".format(i,catched.sum()))"
   ]
  },
  {
   "cell_type": "code",
   "execution_count": null,
   "id": "f094c147",
   "metadata": {},
   "outputs": [],
   "source": []
  },
  {
   "cell_type": "code",
   "execution_count": 40,
   "id": "fa753628",
   "metadata": {},
   "outputs": [
    {
     "name": "stdout",
     "output_type": "stream",
     "text": [
      "Doc 1 has mean 3.05 paragraphs length\n",
      "Doc 2 has mean 5.39 paragraphs length\n",
      "Doc 3 has mean 6.46 paragraphs length\n",
      "Doc 4 has mean 4.23 paragraphs length\n",
      "Doc 5 has mean 9.50 paragraphs length\n",
      "Doc 6 has mean 2.44 paragraphs length\n",
      "Doc 7 has mean 1.99 paragraphs length\n",
      "Doc 8 has mean 6.10 paragraphs length\n",
      "Doc 9 has mean 9.50 paragraphs length\n",
      "Doc 10 has mean 3.42 paragraphs length\n",
      "Doc 11 has mean 8.31 paragraphs length\n",
      "Doc 12 has mean 6.04 paragraphs length\n",
      "Doc 13 has mean 10.14 paragraphs length\n",
      "Doc 14 has mean 6.41 paragraphs length\n",
      "Doc 15 has mean 6.89 paragraphs length\n",
      "Doc 16 has mean 4.27 paragraphs length\n",
      "Doc 17 has mean 1.94 paragraphs length\n",
      "Doc 18 has mean 2.37 paragraphs length\n",
      "Doc 19 has mean 1.41 paragraphs length\n",
      "Doc 20 has mean 5.14 paragraphs length\n",
      "Doc 21 has mean 6.16 paragraphs length\n",
      "Doc 22 has mean 5.83 paragraphs length\n",
      "Doc 23 has mean 6.68 paragraphs length\n",
      "Doc 24 has mean 3.86 paragraphs length\n",
      "Doc 25 has mean 4.89 paragraphs length\n",
      "Doc 26 has mean 4.55 paragraphs length\n",
      "Doc 27 has mean 6.42 paragraphs length\n",
      "Doc 28 has mean 3.93 paragraphs length\n",
      "Doc 29 has mean 5.51 paragraphs length\n",
      "Doc 30 has mean 6.07 paragraphs length\n",
      "Doc 31 has mean 5.39 paragraphs length\n",
      "Doc 32 has mean 6.95 paragraphs length\n",
      "Doc 33 has mean 5.97 paragraphs length\n",
      "Doc 34 has mean 9.49 paragraphs length\n",
      "Doc 35 has mean 8.25 paragraphs length\n",
      "Doc 36 has mean 1.98 paragraphs length\n",
      "Doc 37 has mean 1.92 paragraphs length\n",
      "Doc 38 has mean 1.91 paragraphs length\n",
      "Doc 39 has mean 1.59 paragraphs length\n",
      "Doc 40 has mean 1.60 paragraphs length\n",
      "Doc 41 has mean 1.64 paragraphs length\n",
      "Doc 42 has mean 1.58 paragraphs length\n",
      "Doc 43 has mean 2.23 paragraphs length\n",
      "Doc 44 has mean 2.94 paragraphs length\n",
      "Doc 45 has mean 1.20 paragraphs length\n",
      "Doc 46 has mean 1.49 paragraphs length\n",
      "Doc 47 has mean 1.37 paragraphs length\n",
      "Doc 48 has mean 2.82 paragraphs length\n",
      "Doc 49 has mean 1.68 paragraphs length\n",
      "Doc 50 has mean 3.11 paragraphs length\n",
      "Doc 51 has mean 3.03 paragraphs length\n",
      "Doc 52 has mean 2.50 paragraphs length\n",
      "Doc 53 has mean 3.27 paragraphs length\n",
      "Doc 54 has mean 2.78 paragraphs length\n",
      "Doc 55 has mean 1.58 paragraphs length\n",
      "Doc 56 has mean 2.18 paragraphs length\n",
      "Doc 57 has mean 1.81 paragraphs length\n",
      "Doc 58 has mean 1.71 paragraphs length\n",
      "Doc 59 has mean 1.98 paragraphs length\n",
      "Doc 60 has mean 1.95 paragraphs length\n",
      "Doc 61 has mean 1.69 paragraphs length\n",
      "Doc 62 has mean 1.84 paragraphs length\n",
      "Doc 63 has mean 1.82 paragraphs length\n"
     ]
    }
   ],
   "source": [
    "par_db_size = pd.Series(dtype=float)\n",
    "for i in range (1,len(doc_db.index)+1):\n",
    "    sent_db = pd.read_csv(os.path.join(os.getcwd(),defines.PATH_TO_DFS,\"{:02d}_sent_db.csv\".format(i)))\n",
    "    par_db_size = pd.concat([par_db_size,sent_db.groupby(\"par_idx_in_doc\").size()],ignore_index=True)\n",
    "    print(\"Doc {} has mean {:.2f} paragraphs length\".format(i,sent_db.groupby(\"par_idx_in_doc\").size().mean()))"
   ]
  },
  {
   "cell_type": "code",
   "execution_count": 42,
   "id": "aa151d24",
   "metadata": {},
   "outputs": [
    {
     "data": {
      "text/plain": [
       "[(1.0, 20.0)]"
      ]
     },
     "execution_count": 42,
     "metadata": {},
     "output_type": "execute_result"
    },
    {
     "data": {
      "image/png": "[encoded data removed]",
      "text/plain": [
       "<Figure size 432x288 with 1 Axes>"
      ]
     },
     "metadata": {
      "needs_background": "light"
     },
     "output_type": "display_data"
    }
   ],
   "source": [
    "import seaborn as sns\n",
    "plt = par_db_size.hist(bins=40)\n",
    "plt.set(xlim=(1,20))"
   ]
  },
  {
   "cell_type": "code",
   "execution_count": 39,
   "id": "3be92c43",
   "metadata": {},
   "outputs": [
    {
     "data": {
      "text/plain": [
       "count   10173.000000\n",
       "mean        3.205937\n",
       "std         5.612938\n",
       "min         1.000000\n",
       "25%         1.000000\n",
       "50%         1.000000\n",
       "75%         3.000000\n",
       "max       119.000000\n",
       "dtype: float64"
      ]
     },
     "execution_count": 39,
     "metadata": {},
     "output_type": "execute_result"
    }
   ],
   "source": [
    "par_db_size.describe()"
   ]
  },
  {
   "cell_type": "code",
   "execution_count": 14,
   "id": "4cc81433",
   "metadata": {},
   "outputs": [
    {
     "data": {
      "text/plain": [
       "par_idx_in_doc\n",
       "0.000000      2\n",
       "1.000000      1\n",
       "2.000000      1\n",
       "3.000000      1\n",
       "4.000000      1\n",
       "             ..\n",
       "245.000000    2\n",
       "246.000000    2\n",
       "247.000000    1\n",
       "248.000000    1\n",
       "249.000000    1\n",
       "Length: 250, dtype: int64"
      ]
     },
     "execution_count": 14,
     "metadata": {},
     "output_type": "execute_result"
    }
   ],
   "source": [
    "sent_db.groupby(\"par_idx_in_doc\").size()"
   ]
  },
  {
   "cell_type": "markdown",
   "id": "99b3e16d",
   "metadata": {},
   "source": [
    "### Check for 2 sequential par of same type"
   ]
  },
  {
   "cell_type": "code",
   "execution_count": 92,
   "id": "6a5b28d9",
   "metadata": {},
   "outputs": [],
   "source": [
    "for i in range (0,len(doc_db.index)):\n",
    "    par_db = pd.read_csv(os.path.join(os.getcwd(),defines.PATH_TO_DFS,\"{:02d}_par_db.csv\".format(i+1)))\n",
    "    same_vals= par_db['par_type'] == par_db.shift()['par_type']\n",
    "    indices =same_vals[same_vals==True].index.values\n",
    "#     print (indices)\n",
    "    if len(indices) > 0:\n",
    "        print (\"Doc {} has {} same pars\".format(i+1,len(indices)))\n",
    "        for idx in indices:\n",
    "            print (\"\\tSame vals  {} : par {}\".format(idx, par_db.loc[idx,'text']))"
   ]
  },
  {
   "cell_type": "code",
   "execution_count": null,
   "id": "4a16fd33",
   "metadata": {},
   "outputs": [],
   "source": []
  }
 ],
 "metadata": {
  "kernelspec": {
   "display_name": "Python 3",
   "language": "python",
   "name": "python3"
  },
  "language_info": {
   "codemirror_mode": {
    "name": "ipython",
    "version": 3
   },
   "file_extension": ".py",
   "mimetype": "text/x-python",
   "name": "python",
   "nbconvert_exporter": "python",
   "pygments_lexer": "ipython3",
   "version": "3.8.5"
  }
 },
 "nbformat": 4,
 "nbformat_minor": 5
}
