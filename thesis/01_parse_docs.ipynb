{
 "cells": [
  {
   "cell_type": "code",
   "execution_count": 1,
   "metadata": {},
   "outputs": [],
   "source": [
    "import numpy as np\n",
    "import pandas as pd"
   ]
  },
  {
   "cell_type": "code",
   "execution_count": 2,
   "metadata": {},
   "outputs": [],
   "source": [
    "## thesis specific import ##\n",
    "import sys\n",
    "import imp\n",
    "import seaborn as sns\n",
    "sys.path.append('./src/')\n",
    "import doc_utils\n",
    "import defines"
   ]
  },
  {
   "cell_type": "code",
   "execution_count": 3,
   "metadata": {},
   "outputs": [
    {
     "data": {
      "text/plain": [
       "<module 'doc_utils' from './src/doc_utils.py'>"
      ]
     },
     "execution_count": 3,
     "metadata": {},
     "output_type": "execute_result"
    }
   ],
   "source": [
    "imp.reload(doc_utils)  "
   ]
  },
  {
   "cell_type": "code",
   "execution_count": 4,
   "metadata": {},
   "outputs": [],
   "source": [
    "import re\n",
    "def split_par_to_blocks(par):\n",
    "    error_pattern_st = \"(\" + defines.START_CHAR + \"(?:(?!\" + defines.END_CHAR + \").)*\" +  defines.START_CHAR +\")\";\n",
    "    error_pattern_end = \"(\" + defines.END_CHAR + \"(?:(?!\" + defines.START_CHAR + \").)*\" +  defines.END_CHAR +\")\";\n",
    "    error_pattern = \"(\" + error_pattern_st + \"|\" +  error_pattern_end + \")\";\n",
    "    if (re.search(error_pattern,par)):\n",
    "        print(\"{} string gave ERROR\".format(par))\n",
    "    block_list = re.split('(&|#)', par)\n",
    "    return block_list"
   ]
  },
  {
   "cell_type": "code",
   "execution_count": 5,
   "metadata": {},
   "outputs": [],
   "source": [
    "# test_strings = [\n",
    "#     \"beginning of the paragraph & this is story one # and so paragraph continues & this is story two # and this is not story\",\n",
    "#                 \"beginning of the paragraph &  story one started\",\n",
    "#                 \"story one ended # something after the story\",\n",
    "#                 \"this is end of story one # something after the story & start of new story\",\n",
    "#                 \"just prefrase & entire story one # something after the story & start of second story\",\n",
    "#     \"לא סיפור & סיפור ראשון# אחרי סיפור ראשון\",\n",
    "#     \"סוף סיפור ראשון # סתם מילים & התחלה סיפור שני\",\n",
    "#     \"סתם מילים & התחלה סיפור ראשון # מילים של מטפל & התחלה סיפור חדש\",\n",
    "#         \"סןף סיפור הקודם#  & התחלה סיפור ראשון # מילים של מטפל & התחלה סיפור חדש\",\n",
    "#     \"פה בכלל אין סיפור\",\n",
    "#     \"&פה יש רק סיפור וזהו#\",\n",
    "#     \"פה פסקה & שגואיה & בגלל 2 התחלות # \",\n",
    "#     \"פה סידה שגועה # בגלל # 2 סופיים ללא התחלה & ועוב סוף משפט\"\n",
    "#                ]\n",
    "# for i,string in enumerate(test_strings):\n",
    "#     my_list = split_par_to_blocks(string)\n",
    "#     if i == 7:\n",
    "#         for j, block in enumerate(my_list):\n",
    "#             print(\"{}\\n : {}\".format(j,block))\n",
    "# #     print(\"{} story:\\n{}\".format(i,my_list))"
   ]
  },
  {
   "cell_type": "code",
   "execution_count": 42,
   "metadata": {},
   "outputs": [],
   "source": [
    "imp.reload(doc_utils)  \n",
    "doc_utils.save_docs_db()"
   ]
  },
  {
   "cell_type": "code",
   "execution_count": 43,
   "metadata": {},
   "outputs": [
    {
     "data": {
      "text/html": [
       "<div>\n",
       "<style scoped>\n",
       "    .dataframe tbody tr th:only-of-type {\n",
       "        vertical-align: middle;\n",
       "    }\n",
       "\n",
       "    .dataframe tbody tr th {\n",
       "        vertical-align: top;\n",
       "    }\n",
       "\n",
       "    .dataframe thead th {\n",
       "        text-align: right;\n",
       "    }\n",
       "</style>\n",
       "<table border=\"1\" class=\"dataframe\">\n",
       "  <thead>\n",
       "    <tr style=\"text-align: right;\">\n",
       "      <th></th>\n",
       "      <th>path</th>\n",
       "      <th>file_name</th>\n",
       "      <th>client_tag</th>\n",
       "      <th>therapist_tag</th>\n",
       "      <th>num_par</th>\n",
       "    </tr>\n",
       "  </thead>\n",
       "  <tbody>\n",
       "    <tr>\n",
       "      <th>0</th>\n",
       "      <td>./tmp/kafhey_23_l.docx</td>\n",
       "      <td>kafhey_23_l.docx</td>\n",
       "      <td>כהקל</td>\n",
       "      <td>כהמט</td>\n",
       "      <td>108</td>\n",
       "    </tr>\n",
       "    <tr>\n",
       "      <th>1</th>\n",
       "      <td>./tmp/lamedbet21_l.docx</td>\n",
       "      <td>lamedbet21_l.docx</td>\n",
       "      <td>לבקל</td>\n",
       "      <td>לבמט</td>\n",
       "      <td>451</td>\n",
       "    </tr>\n",
       "    <tr>\n",
       "      <th>2</th>\n",
       "      <td>./tmp/kafdalet_15_l.docx</td>\n",
       "      <td>kafdalet_15_l.docx</td>\n",
       "      <td>כדקל</td>\n",
       "      <td>כדמט</td>\n",
       "      <td>106</td>\n",
       "    </tr>\n",
       "    <tr>\n",
       "      <th>3</th>\n",
       "      <td>./tmp/nun2_l.docx</td>\n",
       "      <td>nun2_l.docx</td>\n",
       "      <td>נקל</td>\n",
       "      <td>נמט</td>\n",
       "      <td>164</td>\n",
       "    </tr>\n",
       "    <tr>\n",
       "      <th>4</th>\n",
       "      <td>./tmp/aingimel3_l.docx</td>\n",
       "      <td>aingimel3_l.docx</td>\n",
       "      <td>עגקל</td>\n",
       "      <td>עגמט</td>\n",
       "      <td>229</td>\n",
       "    </tr>\n",
       "    <tr>\n",
       "      <th>5</th>\n",
       "      <td>./tmp/alefsameh3_l.docx</td>\n",
       "      <td>alefsameh3_l.docx</td>\n",
       "      <td>סאקל</td>\n",
       "      <td>סאמט</td>\n",
       "      <td>276</td>\n",
       "    </tr>\n",
       "  </tbody>\n",
       "</table>\n",
       "</div>"
      ],
      "text/plain": [
       "                       path           file_name client_tag therapist_tag  \\\n",
       "0    ./tmp/kafhey_23_l.docx    kafhey_23_l.docx       כהקל          כהמט   \n",
       "1   ./tmp/lamedbet21_l.docx   lamedbet21_l.docx       לבקל          לבמט   \n",
       "2  ./tmp/kafdalet_15_l.docx  kafdalet_15_l.docx       כדקל          כדמט   \n",
       "3         ./tmp/nun2_l.docx         nun2_l.docx        נקל           נמט   \n",
       "4    ./tmp/aingimel3_l.docx    aingimel3_l.docx       עגקל          עגמט   \n",
       "5   ./tmp/alefsameh3_l.docx   alefsameh3_l.docx       סאקל          סאמט   \n",
       "\n",
       "  num_par  \n",
       "0     108  \n",
       "1     451  \n",
       "2     106  \n",
       "3     164  \n",
       "4     229  \n",
       "5     276  "
      ]
     },
     "execution_count": 43,
     "metadata": {},
     "output_type": "execute_result"
    }
   ],
   "source": [
    "doc_utils.doc_db"
   ]
  },
  {
   "cell_type": "code",
   "execution_count": 44,
   "metadata": {},
   "outputs": [
    {
     "name": "stdout",
     "output_type": "stream",
     "text": [
      "Doc 0 paragraphs saved\n",
      "Doc 1 paragraphs saved\n",
      "Doc 2 paragraphs saved\n",
      "Doc 3 paragraphs saved\n",
      "Doc 4 paragraphs saved\n",
      "Doc 5 paragraphs saved\n"
     ]
    }
   ],
   "source": [
    "doc_utils.save_all_docs_paragraphs()"
   ]
  },
  {
   "cell_type": "code",
   "execution_count": 45,
   "metadata": {},
   "outputs": [
    {
     "name": "stdout",
     "output_type": "stream",
     "text": [
      "All blocks saved\n"
     ]
    }
   ],
   "source": [
    "doc_utils.save_all_blocks()"
   ]
  },
  {
   "cell_type": "code",
   "execution_count": 46,
   "metadata": {},
   "outputs": [
    {
     "name": "stdout",
     "output_type": "stream",
     "text": [
      "All sentences saved\n"
     ]
    }
   ],
   "source": [
    "doc_utils.save_all_sentences()"
   ]
  },
  {
   "cell_type": "code",
   "execution_count": 49,
   "metadata": {},
   "outputs": [
    {
     "data": {
      "text/plain": [
       "doc_idx           False\n",
       "text              False\n",
       "par_len           False\n",
       "par_type          False\n",
       "par_idx_in_doc    False\n",
       "is_nar            False\n",
       "nar_per_par       False\n",
       "nar_idx           False\n",
       "dtype: bool"
      ]
     },
     "execution_count": 49,
     "metadata": {},
     "output_type": "execute_result"
    }
   ],
   "source": [
    "doc_utils.plane_par_db.isna().any()"
   ]
  },
  {
   "cell_type": "code",
   "execution_count": 50,
   "metadata": {},
   "outputs": [
    {
     "data": {
      "text/plain": [
       "text              False\n",
       "is_nar            False\n",
       "doc_idx           False\n",
       "par_idx_in_doc    False\n",
       "par_db_idx        False\n",
       "par_type          False\n",
       "block_type        False\n",
       "nar_idx           False\n",
       "dtype: bool"
      ]
     },
     "execution_count": 50,
     "metadata": {},
     "output_type": "execute_result"
    }
   ],
   "source": [
    "doc_utils.block_db.isna().any()"
   ]
  },
  {
   "cell_type": "code",
   "execution_count": 51,
   "metadata": {},
   "outputs": [
    {
     "data": {
      "text/plain": [
       "text                 False\n",
       "sent_idx_in_block    False\n",
       "block_idx            False\n",
       "is_nar               False\n",
       "doc_idx              False\n",
       "par_db_idx           False\n",
       "par_idx_in_doc       False\n",
       "par_type             False\n",
       "block_type           False\n",
       "nar_idx              False\n",
       "sent_len             False\n",
       "dtype: bool"
      ]
     },
     "execution_count": 51,
     "metadata": {},
     "output_type": "execute_result"
    }
   ],
   "source": [
    "doc_utils.sent_db.isna().any()"
   ]
  },
  {
   "cell_type": "code",
   "execution_count": 47,
   "metadata": {},
   "outputs": [
    {
     "data": {
      "text/plain": [
       "Text(0.5, 1.0, 'Count per block type')"
      ]
     },
     "execution_count": 47,
     "metadata": {},
     "output_type": "execute_result"
    },
    {
     "data": {
      "image/png": "[encoded data removed]",
      "text/plain": [
       "<Figure size 432x288 with 1 Axes>"
      ]
     },
     "metadata": {
      "needs_background": "light"
     },
     "output_type": "display_data"
    }
   ],
   "source": [
    "sns.countplot(x='block_type',data=doc_utils.block_db).set_title(\"Count per block type\")"
   ]
  },
  {
   "cell_type": "code",
   "execution_count": 52,
   "metadata": {},
   "outputs": [
    {
     "data": {
      "text/plain": [
       "doc_idx\n",
       "0.000000    14\n",
       "1.000000    10\n",
       "2.000000     9\n",
       "3.000000     7\n",
       "4.000000    14\n",
       "5.000000    18\n",
       "Name: nar_idx, dtype: int64"
      ]
     },
     "execution_count": 52,
     "metadata": {},
     "output_type": "execute_result"
    }
   ],
   "source": [
    "doc_utils.block_db.groupby(['doc_idx'])['nar_idx'].nunique()"
   ]
  },
  {
   "cell_type": "code",
   "execution_count": 76,
   "metadata": {},
   "outputs": [
    {
     "data": {
      "image/png": "[encoded data removed]",
      "text/plain": [
       "<Figure size 720x720 with 3 Axes>"
      ]
     },
     "metadata": {
      "needs_background": "light"
     },
     "output_type": "display_data"
    }
   ],
   "source": [
    "import matplotlib.pyplot as plt\n",
    "\n",
    "fig, axes = plt.subplots(1, 3,figsize=(10, 10))\n",
    "ax = axes.ravel()\n",
    "sns.countplot(x='is_nar',data=doc_utils.plane_par_db,ax=ax[0]).set_title(\"Is_nar among all paragraphs\")\n",
    "sns.countplot(x='is_nar',data=doc_utils.block_db,ax=ax[1]).set_title(\"Is_nar among all blocks\")\n",
    "sns.countplot(x='is_nar',data=doc_utils.sent_db,ax=ax[2]).set_title(\"Is_nar among all sentences\")\n",
    "plt.show();"
   ]
  },
  {
   "cell_type": "code",
   "execution_count": 78,
   "metadata": {},
   "outputs": [
    {
     "data": {
      "image/png": "[encoded data removed]",
      "text/plain": [
       "<Figure size 720x720 with 3 Axes>"
      ]
     },
     "metadata": {
      "needs_background": "light"
     },
     "output_type": "display_data"
    }
   ],
   "source": [
    "import matplotlib.pyplot as plt\n",
    "query = \"par_type in ['client','therapist']\"\n",
    "fig, axes = plt.subplots(1, 3,figsize=(10, 10))\n",
    "ax = axes.ravel()\n",
    "sns.countplot(x='is_nar',data=doc_utils.plane_par_db.query(query),ax=ax[0]).set_title(\"Is_nar among {} paragraphs\".format(query))\n",
    "sns.countplot(x='is_nar',data=doc_utils.block_db.query(query),ax=ax[1]).set_title(\"Is_nar among {} blocks\".format(query))\n",
    "sns.countplot(x='is_nar',data=doc_utils.sent_db.query(query),ax=ax[2]).set_title(\"Is_nar among {} sentences\".format(query))\n",
    "plt.show();"
   ]
  },
  {
   "cell_type": "code",
   "execution_count": 16,
   "metadata": {},
   "outputs": [
    {
     "name": "stdout",
     "output_type": "stream",
     "text": [
      "<class 'pandas.core.frame.DataFrame'>\n",
      "Int64Index: 2943 entries, 0 to 2942\n",
      "Data columns (total 11 columns):\n",
      " #   Column             Non-Null Count  Dtype  \n",
      "---  ------             --------------  -----  \n",
      " 0   text               2943 non-null   object \n",
      " 1   sent_idx_in_block  2943 non-null   float64\n",
      " 2   block_idx          2943 non-null   float64\n",
      " 3   is_nar             2943 non-null   float64\n",
      " 4   doc_idx            2943 non-null   float64\n",
      " 5   par_db_idx         2943 non-null   float64\n",
      " 6   par_idx_in_doc     2943 non-null   float64\n",
      " 7   par_type           2943 non-null   object \n",
      " 8   block_type         2943 non-null   object \n",
      " 9   nar_idx            2943 non-null   float64\n",
      " 10  sent_len           2943 non-null   float64\n",
      "dtypes: float64(8), object(3)\n",
      "memory usage: 340.4+ KB\n"
     ]
    }
   ],
   "source": [
    "doc_utils.sent_db.info()"
   ]
  },
  {
   "cell_type": "code",
   "execution_count": 17,
   "metadata": {},
   "outputs": [
    {
     "data": {
      "text/html": [
       "<div>\n",
       "<style scoped>\n",
       "    .dataframe tbody tr th:only-of-type {\n",
       "        vertical-align: middle;\n",
       "    }\n",
       "\n",
       "    .dataframe tbody tr th {\n",
       "        vertical-align: top;\n",
       "    }\n",
       "\n",
       "    .dataframe thead th {\n",
       "        text-align: right;\n",
       "    }\n",
       "</style>\n",
       "<table border=\"1\" class=\"dataframe\">\n",
       "  <thead>\n",
       "    <tr style=\"text-align: right;\">\n",
       "      <th></th>\n",
       "      <th>text</th>\n",
       "      <th>sent_idx_in_block</th>\n",
       "      <th>block_idx</th>\n",
       "      <th>is_nar</th>\n",
       "      <th>doc_idx</th>\n",
       "      <th>par_db_idx</th>\n",
       "      <th>par_idx_in_doc</th>\n",
       "      <th>par_type</th>\n",
       "      <th>block_type</th>\n",
       "      <th>nar_idx</th>\n",
       "      <th>sent_len</th>\n",
       "    </tr>\n",
       "  </thead>\n",
       "  <tbody>\n",
       "    <tr>\n",
       "      <th>13</th>\n",
       "      <td>הייתי לי מריבה מאוד מאוד קשה עם גי ממש ברמה ש...</td>\n",
       "      <td>0.000000</td>\n",
       "      <td>10.000000</td>\n",
       "      <td>1.000000</td>\n",
       "      <td>0.000000</td>\n",
       "      <td>9.000000</td>\n",
       "      <td>11.000000</td>\n",
       "      <td>client</td>\n",
       "      <td>whole</td>\n",
       "      <td>1.000000</td>\n",
       "      <td>57.000000</td>\n",
       "    </tr>\n",
       "    <tr>\n",
       "      <th>14</th>\n",
       "      <td>לא כמעט הוא השאיר אתמפתחות והלך</td>\n",
       "      <td>1.000000</td>\n",
       "      <td>10.000000</td>\n",
       "      <td>1.000000</td>\n",
       "      <td>0.000000</td>\n",
       "      <td>9.000000</td>\n",
       "      <td>11.000000</td>\n",
       "      <td>client</td>\n",
       "      <td>whole</td>\n",
       "      <td>1.000000</td>\n",
       "      <td>31.000000</td>\n",
       "    </tr>\n",
       "    <tr>\n",
       "      <th>15</th>\n",
       "      <td>ו זה היה ליומיים בדיוק אחרי זה הוא חזר וסידרנו...</td>\n",
       "      <td>2.000000</td>\n",
       "      <td>10.000000</td>\n",
       "      <td>1.000000</td>\n",
       "      <td>0.000000</td>\n",
       "      <td>9.000000</td>\n",
       "      <td>11.000000</td>\n",
       "      <td>client</td>\n",
       "      <td>whole</td>\n",
       "      <td>1.000000</td>\n",
       "      <td>83.000000</td>\n",
       "    </tr>\n",
       "    <tr>\n",
       "      <th>16</th>\n",
       "      <td>אין לי עבודה אני לא יודע מה קורה עם הדירה יל ל...</td>\n",
       "      <td>3.000000</td>\n",
       "      <td>10.000000</td>\n",
       "      <td>1.000000</td>\n",
       "      <td>0.000000</td>\n",
       "      <td>9.000000</td>\n",
       "      <td>11.000000</td>\n",
       "      <td>client</td>\n",
       "      <td>whole</td>\n",
       "      <td>1.000000</td>\n",
       "      <td>90.000000</td>\n",
       "    </tr>\n",
       "    <tr>\n",
       "      <th>17</th>\n",
       "      <td>הרגשתי הכי בודד בעולם</td>\n",
       "      <td>4.000000</td>\n",
       "      <td>10.000000</td>\n",
       "      <td>1.000000</td>\n",
       "      <td>0.000000</td>\n",
       "      <td>9.000000</td>\n",
       "      <td>11.000000</td>\n",
       "      <td>client</td>\n",
       "      <td>whole</td>\n",
       "      <td>1.000000</td>\n",
       "      <td>21.000000</td>\n",
       "    </tr>\n",
       "    <tr>\n",
       "      <th>...</th>\n",
       "      <td>...</td>\n",
       "      <td>...</td>\n",
       "      <td>...</td>\n",
       "      <td>...</td>\n",
       "      <td>...</td>\n",
       "      <td>...</td>\n",
       "      <td>...</td>\n",
       "      <td>...</td>\n",
       "      <td>...</td>\n",
       "      <td>...</td>\n",
       "      <td>...</td>\n",
       "    </tr>\n",
       "    <tr>\n",
       "      <th>2867</th>\n",
       "      <td>את הקטע הזה שכאילו היה בנינו משהו שמה</td>\n",
       "      <td>3.000000</td>\n",
       "      <td>1318.000000</td>\n",
       "      <td>1.000000</td>\n",
       "      <td>5.000000</td>\n",
       "      <td>1257.000000</td>\n",
       "      <td>232.000000</td>\n",
       "      <td>client</td>\n",
       "      <td>middle</td>\n",
       "      <td>66.000000</td>\n",
       "      <td>37.000000</td>\n",
       "    </tr>\n",
       "    <tr>\n",
       "      <th>2868</th>\n",
       "      <td>אני לא רוצה את הדברים האלה בגלל זה כאילו העדפת...</td>\n",
       "      <td>4.000000</td>\n",
       "      <td>1318.000000</td>\n",
       "      <td>1.000000</td>\n",
       "      <td>5.000000</td>\n",
       "      <td>1257.000000</td>\n",
       "      <td>232.000000</td>\n",
       "      <td>client</td>\n",
       "      <td>middle</td>\n",
       "      <td>66.000000</td>\n",
       "      <td>57.000000</td>\n",
       "    </tr>\n",
       "    <tr>\n",
       "      <th>2869</th>\n",
       "      <td>לפחות זה גם כספים וזה גם זה אבל לפחות אני השגת...</td>\n",
       "      <td>5.000000</td>\n",
       "      <td>1318.000000</td>\n",
       "      <td>1.000000</td>\n",
       "      <td>5.000000</td>\n",
       "      <td>1257.000000</td>\n",
       "      <td>232.000000</td>\n",
       "      <td>client</td>\n",
       "      <td>middle</td>\n",
       "      <td>66.000000</td>\n",
       "      <td>64.000000</td>\n",
       "    </tr>\n",
       "    <tr>\n",
       "      <th>2870</th>\n",
       "      <td>4502 – סגמנט 10</td>\n",
       "      <td>0.000000</td>\n",
       "      <td>1319.000000</td>\n",
       "      <td>1.000000</td>\n",
       "      <td>5.000000</td>\n",
       "      <td>1258.000000</td>\n",
       "      <td>233.000000</td>\n",
       "      <td>segment</td>\n",
       "      <td>middle</td>\n",
       "      <td>66.000000</td>\n",
       "      <td>16.000000</td>\n",
       "    </tr>\n",
       "    <tr>\n",
       "      <th>2871</th>\n",
       "      <td>עשיתי מבחנים עשיתי  דברים כאילו בזכות עצמי התק...</td>\n",
       "      <td>0.000000</td>\n",
       "      <td>1320.000000</td>\n",
       "      <td>1.000000</td>\n",
       "      <td>5.000000</td>\n",
       "      <td>1259.000000</td>\n",
       "      <td>234.000000</td>\n",
       "      <td>client</td>\n",
       "      <td>end</td>\n",
       "      <td>66.000000</td>\n",
       "      <td>102.000000</td>\n",
       "    </tr>\n",
       "  </tbody>\n",
       "</table>\n",
       "<p>1741 rows × 11 columns</p>\n",
       "</div>"
      ],
      "text/plain": [
       "                                                   text  sent_idx_in_block  \\\n",
       "13     הייתי לי מריבה מאוד מאוד קשה עם גי ממש ברמה ש...           0.000000   \n",
       "14                      לא כמעט הוא השאיר אתמפתחות והלך           1.000000   \n",
       "15    ו זה היה ליומיים בדיוק אחרי זה הוא חזר וסידרנו...           2.000000   \n",
       "16    אין לי עבודה אני לא יודע מה קורה עם הדירה יל ל...           3.000000   \n",
       "17                                הרגשתי הכי בודד בעולם           4.000000   \n",
       "...                                                 ...                ...   \n",
       "2867              את הקטע הזה שכאילו היה בנינו משהו שמה           3.000000   \n",
       "2868  אני לא רוצה את הדברים האלה בגלל זה כאילו העדפת...           4.000000   \n",
       "2869  לפחות זה גם כספים וזה גם זה אבל לפחות אני השגת...           5.000000   \n",
       "2870                                    4502 – סגמנט 10           0.000000   \n",
       "2871  עשיתי מבחנים עשיתי  דברים כאילו בזכות עצמי התק...           0.000000   \n",
       "\n",
       "       block_idx   is_nar  doc_idx  par_db_idx  par_idx_in_doc par_type  \\\n",
       "13     10.000000 1.000000 0.000000    9.000000       11.000000   client   \n",
       "14     10.000000 1.000000 0.000000    9.000000       11.000000   client   \n",
       "15     10.000000 1.000000 0.000000    9.000000       11.000000   client   \n",
       "16     10.000000 1.000000 0.000000    9.000000       11.000000   client   \n",
       "17     10.000000 1.000000 0.000000    9.000000       11.000000   client   \n",
       "...          ...      ...      ...         ...             ...      ...   \n",
       "2867 1318.000000 1.000000 5.000000 1257.000000      232.000000   client   \n",
       "2868 1318.000000 1.000000 5.000000 1257.000000      232.000000   client   \n",
       "2869 1318.000000 1.000000 5.000000 1257.000000      232.000000   client   \n",
       "2870 1319.000000 1.000000 5.000000 1258.000000      233.000000  segment   \n",
       "2871 1320.000000 1.000000 5.000000 1259.000000      234.000000   client   \n",
       "\n",
       "     block_type   nar_idx   sent_len  \n",
       "13        whole  1.000000  57.000000  \n",
       "14        whole  1.000000  31.000000  \n",
       "15        whole  1.000000  83.000000  \n",
       "16        whole  1.000000  90.000000  \n",
       "17        whole  1.000000  21.000000  \n",
       "...         ...       ...        ...  \n",
       "2867     middle 66.000000  37.000000  \n",
       "2868     middle 66.000000  57.000000  \n",
       "2869     middle 66.000000  64.000000  \n",
       "2870     middle 66.000000  16.000000  \n",
       "2871        end 66.000000 102.000000  \n",
       "\n",
       "[1741 rows x 11 columns]"
      ]
     },
     "execution_count": 17,
     "metadata": {},
     "output_type": "execute_result"
    }
   ],
   "source": [
    "doc_utils.sent_db.query(\"block_type != 'not_nar'\")"
   ]
  },
  {
   "cell_type": "code",
   "execution_count": 18,
   "metadata": {},
   "outputs": [
    {
     "data": {
      "text/plain": [
       "Text(0.5, 1.0, 'Is_nar among clients sentences')"
      ]
     },
     "execution_count": 18,
     "metadata": {},
     "output_type": "execute_result"
    },
    {
     "data": {
      "image/png": "[encoded data removed]",
      "text/plain": [
       "<Figure size 432x288 with 1 Axes>"
      ]
     },
     "metadata": {
      "needs_background": "light"
     },
     "output_type": "display_data"
    }
   ],
   "source": [
    "sns.countplot(x='is_nar',data=doc_utils.sent_db.query(\"par_type == 'client'\")).set_title(\"Is_nar among clients sentences\")"
   ]
  },
  {
   "cell_type": "code",
   "execution_count": 19,
   "metadata": {},
   "outputs": [
    {
     "data": {
      "text/plain": [
       "Text(0.5, 1.0, 'Is_nar among all sentences')"
      ]
     },
     "execution_count": 19,
     "metadata": {},
     "output_type": "execute_result"
    },
    {
     "data": {
      "image/png": "[encoded data removed]",
      "text/plain": [
       "<Figure size 432x288 with 1 Axes>"
      ]
     },
     "metadata": {
      "needs_background": "light"
     },
     "output_type": "display_data"
    }
   ],
   "source": [
    "sns.countplot(x='is_nar',data=doc_utils.sent_db.query(\"par_type in ['client','therapist']\")).set_title(\"Is_nar among all sentences\")"
   ]
  },
  {
   "cell_type": "code",
   "execution_count": 20,
   "metadata": {},
   "outputs": [
    {
     "data": {
      "text/plain": [
       "Text(0.5, 0.98, \"Sentence Length per not narrative vs narrative for ['client', 'therapist']\")"
      ]
     },
     "execution_count": 20,
     "metadata": {},
     "output_type": "execute_result"
    },
    {
     "data": {
      "image/png": "[encoded data removed]",
      "text/plain": [
       "<Figure size 360x360 with 1 Axes>"
      ]
     },
     "metadata": {
      "needs_background": "light"
     },
     "output_type": "display_data"
    }
   ],
   "source": [
    "query =  ['client','therapist']\n",
    "plot = sns.catplot(data=doc_utils.sent_db.query(\"par_type in @query\"), x=\"is_nar\", y=\"sent_len\", kind=\"box\",palette=\"light:m_r\")\n",
    "plot.fig.suptitle(\"Sentence Length per not narrative vs narrative for {}\".format(query))"
   ]
  },
  {
   "cell_type": "code",
   "execution_count": 21,
   "metadata": {},
   "outputs": [
    {
     "data": {
      "text/plain": [
       "Text(0.5, 0.98, \"Sentence Length per speaker ['client', 'therapist']\")"
      ]
     },
     "execution_count": 21,
     "metadata": {},
     "output_type": "execute_result"
    },
    {
     "data": {
      "image/png": "[encoded data removed]",
      "text/plain": [
       "<Figure size 360x360 with 1 Axes>"
      ]
     },
     "metadata": {
      "needs_background": "light"
     },
     "output_type": "display_data"
    }
   ],
   "source": [
    "query =  ['client','therapist']\n",
    "plot = sns.catplot(data=doc_utils.sent_db.query(\"par_type in @query\"), x=\"par_type\", y=\"sent_len\", kind=\"box\",palette=\"light:m_r\")\n",
    "plot.fig.suptitle(\"Sentence Length per speaker {}\".format(query))"
   ]
  },
  {
   "cell_type": "code",
   "execution_count": null,
   "metadata": {},
   "outputs": [],
   "source": []
  },
  {
   "cell_type": "code",
   "execution_count": null,
   "metadata": {},
   "outputs": [],
   "source": []
  },
  {
   "cell_type": "code",
   "execution_count": null,
   "metadata": {},
   "outputs": [],
   "source": []
  },
  {
   "cell_type": "code",
   "execution_count": null,
   "metadata": {},
   "outputs": [],
   "source": []
  },
  {
   "cell_type": "markdown",
   "metadata": {},
   "source": [
    "## Tokenize hebrew - past time and special words"
   ]
  },
  {
   "cell_type": "code",
   "execution_count": null,
   "metadata": {},
   "outputs": [],
   "source": [
    "imp.reload(doc_utils)"
   ]
  },
  {
   "cell_type": "code",
   "execution_count": null,
   "metadata": {},
   "outputs": [],
   "source": [
    "par_db['text'] = par_db['text'].apply(str)"
   ]
  },
  {
   "cell_type": "code",
   "execution_count": null,
   "metadata": {},
   "outputs": [],
   "source": [
    "random_nar_par = doc_utils.get_random_par(par_db,1)\n",
    "random_nar_par"
   ]
  },
  {
   "cell_type": "code",
   "execution_count": null,
   "metadata": {},
   "outputs": [],
   "source": [
    "random_str = random_nar_par['text'].tolist()[0]\n",
    "random_str"
   ]
  },
  {
   "cell_type": "code",
   "execution_count": null,
   "metadata": {},
   "outputs": [],
   "source": [
    "import hebrew_tokenizer as ht\n",
    "tokens = ht.tokenize(random_str)  # tokenize returns a generator!\n",
    "for grp, token, token_num, (start_index, end_index) in tokens:\n",
    "    print('{}, {}'.format(grp, token))"
   ]
  },
  {
   "cell_type": "markdown",
   "metadata": {},
   "source": [
    "## Give a try to AlphaBERT"
   ]
  },
  {
   "cell_type": "code",
   "execution_count": null,
   "metadata": {},
   "outputs": [],
   "source": [
    "from transformers import BertModel, BertTokenizerFast\n"
   ]
  },
  {
   "cell_type": "code",
   "execution_count": null,
   "metadata": {},
   "outputs": [],
   "source": [
    "alephbert_tokenizer = BertTokenizerFast.from_pretrained('onlplab/alephbert-base')\n",
    "alephbert = BertModel.from_pretrained('onlplab/alephbert-base')\n",
    "\n",
    "# if not finetuning - disable dropout\n",
    "alephbert.eval()"
   ]
  },
  {
   "cell_type": "code",
   "execution_count": null,
   "metadata": {},
   "outputs": [],
   "source": [
    "tokens = alephbert_tokenizer.tokenize(random_str)"
   ]
  },
  {
   "cell_type": "code",
   "execution_count": null,
   "metadata": {},
   "outputs": [],
   "source": [
    "codes = alephbert_tokenizer.encode(random_str)"
   ]
  },
  {
   "cell_type": "code",
   "execution_count": null,
   "metadata": {},
   "outputs": [],
   "source": [
    "tokenized = sent_db['text'].apply((lambda x: alephbert_tokenizer.encode(x, add_special_tokens=True,padding='max_length', truncation=False)))"
   ]
  },
  {
   "cell_type": "code",
   "execution_count": null,
   "metadata": {},
   "outputs": [],
   "source": [
    "tokenized"
   ]
  },
  {
   "cell_type": "code",
   "execution_count": null,
   "metadata": {},
   "outputs": [],
   "source": [
    "inputs = alephbert_tokenizer(sent_db.loc[0,'text'], return_tensors=\"pt\")\n",
    "output = alephbert(**inputs)"
   ]
  },
  {
   "cell_type": "code",
   "execution_count": null,
   "metadata": {},
   "outputs": [],
   "source": [
    "output"
   ]
  },
  {
   "cell_type": "markdown",
   "metadata": {},
   "source": [
    "## Try hebrew word2vec - hebrew_cc_300d"
   ]
  },
  {
   "cell_type": "code",
   "execution_count": null,
   "metadata": {},
   "outputs": [],
   "source": [
    "from sparknlp.base import *\n",
    "from sparknlp.annotator import *\n",
    "# from sparknlp.embeddings import *\n",
    "import sparknlp\n",
    "sys.path.append('./external_src/hebrew_cc_300d_he/')"
   ]
  },
  {
   "cell_type": "code",
   "execution_count": null,
   "metadata": {},
   "outputs": [],
   "source": [
    "# Start Spark Session with Spark NLP\n",
    "spark = sparknlp.start()\n",
    "embeddings = sparknlp.annotator.WordEmbeddingsModel.pretrained(\"hebrew_cc_300d\", \"he\") \\\n",
    "        .setInputCols([\"document\", \"token\"]) \\\n",
    "        .setOutputCol(\"embeddings\")\n",
    "nlp_pipeline = Pipeline(stages=[document_assembler, sentence_detector, tokenizer, embeddings])\n",
    "pipeline_model = nlp_pipeline.fit(spark.createDataFrame([[\"\"]]).toDF(\"text\"))\n",
    "result = pipeline_model.transform(spark.createDataFrame([['כמו גם התקפות והאשמות נגד בראון']], [\"text\"]))"
   ]
  },
  {
   "cell_type": "markdown",
   "metadata": {},
   "source": [
    "## Try hebrew word2vec - words_vectors.npy"
   ]
  },
  {
   "cell_type": "code",
   "execution_count": null,
   "metadata": {},
   "outputs": [],
   "source": []
  },
  {
   "cell_type": "code",
   "execution_count": null,
   "metadata": {},
   "outputs": [],
   "source": []
  },
  {
   "cell_type": "code",
   "execution_count": null,
   "metadata": {},
   "outputs": [],
   "source": []
  },
  {
   "cell_type": "markdown",
   "metadata": {},
   "source": [
    "## Combine numeric and non-numeric features"
   ]
  },
  {
   "cell_type": "code",
   "execution_count": null,
   "metadata": {},
   "outputs": [],
   "source": [
    "imp.reload(feature_utils)  "
   ]
  },
  {
   "cell_type": "code",
   "execution_count": null,
   "metadata": {},
   "outputs": [],
   "source": [
    "# what features to take from text? doc2vec?\n",
    "# train gensim doc2vec on my own?\n",
    "# is there a pre-trained hebrew?\n",
    "# take word2vec?\n",
    "# what does tagged doc means? is it tag 0/1 ? (not narrative/narrative)?\n",
    "# look at Jonathan's pdf lectures (file 10?)\n",
    "# missing line in some doc"
   ]
  },
  {
   "cell_type": "markdown",
   "metadata": {},
   "source": [
    "### Split data to train & test"
   ]
  },
  {
   "cell_type": "code",
   "execution_count": null,
   "metadata": {},
   "outputs": [],
   "source": [
    "par_db"
   ]
  },
  {
   "cell_type": "code",
   "execution_count": null,
   "metadata": {},
   "outputs": [],
   "source": [
    "client_ter_db = par_db.query(\"par_type == 'client' or par_type =='therapist'\")\n",
    "client_ter_db"
   ]
  },
  {
   "cell_type": "code",
   "execution_count": null,
   "metadata": {},
   "outputs": [],
   "source": [
    "train_text = client_ter_db['text']\n",
    "train_y = client_ter_db['is_nar']"
   ]
  },
  {
   "cell_type": "code",
   "execution_count": null,
   "metadata": {},
   "outputs": [],
   "source": [
    "from sklearn.model_selection import train_test_split\n",
    "X_train, X_test, y_train, y_test = train_test_split(train_text, train_y, stratify=y_trainval, random_state=0)"
   ]
  },
  {
   "cell_type": "code",
   "execution_count": null,
   "metadata": {},
   "outputs": [],
   "source": [
    "y_train"
   ]
  },
  {
   "cell_type": "code",
   "execution_count": null,
   "metadata": {},
   "outputs": [],
   "source": [
    "X_train"
   ]
  },
  {
   "cell_type": "code",
   "execution_count": null,
   "metadata": {},
   "outputs": [],
   "source": [
    "train_idx = y_train.index\n",
    "test_idx = y_test.index"
   ]
  },
  {
   "cell_type": "markdown",
   "metadata": {},
   "source": [
    "## GenSim - doc2vec"
   ]
  },
  {
   "cell_type": "code",
   "execution_count": null,
   "metadata": {},
   "outputs": [],
   "source": [
    "vector_size = 100"
   ]
  },
  {
   "cell_type": "code",
   "execution_count": null,
   "metadata": {},
   "outputs": [],
   "source": [
    "import gensim\n",
    "def read_corpus(text, y = [], tokens_only=False):\n",
    "    for i, line in enumerate(text):\n",
    "        if tokens_only:\n",
    "            yield gensim.utils.simple_preprocess(line)\n",
    "        else:\n",
    "            # For training data, add tags\n",
    "            yield gensim.models.doc2vec.TaggedDocument(\n",
    "                gensim.utils.simple_preprocess(line),  tags=[y[i]]) #[i])\n",
    "\n",
    "# train_corpus = list(read_corpus(X_train.tolist(),y_train.tolist()))\n",
    "# test_corpus = list(read_corpus(X_test.tolist(),_, tokens_only=True))\n",
    "all_corpus =  list(read_corpus(client_ter_db['text'].tolist(),client_ter_db['is_nar'].tolist()))"
   ]
  },
  {
   "cell_type": "code",
   "execution_count": null,
   "metadata": {},
   "outputs": [],
   "source": [
    "# train_corpus[:10]"
   ]
  },
  {
   "cell_type": "code",
   "execution_count": null,
   "metadata": {},
   "outputs": [],
   "source": [
    "# print(test_corpus[:2])"
   ]
  },
  {
   "cell_type": "code",
   "execution_count": null,
   "metadata": {},
   "outputs": [],
   "source": [
    "# model = gensim.models.doc2vec.Doc2Vec(vector_size=vector_size, min_count=2, epochs=40)\n",
    "# model.build_vocab(train_corpus)\n",
    "# model.train(train_corpus, total_examples=model.corpus_count, epochs=model.epochs)"
   ]
  },
  {
   "cell_type": "code",
   "execution_count": null,
   "metadata": {},
   "outputs": [],
   "source": [
    "model_on_all = gensim.models.doc2vec.Doc2Vec(\n",
    "    vector_size=vector_size,\n",
    "    min_count=2,\n",
    "    epochs=40)\n",
    "model_on_all.build_vocab(all_corpus)\n",
    "model_on_all.train(all_corpus, total_examples=model_on_all.corpus_count, epochs=model.epochs)"
   ]
  },
  {
   "cell_type": "markdown",
   "metadata": {},
   "source": [
    "### Encoding using doc2vec"
   ]
  },
  {
   "cell_type": "code",
   "execution_count": null,
   "metadata": {},
   "outputs": [],
   "source": [
    "# vectors = [model.infer_vector(train_corpus[doc_id].words)\n",
    "#           for doc_id in range(len(train_corpus))]\n",
    "\n",
    "# doc2vec_train = np.vstack(vectors)\n",
    "\n",
    "# test_vectors = [model.infer_vector(test_corpus[doc_id])\n",
    "#                 for doc_id in range(len(test_corpus))]\n",
    "# doc2vec_test = np.vstack(test_vectors)"
   ]
  },
  {
   "cell_type": "code",
   "execution_count": null,
   "metadata": {},
   "outputs": [],
   "source": [
    "vectors_on_all = [model_on_all.infer_vector(all_corpus[doc_id].words)\n",
    "          for doc_id in range(len(all_corpus))]\n",
    "doc2vec_all = np.vstack(vectors_on_all)\n",
    "doc2vec_all.shape"
   ]
  },
  {
   "cell_type": "code",
   "execution_count": null,
   "metadata": {},
   "outputs": [],
   "source": [
    "# doc2vec_train.shape"
   ]
  },
  {
   "cell_type": "code",
   "execution_count": null,
   "metadata": {},
   "outputs": [],
   "source": [
    "# doc2vec_test.shape"
   ]
  },
  {
   "cell_type": "code",
   "execution_count": null,
   "metadata": {},
   "outputs": [],
   "source": [
    "model_on_all.dv[0]"
   ]
  },
  {
   "cell_type": "code",
   "execution_count": null,
   "metadata": {},
   "outputs": [],
   "source": [
    "model_on_all.dv[1]"
   ]
  },
  {
   "cell_type": "code",
   "execution_count": null,
   "metadata": {},
   "outputs": [],
   "source": [
    "from scipy import spatial\n",
    "result = 1 - spatial.distance.cosine(model_on_all.dv[0], model_on_all.dv[1])\n",
    "result"
   ]
  },
  {
   "cell_type": "code",
   "execution_count": null,
   "metadata": {},
   "outputs": [],
   "source": [
    "# train_df = pd.DataFrame(data=doc2vec_train,index=train_idx)\n",
    "# test_df = pd.DataFrame(data=doc2vec_test,index=test_idx)\n",
    "# doc2vec_db = pd.concat([train_df,test_df])"
   ]
  },
  {
   "cell_type": "code",
   "execution_count": null,
   "metadata": {},
   "outputs": [],
   "source": [
    "# doc2vec_db.sort_index(inplace=True)\n",
    "# doc2vec_db"
   ]
  },
  {
   "cell_type": "code",
   "execution_count": null,
   "metadata": {},
   "outputs": [],
   "source": [
    "merged_db = pd.DataFrame(data=doc2vec_all,index=client_ter_db.index)\n",
    "merged_db = pd.concat([merged_db,client_ter_db],axis=1)\n",
    "merged_db['par_type'].replace({\"therapist\": 0, \"client\": 1}, inplace=True)\n",
    "merged_db.drop(['nar_idx','nar_len','idx_in_nar','doc_idx','text','glob_nar_idx','nar_len_words'],axis=1,inplace=True)\n",
    "merged_db"
   ]
  },
  {
   "cell_type": "code",
   "execution_count": null,
   "metadata": {},
   "outputs": [],
   "source": [
    "imp.reload(doc_utils)\n",
    "doc_utils.run_classifier(merged_db)"
   ]
  },
  {
   "cell_type": "code",
   "execution_count": null,
   "metadata": {},
   "outputs": [],
   "source": []
  },
  {
   "cell_type": "markdown",
   "metadata": {},
   "source": [
    "## Create narrative DB"
   ]
  },
  {
   "cell_type": "code",
   "execution_count": null,
   "metadata": {},
   "outputs": [],
   "source": [
    "nar_db = par_db.groupby(by='nar_idx')['text'].apply(' '.join).reset_index()"
   ]
  },
  {
   "cell_type": "code",
   "execution_count": null,
   "metadata": {},
   "outputs": [],
   "source": [
    "nar_db = doc_utils.clean_text(nar_db)"
   ]
  },
  {
   "cell_type": "code",
   "execution_count": null,
   "metadata": {},
   "outputs": [],
   "source": [
    "par_db['block_idx'] = par_db['is_nar'].diff().ne(0).cumsum()"
   ]
  },
  {
   "cell_type": "code",
   "execution_count": null,
   "metadata": {},
   "outputs": [],
   "source": [
    "not_nar_db = par_db[par_db['is_nar']==0].groupby(by='block_idx')['text'].apply(' '.join).reset_index()"
   ]
  },
  {
   "cell_type": "code",
   "execution_count": null,
   "metadata": {},
   "outputs": [],
   "source": [
    "list(not_nar_db[not_nar_db['block_idx']==21]['text'])"
   ]
  },
  {
   "cell_type": "code",
   "execution_count": null,
   "metadata": {},
   "outputs": [],
   "source": [
    "not_nar_db['is_nar'] = 0"
   ]
  },
  {
   "cell_type": "code",
   "execution_count": null,
   "metadata": {},
   "outputs": [],
   "source": [
    "nar_db['is_nar'] = 1"
   ]
  },
  {
   "cell_type": "code",
   "execution_count": null,
   "metadata": {},
   "outputs": [],
   "source": [
    "mixed_nar_db = not_nar_db.append(nar_db,ignore_index=True)"
   ]
  },
  {
   "cell_type": "code",
   "execution_count": null,
   "metadata": {},
   "outputs": [],
   "source": [
    "mixed_nar_db.drop(['block_idx','nar_idx'],axis=1,inplace=True)"
   ]
  },
  {
   "cell_type": "code",
   "execution_count": null,
   "metadata": {},
   "outputs": [],
   "source": [
    "mixed_nar_db"
   ]
  },
  {
   "cell_type": "code",
   "execution_count": null,
   "metadata": {},
   "outputs": [],
   "source": [
    "doc_utils.run_model(mixed_nar_db)"
   ]
  },
  {
   "cell_type": "code",
   "execution_count": null,
   "metadata": {},
   "outputs": [],
   "source": [
    "doc_utils.show_data_basic_information(doc_db)"
   ]
  },
  {
   "cell_type": "code",
   "execution_count": null,
   "metadata": {},
   "outputs": [],
   "source": [
    "doc_utils.show_data_basic_information(par_db)"
   ]
  },
  {
   "cell_type": "markdown",
   "metadata": {},
   "source": [
    "## Initial processing:\n",
    "- drop 'Unnamed 0' column\n",
    "- encode author_gender\n",
    "- add feature - length of the narrative\n",
    "- (?) - replace birth year with age"
   ]
  },
  {
   "cell_type": "code",
   "execution_count": null,
   "metadata": {},
   "outputs": [],
   "source": [
    "def encode_gender(_df):\n",
    "    df = _df.copy()\n",
    "    man = \"זכר\"\n",
    "    woman = \"נקבה\"\n",
    "    gender = {man: 0, woman: 1}\n",
    "    df['author_gender'] = [gender[item] for item in df['author_gender']]\n",
    "    return df"
   ]
  },
  {
   "cell_type": "code",
   "execution_count": null,
   "metadata": {},
   "outputs": [],
   "source": [
    "def add_length_of_narrative(_df):\n",
    "    df = _df.copy()\n",
    "    df['nar_length'] = df['narrative'].str.len()\n",
    "    return df"
   ]
  },
  {
   "cell_type": "code",
   "execution_count": null,
   "metadata": {},
   "outputs": [],
   "source": [
    "# def convert_year_to_age(_df):\n",
    "#     df = _df.copy()\n",
    "#     df['nar_length'] = df['narrative'].str.len()\n",
    "#     return df"
   ]
  },
  {
   "cell_type": "code",
   "execution_count": null,
   "metadata": {},
   "outputs": [],
   "source": [
    "df_steps['1_dropped'] = drop_columns(df_steps['0_full_df'],['Unnamed: 0'])\n",
    "df_steps['2_gender'] = encode_gender(df_steps['1_dropped'])\n",
    "df_steps['3_nar_length'] = add_length_of_narrative(df_steps['2_gender'])\n",
    "df_steps['3_nar_length']"
   ]
  },
  {
   "cell_type": "markdown",
   "metadata": {},
   "source": [
    "- Plot see the distribution of the data"
   ]
  },
  {
   "cell_type": "code",
   "execution_count": null,
   "metadata": {},
   "outputs": [],
   "source": [
    "sns.pairplot(df_steps['3_nar_length'], hue='label')"
   ]
  },
  {
   "cell_type": "code",
   "execution_count": null,
   "metadata": {},
   "outputs": [],
   "source": [
    "sns.countplot(x='label',data=df_steps['3_nar_length'])\n",
    "plt.title('Class Distributions \\n (0: False || 1: True)', fontsize=14)"
   ]
  },
  {
   "cell_type": "code",
   "execution_count": null,
   "metadata": {},
   "outputs": [],
   "source": [
    "show_random_text(df_steps['3_nar_length'],'narrative',2)"
   ]
  },
  {
   "cell_type": "markdown",
   "metadata": {},
   "source": [
    "## Conclustion from step 1\n",
    "- data is balanced\n",
    "- there is no significant differences between features distribution per label\n",
    "- narrative has to be cleaned from \\n"
   ]
  },
  {
   "cell_type": "code",
   "execution_count": null,
   "metadata": {
    "scrolled": true
   },
   "outputs": [],
   "source": [
    "df_steps['4_clean_nar'] = df_steps['3_nar_length']\n",
    "df_steps['4_clean_nar']['narrative'] = df_steps['4_clean_nar']['narrative'].replace(b\"<br />\", b\" \")\n",
    "df_steps['4_clean_nar']['narrative'] = df_steps['4_clean_nar']['narrative'].replace(\"n\\\\\",' ')"
   ]
  },
  {
   "cell_type": "code",
   "execution_count": null,
   "metadata": {},
   "outputs": [],
   "source": [
    "show_random_text(df_steps['4_clean_nar'],'narrative',2)"
   ]
  },
  {
   "cell_type": "markdown",
   "metadata": {},
   "source": [
    "## Step 2 - tokenize the narrative\n",
    "exaustive search for the best model"
   ]
  },
  {
   "cell_type": "code",
   "execution_count": null,
   "metadata": {},
   "outputs": [],
   "source": [
    "text_train = df_steps['4_clean_nar']['narrative'].tolist()\n",
    "y_train = df_steps['4_clean_nar']['label']"
   ]
  },
  {
   "cell_type": "code",
   "execution_count": null,
   "metadata": {},
   "outputs": [],
   "source": [
    "text_train"
   ]
  },
  {
   "cell_type": "code",
   "execution_count": null,
   "metadata": {},
   "outputs": [],
   "source": [
    "vect = CountVectorizer(min_df=4)\n",
    "X_train = vect.fit_transform(text_train)\n",
    "X_train"
   ]
  },
  {
   "cell_type": "code",
   "execution_count": null,
   "metadata": {},
   "outputs": [],
   "source": [
    "#Vocabulary\n",
    "feature_names = vect.get_feature_names()\n",
    "print(feature_names[:10])\n",
    "print(feature_names[20000:20020])\n",
    "print(feature_names[::2000])"
   ]
  },
  {
   "cell_type": "code",
   "execution_count": null,
   "metadata": {},
   "outputs": [],
   "source": [
    "lr = LogisticRegression(n_jobs=-1).fit(X_train, y_train)\n",
    "lr.score(X_train,y_train)"
   ]
  },
  {
   "cell_type": "code",
   "execution_count": null,
   "metadata": {},
   "outputs": [],
   "source": [
    "regressors = [\n",
    "    LogisticRegression(),\n",
    "    LogisticRegressionCV(),\n",
    "    PassiveAggressiveClassifier(),\n",
    "    Perceptron(),\n",
    "    RidgeClassifier(),\n",
    "    RidgeClassifierCV(),\n",
    "    SGDClassifier()\n",
    "]\n",
    "scores_df = pd.DataFrame(dtype=float)"
   ]
  },
  {
   "cell_type": "code",
   "execution_count": null,
   "metadata": {},
   "outputs": [],
   "source": [
    "for regr in regressors:\n",
    "    get_cross_val_score(scores_df,regr, X_train, y_train,\"count_vectorizer\")"
   ]
  },
  {
   "cell_type": "code",
   "execution_count": null,
   "metadata": {},
   "outputs": [],
   "source": [
    "display(scores_df.sort_values(by='f1').tail(5))"
   ]
  },
  {
   "cell_type": "code",
   "execution_count": null,
   "metadata": {},
   "outputs": [],
   "source": [
    "#TfidfVectorizer\n",
    "tdif = TfidfVectorizer(min_df=4)\n",
    "X_train = tdif.fit_transform(text_train)"
   ]
  },
  {
   "cell_type": "code",
   "execution_count": null,
   "metadata": {},
   "outputs": [],
   "source": [
    "for regr in regressors:\n",
    "    get_cross_val_score(scores_df,regr, X_train, y_train,\"TfidfVectorizer\")"
   ]
  },
  {
   "cell_type": "code",
   "execution_count": null,
   "metadata": {},
   "outputs": [],
   "source": [
    "display(scores_df.sort_values(by='f1').tail(5))"
   ]
  },
  {
   "cell_type": "code",
   "execution_count": null,
   "metadata": {},
   "outputs": [],
   "source": [
    "# L1 normalization with CountVectorizer\n",
    "count_vec = CountVectorizer(min_df=4)\n",
    "X_train = count_vec.fit_transform(text_train)\n",
    "X_train = normalize(X_train,norm=\"l1\")"
   ]
  },
  {
   "cell_type": "code",
   "execution_count": null,
   "metadata": {},
   "outputs": [],
   "source": [
    "for regr in regressors:\n",
    "    get_cross_val_score(scores_df,regr, X_train, y_train,\"TfidfVectorizer_norm\")"
   ]
  },
  {
   "cell_type": "code",
   "execution_count": null,
   "metadata": {},
   "outputs": [],
   "source": [
    "display(scores_df.sort_values(by='f1').tail(5))"
   ]
  },
  {
   "cell_type": "code",
   "execution_count": null,
   "metadata": {},
   "outputs": [],
   "source": [
    "#ngrams\n",
    "ngrm = CountVectorizer(ngram_range=(1, 3), min_df=4)\n",
    "X_train = ngrm.fit_transform(text_train)"
   ]
  },
  {
   "cell_type": "code",
   "execution_count": null,
   "metadata": {},
   "outputs": [],
   "source": [
    "for regr in regressors:\n",
    "    get_cross_val_score(scores_df,regr, X_train, y_train,\"ngrm\")"
   ]
  },
  {
   "cell_type": "code",
   "execution_count": null,
   "metadata": {},
   "outputs": [],
   "source": [
    "display(scores_df.sort_values(by='f1').tail(5))"
   ]
  },
  {
   "cell_type": "code",
   "execution_count": null,
   "metadata": {},
   "outputs": [],
   "source": [
    "cv = CountVectorizer(ngram_range=(1, 3), analyzer=\"char_wb\")\n",
    "X_train = cv.fit_transform(text_train)\n",
    "print(f\"vocaulary size:{len(cv.vocabulary_)}\")"
   ]
  },
  {
   "cell_type": "code",
   "execution_count": null,
   "metadata": {},
   "outputs": [],
   "source": [
    "for regr in regressors:\n",
    "    get_cross_val_score(scores_df,regr, X_train, y_train,\"_char_wb\")"
   ]
  },
  {
   "cell_type": "code",
   "execution_count": null,
   "metadata": {},
   "outputs": [],
   "source": [
    "display(scores_df.sort_values(by='f1').tail(5))"
   ]
  },
  {
   "cell_type": "markdown",
   "metadata": {},
   "source": [
    "Get an impression of data by looking at most important features"
   ]
  },
  {
   "cell_type": "code",
   "execution_count": null,
   "metadata": {},
   "outputs": [],
   "source": [
    "tdif = TfidfVectorizer(stop_words='english',min_df=4)\n",
    "X_train = tdif.fit_transform(text_train)\n",
    "\n",
    "lr = LogisticRegression()\n",
    "lr.fit(X_train, y_train)"
   ]
  },
  {
   "cell_type": "code",
   "execution_count": null,
   "metadata": {},
   "outputs": [],
   "source": [
    "def plot_important_features(coef, feature_names, top_n=20, ax=None, rotation=60):\n",
    "    if ax is None:\n",
    "        ax = plt.gca()\n",
    "    inds = np.argsort(coef)\n",
    "    low = inds[:top_n]\n",
    "    high = inds[-top_n:]\n",
    "    important = np.hstack([low, high])\n",
    "    myrange = range(len(important))\n",
    "    colors = ['red'] * top_n + ['blue'] * top_n\n",
    "    \n",
    "    ax.bar(myrange, coef[important], color=colors)\n",
    "    ax.set_xticks(myrange)\n",
    "    ax.set_xticklabels(feature_names[important], rotation=rotation, ha=\"right\")\n",
    "    ax.set_xlim(-.7, 2 * top_n)\n",
    "    ax.set_frame_on(False)"
   ]
  },
  {
   "cell_type": "code",
   "execution_count": null,
   "metadata": {},
   "outputs": [],
   "source": [
    "plt.figure(figsize=(15, 6))\n",
    "plot_important_features(lr.coef_.ravel(), np.array(tdif.get_feature_names()), top_n=20, rotation=40)\n",
    "ax = plt.gca()\n",
    "plt.show()"
   ]
  },
  {
   "cell_type": "code",
   "execution_count": null,
   "metadata": {},
   "outputs": [],
   "source": [
    "X,y=get_label_and_drop(df_steps['4_clean_nar'])"
   ]
  },
  {
   "cell_type": "code",
   "execution_count": null,
   "metadata": {},
   "outputs": [],
   "source": [
    "X_train, X_test, y_train, y_test = train_test_split(X, y,random_state=101,stratify=y)"
   ]
  },
  {
   "cell_type": "code",
   "execution_count": null,
   "metadata": {},
   "outputs": [],
   "source": [
    "def get_num_text_pipeline(df,regr_num,regr_text):\n",
    "    numeric_cols = X_train.columns[X_train.columns.dtype != object].tolist()\n",
    "    \n",
    "    transformer_text = FunctionTransformer(lambda x: x['narrative'], validate=False)\n",
    "    transfomer_numeric = FunctionTransformer(lambda x: x[numeric_cols], validate=False)\n",
    "\n",
    "    pipeline = Pipeline([\n",
    "        ('features', FeatureUnion([\n",
    "                ('numeric_features', Pipeline([\n",
    "                    ('selector', transfomer_numeric)\n",
    "                ])),\n",
    "                 ('text_features', Pipeline([\n",
    "                    ('selector', transformer_text),\n",
    "                    (regr_text.__class__.__name__, regr_text)\n",
    "                ]))\n",
    "             ])),\n",
    "        ('estimator', regr_num)\n",
    "    ])\n",
    "    return pipeline"
   ]
  },
  {
   "cell_type": "code",
   "execution_count": null,
   "metadata": {},
   "outputs": [],
   "source": [
    "regr_text = TfidfVectorizer(min_df=4)\n",
    "\n",
    "for regr in regressors:\n",
    "    pipe = get_num_text_pipeline(X_train,regr,regr_text)\n",
    "    get_cross_val_score(scores_df,pipe, X_train, y_train,regr_text.__class__.__name__+\"_combined\")"
   ]
  },
  {
   "cell_type": "code",
   "execution_count": null,
   "metadata": {},
   "outputs": [],
   "source": [
    "display(scores_df.sort_values(by='f1').tail(5))"
   ]
  },
  {
   "cell_type": "markdown",
   "metadata": {},
   "source": [
    "meantime combined featues haven't improved the results so far..."
   ]
  },
  {
   "cell_type": "markdown",
   "metadata": {},
   "source": [
    "## spaCy"
   ]
  },
  {
   "cell_type": "code",
   "execution_count": null,
   "metadata": {},
   "outputs": [],
   "source": [
    "import spacy # is it relevant for hebrew? TBD check what we saw on a class on hebrew"
   ]
  },
  {
   "cell_type": "code",
   "execution_count": null,
   "metadata": {},
   "outputs": [],
   "source": [
    "nlp = spacy.load(\"en_core_web_lg\", disable=[\"tagger\", \"parser\", \"ner\",\"lemmatizer\"])"
   ]
  },
  {
   "cell_type": "code",
   "execution_count": null,
   "metadata": {},
   "outputs": [],
   "source": []
  }
 ],
 "metadata": {
  "kernelspec": {
   "display_name": "Python 3",
   "language": "python",
   "name": "python3"
  },
  "language_info": {
   "codemirror_mode": {
    "name": "ipython",
    "version": 3
   },
   "file_extension": ".py",
   "mimetype": "text/x-python",
   "name": "python",
   "nbconvert_exporter": "python",
   "pygments_lexer": "ipython3",
   "version": "3.8.5"
  },
  "toc": {
   "base_numbering": 1,
   "nav_menu": {},
   "number_sections": true,
   "sideBar": true,
   "skip_h1_title": false,
   "title_cell": "Table of Contents",
   "title_sidebar": "Contents",
   "toc_cell": false,
   "toc_position": {},
   "toc_section_display": true,
   "toc_window_display": false
  }
 },
 "nbformat": 4,
 "nbformat_minor": 4
}
