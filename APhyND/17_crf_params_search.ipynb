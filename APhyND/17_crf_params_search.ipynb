{
 "cells": [
  {
   "cell_type": "code",
   "execution_count": 55,
   "id": "1cbf8ce7",
   "metadata": {},
   "outputs": [],
   "source": [
    "#ensembling\n",
    "from mlxtend.classifier import StackingCVClassifier\n",
    "import numpy as np\n",
    "import pandas as pd\n",
    "import sys, os, glob\n",
    "import imp\n",
    "import seaborn as sns\n",
    "sys.path.append('./src/')\n",
    "import common_utils,my_ensembler, feature_utils, defines, model_utils, my_bert\n",
    "from sklearn.neighbors import KNeighborsClassifier\n",
    "from sklearn_crfsuite import scorers, CRF\n",
    "from sklearn.pipeline import Pipeline\n",
    "import json\n",
    "from operator import itemgetter\n",
    "from sklearn_crfsuite.utils import flatten\n",
    "from sklearn_crfsuite.metrics import sequence_accuracy_score\n",
    "from sklearn.linear_model import LogisticRegression\n",
    "import scipy\n",
    "import sklearn\n",
    "import scipy.stats\n",
    "from sklearn.metrics import make_scorer\n",
    "from sklearn.model_selection import RandomizedSearchCV,GridSearchCV\n",
    "from sklearn_crfsuite import scorers\n",
    "from sklearn_crfsuite import metrics"
   ]
  },
  {
   "cell_type": "markdown",
   "id": "c851d6f0",
   "metadata": {},
   "source": [
    "### Define static parameters for data"
   ]
  },
  {
   "cell_type": "code",
   "execution_count": 14,
   "id": "c10ec86c",
   "metadata": {},
   "outputs": [],
   "source": [
    "dir_name='reparse'\n",
    "docs_map_name = 'scaled.binary.5_stop_docs_map.json'\n",
    "crf_params_name='.802_21.07_07:26_best_params.json'\n",
    "ens_crf_db_name   = 'ensemble_crf_cv_db_all'\n",
    "ens_lg_db_name = 'ensemble_lg_cv_db_all'\n",
    "cv_crf_bert_name = 'cv_crf_bert_all'\n",
    "cv_split_name='cv_splits_10'\n",
    "per_par=True\n",
    "seq_len=3\n",
    "step=3\n",
    "test_doc_num=8\n",
    "n_splits=10\n",
    "seed=42"
   ]
  },
  {
   "cell_type": "markdown",
   "id": "66624cb5",
   "metadata": {},
   "source": [
    "### Load docs map"
   ]
  },
  {
   "cell_type": "code",
   "execution_count": 5,
   "id": "b2124a30",
   "metadata": {},
   "outputs": [],
   "source": [
    "imp.reload(common_utils)\n",
    "docs_map=common_utils.get_docs_map(dir_name,docs_map_name,per_par,seq_len,step)"
   ]
  },
  {
   "cell_type": "markdown",
   "id": "af54e19c",
   "metadata": {},
   "source": [
    "### Use same splits as for CRF & BERT (10 x 10)"
   ]
  },
  {
   "cell_type": "code",
   "execution_count": 15,
   "id": "a1495d11",
   "metadata": {},
   "outputs": [
    {
     "data": {
      "text/plain": [
       "{0: {'test': array([ 4, 14, 15, 18, 29, 32, 36, 70]),\n",
       "  'train': array([ 1,  2,  3,  5,  6,  7,  8,  9, 10, 11, 12, 13, 16, 17, 19, 20, 21,\n",
       "         22, 23, 24, 25, 26, 27, 28, 30, 31, 33, 34, 35, 37, 38, 39, 40, 41,\n",
       "         42, 43, 44, 45, 46, 47, 48, 49, 50, 51, 52, 53, 54, 55, 56, 57, 58,\n",
       "         59, 60, 61, 62, 63, 64, 65, 66, 67, 68, 69, 71, 72, 73, 74, 75, 76,\n",
       "         77, 78, 79, 80])},\n",
       " 1: {'test': array([ 5,  6, 13, 34, 37, 62, 73, 80]),\n",
       "  'train': array([ 1,  2,  3,  4,  7,  8,  9, 10, 11, 12, 14, 15, 16, 17, 18, 19, 20,\n",
       "         21, 22, 23, 24, 25, 26, 27, 28, 29, 30, 31, 32, 33, 35, 36, 38, 39,\n",
       "         40, 41, 42, 43, 44, 45, 46, 47, 48, 49, 50, 51, 52, 53, 54, 55, 56,\n",
       "         57, 58, 59, 60, 61, 63, 64, 65, 66, 67, 68, 69, 70, 71, 72, 74, 75,\n",
       "         76, 77, 78, 79])},\n",
       " 2: {'test': array([ 7, 20, 39, 47, 48, 54, 57, 58]),\n",
       "  'train': array([ 1,  2,  3,  4,  5,  6,  8,  9, 10, 11, 12, 13, 14, 15, 16, 17, 18,\n",
       "         19, 21, 22, 23, 24, 25, 26, 27, 28, 29, 30, 31, 32, 33, 34, 35, 36,\n",
       "         37, 38, 40, 41, 42, 43, 44, 45, 46, 49, 50, 51, 52, 53, 55, 56, 59,\n",
       "         60, 61, 62, 63, 64, 65, 66, 67, 68, 69, 70, 71, 72, 73, 74, 75, 76,\n",
       "         77, 78, 79, 80])},\n",
       " 3: {'test': array([ 1, 19, 24, 27, 44, 56, 71, 75]),\n",
       "  'train': array([ 2,  3,  4,  5,  6,  7,  8,  9, 10, 11, 12, 13, 14, 15, 16, 17, 18,\n",
       "         20, 21, 22, 23, 25, 26, 28, 29, 30, 31, 32, 33, 34, 35, 36, 37, 38,\n",
       "         39, 40, 41, 42, 43, 45, 46, 47, 48, 49, 50, 51, 52, 53, 54, 55, 57,\n",
       "         58, 59, 60, 61, 62, 63, 64, 65, 66, 67, 68, 69, 70, 72, 73, 74, 76,\n",
       "         77, 78, 79, 80])},\n",
       " 4: {'test': array([12, 21, 26, 33, 41, 50, 76, 77]),\n",
       "  'train': array([ 1,  2,  3,  4,  5,  6,  7,  8,  9, 10, 11, 13, 14, 15, 16, 17, 18,\n",
       "         19, 20, 22, 23, 24, 25, 27, 28, 29, 30, 31, 32, 34, 35, 36, 37, 38,\n",
       "         39, 40, 42, 43, 44, 45, 46, 47, 48, 49, 51, 52, 53, 54, 55, 56, 57,\n",
       "         58, 59, 60, 61, 62, 63, 64, 65, 66, 67, 68, 69, 70, 71, 72, 73, 74,\n",
       "         75, 78, 79, 80])},\n",
       " 5: {'test': array([ 8, 11, 16, 40, 51, 53, 63, 72]),\n",
       "  'train': array([ 1,  2,  3,  4,  5,  6,  7,  9, 10, 12, 13, 14, 15, 17, 18, 19, 20,\n",
       "         21, 22, 23, 24, 25, 26, 27, 28, 29, 30, 31, 32, 33, 34, 35, 36, 37,\n",
       "         38, 39, 41, 42, 43, 44, 45, 46, 47, 48, 49, 50, 52, 54, 55, 56, 57,\n",
       "         58, 59, 60, 61, 62, 64, 65, 66, 67, 68, 69, 70, 71, 73, 74, 75, 76,\n",
       "         77, 78, 79, 80])},\n",
       " 6: {'test': array([ 9, 25, 30, 38, 49, 55, 59, 74]),\n",
       "  'train': array([ 1,  2,  3,  4,  5,  6,  7,  8, 10, 11, 12, 13, 14, 15, 16, 17, 18,\n",
       "         19, 20, 21, 22, 23, 24, 26, 27, 28, 29, 31, 32, 33, 34, 35, 36, 37,\n",
       "         39, 40, 41, 42, 43, 44, 45, 46, 47, 48, 50, 51, 52, 53, 54, 56, 57,\n",
       "         58, 60, 61, 62, 63, 64, 65, 66, 67, 68, 69, 70, 71, 72, 73, 75, 76,\n",
       "         77, 78, 79, 80])},\n",
       " 7: {'test': array([ 3, 10, 28, 31, 42, 45, 66, 68]),\n",
       "  'train': array([ 1,  2,  4,  5,  6,  7,  8,  9, 11, 12, 13, 14, 15, 16, 17, 18, 19,\n",
       "         20, 21, 22, 23, 24, 25, 26, 27, 29, 30, 32, 33, 34, 35, 36, 37, 38,\n",
       "         39, 40, 41, 43, 44, 46, 47, 48, 49, 50, 51, 52, 53, 54, 55, 56, 57,\n",
       "         58, 59, 60, 61, 62, 63, 64, 65, 67, 69, 70, 71, 72, 73, 74, 75, 76,\n",
       "         77, 78, 79, 80])},\n",
       " 8: {'test': array([ 2, 23, 43, 46, 61, 65, 67, 69]),\n",
       "  'train': array([ 1,  3,  4,  5,  6,  7,  8,  9, 10, 11, 12, 13, 14, 15, 16, 17, 18,\n",
       "         19, 20, 21, 22, 24, 25, 26, 27, 28, 29, 30, 31, 32, 33, 34, 35, 36,\n",
       "         37, 38, 39, 40, 41, 42, 44, 45, 47, 48, 49, 50, 51, 52, 53, 54, 55,\n",
       "         56, 57, 58, 59, 60, 62, 63, 64, 66, 68, 70, 71, 72, 73, 74, 75, 76,\n",
       "         77, 78, 79, 80])},\n",
       " 9: {'test': array([17, 22, 35, 52, 60, 64, 78, 79]),\n",
       "  'train': array([ 1,  2,  3,  4,  5,  6,  7,  8,  9, 10, 11, 12, 13, 14, 15, 16, 18,\n",
       "         19, 20, 21, 23, 24, 25, 26, 27, 28, 29, 30, 31, 32, 33, 34, 36, 37,\n",
       "         38, 39, 40, 41, 42, 43, 44, 45, 46, 47, 48, 49, 50, 51, 53, 54, 55,\n",
       "         56, 57, 58, 59, 61, 62, 63, 65, 66, 67, 68, 69, 70, 71, 72, 73, 74,\n",
       "         75, 76, 77, 80])}}"
      ]
     },
     "execution_count": 15,
     "metadata": {},
     "output_type": "execute_result"
    }
   ],
   "source": [
    "x=np.arange(1,81)\n",
    "cv_splits_10=model_utils.get_test_train_splits(x,test_doc_num,n_splits,seed)\n",
    "cv_splits_10"
   ]
  },
  {
   "cell_type": "code",
   "execution_count": 81,
   "id": "2d3b8469",
   "metadata": {},
   "outputs": [
    {
     "name": "stdout",
     "output_type": "stream",
     "text": [
      "[3, 13, 14, 17, 28, 31, 35, 69]\n",
      "[4, 5, 12, 33, 36, 61, 72, 79]\n",
      "[6, 19, 38, 46, 47, 53, 56, 57]\n",
      "[0, 18, 23, 26, 43, 55, 70, 74]\n",
      "[11, 20, 25, 32, 40, 49, 75, 76]\n",
      "[7, 10, 15, 39, 50, 52, 62, 71]\n",
      "[8, 24, 29, 37, 48, 54, 58, 73]\n",
      "[2, 9, 27, 30, 41, 44, 65, 67]\n",
      "[1, 22, 42, 45, 60, 64, 66, 68]\n",
      "[16, 21, 34, 51, 59, 63, 77, 78]\n"
     ]
    }
   ],
   "source": [
    "n_splits=10\n",
    "gsf = model_utils.GroupSplitFold(n_splits=n_splits, n_groups=test_doc_num)\n",
    "\n",
    "for tr,ts in gsf.split(X=x, groups=x, seed=seed):\n",
    "    print(ts)"
   ]
  },
  {
   "cell_type": "code",
   "execution_count": 34,
   "id": "25a35e08",
   "metadata": {},
   "outputs": [],
   "source": [
    "X,y,groups=model_utils.get_X_y_by_doc_indices(docs_map,list(docs_map.keys()),seq_len,step)"
   ]
  },
  {
   "cell_type": "code",
   "execution_count": 42,
   "id": "c6782b2e",
   "metadata": {},
   "outputs": [
    {
     "data": {
      "text/plain": [
       "25010001"
      ]
     },
     "execution_count": 42,
     "metadata": {},
     "output_type": "execute_result"
    }
   ],
   "source": [
    "tot_len=0\n",
    "check=X\n",
    "for l in check:\n",
    "    if isinstance(l,list):\n",
    "        tot_len+=len(check)\n",
    "tot_len"
   ]
  },
  {
   "cell_type": "code",
   "execution_count": 64,
   "id": "78e0a038",
   "metadata": {},
   "outputs": [],
   "source": [
    "rs = {}"
   ]
  },
  {
   "cell_type": "code",
   "execution_count": 72,
   "id": "02f32e88",
   "metadata": {},
   "outputs": [],
   "source": [
    "global iterr"
   ]
  },
  {
   "cell_type": "code",
   "execution_count": 75,
   "id": "8d88f75f",
   "metadata": {},
   "outputs": [],
   "source": [
    "def increment_iter():\n",
    "    global iterr\n",
    "    iterr+=1\n",
    "    print('шtter {}'.format(iterr))"
   ]
  },
  {
   "cell_type": "code",
   "execution_count": 82,
   "id": "eae0fade",
   "metadata": {},
   "outputs": [
    {
     "name": "stdout",
     "output_type": "stream",
     "text": [
      "tter 4\n",
      "Fitting 10 folds for each of 75 candidates, totalling 750 fits\n",
      "CPU times: user 12min 16s, sys: 55.9 s, total: 13min 12s\n",
      "Wall time: 14min 10s\n"
     ]
    },
    {
     "data": {
      "text/html": [
       "<style>#sk-container-id-7 {color: black;background-color: white;}#sk-container-id-7 pre{padding: 0;}#sk-container-id-7 div.sk-toggleable {background-color: white;}#sk-container-id-7 label.sk-toggleable__label {cursor: pointer;display: block;width: 100%;margin-bottom: 0;padding: 0.3em;box-sizing: border-box;text-align: center;}#sk-container-id-7 label.sk-toggleable__label-arrow:before {content: \"▸\";float: left;margin-right: 0.25em;color: #696969;}#sk-container-id-7 label.sk-toggleable__label-arrow:hover:before {color: black;}#sk-container-id-7 div.sk-estimator:hover label.sk-toggleable__label-arrow:before {color: black;}#sk-container-id-7 div.sk-toggleable__content {max-height: 0;max-width: 0;overflow: hidden;text-align: left;background-color: #f0f8ff;}#sk-container-id-7 div.sk-toggleable__content pre {margin: 0.2em;color: black;border-radius: 0.25em;background-color: #f0f8ff;}#sk-container-id-7 input.sk-toggleable__control:checked~div.sk-toggleable__content {max-height: 200px;max-width: 100%;overflow: auto;}#sk-container-id-7 input.sk-toggleable__control:checked~label.sk-toggleable__label-arrow:before {content: \"▾\";}#sk-container-id-7 div.sk-estimator input.sk-toggleable__control:checked~label.sk-toggleable__label {background-color: #d4ebff;}#sk-container-id-7 div.sk-label input.sk-toggleable__control:checked~label.sk-toggleable__label {background-color: #d4ebff;}#sk-container-id-7 input.sk-hidden--visually {border: 0;clip: rect(1px 1px 1px 1px);clip: rect(1px, 1px, 1px, 1px);height: 1px;margin: -1px;overflow: hidden;padding: 0;position: absolute;width: 1px;}#sk-container-id-7 div.sk-estimator {font-family: monospace;background-color: #f0f8ff;border: 1px dotted black;border-radius: 0.25em;box-sizing: border-box;margin-bottom: 0.5em;}#sk-container-id-7 div.sk-estimator:hover {background-color: #d4ebff;}#sk-container-id-7 div.sk-parallel-item::after {content: \"\";width: 100%;border-bottom: 1px solid gray;flex-grow: 1;}#sk-container-id-7 div.sk-label:hover label.sk-toggleable__label {background-color: #d4ebff;}#sk-container-id-7 div.sk-serial::before {content: \"\";position: absolute;border-left: 1px solid gray;box-sizing: border-box;top: 0;bottom: 0;left: 50%;z-index: 0;}#sk-container-id-7 div.sk-serial {display: flex;flex-direction: column;align-items: center;background-color: white;padding-right: 0.2em;padding-left: 0.2em;position: relative;}#sk-container-id-7 div.sk-item {position: relative;z-index: 1;}#sk-container-id-7 div.sk-parallel {display: flex;align-items: stretch;justify-content: center;background-color: white;position: relative;}#sk-container-id-7 div.sk-item::before, #sk-container-id-7 div.sk-parallel-item::before {content: \"\";position: absolute;border-left: 1px solid gray;box-sizing: border-box;top: 0;bottom: 0;left: 50%;z-index: -1;}#sk-container-id-7 div.sk-parallel-item {display: flex;flex-direction: column;z-index: 1;position: relative;background-color: white;}#sk-container-id-7 div.sk-parallel-item:first-child::after {align-self: flex-end;width: 50%;}#sk-container-id-7 div.sk-parallel-item:last-child::after {align-self: flex-start;width: 50%;}#sk-container-id-7 div.sk-parallel-item:only-child::after {width: 0;}#sk-container-id-7 div.sk-dashed-wrapped {border: 1px dashed gray;margin: 0 0.4em 0.5em 0.4em;box-sizing: border-box;padding-bottom: 0.4em;background-color: white;}#sk-container-id-7 div.sk-label label {font-family: monospace;font-weight: bold;display: inline-block;line-height: 1.2em;}#sk-container-id-7 div.sk-label-container {text-align: center;}#sk-container-id-7 div.sk-container {/* jupyter's `normalize.less` sets `[hidden] { display: none; }` but bootstrap.min.css set `[hidden] { display: none !important; }` so we also need the `!important` here to be able to override the default hidden behavior on the sphinx rendered scikit-learn.org. See: https://github.com/scikit-learn/scikit-learn/issues/21755 */display: inline-block !important;position: relative;}#sk-container-id-7 div.sk-text-repr-fallback {display: none;}</style><div id=\"sk-container-id-7\" class=\"sk-top-container\"><div class=\"sk-text-repr-fallback\"><pre>GridSearchCV(cv=&lt;model_utils.GroupSplitFold object at 0x2b4bb6cc0e20&gt;,\n",
       "             estimator=CRF(algorithm=&#x27;lbfgs&#x27;, all_possible_transitions=True,\n",
       "                           max_iterations=100),\n",
       "             n_jobs=-1,\n",
       "             param_grid={&#x27;c1&#x27;: array([0.798, 0.799, 0.8  , 0.801, 0.802]),\n",
       "                         &#x27;c2&#x27;: array([0.0078, 0.0079, 0.008 , 0.0081, 0.0082]),\n",
       "                         &#x27;min_freq&#x27;: array([1, 2, 3])},\n",
       "             scoring=make_scorer(flat_f1_score, average=weighted, labels=[&#x27;not_nar&#x27;, &#x27;is_nar&#x27;]),\n",
       "             verbose=3)</pre><b>In a Jupyter environment, please rerun this cell to show the HTML representation or trust the notebook. <br />On GitHub, the HTML representation is unable to render, please try loading this page with nbviewer.org.</b></div><div class=\"sk-container\" hidden><div class=\"sk-item sk-dashed-wrapped\"><div class=\"sk-label-container\"><div class=\"sk-label sk-toggleable\"><input class=\"sk-toggleable__control sk-hidden--visually\" id=\"sk-estimator-id-19\" type=\"checkbox\" ><label for=\"sk-estimator-id-19\" class=\"sk-toggleable__label sk-toggleable__label-arrow\">GridSearchCV</label><div class=\"sk-toggleable__content\"><pre>GridSearchCV(cv=&lt;model_utils.GroupSplitFold object at 0x2b4bb6cc0e20&gt;,\n",
       "             estimator=CRF(algorithm=&#x27;lbfgs&#x27;, all_possible_transitions=True,\n",
       "                           max_iterations=100),\n",
       "             n_jobs=-1,\n",
       "             param_grid={&#x27;c1&#x27;: array([0.798, 0.799, 0.8  , 0.801, 0.802]),\n",
       "                         &#x27;c2&#x27;: array([0.0078, 0.0079, 0.008 , 0.0081, 0.0082]),\n",
       "                         &#x27;min_freq&#x27;: array([1, 2, 3])},\n",
       "             scoring=make_scorer(flat_f1_score, average=weighted, labels=[&#x27;not_nar&#x27;, &#x27;is_nar&#x27;]),\n",
       "             verbose=3)</pre></div></div></div><div class=\"sk-parallel\"><div class=\"sk-parallel-item\"><div class=\"sk-item\"><div class=\"sk-label-container\"><div class=\"sk-label sk-toggleable\"><input class=\"sk-toggleable__control sk-hidden--visually\" id=\"sk-estimator-id-20\" type=\"checkbox\" ><label for=\"sk-estimator-id-20\" class=\"sk-toggleable__label sk-toggleable__label-arrow\">estimator: CRF</label><div class=\"sk-toggleable__content\"><pre>CRF(algorithm=&#x27;lbfgs&#x27;, all_possible_transitions=True, max_iterations=100)</pre></div></div></div><div class=\"sk-serial\"><div class=\"sk-item\"><div class=\"sk-estimator sk-toggleable\"><input class=\"sk-toggleable__control sk-hidden--visually\" id=\"sk-estimator-id-21\" type=\"checkbox\" ><label for=\"sk-estimator-id-21\" class=\"sk-toggleable__label sk-toggleable__label-arrow\">CRF</label><div class=\"sk-toggleable__content\"><pre>CRF(algorithm=&#x27;lbfgs&#x27;, all_possible_transitions=True, max_iterations=100)</pre></div></div></div></div></div></div></div></div></div></div>"
      ],
      "text/plain": [
       "GridSearchCV(cv=<model_utils.GroupSplitFold object at 0x2b4bb6cc0e20>,\n",
       "             estimator=CRF(algorithm='lbfgs', all_possible_transitions=True,\n",
       "                           max_iterations=100),\n",
       "             n_jobs=-1,\n",
       "             param_grid={'c1': array([0.798, 0.799, 0.8  , 0.801, 0.802]),\n",
       "                         'c2': array([0.0078, 0.0079, 0.008 , 0.0081, 0.0082]),\n",
       "                         'min_freq': array([1, 2, 3])},\n",
       "             scoring=make_scorer(flat_f1_score, average=weighted, labels=['not_nar', 'is_nar']),\n",
       "             verbose=3)"
      ]
     },
     "execution_count": 82,
     "metadata": {},
     "output_type": "execute_result"
    }
   ],
   "source": [
    "%%time\n",
    "# define fixed parameters and parameters to search\n",
    "increment_iter()\n",
    "crf = CRF(\n",
    "    max_iterations=100,\n",
    "    all_possible_transitions=True,\n",
    "    algorithm='lbfgs'\n",
    ")\n",
    "c1_param_range = np.arange(0.798,0.802,0.001)\n",
    "c2_param_range = np.arange(0.0078,0.0082,0.0001)\n",
    "\n",
    "params_space = {\n",
    "    'c1': c1_param_range,\n",
    "    'c2': c2_param_range,\n",
    "    'min_freq': np.arange(1,4,1),\n",
    "#      'epsilon':scipy.stats.expon(scale=0.00005),\n",
    "#      'delta':scipy.stats.expon(scale=0.00005)\n",
    "}\n",
    "\n",
    "labels = ['not_nar','is_nar']\n",
    "# use the same metric for evaluation\n",
    "f1_scorer = make_scorer(metrics.flat_f1_score,\n",
    "                        average='weighted', labels=labels)\n",
    "\n",
    "# search\n",
    "\n",
    "rs[iterr] = GridSearchCV(crf, params_space,\n",
    "                        cv=gsf,\n",
    "                        verbose=3,\n",
    "                        n_jobs=-1,\n",
    "                        scoring=f1_scorer)\n",
    "\n",
    "rs[iterr].fit(X=X, y=y,groups=groups)"
   ]
  },
  {
   "cell_type": "code",
   "execution_count": 80,
   "id": "6c428888",
   "metadata": {},
   "outputs": [
    {
     "name": "stdout",
     "output_type": "stream",
     "text": [
      "best params: {'c1': 0.799, 'c2': 0.008199999999999997, 'min_freq': 3}\n",
      "best CV score: 0.7956883877279403\n",
      "model size: 0.28M\n"
     ]
    }
   ],
   "source": [
    "# grid search\n",
    "print('best params:', rs[iterr].best_params_)\n",
    "print('best CV score:', rs[iterr].best_score_)\n",
    "print('model size: {:0.2f}M'.format(rs[iterr].best_estimator_.size_ / 1000000))"
   ]
  },
  {
   "cell_type": "code",
   "execution_count": 78,
   "id": "edf47899",
   "metadata": {},
   "outputs": [
    {
     "data": {
      "text/plain": [
       "({'c1': 0.8, 'c2': 0.008, 'min_freq': 3}, 0.8145372106942936)"
      ]
     },
     "execution_count": 78,
     "metadata": {},
     "output_type": "execute_result"
    }
   ],
   "source": [
    "rs[0].best_params_,rs[0].best_score_"
   ]
  },
  {
   "cell_type": "code",
   "execution_count": 79,
   "id": "df675669",
   "metadata": {},
   "outputs": [
    {
     "name": "stdout",
     "output_type": "stream",
     "text": [
      "Saving /scratch/sim_reg6/users/zsofya/classroom/MSc/personal_study/thesis/dataframes/reparse/.815_27.07_11:47_best_params.json.json\n"
     ]
    }
   ],
   "source": [
    "imp.reload(common_utils)\n",
    "common_utils.save_best_params(rs[iterr].best_params_, rs[iterr].best_score_,dir_name)"
   ]
  },
  {
   "cell_type": "code",
   "execution_count": 38,
   "id": "9b4848c0",
   "metadata": {},
   "outputs": [
    {
     "name": "stdout",
     "output_type": "stream",
     "text": [
      "best params: {'c1': 0.8102417978873656, 'c2': 0.003873793440565451, 'delta': 0.000216707316979366, 'epsilon': 7.397418881207557e-05, 'min_freq': 7}\n",
      "best CV score: 0.7860289715476777\n",
      "model size: 0.29M\n"
     ]
    }
   ],
   "source": [
    "print('best params:', rs.best_params_)\n",
    "print('best CV score:', rs.best_score_)\n",
    "print('model size: {:0.2f}M'.format(rs.best_estimator_.size_ / 1000000))"
   ]
  },
  {
   "cell_type": "code",
   "execution_count": 44,
   "id": "3f84e804",
   "metadata": {},
   "outputs": [
    {
     "name": "stdout",
     "output_type": "stream",
     "text": [
      "best params: {'c1': 0.7376072630217567, 'c2': 0.003846463275689818, 'delta': 2.2194633620811626e-05, 'epsilon': 6.157505230222483e-06, 'min_freq': 1}\n",
      "best CV score: 0.7834174342882456\n",
      "model size: 0.44M\n"
     ]
    }
   ],
   "source": [
    "print('best params:', rs.best_params_)\n",
    "print('best CV score:', rs.best_score_)\n",
    "print('model size: {:0.2f}M'.format(rs.best_estimator_.size_ / 1000000))"
   ]
  },
  {
   "cell_type": "code",
   "execution_count": 47,
   "id": "8957f5d2",
   "metadata": {},
   "outputs": [
    {
     "name": "stdout",
     "output_type": "stream",
     "text": [
      "best params: {'c1': 0.9091855366176487, 'c2': 0.05630278956926933, 'delta': 6.64420665018946e-05, 'epsilon': 1.1727392993109942e-05, 'min_freq': 3}\n",
      "best CV score: 0.7876660388159731\n",
      "model size: 0.32M\n"
     ]
    }
   ],
   "source": [
    "print('best params:', rs.best_params_)\n",
    "print('best CV score:', rs.best_score_)\n",
    "print('model size: {:0.2f}M'.format(rs.best_estimator_.size_ / 1000000))"
   ]
  },
  {
   "cell_type": "code",
   "execution_count": 52,
   "id": "4e0dc23c",
   "metadata": {},
   "outputs": [
    {
     "name": "stdout",
     "output_type": "stream",
     "text": [
      "date and time = 26.07_17:35\n"
     ]
    }
   ],
   "source": [
    "import json\n",
    "from datetime import datetime\n",
    "\n",
    "# datetime object containing current date and time\n",
    "now = datetime.now()\n",
    "dt_string = now.strftime(\"%d.%m_%H:%M\")\n",
    "print(\"date and time =\", dt_string)\n",
    "score=\"{:.3f}\".format(rs.best_score_).lstrip('0')\n",
    "score\n",
    "json_path = os.path.join(os.getcwd(),defines.PATH_TO_DFS,dir_name,\"{}_{}_best_params.json\".format(score,dt_string))\n",
    "\n",
    "best_params_pyth = common_utils.convert_to_python_types(rs.best_params_)\n",
    "json_path\n",
    "with open(json_path, 'w') as fp:\n",
    "    json.dump(best_params_pyth, fp)"
   ]
  },
  {
   "cell_type": "code",
   "execution_count": 53,
   "id": "cc3efdda",
   "metadata": {},
   "outputs": [
    {
     "data": {
      "text/plain": [
       "'/scratch/sim_reg6/users/zsofya/classroom/MSc/personal_study/thesis/dataframes/reparse/.788_26.07_17:35_best_params.json'"
      ]
     },
     "execution_count": 53,
     "metadata": {},
     "output_type": "execute_result"
    }
   ],
   "source": [
    "json_path"
   ]
  },
  {
   "cell_type": "code",
   "execution_count": null,
   "id": "e62417cb",
   "metadata": {},
   "outputs": [],
   "source": []
  }
 ],
 "metadata": {
  "kernelspec": {
   "display_name": "Python 3",
   "language": "python",
   "name": "python3"
  },
  "language_info": {
   "codemirror_mode": {
    "name": "ipython",
    "version": 3
   },
   "file_extension": ".py",
   "mimetype": "text/x-python",
   "name": "python",
   "nbconvert_exporter": "python",
   "pygments_lexer": "ipython3",
   "version": "3.8.5"
  }
 },
 "nbformat": 4,
 "nbformat_minor": 5
}
