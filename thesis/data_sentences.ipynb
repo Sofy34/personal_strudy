{
 "cells": [
  {
   "cell_type": "code",
   "execution_count": 33,
   "id": "dbbce901",
   "metadata": {},
   "outputs": [],
   "source": [
    "import nltk\n",
    "from nltk import tokenize\n",
    "import pandas as pd\n",
    "import numpy as np"
   ]
  },
  {
   "cell_type": "code",
   "execution_count": 34,
   "id": "16867063",
   "metadata": {},
   "outputs": [
    {
     "name": "stderr",
     "output_type": "stream",
     "text": [
      "[nltk_data] Downloading package punkt to /home/zsofya/nltk_data...\n",
      "[nltk_data]   Unzipping tokenizers/punkt.zip.\n"
     ]
    },
    {
     "data": {
      "text/plain": [
       "True"
      ]
     },
     "execution_count": 34,
     "metadata": {},
     "output_type": "execute_result"
    }
   ],
   "source": [
    "nltk.download('punkt')"
   ]
  },
  {
   "cell_type": "code",
   "execution_count": 9,
   "id": "0002a1b1",
   "metadata": {},
   "outputs": [],
   "source": [
    "par_db = pd.read_csv(\"par_db.csv\")\n",
    "doc_db = pd.read_csv(\"doc_db.csv\")"
   ]
  },
  {
   "cell_type": "code",
   "execution_count": 8,
   "id": "f98e88a3",
   "metadata": {},
   "outputs": [
    {
     "data": {
      "text/html": [
       "<div>\n",
       "<style scoped>\n",
       "    .dataframe tbody tr th:only-of-type {\n",
       "        vertical-align: middle;\n",
       "    }\n",
       "\n",
       "    .dataframe tbody tr th {\n",
       "        vertical-align: top;\n",
       "    }\n",
       "\n",
       "    .dataframe thead th {\n",
       "        text-align: right;\n",
       "    }\n",
       "</style>\n",
       "<table border=\"1\" class=\"dataframe\">\n",
       "  <thead>\n",
       "    <tr style=\"text-align: right;\">\n",
       "      <th></th>\n",
       "      <th>doc_idx</th>\n",
       "      <th>text</th>\n",
       "      <th>par_type</th>\n",
       "      <th>is_nar</th>\n",
       "      <th>nar_idx</th>\n",
       "      <th>glob_nar_idx</th>\n",
       "      <th>nar_len</th>\n",
       "      <th>nar_len_words</th>\n",
       "      <th>par_len</th>\n",
       "      <th>par_idx</th>\n",
       "      <th>idx_in_nar</th>\n",
       "      <th>one_before_is_nar</th>\n",
       "      <th>two_before_is_nar</th>\n",
       "    </tr>\n",
       "  </thead>\n",
       "  <tbody>\n",
       "    <tr>\n",
       "      <th>0</th>\n",
       "      <td>0.0</td>\n",
       "      <td>CLIENT</td>\n",
       "      <td>no_mark</td>\n",
       "      <td>0.0</td>\n",
       "      <td>NaN</td>\n",
       "      <td>NaN</td>\n",
       "      <td>NaN</td>\n",
       "      <td>NaN</td>\n",
       "      <td>7.0</td>\n",
       "      <td>0.0</td>\n",
       "      <td>NaN</td>\n",
       "      <td>0.0</td>\n",
       "      <td>0.0</td>\n",
       "    </tr>\n",
       "    <tr>\n",
       "      <th>1</th>\n",
       "      <td>0.0</td>\n",
       "      <td>THERAPIST</td>\n",
       "      <td>no_mark</td>\n",
       "      <td>0.0</td>\n",
       "      <td>NaN</td>\n",
       "      <td>NaN</td>\n",
       "      <td>NaN</td>\n",
       "      <td>NaN</td>\n",
       "      <td>10.0</td>\n",
       "      <td>1.0</td>\n",
       "      <td>NaN</td>\n",
       "      <td>0.0</td>\n",
       "      <td>0.0</td>\n",
       "    </tr>\n",
       "    <tr>\n",
       "      <th>2</th>\n",
       "      <td>0.0</td>\n",
       "      <td>התחל</td>\n",
       "      <td>no_mark</td>\n",
       "      <td>0.0</td>\n",
       "      <td>NaN</td>\n",
       "      <td>NaN</td>\n",
       "      <td>NaN</td>\n",
       "      <td>NaN</td>\n",
       "      <td>4.0</td>\n",
       "      <td>2.0</td>\n",
       "      <td>NaN</td>\n",
       "      <td>0.0</td>\n",
       "      <td>0.0</td>\n",
       "    </tr>\n",
       "    <tr>\n",
       "      <th>3</th>\n",
       "      <td>0.0</td>\n",
       "      <td>שפה עב</td>\n",
       "      <td>no_mark</td>\n",
       "      <td>0.0</td>\n",
       "      <td>NaN</td>\n",
       "      <td>NaN</td>\n",
       "      <td>NaN</td>\n",
       "      <td>NaN</td>\n",
       "      <td>6.0</td>\n",
       "      <td>3.0</td>\n",
       "      <td>NaN</td>\n",
       "      <td>0.0</td>\n",
       "      <td>0.0</td>\n",
       "    </tr>\n",
       "    <tr>\n",
       "      <th>4</th>\n",
       "      <td>0.0</td>\n",
       "      <td>משתתפים  קליינט  מטפל</td>\n",
       "      <td>therapist</td>\n",
       "      <td>0.0</td>\n",
       "      <td>NaN</td>\n",
       "      <td>NaN</td>\n",
       "      <td>NaN</td>\n",
       "      <td>NaN</td>\n",
       "      <td>22.0</td>\n",
       "      <td>4.0</td>\n",
       "      <td>NaN</td>\n",
       "      <td>0.0</td>\n",
       "      <td>0.0</td>\n",
       "    </tr>\n",
       "    <tr>\n",
       "      <th>...</th>\n",
       "      <td>...</td>\n",
       "      <td>...</td>\n",
       "      <td>...</td>\n",
       "      <td>...</td>\n",
       "      <td>...</td>\n",
       "      <td>...</td>\n",
       "      <td>...</td>\n",
       "      <td>...</td>\n",
       "      <td>...</td>\n",
       "      <td>...</td>\n",
       "      <td>...</td>\n",
       "      <td>...</td>\n",
       "      <td>...</td>\n",
       "    </tr>\n",
       "    <tr>\n",
       "      <th>1108</th>\n",
       "      <td>3.0</td>\n",
       "      <td>יש לך את הדקות בשביל ה</td>\n",
       "      <td>therapist</td>\n",
       "      <td>0.0</td>\n",
       "      <td>NaN</td>\n",
       "      <td>NaN</td>\n",
       "      <td>NaN</td>\n",
       "      <td>NaN</td>\n",
       "      <td>23.0</td>\n",
       "      <td>264.0</td>\n",
       "      <td>NaN</td>\n",
       "      <td>0.0</td>\n",
       "      <td>0.0</td>\n",
       "    </tr>\n",
       "    <tr>\n",
       "      <th>1109</th>\n",
       "      <td>3.0</td>\n",
       "      <td>את הזה השאלון</td>\n",
       "      <td>client</td>\n",
       "      <td>0.0</td>\n",
       "      <td>NaN</td>\n",
       "      <td>NaN</td>\n",
       "      <td>NaN</td>\n",
       "      <td>NaN</td>\n",
       "      <td>15.0</td>\n",
       "      <td>265.0</td>\n",
       "      <td>NaN</td>\n",
       "      <td>0.0</td>\n",
       "      <td>0.0</td>\n",
       "    </tr>\n",
       "    <tr>\n",
       "      <th>1110</th>\n",
       "      <td>3.0</td>\n",
       "      <td>סיום\\n</td>\n",
       "      <td>no_mark</td>\n",
       "      <td>0.0</td>\n",
       "      <td>NaN</td>\n",
       "      <td>NaN</td>\n",
       "      <td>NaN</td>\n",
       "      <td>NaN</td>\n",
       "      <td>6.0</td>\n",
       "      <td>266.0</td>\n",
       "      <td>NaN</td>\n",
       "      <td>0.0</td>\n",
       "      <td>0.0</td>\n",
       "    </tr>\n",
       "    <tr>\n",
       "      <th>1111</th>\n",
       "      <td>3.0</td>\n",
       "      <td>NaN</td>\n",
       "      <td>no_mark</td>\n",
       "      <td>0.0</td>\n",
       "      <td>NaN</td>\n",
       "      <td>NaN</td>\n",
       "      <td>NaN</td>\n",
       "      <td>NaN</td>\n",
       "      <td>0.0</td>\n",
       "      <td>267.0</td>\n",
       "      <td>NaN</td>\n",
       "      <td>0.0</td>\n",
       "      <td>0.0</td>\n",
       "    </tr>\n",
       "    <tr>\n",
       "      <th>1112</th>\n",
       "      <td>3.0</td>\n",
       "      <td>NaN</td>\n",
       "      <td>no_mark</td>\n",
       "      <td>0.0</td>\n",
       "      <td>NaN</td>\n",
       "      <td>NaN</td>\n",
       "      <td>NaN</td>\n",
       "      <td>NaN</td>\n",
       "      <td>0.0</td>\n",
       "      <td>268.0</td>\n",
       "      <td>NaN</td>\n",
       "      <td>0.0</td>\n",
       "      <td>0.0</td>\n",
       "    </tr>\n",
       "  </tbody>\n",
       "</table>\n",
       "<p>1113 rows × 13 columns</p>\n",
       "</div>"
      ],
      "text/plain": [
       "      doc_idx                     text   par_type  is_nar  nar_idx  \\\n",
       "0         0.0                   CLIENT    no_mark     0.0      NaN   \n",
       "1         0.0                THERAPIST    no_mark     0.0      NaN   \n",
       "2         0.0                     התחל    no_mark     0.0      NaN   \n",
       "3         0.0                   שפה עב    no_mark     0.0      NaN   \n",
       "4         0.0   משתתפים  קליינט  מטפל   therapist     0.0      NaN   \n",
       "...       ...                      ...        ...     ...      ...   \n",
       "1108      3.0   יש לך את הדקות בשביל ה  therapist     0.0      NaN   \n",
       "1109      3.0            את הזה השאלון     client     0.0      NaN   \n",
       "1110      3.0                   סיום\\n    no_mark     0.0      NaN   \n",
       "1111      3.0                      NaN    no_mark     0.0      NaN   \n",
       "1112      3.0                      NaN    no_mark     0.0      NaN   \n",
       "\n",
       "     glob_nar_idx  nar_len  nar_len_words  par_len  par_idx  idx_in_nar  \\\n",
       "0             NaN      NaN            NaN      7.0      0.0         NaN   \n",
       "1             NaN      NaN            NaN     10.0      1.0         NaN   \n",
       "2             NaN      NaN            NaN      4.0      2.0         NaN   \n",
       "3             NaN      NaN            NaN      6.0      3.0         NaN   \n",
       "4             NaN      NaN            NaN     22.0      4.0         NaN   \n",
       "...           ...      ...            ...      ...      ...         ...   \n",
       "1108          NaN      NaN            NaN     23.0    264.0         NaN   \n",
       "1109          NaN      NaN            NaN     15.0    265.0         NaN   \n",
       "1110          NaN      NaN            NaN      6.0    266.0         NaN   \n",
       "1111          NaN      NaN            NaN      0.0    267.0         NaN   \n",
       "1112          NaN      NaN            NaN      0.0    268.0         NaN   \n",
       "\n",
       "      one_before_is_nar  two_before_is_nar  \n",
       "0                   0.0                0.0  \n",
       "1                   0.0                0.0  \n",
       "2                   0.0                0.0  \n",
       "3                   0.0                0.0  \n",
       "4                   0.0                0.0  \n",
       "...                 ...                ...  \n",
       "1108                0.0                0.0  \n",
       "1109                0.0                0.0  \n",
       "1110                0.0                0.0  \n",
       "1111                0.0                0.0  \n",
       "1112                0.0                0.0  \n",
       "\n",
       "[1113 rows x 13 columns]"
      ]
     },
     "execution_count": 8,
     "metadata": {},
     "output_type": "execute_result"
    }
   ],
   "source": [
    "par_db"
   ]
  },
  {
   "cell_type": "code",
   "execution_count": 10,
   "id": "859e8957",
   "metadata": {},
   "outputs": [
    {
     "data": {
      "text/html": [
       "<div>\n",
       "<style scoped>\n",
       "    .dataframe tbody tr th:only-of-type {\n",
       "        vertical-align: middle;\n",
       "    }\n",
       "\n",
       "    .dataframe tbody tr th {\n",
       "        vertical-align: top;\n",
       "    }\n",
       "\n",
       "    .dataframe thead th {\n",
       "        text-align: right;\n",
       "    }\n",
       "</style>\n",
       "<table border=\"1\" class=\"dataframe\">\n",
       "  <thead>\n",
       "    <tr style=\"text-align: right;\">\n",
       "      <th></th>\n",
       "      <th>path</th>\n",
       "      <th>file_name</th>\n",
       "      <th>client_tag</th>\n",
       "      <th>therapist_tag</th>\n",
       "      <th>num_par</th>\n",
       "    </tr>\n",
       "  </thead>\n",
       "  <tbody>\n",
       "    <tr>\n",
       "      <th>0</th>\n",
       "      <td>tmp/lamedbet21_l.docx</td>\n",
       "      <td>lamedbet21_l.docx</td>\n",
       "      <td>לבקל</td>\n",
       "      <td>לבמט</td>\n",
       "      <td>450</td>\n",
       "    </tr>\n",
       "    <tr>\n",
       "      <th>1</th>\n",
       "      <td>tmp/nun2_l.docx</td>\n",
       "      <td>nun2_l.docx</td>\n",
       "      <td>נקל</td>\n",
       "      <td>נמט</td>\n",
       "      <td>166</td>\n",
       "    </tr>\n",
       "    <tr>\n",
       "      <th>2</th>\n",
       "      <td>tmp/aingimel3_l.docx</td>\n",
       "      <td>aingimel3_l.docx</td>\n",
       "      <td>עגקל</td>\n",
       "      <td>עגמט</td>\n",
       "      <td>229</td>\n",
       "    </tr>\n",
       "    <tr>\n",
       "      <th>3</th>\n",
       "      <td>tmp/alefsameh3_l.docx</td>\n",
       "      <td>alefsameh3_l.docx</td>\n",
       "      <td>סאקל</td>\n",
       "      <td>סאמט</td>\n",
       "      <td>276</td>\n",
       "    </tr>\n",
       "  </tbody>\n",
       "</table>\n",
       "</div>"
      ],
      "text/plain": [
       "                    path          file_name client_tag therapist_tag  num_par\n",
       "0  tmp/lamedbet21_l.docx  lamedbet21_l.docx       לבקל          לבמט      450\n",
       "1        tmp/nun2_l.docx        nun2_l.docx        נקל           נמט      166\n",
       "2   tmp/aingimel3_l.docx   aingimel3_l.docx       עגקל          עגמט      229\n",
       "3  tmp/alefsameh3_l.docx  alefsameh3_l.docx       סאקל          סאמט      276"
      ]
     },
     "execution_count": 10,
     "metadata": {},
     "output_type": "execute_result"
    }
   ],
   "source": [
    "doc_db"
   ]
  },
  {
   "cell_type": "code",
   "execution_count": 26,
   "id": "146a282d",
   "metadata": {},
   "outputs": [
    {
     "data": {
      "text/plain": [
       "' וואו אמ  לא יודע כאילו כן לא יודע אמ  כאילו אני חושב ש הם נורא כעסו אה אל ושק שהם שני האנשי צוות ו ואני לא כעסתי בחזרה למרות שזה הכעיס אותי באיזשהו מקום אמ כאילו נתתי לכעס שלהם נורא לפגוע בי אמ כאילו במקום כן להתעמת בחזרה כאילו  כאילו שזה כן בסדר להתעמת אה במצבים מסוימים אה שכנראה זה היה מצב ששלא עשיתי את זה ווכנראה בגלל זה זה גם כן פגע בי'"
      ]
     },
     "execution_count": 26,
     "metadata": {},
     "output_type": "execute_result"
    }
   ],
   "source": [
    "random_par = par_db.query(\"par_type == 'client' and is_nar == 1\")['text'].sample(n=1).tolist()[0]\n",
    "random_par"
   ]
  },
  {
   "cell_type": "code",
   "execution_count": 27,
   "id": "2c9f7f9f",
   "metadata": {},
   "outputs": [],
   "source": [
    "long_par = random_par"
   ]
  },
  {
   "cell_type": "code",
   "execution_count": 35,
   "id": "9cf44265",
   "metadata": {},
   "outputs": [],
   "source": [
    "sent = tokenize.sent_tokenize(long_par)"
   ]
  },
  {
   "cell_type": "code",
   "execution_count": 36,
   "id": "8de5c406",
   "metadata": {},
   "outputs": [
    {
     "data": {
      "text/plain": [
       "[' וואו אמ  לא יודע כאילו כן לא יודע אמ  כאילו אני חושב ש הם נורא כעסו אה אל ושק שהם שני האנשי צוות ו ואני לא כעסתי בחזרה למרות שזה הכעיס אותי באיזשהו מקום אמ כאילו נתתי לכעס שלהם נורא לפגוע בי אמ כאילו במקום כן להתעמת בחזרה כאילו  כאילו שזה כן בסדר להתעמת אה במצבים מסוימים אה שכנראה זה היה מצב ששלא עשיתי את זה ווכנראה בגלל זה זה גם כן פגע בי']"
      ]
     },
     "execution_count": 36,
     "metadata": {},
     "output_type": "execute_result"
    }
   ],
   "source": [
    "sent"
   ]
  },
  {
   "cell_type": "code",
   "execution_count": 38,
   "id": "68d586f5",
   "metadata": {},
   "outputs": [
    {
     "name": "stdout",
     "output_type": "stream",
     "text": [
      " וואו אמ  לא יודע כאילו כן לא יודע אמ  כאילו אני חושב ש הם נורא כעסו אה אל ושק שהם שני האנשי צוות ו ואני לא כעסתי בחזרה למרות שזה הכעיס אותי באיזשהו מקום אמ כאילו נתתי לכעס שלהם נורא לפגוע בי אמ כאילו במקום כן להתעמת בחזרה כאילו  כאילו שזה כן בסדר להתעמת אה במצבים מסוימים אה שכנראה זה היה מצב ששלא עשיתי את זה ווכנראה בגלל זה זה גם כן פגע בי\n"
     ]
    }
   ],
   "source": [
    "for x in range(len(sent)):\n",
    "    print (sent[x])"
   ]
  },
  {
   "cell_type": "code",
   "execution_count": null,
   "id": "a36636d8",
   "metadata": {},
   "outputs": [],
   "source": []
  }
 ],
 "metadata": {
  "kernelspec": {
   "display_name": "Python 3",
   "language": "python",
   "name": "python3"
  },
  "language_info": {
   "codemirror_mode": {
    "name": "ipython",
    "version": 3
   },
   "file_extension": ".py",
   "mimetype": "text/x-python",
   "name": "python",
   "nbconvert_exporter": "python",
   "pygments_lexer": "ipython3",
   "version": "3.8.5"
  }
 },
 "nbformat": 4,
 "nbformat_minor": 5
}
