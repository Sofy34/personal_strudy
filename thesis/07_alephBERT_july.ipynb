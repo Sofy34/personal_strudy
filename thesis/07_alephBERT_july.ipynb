{
 "cells": [
  {
   "cell_type": "code",
   "execution_count": 4,
   "metadata": {},
   "outputs": [],
   "source": [
    "import numpy as np\n",
    "import pandas as pd\n",
    "import sys, os, glob\n",
    "import imp\n",
    "import seaborn as sns\n",
    "sys.path.append('./src/')\n",
    "import doc_utils\n",
    "import defines\n",
    "import my_bert\n",
    "import feature_utils\n",
    "import common_utils"
   ]
  },
  {
   "cell_type": "code",
   "execution_count": 5,
   "metadata": {},
   "outputs": [],
   "source": [
    "dir_name=\"recalc_tfidf\""
   ]
  },
  {
   "cell_type": "markdown",
   "metadata": {},
   "source": [
    "## Give a try to AlephBERT"
   ]
  },
  {
   "cell_type": "code",
   "execution_count": 2,
   "metadata": {},
   "outputs": [],
   "source": [
    "from transformers import BertModel, BertTokenizerFast\n"
   ]
  },
  {
   "cell_type": "code",
   "execution_count": 3,
   "metadata": {},
   "outputs": [
    {
     "name": "stderr",
     "output_type": "stream",
     "text": [
      "Some weights of BertModel were not initialized from the model checkpoint at onlplab/alephbert-base and are newly initialized: ['bert.pooler.dense.weight', 'bert.pooler.dense.bias']\n",
      "You should probably TRAIN this model on a down-stream task to be able to use it for predictions and inference.\n"
     ]
    }
   ],
   "source": [
    "alephbert_tokenizer = BertTokenizerFast.from_pretrained('onlplab/alephbert-base')\n",
    "alephbert = BertModel.from_pretrained('onlplab/alephbert-base', return_dict=False)\n",
    "\n",
    "# # if not finetuning - disable dropout\n",
    "# alephbert.eval()"
   ]
  },
  {
   "cell_type": "code",
   "execution_count": 7,
   "metadata": {},
   "outputs": [
    {
     "data": {
      "text/html": [
       "<div>\n",
       "<style scoped>\n",
       "    .dataframe tbody tr th:only-of-type {\n",
       "        vertical-align: middle;\n",
       "    }\n",
       "\n",
       "    .dataframe tbody tr th {\n",
       "        vertical-align: top;\n",
       "    }\n",
       "\n",
       "    .dataframe thead th {\n",
       "        text-align: right;\n",
       "    }\n",
       "</style>\n",
       "<table border=\"1\" class=\"dataframe\">\n",
       "  <thead>\n",
       "    <tr style=\"text-align: right;\">\n",
       "      <th></th>\n",
       "      <th>doc_idx</th>\n",
       "      <th>sent_idx</th>\n",
       "      <th>text</th>\n",
       "      <th>is_nar</th>\n",
       "    </tr>\n",
       "  </thead>\n",
       "  <tbody>\n",
       "    <tr>\n",
       "      <th>0</th>\n",
       "      <td>1</td>\n",
       "      <td>0</td>\n",
       "      <td>אז היום אנחנו נפגשים פה ב18 אבל שבוע הבא בחמישי</td>\n",
       "      <td>0.000000</td>\n",
       "    </tr>\n",
       "    <tr>\n",
       "      <th>1</th>\n",
       "      <td>1</td>\n",
       "      <td>1</td>\n",
       "      <td>כן</td>\n",
       "      <td>0.000000</td>\n",
       "    </tr>\n",
       "    <tr>\n",
       "      <th>2</th>\n",
       "      <td>1</td>\n",
       "      <td>2</td>\n",
       "      <td>אוקיי מה שלומך?</td>\n",
       "      <td>0.000000</td>\n",
       "    </tr>\n",
       "    <tr>\n",
       "      <th>3</th>\n",
       "      <td>1</td>\n",
       "      <td>3</td>\n",
       "      <td>ברוך השם</td>\n",
       "      <td>0.000000</td>\n",
       "    </tr>\n",
       "    <tr>\n",
       "      <th>4</th>\n",
       "      <td>1</td>\n",
       "      <td>4</td>\n",
       "      <td>מחר יש לכם יום טיול</td>\n",
       "      <td>0.000000</td>\n",
       "    </tr>\n",
       "    <tr>\n",
       "      <th>...</th>\n",
       "      <td>...</td>\n",
       "      <td>...</td>\n",
       "      <td>...</td>\n",
       "      <td>...</td>\n",
       "    </tr>\n",
       "    <tr>\n",
       "      <th>36319</th>\n",
       "      <td>80</td>\n",
       "      <td>486</td>\n",
       "      <td>שאני מרגיש בהם לא נוח</td>\n",
       "      <td>0.000000</td>\n",
       "    </tr>\n",
       "    <tr>\n",
       "      <th>36320</th>\n",
       "      <td>80</td>\n",
       "      <td>487</td>\n",
       "      <td>אז כאילו למה למה אני מתגעגע</td>\n",
       "      <td>0.000000</td>\n",
       "    </tr>\n",
       "    <tr>\n",
       "      <th>36321</th>\n",
       "      <td>80</td>\n",
       "      <td>488</td>\n",
       "      <td>או למה אני למה אני רוצה</td>\n",
       "      <td>0.000000</td>\n",
       "    </tr>\n",
       "    <tr>\n",
       "      <th>36322</th>\n",
       "      <td>80</td>\n",
       "      <td>489</td>\n",
       "      <td>והצלחת לענות לעצמך?</td>\n",
       "      <td>0.000000</td>\n",
       "    </tr>\n",
       "    <tr>\n",
       "      <th>36323</th>\n",
       "      <td>80</td>\n",
       "      <td>490</td>\n",
       "      <td>היה לי מאוד קשה</td>\n",
       "      <td>0.000000</td>\n",
       "    </tr>\n",
       "  </tbody>\n",
       "</table>\n",
       "<p>36324 rows × 4 columns</p>\n",
       "</div>"
      ],
      "text/plain": [
       "       doc_idx  sent_idx                                             text  \\\n",
       "0            1         0  אז היום אנחנו נפגשים פה ב18 אבל שבוע הבא בחמישי   \n",
       "1            1         1                                               כן   \n",
       "2            1         2                                  אוקיי מה שלומך?   \n",
       "3            1         3                                         ברוך השם   \n",
       "4            1         4                              מחר יש לכם יום טיול   \n",
       "...        ...       ...                                              ...   \n",
       "36319       80       486                            שאני מרגיש בהם לא נוח   \n",
       "36320       80       487                      אז כאילו למה למה אני מתגעגע   \n",
       "36321       80       488                          או למה אני למה אני רוצה   \n",
       "36322       80       489                              והצלחת לענות לעצמך?   \n",
       "36323       80       490                                  היה לי מאוד קשה   \n",
       "\n",
       "        is_nar  \n",
       "0     0.000000  \n",
       "1     0.000000  \n",
       "2     0.000000  \n",
       "3     0.000000  \n",
       "4     0.000000  \n",
       "...        ...  \n",
       "36319 0.000000  \n",
       "36320 0.000000  \n",
       "36321 0.000000  \n",
       "36322 0.000000  \n",
       "36323 0.000000  \n",
       "\n",
       "[36324 rows x 4 columns]"
      ]
     },
     "execution_count": 7,
     "metadata": {},
     "output_type": "execute_result"
    }
   ],
   "source": [
    "sent_db = common_utils.concat_dbs(dir_name,\"sent_db\",['text','is_nar'])\n",
    "sent_db"
   ]
  },
  {
   "cell_type": "code",
   "execution_count": 41,
   "metadata": {},
   "outputs": [
    {
     "name": "stdout",
     "output_type": "stream",
     "text": [
      "Class Weights: [0.68633507 1.84166905]\n"
     ]
    }
   ],
   "source": [
    "imp.reload(my_bert)\n",
    "train_text, train_labels, val_text, test_text, val_labels, test_labels, test_docs = my_bert.split_train_val_test_per_doc(sent_db)\n",
    "tokens_train,tokens_val,tokens_test = my_bert.get_train_val_test_tokens(alephbert_tokenizer,train_text,val_text,test_text)\n",
    "tensor_map = my_bert.covert_token2tensor(tokens_train,train_labels,tokens_val,val_labels,tokens_test,test_labels)\n",
    "train_dataloader,val_dataloader = my_bert.get_data_loader(tensor_map)\n",
    "wrapped_model = my_bert.wrap_pretained_model(alephbert)\n",
    "optimizer = my_bert.get_optimizer(wrapped_model)\n",
    "cross_entropy = my_bert.get_cross_entropy(train_labels)"
   ]
  },
  {
   "cell_type": "code",
   "execution_count": 43,
   "metadata": {},
   "outputs": [
    {
     "data": {
      "text/plain": [
       "{4, 12, 13, 14, 18, 27, 28, 29, 69, 70, 72, 78}"
      ]
     },
     "execution_count": 43,
     "metadata": {},
     "output_type": "execute_result"
    }
   ],
   "source": [
    "test_docs"
   ]
  },
  {
   "cell_type": "code",
   "execution_count": 51,
   "metadata": {},
   "outputs": [],
   "source": [
    "test_docs_for_json = [i.item() for i in test_docs]"
   ]
  },
  {
   "cell_type": "code",
   "execution_count": 52,
   "metadata": {},
   "outputs": [],
   "source": [
    "import json\n",
    "json_path = os.path.join(os.getcwd(),defines.PATH_TO_DFS,dir_name,\"test_doc_indices.json\")\n",
    "with open(json_path, 'w') as fp:\n",
    "    json.dump(test_docs_for_json,fp)"
   ]
  },
  {
   "cell_type": "code",
   "execution_count": 30,
   "metadata": {
    "scrolled": true
   },
   "outputs": [
    {
     "name": "stdout",
     "output_type": "stream",
     "text": [
      "\n",
      " Epoch 1 / 10\n",
      "  Batch    50  of    806.\n",
      "  Batch   100  of    806.\n",
      "  Batch   150  of    806.\n",
      "  Batch   200  of    806.\n",
      "  Batch   250  of    806.\n",
      "  Batch   300  of    806.\n",
      "  Batch   350  of    806.\n",
      "  Batch   400  of    806.\n",
      "  Batch   450  of    806.\n",
      "  Batch   500  of    806.\n",
      "  Batch   550  of    806.\n",
      "  Batch   600  of    806.\n",
      "  Batch   650  of    806.\n",
      "  Batch   700  of    806.\n",
      "  Batch   750  of    806.\n",
      "  Batch   800  of    806.\n",
      "\n",
      "Evaluating...\n",
      "Saving best model alephbert\n",
      "\n",
      "Training Loss: 0.593\n",
      "Validation Loss: 0.597\n",
      "\n",
      " Epoch 2 / 10\n",
      "  Batch    50  of    806.\n",
      "  Batch   100  of    806.\n",
      "  Batch   150  of    806.\n",
      "  Batch   200  of    806.\n",
      "  Batch   250  of    806.\n",
      "  Batch   300  of    806.\n",
      "  Batch   350  of    806.\n",
      "  Batch   400  of    806.\n",
      "  Batch   450  of    806.\n",
      "  Batch   500  of    806.\n",
      "  Batch   550  of    806.\n",
      "  Batch   600  of    806.\n",
      "  Batch   650  of    806.\n",
      "  Batch   700  of    806.\n",
      "  Batch   750  of    806.\n",
      "  Batch   800  of    806.\n",
      "\n",
      "Evaluating...\n",
      "\n",
      "Training Loss: 0.517\n",
      "Validation Loss: 0.599\n",
      "\n",
      " Epoch 3 / 10\n",
      "  Batch    50  of    806.\n",
      "  Batch   100  of    806.\n",
      "  Batch   150  of    806.\n",
      "  Batch   200  of    806.\n",
      "  Batch   250  of    806.\n",
      "  Batch   300  of    806.\n",
      "  Batch   350  of    806.\n",
      "  Batch   400  of    806.\n",
      "  Batch   450  of    806.\n",
      "  Batch   500  of    806.\n",
      "  Batch   550  of    806.\n",
      "  Batch   600  of    806.\n",
      "  Batch   650  of    806.\n",
      "  Batch   700  of    806.\n",
      "  Batch   750  of    806.\n",
      "  Batch   800  of    806.\n",
      "\n",
      "Evaluating...\n",
      "\n",
      "Training Loss: 0.419\n",
      "Validation Loss: 0.605\n",
      "\n",
      " Epoch 4 / 10\n",
      "  Batch    50  of    806.\n",
      "  Batch   100  of    806.\n",
      "  Batch   150  of    806.\n",
      "  Batch   200  of    806.\n",
      "  Batch   250  of    806.\n",
      "  Batch   300  of    806.\n",
      "  Batch   350  of    806.\n",
      "  Batch   400  of    806.\n",
      "  Batch   450  of    806.\n",
      "  Batch   500  of    806.\n",
      "  Batch   550  of    806.\n",
      "  Batch   600  of    806.\n",
      "  Batch   650  of    806.\n",
      "  Batch   700  of    806.\n",
      "  Batch   750  of    806.\n",
      "  Batch   800  of    806.\n",
      "\n",
      "Evaluating...\n",
      "\n",
      "Training Loss: 0.320\n",
      "Validation Loss: 0.752\n",
      "\n",
      " Epoch 5 / 10\n",
      "  Batch    50  of    806.\n",
      "  Batch   100  of    806.\n",
      "  Batch   150  of    806.\n",
      "  Batch   200  of    806.\n",
      "  Batch   250  of    806.\n",
      "  Batch   300  of    806.\n",
      "  Batch   350  of    806.\n",
      "  Batch   400  of    806.\n",
      "  Batch   450  of    806.\n",
      "  Batch   500  of    806.\n",
      "  Batch   550  of    806.\n",
      "  Batch   600  of    806.\n",
      "  Batch   650  of    806.\n",
      "  Batch   700  of    806.\n",
      "  Batch   750  of    806.\n",
      "  Batch   800  of    806.\n",
      "\n",
      "Evaluating...\n",
      "\n",
      "Training Loss: 0.243\n",
      "Validation Loss: 0.890\n",
      "\n",
      " Epoch 6 / 10\n",
      "  Batch    50  of    806.\n",
      "  Batch   100  of    806.\n",
      "  Batch   150  of    806.\n",
      "  Batch   200  of    806.\n",
      "  Batch   250  of    806.\n",
      "  Batch   300  of    806.\n",
      "  Batch   350  of    806.\n",
      "  Batch   400  of    806.\n",
      "  Batch   450  of    806.\n",
      "  Batch   500  of    806.\n",
      "  Batch   550  of    806.\n",
      "  Batch   600  of    806.\n",
      "  Batch   650  of    806.\n",
      "  Batch   700  of    806.\n",
      "  Batch   750  of    806.\n",
      "  Batch   800  of    806.\n",
      "\n",
      "Evaluating...\n",
      "\n",
      "Training Loss: 0.209\n",
      "Validation Loss: 0.936\n",
      "\n",
      " Epoch 7 / 10\n",
      "  Batch    50  of    806.\n",
      "  Batch   100  of    806.\n",
      "  Batch   150  of    806.\n",
      "  Batch   200  of    806.\n",
      "  Batch   250  of    806.\n",
      "  Batch   300  of    806.\n",
      "  Batch   350  of    806.\n",
      "  Batch   400  of    806.\n",
      "  Batch   450  of    806.\n",
      "  Batch   500  of    806.\n",
      "  Batch   550  of    806.\n",
      "  Batch   600  of    806.\n",
      "  Batch   650  of    806.\n",
      "  Batch   700  of    806.\n",
      "  Batch   750  of    806.\n",
      "  Batch   800  of    806.\n",
      "\n",
      "Evaluating...\n",
      "\n",
      "Training Loss: 0.185\n",
      "Validation Loss: 0.993\n",
      "\n",
      " Epoch 8 / 10\n",
      "  Batch    50  of    806.\n",
      "  Batch   100  of    806.\n",
      "  Batch   150  of    806.\n",
      "  Batch   200  of    806.\n",
      "  Batch   250  of    806.\n",
      "  Batch   300  of    806.\n",
      "  Batch   350  of    806.\n",
      "  Batch   400  of    806.\n",
      "  Batch   450  of    806.\n",
      "  Batch   500  of    806.\n",
      "  Batch   550  of    806.\n",
      "  Batch   600  of    806.\n",
      "  Batch   650  of    806.\n",
      "  Batch   700  of    806.\n",
      "  Batch   750  of    806.\n",
      "  Batch   800  of    806.\n",
      "\n",
      "Evaluating...\n",
      "\n",
      "Training Loss: 0.161\n",
      "Validation Loss: 1.160\n",
      "\n",
      " Epoch 9 / 10\n",
      "  Batch    50  of    806.\n",
      "  Batch   100  of    806.\n",
      "  Batch   150  of    806.\n",
      "  Batch   200  of    806.\n",
      "  Batch   250  of    806.\n",
      "  Batch   300  of    806.\n",
      "  Batch   350  of    806.\n",
      "  Batch   400  of    806.\n",
      "  Batch   450  of    806.\n",
      "  Batch   500  of    806.\n",
      "  Batch   550  of    806.\n",
      "  Batch   600  of    806.\n",
      "  Batch   650  of    806.\n",
      "  Batch   700  of    806.\n",
      "  Batch   750  of    806.\n",
      "  Batch   800  of    806.\n",
      "\n",
      "Evaluating...\n",
      "\n",
      "Training Loss: 0.144\n",
      "Validation Loss: 1.244\n",
      "\n",
      " Epoch 10 / 10\n",
      "  Batch    50  of    806.\n",
      "  Batch   100  of    806.\n",
      "  Batch   150  of    806.\n",
      "  Batch   200  of    806.\n",
      "  Batch   250  of    806.\n",
      "  Batch   300  of    806.\n",
      "  Batch   350  of    806.\n",
      "  Batch   400  of    806.\n",
      "  Batch   450  of    806.\n",
      "  Batch   500  of    806.\n",
      "  Batch   550  of    806.\n",
      "  Batch   600  of    806.\n",
      "  Batch   650  of    806.\n",
      "  Batch   700  of    806.\n",
      "  Batch   750  of    806.\n",
      "  Batch   800  of    806.\n",
      "\n",
      "Evaluating...\n",
      "\n",
      "Training Loss: 0.141\n",
      "Validation Loss: 1.244\n"
     ]
    }
   ],
   "source": [
    "imp.reload(my_bert)\n",
    "model_name = \"alephbert\"\n",
    "my_bert.train_validate(model_name,wrapped_model,optimizer,train_dataloader,val_dataloader,cross_entropy)"
   ]
  },
  {
   "cell_type": "code",
   "execution_count": null,
   "metadata": {},
   "outputs": [],
   "source": []
  },
  {
   "cell_type": "markdown",
   "metadata": {},
   "source": [
    "### Load Saved Model & get prediction for test"
   ]
  },
  {
   "cell_type": "code",
   "execution_count": null,
   "metadata": {},
   "outputs": [],
   "source": [
    "# impb.reload(my_bert)\n",
    "imp.reload(feature_utils)\n",
    "saved_model = my_bert.load_saved_bert_model(wrapped_model,model_name)\n",
    "preds = my_bert.get_prediction(saved_model,tensor_map['test'])"
   ]
  },
  {
   "cell_type": "code",
   "execution_count": 33,
   "metadata": {},
   "outputs": [
    {
     "name": "stdout",
     "output_type": "stream",
     "text": [
      "              precision    recall  f1-score   support\n",
      "\n",
      "           0       0.82      0.68      0.74      4029\n",
      "           1       0.53      0.70      0.60      2074\n",
      "\n",
      "    accuracy                           0.69      6103\n",
      "   macro avg       0.67      0.69      0.67      6103\n",
      "weighted avg       0.72      0.69      0.69      6103\n",
      "\n"
     ]
    },
    {
     "data": {
      "image/png": "[encoded data removed]",
      "text/plain": [
       "<Figure size 432x288 with 2 Axes>"
      ]
     },
     "metadata": {
      "needs_background": "light"
     },
     "output_type": "display_data"
    }
   ],
   "source": [
    "feature_utils.get_prediction_report(tensor_map['test']['y'],preds,[0,1])"
   ]
  },
  {
   "cell_type": "code",
   "execution_count": 36,
   "metadata": {},
   "outputs": [
    {
     "data": {
      "text/plain": [
       "{'seq': tensor([[    2,  1998, 30266,  ...,     0,     0,     0],\n",
       "         [    2,  2656,  1837,  ...,     0,     0,     0],\n",
       "         [    2,  3232,  1837,  ...,     0,     0,     0],\n",
       "         ...,\n",
       "         [    2,  2204,  8604,  ...,     0,     0,     0],\n",
       "         [    2,  1876,  5573,  ...,     0,     0,     0],\n",
       "         [    2,  1998,     3,  ...,     0,     0,     0]]),\n",
       " 'mask': tensor([[1, 1, 1,  ..., 0, 0, 0],\n",
       "         [1, 1, 1,  ..., 0, 0, 0],\n",
       "         [1, 1, 1,  ..., 0, 0, 0],\n",
       "         ...,\n",
       "         [1, 1, 1,  ..., 0, 0, 0],\n",
       "         [1, 1, 1,  ..., 0, 0, 0],\n",
       "         [1, 1, 1,  ..., 0, 0, 0]]),\n",
       " 'y': tensor([0, 0, 0,  ..., 0, 0, 0])}"
      ]
     },
     "execution_count": 36,
     "metadata": {},
     "output_type": "execute_result"
    }
   ],
   "source": [
    "tensor_map['test']"
   ]
  },
  {
   "cell_type": "code",
   "execution_count": 19,
   "metadata": {},
   "outputs": [
    {
     "data": {
      "text/plain": [
       "6009    0.000000\n",
       "6010    0.000000\n",
       "6011    0.000000\n",
       "6012    0.000000\n",
       "6013    0.000000\n",
       "          ...   \n",
       "35576   0.000000\n",
       "35577   0.000000\n",
       "35578   0.000000\n",
       "35579   0.000000\n",
       "35580   0.000000\n",
       "Name: is_nar, Length: 5263, dtype: float64"
      ]
     },
     "execution_count": 19,
     "metadata": {},
     "output_type": "execute_result"
    }
   ],
   "source": [
    "test_labels"
   ]
  },
  {
   "cell_type": "code",
   "execution_count": null,
   "metadata": {},
   "outputs": [],
   "source": [
    "feature_utils.get_prediction_report(tensor_map['test']['y'],preds,['not_nar','nar'])"
   ]
  },
  {
   "cell_type": "markdown",
   "metadata": {},
   "source": [
    "## heBERT"
   ]
  },
  {
   "cell_type": "code",
   "execution_count": 125,
   "metadata": {},
   "outputs": [
    {
     "name": "stderr",
     "output_type": "stream",
     "text": [
      "Some weights of BertModel were not initialized from the model checkpoint at avichr/heBERT and are newly initialized: ['bert.pooler.dense.weight', 'bert.pooler.dense.bias']\n",
      "You should probably TRAIN this model on a down-stream task to be able to use it for predictions and inference.\n"
     ]
    }
   ],
   "source": [
    "from transformers import AutoTokenizer, AutoModel\n",
    "\n",
    "he_tokenizer = AutoTokenizer.from_pretrained(\"avichr/heBERT\")\n",
    "he_model = AutoModel.from_pretrained(\"avichr/heBERT\")"
   ]
  },
  {
   "cell_type": "code",
   "execution_count": 126,
   "metadata": {},
   "outputs": [
    {
     "name": "stderr",
     "output_type": "stream",
     "text": [
      "/home/zsofya/jupyter_git/jup-nb-generic/lib/python3.8/site-packages/transformers/tokenization_utils_base.py:2073: FutureWarning: The `pad_to_max_length` argument is deprecated and will be removed in a future version, use `padding=True` or `padding='longest'` to pad to the longest sequence in the batch, or use `padding='max_length'` to pad to a max length. In this case, you can give a specific length with `max_length` (e.g. `max_length=45`) or leave max_length to None to pad to the maximal input size of the model (e.g. 512 for Bert).\n",
      "  warnings.warn(\n"
     ]
    },
    {
     "name": "stdout",
     "output_type": "stream",
     "text": [
      "Class Weights: [0.72247065 1.62374372]\n"
     ]
    },
    {
     "name": "stderr",
     "output_type": "stream",
     "text": [
      "/home/zsofya/jupyter_git/jup-nb-generic/lib/python3.8/site-packages/sklearn/utils/validation.py:70: FutureWarning: Pass classes=[0. 1.], y=30342   0.000000\n",
      "30855   1.000000\n",
      "9518    0.000000\n",
      "6348    0.000000\n",
      "17553   0.000000\n",
      "          ...   \n",
      "28421   0.000000\n",
      "13379   0.000000\n",
      "32525   1.000000\n",
      "18011   1.000000\n",
      "16747   0.000000\n",
      "Name: is_nar, Length: 23265, dtype: float64 as keyword args. From version 1.0 (renaming of 0.25) passing these as positional arguments will result in an error\n",
      "  warnings.warn(f\"Pass {args_msg} as keyword args. From version \"\n"
     ]
    }
   ],
   "source": [
    "tokens_train,tokens_val,tokens_test = my_bert.get_train_val_test_tokens(he_tokenizer,train_text,val_text,test_text)\n",
    "tensor_map = my_bert.covert_token2tensor(tokens_train,train_labels,tokens_val,val_labels,tokens_test,test_labels)\n",
    "train_dataloader,val_dataloader = my_bert.get_data_loader(tensor_map)\n",
    "wrapped_model = my_bert.wrap_pretained_model(he_model)\n",
    "cross_entropy = my_bert.get_cross_entropy(train_labels)"
   ]
  },
  {
   "cell_type": "code",
   "execution_count": 127,
   "metadata": {},
   "outputs": [
    {
     "name": "stdout",
     "output_type": "stream",
     "text": [
      "\n",
      " Epoch 1 / 10\n",
      "  Batch    50  of    728.\n",
      "  Batch   100  of    728.\n",
      "  Batch   150  of    728.\n",
      "  Batch   200  of    728.\n",
      "  Batch   250  of    728.\n",
      "  Batch   300  of    728.\n",
      "  Batch   350  of    728.\n",
      "  Batch   400  of    728.\n",
      "  Batch   450  of    728.\n",
      "  Batch   500  of    728.\n",
      "  Batch   550  of    728.\n",
      "  Batch   600  of    728.\n",
      "  Batch   650  of    728.\n",
      "  Batch   700  of    728.\n",
      "\n",
      "Evaluating...\n",
      "Saving best model heBERT\n",
      "\n",
      "Training Loss: 0.691\n",
      "Validation Loss: 0.691\n",
      "\n",
      " Epoch 2 / 10\n",
      "  Batch    50  of    728.\n",
      "  Batch   100  of    728.\n",
      "  Batch   150  of    728.\n",
      "  Batch   200  of    728.\n",
      "  Batch   250  of    728.\n",
      "  Batch   300  of    728.\n",
      "  Batch   350  of    728.\n",
      "  Batch   400  of    728.\n",
      "  Batch   450  of    728.\n",
      "  Batch   500  of    728.\n",
      "  Batch   550  of    728.\n",
      "  Batch   600  of    728.\n",
      "  Batch   650  of    728.\n",
      "  Batch   700  of    728.\n",
      "\n",
      "Evaluating...\n",
      "\n",
      "Training Loss: 0.691\n",
      "Validation Loss: 0.691\n",
      "\n",
      " Epoch 3 / 10\n",
      "  Batch    50  of    728.\n",
      "  Batch   100  of    728.\n",
      "  Batch   150  of    728.\n",
      "  Batch   200  of    728.\n",
      "  Batch   250  of    728.\n",
      "  Batch   300  of    728.\n",
      "  Batch   350  of    728.\n",
      "  Batch   400  of    728.\n",
      "  Batch   450  of    728.\n",
      "  Batch   500  of    728.\n",
      "  Batch   550  of    728.\n",
      "  Batch   600  of    728.\n",
      "  Batch   650  of    728.\n",
      "  Batch   700  of    728.\n",
      "\n",
      "Evaluating...\n",
      "\n",
      "Training Loss: 0.691\n",
      "Validation Loss: 0.691\n",
      "\n",
      " Epoch 4 / 10\n",
      "  Batch    50  of    728.\n",
      "  Batch   100  of    728.\n",
      "  Batch   150  of    728.\n",
      "  Batch   200  of    728.\n",
      "  Batch   250  of    728.\n",
      "  Batch   300  of    728.\n",
      "  Batch   350  of    728.\n",
      "  Batch   400  of    728.\n",
      "  Batch   450  of    728.\n",
      "  Batch   500  of    728.\n",
      "  Batch   550  of    728.\n",
      "  Batch   600  of    728.\n",
      "  Batch   650  of    728.\n",
      "  Batch   700  of    728.\n",
      "\n",
      "Evaluating...\n",
      "\n",
      "Training Loss: 0.691\n",
      "Validation Loss: 0.691\n",
      "\n",
      " Epoch 5 / 10\n",
      "  Batch    50  of    728.\n",
      "  Batch   100  of    728.\n",
      "  Batch   150  of    728.\n",
      "  Batch   200  of    728.\n",
      "  Batch   250  of    728.\n",
      "  Batch   300  of    728.\n",
      "  Batch   350  of    728.\n",
      "  Batch   400  of    728.\n",
      "  Batch   450  of    728.\n",
      "  Batch   500  of    728.\n",
      "  Batch   550  of    728.\n",
      "  Batch   600  of    728.\n",
      "  Batch   650  of    728.\n",
      "  Batch   700  of    728.\n",
      "\n",
      "Evaluating...\n",
      "\n",
      "Training Loss: 0.691\n",
      "Validation Loss: 0.691\n",
      "\n",
      " Epoch 6 / 10\n",
      "  Batch    50  of    728.\n",
      "  Batch   100  of    728.\n",
      "  Batch   150  of    728.\n",
      "  Batch   200  of    728.\n",
      "  Batch   250  of    728.\n",
      "  Batch   300  of    728.\n",
      "  Batch   350  of    728.\n",
      "  Batch   400  of    728.\n",
      "  Batch   450  of    728.\n",
      "  Batch   500  of    728.\n",
      "  Batch   550  of    728.\n",
      "  Batch   600  of    728.\n",
      "  Batch   650  of    728.\n",
      "  Batch   700  of    728.\n",
      "\n",
      "Evaluating...\n",
      "\n",
      "Training Loss: 0.691\n",
      "Validation Loss: 0.691\n",
      "\n",
      " Epoch 7 / 10\n",
      "  Batch    50  of    728.\n",
      "  Batch   100  of    728.\n",
      "  Batch   150  of    728.\n",
      "  Batch   200  of    728.\n",
      "  Batch   250  of    728.\n",
      "  Batch   300  of    728.\n",
      "  Batch   350  of    728.\n",
      "  Batch   400  of    728.\n",
      "  Batch   450  of    728.\n",
      "  Batch   500  of    728.\n",
      "  Batch   550  of    728.\n",
      "  Batch   600  of    728.\n",
      "  Batch   650  of    728.\n",
      "  Batch   700  of    728.\n",
      "\n",
      "Evaluating...\n",
      "\n",
      "Training Loss: 0.692\n",
      "Validation Loss: 0.691\n",
      "\n",
      " Epoch 8 / 10\n",
      "  Batch    50  of    728.\n",
      "  Batch   100  of    728.\n",
      "  Batch   150  of    728.\n",
      "  Batch   200  of    728.\n",
      "  Batch   250  of    728.\n",
      "  Batch   300  of    728.\n",
      "  Batch   350  of    728.\n",
      "  Batch   400  of    728.\n",
      "  Batch   450  of    728.\n",
      "  Batch   500  of    728.\n",
      "  Batch   550  of    728.\n",
      "  Batch   600  of    728.\n",
      "  Batch   650  of    728.\n",
      "  Batch   700  of    728.\n",
      "\n",
      "Evaluating...\n",
      "\n",
      "Training Loss: 0.691\n",
      "Validation Loss: 0.691\n",
      "\n",
      " Epoch 9 / 10\n",
      "  Batch    50  of    728.\n",
      "  Batch   100  of    728.\n",
      "  Batch   150  of    728.\n",
      "  Batch   200  of    728.\n",
      "  Batch   250  of    728.\n",
      "  Batch   300  of    728.\n",
      "  Batch   350  of    728.\n",
      "  Batch   400  of    728.\n",
      "  Batch   450  of    728.\n",
      "  Batch   500  of    728.\n",
      "  Batch   550  of    728.\n",
      "  Batch   600  of    728.\n",
      "  Batch   650  of    728.\n",
      "  Batch   700  of    728.\n",
      "\n",
      "Evaluating...\n",
      "\n",
      "Training Loss: 0.691\n",
      "Validation Loss: 0.691\n",
      "\n",
      " Epoch 10 / 10\n",
      "  Batch    50  of    728.\n",
      "  Batch   100  of    728.\n",
      "  Batch   150  of    728.\n",
      "  Batch   200  of    728.\n",
      "  Batch   250  of    728.\n",
      "  Batch   300  of    728.\n",
      "  Batch   350  of    728.\n",
      "  Batch   400  of    728.\n",
      "  Batch   450  of    728.\n",
      "  Batch   500  of    728.\n",
      "  Batch   550  of    728.\n",
      "  Batch   600  of    728.\n",
      "  Batch   650  of    728.\n",
      "  Batch   700  of    728.\n",
      "\n",
      "Evaluating...\n",
      "\n",
      "Training Loss: 0.691\n",
      "Validation Loss: 0.691\n"
     ]
    }
   ],
   "source": [
    "imp.reload(my_bert)\n",
    "model_name = \"heBERT\"\n",
    "my_bert.train_validate(model_name,wrapped_model,optimizer,train_dataloader,val_dataloader,cross_entropy)"
   ]
  },
  {
   "cell_type": "code",
   "execution_count": 131,
   "metadata": {},
   "outputs": [
    {
     "name": "stdout",
     "output_type": "stream",
     "text": [
      "              precision    recall  f1-score   support\n",
      "\n",
      "           0       0.71      0.71      0.71      3451\n",
      "           1       0.36      0.36      0.36      1535\n",
      "\n",
      "    accuracy                           0.60      4986\n",
      "   macro avg       0.53      0.53      0.53      4986\n",
      "weighted avg       0.60      0.60      0.60      4986\n",
      "\n"
     ]
    },
    {
     "data": {
      "image/png": "[encoded data removed]",
      "text/plain": [
       "<Figure size 432x288 with 2 Axes>"
      ]
     },
     "metadata": {
      "needs_background": "light"
     },
     "output_type": "display_data"
    }
   ],
   "source": [
    "# imp.reload(my_bert)\n",
    "imp.reload(feature_utils)\n",
    "saved_model = my_bert.load_saved_bert_model(wrapped_model,model_name)\n",
    "preds = my_bert.get_prediction(saved_model,tensor_map['test'])\n",
    "feature_utils.get_prediction_report(tensor_map['test']['y'],preds,labels=[0,1])"
   ]
  },
  {
   "cell_type": "code",
   "execution_count": null,
   "metadata": {},
   "outputs": [],
   "source": []
  }
 ],
 "metadata": {
  "kernelspec": {
   "display_name": "Python 3",
   "language": "python",
   "name": "python3"
  },
  "language_info": {
   "codemirror_mode": {
    "name": "ipython",
    "version": 3
   },
   "file_extension": ".py",
   "mimetype": "text/x-python",
   "name": "python",
   "nbconvert_exporter": "python",
   "pygments_lexer": "ipython3",
   "version": "3.8.5"
  },
  "toc": {
   "base_numbering": 1,
   "nav_menu": {},
   "number_sections": true,
   "sideBar": true,
   "skip_h1_title": false,
   "title_cell": "Table of Contents",
   "title_sidebar": "Contents",
   "toc_cell": false,
   "toc_position": {},
   "toc_section_display": true,
   "toc_window_display": false
  }
 },
 "nbformat": 4,
 "nbformat_minor": 4
}
