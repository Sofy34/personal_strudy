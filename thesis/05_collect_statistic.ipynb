{
 "cells": [
  {
   "cell_type": "code",
   "execution_count": 34,
   "id": "e16272d1",
   "metadata": {},
   "outputs": [],
   "source": [
    "import pandas as pd\n",
    "import os,sys, imp, glob\n",
    "sys.path.append('./src/')\n",
    "import doc_utils_clean as doc_utils\n",
    "import feature_utils\n",
    "import defines\n",
    "import numpy as np\n",
    "import seaborn as sns\n",
    "import matplotlib.pyplot as plt\n"
   ]
  },
  {
   "cell_type": "code",
   "execution_count": 35,
   "id": "e0eb020b",
   "metadata": {},
   "outputs": [],
   "source": [
    "# doc_utils.parse_doc(1,True)"
   ]
  },
  {
   "cell_type": "code",
   "execution_count": 36,
   "id": "3379bb74",
   "metadata": {},
   "outputs": [],
   "source": [
    "# doc_utils.doc_db.sort_values(by='doc_idx_from_name')"
   ]
  },
  {
   "cell_type": "code",
   "execution_count": 37,
   "id": "548608fa",
   "metadata": {},
   "outputs": [
    {
     "data": {
      "text/html": [
       "<div>\n",
       "<style scoped>\n",
       "    .dataframe tbody tr th:only-of-type {\n",
       "        vertical-align: middle;\n",
       "    }\n",
       "\n",
       "    .dataframe tbody tr th {\n",
       "        vertical-align: top;\n",
       "    }\n",
       "\n",
       "    .dataframe thead th {\n",
       "        text-align: right;\n",
       "    }\n",
       "</style>\n",
       "<table border=\"1\" class=\"dataframe\">\n",
       "  <thead>\n",
       "    <tr style=\"text-align: right;\">\n",
       "      <th></th>\n",
       "      <th>path</th>\n",
       "      <th>file_name</th>\n",
       "      <th>doc_idx_from_name</th>\n",
       "      <th>par_count</th>\n",
       "      <th>sent_count</th>\n",
       "      <th>nar_sent_count</th>\n",
       "    </tr>\n",
       "  </thead>\n",
       "  <tbody>\n",
       "    <tr>\n",
       "      <th>0</th>\n",
       "      <td>/scratch/sim_reg6/users/zsofya/classroom/MSc/p...</td>\n",
       "      <td>01_aingimel3_lc.docx</td>\n",
       "      <td>1</td>\n",
       "      <td>205.000000</td>\n",
       "      <td>580.000000</td>\n",
       "      <td>256.000000</td>\n",
       "    </tr>\n",
       "    <tr>\n",
       "      <th>1</th>\n",
       "      <td>/scratch/sim_reg6/users/zsofya/classroom/MSc/p...</td>\n",
       "      <td>02_aingimel12_lc.docx</td>\n",
       "      <td>2</td>\n",
       "      <td>157.000000</td>\n",
       "      <td>632.000000</td>\n",
       "      <td>70.000000</td>\n",
       "    </tr>\n",
       "    <tr>\n",
       "      <th>2</th>\n",
       "      <td>/scratch/sim_reg6/users/zsofya/classroom/MSc/p...</td>\n",
       "      <td>03_aingimel26_lc.docx</td>\n",
       "      <td>3</td>\n",
       "      <td>118.000000</td>\n",
       "      <td>559.000000</td>\n",
       "      <td>102.000000</td>\n",
       "    </tr>\n",
       "    <tr>\n",
       "      <th>3</th>\n",
       "      <td>/scratch/sim_reg6/users/zsofya/classroom/MSc/p...</td>\n",
       "      <td>04_nun2_lc.docx</td>\n",
       "      <td>4</td>\n",
       "      <td>132.000000</td>\n",
       "      <td>460.000000</td>\n",
       "      <td>172.000000</td>\n",
       "    </tr>\n",
       "    <tr>\n",
       "      <th>4</th>\n",
       "      <td>/scratch/sim_reg6/users/zsofya/classroom/MSc/p...</td>\n",
       "      <td>05_kafhey_23_lc.docx</td>\n",
       "      <td>5</td>\n",
       "      <td>65.000000</td>\n",
       "      <td>510.000000</td>\n",
       "      <td>270.000000</td>\n",
       "    </tr>\n",
       "    <tr>\n",
       "      <th>...</th>\n",
       "      <td>...</td>\n",
       "      <td>...</td>\n",
       "      <td>...</td>\n",
       "      <td>...</td>\n",
       "      <td>...</td>\n",
       "      <td>...</td>\n",
       "    </tr>\n",
       "    <tr>\n",
       "      <th>75</th>\n",
       "      <td>/scratch/sim_reg6/users/zsofya/classroom/MSc/p...</td>\n",
       "      <td>76_nun2_Mor.docx</td>\n",
       "      <td>76</td>\n",
       "      <td>132.000000</td>\n",
       "      <td>464.000000</td>\n",
       "      <td>164.000000</td>\n",
       "    </tr>\n",
       "    <tr>\n",
       "      <th>76</th>\n",
       "      <td>/scratch/sim_reg6/users/zsofya/classroom/MSc/p...</td>\n",
       "      <td>77_nun25_Mor.docx</td>\n",
       "      <td>77</td>\n",
       "      <td>176.000000</td>\n",
       "      <td>406.000000</td>\n",
       "      <td>64.000000</td>\n",
       "    </tr>\n",
       "    <tr>\n",
       "      <th>77</th>\n",
       "      <td>/scratch/sim_reg6/users/zsofya/classroom/MSc/p...</td>\n",
       "      <td>78_tsadek27_Mor.docx</td>\n",
       "      <td>78</td>\n",
       "      <td>122.000000</td>\n",
       "      <td>178.000000</td>\n",
       "      <td>44.000000</td>\n",
       "    </tr>\n",
       "    <tr>\n",
       "      <th>78</th>\n",
       "      <td>/scratch/sim_reg6/users/zsofya/classroom/MSc/p...</td>\n",
       "      <td>79_tsadek29_Mor.docx</td>\n",
       "      <td>79</td>\n",
       "      <td>173.000000</td>\n",
       "      <td>252.000000</td>\n",
       "      <td>70.000000</td>\n",
       "    </tr>\n",
       "    <tr>\n",
       "      <th>79</th>\n",
       "      <td>/scratch/sim_reg6/users/zsofya/classroom/MSc/p...</td>\n",
       "      <td>80_nun28_Mor.docx</td>\n",
       "      <td>80</td>\n",
       "      <td>225.000000</td>\n",
       "      <td>491.000000</td>\n",
       "      <td>102.000000</td>\n",
       "    </tr>\n",
       "  </tbody>\n",
       "</table>\n",
       "<p>80 rows × 6 columns</p>\n",
       "</div>"
      ],
      "text/plain": [
       "                                                 path              file_name  \\\n",
       "0   /scratch/sim_reg6/users/zsofya/classroom/MSc/p...   01_aingimel3_lc.docx   \n",
       "1   /scratch/sim_reg6/users/zsofya/classroom/MSc/p...  02_aingimel12_lc.docx   \n",
       "2   /scratch/sim_reg6/users/zsofya/classroom/MSc/p...  03_aingimel26_lc.docx   \n",
       "3   /scratch/sim_reg6/users/zsofya/classroom/MSc/p...        04_nun2_lc.docx   \n",
       "4   /scratch/sim_reg6/users/zsofya/classroom/MSc/p...   05_kafhey_23_lc.docx   \n",
       "..                                                ...                    ...   \n",
       "75  /scratch/sim_reg6/users/zsofya/classroom/MSc/p...       76_nun2_Mor.docx   \n",
       "76  /scratch/sim_reg6/users/zsofya/classroom/MSc/p...      77_nun25_Mor.docx   \n",
       "77  /scratch/sim_reg6/users/zsofya/classroom/MSc/p...   78_tsadek27_Mor.docx   \n",
       "78  /scratch/sim_reg6/users/zsofya/classroom/MSc/p...   79_tsadek29_Mor.docx   \n",
       "79  /scratch/sim_reg6/users/zsofya/classroom/MSc/p...      80_nun28_Mor.docx   \n",
       "\n",
       "    doc_idx_from_name  par_count  sent_count  nar_sent_count  \n",
       "0                   1 205.000000  580.000000      256.000000  \n",
       "1                   2 157.000000  632.000000       70.000000  \n",
       "2                   3 118.000000  559.000000      102.000000  \n",
       "3                   4 132.000000  460.000000      172.000000  \n",
       "4                   5  65.000000  510.000000      270.000000  \n",
       "..                ...        ...         ...             ...  \n",
       "75                 76 132.000000  464.000000      164.000000  \n",
       "76                 77 176.000000  406.000000       64.000000  \n",
       "77                 78 122.000000  178.000000       44.000000  \n",
       "78                 79 173.000000  252.000000       70.000000  \n",
       "79                 80 225.000000  491.000000      102.000000  \n",
       "\n",
       "[80 rows x 6 columns]"
      ]
     },
     "execution_count": 37,
     "metadata": {},
     "output_type": "execute_result"
    }
   ],
   "source": [
    "imp.reload(doc_utils)\n",
    "# doc_utils.save_docs_db()\n",
    "doc_db =  pd.read_csv(\"./dataframes/doc_db.csv\")\n",
    "# doc_db.sort_values(by='doc_idx_from_name',inplace=True)\n",
    "# doc_db.describe()\n",
    "doc_db.sort_values(by='doc_idx_from_name')"
   ]
  },
  {
   "cell_type": "code",
   "execution_count": 47,
   "id": "6668bb50",
   "metadata": {},
   "outputs": [],
   "source": [
    "\n",
    "def concat_dbs(db_name,cols=[]):\n",
    "    df_list =  glob.glob(os.path.join(os.path.join(os.getcwd(),defines.PATH_TO_DFS,\"*_{}.csv\".format(db_name))))\n",
    "    df_list.sort()\n",
    "    df_map = {}\n",
    "    for df in df_list:\n",
    "        df_map[feature_utils.get_doc_idx_from_name(df)] = df\n",
    "    if len(cols) > 0:\n",
    "        db = pd.concat([pd.read_csv(i,usecols=cols) for i in df_map.values()],keys=df_map.keys())\n",
    "    else:\n",
    "        db = pd.concat([pd.read_csv(i) for i in df_map.values()],keys=df_map.keys())\n",
    "    db.reset_index(inplace=True)\n",
    "    db.rename(columns={'level_0':'doc_idx','level_1':\"{}_idx\".format(db_name.split('_')[0])},inplace=True)\n",
    "    return db"
   ]
  },
  {
   "cell_type": "code",
   "execution_count": 49,
   "id": "173cfb00",
   "metadata": {},
   "outputs": [
    {
     "data": {
      "text/html": [
       "<div>\n",
       "<style scoped>\n",
       "    .dataframe tbody tr th:only-of-type {\n",
       "        vertical-align: middle;\n",
       "    }\n",
       "\n",
       "    .dataframe tbody tr th {\n",
       "        vertical-align: top;\n",
       "    }\n",
       "\n",
       "    .dataframe thead th {\n",
       "        text-align: right;\n",
       "    }\n",
       "</style>\n",
       "<table border=\"1\" class=\"dataframe\">\n",
       "  <thead>\n",
       "    <tr style=\"text-align: right;\">\n",
       "      <th></th>\n",
       "      <th>doc_idx</th>\n",
       "      <th>merged_idx</th>\n",
       "      <th>is_nar</th>\n",
       "      <th>par_idx_in_doc</th>\n",
       "      <th>sent_len</th>\n",
       "      <th>is_client</th>\n",
       "      <th>sent_idx_in_par</th>\n",
       "      <th>TOKEN</th>\n",
       "      <th>POSTAG_ADVERB</th>\n",
       "      <th>POSTAG_AT</th>\n",
       "      <th>...</th>\n",
       "      <th>f_per_3</th>\n",
       "      <th>f_per_A</th>\n",
       "      <th>f_tense_BEINONI</th>\n",
       "      <th>f_tense_FUTURE</th>\n",
       "      <th>f_tense_IMPERATIVE</th>\n",
       "      <th>f_tense_PAST</th>\n",
       "      <th>POSTAG_NEG</th>\n",
       "      <th>POSTAG_TTL</th>\n",
       "      <th>POSTAG_yyCM</th>\n",
       "      <th>POSTAG_NNPT</th>\n",
       "    </tr>\n",
       "  </thead>\n",
       "  <tbody>\n",
       "    <tr>\n",
       "      <th>0</th>\n",
       "      <td>1</td>\n",
       "      <td>0</td>\n",
       "      <td>0.000000</td>\n",
       "      <td>0.000000</td>\n",
       "      <td>50.000000</td>\n",
       "      <td>1</td>\n",
       "      <td>0</td>\n",
       "      <td>10</td>\n",
       "      <td>0.000000</td>\n",
       "      <td>0.000000</td>\n",
       "      <td>...</td>\n",
       "      <td>0.000000</td>\n",
       "      <td>0.100000</td>\n",
       "      <td>0.000000</td>\n",
       "      <td>0.000000</td>\n",
       "      <td>0.000000</td>\n",
       "      <td>0.000000</td>\n",
       "      <td>NaN</td>\n",
       "      <td>NaN</td>\n",
       "      <td>NaN</td>\n",
       "      <td>NaN</td>\n",
       "    </tr>\n",
       "    <tr>\n",
       "      <th>1</th>\n",
       "      <td>1</td>\n",
       "      <td>1</td>\n",
       "      <td>0.000000</td>\n",
       "      <td>1.000000</td>\n",
       "      <td>9.000000</td>\n",
       "      <td>0</td>\n",
       "      <td>0</td>\n",
       "      <td>1</td>\n",
       "      <td>0.000000</td>\n",
       "      <td>0.000000</td>\n",
       "      <td>...</td>\n",
       "      <td>0.000000</td>\n",
       "      <td>0.000000</td>\n",
       "      <td>0.000000</td>\n",
       "      <td>0.000000</td>\n",
       "      <td>0.000000</td>\n",
       "      <td>0.000000</td>\n",
       "      <td>NaN</td>\n",
       "      <td>NaN</td>\n",
       "      <td>NaN</td>\n",
       "      <td>NaN</td>\n",
       "    </tr>\n",
       "    <tr>\n",
       "      <th>2</th>\n",
       "      <td>1</td>\n",
       "      <td>2</td>\n",
       "      <td>0.000000</td>\n",
       "      <td>2.000000</td>\n",
       "      <td>18.000000</td>\n",
       "      <td>1</td>\n",
       "      <td>0</td>\n",
       "      <td>3</td>\n",
       "      <td>0.000000</td>\n",
       "      <td>0.000000</td>\n",
       "      <td>...</td>\n",
       "      <td>0.000000</td>\n",
       "      <td>0.000000</td>\n",
       "      <td>0.000000</td>\n",
       "      <td>0.000000</td>\n",
       "      <td>0.000000</td>\n",
       "      <td>0.000000</td>\n",
       "      <td>NaN</td>\n",
       "      <td>NaN</td>\n",
       "      <td>NaN</td>\n",
       "      <td>NaN</td>\n",
       "    </tr>\n",
       "    <tr>\n",
       "      <th>3</th>\n",
       "      <td>1</td>\n",
       "      <td>3</td>\n",
       "      <td>0.000000</td>\n",
       "      <td>3.000000</td>\n",
       "      <td>16.000000</td>\n",
       "      <td>0</td>\n",
       "      <td>0</td>\n",
       "      <td>2</td>\n",
       "      <td>0.000000</td>\n",
       "      <td>0.000000</td>\n",
       "      <td>...</td>\n",
       "      <td>0.000000</td>\n",
       "      <td>0.000000</td>\n",
       "      <td>0.000000</td>\n",
       "      <td>0.000000</td>\n",
       "      <td>0.000000</td>\n",
       "      <td>0.000000</td>\n",
       "      <td>NaN</td>\n",
       "      <td>NaN</td>\n",
       "      <td>NaN</td>\n",
       "      <td>NaN</td>\n",
       "    </tr>\n",
       "    <tr>\n",
       "      <th>4</th>\n",
       "      <td>1</td>\n",
       "      <td>4</td>\n",
       "      <td>0.000000</td>\n",
       "      <td>4.000000</td>\n",
       "      <td>8.000000</td>\n",
       "      <td>1</td>\n",
       "      <td>0</td>\n",
       "      <td>5</td>\n",
       "      <td>0.000000</td>\n",
       "      <td>0.000000</td>\n",
       "      <td>...</td>\n",
       "      <td>0.000000</td>\n",
       "      <td>0.000000</td>\n",
       "      <td>0.000000</td>\n",
       "      <td>0.000000</td>\n",
       "      <td>0.000000</td>\n",
       "      <td>0.000000</td>\n",
       "      <td>NaN</td>\n",
       "      <td>NaN</td>\n",
       "      <td>NaN</td>\n",
       "      <td>NaN</td>\n",
       "    </tr>\n",
       "  </tbody>\n",
       "</table>\n",
       "<p>5 rows × 65 columns</p>\n",
       "</div>"
      ],
      "text/plain": [
       "   doc_idx  merged_idx   is_nar  par_idx_in_doc  sent_len  is_client  \\\n",
       "0        1           0 0.000000        0.000000 50.000000          1   \n",
       "1        1           1 0.000000        1.000000  9.000000          0   \n",
       "2        1           2 0.000000        2.000000 18.000000          1   \n",
       "3        1           3 0.000000        3.000000 16.000000          0   \n",
       "4        1           4 0.000000        4.000000  8.000000          1   \n",
       "\n",
       "   sent_idx_in_par  TOKEN  POSTAG_ADVERB  POSTAG_AT  ...  f_per_3  f_per_A  \\\n",
       "0                0     10       0.000000   0.000000  ... 0.000000 0.100000   \n",
       "1                0      1       0.000000   0.000000  ... 0.000000 0.000000   \n",
       "2                0      3       0.000000   0.000000  ... 0.000000 0.000000   \n",
       "3                0      2       0.000000   0.000000  ... 0.000000 0.000000   \n",
       "4                0      5       0.000000   0.000000  ... 0.000000 0.000000   \n",
       "\n",
       "   f_tense_BEINONI  f_tense_FUTURE  f_tense_IMPERATIVE  f_tense_PAST  \\\n",
       "0         0.000000        0.000000            0.000000      0.000000   \n",
       "1         0.000000        0.000000            0.000000      0.000000   \n",
       "2         0.000000        0.000000            0.000000      0.000000   \n",
       "3         0.000000        0.000000            0.000000      0.000000   \n",
       "4         0.000000        0.000000            0.000000      0.000000   \n",
       "\n",
       "   POSTAG_NEG  POSTAG_TTL  POSTAG_yyCM  POSTAG_NNPT  \n",
       "0         NaN         NaN          NaN          NaN  \n",
       "1         NaN         NaN          NaN          NaN  \n",
       "2         NaN         NaN          NaN          NaN  \n",
       "3         NaN         NaN          NaN          NaN  \n",
       "4         NaN         NaN          NaN          NaN  \n",
       "\n",
       "[5 rows x 65 columns]"
      ]
     },
     "execution_count": 49,
     "metadata": {},
     "output_type": "execute_result"
    }
   ],
   "source": [
    "merged_db = concat_dbs(\"merged_db\")\n",
    "merged_db.head()"
   ]
  },
  {
   "cell_type": "code",
   "execution_count": 54,
   "id": "bfd65dd2",
   "metadata": {},
   "outputs": [
    {
     "data": {
      "text/plain": [
       "<seaborn.axisgrid.FacetGrid at 0x2ab47de902b0>"
      ]
     },
     "execution_count": 54,
     "metadata": {},
     "output_type": "execute_result"
    },
    {
     "data": {
      "text/plain": [
       "<Figure size 1080x576 with 0 Axes>"
      ]
     },
     "metadata": {},
     "output_type": "display_data"
    },
    {
     "data": {
      "image/png": "[encoded data removed]",
      "text/plain": [
       "<Figure size 360x360 with 1 Axes>"
      ]
     },
     "metadata": {
      "needs_background": "light"
     },
     "output_type": "display_data"
    }
   ],
   "source": [
    "plt.figure(figsize = (15,8))\n",
    "par_len_words = merged_db.groupby(['doc_idx','merged_idx','par_idx_in_doc'])\n",
    "par_len_sns =  sns.displot(data=merged_db,\n",
    "                            x='TOKEN',\n",
    "                            kind='kde',\n",
    "                            common_norm=False\n",
    "                           )\n",
    "par_len_sns.set(title=\"Paragraph length in words\",xlim=((1,100)))"
   ]
  },
  {
   "cell_type": "code",
   "execution_count": 64,
   "id": "1630f163",
   "metadata": {},
   "outputs": [
    {
     "data": {
      "text/plain": [
       "<seaborn.axisgrid.FacetGrid at 0x2ab47dee63d0>"
      ]
     },
     "execution_count": 64,
     "metadata": {},
     "output_type": "execute_result"
    },
    {
     "data": {
      "text/plain": [
       "<Figure size 576x1080 with 0 Axes>"
      ]
     },
     "metadata": {},
     "output_type": "display_data"
    },
    {
     "data": {
      "image/png": "[encoded data removed]",
      "text/plain": [
       "<Figure size 411.875x360 with 1 Axes>"
      ]
     },
     "metadata": {
      "needs_background": "light"
     },
     "output_type": "display_data"
    }
   ],
   "source": [
    "plt.figure(figsize = (8,15))\n",
    "sent_len_words = merged_db.groupby(['doc_idx','merged_idx'])\n",
    "sent_len_sns =  sns.displot(data=merged_db,\n",
    "                            x='TOKEN',\n",
    "                            kind='kde',\n",
    "                            hue='is_nar',\n",
    "                            common_norm=False\n",
    "                           )\n",
    "sent_len_sns.set(title=\"Sentence length in words\",xlim=((1,30)))"
   ]
  },
  {
   "cell_type": "code",
   "execution_count": null,
   "id": "0d7c57f2",
   "metadata": {},
   "outputs": [],
   "source": []
  },
  {
   "cell_type": "code",
   "execution_count": 39,
   "id": "bea0a4c1",
   "metadata": {},
   "outputs": [
    {
     "data": {
      "text/html": [
       "<div>\n",
       "<style scoped>\n",
       "    .dataframe tbody tr th:only-of-type {\n",
       "        vertical-align: middle;\n",
       "    }\n",
       "\n",
       "    .dataframe tbody tr th {\n",
       "        vertical-align: top;\n",
       "    }\n",
       "\n",
       "    .dataframe thead th {\n",
       "        text-align: right;\n",
       "    }\n",
       "</style>\n",
       "<table border=\"1\" class=\"dataframe\">\n",
       "  <thead>\n",
       "    <tr style=\"text-align: right;\">\n",
       "      <th></th>\n",
       "      <th>doc_idx</th>\n",
       "      <th>sent_idx</th>\n",
       "      <th>is_nar</th>\n",
       "      <th>par_db_idx</th>\n",
       "      <th>nar_idx</th>\n",
       "      <th>sent_len</th>\n",
       "      <th>is_client</th>\n",
       "    </tr>\n",
       "  </thead>\n",
       "  <tbody>\n",
       "    <tr>\n",
       "      <th>0</th>\n",
       "      <td>1</td>\n",
       "      <td>0</td>\n",
       "      <td>0.000000</td>\n",
       "      <td>0.000000</td>\n",
       "      <td>0.000000</td>\n",
       "      <td>47.000000</td>\n",
       "      <td>0</td>\n",
       "    </tr>\n",
       "    <tr>\n",
       "      <th>1</th>\n",
       "      <td>1</td>\n",
       "      <td>1</td>\n",
       "      <td>0.000000</td>\n",
       "      <td>1.000000</td>\n",
       "      <td>0.000000</td>\n",
       "      <td>2.000000</td>\n",
       "      <td>1</td>\n",
       "    </tr>\n",
       "    <tr>\n",
       "      <th>2</th>\n",
       "      <td>1</td>\n",
       "      <td>2</td>\n",
       "      <td>0.000000</td>\n",
       "      <td>2.000000</td>\n",
       "      <td>0.000000</td>\n",
       "      <td>15.000000</td>\n",
       "      <td>0</td>\n",
       "    </tr>\n",
       "    <tr>\n",
       "      <th>3</th>\n",
       "      <td>1</td>\n",
       "      <td>3</td>\n",
       "      <td>0.000000</td>\n",
       "      <td>3.000000</td>\n",
       "      <td>0.000000</td>\n",
       "      <td>8.000000</td>\n",
       "      <td>1</td>\n",
       "    </tr>\n",
       "    <tr>\n",
       "      <th>4</th>\n",
       "      <td>1</td>\n",
       "      <td>4</td>\n",
       "      <td>0.000000</td>\n",
       "      <td>4.000000</td>\n",
       "      <td>0.000000</td>\n",
       "      <td>19.000000</td>\n",
       "      <td>0</td>\n",
       "    </tr>\n",
       "    <tr>\n",
       "      <th>...</th>\n",
       "      <td>...</td>\n",
       "      <td>...</td>\n",
       "      <td>...</td>\n",
       "      <td>...</td>\n",
       "      <td>...</td>\n",
       "      <td>...</td>\n",
       "      <td>...</td>\n",
       "    </tr>\n",
       "    <tr>\n",
       "      <th>36319</th>\n",
       "      <td>80</td>\n",
       "      <td>486</td>\n",
       "      <td>0.000000</td>\n",
       "      <td>222.000000</td>\n",
       "      <td>0.000000</td>\n",
       "      <td>21.000000</td>\n",
       "      <td>1</td>\n",
       "    </tr>\n",
       "    <tr>\n",
       "      <th>36320</th>\n",
       "      <td>80</td>\n",
       "      <td>487</td>\n",
       "      <td>0.000000</td>\n",
       "      <td>222.000000</td>\n",
       "      <td>0.000000</td>\n",
       "      <td>27.000000</td>\n",
       "      <td>1</td>\n",
       "    </tr>\n",
       "    <tr>\n",
       "      <th>36321</th>\n",
       "      <td>80</td>\n",
       "      <td>488</td>\n",
       "      <td>0.000000</td>\n",
       "      <td>222.000000</td>\n",
       "      <td>0.000000</td>\n",
       "      <td>23.000000</td>\n",
       "      <td>1</td>\n",
       "    </tr>\n",
       "    <tr>\n",
       "      <th>36322</th>\n",
       "      <td>80</td>\n",
       "      <td>489</td>\n",
       "      <td>0.000000</td>\n",
       "      <td>223.000000</td>\n",
       "      <td>0.000000</td>\n",
       "      <td>19.000000</td>\n",
       "      <td>0</td>\n",
       "    </tr>\n",
       "    <tr>\n",
       "      <th>36323</th>\n",
       "      <td>80</td>\n",
       "      <td>490</td>\n",
       "      <td>0.000000</td>\n",
       "      <td>224.000000</td>\n",
       "      <td>0.000000</td>\n",
       "      <td>15.000000</td>\n",
       "      <td>1</td>\n",
       "    </tr>\n",
       "  </tbody>\n",
       "</table>\n",
       "<p>36324 rows × 7 columns</p>\n",
       "</div>"
      ],
      "text/plain": [
       "       doc_idx  sent_idx   is_nar  par_db_idx  nar_idx  sent_len  is_client\n",
       "0            1         0 0.000000    0.000000 0.000000 47.000000          0\n",
       "1            1         1 0.000000    1.000000 0.000000  2.000000          1\n",
       "2            1         2 0.000000    2.000000 0.000000 15.000000          0\n",
       "3            1         3 0.000000    3.000000 0.000000  8.000000          1\n",
       "4            1         4 0.000000    4.000000 0.000000 19.000000          0\n",
       "...        ...       ...      ...         ...      ...       ...        ...\n",
       "36319       80       486 0.000000  222.000000 0.000000 21.000000          1\n",
       "36320       80       487 0.000000  222.000000 0.000000 27.000000          1\n",
       "36321       80       488 0.000000  222.000000 0.000000 23.000000          1\n",
       "36322       80       489 0.000000  223.000000 0.000000 19.000000          0\n",
       "36323       80       490 0.000000  224.000000 0.000000 15.000000          1\n",
       "\n",
       "[36324 rows x 7 columns]"
      ]
     },
     "execution_count": 39,
     "metadata": {},
     "output_type": "execute_result"
    }
   ],
   "source": [
    "imp.reload(feature_utils)\n",
    "sent_db = concat_dbs(\"sent_db\",['is_nar','nar_idx','sent_len','is_client','par_db_idx'])\n",
    "sent_db"
   ]
  },
  {
   "cell_type": "code",
   "execution_count": 40,
   "id": "d30a47b8",
   "metadata": {},
   "outputs": [],
   "source": [
    "doc_stat_db = pd.DataFrame()\n",
    "\n",
    "def get_doc_statistic(doc_idx):\n",
    "    sent_db = pd.read_csv(os.path.join(os.getcwd(),defines.PATH_TO_DFS,\"{:02d}_sent_db.csv\".format(i)),usecols=['is_nar','nar_idx','sent_len','is_client'])\n",
    "    nar_num = sent_db['nar_idx'].nunique()\n",
    "    avrg_sent_len_nar = sent_db.query('is_nar == 1')['sent_len'].mean()\n",
    "    groupby(['doc_idx'])['nar_idx'].nunique()\n",
    "    del sent_db"
   ]
  },
  {
   "cell_type": "code",
   "execution_count": 41,
   "id": "41848e0b",
   "metadata": {},
   "outputs": [
    {
     "name": "stdout",
     "output_type": "stream",
     "text": [
      "<class 'pandas.core.frame.DataFrame'>\n",
      "RangeIndex: 36324 entries, 0 to 36323\n",
      "Data columns (total 7 columns):\n",
      " #   Column      Non-Null Count  Dtype  \n",
      "---  ------      --------------  -----  \n",
      " 0   doc_idx     36324 non-null  int64  \n",
      " 1   sent_idx    36324 non-null  int64  \n",
      " 2   is_nar      36324 non-null  float64\n",
      " 3   par_db_idx  36324 non-null  float64\n",
      " 4   nar_idx     36324 non-null  float64\n",
      " 5   sent_len    36324 non-null  float64\n",
      " 6   is_client   36324 non-null  int64  \n",
      "dtypes: float64(4), int64(3)\n",
      "memory usage: 1.9 MB\n"
     ]
    }
   ],
   "source": [
    "sent_db.info()"
   ]
  },
  {
   "cell_type": "code",
   "execution_count": 42,
   "id": "c35ac8d3",
   "metadata": {},
   "outputs": [
    {
     "data": {
      "text/plain": [
       "<seaborn.axisgrid.FacetGrid at 0x2ab47dbcf370>"
      ]
     },
     "execution_count": 42,
     "metadata": {},
     "output_type": "execute_result"
    },
    {
     "data": {
      "image/png": "[encoded data removed]",
      "text/plain": [
       "<Figure size 411.875x360 with 1 Axes>"
      ]
     },
     "metadata": {
      "needs_background": "light"
     },
     "output_type": "display_data"
    }
   ],
   "source": [
    "sent_len = sns.displot(data=sent_db,\n",
    "                       x='sent_len',\n",
    "                       hue='is_nar',\n",
    "                       kind='kde',\n",
    "                       common_norm=False,  # Normalize each distribution independently\n",
    "                      )\n",
    "sent_len.set(xlim=(0, 500))"
   ]
  },
  {
   "cell_type": "code",
   "execution_count": 43,
   "id": "ad6d2b7c",
   "metadata": {},
   "outputs": [
    {
     "data": {
      "text/plain": [
       "<seaborn.axisgrid.FacetGrid at 0x2ab47db4f970>"
      ]
     },
     "execution_count": 43,
     "metadata": {},
     "output_type": "execute_result"
    },
    {
     "data": {
      "image/png": "[encoded data removed]",
      "text/plain": [
       "<Figure size 408.75x360 with 1 Axes>"
      ]
     },
     "metadata": {
      "needs_background": "light"
     },
     "output_type": "display_data"
    }
   ],
   "source": [
    "x,y = 'is_nar', 'is_client'\n",
    "\n",
    "(sent_db\n",
    ".groupby(x)[y]\n",
    ".value_counts(normalize=True)\n",
    ".mul(100)\n",
    ".rename('percent')\n",
    ".reset_index()\n",
    ".pipe((sns.catplot,'data'), x=x,y='percent',hue=y,kind='bar'))"
   ]
  },
  {
   "cell_type": "code",
   "execution_count": 10,
   "id": "33d738d5",
   "metadata": {},
   "outputs": [
    {
     "data": {
      "text/html": [
       "<div>\n",
       "<style scoped>\n",
       "    .dataframe tbody tr th:only-of-type {\n",
       "        vertical-align: middle;\n",
       "    }\n",
       "\n",
       "    .dataframe tbody tr th {\n",
       "        vertical-align: top;\n",
       "    }\n",
       "\n",
       "    .dataframe thead th {\n",
       "        text-align: right;\n",
       "    }\n",
       "</style>\n",
       "<table border=\"1\" class=\"dataframe\">\n",
       "  <thead>\n",
       "    <tr style=\"text-align: right;\">\n",
       "      <th></th>\n",
       "      <th>doc_idx</th>\n",
       "      <th>par_idx</th>\n",
       "      <th>par_len</th>\n",
       "      <th>par_type</th>\n",
       "      <th>is_nar</th>\n",
       "    </tr>\n",
       "  </thead>\n",
       "  <tbody>\n",
       "    <tr>\n",
       "      <th>0</th>\n",
       "      <td>1</td>\n",
       "      <td>0</td>\n",
       "      <td>52.000000</td>\n",
       "      <td>client</td>\n",
       "      <td>0.000000</td>\n",
       "    </tr>\n",
       "    <tr>\n",
       "      <th>1</th>\n",
       "      <td>1</td>\n",
       "      <td>1</td>\n",
       "      <td>11.000000</td>\n",
       "      <td>therapist</td>\n",
       "      <td>0.000000</td>\n",
       "    </tr>\n",
       "    <tr>\n",
       "      <th>2</th>\n",
       "      <td>1</td>\n",
       "      <td>2</td>\n",
       "      <td>72.000000</td>\n",
       "      <td>client</td>\n",
       "      <td>0.000000</td>\n",
       "    </tr>\n",
       "    <tr>\n",
       "      <th>3</th>\n",
       "      <td>1</td>\n",
       "      <td>3</td>\n",
       "      <td>17.000000</td>\n",
       "      <td>therapist</td>\n",
       "      <td>0.000000</td>\n",
       "    </tr>\n",
       "    <tr>\n",
       "      <th>4</th>\n",
       "      <td>1</td>\n",
       "      <td>4</td>\n",
       "      <td>9.000000</td>\n",
       "      <td>client</td>\n",
       "      <td>0.000000</td>\n",
       "    </tr>\n",
       "    <tr>\n",
       "      <th>...</th>\n",
       "      <td>...</td>\n",
       "      <td>...</td>\n",
       "      <td>...</td>\n",
       "      <td>...</td>\n",
       "      <td>...</td>\n",
       "    </tr>\n",
       "    <tr>\n",
       "      <th>15063</th>\n",
       "      <td>80</td>\n",
       "      <td>80</td>\n",
       "      <td>608.000000</td>\n",
       "      <td>client</td>\n",
       "      <td>1.000000</td>\n",
       "    </tr>\n",
       "    <tr>\n",
       "      <th>15064</th>\n",
       "      <td>80</td>\n",
       "      <td>81</td>\n",
       "      <td>48.000000</td>\n",
       "      <td>therapist</td>\n",
       "      <td>0.000000</td>\n",
       "    </tr>\n",
       "    <tr>\n",
       "      <th>15065</th>\n",
       "      <td>80</td>\n",
       "      <td>82</td>\n",
       "      <td>11.000000</td>\n",
       "      <td>client</td>\n",
       "      <td>0.000000</td>\n",
       "    </tr>\n",
       "    <tr>\n",
       "      <th>15066</th>\n",
       "      <td>80</td>\n",
       "      <td>83</td>\n",
       "      <td>20.000000</td>\n",
       "      <td>therapist</td>\n",
       "      <td>0.000000</td>\n",
       "    </tr>\n",
       "    <tr>\n",
       "      <th>15067</th>\n",
       "      <td>80</td>\n",
       "      <td>84</td>\n",
       "      <td>12.000000</td>\n",
       "      <td>client</td>\n",
       "      <td>0.000000</td>\n",
       "    </tr>\n",
       "  </tbody>\n",
       "</table>\n",
       "<p>15068 rows × 5 columns</p>\n",
       "</div>"
      ],
      "text/plain": [
       "       doc_idx  par_idx    par_len   par_type   is_nar\n",
       "0            1        0  52.000000     client 0.000000\n",
       "1            1        1  11.000000  therapist 0.000000\n",
       "2            1        2  72.000000     client 0.000000\n",
       "3            1        3  17.000000  therapist 0.000000\n",
       "4            1        4   9.000000     client 0.000000\n",
       "...        ...      ...        ...        ...      ...\n",
       "15063       80       80 608.000000     client 1.000000\n",
       "15064       80       81  48.000000  therapist 0.000000\n",
       "15065       80       82  11.000000     client 0.000000\n",
       "15066       80       83  20.000000  therapist 0.000000\n",
       "15067       80       84  12.000000     client 0.000000\n",
       "\n",
       "[15068 rows x 5 columns]"
      ]
     },
     "execution_count": 10,
     "metadata": {},
     "output_type": "execute_result"
    }
   ],
   "source": [
    "par_db = concat_dbs(\"par_db\",['par_len','par_type','is_nar'])\n",
    "par_db"
   ]
  },
  {
   "cell_type": "code",
   "execution_count": 11,
   "id": "105e2f30",
   "metadata": {},
   "outputs": [
    {
     "data": {
      "text/plain": [
       "<seaborn.axisgrid.FacetGrid at 0x2ab47d7295e0>"
      ]
     },
     "execution_count": 11,
     "metadata": {},
     "output_type": "execute_result"
    },
    {
     "data": {
      "image/png": "[encoded data removed]",
      "text/plain": [
       "<Figure size 411.875x360 with 1 Axes>"
      ]
     },
     "metadata": {
      "needs_background": "light"
     },
     "output_type": "display_data"
    }
   ],
   "source": [
    "par_len_char = sns.displot(data=par_db,\n",
    "                       x='par_len',\n",
    "                       hue='is_nar',\n",
    "                       kind='kde',\n",
    "                       common_norm=False,  # Normalize each distribution independently\n",
    "                      )\n",
    "par_len_char.set(title='Paragraph length in characters')"
   ]
  },
  {
   "cell_type": "markdown",
   "id": "2970abc5",
   "metadata": {},
   "source": [
    "### Chek distrib of par len in sentences"
   ]
  },
  {
   "cell_type": "code",
   "execution_count": 12,
   "id": "ddc44f8e",
   "metadata": {},
   "outputs": [
    {
     "data": {
      "text/html": [
       "<div>\n",
       "<style scoped>\n",
       "    .dataframe tbody tr th:only-of-type {\n",
       "        vertical-align: middle;\n",
       "    }\n",
       "\n",
       "    .dataframe tbody tr th {\n",
       "        vertical-align: top;\n",
       "    }\n",
       "\n",
       "    .dataframe thead th {\n",
       "        text-align: right;\n",
       "    }\n",
       "</style>\n",
       "<table border=\"1\" class=\"dataframe\">\n",
       "  <thead>\n",
       "    <tr style=\"text-align: right;\">\n",
       "      <th></th>\n",
       "      <th>doc_idx</th>\n",
       "      <th>sent_idx</th>\n",
       "      <th>is_nar</th>\n",
       "      <th>par_db_idx</th>\n",
       "      <th>nar_idx</th>\n",
       "      <th>sent_len</th>\n",
       "      <th>is_client</th>\n",
       "    </tr>\n",
       "  </thead>\n",
       "  <tbody>\n",
       "    <tr>\n",
       "      <th>0</th>\n",
       "      <td>1</td>\n",
       "      <td>0</td>\n",
       "      <td>0.000000</td>\n",
       "      <td>0.000000</td>\n",
       "      <td>0.000000</td>\n",
       "      <td>50.000000</td>\n",
       "      <td>1</td>\n",
       "    </tr>\n",
       "    <tr>\n",
       "      <th>1</th>\n",
       "      <td>1</td>\n",
       "      <td>1</td>\n",
       "      <td>0.000000</td>\n",
       "      <td>1.000000</td>\n",
       "      <td>0.000000</td>\n",
       "      <td>9.000000</td>\n",
       "      <td>0</td>\n",
       "    </tr>\n",
       "    <tr>\n",
       "      <th>2</th>\n",
       "      <td>1</td>\n",
       "      <td>2</td>\n",
       "      <td>0.000000</td>\n",
       "      <td>2.000000</td>\n",
       "      <td>0.000000</td>\n",
       "      <td>18.000000</td>\n",
       "      <td>1</td>\n",
       "    </tr>\n",
       "    <tr>\n",
       "      <th>3</th>\n",
       "      <td>1</td>\n",
       "      <td>3</td>\n",
       "      <td>0.000000</td>\n",
       "      <td>3.000000</td>\n",
       "      <td>0.000000</td>\n",
       "      <td>16.000000</td>\n",
       "      <td>0</td>\n",
       "    </tr>\n",
       "    <tr>\n",
       "      <th>4</th>\n",
       "      <td>1</td>\n",
       "      <td>4</td>\n",
       "      <td>0.000000</td>\n",
       "      <td>4.000000</td>\n",
       "      <td>0.000000</td>\n",
       "      <td>8.000000</td>\n",
       "      <td>1</td>\n",
       "    </tr>\n",
       "    <tr>\n",
       "      <th>...</th>\n",
       "      <td>...</td>\n",
       "      <td>...</td>\n",
       "      <td>...</td>\n",
       "      <td>...</td>\n",
       "      <td>...</td>\n",
       "      <td>...</td>\n",
       "      <td>...</td>\n",
       "    </tr>\n",
       "    <tr>\n",
       "      <th>36319</th>\n",
       "      <td>80</td>\n",
       "      <td>390</td>\n",
       "      <td>1.000000</td>\n",
       "      <td>80.000000</td>\n",
       "      <td>5.000000</td>\n",
       "      <td>28.000000</td>\n",
       "      <td>1</td>\n",
       "    </tr>\n",
       "    <tr>\n",
       "      <th>36320</th>\n",
       "      <td>80</td>\n",
       "      <td>391</td>\n",
       "      <td>0.000000</td>\n",
       "      <td>81.000000</td>\n",
       "      <td>0.000000</td>\n",
       "      <td>45.000000</td>\n",
       "      <td>0</td>\n",
       "    </tr>\n",
       "    <tr>\n",
       "      <th>36321</th>\n",
       "      <td>80</td>\n",
       "      <td>392</td>\n",
       "      <td>0.000000</td>\n",
       "      <td>82.000000</td>\n",
       "      <td>0.000000</td>\n",
       "      <td>9.000000</td>\n",
       "      <td>1</td>\n",
       "    </tr>\n",
       "    <tr>\n",
       "      <th>36322</th>\n",
       "      <td>80</td>\n",
       "      <td>393</td>\n",
       "      <td>0.000000</td>\n",
       "      <td>83.000000</td>\n",
       "      <td>0.000000</td>\n",
       "      <td>19.000000</td>\n",
       "      <td>0</td>\n",
       "    </tr>\n",
       "    <tr>\n",
       "      <th>36323</th>\n",
       "      <td>80</td>\n",
       "      <td>394</td>\n",
       "      <td>0.000000</td>\n",
       "      <td>84.000000</td>\n",
       "      <td>0.000000</td>\n",
       "      <td>9.000000</td>\n",
       "      <td>1</td>\n",
       "    </tr>\n",
       "  </tbody>\n",
       "</table>\n",
       "<p>36324 rows × 7 columns</p>\n",
       "</div>"
      ],
      "text/plain": [
       "       doc_idx  sent_idx   is_nar  par_db_idx  nar_idx  sent_len  is_client\n",
       "0            1         0 0.000000    0.000000 0.000000 50.000000          1\n",
       "1            1         1 0.000000    1.000000 0.000000  9.000000          0\n",
       "2            1         2 0.000000    2.000000 0.000000 18.000000          1\n",
       "3            1         3 0.000000    3.000000 0.000000 16.000000          0\n",
       "4            1         4 0.000000    4.000000 0.000000  8.000000          1\n",
       "...        ...       ...      ...         ...      ...       ...        ...\n",
       "36319       80       390 1.000000   80.000000 5.000000 28.000000          1\n",
       "36320       80       391 0.000000   81.000000 0.000000 45.000000          0\n",
       "36321       80       392 0.000000   82.000000 0.000000  9.000000          1\n",
       "36322       80       393 0.000000   83.000000 0.000000 19.000000          0\n",
       "36323       80       394 0.000000   84.000000 0.000000  9.000000          1\n",
       "\n",
       "[36324 rows x 7 columns]"
      ]
     },
     "execution_count": 12,
     "metadata": {},
     "output_type": "execute_result"
    }
   ],
   "source": [
    "sent_db"
   ]
  },
  {
   "cell_type": "code",
   "execution_count": 13,
   "id": "d88455c7",
   "metadata": {},
   "outputs": [
    {
     "data": {
      "text/plain": [
       "doc_idx  par_db_idx\n",
       "1        0.000000       1\n",
       "         1.000000       1\n",
       "         2.000000       1\n",
       "         3.000000       1\n",
       "         4.000000       1\n",
       "                       ..\n",
       "80       80.000000     11\n",
       "         81.000000      1\n",
       "         82.000000      1\n",
       "         83.000000      1\n",
       "         84.000000      1\n",
       "Name: sent_idx, Length: 14918, dtype: int64"
      ]
     },
     "execution_count": 13,
     "metadata": {},
     "output_type": "execute_result"
    }
   ],
   "source": [
    "par_len_count = sent_db.groupby(['doc_idx','par_db_idx'])['sent_idx'].count()\n",
    "par_len_count"
   ]
  },
  {
   "cell_type": "code",
   "execution_count": 14,
   "id": "52068361",
   "metadata": {},
   "outputs": [
    {
     "data": {
      "text/plain": [
       "count   14918.000000\n",
       "mean        2.434911\n",
       "std         3.717304\n",
       "min         1.000000\n",
       "25%         1.000000\n",
       "50%         1.000000\n",
       "75%         2.000000\n",
       "max       111.000000\n",
       "Name: sent_idx, dtype: float64"
      ]
     },
     "execution_count": 14,
     "metadata": {},
     "output_type": "execute_result"
    }
   ],
   "source": [
    "par_len_count.describe()"
   ]
  },
  {
   "cell_type": "code",
   "execution_count": 15,
   "id": "9a7b4303",
   "metadata": {},
   "outputs": [
    {
     "data": {
      "text/plain": [
       "((57, 19.0), 111)"
      ]
     },
     "execution_count": 15,
     "metadata": {},
     "output_type": "execute_result"
    }
   ],
   "source": [
    "# find par with max length\n",
    "par_len_count.idxmax(),par_len_count.max()"
   ]
  },
  {
   "cell_type": "code",
   "execution_count": 16,
   "id": "884d2128",
   "metadata": {},
   "outputs": [
    {
     "data": {
      "text/plain": [
       "1.0"
      ]
     },
     "execution_count": 16,
     "metadata": {},
     "output_type": "execute_result"
    }
   ],
   "source": [
    "par_len_count.reset_index(drop=True).median()"
   ]
  },
  {
   "cell_type": "code",
   "execution_count": 17,
   "id": "b3da94af",
   "metadata": {},
   "outputs": [
    {
     "data": {
      "text/plain": [
       "8.0"
      ]
     },
     "execution_count": 17,
     "metadata": {},
     "output_type": "execute_result"
    }
   ],
   "source": [
    "par_len_count.quantile(q=0.95)"
   ]
  },
  {
   "cell_type": "code",
   "execution_count": 18,
   "id": "9b925c47",
   "metadata": {},
   "outputs": [
    {
     "data": {
      "text/plain": [
       "1.0"
      ]
     },
     "execution_count": 18,
     "metadata": {},
     "output_type": "execute_result"
    }
   ],
   "source": [
    "par_len_count.quantile(q=0.5)"
   ]
  },
  {
   "cell_type": "code",
   "execution_count": 19,
   "id": "7fc2c91e",
   "metadata": {},
   "outputs": [
    {
     "data": {
      "text/plain": [
       "2.0"
      ]
     },
     "execution_count": 19,
     "metadata": {},
     "output_type": "execute_result"
    }
   ],
   "source": [
    "par_len_count.quantile(q=0.75)"
   ]
  },
  {
   "cell_type": "code",
   "execution_count": 20,
   "id": "0b50f5dc",
   "metadata": {},
   "outputs": [
    {
     "data": {
      "text/plain": [
       "<seaborn.axisgrid.FacetGrid at 0x2ab47b6fd730>"
      ]
     },
     "execution_count": 20,
     "metadata": {},
     "output_type": "execute_result"
    },
    {
     "data": {
      "text/plain": [
       "<Figure size 1080x576 with 0 Axes>"
      ]
     },
     "metadata": {},
     "output_type": "display_data"
    },
    {
     "data": {
      "image/png": "[encoded data removed]",
      "text/plain": [
       "<Figure size 411.875x360 with 1 Axes>"
      ]
     },
     "metadata": {
      "needs_background": "light"
     },
     "output_type": "display_data"
    }
   ],
   "source": [
    "plt.figure(figsize = (15,8))\n",
    "par_len_sent =  sns.displot(data=sent_db,x=par_len_count.reset_index(drop=True),\n",
    "                            kind='kde',\n",
    "                            hue='is_nar',\n",
    "                            common_norm=False\n",
    "                           )\n",
    "par_len_sent.set(title=\"Paragraph length in sentences\",xlim=((1,8)))"
   ]
  },
  {
   "cell_type": "code",
   "execution_count": 21,
   "id": "a137d380",
   "metadata": {},
   "outputs": [
    {
     "data": {
      "text/plain": [
       "[Text(0.5, 1.0, 'Paragraph length in sentences')]"
      ]
     },
     "execution_count": 21,
     "metadata": {},
     "output_type": "execute_result"
    },
    {
     "data": {
      "image/png": "[encoded data removed]",
      "text/plain": [
       "<Figure size 1080x576 with 1 Axes>"
      ]
     },
     "metadata": {
      "needs_background": "light"
     },
     "output_type": "display_data"
    }
   ],
   "source": [
    "plt.figure(figsize = (15,8))\n",
    "par_len_sent_b = sns.boxenplot(data=sent_db,\n",
    "                               x=par_len_count.reset_index(drop=True),\n",
    "                               hue='is_nar')\n",
    "par_len_sent_b.grid()\n",
    "par_len_sent_b.set(title=\"Paragraph length in sentences\")"
   ]
  },
  {
   "cell_type": "code",
   "execution_count": 176,
   "id": "7b11d64d",
   "metadata": {},
   "outputs": [
    {
     "data": {
      "text/html": [
       "<div>\n",
       "<style scoped>\n",
       "    .dataframe tbody tr th:only-of-type {\n",
       "        vertical-align: middle;\n",
       "    }\n",
       "\n",
       "    .dataframe tbody tr th {\n",
       "        vertical-align: top;\n",
       "    }\n",
       "\n",
       "    .dataframe thead th {\n",
       "        text-align: right;\n",
       "    }\n",
       "</style>\n",
       "<table border=\"1\" class=\"dataframe\">\n",
       "  <thead>\n",
       "    <tr style=\"text-align: right;\">\n",
       "      <th></th>\n",
       "      <th>dox_idx</th>\n",
       "      <th>sent_count</th>\n",
       "      <th>nar_count</th>\n",
       "      <th>avr_sent_len_nar</th>\n",
       "      <th>avr_sent_len_not_nar</th>\n",
       "      <th>avr_nar_sent_count</th>\n",
       "      <th>client_count</th>\n",
       "      <th>therapist_count</th>\n",
       "      <th>nar_client_count</th>\n",
       "      <th>nar_therapist_count</th>\n",
       "      <th>not_nar_client_count</th>\n",
       "      <th>not_nar_therapist_count</th>\n",
       "    </tr>\n",
       "  </thead>\n",
       "  <tbody>\n",
       "    <tr>\n",
       "      <th>0</th>\n",
       "      <td>2.000000</td>\n",
       "      <td>632.000000</td>\n",
       "      <td>5.000000</td>\n",
       "      <td>37.285714</td>\n",
       "      <td>35.348754</td>\n",
       "      <td>17.500000</td>\n",
       "      <td>351.000000</td>\n",
       "      <td>281.000000</td>\n",
       "      <td>63.000000</td>\n",
       "      <td>7.000000</td>\n",
       "      <td>288.000000</td>\n",
       "      <td>274.000000</td>\n",
       "    </tr>\n",
       "  </tbody>\n",
       "</table>\n",
       "</div>"
      ],
      "text/plain": [
       "   dox_idx  sent_count  nar_count  avr_sent_len_nar  avr_sent_len_not_nar  \\\n",
       "0 2.000000  632.000000   5.000000         37.285714             35.348754   \n",
       "\n",
       "   avr_nar_sent_count  client_count  therapist_count  nar_client_count  \\\n",
       "0           17.500000    351.000000       281.000000         63.000000   \n",
       "\n",
       "   nar_therapist_count  not_nar_client_count  not_nar_therapist_count  \n",
       "0             7.000000            288.000000               274.000000  "
      ]
     },
     "execution_count": 176,
     "metadata": {},
     "output_type": "execute_result"
    }
   ],
   "source": [
    "i= 2\n",
    "sent_db = pd.read_csv(os.path.join(os.getcwd(),defines.PATH_TO_DFS,\"{:02d}_sent_db.csv\".format(i)))\n",
    "curr_idx = doc_stat_db.shape[0]\n",
    "doc_stat_db.loc[curr_idx,'dox_idx'] = i\n",
    "doc_stat_db.loc[curr_idx,'sent_count'] = len(sent_db.index)\n",
    "doc_stat_db.loc[curr_idx,'nar_count'] = sent_db['nar_idx'].nunique()\n",
    "doc_stat_db.loc[curr_idx,'avr_sent_len_nar'] = sent_db.query('is_nar == 1')['sent_len'].mean()\n",
    "doc_stat_db.loc[curr_idx,'avr_sent_len_not_nar'] = sent_db.query('is_nar == 0')['sent_len'].mean()\n",
    "doc_stat_db.loc[curr_idx,'avr_nar_sent_count'] = sent_db.query('is_nar == 1').groupby('nar_idx').size().mean()\n",
    "doc_stat_db.loc[curr_idx,'client_count'] = sent_db[sent_db['is_client'] == 1].shape[0]\n",
    "doc_stat_db.loc[curr_idx,'therapist_count'] = sent_db[sent_db['is_client'] == 0].shape[0]\n",
    "doc_stat_db.loc[curr_idx,'nar_client_count'] = sent_db[(sent_db['is_client'] == 1) & (sent_db['is_nar']==1)].shape[0]\n",
    "doc_stat_db.loc[curr_idx,'nar_therapist_count'] = sent_db[(sent_db['is_client'] == 0) & (sent_db['is_nar']==1)].shape[0]\n",
    "doc_stat_db.loc[curr_idx,'not_nar_client_count'] = sent_db[(sent_db['is_client'] == 1) & (sent_db['is_nar']==0)].shape[0]\n",
    "doc_stat_db.loc[curr_idx,'not_nar_therapist_count'] = sent_db[(sent_db['is_client'] == 0) & (sent_db['is_nar']==0)].shape[0]\n",
    "\n",
    "\n",
    "\n",
    "doc_stat_db"
   ]
  },
  {
   "cell_type": "code",
   "execution_count": 33,
   "id": "ba567a46",
   "metadata": {},
   "outputs": [
    {
     "data": {
      "text/plain": [
       "<seaborn.axisgrid.FacetGrid at 0x2ab47dc545b0>"
      ]
     },
     "execution_count": 33,
     "metadata": {},
     "output_type": "execute_result"
    },
    {
     "data": {
      "text/plain": [
       "<Figure size 1080x576 with 0 Axes>"
      ]
     },
     "metadata": {},
     "output_type": "display_data"
    },
    {
     "data": {
      "image/png": "[encoded data removed]",
      "text/plain": [
       "<Figure size 360x360 with 1 Axes>"
      ]
     },
     "metadata": {
      "needs_background": "light"
     },
     "output_type": "display_data"
    }
   ],
   "source": [
    "plt.figure(figsize = (15,8))\n",
    "nar_len_count = sent_db.query(\"is_nar == 1\").groupby(['doc_idx','nar_idx']).size()\n",
    "nar_len_sent =  sns.displot(data=sent_db.query(\"is_nar == 1\"),\n",
    "                            x=nar_len_count.reset_index(drop=True),\n",
    "                            kind='kde',\n",
    "                            common_norm=False\n",
    "                           )\n",
    "nar_len_sent.set(title=\"Narratuve length in sentences\",xlim=((1,150)))"
   ]
  },
  {
   "cell_type": "code",
   "execution_count": null,
   "id": "a8c333ae",
   "metadata": {},
   "outputs": [],
   "source": []
  }
 ],
 "metadata": {
  "kernelspec": {
   "display_name": "Python 3",
   "language": "python",
   "name": "python3"
  },
  "language_info": {
   "codemirror_mode": {
    "name": "ipython",
    "version": 3
   },
   "file_extension": ".py",
   "mimetype": "text/x-python",
   "name": "python",
   "nbconvert_exporter": "python",
   "pygments_lexer": "ipython3",
   "version": "3.8.5"
  }
 },
 "nbformat": 4,
 "nbformat_minor": 5
}
